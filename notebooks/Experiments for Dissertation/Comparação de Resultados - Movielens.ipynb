{
 "cells": [
  {
   "cell_type": "code",
   "execution_count": 1,
   "metadata": {},
   "outputs": [],
   "source": [
    "import pandas as pd\n",
    "import numpy as np"
   ]
  },
  {
   "cell_type": "code",
   "execution_count": 2,
   "metadata": {},
   "outputs": [],
   "source": [
    "files = !ls output | grep movielens1m"
   ]
  },
  {
   "cell_type": "code",
   "execution_count": 3,
   "metadata": {},
   "outputs": [
    {
     "data": {
      "text/plain": [
       "['movielens1m ISGD results_matrix dfu_average.csv',\n",
       " 'movielens1m ISGD results_matrix dfu_median.csv',\n",
       " 'movielens1m ISGD results_matrix dfu_none.csv',\n",
       " 'movielens1m ISGD results_matrix dfu_random.csv',\n",
       " 'movielens1m RAISGD results_matrix dfu_average.csv',\n",
       " 'movielens1m RAISGD results_matrix dfu_median.csv',\n",
       " 'movielens1m RAISGD results_matrix dfu_none.csv',\n",
       " 'movielens1m RSISGD results_matrix dfu_average.csv',\n",
       " 'movielens1m RSISGD results_matrix dfu_median.csv',\n",
       " 'movielens1m RSISGD results_matrix dfu_none.csv',\n",
       " 'movielens1m RSISGD results_matrix dfu_random.csv']"
      ]
     },
     "execution_count": 3,
     "metadata": {},
     "output_type": "execute_result"
    }
   ],
   "source": [
    "files"
   ]
  },
  {
   "cell_type": "code",
   "execution_count": 5,
   "metadata": {},
   "outputs": [],
   "source": [
    "results = [ pd.read_csv(f'output/{file}').to_numpy() for file in files ]"
   ]
  },
  {
   "cell_type": "code",
   "execution_count": 6,
   "metadata": {},
   "outputs": [
    {
     "data": {
      "image/png": "[encoded data removed]",
      "text/plain": [
       "<Figure size 432x288 with 2 Axes>"
      ]
     },
     "metadata": {
      "needs_background": "light"
     },
     "output_type": "display_data"
    }
   ],
   "source": [
    "mean_diff_matrix = np.zeros(shape=( len(results), len(results) ) )\n",
    "for i in range( len(results) ):\n",
    "        for j in range(len(results) ):\n",
    "            mean_diff = (results[i] - results[j]).mean()\n",
    "            mean_diff_matrix[i, j] = mean_diff\n",
    "import seaborn as sns\n",
    "sns.heatmap( mean_diff_matrix , cmap='Spectral_r' );"
   ]
  },
  {
   "cell_type": "code",
   "execution_count": 10,
   "metadata": {},
   "outputs": [
    {
     "data": {
      "text/plain": [
       "8"
      ]
     },
     "execution_count": 10,
     "metadata": {},
     "output_type": "execute_result"
    }
   ],
   "source": [
    "top_result = mean_diff_matrix.sum(axis=1).argmax()\n",
    "top_result"
   ]
  },
  {
   "cell_type": "code",
   "execution_count": 11,
   "metadata": {},
   "outputs": [
    {
     "data": {
      "text/plain": [
       "'movielens1m RSISGD results_matrix dfu_median.csv'"
      ]
     },
     "execution_count": 11,
     "metadata": {},
     "output_type": "execute_result"
    }
   ],
   "source": [
    "files[top_result]"
   ]
  },
  {
   "cell_type": "code",
   "execution_count": 9,
   "metadata": {},
   "outputs": [
    {
     "name": "stdout",
     "output_type": "stream",
     "text": [
      "0 1\n",
      "1 2\n",
      "1 3\n",
      "1 4\n",
      "1 5\n",
      "5 6\n",
      "5 7\n",
      "5 8\n",
      "8 9\n",
      "8 10\n"
     ]
    },
    {
     "data": {
      "text/plain": [
       "(8, 1)"
      ]
     },
     "execution_count": 9,
     "metadata": {},
     "output_type": "execute_result"
    }
   ],
   "source": [
    "def find_top_result(results, top_result=0):\n",
    "    for i in range( top_result, len(results) ):\n",
    "        for j in range(i+1, len(results) ):\n",
    "            mean_diff = (results[i] - results[j]).mean()\n",
    "            print(i,j)\n",
    "            if mean_diff>=0:\n",
    "                top_result = i\n",
    "                if j == len(results)-1:\n",
    "                    return top_result, 1\n",
    "            else:\n",
    "                top_result = j\n",
    "                top_result, flag = find_top_result(results, top_result=top_result)\n",
    "                if flag:\n",
    "                    return top_result, flag\n",
    "\n",
    "find_top_result(results, top_result=0)\n"
   ]
  }
 ],
 "metadata": {
  "interpreter": {
   "hash": "93164e1ba08303257f1d4f69270dc17556e83319233af9462e0c249160adc063"
  },
  "kernelspec": {
   "display_name": "Python 3.6.9 ('dissertacao')",
   "language": "python",
   "name": "python3"
  },
  "language_info": {
   "codemirror_mode": {
    "name": "ipython",
    "version": 3
   },
   "file_extension": ".py",
   "mimetype": "text/x-python",
   "name": "python",
   "nbconvert_exporter": "python",
   "pygments_lexer": "ipython3",
   "version": "3.6.9"
  },
  "orig_nbformat": 4
 },
 "nbformat": 4,
 "nbformat_minor": 2
}
