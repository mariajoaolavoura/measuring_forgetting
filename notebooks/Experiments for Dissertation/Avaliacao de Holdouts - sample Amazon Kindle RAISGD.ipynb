{
 "cells": [
  {
   "cell_type": "markdown",
   "metadata": {},
   "source": [
    "## Avaliação em holdouts - Amazon Kindle"
   ]
  },
  {
   "cell_type": "markdown",
   "metadata": {},
   "source": [
    "Interactions in the 'Amazon Kindle' dataset are SOMEWHAT well distributed.\n",
    "Several users are present during the whole considered period (2014):\n",
    "<!-- * 37067 users of 190248 (19.484%) occurr in 80.0% or more months. -->\n",
    "* 3385 users of 5849 (57.873%) occurr in 80.0% or more months."
   ]
  },
  {
   "cell_type": "code",
   "execution_count": 1,
   "metadata": {},
   "outputs": [],
   "source": [
    "import os\n",
    "import sys\n",
    "sys.path.append(os.path.abspath('') + '/..')"
   ]
  },
  {
   "cell_type": "code",
   "execution_count": 2,
   "metadata": {},
   "outputs": [],
   "source": [
    "from data import ImplicitData, getBucketsHoldouts\n",
    "from plot_utils import lineplot_recallxholdout, recall_heatmap\n",
    "from dataset_evaluation_utils import *\n",
    "from recommenders_implicit import ISGD, RAISGD, RSISGD  # ISGD framework, BISGD,\n",
    "from eval_implicit import EvaluateHoldouts, EvaluateAndStore # EvaluateAndStore para guardar estados do modelo e holdouts, a avaliação prequencial de ratings implicitos é opcional, , EvalHoldout\n",
    "\n",
    "from datetime import datetime\n",
    "import joblib\n",
    "import pandas as pd \n",
    "import numpy as np \n",
    "import seaborn as sns\n",
    "import matplotlib.pyplot as plt\n",
    "sns.set_style('whitegrid')"
   ]
  },
  {
   "cell_type": "markdown",
   "metadata": {},
   "source": [
    "___\n",
    "## BWT FWT"
   ]
  },
  {
   "cell_type": "markdown",
   "metadata": {},
   "source": [
    "ACC, BWT, e FWT - Lopez-Paz e Ranzato GEM"
   ]
  },
  {
   "cell_type": "code",
   "execution_count": 3,
   "metadata": {},
   "outputs": [],
   "source": [
    "def avg_recall(results_matrix): # Lopez-Paz e Ranzato GEM 2017\n",
    "    return np.mean( np.diag(results_matrix) )\n",
    "\n",
    "def compute_BWT(results_matrix): # Lopez-Paz e Ranzato GEM 2017\n",
    "    BWT = []\n",
    "    n_checkpoints = results_matrix.shape[0]\n",
    "    for T in range(1, n_checkpoints): # 1 means holdout 2, 2 means 3, so on\n",
    "        Rti = results_matrix.iloc[T, 0:T] # get models performances' on previous holdouts\n",
    "        Rii = np.diag(results_matrix)[0:T] # get models performances' on their closest holdouts (diagonal)\n",
    "        E = sum( Rti - Rii ) # future models performances' - performances' of models closest to holdouts (diagonal)\n",
    "        BWT.append( E/T ) # store average BWT for model\n",
    "    return BWT, np.mean( BWT ) # return BWT and average BWT for all models\n",
    "\n",
    "def compute_FWT(results_matrix): # Díaz-Rodriguez et al. 2018\n",
    "    upper_tri = results_matrix.to_numpy()[np.triu_indices(results_matrix.shape[0], k=1)]\n",
    "    return np.mean(upper_tri)"
   ]
  },
  {
   "cell_type": "markdown",
   "metadata": {
    "tags": []
   },
   "source": [
    "___\n",
    "# Amazon Kindle\n",
    "Small subset, ratings only.  \n",
    "https://nijianmo.github.io/amazon/index.html\n"
   ]
  },
  {
   "cell_type": "markdown",
   "metadata": {},
   "source": [
    "### RAISGD"
   ]
  },
  {
   "cell_type": "code",
   "execution_count": 4,
   "metadata": {},
   "outputs": [],
   "source": [
    "buckets = joblib.load('output/amazonkindle_dump/2nd_sample_buckets.joblib')\n",
    "holdouts = joblib.load('output/amazonkindle_dump/2nd_sample_holdouts.joblib')"
   ]
  },
  {
   "cell_type": "markdown",
   "metadata": {},
   "source": [
    "Hyperparameters"
   ]
  },
  {
   "cell_type": "code",
   "execution_count": 18,
   "metadata": {},
   "outputs": [],
   "source": [
    "# importa dataset 'books playlists'\n",
    "data = pd.read_csv('output/amazonkindle_dump/2nd_sampled_amazon_kindle.csv')\n",
    "dataset_name = 'Amazon_Kindle'\n",
    "user_col = 'user_id'\n",
    "item_col = 'item_id'"
   ]
  },
  {
   "cell_type": "code",
   "execution_count": 20,
   "metadata": {
    "collapsed": true,
    "jupyter": {
     "outputs_hidden": true
    }
   },
   "outputs": [
    {
     "name": "stdout",
     "output_type": "stream",
     "text": [
      "0.0 %\n",
      "0.411522633744856 %\n",
      "0.823045267489712 %\n",
      "1.2345679012345678 %\n",
      "1.646090534979424 %\n",
      "2.05761316872428 %\n",
      "2.4691358024691357 %\n",
      "2.880658436213992 %\n",
      "3.292181069958848 %\n",
      "3.7037037037037037 %\n",
      "4.11522633744856 %\n",
      "4.526748971193416 %\n",
      "4.938271604938271 %\n",
      "5.349794238683128 %\n",
      "5.761316872427984 %\n",
      "6.172839506172839 %\n",
      "6.584362139917696 %\n",
      "6.995884773662551 %\n",
      "7.407407407407407 %\n",
      "7.818930041152264 %\n",
      "8.23045267489712 %\n",
      "8.641975308641975 %\n",
      "9.053497942386832 %\n",
      "9.465020576131687 %\n",
      "9.876543209876543 %\n",
      "10.2880658436214 %\n",
      "10.699588477366255 %\n",
      "11.11111111111111 %\n",
      "11.522633744855968 %\n",
      "11.934156378600823 %\n",
      "12.345679012345679 %\n",
      "12.757201646090534 %\n",
      "13.168724279835391 %\n",
      "13.580246913580247 %\n",
      "13.991769547325102 %\n",
      "14.40329218106996 %\n",
      "14.814814814814815 %\n",
      "15.22633744855967 %\n",
      "15.637860082304528 %\n",
      "16.049382716049383 %\n",
      "16.46090534979424 %\n",
      "16.872427983539094 %\n",
      "17.28395061728395 %\n",
      "17.695473251028808 %\n",
      "18.106995884773664 %\n",
      "18.51851851851852 %\n",
      "18.930041152263374 %\n",
      "19.34156378600823 %\n",
      "19.753086419753085 %\n",
      "20.16460905349794 %\n",
      "20.5761316872428 %\n",
      "20.987654320987655 %\n",
      "21.39917695473251 %\n",
      "21.810699588477366 %\n",
      "22.22222222222222 %\n",
      "22.633744855967077 %\n",
      "23.045267489711936 %\n",
      "23.45679012345679 %\n",
      "23.868312757201647 %\n",
      "24.279835390946502 %\n",
      "24.691358024691358 %\n",
      "25.102880658436213 %\n",
      "25.51440329218107 %\n",
      "25.925925925925927 %\n",
      "26.337448559670783 %\n",
      "26.74897119341564 %\n",
      "27.160493827160494 %\n",
      "27.57201646090535 %\n",
      "27.983539094650205 %\n",
      "28.395061728395063 %\n",
      "28.80658436213992 %\n",
      "29.218106995884774 %\n",
      "29.62962962962963 %\n",
      "30.041152263374485 %\n",
      "30.45267489711934 %\n",
      "30.864197530864196 %\n",
      "31.275720164609055 %\n",
      "31.68724279835391 %\n",
      "32.098765432098766 %\n",
      "32.510288065843625 %\n",
      "32.92181069958848 %\n",
      "33.333333333333336 %\n",
      "33.74485596707819 %\n",
      "34.15637860082305 %\n",
      "34.5679012345679 %\n",
      "34.97942386831276 %\n",
      "35.390946502057616 %\n",
      "35.80246913580247 %\n",
      "36.21399176954733 %\n",
      "36.62551440329218 %\n",
      "37.03703703703704 %\n",
      "37.44855967078189 %\n",
      "37.86008230452675 %\n",
      "38.27160493827161 %\n",
      "38.68312757201646 %\n",
      "39.09465020576132 %\n",
      "39.50617283950617 %\n",
      "39.91769547325103 %\n",
      "40.32921810699588 %\n",
      "40.74074074074074 %\n",
      "41.1522633744856 %\n",
      "41.56378600823045 %\n",
      "41.97530864197531 %\n",
      "42.38683127572016 %\n",
      "42.79835390946502 %\n",
      "43.20987654320987 %\n",
      "43.62139917695473 %\n",
      "44.03292181069959 %\n",
      "44.44444444444444 %\n",
      "44.8559670781893 %\n",
      "45.267489711934154 %\n",
      "45.67901234567901 %\n",
      "46.09053497942387 %\n",
      "46.50205761316872 %\n",
      "46.91358024691358 %\n",
      "47.325102880658434 %\n",
      "47.73662551440329 %\n",
      "48.148148148148145 %\n",
      "48.559670781893004 %\n",
      "48.97119341563786 %\n",
      "49.382716049382715 %\n",
      "49.794238683127574 %\n",
      "50.205761316872426 %\n",
      "50.617283950617285 %\n",
      "51.02880658436214 %\n",
      "51.440329218106996 %\n",
      "51.851851851851855 %\n",
      "52.26337448559671 %\n",
      "52.674897119341566 %\n",
      "53.08641975308642 %\n",
      "53.49794238683128 %\n",
      "53.90946502057613 %\n",
      "54.32098765432099 %\n",
      "54.732510288065846 %\n",
      "55.1440329218107 %\n",
      "55.55555555555556 %\n",
      "55.96707818930041 %\n",
      "56.37860082304527 %\n",
      "56.79012345679013 %\n",
      "57.20164609053498 %\n",
      "57.61316872427984 %\n",
      "58.02469135802469 %\n",
      "58.43621399176955 %\n",
      "58.8477366255144 %\n",
      "59.25925925925926 %\n",
      "59.67078189300412 %\n",
      "60.08230452674897 %\n",
      "60.49382716049383 %\n",
      "60.90534979423868 %\n",
      "61.31687242798354 %\n",
      "61.72839506172839 %\n",
      "62.13991769547325 %\n",
      "62.55144032921811 %\n",
      "62.96296296296296 %\n",
      "63.37448559670782 %\n",
      "63.78600823045267 %\n",
      "64.19753086419753 %\n",
      "64.60905349794238 %\n",
      "65.02057613168725 %\n",
      "65.4320987654321 %\n",
      "65.84362139917695 %\n",
      "66.2551440329218 %\n",
      "66.66666666666667 %\n",
      "67.07818930041152 %\n",
      "67.48971193415638 %\n",
      "67.90123456790124 %\n",
      "68.3127572016461 %\n",
      "68.72427983539094 %\n",
      "69.1358024691358 %\n",
      "69.54732510288066 %\n",
      "69.95884773662551 %\n",
      "70.37037037037037 %\n",
      "70.78189300411523 %\n",
      "71.19341563786008 %\n",
      "71.60493827160494 %\n",
      "72.01646090534979 %\n",
      "72.42798353909465 %\n",
      "72.8395061728395 %\n",
      "73.25102880658436 %\n",
      "73.66255144032922 %\n",
      "74.07407407407408 %\n",
      "74.48559670781893 %\n",
      "74.89711934156378 %\n",
      "75.30864197530865 %\n",
      "75.7201646090535 %\n",
      "76.13168724279835 %\n",
      "76.54320987654322 %\n",
      "76.95473251028807 %\n",
      "77.36625514403292 %\n",
      "77.77777777777777 %\n",
      "78.18930041152264 %\n",
      "78.60082304526749 %\n",
      "79.01234567901234 %\n",
      "79.42386831275721 %\n",
      "79.83539094650206 %\n",
      "80.24691358024691 %\n",
      "80.65843621399176 %\n",
      "81.06995884773663 %\n",
      "81.48148148148148 %\n",
      "81.89300411522633 %\n",
      "82.3045267489712 %\n",
      "82.71604938271605 %\n",
      "83.1275720164609 %\n",
      "83.53909465020575 %\n",
      "83.95061728395062 %\n",
      "84.36213991769547 %\n",
      "84.77366255144032 %\n",
      "85.18518518518519 %\n",
      "85.59670781893004 %\n",
      "86.0082304526749 %\n",
      "86.41975308641975 %\n",
      "86.83127572016461 %\n",
      "87.24279835390946 %\n",
      "87.65432098765432 %\n",
      "88.06584362139918 %\n",
      "88.47736625514403 %\n",
      "88.88888888888889 %\n",
      "89.30041152263375 %\n",
      "89.7119341563786 %\n",
      "90.12345679012346 %\n",
      "90.53497942386831 %\n",
      "90.94650205761317 %\n",
      "91.35802469135803 %\n",
      "91.76954732510288 %\n",
      "92.18106995884774 %\n",
      "92.5925925925926 %\n",
      "93.00411522633745 %\n",
      "93.4156378600823 %\n",
      "93.82716049382717 %\n",
      "94.23868312757202 %\n",
      "94.65020576131687 %\n",
      "95.06172839506173 %\n",
      "95.47325102880659 %\n",
      "95.88477366255144 %\n",
      "96.29629629629629 %\n",
      "96.70781893004116 %\n",
      "97.11934156378601 %\n",
      "97.53086419753086 %\n",
      "97.94238683127573 %\n",
      "98.35390946502058 %\n",
      "98.76543209876543 %\n",
      "99.17695473251028 %\n",
      "99.58847736625515 %\n",
      "CPU times: user 4h 28min 5s, sys: 12h 6min 17s, total: 16h 34min 22s\n",
      "Wall time: 2h 47min 23s\n"
     ]
    },
    {
     "data": {
      "text/plain": [
       "(243, 243, 0.002129925452609159)"
      ]
     },
     "execution_count": 20,
     "metadata": {},
     "output_type": "execute_result"
    }
   ],
   "source": [
    "%%time\n",
    "import itertools\n",
    "from eval_implicit import EvalPrequential\n",
    "def grid_search(model, stream, random_seed = 10, interleaved=10):    \n",
    "    num_factors = [100, 150, 200]\n",
    "    num_iter = [2, 5, 8]\n",
    "    learn_rate = [0.1, 0.25, 0.5]\n",
    "    regularization = [0.3, 0.4, 0.5]\n",
    "    num_nodes = [4, 8, 16]\n",
    "    grid = [num_factors, num_iter, learn_rate, regularization, num_nodes]\n",
    "    grid = list(itertools.product(*grid))\n",
    "    results = []\n",
    "    for i, hp in enumerate(grid):\n",
    "        print(((i*100)/len(grid)), '%')\n",
    "        empty_stream = ImplicitData([], [])\n",
    "        nf, ni, lr, reg, nn = hp\n",
    "        m = model(empty_stream, nf, ni, lr, reg, reg, random_seed)\n",
    "        e = EvalPrequential(m, stream, metrics = [\"Recall@N\"])\n",
    "        result = e.Evaluate(start_eval=0, count=stream.size, interleaved=interleaved)\n",
    "        results.append( np.mean(result['Recall@N']) )\n",
    "    return grid, results    \n",
    "\n",
    "# OPTIONAL FOR NOW\n",
    "prop = 0.05\n",
    "hp_sample = data.iloc[:round( data.shape[0]*prop )]\n",
    "stream = ImplicitData(hp_sample[user_col], hp_sample[item_col]) #(data['playlist_id'],data['track_id'])    \n",
    "grid, results = grid_search(model=RAISGD, stream=stream, random_seed=10, interleaved=1 )\n",
    "len(grid), len(results), max(results) # (243, 243, 0.003461128860489883)"
   ]
  },
  {
   "cell_type": "code",
   "execution_count": 21,
   "metadata": {},
   "outputs": [
    {
     "name": "stdout",
     "output_type": "stream",
     "text": [
      "(100, 5, 0.5, 0.3, 4)\n"
     ]
    }
   ],
   "source": [
    "print ( grid[ np.argmax( results ) ] )\n",
    "num_factors, num_iter, learn_rate, regularization, num_nodes = grid[ np.argmax( results ) ] # (100, 8, 0.5, 0.3, 4)\n",
    "# define hyperparameters (SAME AS LASTFM) ????\n",
    "# num_factors = 160\n",
    "# num_iter = 4\n",
    "# learn_rate = 0.5\n",
    "# regularization = 0.4\n",
    "# num_nodes = 8"
   ]
  },
  {
   "cell_type": "code",
   "execution_count": 22,
   "metadata": {},
   "outputs": [],
   "source": [
    "# transforma interações em objeto que contem mappings usuário-itens e item-usuários, contém também métodos de suporte. recebe listas\n",
    "# stream = ImplicitData(data[user_col], data[item_col])\n",
    "# O modelo deve ser iniciado com uma lista vazia\n",
    "empty_stream = ImplicitData([], [])\n",
    "# Se o stream for passado, ao excluir itens conhecidos o recall é sempre 0. Ao permitir a recomendação de itens já vistos, o recall não é 0.\n",
    "model = RAISGD(empty_stream, num_factors, num_iter, learn_rate = learn_rate, u_regularization = regularization, i_regularization = regularization, random_seed = 10)"
   ]
  },
  {
   "cell_type": "code",
   "execution_count": 23,
   "metadata": {},
   "outputs": [
    {
     "name": "stdout",
     "output_type": "stream",
     "text": [
      "CPU times: user 475 ms, sys: 83.5 ms, total: 558 ms\n",
      "Wall time: 461 ms\n"
     ]
    }
   ],
   "source": [
    "%%time\n",
    "# 30min 25s\n",
    "# criamos instancia de EvaluateHoldouts para treinar o modelo e criar checkpoints\n",
    "eval = EvaluateHoldouts(model=model, buckets=buckets, holdouts=holdouts)"
   ]
  },
  {
   "cell_type": "code",
   "execution_count": 24,
   "metadata": {},
   "outputs": [
    {
     "name": "stdout",
     "output_type": "stream",
     "text": [
      "----------------------------------------------------------------------------------------------------\n",
      "Train bucket 0\n",
      "Test Holdout 0\n",
      "Test Holdout 1\n",
      "recommendations not made for users in holdout 1 x checkpoint 0: 1767\n",
      "----------------------------------------------------------------------------------------------------\n",
      "Train bucket 1\n",
      "Test Holdout 0\n",
      "Test Holdout 1\n",
      "CPU times: user 2h 34min 4s, sys: 4h 32min 56s, total: 7h 7min 1s\n",
      "Wall time: 1h 17min\n"
     ]
    }
   ],
   "source": [
    "%%time\n",
    "# 1h 23min 37s\n",
    "eval.Train_Evaluate(N_recommendations=20, exclude_known_items=True, default_user='none')"
   ]
  },
  {
   "cell_type": "code",
   "execution_count": 26,
   "metadata": {},
   "outputs": [
    {
     "data": {
      "image/png": "[encoded data removed]",
      "text/plain": [
       "<Figure size 1080x720 with 2 Axes>"
      ]
     },
     "metadata": {},
     "output_type": "display_data"
    }
   ],
   "source": [
    "rm = eval.results_matrix\n",
    "df = pd.DataFrame(rm)\n",
    "df.to_csv('output/amazonkindle_dump/2nd_sample_amazon_kindle month_bucket RAISGD results.csv', index=False)\n",
    "recall_heatmap(df,               \n",
    "               round_point=3,\n",
    "    title='Recall@20 for RAISGD models across Holdouts - Amazon Kindle',\n",
    "    filepath='images/heatmaps/amazonkindle_dump/2nd_sample_amazon_kindle month_bucket RAISGD heatmap.png') #='images/heatmaps/palco_2010 month_bucket ISGD heatmap.png'"
   ]
  },
  {
   "cell_type": "code",
   "execution_count": 27,
   "metadata": {},
   "outputs": [
    {
     "data": {
      "text/plain": [
       "0.009844311693599773"
      ]
     },
     "execution_count": 27,
     "metadata": {},
     "output_type": "execute_result"
    }
   ],
   "source": [
    "arecall = avg_recall(df)\n",
    "arecall"
   ]
  },
  {
   "cell_type": "code",
   "execution_count": 28,
   "metadata": {},
   "outputs": [
    {
     "data": {
      "text/plain": [
       "([-0.0009629272989889262], -0.0009629272989889262)"
      ]
     },
     "execution_count": 28,
     "metadata": {},
     "output_type": "execute_result"
    }
   ],
   "source": [
    "BWT, meanBWT = compute_BWT(df)\n",
    "BWT, meanBWT"
   ]
  },
  {
   "cell_type": "code",
   "execution_count": 29,
   "metadata": {},
   "outputs": [
    {
     "data": {
      "text/plain": [
       "0.0021245301519856184"
      ]
     },
     "execution_count": 29,
     "metadata": {},
     "output_type": "execute_result"
    }
   ],
   "source": [
    "FWT = compute_FWT(df)\n",
    "FWT\n",
    "# que itens que usuario utilizou no passado e deixou de consumir o sistema ainda pode recomendar"
   ]
  },
  {
   "cell_type": "code",
   "execution_count": 31,
   "metadata": {},
   "outputs": [
    {
     "data": {
      "text/plain": [
       "['output/amazonkindle_dump/2nd_sample_amazon_kindle month_bucket RAISGD eval time.joblib']"
      ]
     },
     "execution_count": 31,
     "metadata": {},
     "output_type": "execute_result"
    }
   ],
   "source": [
    "joblib.dump(eval.IncrementalTraining_time_record, 'output/amazonkindle_dump/2nd_sample_amazon_kindle month_bucket RAISGD training time.joblib')\n",
    "joblib.dump(eval.EvaluateHoldouts_time_record, 'output/amazonkindle_dump/2nd_sample_amazon_kindle month_bucket RAISGD eval time.joblib')"
   ]
  },
  {
   "cell_type": "code",
   "execution_count": 1,
   "metadata": {},
   "outputs": [],
   "source": [
    "import pandas as pd\n",
    "import numpy as np\n",
    "\n",
    "def avg_recall(results_matrix):\n",
    "    return np.mean( np.diag(results_matrix) )\n",
    "\n",
    "def compute_BWT(results_matrix): # Díaz-Rodriguez et al. 2018\n",
    "    diff = []\n",
    "    n_checkpoints = results_matrix.shape[0]\n",
    "    for i in range(1, n_checkpoints): # 1 means holdout 2, 2 means 3, so on\n",
    "        for j in range(i):\n",
    "            Rij = results_matrix.iloc[i,j] # get models performances' on previous holdouts\n",
    "            Rjj = results_matrix.iloc[j,j] # get models performances' on their closest holdouts (diagonal)\n",
    "            # print(Rij, Rjj)\n",
    "            diff.append( Rij - Rjj ) # future models performances' - performances' of models closest to holdouts (diagonal)\n",
    "            # print(diff)\n",
    "    BWT = sum(diff) / ( n_checkpoints*(n_checkpoints-1) / 2 ) # store average BWT for model\n",
    "    return BWT, diff # return BWT and average BWT for all models\n",
    "\n",
    "def compute_FWT(results_matrix): # Díaz-Rodriguez et al. 2018\n",
    "    upper_tri = results_matrix.to_numpy()[np.triu_indices(results_matrix.shape[0], k=1)]\n",
    "    return np.mean(upper_tri)"
   ]
  },
  {
   "cell_type": "code",
   "execution_count": 2,
   "metadata": {},
   "outputs": [],
   "source": [
    "df = pd.read_csv('output/amazonkindle_dump/2nd_sample_amazon_kindle month_bucket RAISGD results.csv')"
   ]
  },
  {
   "cell_type": "code",
   "execution_count": 9,
   "metadata": {},
   "outputs": [
    {
     "data": {
      "text/plain": [
       "0.00984"
      ]
     },
     "execution_count": 9,
     "metadata": {},
     "output_type": "execute_result"
    }
   ],
   "source": [
    "avg_recall(df).round(5)"
   ]
  },
  {
   "cell_type": "code",
   "execution_count": 10,
   "metadata": {},
   "outputs": [
    {
     "data": {
      "text/plain": [
       "-0.000963"
      ]
     },
     "execution_count": 10,
     "metadata": {},
     "output_type": "execute_result"
    }
   ],
   "source": [
    "BWT, diff = compute_BWT(df)\n",
    "BWT.round(6)"
   ]
  },
  {
   "cell_type": "code",
   "execution_count": 11,
   "metadata": {},
   "outputs": [
    {
     "data": {
      "text/plain": [
       "0.00212"
      ]
     },
     "execution_count": 11,
     "metadata": {},
     "output_type": "execute_result"
    }
   ],
   "source": [
    "compute_FWT(df).round(5)"
   ]
  }
 ],
 "metadata": {
  "kernelspec": {
   "display_name": "Python 3.6.9 ('dissertacao')",
   "language": "python",
   "name": "python3"
  },
  "language_info": {
   "codemirror_mode": {
    "name": "ipython",
    "version": 3
   },
   "file_extension": ".py",
   "mimetype": "text/x-python",
   "name": "python",
   "nbconvert_exporter": "python",
   "pygments_lexer": "ipython3",
   "version": "3.6.9 (default, Mar 15 2022, 13:55:28) \n[GCC 8.4.0]"
  },
  "vscode": {
   "interpreter": {
    "hash": "93164e1ba08303257f1d4f69270dc17556e83319233af9462e0c249160adc063"
   }
  }
 },
 "nbformat": 4,
 "nbformat_minor": 4
}
