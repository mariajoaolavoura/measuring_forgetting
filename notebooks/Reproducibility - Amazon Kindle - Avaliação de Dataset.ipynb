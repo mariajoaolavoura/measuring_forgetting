{
 "cells": [
  {
   "cell_type": "markdown",
   "metadata": {},
   "source": [
    "Neste notebook:\n",
    "* Avaliação de usuários por bucket  \n",
    "    * em média, e mediana, em quantos buckets os utilizadores estão.  \n",
    "    * quantos usuários novos estão em cada bucket e quantos não ocorrem\n",
    "\n",
    "Objetivo:\n",
    "* explorar caracteristicas dos datasets que permitam\n",
    "    * avaliar se o dataset é util para a análise  \n",
    "    * escolher o número de buckets  "
   ]
  },
  {
   "cell_type": "markdown",
   "metadata": {},
   "source": [
    "Vamos definir o numero de itens em cada bucket como 50k"
   ]
  },
  {
   "cell_type": "code",
   "execution_count": null,
   "metadata": {},
   "outputs": [],
   "source": [
    "import os\n",
    "import sys\n",
    "sys.path.append(os.path.abspath('') + '/..')"
   ]
  },
  {
   "cell_type": "code",
   "execution_count": null,
   "metadata": {},
   "outputs": [],
   "source": [
    "from data import ImplicitData\n",
    "from recommenders_implicit import ISGD  # ISGD framework, BISGD,\n",
    "from eval_implicit import EvaluateAndStore # EvaluateAndStore para guardar estados do modelo e holdouts, a avaliação prequencial de ratings implicitos é opcional, , EvalHoldout\n",
    "from dataset_evaluation_utils import * #get_interactions_info, plot_interactions_per_month, plot_user_presence_distribution, plot_n_users_per_bucket, plot_bucket_size\n",
    "\n",
    "from datetime import datetime, timedelta\n",
    "\n",
    "import joblib\n",
    "import pandas as pd \n",
    "import numpy as np \n",
    "import seaborn as sns\n",
    "import matplotlib.pyplot as plt\n",
    "sns.set_style('whitegrid')"
   ]
  },
  {
   "cell_type": "markdown",
   "metadata": {
    "tags": []
   },
   "source": [
    "___\n",
    "# Amazon Kindle_store\n",
    "Small subset, ratings only.  \n",
    "https://nijianmo.github.io/amazon/index.html\n"
   ]
  },
  {
   "cell_type": "code",
   "execution_count": 40,
   "metadata": {},
   "outputs": [],
   "source": [
    "# importa dataset 'amazon kindle store'\n",
    "data = pd.read_csv(\"../datasets/Kindle_Store.csv\", names=['user_id', 'item_id', 'rating', 'timestamp'])\n",
    "dataset_name = 'Amazon_Kindle_Store'\n",
    "user_col = 'user_id'"
   ]
  },
  {
   "cell_type": "code",
   "execution_count": 41,
   "metadata": {},
   "outputs": [
    {
     "data": {
      "text/plain": [
       "(5722988, 4)"
      ]
     },
     "execution_count": 41,
     "metadata": {},
     "output_type": "execute_result"
    }
   ],
   "source": [
    "data.shape"
   ]
  },
  {
   "cell_type": "code",
   "execution_count": 42,
   "metadata": {},
   "outputs": [
    {
     "data": {
      "text/html": [
       "<div>\n",
       "<style scoped>\n",
       "    .dataframe tbody tr th:only-of-type {\n",
       "        vertical-align: middle;\n",
       "    }\n",
       "\n",
       "    .dataframe tbody tr th {\n",
       "        vertical-align: top;\n",
       "    }\n",
       "\n",
       "    .dataframe thead th {\n",
       "        text-align: right;\n",
       "    }\n",
       "</style>\n",
       "<table border=\"1\" class=\"dataframe\">\n",
       "  <thead>\n",
       "    <tr style=\"text-align: right;\">\n",
       "      <th></th>\n",
       "      <th>user_id</th>\n",
       "      <th>item_id</th>\n",
       "      <th>rating</th>\n",
       "      <th>timestamp</th>\n",
       "    </tr>\n",
       "  </thead>\n",
       "  <tbody>\n",
       "    <tr>\n",
       "      <th>0</th>\n",
       "      <td>1423600150</td>\n",
       "      <td>A27UD5HYAKBL97</td>\n",
       "      <td>4.0</td>\n",
       "      <td>1356739200</td>\n",
       "    </tr>\n",
       "    <tr>\n",
       "      <th>1</th>\n",
       "      <td>1423600150</td>\n",
       "      <td>A8P5DK8LLOYGH</td>\n",
       "      <td>5.0</td>\n",
       "      <td>1330992000</td>\n",
       "    </tr>\n",
       "    <tr>\n",
       "      <th>2</th>\n",
       "      <td>1423600150</td>\n",
       "      <td>A3OM9W7DXSUIIY</td>\n",
       "      <td>5.0</td>\n",
       "      <td>1250035200</td>\n",
       "    </tr>\n",
       "    <tr>\n",
       "      <th>3</th>\n",
       "      <td>1423600150</td>\n",
       "      <td>A3DPAR2PWB9BT8</td>\n",
       "      <td>3.0</td>\n",
       "      <td>1162512000</td>\n",
       "    </tr>\n",
       "    <tr>\n",
       "      <th>4</th>\n",
       "      <td>1423600150</td>\n",
       "      <td>A2ONTBSAX7GIOV</td>\n",
       "      <td>5.0</td>\n",
       "      <td>1144713600</td>\n",
       "    </tr>\n",
       "  </tbody>\n",
       "</table>\n",
       "</div>"
      ],
      "text/plain": [
       "      user_id         item_id  rating   timestamp\n",
       "0  1423600150  A27UD5HYAKBL97     4.0  1356739200\n",
       "1  1423600150   A8P5DK8LLOYGH     5.0  1330992000\n",
       "2  1423600150  A3OM9W7DXSUIIY     5.0  1250035200\n",
       "3  1423600150  A3DPAR2PWB9BT8     3.0  1162512000\n",
       "4  1423600150  A2ONTBSAX7GIOV     5.0  1144713600"
      ]
     },
     "execution_count": 42,
     "metadata": {},
     "output_type": "execute_result"
    }
   ],
   "source": [
    "data.head()"
   ]
  },
  {
   "cell_type": "code",
   "execution_count": 43,
   "metadata": {},
   "outputs": [
    {
     "data": {
      "text/plain": [
       "B00C2WDD5I     True\n",
       "B00YN6XHMU     True\n",
       "B00DMCV7K0     True\n",
       "B0142IHZPI     True\n",
       "B00XSSYR50     True\n",
       "              ...  \n",
       "B004E9U81O    False\n",
       "B01EUO5SIA    False\n",
       "B018IDWS64    False\n",
       "B00DXXGFFK    False\n",
       "B003SE6Z04    False\n",
       "Name: user_id, Length: 493849, dtype: bool"
      ]
     },
     "execution_count": 43,
     "metadata": {},
     "output_type": "execute_result"
    }
   ],
   "source": [
    "data['user_id'].value_counts() >= 5"
   ]
  },
  {
   "cell_type": "code",
   "execution_count": 44,
   "metadata": {},
   "outputs": [],
   "source": [
    "k_core_users = data['user_id'].value_counts()[ data['user_id'].value_counts() >= 5 ].index"
   ]
  },
  {
   "cell_type": "code",
   "execution_count": 45,
   "metadata": {},
   "outputs": [],
   "source": [
    "data = data.set_index('user_id').loc[k_core_users].reset_index()"
   ]
  },
  {
   "cell_type": "code",
   "execution_count": 46,
   "metadata": {},
   "outputs": [
    {
     "data": {
      "text/plain": [
       "(5138479, 4)"
      ]
     },
     "execution_count": 46,
     "metadata": {},
     "output_type": "execute_result"
    }
   ],
   "source": [
    "data.shape"
   ]
  },
  {
   "cell_type": "markdown",
   "metadata": {},
   "source": [
    "### Keep only high ratings"
   ]
  },
  {
   "cell_type": "code",
   "execution_count": 47,
   "metadata": {},
   "outputs": [
    {
     "data": {
      "text/plain": [
       "<Axes: ylabel='Frequency'>"
      ]
     },
     "execution_count": 47,
     "metadata": {},
     "output_type": "execute_result"
    },
    {
     "data": {
      "image/png": "[encoded data removed]",
      "text/plain": [
       "<Figure size 640x480 with 1 Axes>"
      ]
     },
     "metadata": {},
     "output_type": "display_data"
    }
   ],
   "source": [
    "data['rating'].plot(kind='hist')"
   ]
  },
  {
   "cell_type": "code",
   "execution_count": 48,
   "metadata": {},
   "outputs": [],
   "source": [
    "pos_ratings = np.quantile(data['rating'], q=0.8)"
   ]
  },
  {
   "cell_type": "code",
   "execution_count": 49,
   "metadata": {},
   "outputs": [
    {
     "data": {
      "text/plain": [
       "5.0"
      ]
     },
     "execution_count": 49,
     "metadata": {},
     "output_type": "execute_result"
    }
   ],
   "source": [
    "pos_ratings"
   ]
  },
  {
   "cell_type": "code",
   "execution_count": 50,
   "metadata": {},
   "outputs": [],
   "source": [
    "data = data[ data['rating'] == pos_ratings ].drop(columns='rating')"
   ]
  },
  {
   "cell_type": "code",
   "execution_count": 51,
   "metadata": {},
   "outputs": [
    {
     "data": {
      "text/plain": [
       "3133324"
      ]
     },
     "execution_count": 51,
     "metadata": {},
     "output_type": "execute_result"
    }
   ],
   "source": [
    "# number of remaining cases\n",
    "data.shape[0]"
   ]
  },
  {
   "cell_type": "markdown",
   "metadata": {},
   "source": [
    "### Convert timestamp"
   ]
  },
  {
   "cell_type": "code",
   "execution_count": 52,
   "metadata": {},
   "outputs": [
    {
     "name": "stdout",
     "output_type": "stream",
     "text": [
      "CPU times: total: 1.25 s\n",
      "Wall time: 5.01 s\n"
     ]
    }
   ],
   "source": [
    "%%time\n",
    "# data['date'] = data['timestamp'].apply(lambda x: datetime.fromtimestamp(x) ) # convert unix timestamp to date\n",
    "# data = data.sort_values(by='date') # sort by date\n",
    "\n",
    "\n",
    "data['date'] = data['timestamp'].apply(lambda x: datetime.utcfromtimestamp(x) ) # convert unix timestamp to date\n",
    "data = data.sort_values(by='date') # sort by date"
   ]
  },
  {
   "cell_type": "code",
   "execution_count": 53,
   "metadata": {},
   "outputs": [
    {
     "data": {
      "text/html": [
       "<div>\n",
       "<style scoped>\n",
       "    .dataframe tbody tr th:only-of-type {\n",
       "        vertical-align: middle;\n",
       "    }\n",
       "\n",
       "    .dataframe tbody tr th {\n",
       "        vertical-align: top;\n",
       "    }\n",
       "\n",
       "    .dataframe thead th {\n",
       "        text-align: right;\n",
       "    }\n",
       "</style>\n",
       "<table border=\"1\" class=\"dataframe\">\n",
       "  <thead>\n",
       "    <tr style=\"text-align: right;\">\n",
       "      <th></th>\n",
       "      <th>user_id</th>\n",
       "      <th>item_id</th>\n",
       "      <th>timestamp</th>\n",
       "      <th>date</th>\n",
       "    </tr>\n",
       "  </thead>\n",
       "  <tbody>\n",
       "    <tr>\n",
       "      <th>108347</th>\n",
       "      <td>B01D6NM4VA</td>\n",
       "      <td>A3IMAGCSRXL12Y</td>\n",
       "      <td>872208000</td>\n",
       "      <td>1997-08-22</td>\n",
       "    </tr>\n",
       "    <tr>\n",
       "      <th>2988516</th>\n",
       "      <td>B0046A9VX2</td>\n",
       "      <td>A2KTTIY7HSLBFV</td>\n",
       "      <td>872208000</td>\n",
       "      <td>1997-08-22</td>\n",
       "    </tr>\n",
       "    <tr>\n",
       "      <th>3877537</th>\n",
       "      <td>B003R4ZOP2</td>\n",
       "      <td>A20UN1U2RQ0Y36</td>\n",
       "      <td>872640000</td>\n",
       "      <td>1997-08-27</td>\n",
       "    </tr>\n",
       "    <tr>\n",
       "      <th>624889</th>\n",
       "      <td>B01CKOE0VS</td>\n",
       "      <td>A2MWX5AW7CF0S6</td>\n",
       "      <td>872985600</td>\n",
       "      <td>1997-08-31</td>\n",
       "    </tr>\n",
       "    <tr>\n",
       "      <th>2111594</th>\n",
       "      <td>B003ZUXXCO</td>\n",
       "      <td>A3HK0X2QGA7O1V</td>\n",
       "      <td>873158400</td>\n",
       "      <td>1997-09-02</td>\n",
       "    </tr>\n",
       "  </tbody>\n",
       "</table>\n",
       "</div>"
      ],
      "text/plain": [
       "            user_id         item_id  timestamp       date\n",
       "108347   B01D6NM4VA  A3IMAGCSRXL12Y  872208000 1997-08-22\n",
       "2988516  B0046A9VX2  A2KTTIY7HSLBFV  872208000 1997-08-22\n",
       "3877537  B003R4ZOP2  A20UN1U2RQ0Y36  872640000 1997-08-27\n",
       "624889   B01CKOE0VS  A2MWX5AW7CF0S6  872985600 1997-08-31\n",
       "2111594  B003ZUXXCO  A3HK0X2QGA7O1V  873158400 1997-09-02"
      ]
     },
     "execution_count": 53,
     "metadata": {},
     "output_type": "execute_result"
    }
   ],
   "source": [
    "data.head()"
   ]
  },
  {
   "cell_type": "code",
   "execution_count": 54,
   "metadata": {},
   "outputs": [
    {
     "data": {
      "text/html": [
       "<div>\n",
       "<style scoped>\n",
       "    .dataframe tbody tr th:only-of-type {\n",
       "        vertical-align: middle;\n",
       "    }\n",
       "\n",
       "    .dataframe tbody tr th {\n",
       "        vertical-align: top;\n",
       "    }\n",
       "\n",
       "    .dataframe thead th {\n",
       "        text-align: right;\n",
       "    }\n",
       "</style>\n",
       "<table border=\"1\" class=\"dataframe\">\n",
       "  <thead>\n",
       "    <tr style=\"text-align: right;\">\n",
       "      <th></th>\n",
       "      <th>user_id</th>\n",
       "      <th>item_id</th>\n",
       "      <th>timestamp</th>\n",
       "      <th>date</th>\n",
       "    </tr>\n",
       "  </thead>\n",
       "  <tbody>\n",
       "    <tr>\n",
       "      <th>2102239</th>\n",
       "      <td>B01GIM0CMY</td>\n",
       "      <td>A1VINNUKFWTBP5</td>\n",
       "      <td>1538352000</td>\n",
       "      <td>2018-10-01</td>\n",
       "    </tr>\n",
       "    <tr>\n",
       "      <th>3413792</th>\n",
       "      <td>B01GDD5XMW</td>\n",
       "      <td>A3R6DJPLQALR0G</td>\n",
       "      <td>1538352000</td>\n",
       "      <td>2018-10-01</td>\n",
       "    </tr>\n",
       "    <tr>\n",
       "      <th>4115845</th>\n",
       "      <td>B01GBSN7HC</td>\n",
       "      <td>A1OMUMW86KOHCZ</td>\n",
       "      <td>1538352000</td>\n",
       "      <td>2018-10-01</td>\n",
       "    </tr>\n",
       "    <tr>\n",
       "      <th>4983855</th>\n",
       "      <td>B01HAKH654</td>\n",
       "      <td>A2XP39MF3QAZV0</td>\n",
       "      <td>1538438400</td>\n",
       "      <td>2018-10-02</td>\n",
       "    </tr>\n",
       "    <tr>\n",
       "      <th>2809732</th>\n",
       "      <td>B01H45TR0M</td>\n",
       "      <td>A2N5017ICZCW2L</td>\n",
       "      <td>1538438400</td>\n",
       "      <td>2018-10-02</td>\n",
       "    </tr>\n",
       "  </tbody>\n",
       "</table>\n",
       "</div>"
      ],
      "text/plain": [
       "            user_id         item_id   timestamp       date\n",
       "2102239  B01GIM0CMY  A1VINNUKFWTBP5  1538352000 2018-10-01\n",
       "3413792  B01GDD5XMW  A3R6DJPLQALR0G  1538352000 2018-10-01\n",
       "4115845  B01GBSN7HC  A1OMUMW86KOHCZ  1538352000 2018-10-01\n",
       "4983855  B01HAKH654  A2XP39MF3QAZV0  1538438400 2018-10-02\n",
       "2809732  B01H45TR0M  A2N5017ICZCW2L  1538438400 2018-10-02"
      ]
     },
     "execution_count": 54,
     "metadata": {},
     "output_type": "execute_result"
    }
   ],
   "source": [
    "data.tail()"
   ]
  },
  {
   "cell_type": "code",
   "execution_count": 55,
   "metadata": {},
   "outputs": [
    {
     "name": "stdout",
     "output_type": "stream",
     "text": [
      "CPU times: total: 24.5 s\n",
      "Wall time: 1min 16s\n"
     ]
    }
   ],
   "source": [
    "%%time\n",
    "# keep year-month\n",
    "data['date'] = data['date'].apply(lambda x: datetime.strptime( str(x.year)+'-'+str(x.month), '%Y-%m' ))"
   ]
  },
  {
   "cell_type": "markdown",
   "metadata": {},
   "source": [
    "## Evaluating Time defined Buckets "
   ]
  },
  {
   "cell_type": "markdown",
   "metadata": {},
   "source": [
    "Sampling the dataset"
   ]
  },
  {
   "cell_type": "code",
   "execution_count": 56,
   "metadata": {},
   "outputs": [
    {
     "name": "stdout",
     "output_type": "stream",
     "text": [
      "CPU times: total: 297 ms\n",
      "Wall time: 1.37 s\n"
     ]
    }
   ],
   "source": [
    "%%time\n",
    "interactions_per_month = data.groupby(by=['date']).count().iloc[:, 0]\n",
    "interactions_per_month.name = 'count'\n",
    "interactions_per_month=interactions_per_month.reset_index()"
   ]
  },
  {
   "cell_type": "code",
   "execution_count": 58,
   "metadata": {},
   "outputs": [
    {
     "data": {
      "image/png": "[encoded data removed]",
      "text/plain": [
       "<Figure size 640x480 with 1 Axes>"
      ]
     },
     "metadata": {},
     "output_type": "display_data"
    }
   ],
   "source": [
    "_ = interactions_per_month.copy()\n",
    "_['date'] = _['date'].dt.year\n",
    "_.groupby('date').sum().plot(kind='bar');"
   ]
  },
  {
   "cell_type": "code",
   "execution_count": 59,
   "metadata": {},
   "outputs": [],
   "source": [
    "# y_filter = (data['date'] < datetime.strptime('2014-04', '%Y-%m')) & (datetime.strptime('2014', '%Y') <= data['date']) \n",
    "# y_filter = (data['date'] < datetime.strptime('2015', '%Y')) & (datetime.strptime('2014', '%Y') <= data['date']) \n",
    "y_filter = (data['date'] < datetime.strptime('2014-03', '%Y-%m')) & (datetime.strptime('2014', '%Y') <= data['date']) "
   ]
  },
  {
   "cell_type": "code",
   "execution_count": 60,
   "metadata": {},
   "outputs": [],
   "source": [
    "data = data[y_filter]"
   ]
  },
  {
   "cell_type": "code",
   "execution_count": 61,
   "metadata": {},
   "outputs": [
    {
     "data": {
      "text/plain": [
       "98610"
      ]
     },
     "execution_count": 61,
     "metadata": {},
     "output_type": "execute_result"
    }
   ],
   "source": [
    "# number of remaining cases\n",
    "data.shape[0]"
   ]
  },
  {
   "cell_type": "code",
   "execution_count": 62,
   "metadata": {},
   "outputs": [
    {
     "data": {
      "text/plain": [
       "((98610, 4), 27803, 72977)"
      ]
     },
     "execution_count": 62,
     "metadata": {},
     "output_type": "execute_result"
    }
   ],
   "source": [
    "data.shape, data.user_id.nunique(), data.item_id.nunique()"
   ]
  },
  {
   "cell_type": "markdown",
   "metadata": {},
   "source": [
    "Sampling the dataset - only most frequent users (overall)"
   ]
  },
  {
   "cell_type": "code",
   "execution_count": 63,
   "metadata": {},
   "outputs": [
    {
     "name": "stdout",
     "output_type": "stream",
     "text": [
      "CPU times: total: 31.2 ms\n",
      "Wall time: 96.3 ms\n"
     ]
    }
   ],
   "source": [
    "%%time\n",
    "# ( data[:1000000].groupby(by=['user_id'])['date'].nunique() > 1 ).sum()\n",
    "user_freq_over_months = data.groupby(by=['user_id'])['date'].nunique() # day and year are the same, so automatically counts per month"
   ]
  },
  {
   "cell_type": "code",
   "execution_count": 83,
   "metadata": {},
   "outputs": [
    {
     "data": {
      "image/png": "[encoded data removed]",
      "text/plain": [
       "<Figure size 640x480 with 1 Axes>"
      ]
     },
     "metadata": {},
     "output_type": "display_data"
    }
   ],
   "source": [
    "user_freq_over_months.plot(kind='hist',\n",
    "                            bins=user_freq_over_months.max(),\n",
    "                            title='user_freq_over_months').set_xlabel('freq_over_months');#.set_ylabel('count')"
   ]
  },
  {
   "cell_type": "code",
   "execution_count": 84,
   "metadata": {},
   "outputs": [],
   "source": [
    "# # sample the dataset to contain only interactions from frequent users (that occur every month).\n",
    "# # there is still a huge number of interactions - 1694351\n",
    "# _ = data.set_index('user_id').loc[freq_users]\n",
    "# _.shape\n",
    "_ = data.set_index('user_id').copy()"
   ]
  },
  {
   "cell_type": "code",
   "execution_count": 85,
   "metadata": {},
   "outputs": [
    {
     "data": {
      "image/png": "[encoded data removed]",
      "text/plain": [
       "<Figure size 640x480 with 1 Axes>"
      ]
     },
     "metadata": {},
     "output_type": "display_data"
    }
   ],
   "source": [
    "# frequency of users that occur every month:\n",
    "_.reset_index()['user_id'].value_counts().plot(kind='box');"
   ]
  },
  {
   "cell_type": "code",
   "execution_count": 86,
   "metadata": {},
   "outputs": [],
   "source": [
    "u = data['user_id'].value_counts().reset_index()['index'].to_list()"
   ]
  },
  {
   "cell_type": "code",
   "execution_count": 87,
   "metadata": {},
   "outputs": [],
   "source": [
    "# to user, or not to use p ?\n",
    "p = (data['user_id'].value_counts()/data['user_id'].shape[0])"
   ]
  },
  {
   "cell_type": "code",
   "execution_count": 88,
   "metadata": {},
   "outputs": [],
   "source": [
    "prop = 0.5\n",
    "s = round( len( u )*prop )"
   ]
  },
  {
   "cell_type": "code",
   "execution_count": 89,
   "metadata": {},
   "outputs": [],
   "source": [
    "np.random.seed(42)\n",
    "sampled_users = list( np.random.choice(u, size=s, replace=False, p=p) ) # , p=p"
   ]
  },
  {
   "cell_type": "code",
   "execution_count": 90,
   "metadata": {},
   "outputs": [
    {
     "data": {
      "text/html": [
       "<div>\n",
       "<style scoped>\n",
       "    .dataframe tbody tr th:only-of-type {\n",
       "        vertical-align: middle;\n",
       "    }\n",
       "\n",
       "    .dataframe tbody tr th {\n",
       "        vertical-align: top;\n",
       "    }\n",
       "\n",
       "    .dataframe thead th {\n",
       "        text-align: right;\n",
       "    }\n",
       "</style>\n",
       "<table border=\"1\" class=\"dataframe\">\n",
       "  <thead>\n",
       "    <tr style=\"text-align: right;\">\n",
       "      <th></th>\n",
       "      <th>item_id</th>\n",
       "      <th>timestamp</th>\n",
       "      <th>date</th>\n",
       "    </tr>\n",
       "    <tr>\n",
       "      <th>user_id</th>\n",
       "      <th></th>\n",
       "      <th></th>\n",
       "      <th></th>\n",
       "    </tr>\n",
       "  </thead>\n",
       "  <tbody>\n",
       "    <tr>\n",
       "      <th>B00HZUGLAQ</th>\n",
       "      <td>A12JOX2KYT309D</td>\n",
       "      <td>1390435200</td>\n",
       "      <td>2014-01-01</td>\n",
       "    </tr>\n",
       "    <tr>\n",
       "      <th>B00HZUGLAQ</th>\n",
       "      <td>A1Y5T4OISWL1Q6</td>\n",
       "      <td>1390435200</td>\n",
       "      <td>2014-01-01</td>\n",
       "    </tr>\n",
       "    <tr>\n",
       "      <th>B00HZUGLAQ</th>\n",
       "      <td>A20NAYUCXCPO1C</td>\n",
       "      <td>1391040000</td>\n",
       "      <td>2014-01-01</td>\n",
       "    </tr>\n",
       "    <tr>\n",
       "      <th>B00HZUGLAQ</th>\n",
       "      <td>A15CSPSLMOCAOU</td>\n",
       "      <td>1391472000</td>\n",
       "      <td>2014-02-01</td>\n",
       "    </tr>\n",
       "    <tr>\n",
       "      <th>B00HZUGLAQ</th>\n",
       "      <td>A34KD80BAXVOZ3</td>\n",
       "      <td>1392336000</td>\n",
       "      <td>2014-02-01</td>\n",
       "    </tr>\n",
       "    <tr>\n",
       "      <th>...</th>\n",
       "      <td>...</td>\n",
       "      <td>...</td>\n",
       "      <td>...</td>\n",
       "    </tr>\n",
       "    <tr>\n",
       "      <th>B00EZ5N6Z2</th>\n",
       "      <td>A2SOO1UXHDTBQY</td>\n",
       "      <td>1393286400</td>\n",
       "      <td>2014-02-01</td>\n",
       "    </tr>\n",
       "    <tr>\n",
       "      <th>B00CPURR22</th>\n",
       "      <td>A1Z6PKT30DP4CL</td>\n",
       "      <td>1388707200</td>\n",
       "      <td>2014-01-01</td>\n",
       "    </tr>\n",
       "    <tr>\n",
       "      <th>B00CPURR22</th>\n",
       "      <td>A3QW65RBPV8Z3R</td>\n",
       "      <td>1389484800</td>\n",
       "      <td>2014-01-01</td>\n",
       "    </tr>\n",
       "    <tr>\n",
       "      <th>B007KOGEQ8</th>\n",
       "      <td>ASQW8Y9DY6LM6</td>\n",
       "      <td>1390608000</td>\n",
       "      <td>2014-01-01</td>\n",
       "    </tr>\n",
       "    <tr>\n",
       "      <th>B007KOGEQ8</th>\n",
       "      <td>A2WN6QZU8KCLGJ</td>\n",
       "      <td>1391385600</td>\n",
       "      <td>2014-02-01</td>\n",
       "    </tr>\n",
       "  </tbody>\n",
       "</table>\n",
       "<p>77145 rows × 3 columns</p>\n",
       "</div>"
      ],
      "text/plain": [
       "                   item_id   timestamp       date\n",
       "user_id                                          \n",
       "B00HZUGLAQ  A12JOX2KYT309D  1390435200 2014-01-01\n",
       "B00HZUGLAQ  A1Y5T4OISWL1Q6  1390435200 2014-01-01\n",
       "B00HZUGLAQ  A20NAYUCXCPO1C  1391040000 2014-01-01\n",
       "B00HZUGLAQ  A15CSPSLMOCAOU  1391472000 2014-02-01\n",
       "B00HZUGLAQ  A34KD80BAXVOZ3  1392336000 2014-02-01\n",
       "...                    ...         ...        ...\n",
       "B00EZ5N6Z2  A2SOO1UXHDTBQY  1393286400 2014-02-01\n",
       "B00CPURR22  A1Z6PKT30DP4CL  1388707200 2014-01-01\n",
       "B00CPURR22  A3QW65RBPV8Z3R  1389484800 2014-01-01\n",
       "B007KOGEQ8   ASQW8Y9DY6LM6  1390608000 2014-01-01\n",
       "B007KOGEQ8  A2WN6QZU8KCLGJ  1391385600 2014-02-01\n",
       "\n",
       "[77145 rows x 3 columns]"
      ]
     },
     "execution_count": 90,
     "metadata": {},
     "output_type": "execute_result"
    }
   ],
   "source": [
    "_.loc[sampled_users]"
   ]
  },
  {
   "cell_type": "code",
   "execution_count": 91,
   "metadata": {},
   "outputs": [
    {
     "data": {
      "text/plain": [
       "<Axes: >"
      ]
     },
     "execution_count": 91,
     "metadata": {},
     "output_type": "execute_result"
    },
    {
     "data": {
      "image/png": "[encoded data removed]",
      "text/plain": [
       "<Figure size 640x480 with 1 Axes>"
      ]
     },
     "metadata": {},
     "output_type": "display_data"
    }
   ],
   "source": [
    "# frequency of users:\n",
    "_.loc[sampled_users].reset_index()['user_id'].value_counts().plot(kind='box')"
   ]
  },
  {
   "cell_type": "code",
   "execution_count": 92,
   "metadata": {},
   "outputs": [
    {
     "name": "stdout",
     "output_type": "stream",
     "text": [
      "CPU times: total: 172 ms\n",
      "Wall time: 541 ms\n"
     ]
    },
    {
     "data": {
      "text/plain": [
       "<Axes: ylabel='Frequency'>"
      ]
     },
     "execution_count": 92,
     "metadata": {},
     "output_type": "execute_result"
    },
    {
     "data": {
      "image/png": "[encoded data removed]",
      "text/plain": [
       "<Figure size 640x480 with 1 Axes>"
      ]
     },
     "metadata": {},
     "output_type": "display_data"
    }
   ],
   "source": [
    "%%time\n",
    "# ( data[:1000000].groupby(by=['user_id'])['date'].nunique() > 1 ).sum()\n",
    "user_freq_over_months_sample = _.loc[sampled_users].reset_index().groupby(by=['user_id'])['date'].nunique()\n",
    "user_freq_over_months_sample.plot(kind='hist',bins=user_freq_over_months_sample.max())"
   ]
  },
  {
   "cell_type": "code",
   "execution_count": 93,
   "metadata": {},
   "outputs": [
    {
     "data": {
      "text/plain": [
       "(27803, 72977)"
      ]
     },
     "execution_count": 93,
     "metadata": {},
     "output_type": "execute_result"
    }
   ],
   "source": [
    "data['user_id'].nunique(), data['item_id'].nunique() # original number of users, original number of items"
   ]
  },
  {
   "cell_type": "code",
   "execution_count": 94,
   "metadata": {},
   "outputs": [
    {
     "data": {
      "text/plain": [
       "(13902, 59241)"
      ]
     },
     "execution_count": 94,
     "metadata": {},
     "output_type": "execute_result"
    }
   ],
   "source": [
    "# _.loc[freq_users].reset_index()['user_id'].nunique(), _.loc[freq_users].reset_index()['item_id'].nunique() # sample number of users, and of items\n",
    "_.loc[sampled_users].reset_index()['user_id'].nunique(), _.loc[sampled_users].reset_index()['item_id'].nunique() # sample number of users, and of items"
   ]
  },
  {
   "cell_type": "code",
   "execution_count": 95,
   "metadata": {},
   "outputs": [
    {
     "data": {
      "image/png": "[encoded data removed]",
      "text/plain": [
       "<Figure size 600x1000 with 1 Axes>"
      ]
     },
     "metadata": {},
     "output_type": "display_data"
    }
   ],
   "source": [
    "# %%time\n",
    "# plot_interactions_per_month(data=_.loc[freq_users].reset_index(), dataset_name=dataset_name)\n",
    "plot_interactions_per_month(data=_.loc[sampled_users].reset_index(), dataset_name=dataset_name)"
   ]
  },
  {
   "cell_type": "code",
   "execution_count": 97,
   "metadata": {},
   "outputs": [
    {
     "name": "stdout",
     "output_type": "stream",
     "text": [
      "77145\n"
     ]
    }
   ],
   "source": [
    "USE_THRESHOLD = True\n",
    "# all users 0.009303\n",
    "# USING p = 0.75 increased performance, by a bit, 0.011201\n",
    "# USING p = 0.5 increased performance, by a bit, 0.010228\n",
    "# USING p = 0.25 increased performance, 0.010836\n",
    "\n",
    "if USE_THRESHOLD: \n",
    "    data = _.loc[sampled_users].reset_index()\n",
    "    data = data.sort_values(by=['timestamp', 'user_id', 'item_id'])\n",
    "    print(data.shape[0])\n",
    "else:\n",
    "    print(data.shape[0])\n",
    "# new sample\n",
    "data.to_csv('output/amazonkindle_dump/2nd_sampled_amazon_kindle.csv', index=False)"
   ]
  },
  {
   "cell_type": "markdown",
   "metadata": {},
   "source": [
    "How many interactions occur in each month / year?"
   ]
  },
  {
   "cell_type": "code",
   "execution_count": 98,
   "metadata": {},
   "outputs": [],
   "source": [
    "interactions_per_month = data.groupby(by=['date']).count().iloc[:, 0]\n",
    "interactions_per_month.name = 'count'\n",
    "interactions_per_month=interactions_per_month.reset_index()"
   ]
  },
  {
   "cell_type": "code",
   "execution_count": 99,
   "metadata": {},
   "outputs": [
    {
     "name": "stdout",
     "output_type": "stream",
     "text": [
      "CPU times: total: 0 ns\n",
      "Wall time: 395 ms\n"
     ]
    },
    {
     "data": {
      "image/png": "[encoded data removed]",
      "text/plain": [
       "<Figure size 600x1000 with 1 Axes>"
      ]
     },
     "metadata": {},
     "output_type": "display_data"
    }
   ],
   "source": [
    "%%time\n",
    "plot_interactions_per_month(data=data, dataset_name=dataset_name)"
   ]
  },
  {
   "cell_type": "markdown",
   "metadata": {},
   "source": [
    "What is the user presence distribution based on month, quarter, and semester?"
   ]
  },
  {
   "cell_type": "code",
   "execution_count": 100,
   "metadata": {},
   "outputs": [
    {
     "name": "stdout",
     "output_type": "stream",
     "text": [
      "0.0 %\n",
      "50.0 %\n",
      "CPU times: total: 41.5 s\n",
      "Wall time: 4min 3s\n"
     ]
    }
   ],
   "source": [
    "%%time\n",
    "# 3min 16s\n",
    "user_presence_df, user_month_interactions = get_interactions_info(data=data, user_col=user_col)\n",
    "\n",
    "# new sample\n",
    "user_presence_df.to_csv('output/amazonkindle_dump/2nd_sample_user_presence_df.csv', index=False)\n",
    "user_month_interactions.to_csv('output/amazonkindle_dump/2nd_sample_user_month_interactions.csv', index=False)"
   ]
  },
  {
   "cell_type": "code",
   "execution_count": 101,
   "metadata": {},
   "outputs": [
    {
     "data": {
      "text/html": [
       "<div>\n",
       "<style scoped>\n",
       "    .dataframe tbody tr th:only-of-type {\n",
       "        vertical-align: middle;\n",
       "    }\n",
       "\n",
       "    .dataframe tbody tr th {\n",
       "        vertical-align: top;\n",
       "    }\n",
       "\n",
       "    .dataframe thead th {\n",
       "        text-align: right;\n",
       "    }\n",
       "</style>\n",
       "<table border=\"1\" class=\"dataframe\">\n",
       "  <thead>\n",
       "    <tr style=\"text-align: right;\">\n",
       "      <th></th>\n",
       "      <th>UserID</th>\n",
       "      <th>month_%</th>\n",
       "    </tr>\n",
       "  </thead>\n",
       "  <tbody>\n",
       "    <tr>\n",
       "      <th>0</th>\n",
       "      <td>B00EPSIIAW</td>\n",
       "      <td>1.0</td>\n",
       "    </tr>\n",
       "    <tr>\n",
       "      <th>1</th>\n",
       "      <td>B00GJ3P9OO</td>\n",
       "      <td>1.0</td>\n",
       "    </tr>\n",
       "    <tr>\n",
       "      <th>2</th>\n",
       "      <td>B00GI2D682</td>\n",
       "      <td>1.0</td>\n",
       "    </tr>\n",
       "    <tr>\n",
       "      <th>3</th>\n",
       "      <td>B00GI293M0</td>\n",
       "      <td>1.0</td>\n",
       "    </tr>\n",
       "    <tr>\n",
       "      <th>4</th>\n",
       "      <td>B00GI28W5E</td>\n",
       "      <td>1.0</td>\n",
       "    </tr>\n",
       "  </tbody>\n",
       "</table>\n",
       "</div>"
      ],
      "text/plain": [
       "       UserID  month_%\n",
       "0  B00EPSIIAW      1.0\n",
       "1  B00GJ3P9OO      1.0\n",
       "2  B00GI2D682      1.0\n",
       "3  B00GI293M0      1.0\n",
       "4  B00GI28W5E      1.0"
      ]
     },
     "execution_count": 101,
     "metadata": {},
     "output_type": "execute_result"
    }
   ],
   "source": [
    "user_presence_df.head()"
   ]
  },
  {
   "cell_type": "code",
   "execution_count": 102,
   "metadata": {},
   "outputs": [
    {
     "ename": "AttributeError",
     "evalue": "'Axes' object has no attribute 'is_first_col'",
     "output_type": "error",
     "traceback": [
      "\u001b[1;31m---------------------------------------------------------------------------\u001b[0m",
      "\u001b[1;31mAttributeError\u001b[0m                            Traceback (most recent call last)",
      "Cell \u001b[1;32mIn [102], line 2\u001b[0m\n\u001b[0;32m      1\u001b[0m \u001b[38;5;66;03m# plotting user frequency distribution\u001b[39;00m\n\u001b[1;32m----> 2\u001b[0m \u001b[43mplot_user_presence_distribution\u001b[49m\u001b[43m(\u001b[49m\u001b[43muser_presence_df\u001b[49m\u001b[43m,\u001b[49m\u001b[43m \u001b[49m\u001b[43mdataset_name\u001b[49m\u001b[38;5;241;43m=\u001b[39;49m\u001b[43mdataset_name\u001b[49m\u001b[43m)\u001b[49m\n",
      "File \u001b[1;32mc:\\Users\\mjlav\\Desktop\\work\\european_comission\\measuring_forgetting\\notebooks/..\\dataset_evaluation_utils\\dataset_evaluation_utils.py:147\u001b[0m, in \u001b[0;36mplot_user_presence_distribution\u001b[1;34m(user_presence_df, dataset_name)\u001b[0m\n\u001b[0;32m    141\u001b[0m \u001b[38;5;124;03m'''\u001b[39;00m\n\u001b[0;32m    142\u001b[0m \u001b[38;5;124;03mPlots presence distribution for month, quarter, and semester from user_presence_df.\u001b[39;00m\n\u001b[0;32m    143\u001b[0m \u001b[38;5;124;03muser_presence_df is the output of the function 'get_interactions_info'\u001b[39;00m\n\u001b[0;32m    144\u001b[0m \u001b[38;5;124;03mdataset_name: used to store the image in the folder images. path: 'images/user_bucket_analysis/{dataset_name}_user_presence_distribution.png'\u001b[39;00m\n\u001b[0;32m    145\u001b[0m \u001b[38;5;124;03m'''\u001b[39;00m\n\u001b[0;32m    146\u001b[0m fig, ax \u001b[38;5;241m=\u001b[39m plt\u001b[38;5;241m.\u001b[39msubplots(\u001b[38;5;241m1\u001b[39m,\u001b[38;5;241m3\u001b[39m, figsize\u001b[38;5;241m=\u001b[39m(\u001b[38;5;241m17\u001b[39m,\u001b[38;5;241m4\u001b[39m))\n\u001b[1;32m--> 147\u001b[0m \u001b[43muser_presence_df\u001b[49m\u001b[43m[\u001b[49m\u001b[38;5;124;43m'\u001b[39;49m\u001b[38;5;124;43mmonth_\u001b[39;49m\u001b[38;5;124;43m%\u001b[39;49m\u001b[38;5;124;43m'\u001b[39;49m\u001b[43m]\u001b[49m\u001b[38;5;241;43m.\u001b[39;49m\u001b[43mplot\u001b[49m\u001b[43m(\u001b[49m\u001b[43mkind\u001b[49m\u001b[38;5;241;43m=\u001b[39;49m\u001b[38;5;124;43m'\u001b[39;49m\u001b[38;5;124;43mhist\u001b[39;49m\u001b[38;5;124;43m'\u001b[39;49m\u001b[43m,\u001b[49m\u001b[43m \u001b[49m\u001b[43max\u001b[49m\u001b[38;5;241;43m=\u001b[39;49m\u001b[43max\u001b[49m\u001b[43m[\u001b[49m\u001b[38;5;241;43m0\u001b[39;49m\u001b[43m]\u001b[49m\u001b[43m,\u001b[49m\u001b[43m \u001b[49m\u001b[43mtitle\u001b[49m\u001b[38;5;241;43m=\u001b[39;49m\u001b[38;5;124;43m'\u001b[39;49m\u001b[38;5;124;43muser month presence\u001b[39;49m\u001b[38;5;124;43m'\u001b[39;49m\u001b[43m)\u001b[49m\n\u001b[0;32m    148\u001b[0m \u001b[38;5;28;01mif\u001b[39;00m \u001b[38;5;124m'\u001b[39m\u001b[38;5;124mtrimestre_\u001b[39m\u001b[38;5;124m%\u001b[39m\u001b[38;5;124m'\u001b[39m \u001b[38;5;129;01min\u001b[39;00m user_presence_df\u001b[38;5;241m.\u001b[39mcolumns:\n\u001b[0;32m    149\u001b[0m     user_presence_df[\u001b[38;5;124m'\u001b[39m\u001b[38;5;124mtrimestre_\u001b[39m\u001b[38;5;124m%\u001b[39m\u001b[38;5;124m'\u001b[39m]\u001b[38;5;241m.\u001b[39mplot(kind\u001b[38;5;241m=\u001b[39m\u001b[38;5;124m'\u001b[39m\u001b[38;5;124mhist\u001b[39m\u001b[38;5;124m'\u001b[39m, ax\u001b[38;5;241m=\u001b[39max[\u001b[38;5;241m1\u001b[39m], title\u001b[38;5;241m=\u001b[39m\u001b[38;5;124m'\u001b[39m\u001b[38;5;124muser quarter presence\u001b[39m\u001b[38;5;124m'\u001b[39m)    \n",
      "File \u001b[1;32mc:\\Users\\mjlav\\anaconda3\\envs\\m_f_1st\\lib\\site-packages\\pandas\\plotting\\_core.py:949\u001b[0m, in \u001b[0;36mPlotAccessor.__call__\u001b[1;34m(self, *args, **kwargs)\u001b[0m\n\u001b[0;32m    946\u001b[0m             label_name \u001b[38;5;241m=\u001b[39m label_kw \u001b[38;5;129;01mor\u001b[39;00m data\u001b[38;5;241m.\u001b[39mcolumns\n\u001b[0;32m    947\u001b[0m             data\u001b[38;5;241m.\u001b[39mcolumns \u001b[38;5;241m=\u001b[39m label_name\n\u001b[1;32m--> 949\u001b[0m \u001b[38;5;28;01mreturn\u001b[39;00m plot_backend\u001b[38;5;241m.\u001b[39mplot(data, kind\u001b[38;5;241m=\u001b[39mkind, \u001b[38;5;241m*\u001b[39m\u001b[38;5;241m*\u001b[39mkwargs)\n",
      "File \u001b[1;32mc:\\Users\\mjlav\\anaconda3\\envs\\m_f_1st\\lib\\site-packages\\pandas\\plotting\\_matplotlib\\__init__.py:61\u001b[0m, in \u001b[0;36mplot\u001b[1;34m(data, kind, **kwargs)\u001b[0m\n\u001b[0;32m     59\u001b[0m         kwargs[\u001b[38;5;124m\"\u001b[39m\u001b[38;5;124max\u001b[39m\u001b[38;5;124m\"\u001b[39m] \u001b[38;5;241m=\u001b[39m \u001b[38;5;28mgetattr\u001b[39m(ax, \u001b[38;5;124m\"\u001b[39m\u001b[38;5;124mleft_ax\u001b[39m\u001b[38;5;124m\"\u001b[39m, ax)\n\u001b[0;32m     60\u001b[0m plot_obj \u001b[38;5;241m=\u001b[39m PLOT_CLASSES[kind](data, \u001b[38;5;241m*\u001b[39m\u001b[38;5;241m*\u001b[39mkwargs)\n\u001b[1;32m---> 61\u001b[0m \u001b[43mplot_obj\u001b[49m\u001b[38;5;241;43m.\u001b[39;49m\u001b[43mgenerate\u001b[49m\u001b[43m(\u001b[49m\u001b[43m)\u001b[49m\n\u001b[0;32m     62\u001b[0m plot_obj\u001b[38;5;241m.\u001b[39mdraw()\n\u001b[0;32m     63\u001b[0m \u001b[38;5;28;01mreturn\u001b[39;00m plot_obj\u001b[38;5;241m.\u001b[39mresult\n",
      "File \u001b[1;32mc:\\Users\\mjlav\\anaconda3\\envs\\m_f_1st\\lib\\site-packages\\pandas\\plotting\\_matplotlib\\core.py:274\u001b[0m, in \u001b[0;36mMPLPlot.generate\u001b[1;34m(self)\u001b[0m\n\u001b[0;32m    272\u001b[0m \u001b[38;5;28mself\u001b[39m\u001b[38;5;241m.\u001b[39m_add_table()\n\u001b[0;32m    273\u001b[0m \u001b[38;5;28mself\u001b[39m\u001b[38;5;241m.\u001b[39m_make_legend()\n\u001b[1;32m--> 274\u001b[0m \u001b[38;5;28;43mself\u001b[39;49m\u001b[38;5;241;43m.\u001b[39;49m\u001b[43m_adorn_subplots\u001b[49m\u001b[43m(\u001b[49m\u001b[43m)\u001b[49m\n\u001b[0;32m    276\u001b[0m \u001b[38;5;28;01mfor\u001b[39;00m ax \u001b[38;5;129;01min\u001b[39;00m \u001b[38;5;28mself\u001b[39m\u001b[38;5;241m.\u001b[39maxes:\n\u001b[0;32m    277\u001b[0m     \u001b[38;5;28mself\u001b[39m\u001b[38;5;241m.\u001b[39m_post_plot_logic_common(ax, \u001b[38;5;28mself\u001b[39m\u001b[38;5;241m.\u001b[39mdata)\n",
      "File \u001b[1;32mc:\\Users\\mjlav\\anaconda3\\envs\\m_f_1st\\lib\\site-packages\\pandas\\plotting\\_matplotlib\\core.py:468\u001b[0m, in \u001b[0;36mMPLPlot._adorn_subplots\u001b[1;34m(self)\u001b[0m\n\u001b[0;32m    466\u001b[0m     all_axes \u001b[38;5;241m=\u001b[39m \u001b[38;5;28mself\u001b[39m\u001b[38;5;241m.\u001b[39m_get_subplots()\n\u001b[0;32m    467\u001b[0m     nrows, ncols \u001b[38;5;241m=\u001b[39m \u001b[38;5;28mself\u001b[39m\u001b[38;5;241m.\u001b[39m_get_axes_layout()\n\u001b[1;32m--> 468\u001b[0m     \u001b[43m_handle_shared_axes\u001b[49m\u001b[43m(\u001b[49m\n\u001b[0;32m    469\u001b[0m \u001b[43m        \u001b[49m\u001b[43maxarr\u001b[49m\u001b[38;5;241;43m=\u001b[39;49m\u001b[43mall_axes\u001b[49m\u001b[43m,\u001b[49m\n\u001b[0;32m    470\u001b[0m \u001b[43m        \u001b[49m\u001b[43mnplots\u001b[49m\u001b[38;5;241;43m=\u001b[39;49m\u001b[38;5;28;43mlen\u001b[39;49m\u001b[43m(\u001b[49m\u001b[43mall_axes\u001b[49m\u001b[43m)\u001b[49m\u001b[43m,\u001b[49m\n\u001b[0;32m    471\u001b[0m \u001b[43m        \u001b[49m\u001b[43mnaxes\u001b[49m\u001b[38;5;241;43m=\u001b[39;49m\u001b[43mnrows\u001b[49m\u001b[43m \u001b[49m\u001b[38;5;241;43m*\u001b[39;49m\u001b[43m \u001b[49m\u001b[43mncols\u001b[49m\u001b[43m,\u001b[49m\n\u001b[0;32m    472\u001b[0m \u001b[43m        \u001b[49m\u001b[43mnrows\u001b[49m\u001b[38;5;241;43m=\u001b[39;49m\u001b[43mnrows\u001b[49m\u001b[43m,\u001b[49m\n\u001b[0;32m    473\u001b[0m \u001b[43m        \u001b[49m\u001b[43mncols\u001b[49m\u001b[38;5;241;43m=\u001b[39;49m\u001b[43mncols\u001b[49m\u001b[43m,\u001b[49m\n\u001b[0;32m    474\u001b[0m \u001b[43m        \u001b[49m\u001b[43msharex\u001b[49m\u001b[38;5;241;43m=\u001b[39;49m\u001b[38;5;28;43mself\u001b[39;49m\u001b[38;5;241;43m.\u001b[39;49m\u001b[43msharex\u001b[49m\u001b[43m,\u001b[49m\n\u001b[0;32m    475\u001b[0m \u001b[43m        \u001b[49m\u001b[43msharey\u001b[49m\u001b[38;5;241;43m=\u001b[39;49m\u001b[38;5;28;43mself\u001b[39;49m\u001b[38;5;241;43m.\u001b[39;49m\u001b[43msharey\u001b[49m\u001b[43m,\u001b[49m\n\u001b[0;32m    476\u001b[0m \u001b[43m    \u001b[49m\u001b[43m)\u001b[49m\n\u001b[0;32m    478\u001b[0m \u001b[38;5;28;01mfor\u001b[39;00m ax \u001b[38;5;129;01min\u001b[39;00m \u001b[38;5;28mself\u001b[39m\u001b[38;5;241m.\u001b[39maxes:\n\u001b[0;32m    479\u001b[0m     \u001b[38;5;28;01mif\u001b[39;00m \u001b[38;5;28mself\u001b[39m\u001b[38;5;241m.\u001b[39myticks \u001b[38;5;129;01mis\u001b[39;00m \u001b[38;5;129;01mnot\u001b[39;00m \u001b[38;5;28;01mNone\u001b[39;00m:\n",
      "File \u001b[1;32mc:\\Users\\mjlav\\anaconda3\\envs\\m_f_1st\\lib\\site-packages\\pandas\\plotting\\_matplotlib\\tools.py:331\u001b[0m, in \u001b[0;36m_handle_shared_axes\u001b[1;34m(axarr, nplots, naxes, nrows, ncols, sharex, sharey)\u001b[0m\n\u001b[0;32m    326\u001b[0m \u001b[38;5;28;01mif\u001b[39;00m ncols \u001b[38;5;241m>\u001b[39m \u001b[38;5;241m1\u001b[39m:\n\u001b[0;32m    327\u001b[0m     \u001b[38;5;28;01mfor\u001b[39;00m ax \u001b[38;5;129;01min\u001b[39;00m axarr:\n\u001b[0;32m    328\u001b[0m         \u001b[38;5;66;03m# only the first column should get y labels -> set all other to\u001b[39;00m\n\u001b[0;32m    329\u001b[0m         \u001b[38;5;66;03m# off as we only have labels in the first column and we always\u001b[39;00m\n\u001b[0;32m    330\u001b[0m         \u001b[38;5;66;03m# have a subplot there, we can skip the layout test\u001b[39;00m\n\u001b[1;32m--> 331\u001b[0m         \u001b[38;5;28;01mif\u001b[39;00m \u001b[43max\u001b[49m\u001b[38;5;241;43m.\u001b[39;49m\u001b[43mis_first_col\u001b[49m():\n\u001b[0;32m    332\u001b[0m             \u001b[38;5;28;01mcontinue\u001b[39;00m\n\u001b[0;32m    333\u001b[0m         \u001b[38;5;28;01mif\u001b[39;00m sharey \u001b[38;5;129;01mor\u001b[39;00m \u001b[38;5;28mlen\u001b[39m(ax\u001b[38;5;241m.\u001b[39mget_shared_y_axes()\u001b[38;5;241m.\u001b[39mget_siblings(ax)) \u001b[38;5;241m>\u001b[39m \u001b[38;5;241m1\u001b[39m:\n",
      "\u001b[1;31mAttributeError\u001b[0m: 'Axes' object has no attribute 'is_first_col'"
     ]
    },
    {
     "data": {
      "image/png": "[encoded data removed]",
      "text/plain": [
       "<Figure size 1700x400 with 3 Axes>"
      ]
     },
     "metadata": {},
     "output_type": "display_data"
    }
   ],
   "source": [
    "# plotting user frequency distribution\n",
    "plot_user_presence_distribution(user_presence_df, dataset_name=dataset_name)"
   ]
  },
  {
   "cell_type": "markdown",
   "metadata": {},
   "source": [
    "How many examples are there per quarter and semester?"
   ]
  },
  {
   "cell_type": "code",
   "execution_count": 103,
   "metadata": {},
   "outputs": [],
   "source": [
    "# plot_interactions_per_qns(user_interactions=user_trimestre_interactions, date_range=trimestres, dataset_name=dataset_name, type_of_range='quarter')"
   ]
  },
  {
   "cell_type": "code",
   "execution_count": 104,
   "metadata": {},
   "outputs": [],
   "source": [
    "# plot_interactions_per_qns(user_interactions=user_semestre_interactions, date_range=semestres, dataset_name=dataset_name, type_of_range='semester')"
   ]
  },
  {
   "cell_type": "markdown",
   "metadata": {},
   "source": [
    "How many FREQUENT users (occur in 80% or more intervals) exist?"
   ]
  },
  {
   "cell_type": "code",
   "execution_count": 105,
   "metadata": {},
   "outputs": [],
   "source": [
    "# defining threshold\n",
    "frequency_threshold = 1"
   ]
  },
  {
   "cell_type": "code",
   "execution_count": 106,
   "metadata": {},
   "outputs": [
    {
     "name": "stdout",
     "output_type": "stream",
     "text": [
      "6167 users of 13902 (44.361%) occurr in 100% or more months.\n"
     ]
    }
   ],
   "source": [
    "# frequent_users_month, frequent_users_trimestre, frequent_users_semestre = get_frequent_users(user_presence_df, frequency_threshold=frequency_threshold)\n",
    "frequent_users_month = get_frequent_users(user_presence_df, frequency_threshold=frequency_threshold)"
   ]
  },
  {
   "cell_type": "code",
   "execution_count": 107,
   "metadata": {},
   "outputs": [
    {
     "data": {
      "text/plain": [
       "['output/amazonkindle_dump/2nd_sample_frequent_users_month.joblib']"
      ]
     },
     "execution_count": 107,
     "metadata": {},
     "output_type": "execute_result"
    }
   ],
   "source": [
    "# old huge sample\n",
    "# joblib.dump(frequent_users_month, 'output/amazonbooks_dump/frequent_users_month.joblib')\n",
    "\n",
    "# new sample\n",
    "joblib.dump(frequent_users_month, 'output/amazonkindle_dump/2nd_sample_frequent_users_month.joblib')"
   ]
  }
 ],
 "metadata": {
  "kernelspec": {
   "display_name": "m_f_1st",
   "language": "python",
   "name": "python3"
  },
  "language_info": {
   "codemirror_mode": {
    "name": "ipython",
    "version": 3
   },
   "file_extension": ".py",
   "mimetype": "text/x-python",
   "name": "python",
   "nbconvert_exporter": "python",
   "pygments_lexer": "ipython3",
   "version": "3.9.18"
  }
 },
 "nbformat": 4,
 "nbformat_minor": 4
}
