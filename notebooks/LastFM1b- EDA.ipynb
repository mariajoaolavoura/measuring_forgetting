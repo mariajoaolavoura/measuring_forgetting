{
 "cells": [
  {
   "cell_type": "code",
   "execution_count": 2,
   "metadata": {},
   "outputs": [],
   "source": [
    "import os\n",
    "import sys\n",
    "sys.path.append(os.path.abspath('') + '/..')"
   ]
  },
  {
   "cell_type": "code",
   "execution_count": 3,
   "metadata": {},
   "outputs": [],
   "source": [
    "import pandas as pd \n",
    "import re\n",
    "import json\n",
    "import csv\n",
    "\n",
    "from data_utils import getDF\n",
    "from dataset_evaluation_utils import * \n",
    "\n",
    "from datetime import datetime, timezone\n",
    "\n",
    "import seaborn as sns\n",
    "import matplotlib.pyplot as plt\n",
    "sns.set_style('whitegrid')\n",
    "\n",
    "# import plotly.offline as py\n",
    "# pd.options.plotting.backend = \"plotly\"\n",
    "# py.init_notebook_mode() # graphs charts inline (IPython).\n",
    "\n",
    "a4_dims = (11.7, 8.27)"
   ]
  },
  {
   "cell_type": "markdown",
   "metadata": {},
   "source": [
    "# paths"
   ]
  },
  {
   "cell_type": "code",
   "execution_count": 4,
   "metadata": {},
   "outputs": [],
   "source": [
    "dataset_folderpath = '../datasets/lastfm-1b/merged/'\n",
    "\n",
    "dataset_name = 'LastFM1b'\n",
    "dump_foldername ='lastfm1b_dump/'\n",
    "\n",
    "# rule: what/which_data_set/sample_version/what/\n",
    "images_path, output_path, heatmaps_path, diversity_graphpath, diversity_filepath = get_folderpaths(dump_foldername)"
   ]
  },
  {
   "cell_type": "code",
   "execution_count": 9,
   "metadata": {},
   "outputs": [],
   "source": [
    "user_col, item_col, time_col, date_col = ['user_id', 'item_id', 'timestamp', 'date']"
   ]
  },
  {
   "cell_type": "markdown",
   "metadata": {},
   "source": [
    "# dataset source\n",
    "\n",
    "https://drive.google.com/drive/folders/1aXK8JSvOQMNjAplcp8TB2SBf-1uTn287"
   ]
  },
  {
   "cell_type": "markdown",
   "metadata": {},
   "source": [
    "# examples"
   ]
  },
  {
   "cell_type": "markdown",
   "metadata": {},
   "source": [
    "## lfm1b-tracks.inter"
   ]
  },
  {
   "cell_type": "code",
   "execution_count": 5,
   "metadata": {},
   "outputs": [
    {
     "data": {
      "text/html": [
       "<div>\n",
       "<style scoped>\n",
       "    .dataframe tbody tr th:only-of-type {\n",
       "        vertical-align: middle;\n",
       "    }\n",
       "\n",
       "    .dataframe tbody tr th {\n",
       "        vertical-align: top;\n",
       "    }\n",
       "\n",
       "    .dataframe thead th {\n",
       "        text-align: right;\n",
       "    }\n",
       "</style>\n",
       "<table border=\"1\" class=\"dataframe\">\n",
       "  <thead>\n",
       "    <tr style=\"text-align: right;\">\n",
       "      <th></th>\n",
       "      <th>user_id:token</th>\n",
       "      <th>tracks_id:token</th>\n",
       "      <th>timestamp:float</th>\n",
       "      <th>num_repeat:float</th>\n",
       "    </tr>\n",
       "  </thead>\n",
       "  <tbody>\n",
       "    <tr>\n",
       "      <th>0</th>\n",
       "      <td>31435741</td>\n",
       "      <td>4</td>\n",
       "      <td>1385212958</td>\n",
       "      <td>13</td>\n",
       "    </tr>\n",
       "    <tr>\n",
       "      <th>1</th>\n",
       "      <td>31435741</td>\n",
       "      <td>17</td>\n",
       "      <td>1381867823</td>\n",
       "      <td>23</td>\n",
       "    </tr>\n",
       "    <tr>\n",
       "      <th>2</th>\n",
       "      <td>31435741</td>\n",
       "      <td>19</td>\n",
       "      <td>1381867431</td>\n",
       "      <td>22</td>\n",
       "    </tr>\n",
       "    <tr>\n",
       "      <th>3</th>\n",
       "      <td>31435741</td>\n",
       "      <td>53</td>\n",
       "      <td>1370977938</td>\n",
       "      <td>54</td>\n",
       "    </tr>\n",
       "    <tr>\n",
       "      <th>4</th>\n",
       "      <td>31435741</td>\n",
       "      <td>86</td>\n",
       "      <td>1369853851</td>\n",
       "      <td>84</td>\n",
       "    </tr>\n",
       "  </tbody>\n",
       "</table>\n",
       "</div>"
      ],
      "text/plain": [
       "   user_id:token  tracks_id:token  timestamp:float  num_repeat:float\n",
       "0       31435741                4       1385212958                13\n",
       "1       31435741               17       1381867823                23\n",
       "2       31435741               19       1381867431                22\n",
       "3       31435741               53       1370977938                54\n",
       "4       31435741               86       1369853851                84"
      ]
     },
     "execution_count": 5,
     "metadata": {},
     "output_type": "execute_result"
    }
   ],
   "source": [
    "# ex_inter = pd.read_csv(dataset_folderpath+'lfm1b-tracks-example/lfm1b-tracks.inter', delimiter='\\t')#, header=None)\n",
    "# ex_inter.head()"
   ]
  },
  {
   "cell_type": "markdown",
   "metadata": {},
   "source": [
    "## lfm1b-tracks.item\n",
    "tracks_id: the id of the tracks, and its type is token.\\\n",
    "name: the name of each track, and its type is token_seq.\\\n",
    "artists_id: the id of the artists to which the tracks belong, and its type is token.\\"
   ]
  },
  {
   "cell_type": "code",
   "execution_count": null,
   "metadata": {},
   "outputs": [],
   "source": [
    "# ex_item = pd.read_csv(dataset_folderpath+'lfm1b-tracks-example/lfm1b-tracks.item', delimiter='\\t')#, header=None)\n",
    "# ex_item.head()"
   ]
  },
  {
   "cell_type": "markdown",
   "metadata": {},
   "source": [
    "## lfm1b-tracks.user\n",
    "user_id: the id of the users, and its type is token.\\\n",
    "country: the country of the users, and its type is token.\\\n",
    "age: the age of the users, and its type is float.\\\n",
    "gender: the gender of the users, and its type is token.\\\n",
    "playcount: the number of playcount, and its type is float.\\\n",
    "registered_timestamp: the UNIX timestamp of users registering, and its type is float.\\\n",
    "novelty_artist_avg_month: the percentage of new artists listened to, averaged over time windows of 1 month, and its type is float.\\\n",
    "novelty_artist_avg_6months: the percentage of new artists listened to, averaged over time windows of 6 months, and its type is float.\\\n",
    "novelty_artist_avg_year: the percentage of new artists listened to, averaged over time windows of 1 year, and its type is float.\\\n",
    "mainstreaminess_avg_month: overlap between the user's listening history and an aggregate listening history of all users, averaged over time windows of 1 month, and its type is float.\\\n",
    "mainstreaminess_avg_6months: overlap between the user's listening history and an aggregate listening history of all users, averaged over time windows of 6 months, and its type is float.\\\n",
    "mainstreaminess_avg_year: overlap between the user's listening history and an aggregate listening history of all users, averaged over time windows of 1 year, and its type is float.\\\n",
    "mainstreaminess_global: overlap between the user's listening history and an aggregate listening history of all users, averaged over the entire period of the user's activity on Last.fm, and its type is float.\\\n",
    "cnt_listeningevents: total number of the user's listening events (playcounts) included in the dataset, and its type is float.\\\n",
    "cnt_distinct_tracks: number of unique tracks listened to by the user, and its type is float.\\\n",
    "cnt_distinct_artists: number of unique artists listened to by the user, and its type is float.\\\n",
    "cnt_listeningevents_per_week: average number of listening events per week, and its type is float.\\\n",
    "relative_le_per_weekday[1-7]: fraction of listening events for each weekday (starting on Monday) among all weekly plays, averaged over the user's entire listening history, and its type is float.\\\n",
    "relative le per hour[0-23]: fraction of listening events for each hour of the day (starting with the time span 0:00-0:59) among all 24 hours, averaged over the user's entire listening history, and its type is float.\\"
   ]
  },
  {
   "cell_type": "code",
   "execution_count": null,
   "metadata": {},
   "outputs": [],
   "source": [
    "# ex_user = pd.read_csv(dataset_folderpath+'lfm1b-tracks-example/lfm1b-tracks.user', delimiter='\\t')#, header=None)\n",
    "# ex_user.head()"
   ]
  },
  {
   "cell_type": "markdown",
   "metadata": {},
   "source": [
    "## lfm1b-tracks.inter"
   ]
  },
  {
   "cell_type": "code",
   "execution_count": null,
   "metadata": {},
   "outputs": [],
   "source": [
    "# tracks_inter = pd.read_csv(dataset_folderpath+'lfm1b-tracks/lfm1b-tracks.inter', delimiter='\\t')#, iterator=True)\n",
    "# tracks_inter.head()\n",
    "\n",
    "# tracks_inter = pd.read_csv(dataset_folderpath+'lfm1b-tracks/lfm1b-tracks.inter', delimiter='\\t', iterator=True)#, header=None)\n",
    "# tracks_inter.get_chunk(100)"
   ]
  },
  {
   "cell_type": "code",
   "execution_count": 6,
   "metadata": {},
   "outputs": [],
   "source": [
    "def load_interactions_within_period_to_dict(head:int, period:list, save_folder:str, save_filename:str, file_foldername:str):\n",
    "    \n",
    "    if save_folder: validate_folderpath(save_folder)\n",
    "\n",
    "\n",
    "    time_period = [(period[0], '%Y-%m'), (period[1], '%Y-%m')]\n",
    "    start_ym, end_ym = datetime.strptime(*time_period[0]), datetime.strptime(*time_period[1])\n",
    "\n",
    "    user_col_idx = 0\n",
    "    item_col_idx = 1\n",
    "    time_col_idx = 2\n",
    "    # repeat_col_idx = 3\n",
    "\n",
    "    item_set, user_set = set(), set()\n",
    "\n",
    "    # n_lines = 0\n",
    "    inter_dict = {}\n",
    "\n",
    "    with open(file_foldername, 'r') as file:\n",
    "        # user_id:token tracks_id:token timestamp:float num_repeat:float\n",
    "        file.readline()\n",
    "        # print(file.readline())\n",
    "\n",
    "        for i, line in enumerate(file):\n",
    "            # print(line)\n",
    "            # print(type(line))\n",
    "            line_array = re.split('\\t|\\n', line) # leave the last '\\n' column to make sure the file is read properly\n",
    "            # print(line_array)\n",
    "\n",
    "            # if (head is not None) and (i > head):\n",
    "            if (head) and (i > head):\n",
    "                break\n",
    "\n",
    "            date = datetime.fromtimestamp(int(line_array[time_col_idx]), tz=timezone.utc)\n",
    "            year_month = datetime.strptime( str(date.year)+'-'+str(date.month), '%Y-%m' )\n",
    "\n",
    "            if i % 1000000 == 0:\n",
    "                print(i, end=',')\n",
    "                # print(str(i)+'-'+str(year_month))\n",
    "\n",
    "            if start_ym <= year_month < end_ym:\n",
    "\n",
    "                inter_dict[i] = [line_array[user_col_idx], line_array[item_col_idx], line_array[time_col_idx],year_month]\n",
    "\n",
    "                item_set.add(line_array[item_col_idx])\n",
    "                user_set.add(line_array[user_col_idx])\n",
    "\n",
    "                # n_lines += 1\n",
    "\n",
    "        # print(inter_dict)\n",
    "    # if save_folder:\n",
    "        # joblib.dump(inter_dict, save_folder+save_filename+'_dict.joblib')\n",
    "\n",
    "    print('complete')\n",
    "    print('done!')\n",
    "    print('number of lines ',len(inter_dict))\n",
    "    print('number of books ',len(item_set))\n",
    "    print('number of users ',len(user_set))\n",
    "\n",
    "    inter_df = pd.DataFrame.from_dict(inter_dict, orient='index',columns=['user_id', 'item_id', 'timestamp', 'date'])\n",
    "    inter_df[['user_id', 'date']]\\\n",
    "            .groupby('date')\\\n",
    "                .count().sort_values(by=['date'], ascending=[True]).plot(title='how many interactions per month');\n",
    "\n",
    "    if save_folder:\n",
    "        inter_df.to_csv(save_folder+save_filename+'interactions_df.csv')\n",
    "\n",
    "\n",
    "    return inter_df, inter_dict, user_set, item_set\n",
    "        "
   ]
  },
  {
   "cell_type": "markdown",
   "metadata": {},
   "source": [
    "# 3M"
   ]
  },
  {
   "cell_type": "code",
   "execution_count": 34,
   "metadata": {},
   "outputs": [
    {
     "name": "stdout",
     "output_type": "stream",
     "text": [
      "0,1000000,2000000,3000000,complete\n",
      "done!\n",
      "number of lines  3000001\n",
      "number of books  1479617\n",
      "number of users  1116\n"
     ]
    },
    {
     "data": {
      "image/png": "[encoded data removed]",
      "text/plain": [
       "<Figure size 640x480 with 1 Axes>"
      ]
     },
     "metadata": {},
     "output_type": "display_data"
    }
   ],
   "source": [
    "# # period=['2011-01', '2014-06']\n",
    "# period=['0001-01', '9999-06']\n",
    "# # sample = 'sample_'+str(period[0])+'_until_'+str(period[1])\n",
    "\n",
    "# _, _, _, _  = load_interactions_within_period_to_dict(head=3000000,#None,\n",
    "#                                                         period=period,# ['2012-07', '2015-01'[ \n",
    "#                                                         save_folder=None, \n",
    "#                                                         save_filename=None,\n",
    "#                                                         file_foldername=dataset_folderpath+'lfm1b-tracks/lfm1b-tracks.inter')"
   ]
  },
  {
   "cell_type": "markdown",
   "metadata": {},
   "source": [
    "# 2011-07 to 2014-01 3M"
   ]
  },
  {
   "cell_type": "code",
   "execution_count": null,
   "metadata": {},
   "outputs": [],
   "source": [
    "# # period=['2011-01', '2014-06']\n",
    "# period=['2011-07', '2014-01']\n",
    "# sample = 'sample_'+str(period[0])+'_until_'+str(period[1])\n",
    "\n",
    "# save_folder=output_path+sample+'/'\n",
    "# filename = 'tracks_inter_merged_coldstart_3M'\n",
    "\n",
    "# inter_df, _, user_set, item_set  = load_interactions_within_period_to_dict(head=3000000,#None,\n",
    "#                                                                         period=period,\n",
    "#                                                                         save_folder=save_folder, \n",
    "#                                                                         save_filename=filename,\n",
    "#                                                                         file_foldername=dataset_folderpath+'lfm1b-tracks/lfm1b-tracks.inter')"
   ]
  },
  {
   "cell_type": "code",
   "execution_count": 14,
   "metadata": {},
   "outputs": [
    {
     "data": {
      "text/plain": [
       "Timestamp('2014-01-01 00:00:00')"
      ]
     },
     "execution_count": 14,
     "metadata": {},
     "output_type": "execute_result"
    }
   ],
   "source": [
    "# inter_df.date.max()"
   ]
  },
  {
   "cell_type": "markdown",
   "metadata": {},
   "source": [
    "# get_interactions_info"
   ]
  },
  {
   "cell_type": "code",
   "execution_count": null,
   "metadata": {},
   "outputs": [
    {
     "name": "stdout",
     "output_type": "stream",
     "text": [
      "0.0 %\n",
      "25.0 %\n",
      "50.0 %\n",
      "75.0 %\n"
     ]
    }
   ],
   "source": [
    "# user_presence_df, user_month_interactions, \\\n",
    "#     trimestres, user_trimestre_interactions, \\\n",
    "#         semesters, user_semester_interactions = get_interactions_info(inter_df, user_col, quarter_info=True, semester_info=True)"
   ]
  },
  {
   "cell_type": "code",
   "execution_count": null,
   "metadata": {},
   "outputs": [
    {
     "name": "stdout",
     "output_type": "stream",
     "text": [
      "106 users of 1112 (9.532%) occurr in 80.0% or more months.\n",
      "343 users of 1112 (30.845%) occurr in 80.0% or more quarters.\n",
      "510 users of 1112 (45.863%) occurr in 80.0% or more semesters.\n"
     ]
    },
    {
     "data": {
      "text/plain": [
       "['output/lastfm1b_dump/sample_2011-07_until_2014-01/tracks_inter_merged_coldstart_3M_frequent_users_0.8.joblib']"
      ]
     },
     "execution_count": 9,
     "metadata": {},
     "output_type": "execute_result"
    }
   ],
   "source": [
    "# joblib.dump(user_presence_df, save_folder+filename+'_user_presence_df.joblib')\n",
    "# joblib.dump(user_month_interactions, save_folder+filename+'_user_month_interactions.joblib')\n",
    "# joblib.dump(trimestres, save_folder+filename+'_trimestres.joblib')\n",
    "# joblib.dump(user_trimestre_interactions, save_folder+filename+'_user_trimestre_interactions.joblib')\n",
    "# joblib.dump(semesters, save_folder+filename+'_semesters.joblib')\n",
    "# joblib.dump(user_semester_interactions, save_folder+filename+'_user_semester_interactions.joblib')\n",
    "\n",
    "# thr=0.8\n",
    "\n",
    "# frequent_users = get_frequent_users(user_presence_df, frequency_threshold=thr)\n",
    "# joblib.dump(frequent_users, save_folder+filename+'_frequent_users_'+str(thr)+'.joblib') # has all 3 in one file"
   ]
  },
  {
   "cell_type": "code",
   "execution_count": null,
   "metadata": {},
   "outputs": [
    {
     "data": {
      "text/html": [
       "<div>\n",
       "<style scoped>\n",
       "    .dataframe tbody tr th:only-of-type {\n",
       "        vertical-align: middle;\n",
       "    }\n",
       "\n",
       "    .dataframe tbody tr th {\n",
       "        vertical-align: top;\n",
       "    }\n",
       "\n",
       "    .dataframe thead th {\n",
       "        text-align: right;\n",
       "    }\n",
       "</style>\n",
       "<table border=\"1\" class=\"dataframe\">\n",
       "  <thead>\n",
       "    <tr style=\"text-align: right;\">\n",
       "      <th></th>\n",
       "      <th>0</th>\n",
       "      <th>1</th>\n",
       "      <th>2</th>\n",
       "      <th>3</th>\n",
       "      <th>4</th>\n",
       "      <th>5</th>\n",
       "    </tr>\n",
       "  </thead>\n",
       "  <tbody>\n",
       "    <tr>\n",
       "      <th>15397460</th>\n",
       "      <td>6.0</td>\n",
       "      <td>6.0</td>\n",
       "      <td>6.0</td>\n",
       "      <td>3.0</td>\n",
       "      <td>4.0</td>\n",
       "      <td>1.0</td>\n",
       "    </tr>\n",
       "    <tr>\n",
       "      <th>5651735</th>\n",
       "      <td>5.0</td>\n",
       "      <td>6.0</td>\n",
       "      <td>5.0</td>\n",
       "      <td>6.0</td>\n",
       "      <td>4.0</td>\n",
       "      <td>1.0</td>\n",
       "    </tr>\n",
       "    <tr>\n",
       "      <th>11819149</th>\n",
       "      <td>6.0</td>\n",
       "      <td>6.0</td>\n",
       "      <td>6.0</td>\n",
       "      <td>5.0</td>\n",
       "      <td>0.0</td>\n",
       "      <td>0.0</td>\n",
       "    </tr>\n",
       "    <tr>\n",
       "      <th>21158109</th>\n",
       "      <td>3.0</td>\n",
       "      <td>6.0</td>\n",
       "      <td>5.0</td>\n",
       "      <td>4.0</td>\n",
       "      <td>1.0</td>\n",
       "      <td>1.0</td>\n",
       "    </tr>\n",
       "    <tr>\n",
       "      <th>13986001</th>\n",
       "      <td>3.0</td>\n",
       "      <td>3.0</td>\n",
       "      <td>1.0</td>\n",
       "      <td>2.0</td>\n",
       "      <td>1.0</td>\n",
       "      <td>0.0</td>\n",
       "    </tr>\n",
       "    <tr>\n",
       "      <th>...</th>\n",
       "      <td>...</td>\n",
       "      <td>...</td>\n",
       "      <td>...</td>\n",
       "      <td>...</td>\n",
       "      <td>...</td>\n",
       "      <td>...</td>\n",
       "    </tr>\n",
       "    <tr>\n",
       "      <th>27660103</th>\n",
       "      <td>0.0</td>\n",
       "      <td>0.0</td>\n",
       "      <td>0.0</td>\n",
       "      <td>0.0</td>\n",
       "      <td>1.0</td>\n",
       "      <td>1.0</td>\n",
       "    </tr>\n",
       "    <tr>\n",
       "      <th>19450665</th>\n",
       "      <td>0.0</td>\n",
       "      <td>0.0</td>\n",
       "      <td>0.0</td>\n",
       "      <td>0.0</td>\n",
       "      <td>1.0</td>\n",
       "      <td>1.0</td>\n",
       "    </tr>\n",
       "    <tr>\n",
       "      <th>4142595</th>\n",
       "      <td>0.0</td>\n",
       "      <td>0.0</td>\n",
       "      <td>0.0</td>\n",
       "      <td>0.0</td>\n",
       "      <td>0.0</td>\n",
       "      <td>1.0</td>\n",
       "    </tr>\n",
       "    <tr>\n",
       "      <th>20943039</th>\n",
       "      <td>0.0</td>\n",
       "      <td>0.0</td>\n",
       "      <td>0.0</td>\n",
       "      <td>0.0</td>\n",
       "      <td>0.0</td>\n",
       "      <td>1.0</td>\n",
       "    </tr>\n",
       "    <tr>\n",
       "      <th>32336277</th>\n",
       "      <td>0.0</td>\n",
       "      <td>0.0</td>\n",
       "      <td>0.0</td>\n",
       "      <td>0.0</td>\n",
       "      <td>0.0</td>\n",
       "      <td>1.0</td>\n",
       "    </tr>\n",
       "  </tbody>\n",
       "</table>\n",
       "<p>1112 rows × 6 columns</p>\n",
       "</div>"
      ],
      "text/plain": [
       "            0    1    2    3    4    5\n",
       "15397460  6.0  6.0  6.0  3.0  4.0  1.0\n",
       "5651735   5.0  6.0  5.0  6.0  4.0  1.0\n",
       "11819149  6.0  6.0  6.0  5.0  0.0  0.0\n",
       "21158109  3.0  6.0  5.0  4.0  1.0  1.0\n",
       "13986001  3.0  3.0  1.0  2.0  1.0  0.0\n",
       "...       ...  ...  ...  ...  ...  ...\n",
       "27660103  0.0  0.0  0.0  0.0  1.0  1.0\n",
       "19450665  0.0  0.0  0.0  0.0  1.0  1.0\n",
       "4142595   0.0  0.0  0.0  0.0  0.0  1.0\n",
       "20943039  0.0  0.0  0.0  0.0  0.0  1.0\n",
       "32336277  0.0  0.0  0.0  0.0  0.0  1.0\n",
       "\n",
       "[1112 rows x 6 columns]"
      ]
     },
     "execution_count": 10,
     "metadata": {},
     "output_type": "execute_result"
    }
   ],
   "source": [
    "# user_semester_interactions"
   ]
  },
  {
   "cell_type": "code",
   "execution_count": 12,
   "metadata": {},
   "outputs": [
    {
     "name": "stdout",
     "output_type": "stream",
     "text": [
      "856 users of 1112 (76.97841726618705%) are in 60.0% or more semesters in 2012 and 2013 (13205.0 interactions)\n",
      "\n",
      "Number of interactions per semester in 2012 and 2013:\n",
      " 1    3017.0\n",
      "2    3263.0\n",
      "3    3308.0\n",
      "4    3067.0\n",
      "5     550.0\n",
      "dtype: float64\n"
     ]
    },
    {
     "data": {
      "text/html": [
       "<div>\n",
       "<style scoped>\n",
       "    .dataframe tbody tr th:only-of-type {\n",
       "        vertical-align: middle;\n",
       "    }\n",
       "\n",
       "    .dataframe tbody tr th {\n",
       "        vertical-align: top;\n",
       "    }\n",
       "\n",
       "    .dataframe thead th {\n",
       "        text-align: right;\n",
       "    }\n",
       "</style>\n",
       "<table border=\"1\" class=\"dataframe\">\n",
       "  <thead>\n",
       "    <tr style=\"text-align: right;\">\n",
       "      <th></th>\n",
       "      <th>1</th>\n",
       "      <th>2</th>\n",
       "      <th>3</th>\n",
       "      <th>4</th>\n",
       "      <th>5</th>\n",
       "    </tr>\n",
       "  </thead>\n",
       "  <tbody>\n",
       "    <tr>\n",
       "      <th>15397460</th>\n",
       "      <td>6.0</td>\n",
       "      <td>6.0</td>\n",
       "      <td>3.0</td>\n",
       "      <td>4.0</td>\n",
       "      <td>1.0</td>\n",
       "    </tr>\n",
       "    <tr>\n",
       "      <th>5651735</th>\n",
       "      <td>6.0</td>\n",
       "      <td>5.0</td>\n",
       "      <td>6.0</td>\n",
       "      <td>4.0</td>\n",
       "      <td>1.0</td>\n",
       "    </tr>\n",
       "    <tr>\n",
       "      <th>11819149</th>\n",
       "      <td>6.0</td>\n",
       "      <td>6.0</td>\n",
       "      <td>5.0</td>\n",
       "      <td>0.0</td>\n",
       "      <td>0.0</td>\n",
       "    </tr>\n",
       "    <tr>\n",
       "      <th>21158109</th>\n",
       "      <td>6.0</td>\n",
       "      <td>5.0</td>\n",
       "      <td>4.0</td>\n",
       "      <td>1.0</td>\n",
       "      <td>1.0</td>\n",
       "    </tr>\n",
       "    <tr>\n",
       "      <th>13986001</th>\n",
       "      <td>3.0</td>\n",
       "      <td>1.0</td>\n",
       "      <td>2.0</td>\n",
       "      <td>1.0</td>\n",
       "      <td>0.0</td>\n",
       "    </tr>\n",
       "    <tr>\n",
       "      <th>...</th>\n",
       "      <td>...</td>\n",
       "      <td>...</td>\n",
       "      <td>...</td>\n",
       "      <td>...</td>\n",
       "      <td>...</td>\n",
       "    </tr>\n",
       "    <tr>\n",
       "      <th>14013708</th>\n",
       "      <td>0.0</td>\n",
       "      <td>0.0</td>\n",
       "      <td>1.0</td>\n",
       "      <td>6.0</td>\n",
       "      <td>1.0</td>\n",
       "    </tr>\n",
       "    <tr>\n",
       "      <th>33816422</th>\n",
       "      <td>0.0</td>\n",
       "      <td>0.0</td>\n",
       "      <td>1.0</td>\n",
       "      <td>5.0</td>\n",
       "      <td>1.0</td>\n",
       "    </tr>\n",
       "    <tr>\n",
       "      <th>20803227</th>\n",
       "      <td>0.0</td>\n",
       "      <td>0.0</td>\n",
       "      <td>1.0</td>\n",
       "      <td>6.0</td>\n",
       "      <td>1.0</td>\n",
       "    </tr>\n",
       "    <tr>\n",
       "      <th>7405199</th>\n",
       "      <td>0.0</td>\n",
       "      <td>0.0</td>\n",
       "      <td>1.0</td>\n",
       "      <td>6.0</td>\n",
       "      <td>1.0</td>\n",
       "    </tr>\n",
       "    <tr>\n",
       "      <th>31621052</th>\n",
       "      <td>0.0</td>\n",
       "      <td>0.0</td>\n",
       "      <td>1.0</td>\n",
       "      <td>5.0</td>\n",
       "      <td>1.0</td>\n",
       "    </tr>\n",
       "  </tbody>\n",
       "</table>\n",
       "<p>856 rows × 5 columns</p>\n",
       "</div>"
      ],
      "text/plain": [
       "            1    2    3    4    5\n",
       "15397460  6.0  6.0  3.0  4.0  1.0\n",
       "5651735   6.0  5.0  6.0  4.0  1.0\n",
       "11819149  6.0  6.0  5.0  0.0  0.0\n",
       "21158109  6.0  5.0  4.0  1.0  1.0\n",
       "13986001  3.0  1.0  2.0  1.0  0.0\n",
       "...       ...  ...  ...  ...  ...\n",
       "14013708  0.0  0.0  1.0  6.0  1.0\n",
       "33816422  0.0  0.0  1.0  5.0  1.0\n",
       "20803227  0.0  0.0  1.0  6.0  1.0\n",
       "7405199   0.0  0.0  1.0  6.0  1.0\n",
       "31621052  0.0  0.0  1.0  5.0  1.0\n",
       "\n",
       "[856 rows x 5 columns]"
      ]
     },
     "execution_count": 12,
     "metadata": {},
     "output_type": "execute_result"
    }
   ],
   "source": [
    "# semesters_idx=[1,2,3,4]\n",
    "# n_semester_thr=3\n",
    "# frequent_users_1213_semester_interactions = get_semester_info_with_user_thresh(print_timeperiod='2012 and 2013',\n",
    "#                                                                                   usi=user_semester_interactions,\n",
    "#                                                                                   semesters_idx=semesters_idx,\n",
    "#                                                                                   n_semester_thr=n_semester_thr)\n",
    "\n",
    "# frequent_users_1213_semester_interactions"
   ]
  },
  {
   "cell_type": "markdown",
   "metadata": {},
   "source": [
    "3k isnt good..."
   ]
  },
  {
   "cell_type": "markdown",
   "metadata": {},
   "source": [
    "# 2011-07 to 2014-01 11M"
   ]
  },
  {
   "cell_type": "markdown",
   "metadata": {},
   "source": [
    "5M or 8M wasnt enough inter per bucket"
   ]
  },
  {
   "cell_type": "code",
   "execution_count": 8,
   "metadata": {},
   "outputs": [
    {
     "name": "stdout",
     "output_type": "stream",
     "text": [
      "0,1000000,2000000,3000000,4000000,5000000,6000000,7000000,8000000,9000000,10000000,11000000,complete\n",
      "done!\n",
      "number of lines  7608520\n",
      "number of books  2852453\n",
      "number of users  3499\n"
     ]
    },
    {
     "data": {
      "image/png": "[encoded data removed]",
      "text/plain": [
       "<Figure size 640x480 with 1 Axes>"
      ]
     },
     "metadata": {},
     "output_type": "display_data"
    }
   ],
   "source": [
    "# period=['2011-01', '2014-06']\n",
    "period=['2011-07', '2014-01']\n",
    "sample = 'sample_'+str(period[0])+'_until_'+str(period[1])\n",
    "\n",
    "save_folder=output_path+sample+'/'\n",
    "filename = 'tracks_inter_merged_coldstart_11M' #5M, 8M\n",
    "\n",
    "inter_df, _, user_set, item_set  = load_interactions_within_period_to_dict(head=11000000,#None,\n",
    "                                                                        period=period,\n",
    "                                                                        save_folder=save_folder, \n",
    "                                                                        save_filename=filename,\n",
    "                                                                        file_foldername=dataset_folderpath+'lfm1b-tracks/lfm1b-tracks.inter')"
   ]
  },
  {
   "cell_type": "code",
   "execution_count": 10,
   "metadata": {},
   "outputs": [
    {
     "data": {
      "text/plain": [
       "Timestamp('2013-12-01 00:00:00')"
      ]
     },
     "execution_count": 10,
     "metadata": {},
     "output_type": "execute_result"
    }
   ],
   "source": [
    "inter_df.date.max()"
   ]
  },
  {
   "cell_type": "code",
   "execution_count": 11,
   "metadata": {},
   "outputs": [
    {
     "name": "stdout",
     "output_type": "stream",
     "text": [
      "0.0 %\n"
     ]
    }
   ],
   "source": [
    "user_presence_df, user_month_interactions, \\\n",
    "    trimestres, user_trimestre_interactions, \\\n",
    "        semesters, user_semester_interactions = get_interactions_info(inter_df, user_col, quarter_info=True, semester_info=True)"
   ]
  },
  {
   "cell_type": "code",
   "execution_count": 12,
   "metadata": {},
   "outputs": [
    {
     "name": "stdout",
     "output_type": "stream",
     "text": [
      "578 users of 3499 (16.519%) occurr in 80.0% or more months.\n",
      "1346 users of 3499 (38.468%) occurr in 80.0% or more quarters.\n",
      "2068 users of 3499 (59.103%) occurr in 80.0% or more semesters.\n"
     ]
    },
    {
     "data": {
      "text/plain": [
       "['output/lastfm1b_dump/sample_2011-07_until_2014-01/tracks_inter_merged_coldstart_11M_frequent_users_0.8.joblib']"
      ]
     },
     "execution_count": 12,
     "metadata": {},
     "output_type": "execute_result"
    }
   ],
   "source": [
    "joblib.dump(user_presence_df, save_folder+filename+'_user_presence_df.joblib')\n",
    "joblib.dump(user_month_interactions, save_folder+filename+'_user_month_interactions.joblib')\n",
    "joblib.dump(trimestres, save_folder+filename+'_trimestres.joblib')\n",
    "joblib.dump(user_trimestre_interactions, save_folder+filename+'_user_trimestre_interactions.joblib')\n",
    "joblib.dump(semesters, save_folder+filename+'_semesters.joblib')\n",
    "joblib.dump(user_semester_interactions, save_folder+filename+'_user_semester_interactions.joblib')\n",
    "\n",
    "thr=0.8\n",
    "\n",
    "frequent_users = get_frequent_users(user_presence_df, frequency_threshold=thr)\n",
    "joblib.dump(frequent_users, save_folder+filename+'_frequent_users_'+str(thr)+'.joblib') # has all 3 in one file"
   ]
  },
  {
   "cell_type": "code",
   "execution_count": 13,
   "metadata": {},
   "outputs": [
    {
     "data": {
      "text/html": [
       "<div>\n",
       "<style scoped>\n",
       "    .dataframe tbody tr th:only-of-type {\n",
       "        vertical-align: middle;\n",
       "    }\n",
       "\n",
       "    .dataframe tbody tr th {\n",
       "        vertical-align: top;\n",
       "    }\n",
       "\n",
       "    .dataframe thead th {\n",
       "        text-align: right;\n",
       "    }\n",
       "</style>\n",
       "<table border=\"1\" class=\"dataframe\">\n",
       "  <thead>\n",
       "    <tr style=\"text-align: right;\">\n",
       "      <th></th>\n",
       "      <th>0</th>\n",
       "      <th>1</th>\n",
       "      <th>2</th>\n",
       "      <th>3</th>\n",
       "      <th>4</th>\n",
       "    </tr>\n",
       "  </thead>\n",
       "  <tbody>\n",
       "    <tr>\n",
       "      <th>1000557</th>\n",
       "      <td>6.0</td>\n",
       "      <td>6.0</td>\n",
       "      <td>5.0</td>\n",
       "      <td>6.0</td>\n",
       "      <td>6.0</td>\n",
       "    </tr>\n",
       "    <tr>\n",
       "      <th>14975516</th>\n",
       "      <td>4.0</td>\n",
       "      <td>5.0</td>\n",
       "      <td>5.0</td>\n",
       "      <td>5.0</td>\n",
       "      <td>4.0</td>\n",
       "    </tr>\n",
       "    <tr>\n",
       "      <th>14972179</th>\n",
       "      <td>1.0</td>\n",
       "      <td>2.0</td>\n",
       "      <td>1.0</td>\n",
       "      <td>5.0</td>\n",
       "      <td>2.0</td>\n",
       "    </tr>\n",
       "    <tr>\n",
       "      <th>14914319</th>\n",
       "      <td>5.0</td>\n",
       "      <td>6.0</td>\n",
       "      <td>4.0</td>\n",
       "      <td>0.0</td>\n",
       "      <td>0.0</td>\n",
       "    </tr>\n",
       "    <tr>\n",
       "      <th>4931051</th>\n",
       "      <td>5.0</td>\n",
       "      <td>1.0</td>\n",
       "      <td>1.0</td>\n",
       "      <td>0.0</td>\n",
       "      <td>1.0</td>\n",
       "    </tr>\n",
       "    <tr>\n",
       "      <th>...</th>\n",
       "      <td>...</td>\n",
       "      <td>...</td>\n",
       "      <td>...</td>\n",
       "      <td>...</td>\n",
       "      <td>...</td>\n",
       "    </tr>\n",
       "    <tr>\n",
       "      <th>5086832</th>\n",
       "      <td>0.0</td>\n",
       "      <td>0.0</td>\n",
       "      <td>0.0</td>\n",
       "      <td>0.0</td>\n",
       "      <td>1.0</td>\n",
       "    </tr>\n",
       "    <tr>\n",
       "      <th>6068727</th>\n",
       "      <td>0.0</td>\n",
       "      <td>0.0</td>\n",
       "      <td>0.0</td>\n",
       "      <td>0.0</td>\n",
       "      <td>1.0</td>\n",
       "    </tr>\n",
       "    <tr>\n",
       "      <th>38190371</th>\n",
       "      <td>0.0</td>\n",
       "      <td>0.0</td>\n",
       "      <td>0.0</td>\n",
       "      <td>0.0</td>\n",
       "      <td>1.0</td>\n",
       "    </tr>\n",
       "    <tr>\n",
       "      <th>3624292</th>\n",
       "      <td>0.0</td>\n",
       "      <td>0.0</td>\n",
       "      <td>0.0</td>\n",
       "      <td>0.0</td>\n",
       "      <td>1.0</td>\n",
       "    </tr>\n",
       "    <tr>\n",
       "      <th>19450665</th>\n",
       "      <td>0.0</td>\n",
       "      <td>0.0</td>\n",
       "      <td>0.0</td>\n",
       "      <td>0.0</td>\n",
       "      <td>1.0</td>\n",
       "    </tr>\n",
       "  </tbody>\n",
       "</table>\n",
       "<p>3499 rows × 5 columns</p>\n",
       "</div>"
      ],
      "text/plain": [
       "            0    1    2    3    4\n",
       "1000557   6.0  6.0  5.0  6.0  6.0\n",
       "14975516  4.0  5.0  5.0  5.0  4.0\n",
       "14972179  1.0  2.0  1.0  5.0  2.0\n",
       "14914319  5.0  6.0  4.0  0.0  0.0\n",
       "4931051   5.0  1.0  1.0  0.0  1.0\n",
       "...       ...  ...  ...  ...  ...\n",
       "5086832   0.0  0.0  0.0  0.0  1.0\n",
       "6068727   0.0  0.0  0.0  0.0  1.0\n",
       "38190371  0.0  0.0  0.0  0.0  1.0\n",
       "3624292   0.0  0.0  0.0  0.0  1.0\n",
       "19450665  0.0  0.0  0.0  0.0  1.0\n",
       "\n",
       "[3499 rows x 5 columns]"
      ]
     },
     "execution_count": 13,
     "metadata": {},
     "output_type": "execute_result"
    }
   ],
   "source": [
    "user_semester_interactions"
   ]
  },
  {
   "cell_type": "code",
   "execution_count": 14,
   "metadata": {},
   "outputs": [
    {
     "name": "stdout",
     "output_type": "stream",
     "text": [
      "2477 users of 3499 (70.79165475850243%) are in 75.0% or more semesters in 2012 and 2013 (40239.0 interactions)\n",
      "\n",
      "Number of interactions per semester in 2012 and 2013:\n",
      " 1     9875.0\n",
      "2    10969.0\n",
      "3    10287.0\n",
      "4     9108.0\n",
      "dtype: float64\n"
     ]
    },
    {
     "data": {
      "text/html": [
       "<div>\n",
       "<style scoped>\n",
       "    .dataframe tbody tr th:only-of-type {\n",
       "        vertical-align: middle;\n",
       "    }\n",
       "\n",
       "    .dataframe tbody tr th {\n",
       "        vertical-align: top;\n",
       "    }\n",
       "\n",
       "    .dataframe thead th {\n",
       "        text-align: right;\n",
       "    }\n",
       "</style>\n",
       "<table border=\"1\" class=\"dataframe\">\n",
       "  <thead>\n",
       "    <tr style=\"text-align: right;\">\n",
       "      <th></th>\n",
       "      <th>1</th>\n",
       "      <th>2</th>\n",
       "      <th>3</th>\n",
       "      <th>4</th>\n",
       "    </tr>\n",
       "  </thead>\n",
       "  <tbody>\n",
       "    <tr>\n",
       "      <th>1000557</th>\n",
       "      <td>6.0</td>\n",
       "      <td>5.0</td>\n",
       "      <td>6.0</td>\n",
       "      <td>6.0</td>\n",
       "    </tr>\n",
       "    <tr>\n",
       "      <th>14975516</th>\n",
       "      <td>5.0</td>\n",
       "      <td>5.0</td>\n",
       "      <td>5.0</td>\n",
       "      <td>4.0</td>\n",
       "    </tr>\n",
       "    <tr>\n",
       "      <th>14972179</th>\n",
       "      <td>2.0</td>\n",
       "      <td>1.0</td>\n",
       "      <td>5.0</td>\n",
       "      <td>2.0</td>\n",
       "    </tr>\n",
       "    <tr>\n",
       "      <th>4931051</th>\n",
       "      <td>1.0</td>\n",
       "      <td>1.0</td>\n",
       "      <td>0.0</td>\n",
       "      <td>1.0</td>\n",
       "    </tr>\n",
       "    <tr>\n",
       "      <th>14912953</th>\n",
       "      <td>6.0</td>\n",
       "      <td>6.0</td>\n",
       "      <td>6.0</td>\n",
       "      <td>6.0</td>\n",
       "    </tr>\n",
       "    <tr>\n",
       "      <th>...</th>\n",
       "      <td>...</td>\n",
       "      <td>...</td>\n",
       "      <td>...</td>\n",
       "      <td>...</td>\n",
       "    </tr>\n",
       "    <tr>\n",
       "      <th>11725379</th>\n",
       "      <td>0.0</td>\n",
       "      <td>1.0</td>\n",
       "      <td>6.0</td>\n",
       "      <td>5.0</td>\n",
       "    </tr>\n",
       "    <tr>\n",
       "      <th>27113317</th>\n",
       "      <td>0.0</td>\n",
       "      <td>1.0</td>\n",
       "      <td>6.0</td>\n",
       "      <td>6.0</td>\n",
       "    </tr>\n",
       "    <tr>\n",
       "      <th>6620888</th>\n",
       "      <td>0.0</td>\n",
       "      <td>1.0</td>\n",
       "      <td>4.0</td>\n",
       "      <td>1.0</td>\n",
       "    </tr>\n",
       "    <tr>\n",
       "      <th>49844951</th>\n",
       "      <td>0.0</td>\n",
       "      <td>1.0</td>\n",
       "      <td>6.0</td>\n",
       "      <td>6.0</td>\n",
       "    </tr>\n",
       "    <tr>\n",
       "      <th>12830823</th>\n",
       "      <td>0.0</td>\n",
       "      <td>1.0</td>\n",
       "      <td>6.0</td>\n",
       "      <td>5.0</td>\n",
       "    </tr>\n",
       "  </tbody>\n",
       "</table>\n",
       "<p>2477 rows × 4 columns</p>\n",
       "</div>"
      ],
      "text/plain": [
       "            1    2    3    4\n",
       "1000557   6.0  5.0  6.0  6.0\n",
       "14975516  5.0  5.0  5.0  4.0\n",
       "14972179  2.0  1.0  5.0  2.0\n",
       "4931051   1.0  1.0  0.0  1.0\n",
       "14912953  6.0  6.0  6.0  6.0\n",
       "...       ...  ...  ...  ...\n",
       "11725379  0.0  1.0  6.0  5.0\n",
       "27113317  0.0  1.0  6.0  6.0\n",
       "6620888   0.0  1.0  4.0  1.0\n",
       "49844951  0.0  1.0  6.0  6.0\n",
       "12830823  0.0  1.0  6.0  5.0\n",
       "\n",
       "[2477 rows x 4 columns]"
      ]
     },
     "execution_count": 14,
     "metadata": {},
     "output_type": "execute_result"
    }
   ],
   "source": [
    "semesters_idx=[1,2,3,4]\n",
    "n_semester_thr=3\n",
    "frequent_users_1213_semester_interactions = get_semester_info_with_user_thresh(print_timeperiod='2012 and 2013',\n",
    "                                                                                  usi=user_semester_interactions,\n",
    "                                                                                  semesters_idx=semesters_idx,\n",
    "                                                                                  n_semester_thr=n_semester_thr)\n",
    "\n",
    "frequent_users_1213_semester_interactions"
   ]
  },
  {
   "cell_type": "code",
   "execution_count": 15,
   "metadata": {},
   "outputs": [
    {
     "data": {
      "text/plain": [
       "['1000557', '14975516', '14972179', '4931051', '14912953']"
      ]
     },
     "execution_count": 15,
     "metadata": {},
     "output_type": "execute_result"
    }
   ],
   "source": [
    "frequent_users_1213 = frequent_users_1213_semester_interactions.index.to_list()\n",
    "frequent_users_1213[:5]"
   ]
  },
  {
   "cell_type": "code",
   "execution_count": 16,
   "metadata": {},
   "outputs": [
    {
     "data": {
      "text/plain": [
       "1000557     6.0\n",
       "14975516    4.0\n",
       "14972179    1.0\n",
       "4931051     5.0\n",
       "14912953    6.0\n",
       "           ... \n",
       "11725379    0.0\n",
       "27113317    0.0\n",
       "6620888     0.0\n",
       "49844951    0.0\n",
       "12830823    0.0\n",
       "Name: 0, Length: 2477, dtype: float64"
      ]
     },
     "execution_count": 16,
     "metadata": {},
     "output_type": "execute_result"
    }
   ],
   "source": [
    "# get frequent user interactions from the cold start bucket\n",
    "f = user_semester_interactions.index.isin(frequent_users_1213)\n",
    "cold_start_semester_interactions = user_semester_interactions.loc[f, 0]\n",
    "cold_start_semester_interactions"
   ]
  },
  {
   "cell_type": "code",
   "execution_count": 17,
   "metadata": {},
   "outputs": [
    {
     "data": {
      "text/html": [
       "<div>\n",
       "<style scoped>\n",
       "    .dataframe tbody tr th:only-of-type {\n",
       "        vertical-align: middle;\n",
       "    }\n",
       "\n",
       "    .dataframe tbody tr th {\n",
       "        vertical-align: top;\n",
       "    }\n",
       "\n",
       "    .dataframe thead th {\n",
       "        text-align: right;\n",
       "    }\n",
       "</style>\n",
       "<table border=\"1\" class=\"dataframe\">\n",
       "  <thead>\n",
       "    <tr style=\"text-align: right;\">\n",
       "      <th></th>\n",
       "      <th>0</th>\n",
       "      <th>1</th>\n",
       "      <th>2</th>\n",
       "      <th>3</th>\n",
       "      <th>4</th>\n",
       "    </tr>\n",
       "  </thead>\n",
       "  <tbody>\n",
       "    <tr>\n",
       "      <th>1000557</th>\n",
       "      <td>6.0</td>\n",
       "      <td>6.0</td>\n",
       "      <td>5.0</td>\n",
       "      <td>6.0</td>\n",
       "      <td>6.0</td>\n",
       "    </tr>\n",
       "    <tr>\n",
       "      <th>14975516</th>\n",
       "      <td>4.0</td>\n",
       "      <td>5.0</td>\n",
       "      <td>5.0</td>\n",
       "      <td>5.0</td>\n",
       "      <td>4.0</td>\n",
       "    </tr>\n",
       "    <tr>\n",
       "      <th>14972179</th>\n",
       "      <td>1.0</td>\n",
       "      <td>2.0</td>\n",
       "      <td>1.0</td>\n",
       "      <td>5.0</td>\n",
       "      <td>2.0</td>\n",
       "    </tr>\n",
       "    <tr>\n",
       "      <th>4931051</th>\n",
       "      <td>5.0</td>\n",
       "      <td>1.0</td>\n",
       "      <td>1.0</td>\n",
       "      <td>0.0</td>\n",
       "      <td>1.0</td>\n",
       "    </tr>\n",
       "    <tr>\n",
       "      <th>14912953</th>\n",
       "      <td>6.0</td>\n",
       "      <td>6.0</td>\n",
       "      <td>6.0</td>\n",
       "      <td>6.0</td>\n",
       "      <td>6.0</td>\n",
       "    </tr>\n",
       "    <tr>\n",
       "      <th>...</th>\n",
       "      <td>...</td>\n",
       "      <td>...</td>\n",
       "      <td>...</td>\n",
       "      <td>...</td>\n",
       "      <td>...</td>\n",
       "    </tr>\n",
       "    <tr>\n",
       "      <th>11725379</th>\n",
       "      <td>0.0</td>\n",
       "      <td>0.0</td>\n",
       "      <td>1.0</td>\n",
       "      <td>6.0</td>\n",
       "      <td>5.0</td>\n",
       "    </tr>\n",
       "    <tr>\n",
       "      <th>27113317</th>\n",
       "      <td>0.0</td>\n",
       "      <td>0.0</td>\n",
       "      <td>1.0</td>\n",
       "      <td>6.0</td>\n",
       "      <td>6.0</td>\n",
       "    </tr>\n",
       "    <tr>\n",
       "      <th>6620888</th>\n",
       "      <td>0.0</td>\n",
       "      <td>0.0</td>\n",
       "      <td>1.0</td>\n",
       "      <td>4.0</td>\n",
       "      <td>1.0</td>\n",
       "    </tr>\n",
       "    <tr>\n",
       "      <th>49844951</th>\n",
       "      <td>0.0</td>\n",
       "      <td>0.0</td>\n",
       "      <td>1.0</td>\n",
       "      <td>6.0</td>\n",
       "      <td>6.0</td>\n",
       "    </tr>\n",
       "    <tr>\n",
       "      <th>12830823</th>\n",
       "      <td>0.0</td>\n",
       "      <td>0.0</td>\n",
       "      <td>1.0</td>\n",
       "      <td>6.0</td>\n",
       "      <td>5.0</td>\n",
       "    </tr>\n",
       "  </tbody>\n",
       "</table>\n",
       "<p>2477 rows × 5 columns</p>\n",
       "</div>"
      ],
      "text/plain": [
       "            0    1    2    3    4\n",
       "1000557   6.0  6.0  5.0  6.0  6.0\n",
       "14975516  4.0  5.0  5.0  5.0  4.0\n",
       "14972179  1.0  2.0  1.0  5.0  2.0\n",
       "4931051   5.0  1.0  1.0  0.0  1.0\n",
       "14912953  6.0  6.0  6.0  6.0  6.0\n",
       "...       ...  ...  ...  ...  ...\n",
       "11725379  0.0  0.0  1.0  6.0  5.0\n",
       "27113317  0.0  0.0  1.0  6.0  6.0\n",
       "6620888   0.0  0.0  1.0  4.0  1.0\n",
       "49844951  0.0  0.0  1.0  6.0  6.0\n",
       "12830823  0.0  0.0  1.0  6.0  5.0\n",
       "\n",
       "[2477 rows x 5 columns]"
      ]
     },
     "execution_count": 17,
     "metadata": {},
     "output_type": "execute_result"
    }
   ],
   "source": [
    "# add frequent user interactions from the cold start bucket to frame\n",
    "frequent_users_1213_semester_interactions.insert(0, 0, cold_start_semester_interactions)\n",
    "frequent_users_1213_semester_interactions"
   ]
  },
  {
   "cell_type": "code",
   "execution_count": 18,
   "metadata": {},
   "outputs": [],
   "source": [
    "# fu_1314_semesters = semesters # cold start + sample (it's the same bc the initial sample was already cold start + 2y)\n",
    "# fu_1314_semesters"
   ]
  },
  {
   "cell_type": "code",
   "execution_count": 19,
   "metadata": {},
   "outputs": [],
   "source": [
    "thr = n_semester_thr/len(semesters_idx) # 4 semesters -> 2 years \n",
    "sample_fu_1213 = 'fu_'+str(thr)"
   ]
  },
  {
   "cell_type": "code",
   "execution_count": 20,
   "metadata": {},
   "outputs": [
    {
     "data": {
      "text/plain": [
       "['output/lastfm1b_dump/sample_2011-07_until_2014-01/tracks_inter_merged_coldstart_11M_fu_0.75_user_semester_interactions.joblib']"
      ]
     },
     "execution_count": 20,
     "metadata": {},
     "output_type": "execute_result"
    }
   ],
   "source": [
    "# joblib.dump(frequent_users_1213_semester_interactions, save_folder+filename+'_fu_'+str(n_semester_thr/len(semesters_idx))+'_user_semester_interactions.joblib')\n",
    "\n",
    "# joblib.dump(fu_1314_semesters, output_path+filename+'_'+sample_fu_1213+'_semestres.joblib')\n",
    "joblib.dump([None, None, frequent_users_1213], save_folder+filename+'_frequent_users_'+str(thr)+'.joblib')\n",
    "joblib.dump(frequent_users_1213_semester_interactions, save_folder+filename+'_'+sample_fu_1213+'_user_semester_interactions.joblib')"
   ]
  },
  {
   "cell_type": "markdown",
   "metadata": {},
   "source": [
    "# meta"
   ]
  },
  {
   "cell_type": "code",
   "execution_count": 21,
   "metadata": {},
   "outputs": [
    {
     "data": {
      "text/html": [
       "<div>\n",
       "<style scoped>\n",
       "    .dataframe tbody tr th:only-of-type {\n",
       "        vertical-align: middle;\n",
       "    }\n",
       "\n",
       "    .dataframe tbody tr th {\n",
       "        vertical-align: top;\n",
       "    }\n",
       "\n",
       "    .dataframe thead th {\n",
       "        text-align: right;\n",
       "    }\n",
       "</style>\n",
       "<table border=\"1\" class=\"dataframe\">\n",
       "  <thead>\n",
       "    <tr style=\"text-align: right;\">\n",
       "      <th></th>\n",
       "      <th>tracks_id:token</th>\n",
       "      <th>name:token_seq</th>\n",
       "      <th>artists_id:token</th>\n",
       "    </tr>\n",
       "  </thead>\n",
       "  <tbody>\n",
       "    <tr>\n",
       "      <th>0</th>\n",
       "      <td>1</td>\n",
       "      <td>A Matter of Time</td>\n",
       "      <td>3</td>\n",
       "    </tr>\n",
       "    <tr>\n",
       "      <th>1</th>\n",
       "      <td>2</td>\n",
       "      <td>Hangar 18</td>\n",
       "      <td>1</td>\n",
       "    </tr>\n",
       "    <tr>\n",
       "      <th>2</th>\n",
       "      <td>3</td>\n",
       "      <td>Up the Downstair</td>\n",
       "      <td>4</td>\n",
       "    </tr>\n",
       "    <tr>\n",
       "      <th>3</th>\n",
       "      <td>4</td>\n",
       "      <td>Mr. Carter (Featuring Jay-Z)</td>\n",
       "      <td>2</td>\n",
       "    </tr>\n",
       "    <tr>\n",
       "      <th>4</th>\n",
       "      <td>5</td>\n",
       "      <td>Mixtaped</td>\n",
       "      <td>5</td>\n",
       "    </tr>\n",
       "  </tbody>\n",
       "</table>\n",
       "</div>"
      ],
      "text/plain": [
       "   tracks_id:token                name:token_seq  artists_id:token\n",
       "0                1              A Matter of Time                 3\n",
       "1                2                     Hangar 18                 1\n",
       "2                3              Up the Downstair                 4\n",
       "3                4  Mr. Carter (Featuring Jay-Z)                 2\n",
       "4                5                      Mixtaped                 5"
      ]
     },
     "execution_count": 21,
     "metadata": {},
     "output_type": "execute_result"
    }
   ],
   "source": [
    "ex_item = pd.read_csv(dataset_folderpath+'lfm1b-tracks-example/lfm1b-tracks.item', delimiter='\\t')#, header=None)\n",
    "ex_item.head()"
   ]
  },
  {
   "cell_type": "code",
   "execution_count": 22,
   "metadata": {},
   "outputs": [
    {
     "data": {
      "text/plain": [
       "2852453"
      ]
     },
     "execution_count": 22,
     "metadata": {},
     "output_type": "execute_result"
    }
   ],
   "source": [
    "len(item_set)"
   ]
  },
  {
   "cell_type": "code",
   "execution_count": 26,
   "metadata": {},
   "outputs": [
    {
     "name": "stdout",
     "output_type": "stream",
     "text": [
      "0,len=2850000,len=2840000,len=2830000,len=2820000,len=2810000,len=2800000,len=2790000,len=2780000,len=2770000,100000,len=2760000,len=2750000,len=2740000,"
     ]
    }
   ],
   "source": [
    "item_set_ordered = sorted(item_set, key=int)\n",
    "\n",
    "item_dict = {}\n",
    "with open(dataset_folderpath+'lfm1b-tracks/lfm1b-tracks.item', 'r') as file:\n",
    "    file.readline()\n",
    "    for i, line in enumerate(file):\n",
    "        line_array = re.split('\\t|\\n', line) # leave the last '\\n' column to make sure the file is read properly\n",
    "\n",
    "        if i % 100000 == 0:\n",
    "            print(i, end=',')\n",
    "\n",
    "        if len(item_set_ordered) % 10000 == 0:\n",
    "            print('len='+str(len(item_set_ordered)), end=',')\n",
    "  \n",
    "        if (len(item_set_ordered)>0) and (line_array[0] in item_set_ordered):\n",
    "            item_dict[i] = line_array[0:3]\n",
    "            item_set_ordered.remove(line_array[0])\n",
    "        elif len(item_set_ordered)==0:\n",
    "            break\n",
    "    print('complete!')"
   ]
  },
  {
   "cell_type": "code",
   "execution_count": 25,
   "metadata": {},
   "outputs": [
    {
     "data": {
      "text/plain": [
       "'tracks_inter_merged_coldstart_11M'"
      ]
     },
     "execution_count": 25,
     "metadata": {},
     "output_type": "execute_result"
    }
   ],
   "source": [
    "filename"
   ]
  },
  {
   "cell_type": "code",
   "execution_count": null,
   "metadata": {},
   "outputs": [],
   "source": [
    "item_df = pd.DataFrame.from_dict(item_dict, orient='index',columns=['item_id', 'name', 'artist'])\n",
    "item_df.to_csv(save_folder+'tracks_items_seen_meta'+'_df.csv')"
   ]
  },
  {
   "cell_type": "code",
   "execution_count": null,
   "metadata": {},
   "outputs": [],
   "source": []
  }
 ],
 "metadata": {
  "kernelspec": {
   "display_name": "m_f_1st",
   "language": "python",
   "name": "python3"
  },
  "language_info": {
   "codemirror_mode": {
    "name": "ipython",
    "version": 3
   },
   "file_extension": ".py",
   "mimetype": "text/x-python",
   "name": "python",
   "nbconvert_exporter": "python",
   "pygments_lexer": "ipython3",
   "version": "3.9.18"
  }
 },
 "nbformat": 4,
 "nbformat_minor": 2
}
