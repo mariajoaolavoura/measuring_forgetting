{
 "cells": [
  {
   "cell_type": "code",
   "execution_count": null,
   "metadata": {},
   "outputs": [],
   "source": [
    "import os\n",
    "import sys\n",
    "sys.path.append(os.path.abspath('') + '/..')"
   ]
  },
  {
   "cell_type": "markdown",
   "metadata": {},
   "source": [
    "# imports"
   ]
  },
  {
   "cell_type": "code",
   "execution_count": null,
   "metadata": {},
   "outputs": [],
   "source": [
    "import pandas as pd \n",
    "import joblib\n",
    "\n",
    "from data import ImplicitData, getBucketsHoldouts\n",
    "from eval_implicit import EvaluateHoldouts, EvalPrequential \n",
    "from recommenders_implicit import ISGD\n",
    "\n",
    "from plot_utils import recall_heatmap\n",
    "from data_utils.transfer_learning_scores import *\n",
    "from dataset_evaluation_utils import * \n",
    "\n",
    "\n",
    "import seaborn as sns\n",
    "import matplotlib.pyplot as plt\n",
    "sns.set_style('whitegrid')\n",
    "\n",
    "# import plotly.offline as py\n",
    "# pd.options.plotting.backend = \"plotly\"\n",
    "# py.init_notebook_mode() # graphs charts inline (IPython).\n",
    "\n",
    "a4_dims = (11.7, 8.27)"
   ]
  },
  {
   "cell_type": "code",
   "execution_count": null,
   "metadata": {},
   "outputs": [],
   "source": [
    "# results_matrix_path = output_path+filename+'_semesterly_bucket_'+MODEL_NAME+'_results.csv',\n",
    "def get_evaluation_metrics(results_matrix_path):\n",
    "    rm_df = pd.read_csv(results_matrix_path)\n",
    "\n",
    "    print('\\n\\nstage -> metrics')    \n",
    "    arecall = avg_recall(rm_df)\n",
    "    BWT_lr, meanBWT_lr = compute_BWT_lopes_ranzato(rm_df)\n",
    "    BWT_r, meanBWT_r = compute_BWT_rodrigues(rm_df)\n",
    "    BWT_r_symmetric, meanBWT_r_symmetric = compute_symmetric_BWT_rodrigues(rm_df)\n",
    "    FWT_r = compute_FWT_rodrigues(rm_df)\n",
    "\n",
    "    print('avg recall', arecall.round(6))\n",
    "    print('BWT (v. Lopez-Paz e Ranzato GEM 2017), meanBWT', (BWT_lr, meanBWT_lr))\n",
    "    print('BWT (v. Díaz-Rodriguez et al. 2018), meanBWT', (BWT_r, meanBWT_r))\n",
    "    print('Symmetrical BWT (v. Díaz-Rodriguez et al. 2018), meanSymmetricBWT', (BWT_r_symmetric, meanBWT_r_symmetric))\n",
    "    print('FWT', FWT_r.round(6))\n"
   ]
  },
  {
   "cell_type": "code",
   "execution_count": null,
   "metadata": {},
   "outputs": [],
   "source": [
    "def get_models_eval_metrics(dataset_name, output_path, filename, model_names_list):\n",
    "    print(dataset_name)\n",
    "    for model_name in model_names_list:\n",
    "        print(model_name+':')\n",
    "        results_matrix_path = output_path+filename+'_semesterly_bucket_'+model_name+'_results.csv'\n",
    "        get_evaluation_metrics(results_matrix_path)\n",
    "    "
   ]
  },
  {
   "cell_type": "code",
   "execution_count": null,
   "metadata": {},
   "outputs": [],
   "source": [
    "MODELS_NAMES_LIST = ['ISGD', 'RAISGD', 'RSISGD', 'BPRMF', 'UKNN']"
   ]
  },
  {
   "cell_type": "markdown",
   "metadata": {},
   "source": [
    "# Goodreads"
   ]
  },
  {
   "cell_type": "code",
   "execution_count": null,
   "metadata": {},
   "outputs": [],
   "source": [
    "filename = 'inter_dedup_coldstart_3stars_4x714k'\n",
    "\n",
    "dataset_folderpath = '../datasets/goodreads/'\n",
    "\n",
    "dataset_name = 'Goodreads'\n",
    "filename = 'inter_dedup_coldstart_3stars_4x714k'\n",
    "\n",
    "period=['2012-07', '2015-01']\n",
    "sample = 'sample_'+str(period[0])+'_until_'+str(period[1])\n",
    "dump_foldername ='goodreads_dump/'+'pos_rates_only/'+sample+'/'\n",
    "\n",
    "images_path, output_path, heatmaps_path, diversity_graphpath, diversity_filepath = get_folderpaths(dump_foldername)\n"
   ]
  },
  {
   "cell_type": "code",
   "execution_count": null,
   "metadata": {},
   "outputs": [],
   "source": [
    "get_models_eval_metrics(dataset_name, output_path, filename, MODELS_NAMES_LIST)"
   ]
  },
  {
   "cell_type": "markdown",
   "metadata": {},
   "source": [
    "# LastFM 1B"
   ]
  },
  {
   "cell_type": "code",
   "execution_count": null,
   "metadata": {},
   "outputs": [],
   "source": [
    "dataset_folderpath = '../datasets/lastfm1b/'\n",
    "\n",
    "dataset_name = 'LastFM1b'\n",
    "\n",
    "dump_foldername ='lastfm1b_dump/'\n",
    "_, base_outputpath, _, _, _ = get_folderpaths(dump_foldername)\n",
    "\n",
    "\n",
    "period=['2011-07', '2014-01']\n",
    "sample = 'sample_'+str(period[0])+'_until_'+str(period[1])\n",
    "\n",
    "sample_version_dump_foldername=dump_foldername+sample+'/'\n",
    "filename = 'tracks_inter_merged_coldstart_11M'\n",
    "\n",
    "\n",
    "# rule: what/which_data_set/sample_version/what/\n",
    "images_path, output_path, heatmaps_path, diversity_graphpath, diversity_filepath = get_folderpaths(sample_version_dump_foldername)"
   ]
  },
  {
   "cell_type": "code",
   "execution_count": null,
   "metadata": {},
   "outputs": [],
   "source": [
    "get_models_eval_metrics(dataset_name, output_path, filename, MODELS_NAMES_LIST)"
   ]
  }
 ],
 "metadata": {
  "language_info": {
   "name": "python"
  }
 },
 "nbformat": 4,
 "nbformat_minor": 2
}
