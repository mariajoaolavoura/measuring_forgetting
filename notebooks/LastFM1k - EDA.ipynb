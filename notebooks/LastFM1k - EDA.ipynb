{
 "cells": [
  {
   "cell_type": "markdown",
   "metadata": {},
   "source": [
    "*Goal*: find out if the dataset fits the data requirements\n",
    "\n",
    "*Data Requirements*:\n",
    "* user activity is >80% of all time intervals\n",
    "* month 1, user has >5 rates\n",
    "* month 0, to pre-train model\n",
    "* items are comparable\n",
    "* timestamp\n",
    "* implicit feedback\n",
    "* ranking problem\n",
    "\n",
    "\n",
    "*Conclusion*:\n",
    "need to install a database to get meta data, so the items are comparable\n"
   ]
  },
  {
   "cell_type": "code",
   "execution_count": 1,
   "metadata": {},
   "outputs": [],
   "source": [
    "import os\n",
    "import sys\n",
    "sys.path.append(os.path.abspath('') + '/..')"
   ]
  },
  {
   "cell_type": "code",
   "execution_count": 2,
   "metadata": {},
   "outputs": [],
   "source": [
    "import pandas as pd \n",
    "import re\n",
    "import numpy as np\n",
    "\n",
    "from data_utils import getDF\n",
    "from dataset_evaluation_utils import * \n",
    "\n",
    "from datetime import datetime, timezone\n",
    "\n",
    "import seaborn as sns\n",
    "import matplotlib.pyplot as plt\n",
    "sns.set_style('whitegrid')\n",
    "\n",
    "# import plotly.offline as py\n",
    "# pd.options.plotting.backend = \"plotly\"\n",
    "# py.init_notebook_mode() # graphs charts inline (IPython).\n",
    "\n",
    "a4_dims = (11.7, 8.27)"
   ]
  },
  {
   "cell_type": "markdown",
   "metadata": {},
   "source": [
    "# extract file"
   ]
  },
  {
   "cell_type": "code",
   "execution_count": 3,
   "metadata": {},
   "outputs": [],
   "source": [
    "# import tarfile \n",
    "  \n",
    "# # open file \n",
    "# file = tarfile.open('../datasets/lastfm-dataset-1K.tar.gz') \n",
    "  \n",
    "# # extracting file \n",
    "# file.extractall('../datasets/') \n",
    "  \n",
    "# file.close() "
   ]
  },
  {
   "cell_type": "markdown",
   "metadata": {},
   "source": [
    "# paths"
   ]
  },
  {
   "cell_type": "code",
   "execution_count": 3,
   "metadata": {},
   "outputs": [],
   "source": [
    "dataset_name = 'LastFM_1k'\n",
    "dump_foldername ='lastfm_1k_dump/'\n",
    "\n",
    "# rule: what/which_data_set/sample_version/what/\n",
    "images_path, output_path, heatmaps_path, diversity_graphpath, diversity_filepath = get_folderpaths(dump_foldername)"
   ]
  },
  {
   "cell_type": "markdown",
   "metadata": {},
   "source": [
    "# read file and save rows"
   ]
  },
  {
   "cell_type": "code",
   "execution_count": 4,
   "metadata": {},
   "outputs": [],
   "source": [
    "names=['user_id', 'timestamp', 'musicbrainz-artist-id', 'artist-name', 'musicbrainz-track-id', 'track-name', 'nextline_char']\n",
    "n_lines = 19150868 # from readme file\n",
    "k = 1000\n",
    "step = 100*k\n",
    "perc = step/n_lines\n",
    "# step = int(n_lines*perc)\n"
   ]
  },
  {
   "cell_type": "code",
   "execution_count": null,
   "metadata": {},
   "outputs": [],
   "source": [
    "# run online\n",
    "t = 0\n",
    "all_rows = np.empty((0, len(names)), dtype=object)\n",
    "\n",
    "file = open('../datasets/lastfm-dataset-1K/userid-timestamp-artid-artname-traid-traname.tsv', 'r')\n",
    "\n",
    "# skip lines for-case\n",
    "for s in range(step,  500*k+1, step):\n",
    "    for i in range(s):\n",
    "        line = file.readline()\n",
    "\n",
    "print('start reading on was left on')\n",
    "for s in range(500*k+step,  n_lines+1, step):\n",
    "    rows = np.empty((0, len(names)), dtype=object)\n",
    "\n",
    "    for i in range(s):\n",
    "        line = file.readline()\n",
    "        # line_array = line.split('\\t|\\n')\n",
    "        line_array = re.split('\\t|\\n', line) # leave the last '\\n' column to make sure the file is read properly\n",
    "        if (not line) | (len(line_array)!=len(names)):\n",
    "            print(line)\n",
    "            print(line_array)\n",
    "            break\n",
    "        rows = np.vstack([rows, line_array]) \n",
    "\n",
    "    print(s, s/n_lines)\n",
    "    joblib.dump(rows, output_path+dataset_name+'_rows_'+format(perc, '.5f')+'_next'+format((s/k), '.0f')+'k.joblib')\n",
    "    \n",
    "    t += s\n",
    "    all_rows = np.vstack([all_rows, rows])\n",
    "\n",
    "joblib.dump(all_rows, output_path+dataset_name+'_all_rows_perc'+format(perc, '.5f')+'_next'+format((t/k), '.0f')+'k.joblib')\n",
    "file.close()"
   ]
  },
  {
   "cell_type": "code",
   "execution_count": null,
   "metadata": {},
   "outputs": [],
   "source": [
    "# there is no repetition of lines from earlier files within the most recent files\n",
    "# it just reads a bigger chunk every time\n",
    "\n",
    "# t = 0\n",
    "# all_rows = np.empty((0, len(names)), dtype=object)\n",
    "\n",
    "# file = open('../datasets/lastfm-dataset-1K/userid-timestamp-artid-artname-traid-traname.tsv', 'r')\n",
    "# for s in range(step,  n_lines+step, step):\n",
    "#     rows = np.empty((0, len(names)), dtype=object)\n",
    "    \n",
    "#     for i in range(s):\n",
    "#         line = file.readline()\n",
    "#         # line_array = line.split('\\t|\\n')\n",
    "#         line_array = re.split('\\t|\\n', line) # leave the last '\\n' column to make sure the file is read properly\n",
    "#         if (not line) | (len(line_array)!=len(names)):\n",
    "#             print(line)\n",
    "#             print(line_array)\n",
    "#             break\n",
    "#         rows = np.vstack([rows, line_array]) \n",
    "\n",
    "#     print(s, s/n_lines)\n",
    "#     joblib.dump(rows, output_path+dataset_name+'_rows_'+format(perc, '.5f')+'_next'+format((s/k), '.0f')+'k.joblib')\n",
    "#     t += s\n",
    "#     all_rows = np.vstack([all_rows, rows])\n",
    "#     print(all_rows)\n",
    "# joblib.dump(all_rows, output_path+dataset_name+'_all_rows_perc'+format(perc, '.5f')+'_next'+format((t/k), '.0f')+'k.joblib')"
   ]
  },
  {
   "cell_type": "code",
   "execution_count": 25,
   "metadata": {},
   "outputs": [
    {
     "name": "stdout",
     "output_type": "stream",
     "text": [
      "all files written are 0.078325431515689 of the original file\n"
     ]
    }
   ],
   "source": [
    "# i stopped reading the file\n",
    "print('all files written are '+ str((100*k + 200*k + 300*k + 400*k + 500*k)/n_lines) + ' of the original file')"
   ]
  },
  {
   "cell_type": "markdown",
   "metadata": {},
   "source": [
    "# read separate files and write all_rows file"
   ]
  },
  {
   "cell_type": "code",
   "execution_count": 30,
   "metadata": {},
   "outputs": [
    {
     "data": {
      "text/plain": [
       "['output/lastfm_1k_dump/LastFM_1k_all_rows_perc0.00522_next1500k.joblib']"
      ]
     },
     "execution_count": 30,
     "metadata": {},
     "output_type": "execute_result"
    }
   ],
   "source": [
    "# t = 0\n",
    "# all_rows = np.empty((0, len(names)), dtype=object)\n",
    "# for s in range(step,  500*k+step, step):\n",
    "#     t += s\n",
    "#     all_rows = np.vstack([all_rows, \n",
    "#                           joblib.load(output_path+dataset_name+'_rows_perc'+format(perc, '.5f')+'_next'+format((s/k), '.0f')+'k.joblib')])\n",
    "# #     # print(all_rows)\n",
    "# joblib.dump(all_rows, output_path+dataset_name+'_all_rows_perc'+format(perc, '.5f')+'_next'+format((t/k), '.0f')+'k.joblib')"
   ]
  },
  {
   "cell_type": "markdown",
   "metadata": {},
   "source": [
    "___\n",
    "\n",
    "# Last FM\n",
    "\n",
    "1k users\n",
    "\n",
    "http://www.ocelma.net/MusicRecommendationDataset/lastfm-1K.html"
   ]
  },
  {
   "cell_type": "markdown",
   "metadata": {},
   "source": [
    "# original dataframe - the first 1500k lines"
   ]
  },
  {
   "cell_type": "code",
   "execution_count": 5,
   "metadata": {},
   "outputs": [
    {
     "data": {
      "text/html": [
       "<div>\n",
       "<style scoped>\n",
       "    .dataframe tbody tr th:only-of-type {\n",
       "        vertical-align: middle;\n",
       "    }\n",
       "\n",
       "    .dataframe tbody tr th {\n",
       "        vertical-align: top;\n",
       "    }\n",
       "\n",
       "    .dataframe thead th {\n",
       "        text-align: right;\n",
       "    }\n",
       "</style>\n",
       "<table border=\"1\" class=\"dataframe\">\n",
       "  <thead>\n",
       "    <tr style=\"text-align: right;\">\n",
       "      <th></th>\n",
       "      <th>user_id</th>\n",
       "      <th>timestamp</th>\n",
       "      <th>musicbrainz-artist-id</th>\n",
       "      <th>artist-name</th>\n",
       "      <th>musicbrainz-track-id</th>\n",
       "      <th>track-name</th>\n",
       "      <th>nextline_char</th>\n",
       "    </tr>\n",
       "  </thead>\n",
       "  <tbody>\n",
       "    <tr>\n",
       "      <th>0</th>\n",
       "      <td>user_000001</td>\n",
       "      <td>2009-05-04T23:08:57Z</td>\n",
       "      <td>f1b1cf71-bd35-4e99-8624-24a6e15f133a</td>\n",
       "      <td>Deep Dish</td>\n",
       "      <td></td>\n",
       "      <td>Fuck Me Im Famous (Pacha Ibiza)-09-28-2007</td>\n",
       "      <td></td>\n",
       "    </tr>\n",
       "    <tr>\n",
       "      <th>1</th>\n",
       "      <td>user_000001</td>\n",
       "      <td>2009-05-04T13:54:10Z</td>\n",
       "      <td>a7f7df4a-77d8-4f12-8acd-5c60c93f4de8</td>\n",
       "      <td>坂本龍一</td>\n",
       "      <td></td>\n",
       "      <td>Composition 0919 (Live_2009_4_15)</td>\n",
       "      <td></td>\n",
       "    </tr>\n",
       "    <tr>\n",
       "      <th>2</th>\n",
       "      <td>user_000001</td>\n",
       "      <td>2009-05-04T13:52:04Z</td>\n",
       "      <td>a7f7df4a-77d8-4f12-8acd-5c60c93f4de8</td>\n",
       "      <td>坂本龍一</td>\n",
       "      <td></td>\n",
       "      <td>Mc2 (Live_2009_4_15)</td>\n",
       "      <td></td>\n",
       "    </tr>\n",
       "    <tr>\n",
       "      <th>3</th>\n",
       "      <td>user_000001</td>\n",
       "      <td>2009-05-04T13:42:52Z</td>\n",
       "      <td>a7f7df4a-77d8-4f12-8acd-5c60c93f4de8</td>\n",
       "      <td>坂本龍一</td>\n",
       "      <td></td>\n",
       "      <td>Hibari (Live_2009_4_15)</td>\n",
       "      <td></td>\n",
       "    </tr>\n",
       "    <tr>\n",
       "      <th>4</th>\n",
       "      <td>user_000001</td>\n",
       "      <td>2009-05-04T13:42:11Z</td>\n",
       "      <td>a7f7df4a-77d8-4f12-8acd-5c60c93f4de8</td>\n",
       "      <td>坂本龍一</td>\n",
       "      <td></td>\n",
       "      <td>Mc1 (Live_2009_4_15)</td>\n",
       "      <td></td>\n",
       "    </tr>\n",
       "    <tr>\n",
       "      <th>...</th>\n",
       "      <td>...</td>\n",
       "      <td>...</td>\n",
       "      <td>...</td>\n",
       "      <td>...</td>\n",
       "      <td>...</td>\n",
       "      <td>...</td>\n",
       "      <td>...</td>\n",
       "    </tr>\n",
       "    <tr>\n",
       "      <th>1499995</th>\n",
       "      <td>user_000070</td>\n",
       "      <td>2008-07-16T10:28:04Z</td>\n",
       "      <td>5b11f4ce-a62d-471e-81fc-a69a8278c7da</td>\n",
       "      <td>Nirvana</td>\n",
       "      <td>656cfcb3-5870-4db8-8510-6cb598b47aad</td>\n",
       "      <td>Dumb</td>\n",
       "      <td></td>\n",
       "    </tr>\n",
       "    <tr>\n",
       "      <th>1499996</th>\n",
       "      <td>user_000070</td>\n",
       "      <td>2008-07-14T20:20:36Z</td>\n",
       "      <td>39ab1aed-75e0-4140-bd47-540276886b60</td>\n",
       "      <td>Oasis</td>\n",
       "      <td>bc61d0bf-9b61-43c0-85ce-265b6172efda</td>\n",
       "      <td>Falling Down (Chemical Brothers Remix)</td>\n",
       "      <td></td>\n",
       "    </tr>\n",
       "    <tr>\n",
       "      <th>1499997</th>\n",
       "      <td>user_000070</td>\n",
       "      <td>2008-07-14T17:45:16Z</td>\n",
       "      <td>9de8f66e-3cd1-4f11-8328-38200f0612b0</td>\n",
       "      <td>Doves</td>\n",
       "      <td>c83dafb9-3bad-40a0-a682-3647950cbcc2</td>\n",
       "      <td>Sky Starts Falling</td>\n",
       "      <td></td>\n",
       "    </tr>\n",
       "    <tr>\n",
       "      <th>1499998</th>\n",
       "      <td>user_000070</td>\n",
       "      <td>2008-07-14T17:39:49Z</td>\n",
       "      <td>9de8f66e-3cd1-4f11-8328-38200f0612b0</td>\n",
       "      <td>Doves</td>\n",
       "      <td>0b162982-de61-4535-89fd-e1ba5efc4bfb</td>\n",
       "      <td>Walk In Fire</td>\n",
       "      <td></td>\n",
       "    </tr>\n",
       "    <tr>\n",
       "      <th>1499999</th>\n",
       "      <td>user_000070</td>\n",
       "      <td>2008-07-14T17:35:41Z</td>\n",
       "      <td>9de8f66e-3cd1-4f11-8328-38200f0612b0</td>\n",
       "      <td>Doves</td>\n",
       "      <td>37493bba-c75e-4dd8-9530-c5c09cfc0f69</td>\n",
       "      <td>Snowden</td>\n",
       "      <td></td>\n",
       "    </tr>\n",
       "  </tbody>\n",
       "</table>\n",
       "<p>1500000 rows × 7 columns</p>\n",
       "</div>"
      ],
      "text/plain": [
       "             user_id             timestamp  \\\n",
       "0        user_000001  2009-05-04T23:08:57Z   \n",
       "1        user_000001  2009-05-04T13:54:10Z   \n",
       "2        user_000001  2009-05-04T13:52:04Z   \n",
       "3        user_000001  2009-05-04T13:42:52Z   \n",
       "4        user_000001  2009-05-04T13:42:11Z   \n",
       "...              ...                   ...   \n",
       "1499995  user_000070  2008-07-16T10:28:04Z   \n",
       "1499996  user_000070  2008-07-14T20:20:36Z   \n",
       "1499997  user_000070  2008-07-14T17:45:16Z   \n",
       "1499998  user_000070  2008-07-14T17:39:49Z   \n",
       "1499999  user_000070  2008-07-14T17:35:41Z   \n",
       "\n",
       "                        musicbrainz-artist-id artist-name  \\\n",
       "0        f1b1cf71-bd35-4e99-8624-24a6e15f133a   Deep Dish   \n",
       "1        a7f7df4a-77d8-4f12-8acd-5c60c93f4de8        坂本龍一   \n",
       "2        a7f7df4a-77d8-4f12-8acd-5c60c93f4de8        坂本龍一   \n",
       "3        a7f7df4a-77d8-4f12-8acd-5c60c93f4de8        坂本龍一   \n",
       "4        a7f7df4a-77d8-4f12-8acd-5c60c93f4de8        坂本龍一   \n",
       "...                                       ...         ...   \n",
       "1499995  5b11f4ce-a62d-471e-81fc-a69a8278c7da     Nirvana   \n",
       "1499996  39ab1aed-75e0-4140-bd47-540276886b60       Oasis   \n",
       "1499997  9de8f66e-3cd1-4f11-8328-38200f0612b0       Doves   \n",
       "1499998  9de8f66e-3cd1-4f11-8328-38200f0612b0       Doves   \n",
       "1499999  9de8f66e-3cd1-4f11-8328-38200f0612b0       Doves   \n",
       "\n",
       "                         musicbrainz-track-id  \\\n",
       "0                                               \n",
       "1                                               \n",
       "2                                               \n",
       "3                                               \n",
       "4                                               \n",
       "...                                       ...   \n",
       "1499995  656cfcb3-5870-4db8-8510-6cb598b47aad   \n",
       "1499996  bc61d0bf-9b61-43c0-85ce-265b6172efda   \n",
       "1499997  c83dafb9-3bad-40a0-a682-3647950cbcc2   \n",
       "1499998  0b162982-de61-4535-89fd-e1ba5efc4bfb   \n",
       "1499999  37493bba-c75e-4dd8-9530-c5c09cfc0f69   \n",
       "\n",
       "                                         track-name nextline_char  \n",
       "0        Fuck Me Im Famous (Pacha Ibiza)-09-28-2007                \n",
       "1                 Composition 0919 (Live_2009_4_15)                \n",
       "2                              Mc2 (Live_2009_4_15)                \n",
       "3                           Hibari (Live_2009_4_15)                \n",
       "4                              Mc1 (Live_2009_4_15)                \n",
       "...                                             ...           ...  \n",
       "1499995                                        Dumb                \n",
       "1499996      Falling Down (Chemical Brothers Remix)                \n",
       "1499997                          Sky Starts Falling                \n",
       "1499998                                Walk In Fire                \n",
       "1499999                                     Snowden                \n",
       "\n",
       "[1500000 rows x 7 columns]"
      ]
     },
     "execution_count": 5,
     "metadata": {},
     "output_type": "execute_result"
    }
   ],
   "source": [
    "orig_df = pd.DataFrame(joblib.load(output_path+dataset_name+'_all_rows_perc'+format(perc, '.5f')+'_next1500k.joblib')\n",
    "                       , columns=names)\n",
    "orig_df"
   ]
  },
  {
   "cell_type": "markdown",
   "metadata": {},
   "source": [
    "# timestamp"
   ]
  },
  {
   "cell_type": "code",
   "execution_count": 6,
   "metadata": {},
   "outputs": [
    {
     "name": "stdout",
     "output_type": "stream",
     "text": [
      "2005-02-14T11:21:05Z\n",
      "2009-06-19T17:12:30Z\n"
     ]
    },
    {
     "data": {
      "text/plain": [
       "4.345205479452055"
      ]
     },
     "execution_count": 6,
     "metadata": {},
     "output_type": "execute_result"
    }
   ],
   "source": [
    "_ = orig_df.set_index('timestamp')\n",
    "_.sort_index(inplace=True)\n",
    "start = _.iloc[0].name\n",
    "print(start)\n",
    "end = _.iloc[-1].name\n",
    "print(end)\n",
    "(pd.Timestamp(end) - pd.Timestamp(start)).days/365"
   ]
  },
  {
   "cell_type": "markdown",
   "metadata": {},
   "source": [
    "# NA values"
   ]
  },
  {
   "cell_type": "code",
   "execution_count": 7,
   "metadata": {},
   "outputs": [
    {
     "data": {
      "text/html": [
       "<div>\n",
       "<style scoped>\n",
       "    .dataframe tbody tr th:only-of-type {\n",
       "        vertical-align: middle;\n",
       "    }\n",
       "\n",
       "    .dataframe tbody tr th {\n",
       "        vertical-align: top;\n",
       "    }\n",
       "\n",
       "    .dataframe thead th {\n",
       "        text-align: right;\n",
       "    }\n",
       "</style>\n",
       "<table border=\"1\" class=\"dataframe\">\n",
       "  <thead>\n",
       "    <tr style=\"text-align: right;\">\n",
       "      <th></th>\n",
       "      <th>user_id</th>\n",
       "      <th>timestamp</th>\n",
       "      <th>musicbrainz-artist-id</th>\n",
       "      <th>artist-name</th>\n",
       "      <th>musicbrainz-track-id</th>\n",
       "      <th>track-name</th>\n",
       "      <th>nextline_char</th>\n",
       "    </tr>\n",
       "  </thead>\n",
       "  <tbody>\n",
       "    <tr>\n",
       "      <th>0</th>\n",
       "      <td>user_000001</td>\n",
       "      <td>2009-05-04T23:08:57Z</td>\n",
       "      <td>f1b1cf71-bd35-4e99-8624-24a6e15f133a</td>\n",
       "      <td>Deep Dish</td>\n",
       "      <td>None</td>\n",
       "      <td>Fuck Me Im Famous (Pacha Ibiza)-09-28-2007</td>\n",
       "      <td>None</td>\n",
       "    </tr>\n",
       "    <tr>\n",
       "      <th>1</th>\n",
       "      <td>user_000001</td>\n",
       "      <td>2009-05-04T13:54:10Z</td>\n",
       "      <td>a7f7df4a-77d8-4f12-8acd-5c60c93f4de8</td>\n",
       "      <td>坂本龍一</td>\n",
       "      <td>None</td>\n",
       "      <td>Composition 0919 (Live_2009_4_15)</td>\n",
       "      <td>None</td>\n",
       "    </tr>\n",
       "    <tr>\n",
       "      <th>2</th>\n",
       "      <td>user_000001</td>\n",
       "      <td>2009-05-04T13:52:04Z</td>\n",
       "      <td>a7f7df4a-77d8-4f12-8acd-5c60c93f4de8</td>\n",
       "      <td>坂本龍一</td>\n",
       "      <td>None</td>\n",
       "      <td>Mc2 (Live_2009_4_15)</td>\n",
       "      <td>None</td>\n",
       "    </tr>\n",
       "    <tr>\n",
       "      <th>3</th>\n",
       "      <td>user_000001</td>\n",
       "      <td>2009-05-04T13:42:52Z</td>\n",
       "      <td>a7f7df4a-77d8-4f12-8acd-5c60c93f4de8</td>\n",
       "      <td>坂本龍一</td>\n",
       "      <td>None</td>\n",
       "      <td>Hibari (Live_2009_4_15)</td>\n",
       "      <td>None</td>\n",
       "    </tr>\n",
       "    <tr>\n",
       "      <th>4</th>\n",
       "      <td>user_000001</td>\n",
       "      <td>2009-05-04T13:42:11Z</td>\n",
       "      <td>a7f7df4a-77d8-4f12-8acd-5c60c93f4de8</td>\n",
       "      <td>坂本龍一</td>\n",
       "      <td>None</td>\n",
       "      <td>Mc1 (Live_2009_4_15)</td>\n",
       "      <td>None</td>\n",
       "    </tr>\n",
       "    <tr>\n",
       "      <th>...</th>\n",
       "      <td>...</td>\n",
       "      <td>...</td>\n",
       "      <td>...</td>\n",
       "      <td>...</td>\n",
       "      <td>...</td>\n",
       "      <td>...</td>\n",
       "      <td>...</td>\n",
       "    </tr>\n",
       "    <tr>\n",
       "      <th>1499995</th>\n",
       "      <td>user_000070</td>\n",
       "      <td>2008-07-16T10:28:04Z</td>\n",
       "      <td>5b11f4ce-a62d-471e-81fc-a69a8278c7da</td>\n",
       "      <td>Nirvana</td>\n",
       "      <td>656cfcb3-5870-4db8-8510-6cb598b47aad</td>\n",
       "      <td>Dumb</td>\n",
       "      <td>None</td>\n",
       "    </tr>\n",
       "    <tr>\n",
       "      <th>1499996</th>\n",
       "      <td>user_000070</td>\n",
       "      <td>2008-07-14T20:20:36Z</td>\n",
       "      <td>39ab1aed-75e0-4140-bd47-540276886b60</td>\n",
       "      <td>Oasis</td>\n",
       "      <td>bc61d0bf-9b61-43c0-85ce-265b6172efda</td>\n",
       "      <td>Falling Down (Chemical Brothers Remix)</td>\n",
       "      <td>None</td>\n",
       "    </tr>\n",
       "    <tr>\n",
       "      <th>1499997</th>\n",
       "      <td>user_000070</td>\n",
       "      <td>2008-07-14T17:45:16Z</td>\n",
       "      <td>9de8f66e-3cd1-4f11-8328-38200f0612b0</td>\n",
       "      <td>Doves</td>\n",
       "      <td>c83dafb9-3bad-40a0-a682-3647950cbcc2</td>\n",
       "      <td>Sky Starts Falling</td>\n",
       "      <td>None</td>\n",
       "    </tr>\n",
       "    <tr>\n",
       "      <th>1499998</th>\n",
       "      <td>user_000070</td>\n",
       "      <td>2008-07-14T17:39:49Z</td>\n",
       "      <td>9de8f66e-3cd1-4f11-8328-38200f0612b0</td>\n",
       "      <td>Doves</td>\n",
       "      <td>0b162982-de61-4535-89fd-e1ba5efc4bfb</td>\n",
       "      <td>Walk In Fire</td>\n",
       "      <td>None</td>\n",
       "    </tr>\n",
       "    <tr>\n",
       "      <th>1499999</th>\n",
       "      <td>user_000070</td>\n",
       "      <td>2008-07-14T17:35:41Z</td>\n",
       "      <td>9de8f66e-3cd1-4f11-8328-38200f0612b0</td>\n",
       "      <td>Doves</td>\n",
       "      <td>37493bba-c75e-4dd8-9530-c5c09cfc0f69</td>\n",
       "      <td>Snowden</td>\n",
       "      <td>None</td>\n",
       "    </tr>\n",
       "  </tbody>\n",
       "</table>\n",
       "<p>1500000 rows × 7 columns</p>\n",
       "</div>"
      ],
      "text/plain": [
       "             user_id             timestamp  \\\n",
       "0        user_000001  2009-05-04T23:08:57Z   \n",
       "1        user_000001  2009-05-04T13:54:10Z   \n",
       "2        user_000001  2009-05-04T13:52:04Z   \n",
       "3        user_000001  2009-05-04T13:42:52Z   \n",
       "4        user_000001  2009-05-04T13:42:11Z   \n",
       "...              ...                   ...   \n",
       "1499995  user_000070  2008-07-16T10:28:04Z   \n",
       "1499996  user_000070  2008-07-14T20:20:36Z   \n",
       "1499997  user_000070  2008-07-14T17:45:16Z   \n",
       "1499998  user_000070  2008-07-14T17:39:49Z   \n",
       "1499999  user_000070  2008-07-14T17:35:41Z   \n",
       "\n",
       "                        musicbrainz-artist-id artist-name  \\\n",
       "0        f1b1cf71-bd35-4e99-8624-24a6e15f133a   Deep Dish   \n",
       "1        a7f7df4a-77d8-4f12-8acd-5c60c93f4de8        坂本龍一   \n",
       "2        a7f7df4a-77d8-4f12-8acd-5c60c93f4de8        坂本龍一   \n",
       "3        a7f7df4a-77d8-4f12-8acd-5c60c93f4de8        坂本龍一   \n",
       "4        a7f7df4a-77d8-4f12-8acd-5c60c93f4de8        坂本龍一   \n",
       "...                                       ...         ...   \n",
       "1499995  5b11f4ce-a62d-471e-81fc-a69a8278c7da     Nirvana   \n",
       "1499996  39ab1aed-75e0-4140-bd47-540276886b60       Oasis   \n",
       "1499997  9de8f66e-3cd1-4f11-8328-38200f0612b0       Doves   \n",
       "1499998  9de8f66e-3cd1-4f11-8328-38200f0612b0       Doves   \n",
       "1499999  9de8f66e-3cd1-4f11-8328-38200f0612b0       Doves   \n",
       "\n",
       "                         musicbrainz-track-id  \\\n",
       "0                                        None   \n",
       "1                                        None   \n",
       "2                                        None   \n",
       "3                                        None   \n",
       "4                                        None   \n",
       "...                                       ...   \n",
       "1499995  656cfcb3-5870-4db8-8510-6cb598b47aad   \n",
       "1499996  bc61d0bf-9b61-43c0-85ce-265b6172efda   \n",
       "1499997  c83dafb9-3bad-40a0-a682-3647950cbcc2   \n",
       "1499998  0b162982-de61-4535-89fd-e1ba5efc4bfb   \n",
       "1499999  37493bba-c75e-4dd8-9530-c5c09cfc0f69   \n",
       "\n",
       "                                         track-name nextline_char  \n",
       "0        Fuck Me Im Famous (Pacha Ibiza)-09-28-2007          None  \n",
       "1                 Composition 0919 (Live_2009_4_15)          None  \n",
       "2                              Mc2 (Live_2009_4_15)          None  \n",
       "3                           Hibari (Live_2009_4_15)          None  \n",
       "4                              Mc1 (Live_2009_4_15)          None  \n",
       "...                                             ...           ...  \n",
       "1499995                                        Dumb          None  \n",
       "1499996      Falling Down (Chemical Brothers Remix)          None  \n",
       "1499997                          Sky Starts Falling          None  \n",
       "1499998                                Walk In Fire          None  \n",
       "1499999                                     Snowden          None  \n",
       "\n",
       "[1500000 rows x 7 columns]"
      ]
     },
     "execution_count": 7,
     "metadata": {},
     "output_type": "execute_result"
    }
   ],
   "source": [
    "orig_df[orig_df==''] = None\n",
    "orig_df"
   ]
  },
  {
   "cell_type": "code",
   "execution_count": 8,
   "metadata": {},
   "outputs": [
    {
     "data": {
      "text/plain": [
       "user_id                        0\n",
       "timestamp                      0\n",
       "musicbrainz-artist-id      49902\n",
       "artist-name                    0\n",
       "musicbrainz-track-id      193891\n",
       "track-name                     0\n",
       "nextline_char            1500000\n",
       "dtype: int64"
      ]
     },
     "execution_count": 8,
     "metadata": {},
     "output_type": "execute_result"
    }
   ],
   "source": [
    "orig_df.isna().sum()"
   ]
  },
  {
   "cell_type": "code",
   "execution_count": 9,
   "metadata": {},
   "outputs": [],
   "source": [
    "orig_df.drop(columns=['nextline_char'], inplace=True)"
   ]
  },
  {
   "cell_type": "markdown",
   "metadata": {},
   "source": [
    "## track-name\n",
    "searching for meaningless values"
   ]
  },
  {
   "cell_type": "code",
   "execution_count": 10,
   "metadata": {},
   "outputs": [
    {
     "data": {
      "text/plain": [
       "False    1499020\n",
       "True         980\n",
       "Name: track-name, dtype: int64"
      ]
     },
     "execution_count": 10,
     "metadata": {},
     "output_type": "execute_result"
    }
   ],
   "source": [
    "orig_df['track-name'].str.contains('[U-u]ntitled', regex=True).value_counts()"
   ]
  },
  {
   "cell_type": "code",
   "execution_count": 11,
   "metadata": {},
   "outputs": [
    {
     "data": {
      "text/plain": [
       "track-name                      \n",
       "[Untitled]                          268\n",
       "Untitled 1                           62\n",
       "[Untitled Track]                     40\n",
       "Sigur 4 (Untitled)                   23\n",
       "Untitled (Velapene Screen Remix)     23\n",
       "                                   ... \n",
       "Untitled 4 (\"Njósnavélin\")            1\n",
       "Untitled Duet No. 3                   1\n",
       "Untitled Finale                       1\n",
       "Untitled Gabber Song                  1\n",
       "\"Untitled\" (Meditation)               1\n",
       "Length: 104, dtype: int64"
      ]
     },
     "execution_count": 11,
     "metadata": {},
     "output_type": "execute_result"
    }
   ],
   "source": [
    "untitled_filter = (orig_df['track-name'].str.contains('[U-u]ntitled', regex=True))\n",
    "orig_df.loc[untitled_filter & (orig_df['track-name']!='Untitled'), ['track-name']].value_counts()"
   ]
  },
  {
   "cell_type": "code",
   "execution_count": 12,
   "metadata": {},
   "outputs": [
    {
     "data": {
      "text/plain": [
       "array(['[Untitled]', 'Untitled 1', '[Untitled Track 5]',\n",
       "       '[Untitled Track 4]', '[Untitled Track 3]', '[Untitled Track 2]',\n",
       "       '[Untitled Track 1]', 'Forever Untitled',\n",
       "       '[Untitled Instrumental]', 'A - Untitled [Akufen Rmx]',\n",
       "       'Untitled Head', \"Untitled 'Akufen Rmx\", 'Untitled - Side B',\n",
       "       'Untitled - Side A',\n",
       "       'Untitled - Slacker Jack - Divisivle - Muff Diver',\n",
       "       'B1 - Untitled', 'A1 - Untitled', 'A2. Untitled 5',\n",
       "       'Untitled Loop', '(Untitled Loop)', 'Untitled B', 'Untitled A',\n",
       "       'Untitled #1', '(B1) Untitled', '(A1) Untitled',\n",
       "       'At The End Of It All / [Untitled]', 'Untitled (Bonus Track)',\n",
       "       'Smells Like Teen Spirit (Untitled Remix)',\n",
       "       'Untitled (Velapene Screen Remix)', '(Untitled)',\n",
       "       'Untitled Melody', 'Untitled - (The Police Vs. Klaxons)',\n",
       "       '[Untitled] (Warren Defever Remix)',\n",
       "       '[Untitled] (Feat. Burzootie) (Twisted Science Remix)',\n",
       "       '[Untitled] (Springheel Jack Remix)',\n",
       "       '[Untitled] (Stereolab Remix)', '[Untitled] (Luke Vibert Remix)',\n",
       "       '[Untitled] (Mogwai Remix)', 'Untitled #8 From ( )',\n",
       "       'Untitled Iii', 'Untitled Ii', 'Untitled #4 From ( )',\n",
       "       'Untitled Lullaby', 'C4T7 (Untitled)', 'Untitled 2',\n",
       "       'Kid Koala & Amon Tobin - Untitled', 'Sigur 4 (Untitled)',\n",
       "       'Bobby Untitled', 'Untitled 13', 'Untitled 12', 'Untitled (Demo)',\n",
       "       '[Untitled Track]', 'Untitled Three (Edit)',\n",
       "       'Forever Untitled - (Cenzo Mix - Album Version)',\n",
       "       'Untitled (Piano)', 'Untitled #28', 'Untitled (Preview)',\n",
       "       'Untitled Bonus Track', '[Untitled Bonus Track]',\n",
       "       '[Untitled] (On Kexp)', 'Untitled [Bonus Track]',\n",
       "       'Untitled Preview', 'Untitled (Album Version)',\n",
       "       'Untitled (Slow Song)', 'Untitled Gabber Song', 'Untitled 4',\n",
       "       '[Untitled Hidden Track] [*]', 'Untitled (Feat. Jus Allah)',\n",
       "       'Untitled Heavy Beat', 'Untitled #27', 'B1 Untitled',\n",
       "       'The Box (Untitled Version)', 'Untitled Vii', 'Untitled I',\n",
       "       'Untitled Ver.2', 'Untitled (Intro)',\n",
       "       'I Wish You Were Here / [Untitled]', 'Untitled  (Hidden Track)',\n",
       "       'Hustle A Hustler (Eric D. Clark Remix) / [Untitled]',\n",
       "       'Dauðalagið / The Death Song / Untitled #7 [Live In Ísafjörður April 10Th 2004]',\n",
       "       'Untitled 1 (A Capella)', 'Untitled 1 (Acoustic)',\n",
       "       'Untitled Bonus Track 1', 'Ballad Of The Untitled',\n",
       "       '11Th Untitled Song', 'Untitled 5', 'Untitled (Space Echo)',\n",
       "       '[Untitled Hidden Track]', 'Track 2 (Untitled)',\n",
       "       '\"Untitled\" (Meditation)', 'Untitled Finale',\n",
       "       'Untitled (Hidden Bonus Track)', 'Untitled#3', 'Untitled Boogie',\n",
       "       'Untitled Duet No. 3', 'Untitled Micro Mini',\n",
       "       'Untitled (Iraq Is Dead)', 'Untitled4', 'Untitled3',\n",
       "       'Untitled 1 (\"Vaka\")', 'Untitled 4 (\"Njósnavélin\")',\n",
       "       'Untitled 2 (\"Fyrsta\")', 'As Yet Untitled',\n",
       "       'Untitled (How Does It Feel)'], dtype=object)"
      ]
     },
     "execution_count": 12,
     "metadata": {},
     "output_type": "execute_result"
    }
   ],
   "source": [
    "orig_df.loc[untitled_filter & (orig_df['track-name']!='Untitled'), 'track-name'].unique()"
   ]
  },
  {
   "cell_type": "code",
   "execution_count": 84,
   "metadata": {},
   "outputs": [],
   "source": [
    "# na_filter = orig_df['track-name'].str.contains('[U-u]ntitled', regex=True)\n",
    "# orig_df.loc[na_filter, 'track-name'] = 'Untitled'"
   ]
  },
  {
   "cell_type": "code",
   "execution_count": 85,
   "metadata": {},
   "outputs": [],
   "source": [
    "# orig_df['track-name'].value_counts()"
   ]
  },
  {
   "cell_type": "markdown",
   "metadata": {},
   "source": [
    "* intuitively, different songs from different artists can have the same name \n",
    "* if they are from the same artist, are they the only one they have, or does an artist have different songs with the same name?"
   ]
  },
  {
   "cell_type": "code",
   "execution_count": 88,
   "metadata": {},
   "outputs": [
    {
     "data": {
      "text/plain": [
       "track-name               artist-name                    \n",
       "Untitled 1               Keane                              58\n",
       "Untitled                 Interpol                           48\n",
       "                         Love Is All                        32\n",
       "                         A Hundred Birds                    29\n",
       "[Untitled Track]         Stephen Lynch                      28\n",
       "                                                            ..\n",
       "Untitled Lullaby         Mark Lanegan                        1\n",
       "Untitled Loop            White Dolemite                      1\n",
       "Untitled Ii              Nightwish                           1\n",
       "Untitled I               Nightwish                           1\n",
       "\"Untitled\" (Meditation)  Mf Doom [Special Herbs 9 And 0]     1\n",
       "Length: 255, dtype: int64"
      ]
     },
     "execution_count": 88,
     "metadata": {},
     "output_type": "execute_result"
    }
   ],
   "source": [
    "orig_df.loc[untitled_filter, ['track-name', 'artist-name']].value_counts()"
   ]
  },
  {
   "cell_type": "code",
   "execution_count": 95,
   "metadata": {},
   "outputs": [
    {
     "data": {
      "text/plain": [
       "track-name                         artist-name             musicbrainz-track-id                \n",
       "Untitled 1                         Keane                   9fd1fbe7-f521-4062-99fe-feaadca82c86    58\n",
       "Untitled                           Interpol                5025349a-bd35-42c9-9742-ea682ddc50b9    48\n",
       "Untitled (Velapene Screen Remix)   Interpol                d844f901-0760-484d-b5e8-6914e568d174    23\n",
       "Sigur 4 (Untitled)                 Sigur Rós               87a807fb-49fc-4a23-9ba0-86651e029ea5    23\n",
       "[Untitled]                         The Frosted Ambassador  91212a88-714b-4f54-908b-8289d7f70b52    20\n",
       "                                                                                                   ..\n",
       "                                   Les Savy Fav            98d33000-26ca-4729-b8b9-f0149cf2ef24     1\n",
       "                                   London After Midnight   73765ce3-e3c2-4dc6-9e71-3973b36c4c3d     1\n",
       "                                   Luke Vibert             6bda03e2-ade9-493a-986a-88903158a15c     1\n",
       "                                   Aereogramme             6f6eba06-eaf9-4ad4-b5f1-a59c37d22cdb     1\n",
       "[Untitled] (Warren Defever Remix)  Thurston Moore          adba93a2-73cd-4021-b843-9bcc36620693     1\n",
       "Length: 135, dtype: int64"
      ]
     },
     "execution_count": 95,
     "metadata": {},
     "output_type": "execute_result"
    }
   ],
   "source": [
    "orig_df.loc[untitled_filter, ['track-name', 'artist-name', 'musicbrainz-track-id']].value_counts()"
   ]
  },
  {
   "cell_type": "code",
   "execution_count": 97,
   "metadata": {},
   "outputs": [
    {
     "name": "stdout",
     "output_type": "stream",
     "text": [
      "is there a \"Untiled\" track - artist pair with more than 1 id?\n",
      "number of ids per pair:\n"
     ]
    },
    {
     "data": {
      "text/plain": [
       "1    135\n",
       "dtype: int64"
      ]
     },
     "execution_count": 97,
     "metadata": {},
     "output_type": "execute_result"
    }
   ],
   "source": [
    "print('is there a \"Untiled\" track - artist pair with more than 1 id?\\nnumber of ids per pair:')\n",
    "orig_df.loc[untitled_filter, ['track-name', 'artist-name', 'musicbrainz-track-id']].drop_duplicates().value_counts().value_counts()"
   ]
  },
  {
   "cell_type": "markdown",
   "metadata": {},
   "source": [
    "No, there isnt. It means that even tho the track is named untitled, it was on purpose and it isnt a NA value."
   ]
  },
  {
   "cell_type": "code",
   "execution_count": 103,
   "metadata": {},
   "outputs": [
    {
     "name": "stdout",
     "output_type": "stream",
     "text": [
      "is there a track - artist pair with more than 1 id?\n",
      "number of ids per pair:\n"
     ]
    },
    {
     "data": {
      "text/plain": [
       "1    178979\n",
       "dtype: int64"
      ]
     },
     "execution_count": 103,
     "metadata": {},
     "output_type": "execute_result"
    }
   ],
   "source": [
    "print('is there a track - artist pair with more than 1 id?\\nnumber of ids per pair:')\n",
    "orig_df.loc[:, ['track-name', 'artist-name', 'musicbrainz-track-id']].drop_duplicates().value_counts().value_counts()"
   ]
  },
  {
   "cell_type": "code",
   "execution_count": 104,
   "metadata": {},
   "outputs": [
    {
     "name": "stdout",
     "output_type": "stream",
     "text": [
      "how many track-artist have different ids?\n"
     ]
    },
    {
     "data": {
      "text/plain": [
       "track-name                         artist-name             \n",
       "Who Wants To Live Forever          Dune                        3\n",
       "Take Me Back To Your House         Basement Jaxx               3\n",
       "Another Brick In The Wall, Part 2  Pink Floyd                  3\n",
       "So Much Trouble In The World       Bob Marley & The Wailers    3\n",
       "Over The Hills And Far Away        Led Zeppelin                3\n",
       "                                                              ..\n",
       "Red Is The New Black               Funeral For A Friend        1\n",
       "                                   Avenged Sevenfold           1\n",
       "Red Is A Slow Colour               The Gathering               1\n",
       "Red Intro                          Fugees                      1\n",
       "! (Foreword)                       Pain Of Salvation           1\n",
       "Length: 228465, dtype: int64"
      ]
     },
     "execution_count": 104,
     "metadata": {},
     "output_type": "execute_result"
    }
   ],
   "source": [
    "print('how many track-artist have different ids?')\n",
    "orig_df.loc[:, ['track-name', 'artist-name', 'musicbrainz-track-id']]\\\n",
    "                    .drop_duplicates()[['track-name', 'artist-name']]\\\n",
    "                                            .value_counts()"
   ]
  },
  {
   "cell_type": "markdown",
   "metadata": {},
   "source": [
    "hmmm... :I\n",
    "\n",
    "* since there is NA ids, can I pair track-artist and create an id? should I?\n"
   ]
  },
  {
   "cell_type": "code",
   "execution_count": 105,
   "metadata": {},
   "outputs": [
    {
     "data": {
      "text/html": [
       "<div>\n",
       "<style scoped>\n",
       "    .dataframe tbody tr th:only-of-type {\n",
       "        vertical-align: middle;\n",
       "    }\n",
       "\n",
       "    .dataframe tbody tr th {\n",
       "        vertical-align: top;\n",
       "    }\n",
       "\n",
       "    .dataframe thead th {\n",
       "        text-align: right;\n",
       "    }\n",
       "</style>\n",
       "<table border=\"1\" class=\"dataframe\">\n",
       "  <thead>\n",
       "    <tr style=\"text-align: right;\">\n",
       "      <th></th>\n",
       "      <th>user_id</th>\n",
       "      <th>timestamp</th>\n",
       "      <th>musicbrainz-artist-id</th>\n",
       "      <th>artist-name</th>\n",
       "      <th>musicbrainz-track-id</th>\n",
       "      <th>track-name</th>\n",
       "    </tr>\n",
       "  </thead>\n",
       "  <tbody>\n",
       "    <tr>\n",
       "      <th>996279</th>\n",
       "      <td>user_000041</td>\n",
       "      <td>2007-08-27T17:17:48Z</td>\n",
       "      <td>e497aa76-e7de-4845-a4b7-e27bb9fc9967</td>\n",
       "      <td>Dune</td>\n",
       "      <td>373bc2de-e285-4e52-a521-074643164898</td>\n",
       "      <td>Who Wants To Live Forever</td>\n",
       "    </tr>\n",
       "    <tr>\n",
       "      <th>999591</th>\n",
       "      <td>user_000041</td>\n",
       "      <td>2006-10-02T14:35:49Z</td>\n",
       "      <td>e497aa76-e7de-4845-a4b7-e27bb9fc9967</td>\n",
       "      <td>Dune</td>\n",
       "      <td>7fcde88f-183d-4a5f-afd5-5ef24a8a119b</td>\n",
       "      <td>Who Wants To Live Forever</td>\n",
       "    </tr>\n",
       "    <tr>\n",
       "      <th>1001101</th>\n",
       "      <td>user_000041</td>\n",
       "      <td>2006-03-02T18:44:16Z</td>\n",
       "      <td>e497aa76-e7de-4845-a4b7-e27bb9fc9967</td>\n",
       "      <td>Dune</td>\n",
       "      <td>0e356e50-b6d5-4e0c-ba1d-58d5a9c81dfc</td>\n",
       "      <td>Who Wants To Live Forever</td>\n",
       "    </tr>\n",
       "  </tbody>\n",
       "</table>\n",
       "</div>"
      ],
      "text/plain": [
       "             user_id             timestamp  \\\n",
       "996279   user_000041  2007-08-27T17:17:48Z   \n",
       "999591   user_000041  2006-10-02T14:35:49Z   \n",
       "1001101  user_000041  2006-03-02T18:44:16Z   \n",
       "\n",
       "                        musicbrainz-artist-id artist-name  \\\n",
       "996279   e497aa76-e7de-4845-a4b7-e27bb9fc9967        Dune   \n",
       "999591   e497aa76-e7de-4845-a4b7-e27bb9fc9967        Dune   \n",
       "1001101  e497aa76-e7de-4845-a4b7-e27bb9fc9967        Dune   \n",
       "\n",
       "                         musicbrainz-track-id                 track-name  \n",
       "996279   373bc2de-e285-4e52-a521-074643164898  Who Wants To Live Forever  \n",
       "999591   7fcde88f-183d-4a5f-afd5-5ef24a8a119b  Who Wants To Live Forever  \n",
       "1001101  0e356e50-b6d5-4e0c-ba1d-58d5a9c81dfc  Who Wants To Live Forever  "
      ]
     },
     "execution_count": 105,
     "metadata": {},
     "output_type": "execute_result"
    }
   ],
   "source": [
    "orig_df.loc[(orig_df['track-name']=='Who Wants To Live Forever') & (orig_df['artist-name']=='Dune'), :]"
   ]
  },
  {
   "cell_type": "markdown",
   "metadata": {},
   "source": [
    "oh the timetsamp is different! :D"
   ]
  },
  {
   "cell_type": "code",
   "execution_count": 80,
   "metadata": {},
   "outputs": [
    {
     "name": "stdout",
     "output_type": "stream",
     "text": [
      "                                          musicbrainz-artist-id\n",
      "artist-name                                                    \n",
      "! Www.Polskie-Mp3.Tk ! Katarzyna Groniec                      0\n",
      "!!!                                                           1\n",
      "!4                                                            0\n",
      "!Deladap                                                      1\n",
      "\"Demons\"                                                      1\n",
      "...                                                         ...\n",
      "엄정화                                                           1\n",
      "유채영                                                           1\n",
      "이수영                                                           1\n",
      "이효리                                                           1\n",
      "Ｋｃｅｊ                                                          0\n",
      "\n",
      "[33357 rows x 1 columns]\n",
      "musicbrainz-artist-id\n",
      "1                        26003\n",
      "0                         7017\n",
      "2                          299\n",
      "3                           35\n",
      "4                            3\n",
      "dtype: int64\n"
     ]
    }
   ],
   "source": [
    "_ = orig_df[['artist-name','musicbrainz-artist-id']].drop_duplicates().groupby(['artist-name']).count()\n",
    "print(_)\n",
    "print(_.value_counts())"
   ]
  },
  {
   "cell_type": "code",
   "execution_count": 77,
   "metadata": {},
   "outputs": [
    {
     "data": {
      "text/html": [
       "<div>\n",
       "<style scoped>\n",
       "    .dataframe tbody tr th:only-of-type {\n",
       "        vertical-align: middle;\n",
       "    }\n",
       "\n",
       "    .dataframe tbody tr th {\n",
       "        vertical-align: top;\n",
       "    }\n",
       "\n",
       "    .dataframe thead th {\n",
       "        text-align: right;\n",
       "    }\n",
       "</style>\n",
       "<table border=\"1\" class=\"dataframe\">\n",
       "  <thead>\n",
       "    <tr style=\"text-align: right;\">\n",
       "      <th></th>\n",
       "      <th>musicbrainz-artist-id</th>\n",
       "    </tr>\n",
       "    <tr>\n",
       "      <th>artist-name</th>\n",
       "      <th></th>\n",
       "    </tr>\n",
       "  </thead>\n",
       "  <tbody>\n",
       "    <tr>\n",
       "      <th>Justice</th>\n",
       "      <td>4</td>\n",
       "    </tr>\n",
       "    <tr>\n",
       "      <th>Nico</th>\n",
       "      <td>4</td>\n",
       "    </tr>\n",
       "    <tr>\n",
       "      <th>Odyssey</th>\n",
       "      <td>4</td>\n",
       "    </tr>\n",
       "  </tbody>\n",
       "</table>\n",
       "</div>"
      ],
      "text/plain": [
       "             musicbrainz-artist-id\n",
       "artist-name                       \n",
       "Justice                          4\n",
       "Nico                             4\n",
       "Odyssey                          4"
      ]
     },
     "execution_count": 77,
     "metadata": {},
     "output_type": "execute_result"
    }
   ],
   "source": [
    "_[_['musicbrainz-artist-id']==4]"
   ]
  },
  {
   "cell_type": "code",
   "execution_count": 86,
   "metadata": {},
   "outputs": [],
   "source": [
    "# i was going to generated ids, but it's impossible to know\n",
    "\n",
    "# df_itemid = orig_df[['timestamp','user_id', 'artist-name','track-name']]\n",
    "# df_itemid = df_itemid.set_index(['artist-name' ,'track-name'])\n",
    "# df_itemid\n",
    "\n",
    "# data_clean.sort_index(inplace=True)\n",
    "# mi = data_clean.index.drop_duplicates()\n",
    "# mi[:5]\n",
    "\n",
    "# len(mi)\n",
    "\n",
    "# data_clean.loc[mi[500]]\n",
    "\n",
    "# data_clean['track_id'] = 'track_x'\n",
    "# for i, m in enumerate(mi):\n",
    "#     data_clean.loc[m, 'track_id'] = 'track_'+str(i)"
   ]
  },
  {
   "cell_type": "markdown",
   "metadata": {},
   "source": [
    "too hard. I can't guarantee I'm not mapping the same generated id to different songs"
   ]
  },
  {
   "cell_type": "markdown",
   "metadata": {},
   "source": [
    "# drop missing musicbrainz ids"
   ]
  },
  {
   "cell_type": "code",
   "execution_count": 82,
   "metadata": {},
   "outputs": [
    {
     "data": {
      "text/html": [
       "<div>\n",
       "<style scoped>\n",
       "    .dataframe tbody tr th:only-of-type {\n",
       "        vertical-align: middle;\n",
       "    }\n",
       "\n",
       "    .dataframe tbody tr th {\n",
       "        vertical-align: top;\n",
       "    }\n",
       "\n",
       "    .dataframe thead th {\n",
       "        text-align: right;\n",
       "    }\n",
       "</style>\n",
       "<table border=\"1\" class=\"dataframe\">\n",
       "  <thead>\n",
       "    <tr style=\"text-align: right;\">\n",
       "      <th></th>\n",
       "      <th>user_id</th>\n",
       "      <th>timestamp</th>\n",
       "      <th>musicbrainz-artist-id</th>\n",
       "      <th>artist-name</th>\n",
       "      <th>musicbrainz-track-id</th>\n",
       "      <th>track-name</th>\n",
       "    </tr>\n",
       "  </thead>\n",
       "  <tbody>\n",
       "    <tr>\n",
       "      <th>0</th>\n",
       "      <td>False</td>\n",
       "      <td>False</td>\n",
       "      <td>False</td>\n",
       "      <td>False</td>\n",
       "      <td>True</td>\n",
       "      <td>False</td>\n",
       "    </tr>\n",
       "    <tr>\n",
       "      <th>1</th>\n",
       "      <td>False</td>\n",
       "      <td>False</td>\n",
       "      <td>False</td>\n",
       "      <td>False</td>\n",
       "      <td>True</td>\n",
       "      <td>False</td>\n",
       "    </tr>\n",
       "    <tr>\n",
       "      <th>2</th>\n",
       "      <td>False</td>\n",
       "      <td>False</td>\n",
       "      <td>False</td>\n",
       "      <td>False</td>\n",
       "      <td>True</td>\n",
       "      <td>False</td>\n",
       "    </tr>\n",
       "    <tr>\n",
       "      <th>3</th>\n",
       "      <td>False</td>\n",
       "      <td>False</td>\n",
       "      <td>False</td>\n",
       "      <td>False</td>\n",
       "      <td>True</td>\n",
       "      <td>False</td>\n",
       "    </tr>\n",
       "    <tr>\n",
       "      <th>4</th>\n",
       "      <td>False</td>\n",
       "      <td>False</td>\n",
       "      <td>False</td>\n",
       "      <td>False</td>\n",
       "      <td>True</td>\n",
       "      <td>False</td>\n",
       "    </tr>\n",
       "    <tr>\n",
       "      <th>...</th>\n",
       "      <td>...</td>\n",
       "      <td>...</td>\n",
       "      <td>...</td>\n",
       "      <td>...</td>\n",
       "      <td>...</td>\n",
       "      <td>...</td>\n",
       "    </tr>\n",
       "    <tr>\n",
       "      <th>1499995</th>\n",
       "      <td>False</td>\n",
       "      <td>False</td>\n",
       "      <td>False</td>\n",
       "      <td>False</td>\n",
       "      <td>False</td>\n",
       "      <td>False</td>\n",
       "    </tr>\n",
       "    <tr>\n",
       "      <th>1499996</th>\n",
       "      <td>False</td>\n",
       "      <td>False</td>\n",
       "      <td>False</td>\n",
       "      <td>False</td>\n",
       "      <td>False</td>\n",
       "      <td>False</td>\n",
       "    </tr>\n",
       "    <tr>\n",
       "      <th>1499997</th>\n",
       "      <td>False</td>\n",
       "      <td>False</td>\n",
       "      <td>False</td>\n",
       "      <td>False</td>\n",
       "      <td>False</td>\n",
       "      <td>False</td>\n",
       "    </tr>\n",
       "    <tr>\n",
       "      <th>1499998</th>\n",
       "      <td>False</td>\n",
       "      <td>False</td>\n",
       "      <td>False</td>\n",
       "      <td>False</td>\n",
       "      <td>False</td>\n",
       "      <td>False</td>\n",
       "    </tr>\n",
       "    <tr>\n",
       "      <th>1499999</th>\n",
       "      <td>False</td>\n",
       "      <td>False</td>\n",
       "      <td>False</td>\n",
       "      <td>False</td>\n",
       "      <td>False</td>\n",
       "      <td>False</td>\n",
       "    </tr>\n",
       "  </tbody>\n",
       "</table>\n",
       "<p>1500000 rows × 6 columns</p>\n",
       "</div>"
      ],
      "text/plain": [
       "         user_id  timestamp  musicbrainz-artist-id  artist-name  \\\n",
       "0          False      False                  False        False   \n",
       "1          False      False                  False        False   \n",
       "2          False      False                  False        False   \n",
       "3          False      False                  False        False   \n",
       "4          False      False                  False        False   \n",
       "...          ...        ...                    ...          ...   \n",
       "1499995    False      False                  False        False   \n",
       "1499996    False      False                  False        False   \n",
       "1499997    False      False                  False        False   \n",
       "1499998    False      False                  False        False   \n",
       "1499999    False      False                  False        False   \n",
       "\n",
       "         musicbrainz-track-id  track-name  \n",
       "0                        True       False  \n",
       "1                        True       False  \n",
       "2                        True       False  \n",
       "3                        True       False  \n",
       "4                        True       False  \n",
       "...                       ...         ...  \n",
       "1499995                 False       False  \n",
       "1499996                 False       False  \n",
       "1499997                 False       False  \n",
       "1499998                 False       False  \n",
       "1499999                 False       False  \n",
       "\n",
       "[1500000 rows x 6 columns]"
      ]
     },
     "execution_count": 82,
     "metadata": {},
     "output_type": "execute_result"
    }
   ],
   "source": [
    "orig_df.isna()"
   ]
  },
  {
   "cell_type": "code",
   "execution_count": 84,
   "metadata": {},
   "outputs": [
    {
     "data": {
      "text/html": [
       "<div>\n",
       "<style scoped>\n",
       "    .dataframe tbody tr th:only-of-type {\n",
       "        vertical-align: middle;\n",
       "    }\n",
       "\n",
       "    .dataframe tbody tr th {\n",
       "        vertical-align: top;\n",
       "    }\n",
       "\n",
       "    .dataframe thead th {\n",
       "        text-align: right;\n",
       "    }\n",
       "</style>\n",
       "<table border=\"1\" class=\"dataframe\">\n",
       "  <thead>\n",
       "    <tr style=\"text-align: right;\">\n",
       "      <th></th>\n",
       "      <th>user_id</th>\n",
       "      <th>timestamp</th>\n",
       "      <th>musicbrainz-artist-id</th>\n",
       "      <th>artist-name</th>\n",
       "      <th>musicbrainz-track-id</th>\n",
       "      <th>track-name</th>\n",
       "    </tr>\n",
       "  </thead>\n",
       "  <tbody>\n",
       "    <tr>\n",
       "      <th>10</th>\n",
       "      <td>user_000001</td>\n",
       "      <td>2009-05-04T13:06:09Z</td>\n",
       "      <td>a7f7df4a-77d8-4f12-8acd-5c60c93f4de8</td>\n",
       "      <td>坂本龍一</td>\n",
       "      <td>f7c1f8f8-b935-45ed-8fc8-7def69d92a10</td>\n",
       "      <td>The Last Emperor (Theme)</td>\n",
       "    </tr>\n",
       "    <tr>\n",
       "      <th>12</th>\n",
       "      <td>user_000001</td>\n",
       "      <td>2009-05-04T12:55:34Z</td>\n",
       "      <td>a7f7df4a-77d8-4f12-8acd-5c60c93f4de8</td>\n",
       "      <td>坂本龍一</td>\n",
       "      <td>475d4e50-cebb-4cd0-8cd4-c3df97987962</td>\n",
       "      <td>Tibetan Dance (Version)</td>\n",
       "    </tr>\n",
       "    <tr>\n",
       "      <th>14</th>\n",
       "      <td>user_000001</td>\n",
       "      <td>2009-05-03T15:48:25Z</td>\n",
       "      <td>ba2f4f3b-0293-4bc8-bb94-2f73b5207343</td>\n",
       "      <td>Underworld</td>\n",
       "      <td>dc394163-2b78-4b56-94e4-658597a29ef8</td>\n",
       "      <td>Boy, Boy, Boy (Switch Remix)</td>\n",
       "    </tr>\n",
       "    <tr>\n",
       "      <th>15</th>\n",
       "      <td>user_000001</td>\n",
       "      <td>2009-05-03T15:37:56Z</td>\n",
       "      <td>ba2f4f3b-0293-4bc8-bb94-2f73b5207343</td>\n",
       "      <td>Underworld</td>\n",
       "      <td>340d9a0b-9a43-4098-b116-9f79811bd508</td>\n",
       "      <td>Crocodile (Innervisions Orchestra Mix)</td>\n",
       "    </tr>\n",
       "    <tr>\n",
       "      <th>16</th>\n",
       "      <td>user_000001</td>\n",
       "      <td>2009-05-03T15:14:53Z</td>\n",
       "      <td>a16e47f5-aa54-47fe-87e4-bb8af91a9fdd</td>\n",
       "      <td>Ennio Morricone</td>\n",
       "      <td>0b04407b-f517-4e00-9e6a-494795efc73e</td>\n",
       "      <td>Ninna Nanna In Blu (Raw Deal Remix)</td>\n",
       "    </tr>\n",
       "    <tr>\n",
       "      <th>...</th>\n",
       "      <td>...</td>\n",
       "      <td>...</td>\n",
       "      <td>...</td>\n",
       "      <td>...</td>\n",
       "      <td>...</td>\n",
       "      <td>...</td>\n",
       "    </tr>\n",
       "    <tr>\n",
       "      <th>1499995</th>\n",
       "      <td>user_000070</td>\n",
       "      <td>2008-07-16T10:28:04Z</td>\n",
       "      <td>5b11f4ce-a62d-471e-81fc-a69a8278c7da</td>\n",
       "      <td>Nirvana</td>\n",
       "      <td>656cfcb3-5870-4db8-8510-6cb598b47aad</td>\n",
       "      <td>Dumb</td>\n",
       "    </tr>\n",
       "    <tr>\n",
       "      <th>1499996</th>\n",
       "      <td>user_000070</td>\n",
       "      <td>2008-07-14T20:20:36Z</td>\n",
       "      <td>39ab1aed-75e0-4140-bd47-540276886b60</td>\n",
       "      <td>Oasis</td>\n",
       "      <td>bc61d0bf-9b61-43c0-85ce-265b6172efda</td>\n",
       "      <td>Falling Down (Chemical Brothers Remix)</td>\n",
       "    </tr>\n",
       "    <tr>\n",
       "      <th>1499997</th>\n",
       "      <td>user_000070</td>\n",
       "      <td>2008-07-14T17:45:16Z</td>\n",
       "      <td>9de8f66e-3cd1-4f11-8328-38200f0612b0</td>\n",
       "      <td>Doves</td>\n",
       "      <td>c83dafb9-3bad-40a0-a682-3647950cbcc2</td>\n",
       "      <td>Sky Starts Falling</td>\n",
       "    </tr>\n",
       "    <tr>\n",
       "      <th>1499998</th>\n",
       "      <td>user_000070</td>\n",
       "      <td>2008-07-14T17:39:49Z</td>\n",
       "      <td>9de8f66e-3cd1-4f11-8328-38200f0612b0</td>\n",
       "      <td>Doves</td>\n",
       "      <td>0b162982-de61-4535-89fd-e1ba5efc4bfb</td>\n",
       "      <td>Walk In Fire</td>\n",
       "    </tr>\n",
       "    <tr>\n",
       "      <th>1499999</th>\n",
       "      <td>user_000070</td>\n",
       "      <td>2008-07-14T17:35:41Z</td>\n",
       "      <td>9de8f66e-3cd1-4f11-8328-38200f0612b0</td>\n",
       "      <td>Doves</td>\n",
       "      <td>37493bba-c75e-4dd8-9530-c5c09cfc0f69</td>\n",
       "      <td>Snowden</td>\n",
       "    </tr>\n",
       "  </tbody>\n",
       "</table>\n",
       "<p>1306109 rows × 6 columns</p>\n",
       "</div>"
      ],
      "text/plain": [
       "             user_id             timestamp  \\\n",
       "10       user_000001  2009-05-04T13:06:09Z   \n",
       "12       user_000001  2009-05-04T12:55:34Z   \n",
       "14       user_000001  2009-05-03T15:48:25Z   \n",
       "15       user_000001  2009-05-03T15:37:56Z   \n",
       "16       user_000001  2009-05-03T15:14:53Z   \n",
       "...              ...                   ...   \n",
       "1499995  user_000070  2008-07-16T10:28:04Z   \n",
       "1499996  user_000070  2008-07-14T20:20:36Z   \n",
       "1499997  user_000070  2008-07-14T17:45:16Z   \n",
       "1499998  user_000070  2008-07-14T17:39:49Z   \n",
       "1499999  user_000070  2008-07-14T17:35:41Z   \n",
       "\n",
       "                        musicbrainz-artist-id      artist-name  \\\n",
       "10       a7f7df4a-77d8-4f12-8acd-5c60c93f4de8             坂本龍一   \n",
       "12       a7f7df4a-77d8-4f12-8acd-5c60c93f4de8             坂本龍一   \n",
       "14       ba2f4f3b-0293-4bc8-bb94-2f73b5207343       Underworld   \n",
       "15       ba2f4f3b-0293-4bc8-bb94-2f73b5207343       Underworld   \n",
       "16       a16e47f5-aa54-47fe-87e4-bb8af91a9fdd  Ennio Morricone   \n",
       "...                                       ...              ...   \n",
       "1499995  5b11f4ce-a62d-471e-81fc-a69a8278c7da          Nirvana   \n",
       "1499996  39ab1aed-75e0-4140-bd47-540276886b60            Oasis   \n",
       "1499997  9de8f66e-3cd1-4f11-8328-38200f0612b0            Doves   \n",
       "1499998  9de8f66e-3cd1-4f11-8328-38200f0612b0            Doves   \n",
       "1499999  9de8f66e-3cd1-4f11-8328-38200f0612b0            Doves   \n",
       "\n",
       "                         musicbrainz-track-id  \\\n",
       "10       f7c1f8f8-b935-45ed-8fc8-7def69d92a10   \n",
       "12       475d4e50-cebb-4cd0-8cd4-c3df97987962   \n",
       "14       dc394163-2b78-4b56-94e4-658597a29ef8   \n",
       "15       340d9a0b-9a43-4098-b116-9f79811bd508   \n",
       "16       0b04407b-f517-4e00-9e6a-494795efc73e   \n",
       "...                                       ...   \n",
       "1499995  656cfcb3-5870-4db8-8510-6cb598b47aad   \n",
       "1499996  bc61d0bf-9b61-43c0-85ce-265b6172efda   \n",
       "1499997  c83dafb9-3bad-40a0-a682-3647950cbcc2   \n",
       "1499998  0b162982-de61-4535-89fd-e1ba5efc4bfb   \n",
       "1499999  37493bba-c75e-4dd8-9530-c5c09cfc0f69   \n",
       "\n",
       "                                     track-name  \n",
       "10                     The Last Emperor (Theme)  \n",
       "12                      Tibetan Dance (Version)  \n",
       "14                 Boy, Boy, Boy (Switch Remix)  \n",
       "15       Crocodile (Innervisions Orchestra Mix)  \n",
       "16          Ninna Nanna In Blu (Raw Deal Remix)  \n",
       "...                                         ...  \n",
       "1499995                                    Dumb  \n",
       "1499996  Falling Down (Chemical Brothers Remix)  \n",
       "1499997                      Sky Starts Falling  \n",
       "1499998                            Walk In Fire  \n",
       "1499999                                 Snowden  \n",
       "\n",
       "[1306109 rows x 6 columns]"
      ]
     },
     "execution_count": 84,
     "metadata": {},
     "output_type": "execute_result"
    }
   ],
   "source": [
    "clean_df = orig_df[~orig_df['musicbrainz-track-id'].isna()]\n",
    "clean_df = clean_df[~clean_df['musicbrainz-artist-id'].isna()]\n",
    "clean_df"
   ]
  },
  {
   "cell_type": "code",
   "execution_count": 85,
   "metadata": {},
   "outputs": [
    {
     "data": {
      "text/plain": [
       "user_id                  0\n",
       "timestamp                0\n",
       "musicbrainz-artist-id    0\n",
       "artist-name              0\n",
       "musicbrainz-track-id     0\n",
       "track-name               0\n",
       "dtype: int64"
      ]
     },
     "execution_count": 85,
     "metadata": {},
     "output_type": "execute_result"
    }
   ],
   "source": [
    "clean_df.isna().sum()"
   ]
  },
  {
   "cell_type": "code",
   "execution_count": 92,
   "metadata": {},
   "outputs": [
    {
     "data": {
      "text/plain": [
       "Index(['user_id', 'timestamp', 'musicbrainz-artist-id', 'artist-name',\n",
       "       'musicbrainz-track-id', 'track-name'],\n",
       "      dtype='object')"
      ]
     },
     "execution_count": 92,
     "metadata": {},
     "output_type": "execute_result"
    }
   ],
   "source": [
    "clean_df.columns"
   ]
  },
  {
   "cell_type": "code",
   "execution_count": 93,
   "metadata": {},
   "outputs": [],
   "source": [
    "clean_df.columns = ['user_id', 'timestamp', 'artist_id', 'artist_name',\n",
    "       'item_id', 'item_name']"
   ]
  },
  {
   "cell_type": "markdown",
   "metadata": {},
   "source": [
    "# Deciding on the diversity measure"
   ]
  },
  {
   "cell_type": "markdown",
   "metadata": {},
   "source": [
    "## Div(item) = n_artists"
   ]
  },
  {
   "cell_type": "code",
   "execution_count": 94,
   "metadata": {},
   "outputs": [
    {
     "name": "stdout",
     "output_type": "stream",
     "text": [
      "artist_id\n",
      "1            178953\n",
      "2                 1\n",
      "dtype: int64\n"
     ]
    },
    {
     "data": {
      "text/html": [
       "<div>\n",
       "<style scoped>\n",
       "    .dataframe tbody tr th:only-of-type {\n",
       "        vertical-align: middle;\n",
       "    }\n",
       "\n",
       "    .dataframe tbody tr th {\n",
       "        vertical-align: top;\n",
       "    }\n",
       "\n",
       "    .dataframe thead th {\n",
       "        text-align: right;\n",
       "    }\n",
       "</style>\n",
       "<table border=\"1\" class=\"dataframe\">\n",
       "  <thead>\n",
       "    <tr style=\"text-align: right;\">\n",
       "      <th></th>\n",
       "      <th>artist_id</th>\n",
       "    </tr>\n",
       "    <tr>\n",
       "      <th>item_id</th>\n",
       "      <th></th>\n",
       "    </tr>\n",
       "  </thead>\n",
       "  <tbody>\n",
       "    <tr>\n",
       "      <th>00000baf-9215-483a-8900-93756eaf1cfc</th>\n",
       "      <td>1</td>\n",
       "    </tr>\n",
       "    <tr>\n",
       "      <th>0000732b-9c3b-4808-8306-b2c970887465</th>\n",
       "      <td>1</td>\n",
       "    </tr>\n",
       "    <tr>\n",
       "      <th>00007960-9d81-4192-b548-ad33d6b0ca54</th>\n",
       "      <td>1</td>\n",
       "    </tr>\n",
       "    <tr>\n",
       "      <th>00007bab-7268-41c4-9d5c-c335c3a26f7c</th>\n",
       "      <td>1</td>\n",
       "    </tr>\n",
       "    <tr>\n",
       "      <th>0000e8cf-7832-4d2c-a780-dc43ce6d6841</th>\n",
       "      <td>1</td>\n",
       "    </tr>\n",
       "    <tr>\n",
       "      <th>...</th>\n",
       "      <td>...</td>\n",
       "    </tr>\n",
       "    <tr>\n",
       "      <th>fffe3a09-cde9-49bc-8592-2389050d9f1d</th>\n",
       "      <td>1</td>\n",
       "    </tr>\n",
       "    <tr>\n",
       "      <th>fffe453c-b68b-4e43-9cef-b6767a587415</th>\n",
       "      <td>1</td>\n",
       "    </tr>\n",
       "    <tr>\n",
       "      <th>fffe757f-5e1c-4de3-b3af-32589fe1772c</th>\n",
       "      <td>1</td>\n",
       "    </tr>\n",
       "    <tr>\n",
       "      <th>fffe9536-4353-46e6-8b6a-0c870ca97605</th>\n",
       "      <td>1</td>\n",
       "    </tr>\n",
       "    <tr>\n",
       "      <th>ffff8192-9912-4ce2-8757-a477dc059f88</th>\n",
       "      <td>1</td>\n",
       "    </tr>\n",
       "  </tbody>\n",
       "</table>\n",
       "<p>178954 rows × 1 columns</p>\n",
       "</div>"
      ],
      "text/plain": [
       "                                      artist_id\n",
       "item_id                                        \n",
       "00000baf-9215-483a-8900-93756eaf1cfc          1\n",
       "0000732b-9c3b-4808-8306-b2c970887465          1\n",
       "00007960-9d81-4192-b548-ad33d6b0ca54          1\n",
       "00007bab-7268-41c4-9d5c-c335c3a26f7c          1\n",
       "0000e8cf-7832-4d2c-a780-dc43ce6d6841          1\n",
       "...                                         ...\n",
       "fffe3a09-cde9-49bc-8592-2389050d9f1d          1\n",
       "fffe453c-b68b-4e43-9cef-b6767a587415          1\n",
       "fffe757f-5e1c-4de3-b3af-32589fe1772c          1\n",
       "fffe9536-4353-46e6-8b6a-0c870ca97605          1\n",
       "ffff8192-9912-4ce2-8757-a477dc059f88          1\n",
       "\n",
       "[178954 rows x 1 columns]"
      ]
     },
     "execution_count": 94,
     "metadata": {},
     "output_type": "execute_result"
    }
   ],
   "source": [
    "_ = clean_df[['artist_id','item_id']].drop_duplicates().groupby(['item_id']).count()\n",
    "print(_.value_counts())\n",
    "_"
   ]
  },
  {
   "cell_type": "markdown",
   "metadata": {},
   "source": [
    "hmmm :/ too many songs with one artist... Not only it's not viable using #artists in one track as the div(track), it would have a toll on the presentation of the results (bc of qcut())\n",
    "\n",
    "\n",
    "take meta data from here. \n",
    "https://musicbrainz.org/doc/MusicBrainz_Database\n",
    "I need to install a database, tho"
   ]
  },
  {
   "cell_type": "markdown",
   "metadata": {},
   "source": [
    "# filtering 2 years"
   ]
  },
  {
   "cell_type": "markdown",
   "metadata": {},
   "source": [
    "the dataframe requires the columns ['user_id', 'item_id', 'timestamp', 'date'] to work in this framework"
   ]
  },
  {
   "cell_type": "code",
   "execution_count": 95,
   "metadata": {},
   "outputs": [
    {
     "data": {
      "text/html": [
       "<div>\n",
       "<style scoped>\n",
       "    .dataframe tbody tr th:only-of-type {\n",
       "        vertical-align: middle;\n",
       "    }\n",
       "\n",
       "    .dataframe tbody tr th {\n",
       "        vertical-align: top;\n",
       "    }\n",
       "\n",
       "    .dataframe thead th {\n",
       "        text-align: right;\n",
       "    }\n",
       "</style>\n",
       "<table border=\"1\" class=\"dataframe\">\n",
       "  <thead>\n",
       "    <tr style=\"text-align: right;\">\n",
       "      <th></th>\n",
       "      <th>user_id</th>\n",
       "      <th>artist_id</th>\n",
       "      <th>artist_name</th>\n",
       "      <th>item_id</th>\n",
       "      <th>item_name</th>\n",
       "      <th>date</th>\n",
       "      <th>timestamp</th>\n",
       "      <th>year-month</th>\n",
       "      <th>year</th>\n",
       "      <th>month</th>\n",
       "      <th>day</th>\n",
       "    </tr>\n",
       "  </thead>\n",
       "  <tbody>\n",
       "    <tr>\n",
       "      <th>1206422</th>\n",
       "      <td>user_000054</td>\n",
       "      <td>b5cdc196-c068-490d-afae-8a15ae6cae0d</td>\n",
       "      <td>Forgotten Boys</td>\n",
       "      <td>27403e78-9d2e-4ada-a40e-655c93ed699e</td>\n",
       "      <td>I Wanna Live Until I Die</td>\n",
       "      <td>2005-02-14 11:21:05+00:00</td>\n",
       "      <td>1.108380e+09</td>\n",
       "      <td>2005-02-01</td>\n",
       "      <td>2005</td>\n",
       "      <td>2</td>\n",
       "      <td>14</td>\n",
       "    </tr>\n",
       "    <tr>\n",
       "      <th>1206421</th>\n",
       "      <td>user_000054</td>\n",
       "      <td>5cbef01b-cc35-4f52-af7b-d0df0c4f61b9</td>\n",
       "      <td>Sonic Youth</td>\n",
       "      <td>c638c62f-7919-417f-a339-541a9392da63</td>\n",
       "      <td>Sugar Kane</td>\n",
       "      <td>2005-02-14 11:30:52+00:00</td>\n",
       "      <td>1.108381e+09</td>\n",
       "      <td>2005-02-01</td>\n",
       "      <td>2005</td>\n",
       "      <td>2</td>\n",
       "      <td>14</td>\n",
       "    </tr>\n",
       "    <tr>\n",
       "      <th>1206419</th>\n",
       "      <td>user_000054</td>\n",
       "      <td>ccd4879c-5e88-4385-b131-bf65296bf245</td>\n",
       "      <td>Echo &amp; The Bunnymen</td>\n",
       "      <td>2f1b81f8-4d0b-40c7-81ee-88030fe45d75</td>\n",
       "      <td>Bring On The Dancing Horses</td>\n",
       "      <td>2005-02-14 11:42:15+00:00</td>\n",
       "      <td>1.108381e+09</td>\n",
       "      <td>2005-02-01</td>\n",
       "      <td>2005</td>\n",
       "      <td>2</td>\n",
       "      <td>14</td>\n",
       "    </tr>\n",
       "    <tr>\n",
       "      <th>1206418</th>\n",
       "      <td>user_000054</td>\n",
       "      <td>5441c29d-3602-4898-b1a1-b77fa23b8e50</td>\n",
       "      <td>David Bowie</td>\n",
       "      <td>3be16bf7-5216-419d-ac99-bdbcdeedd00a</td>\n",
       "      <td>Rebel Rebel</td>\n",
       "      <td>2005-02-14 11:55:59+00:00</td>\n",
       "      <td>1.108382e+09</td>\n",
       "      <td>2005-02-01</td>\n",
       "      <td>2005</td>\n",
       "      <td>2</td>\n",
       "      <td>14</td>\n",
       "    </tr>\n",
       "    <tr>\n",
       "      <th>1206417</th>\n",
       "      <td>user_000054</td>\n",
       "      <td>020bfbb4-05c3-4c86-b372-17825c262094</td>\n",
       "      <td>Audioslave</td>\n",
       "      <td>9cad55ee-4920-4843-bca8-909b0b59abf8</td>\n",
       "      <td>Show Me How To Live</td>\n",
       "      <td>2005-02-14 12:26:19+00:00</td>\n",
       "      <td>1.108384e+09</td>\n",
       "      <td>2005-02-01</td>\n",
       "      <td>2005</td>\n",
       "      <td>2</td>\n",
       "      <td>14</td>\n",
       "    </tr>\n",
       "  </tbody>\n",
       "</table>\n",
       "</div>"
      ],
      "text/plain": [
       "             user_id                             artist_id  \\\n",
       "1206422  user_000054  b5cdc196-c068-490d-afae-8a15ae6cae0d   \n",
       "1206421  user_000054  5cbef01b-cc35-4f52-af7b-d0df0c4f61b9   \n",
       "1206419  user_000054  ccd4879c-5e88-4385-b131-bf65296bf245   \n",
       "1206418  user_000054  5441c29d-3602-4898-b1a1-b77fa23b8e50   \n",
       "1206417  user_000054  020bfbb4-05c3-4c86-b372-17825c262094   \n",
       "\n",
       "                 artist_name                               item_id  \\\n",
       "1206422       Forgotten Boys  27403e78-9d2e-4ada-a40e-655c93ed699e   \n",
       "1206421          Sonic Youth  c638c62f-7919-417f-a339-541a9392da63   \n",
       "1206419  Echo & The Bunnymen  2f1b81f8-4d0b-40c7-81ee-88030fe45d75   \n",
       "1206418          David Bowie  3be16bf7-5216-419d-ac99-bdbcdeedd00a   \n",
       "1206417           Audioslave  9cad55ee-4920-4843-bca8-909b0b59abf8   \n",
       "\n",
       "                           item_name                      date     timestamp  \\\n",
       "1206422     I Wanna Live Until I Die 2005-02-14 11:21:05+00:00  1.108380e+09   \n",
       "1206421                   Sugar Kane 2005-02-14 11:30:52+00:00  1.108381e+09   \n",
       "1206419  Bring On The Dancing Horses 2005-02-14 11:42:15+00:00  1.108381e+09   \n",
       "1206418                  Rebel Rebel 2005-02-14 11:55:59+00:00  1.108382e+09   \n",
       "1206417          Show Me How To Live 2005-02-14 12:26:19+00:00  1.108384e+09   \n",
       "\n",
       "        year-month  year  month  day  \n",
       "1206422 2005-02-01  2005      2   14  \n",
       "1206421 2005-02-01  2005      2   14  \n",
       "1206419 2005-02-01  2005      2   14  \n",
       "1206418 2005-02-01  2005      2   14  \n",
       "1206417 2005-02-01  2005      2   14  "
      ]
     },
     "execution_count": 95,
     "metadata": {},
     "output_type": "execute_result"
    }
   ],
   "source": [
    "data_clean = clean_df.drop(columns=['timestamp'])\n",
    "data_clean['date'] = clean_df['timestamp'].apply(lambda x: pd.Timestamp(x))\n",
    "data_clean['timestamp'] = data_clean['date'].apply(lambda x: datetime.timestamp(x))\n",
    "\n",
    "data_clean = data_clean.sort_values(by='date') # sort by date\n",
    "data_clean['year-month'] = data_clean['date'].apply(lambda x: datetime.strptime( str(x.year)+'-'+str(x.month), '%Y-%m' ))\n",
    "data_clean['year'] = data_clean['date'].dt.year\n",
    "data_clean['month'] = data_clean['date'].dt.month\n",
    "data_clean['day'] = data_clean['date'].dt.day\n",
    "\n",
    "data_clean.head()"
   ]
  },
  {
   "cell_type": "code",
   "execution_count": 58,
   "metadata": {},
   "outputs": [],
   "source": [
    "# orig_df.loc[:5,'timestamp'].apply(lambda x: datetime.timestamp(datetime.strptime(x, '%Y-%m-%dT%H:%M:%SZ')))"
   ]
  },
  {
   "cell_type": "code",
   "execution_count": 96,
   "metadata": {},
   "outputs": [
    {
     "name": "stdout",
     "output_type": "stream",
     "text": [
      "2005-02-14 11:21:05+00:00  to  2009-06-19 16:41:48+00:00\n",
      "4.345205479452055\n"
     ]
    }
   ],
   "source": [
    "print(data_clean['date'].min(), ' to ', data_clean['date'].max())\n",
    "print((data_clean['date'].max() - data_clean['date'].min()).days/365)"
   ]
  },
  {
   "cell_type": "code",
   "execution_count": 97,
   "metadata": {},
   "outputs": [
    {
     "data": {
      "image/png": "[encoded data removed]",
      "text/plain": [
       "<Figure size 640x480 with 1 Axes>"
      ]
     },
     "metadata": {},
     "output_type": "display_data"
    }
   ],
   "source": [
    "_, _, _ ,_ = sample_time_period(['2006-01', '2009-06'], data_clean)"
   ]
  },
  {
   "cell_type": "code",
   "execution_count": 98,
   "metadata": {},
   "outputs": [
    {
     "data": {
      "image/png": "[encoded data removed]",
      "text/plain": [
       "<Figure size 640x480 with 1 Axes>"
      ]
     },
     "metadata": {},
     "output_type": "display_data"
    }
   ],
   "source": [
    "data, _, _ ,_ = sample_time_period(['2007-01', '2009-01'], data_clean)"
   ]
  },
  {
   "cell_type": "code",
   "execution_count": 99,
   "metadata": {},
   "outputs": [
    {
     "name": "stdout",
     "output_type": "stream",
     "text": [
      "0.0 %\n",
      "25.0 %\n",
      "50.0 %\n",
      "75.0 %\n"
     ]
    }
   ],
   "source": [
    "user_presence_df, user_month_interactions, \\\n",
    "    trimestres, user_trimestre_interactions, \\\n",
    "        semestres, user_semestre_interactions = get_interactions_info(data, 'user_id', quarter_info=True, semester_info=True)"
   ]
  },
  {
   "cell_type": "code",
   "execution_count": 101,
   "metadata": {},
   "outputs": [
    {
     "data": {
      "text/plain": [
       "<AxesSubplot:>"
      ]
     },
     "execution_count": 101,
     "metadata": {},
     "output_type": "execute_result"
    },
    {
     "data": {
      "image/png": "[encoded data removed]",
      "text/plain": [
       "<Figure size 640x480 with 1 Axes>"
      ]
     },
     "metadata": {},
     "output_type": "display_data"
    }
   ],
   "source": [
    "user_presence_df['semestre_%'].plot(kind='box')"
   ]
  },
  {
   "cell_type": "code",
   "execution_count": null,
   "metadata": {},
   "outputs": [],
   "source": []
  },
  {
   "cell_type": "code",
   "execution_count": null,
   "metadata": {},
   "outputs": [],
   "source": []
  },
  {
   "cell_type": "code",
   "execution_count": null,
   "metadata": {},
   "outputs": [],
   "source": []
  },
  {
   "cell_type": "code",
   "execution_count": null,
   "metadata": {},
   "outputs": [],
   "source": []
  },
  {
   "cell_type": "markdown",
   "metadata": {},
   "source": []
  },
  {
   "cell_type": "markdown",
   "metadata": {},
   "source": [
    "# to re-use: generate an track_id"
   ]
  },
  {
   "cell_type": "code",
   "execution_count": 71,
   "metadata": {},
   "outputs": [
    {
     "ename": "NameError",
     "evalue": "name 'df' is not defined",
     "output_type": "error",
     "traceback": [
      "\u001b[1;31m---------------------------------------------------------------------------\u001b[0m",
      "\u001b[1;31mNameError\u001b[0m                                 Traceback (most recent call last)",
      "Cell \u001b[1;32mIn [71], line 1\u001b[0m\n\u001b[1;32m----> 1\u001b[0m data_clean \u001b[38;5;241m=\u001b[39m \u001b[43mdf\u001b[49m[[\u001b[38;5;124m'\u001b[39m\u001b[38;5;124mtimestamp\u001b[39m\u001b[38;5;124m'\u001b[39m,\u001b[38;5;124m'\u001b[39m\u001b[38;5;124muser_id\u001b[39m\u001b[38;5;124m'\u001b[39m, \u001b[38;5;124m'\u001b[39m\u001b[38;5;124martist-name\u001b[39m\u001b[38;5;124m'\u001b[39m,\u001b[38;5;124m'\u001b[39m\u001b[38;5;124mtrack-name\u001b[39m\u001b[38;5;124m'\u001b[39m]]\n\u001b[0;32m      2\u001b[0m data_clean \u001b[38;5;241m=\u001b[39m data_clean\u001b[38;5;241m.\u001b[39mset_index([\u001b[38;5;124m'\u001b[39m\u001b[38;5;124martist-name\u001b[39m\u001b[38;5;124m'\u001b[39m ,\u001b[38;5;124m'\u001b[39m\u001b[38;5;124mtrack-name\u001b[39m\u001b[38;5;124m'\u001b[39m])\n\u001b[0;32m      3\u001b[0m data_clean\n",
      "\u001b[1;31mNameError\u001b[0m: name 'df' is not defined"
     ]
    }
   ],
   "source": [
    "data_clean = df[['timestamp','user_id', 'artist-name','track-name']]\n",
    "data_clean = data_clean.set_index(['artist-name' ,'track-name'])\n",
    "data_clean"
   ]
  },
  {
   "cell_type": "code",
   "execution_count": null,
   "metadata": {},
   "outputs": [
    {
     "data": {
      "text/plain": [
       "MultiIndex([(                    '! Europe - France - Cold Wave', ...),\n",
       "            ('! Germany - Surfbeat From Beyond The Iron Curtain', ...),\n",
       "            (                   '! Www.Polskie-Mp3.Tk ! Adam Mi', ...),\n",
       "            (                  '! Www.Polskie-Mp3.Tk ! Breakout', ...),\n",
       "            (                  '! Www.Polskie-Mp3.Tk ! Breakout', ...)],\n",
       "           names=['artist-name', 'track-name'])"
      ]
     },
     "execution_count": 29,
     "metadata": {},
     "output_type": "execute_result"
    }
   ],
   "source": [
    "data_clean.sort_index(inplace=True)\n",
    "mi = data_clean.index.drop_duplicates()\n",
    "mi[:5]"
   ]
  },
  {
   "cell_type": "code",
   "execution_count": null,
   "metadata": {},
   "outputs": [
    {
     "data": {
      "text/plain": [
       "1340450"
      ]
     },
     "execution_count": 22,
     "metadata": {},
     "output_type": "execute_result"
    }
   ],
   "source": [
    "len(mi)"
   ]
  },
  {
   "cell_type": "code",
   "execution_count": null,
   "metadata": {},
   "outputs": [
    {
     "data": {
      "text/html": [
       "<div>\n",
       "<style scoped>\n",
       "    .dataframe tbody tr th:only-of-type {\n",
       "        vertical-align: middle;\n",
       "    }\n",
       "\n",
       "    .dataframe tbody tr th {\n",
       "        vertical-align: top;\n",
       "    }\n",
       "\n",
       "    .dataframe thead th {\n",
       "        text-align: right;\n",
       "    }\n",
       "</style>\n",
       "<table border=\"1\" class=\"dataframe\">\n",
       "  <thead>\n",
       "    <tr style=\"text-align: right;\">\n",
       "      <th></th>\n",
       "      <th></th>\n",
       "      <th>timestamp</th>\n",
       "      <th>user_id</th>\n",
       "    </tr>\n",
       "    <tr>\n",
       "      <th>artist-name</th>\n",
       "      <th>track-name</th>\n",
       "      <th></th>\n",
       "      <th></th>\n",
       "    </tr>\n",
       "  </thead>\n",
       "  <tbody>\n",
       "    <tr>\n",
       "      <th rowspan=\"2\" valign=\"top\">'T Hof Van Commerce</th>\n",
       "      <th>Niemand Grodder</th>\n",
       "      <td>2008-09-22T19:01:58Z</td>\n",
       "      <td>user_000316</td>\n",
       "    </tr>\n",
       "    <tr>\n",
       "      <th>Niemand Grodder</th>\n",
       "      <td>2008-02-06T19:22:25Z</td>\n",
       "      <td>user_000316</td>\n",
       "    </tr>\n",
       "  </tbody>\n",
       "</table>\n",
       "</div>"
      ],
      "text/plain": [
       "                                                timestamp      user_id\n",
       "artist-name         track-name                                        \n",
       "'T Hof Van Commerce Niemand Grodder  2008-09-22T19:01:58Z  user_000316\n",
       "                    Niemand Grodder  2008-02-06T19:22:25Z  user_000316"
      ]
     },
     "execution_count": 33,
     "metadata": {},
     "output_type": "execute_result"
    }
   ],
   "source": [
    "data_clean.loc[mi[500]]"
   ]
  },
  {
   "cell_type": "code",
   "execution_count": null,
   "metadata": {},
   "outputs": [
    {
     "ename": "KeyboardInterrupt",
     "evalue": "",
     "output_type": "error",
     "traceback": [
      "\u001b[1;31m---------------------------------------------------------------------------\u001b[0m",
      "\u001b[1;31mKeyboardInterrupt\u001b[0m                         Traceback (most recent call last)",
      "Cell \u001b[1;32mIn [38], line 3\u001b[0m\n\u001b[0;32m      1\u001b[0m data_clean[\u001b[38;5;124m'\u001b[39m\u001b[38;5;124mtrack_id\u001b[39m\u001b[38;5;124m'\u001b[39m] \u001b[38;5;241m=\u001b[39m \u001b[38;5;124m'\u001b[39m\u001b[38;5;124mtrack_x\u001b[39m\u001b[38;5;124m'\u001b[39m\n\u001b[0;32m      2\u001b[0m \u001b[38;5;28;01mfor\u001b[39;00m i, m \u001b[38;5;129;01min\u001b[39;00m \u001b[38;5;28menumerate\u001b[39m(mi):\n\u001b[1;32m----> 3\u001b[0m     \u001b[43mdata_clean\u001b[49m\u001b[38;5;241;43m.\u001b[39;49m\u001b[43mloc\u001b[49m\u001b[43m[\u001b[49m\u001b[43mm\u001b[49m\u001b[43m,\u001b[49m\u001b[43m \u001b[49m\u001b[38;5;124;43m'\u001b[39;49m\u001b[38;5;124;43mtrack_id\u001b[39;49m\u001b[38;5;124;43m'\u001b[39;49m\u001b[43m]\u001b[49m \u001b[38;5;241m=\u001b[39m \u001b[38;5;124m'\u001b[39m\u001b[38;5;124mtrack_\u001b[39m\u001b[38;5;124m'\u001b[39m\u001b[38;5;241m+\u001b[39m\u001b[38;5;28mstr\u001b[39m(i)\n",
      "File \u001b[1;32mc:\\Users\\mjlav\\anaconda3\\envs\\m_f_1st\\lib\\site-packages\\pandas\\core\\indexing.py:670\u001b[0m, in \u001b[0;36m_LocationIndexer.__setitem__\u001b[1;34m(self, key, value)\u001b[0m\n\u001b[0;32m    667\u001b[0m \u001b[38;5;28mself\u001b[39m\u001b[38;5;241m.\u001b[39m_has_valid_setitem_indexer(key)\n\u001b[0;32m    669\u001b[0m iloc \u001b[38;5;241m=\u001b[39m \u001b[38;5;28mself\u001b[39m \u001b[38;5;28;01mif\u001b[39;00m \u001b[38;5;28mself\u001b[39m\u001b[38;5;241m.\u001b[39mname \u001b[38;5;241m==\u001b[39m \u001b[38;5;124m\"\u001b[39m\u001b[38;5;124miloc\u001b[39m\u001b[38;5;124m\"\u001b[39m \u001b[38;5;28;01melse\u001b[39;00m \u001b[38;5;28mself\u001b[39m\u001b[38;5;241m.\u001b[39mobj\u001b[38;5;241m.\u001b[39miloc\n\u001b[1;32m--> 670\u001b[0m \u001b[43miloc\u001b[49m\u001b[38;5;241;43m.\u001b[39;49m\u001b[43m_setitem_with_indexer\u001b[49m\u001b[43m(\u001b[49m\u001b[43mindexer\u001b[49m\u001b[43m,\u001b[49m\u001b[43m \u001b[49m\u001b[43mvalue\u001b[49m\u001b[43m)\u001b[49m\n",
      "File \u001b[1;32mc:\\Users\\mjlav\\anaconda3\\envs\\m_f_1st\\lib\\site-packages\\pandas\\core\\indexing.py:1763\u001b[0m, in \u001b[0;36m_iLocIndexer._setitem_with_indexer\u001b[1;34m(self, indexer, value)\u001b[0m\n\u001b[0;32m   1759\u001b[0m     \u001b[38;5;28;01melse\u001b[39;00m:\n\u001b[0;32m   1760\u001b[0m \n\u001b[0;32m   1761\u001b[0m         \u001b[38;5;66;03m# scalar value\u001b[39;00m\n\u001b[0;32m   1762\u001b[0m         \u001b[38;5;28;01mfor\u001b[39;00m loc \u001b[38;5;129;01min\u001b[39;00m ilocs:\n\u001b[1;32m-> 1763\u001b[0m             isetter(loc, value)\n\u001b[0;32m   1765\u001b[0m \u001b[38;5;28;01melse\u001b[39;00m:\n\u001b[0;32m   1766\u001b[0m     \u001b[38;5;28;01mif\u001b[39;00m \u001b[38;5;28misinstance\u001b[39m(indexer, \u001b[38;5;28mtuple\u001b[39m):\n\u001b[0;32m   1767\u001b[0m \n\u001b[0;32m   1768\u001b[0m         \u001b[38;5;66;03m# if we are setting on the info axis ONLY\u001b[39;00m\n\u001b[0;32m   1769\u001b[0m         \u001b[38;5;66;03m# set using those methods to avoid block-splitting\u001b[39;00m\n\u001b[0;32m   1770\u001b[0m         \u001b[38;5;66;03m# logic here\u001b[39;00m\n",
      "\u001b[1;31mKeyboardInterrupt\u001b[0m: "
     ]
    }
   ],
   "source": [
    "data_clean['track_id'] = 'track_x'\n",
    "for i, m in enumerate(mi):\n",
    "    data_clean.loc[m, 'track_id'] = 'track_'+str(i)"
   ]
  },
  {
   "cell_type": "code",
   "execution_count": null,
   "metadata": {},
   "outputs": [],
   "source": []
  }
 ],
 "metadata": {
  "kernelspec": {
   "display_name": "m_f_1st",
   "language": "python",
   "name": "python3"
  },
  "language_info": {
   "codemirror_mode": {
    "name": "ipython",
    "version": 3
   },
   "file_extension": ".py",
   "mimetype": "text/x-python",
   "name": "python",
   "nbconvert_exporter": "python",
   "pygments_lexer": "ipython3",
   "version": "3.9.18"
  }
 },
 "nbformat": 4,
 "nbformat_minor": 2
}
