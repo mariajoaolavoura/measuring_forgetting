{
 "cells": [
  {
   "cell_type": "markdown",
   "metadata": {},
   "source": [
    "*Goal*: find out if the dataset fits the data requirements\n",
    "\n",
    "*Data Requirements*:\n",
    "* user is present in all intervals\n",
    "* user activity is >80% of all time intervals\n",
    "* month 1, user has >5 rates\n",
    "* month 0, to pre-train model\n",
    "* items are comparable\n",
    "* timestamp\n",
    "* implicit feedback\n",
    "* ranking problem\n"
   ]
  },
  {
   "cell_type": "markdown",
   "metadata": {},
   "source": [
    "# update sys.path"
   ]
  },
  {
   "cell_type": "code",
   "execution_count": 1,
   "metadata": {},
   "outputs": [],
   "source": [
    "import os\n",
    "import sys\n",
    "sys.path.append(os.path.abspath('') + '/..')"
   ]
  },
  {
   "cell_type": "markdown",
   "metadata": {},
   "source": [
    "# imports"
   ]
  },
  {
   "cell_type": "code",
   "execution_count": 2,
   "metadata": {},
   "outputs": [],
   "source": [
    "import pandas as pd \n",
    "# from data_utils import get_namepaths_amazon_digimusic_isgd\n",
    "from data_utils import getDF\n",
    "from dataset_evaluation_utils import * # filter_out_users_with_less_than_k_rates, split_timestamp, sample_time_period, get_interactions_info\n",
    "\n",
    "from datetime import datetime\n",
    "\n",
    "import seaborn as sns\n",
    "import matplotlib.pyplot as plt\n",
    "sns.set_style('whitegrid')\n",
    "\n",
    "# import plotly.offline as py\n",
    "# pd.options.plotting.backend = \"plotly\"\n",
    "# py.init_notebook_mode() # graphs charts inline (IPython).\n",
    "\n",
    "a4_dims = (11.7, 8.27)"
   ]
  },
  {
   "cell_type": "markdown",
   "metadata": {},
   "source": [
    "___\n",
    "# Amazon Digital Music\n",
    "Small subset, ratings only.  \n",
    "\n",
    "\n",
    "Ratings only: These datasets include no metadata or reviews, but only (item,user,rating,timestamp) tuples. \n",
    "\n",
    "\n",
    "https://nijianmo.github.io/amazon/index.html"
   ]
  },
  {
   "cell_type": "markdown",
   "metadata": {},
   "source": [
    "## define variables"
   ]
  },
  {
   "cell_type": "code",
   "execution_count": 3,
   "metadata": {},
   "outputs": [],
   "source": [
    "dataset_name = 'Amazon_Digital_Music'\n",
    "user_col = 'user_id'\n",
    "item_col = 'item_id'\n",
    "rate_col = 'rating'\n",
    "time_col = 'timestamp'"
   ]
  },
  {
   "cell_type": "code",
   "execution_count": 4,
   "metadata": {},
   "outputs": [
    {
     "data": {
      "text/html": [
       "<div>\n",
       "<style scoped>\n",
       "    .dataframe tbody tr th:only-of-type {\n",
       "        vertical-align: middle;\n",
       "    }\n",
       "\n",
       "    .dataframe tbody tr th {\n",
       "        vertical-align: top;\n",
       "    }\n",
       "\n",
       "    .dataframe thead th {\n",
       "        text-align: right;\n",
       "    }\n",
       "</style>\n",
       "<table border=\"1\" class=\"dataframe\">\n",
       "  <thead>\n",
       "    <tr style=\"text-align: right;\">\n",
       "      <th></th>\n",
       "      <th>item_id</th>\n",
       "      <th>user_id</th>\n",
       "      <th>rating</th>\n",
       "      <th>timestamp</th>\n",
       "    </tr>\n",
       "  </thead>\n",
       "  <tbody>\n",
       "    <tr>\n",
       "      <th>0</th>\n",
       "      <td>0001388703</td>\n",
       "      <td>A1ZCPG3D3HGRSS</td>\n",
       "      <td>5.0</td>\n",
       "      <td>1387670400</td>\n",
       "    </tr>\n",
       "    <tr>\n",
       "      <th>1</th>\n",
       "      <td>0001388703</td>\n",
       "      <td>AC2PL52NKPL29</td>\n",
       "      <td>5.0</td>\n",
       "      <td>1378857600</td>\n",
       "    </tr>\n",
       "    <tr>\n",
       "      <th>2</th>\n",
       "      <td>0001388703</td>\n",
       "      <td>A1SUZXBDZSDQ3A</td>\n",
       "      <td>5.0</td>\n",
       "      <td>1362182400</td>\n",
       "    </tr>\n",
       "    <tr>\n",
       "      <th>3</th>\n",
       "      <td>0001388703</td>\n",
       "      <td>A3A0W7FZXM0IZW</td>\n",
       "      <td>5.0</td>\n",
       "      <td>1354406400</td>\n",
       "    </tr>\n",
       "    <tr>\n",
       "      <th>4</th>\n",
       "      <td>0001388703</td>\n",
       "      <td>A12R54MKO17TW0</td>\n",
       "      <td>5.0</td>\n",
       "      <td>1325894400</td>\n",
       "    </tr>\n",
       "  </tbody>\n",
       "</table>\n",
       "</div>"
      ],
      "text/plain": [
       "      item_id         user_id  rating   timestamp\n",
       "0  0001388703  A1ZCPG3D3HGRSS     5.0  1387670400\n",
       "1  0001388703   AC2PL52NKPL29     5.0  1378857600\n",
       "2  0001388703  A1SUZXBDZSDQ3A     5.0  1362182400\n",
       "3  0001388703  A3A0W7FZXM0IZW     5.0  1354406400\n",
       "4  0001388703  A12R54MKO17TW0     5.0  1325894400"
      ]
     },
     "execution_count": 4,
     "metadata": {},
     "output_type": "execute_result"
    }
   ],
   "source": [
    "orig_df = pd.read_csv(\"../datasets/Digital_Music.csv\", \n",
    "                            names=[item_col, user_col, rate_col, time_col])\n",
    "\n",
    "orig_df.head()"
   ]
  },
  {
   "cell_type": "code",
   "execution_count": 5,
   "metadata": {},
   "outputs": [
    {
     "name": "stdout",
     "output_type": "stream",
     "text": [
      "<class 'pandas.core.frame.DataFrame'>\n",
      "RangeIndex: 1584082 entries, 0 to 1584081\n",
      "Data columns (total 4 columns):\n",
      " #   Column     Non-Null Count    Dtype  \n",
      "---  ------     --------------    -----  \n",
      " 0   item_id    1584082 non-null  object \n",
      " 1   user_id    1584082 non-null  object \n",
      " 2   rating     1584082 non-null  float64\n",
      " 3   timestamp  1584082 non-null  int64  \n",
      "dtypes: float64(1), int64(1), object(2)\n",
      "memory usage: 48.3+ MB\n"
     ]
    }
   ],
   "source": [
    "orig_df.info()"
   ]
  },
  {
   "cell_type": "code",
   "execution_count": 6,
   "metadata": {},
   "outputs": [],
   "source": [
    "orig_df[user_col] = orig_df[user_col].astype(str)#'category')\n",
    "orig_df[item_col] = orig_df[item_col].astype(str)#'category')\n",
    "#.apply(lambda x : str(x))"
   ]
  },
  {
   "cell_type": "markdown",
   "metadata": {},
   "source": [
    "# how many interactions per time unit for a given user?"
   ]
  },
  {
   "cell_type": "markdown",
   "metadata": {},
   "source": [
    "## remove duplicates? flag remove_duplicated_interactions"
   ]
  },
  {
   "cell_type": "code",
   "execution_count": 7,
   "metadata": {},
   "outputs": [],
   "source": [
    "remove_duplicated_interactions = False\n",
    "# duplicate entries -> how many times the user has seen the same item in the same day"
   ]
  },
  {
   "cell_type": "code",
   "execution_count": 8,
   "metadata": {},
   "outputs": [
    {
     "data": {
      "text/plain": [
       "user_id               item_id     timestamp \n",
       "A3DG93E8TXMKZF        B001KOWH0G  1397520000    51\n",
       "A23OB9FM3MUYXT        B00137ILRS  1332979200    18\n",
       "                      B00137MMAU  1332115200    10\n",
       "AWG2O9C42XW5G         9434682614  1396396800    10\n",
       "A23OB9FM3MUYXT        B000VWMT7Y  1333324800    10\n",
       "                                                ..\n",
       "A3HWICCEA97SZ6        B00Y41VJ4M  1442534400     1\n",
       "A3HWIG1CF0EYBA        B00NAPZIIG  1431734400     1\n",
       "A3HWIHF2G2TQRH        B000VZIO0W  1421884800     1\n",
       "                      B014EPXN64  1463702400     1\n",
       "A00041408PB8URN3FSQ6  B003YPD15E  1436140800     1\n",
       "Length: 1518306, dtype: int64"
      ]
     },
     "execution_count": 8,
     "metadata": {},
     "output_type": "execute_result"
    }
   ],
   "source": [
    "# there is a lot of duplicate entries...\n",
    "orig_df[[user_col, item_col, time_col]].value_counts()"
   ]
  },
  {
   "cell_type": "code",
   "execution_count": 9,
   "metadata": {},
   "outputs": [
    {
     "data": {
      "text/plain": [
       "1.0    51\n",
       "Name: rating, dtype: int64"
      ]
     },
     "execution_count": 9,
     "metadata": {},
     "output_type": "execute_result"
    }
   ],
   "source": [
    "orig_df.loc[(orig_df[user_col]=='A3DG93E8TXMKZF') &\n",
    "        (orig_df[item_col]=='B001KOWH0G') &\n",
    "          (orig_df[time_col]==1397520000), rate_col].value_counts()"
   ]
  },
  {
   "cell_type": "code",
   "execution_count": 10,
   "metadata": {},
   "outputs": [
    {
     "data": {
      "text/plain": [
       "True"
      ]
     },
     "execution_count": 10,
     "metadata": {},
     "output_type": "execute_result"
    }
   ],
   "source": [
    "orig_df.duplicated().any()"
   ]
  },
  {
   "cell_type": "code",
   "execution_count": 11,
   "metadata": {},
   "outputs": [
    {
     "name": "stdout",
     "output_type": "stream",
     "text": [
      "is there duplicated interactions user A, item alpha, rate x, time z?  True\n",
      "duplicate entries NOT deleted\n"
     ]
    }
   ],
   "source": [
    "if remove_duplicated_interactions:\n",
    "    data_clean = orig_df[~orig_df.duplicated()]\n",
    "    print('is there duplicated interactions user A, item alpha, rate x, time z? ',data_clean.duplicated().any())\n",
    "    print('percentage of rows kept: ', data_clean.shape[0]/orig_df.shape[0])\n",
    "else:\n",
    "    data_clean = orig_df.copy()\n",
    "    print('is there duplicated interactions user A, item alpha, rate x, time z? ', data_clean.duplicated().any())\n",
    "    print('duplicate entries NOT deleted')"
   ]
  },
  {
   "cell_type": "markdown",
   "metadata": {},
   "source": [
    "## split_timestamp"
   ]
  },
  {
   "cell_type": "code",
   "execution_count": 12,
   "metadata": {},
   "outputs": [
    {
     "data": {
      "text/html": [
       "<div>\n",
       "<style scoped>\n",
       "    .dataframe tbody tr th:only-of-type {\n",
       "        vertical-align: middle;\n",
       "    }\n",
       "\n",
       "    .dataframe tbody tr th {\n",
       "        vertical-align: top;\n",
       "    }\n",
       "\n",
       "    .dataframe thead th {\n",
       "        text-align: right;\n",
       "    }\n",
       "</style>\n",
       "<table border=\"1\" class=\"dataframe\">\n",
       "  <thead>\n",
       "    <tr style=\"text-align: right;\">\n",
       "      <th></th>\n",
       "      <th>item_id</th>\n",
       "      <th>user_id</th>\n",
       "      <th>rating</th>\n",
       "      <th>timestamp</th>\n",
       "      <th>date</th>\n",
       "      <th>year-month</th>\n",
       "      <th>year</th>\n",
       "      <th>month</th>\n",
       "      <th>day</th>\n",
       "    </tr>\n",
       "  </thead>\n",
       "  <tbody>\n",
       "    <tr>\n",
       "      <th>2092</th>\n",
       "      <td>9714721180</td>\n",
       "      <td>A2SY49Z6H96QVR</td>\n",
       "      <td>5.0</td>\n",
       "      <td>877305600</td>\n",
       "      <td>1997-10-20</td>\n",
       "      <td>1997-10-01</td>\n",
       "      <td>1997</td>\n",
       "      <td>10</td>\n",
       "      <td>20</td>\n",
       "    </tr>\n",
       "    <tr>\n",
       "      <th>83632</th>\n",
       "      <td>B0013D89TW</td>\n",
       "      <td>A2XT7XLQ8DD4NZ</td>\n",
       "      <td>5.0</td>\n",
       "      <td>880675200</td>\n",
       "      <td>1997-11-28</td>\n",
       "      <td>1997-11-01</td>\n",
       "      <td>1997</td>\n",
       "      <td>11</td>\n",
       "      <td>28</td>\n",
       "    </tr>\n",
       "    <tr>\n",
       "      <th>147526</th>\n",
       "      <td>B0013D89TW</td>\n",
       "      <td>A2XT7XLQ8DD4NZ</td>\n",
       "      <td>5.0</td>\n",
       "      <td>880675200</td>\n",
       "      <td>1997-11-28</td>\n",
       "      <td>1997-11-01</td>\n",
       "      <td>1997</td>\n",
       "      <td>11</td>\n",
       "      <td>28</td>\n",
       "    </tr>\n",
       "    <tr>\n",
       "      <th>117999</th>\n",
       "      <td>B00122Z4Y2</td>\n",
       "      <td>A3OS0Q4XX0QSA4</td>\n",
       "      <td>5.0</td>\n",
       "      <td>893203200</td>\n",
       "      <td>1998-04-22</td>\n",
       "      <td>1998-04-01</td>\n",
       "      <td>1998</td>\n",
       "      <td>4</td>\n",
       "      <td>22</td>\n",
       "    </tr>\n",
       "    <tr>\n",
       "      <th>54105</th>\n",
       "      <td>B00122Z4Y2</td>\n",
       "      <td>A3OS0Q4XX0QSA4</td>\n",
       "      <td>5.0</td>\n",
       "      <td>893203200</td>\n",
       "      <td>1998-04-22</td>\n",
       "      <td>1998-04-01</td>\n",
       "      <td>1998</td>\n",
       "      <td>4</td>\n",
       "      <td>22</td>\n",
       "    </tr>\n",
       "  </tbody>\n",
       "</table>\n",
       "</div>"
      ],
      "text/plain": [
       "           item_id         user_id  rating  timestamp       date year-month  \\\n",
       "2092    9714721180  A2SY49Z6H96QVR     5.0  877305600 1997-10-20 1997-10-01   \n",
       "83632   B0013D89TW  A2XT7XLQ8DD4NZ     5.0  880675200 1997-11-28 1997-11-01   \n",
       "147526  B0013D89TW  A2XT7XLQ8DD4NZ     5.0  880675200 1997-11-28 1997-11-01   \n",
       "117999  B00122Z4Y2  A3OS0Q4XX0QSA4     5.0  893203200 1998-04-22 1998-04-01   \n",
       "54105   B00122Z4Y2  A3OS0Q4XX0QSA4     5.0  893203200 1998-04-22 1998-04-01   \n",
       "\n",
       "        year  month  day  \n",
       "2092    1997     10   20  \n",
       "83632   1997     11   28  \n",
       "147526  1997     11   28  \n",
       "117999  1998      4   22  \n",
       "54105   1998      4   22  "
      ]
     },
     "execution_count": 12,
     "metadata": {},
     "output_type": "execute_result"
    }
   ],
   "source": [
    "data_clean = split_timestamp(data_clean)\n",
    "data_clean.head()"
   ]
  },
  {
   "cell_type": "markdown",
   "metadata": {},
   "source": [
    "# stats"
   ]
  },
  {
   "cell_type": "code",
   "execution_count": 13,
   "metadata": {},
   "outputs": [
    {
     "data": {
      "text/html": [
       "<div>\n",
       "<style scoped>\n",
       "    .dataframe tbody tr th:only-of-type {\n",
       "        vertical-align: middle;\n",
       "    }\n",
       "\n",
       "    .dataframe tbody tr th {\n",
       "        vertical-align: top;\n",
       "    }\n",
       "\n",
       "    .dataframe thead th {\n",
       "        text-align: right;\n",
       "    }\n",
       "</style>\n",
       "<table border=\"1\" class=\"dataframe\">\n",
       "  <thead>\n",
       "    <tr style=\"text-align: right;\">\n",
       "      <th></th>\n",
       "      <th>user_id</th>\n",
       "      <th>item_id</th>\n",
       "      <th>rating</th>\n",
       "      <th>year-month</th>\n",
       "      <th>date</th>\n",
       "    </tr>\n",
       "  </thead>\n",
       "  <tbody>\n",
       "    <tr>\n",
       "      <th>2092</th>\n",
       "      <td>A2SY49Z6H96QVR</td>\n",
       "      <td>9714721180</td>\n",
       "      <td>5.0</td>\n",
       "      <td>1997-10-01</td>\n",
       "      <td>1997-10-20</td>\n",
       "    </tr>\n",
       "    <tr>\n",
       "      <th>83632</th>\n",
       "      <td>A2XT7XLQ8DD4NZ</td>\n",
       "      <td>B0013D89TW</td>\n",
       "      <td>5.0</td>\n",
       "      <td>1997-11-01</td>\n",
       "      <td>1997-11-28</td>\n",
       "    </tr>\n",
       "    <tr>\n",
       "      <th>147526</th>\n",
       "      <td>A2XT7XLQ8DD4NZ</td>\n",
       "      <td>B0013D89TW</td>\n",
       "      <td>5.0</td>\n",
       "      <td>1997-11-01</td>\n",
       "      <td>1997-11-28</td>\n",
       "    </tr>\n",
       "    <tr>\n",
       "      <th>117999</th>\n",
       "      <td>A3OS0Q4XX0QSA4</td>\n",
       "      <td>B00122Z4Y2</td>\n",
       "      <td>5.0</td>\n",
       "      <td>1998-04-01</td>\n",
       "      <td>1998-04-22</td>\n",
       "    </tr>\n",
       "    <tr>\n",
       "      <th>54105</th>\n",
       "      <td>A3OS0Q4XX0QSA4</td>\n",
       "      <td>B00122Z4Y2</td>\n",
       "      <td>5.0</td>\n",
       "      <td>1998-04-01</td>\n",
       "      <td>1998-04-22</td>\n",
       "    </tr>\n",
       "  </tbody>\n",
       "</table>\n",
       "</div>"
      ],
      "text/plain": [
       "               user_id     item_id  rating year-month       date\n",
       "2092    A2SY49Z6H96QVR  9714721180     5.0 1997-10-01 1997-10-20\n",
       "83632   A2XT7XLQ8DD4NZ  B0013D89TW     5.0 1997-11-01 1997-11-28\n",
       "147526  A2XT7XLQ8DD4NZ  B0013D89TW     5.0 1997-11-01 1997-11-28\n",
       "117999  A3OS0Q4XX0QSA4  B00122Z4Y2     5.0 1998-04-01 1998-04-22\n",
       "54105   A3OS0Q4XX0QSA4  B00122Z4Y2     5.0 1998-04-01 1998-04-22"
      ]
     },
     "execution_count": 13,
     "metadata": {},
     "output_type": "execute_result"
    }
   ],
   "source": [
    "d = data_clean[[user_col, item_col, 'rating', 'year-month', 'date']]\n",
    "d.head()"
   ]
  },
  {
   "cell_type": "markdown",
   "metadata": {},
   "source": [
    "# how many different users per month?"
   ]
  },
  {
   "cell_type": "code",
   "execution_count": 14,
   "metadata": {},
   "outputs": [
    {
     "data": {
      "image/png": "[encoded data removed]",
      "text/plain": [
       "<Figure size 640x480 with 1 Axes>"
      ]
     },
     "metadata": {},
     "output_type": "display_data"
    }
   ],
   "source": [
    "d[[user_col, 'year-month']]\\\n",
    "    .drop_duplicates()\\\n",
    "        .groupby('year-month')\\\n",
    "            .count().plot(title='how many different users per month');"
   ]
  },
  {
   "cell_type": "markdown",
   "metadata": {},
   "source": [
    "# how many interactions per month"
   ]
  },
  {
   "cell_type": "code",
   "execution_count": 15,
   "metadata": {},
   "outputs": [
    {
     "data": {
      "image/png": "[encoded data removed]",
      "text/plain": [
       "<Figure size 640x480 with 1 Axes>"
      ]
     },
     "metadata": {},
     "output_type": "display_data"
    }
   ],
   "source": [
    "d[[item_col, 'year-month']]\\\n",
    "        .groupby('year-month')\\\n",
    "            .count().plot(title='how many interactions per month');"
   ]
  },
  {
   "cell_type": "markdown",
   "metadata": {},
   "source": [
    "# how many months have more than 10k users?"
   ]
  },
  {
   "cell_type": "code",
   "execution_count": 16,
   "metadata": {},
   "outputs": [
    {
     "data": {
      "text/plain": [
       "user_id\n",
       "False      198\n",
       "True        51\n",
       "dtype: int64"
      ]
     },
     "execution_count": 16,
     "metadata": {},
     "output_type": "execute_result"
    }
   ],
   "source": [
    "(d[[user_col, 'year-month']]\\\n",
    "    .drop_duplicates()\\\n",
    "        .groupby('year-month')\\\n",
    "            .count() >= 10000).value_counts()"
   ]
  },
  {
   "cell_type": "markdown",
   "metadata": {},
   "source": [
    "# how many months in a year have more than 10k users?"
   ]
  },
  {
   "cell_type": "code",
   "execution_count": 17,
   "metadata": {},
   "outputs": [
    {
     "data": {
      "text/html": [
       "<div>\n",
       "<style scoped>\n",
       "    .dataframe tbody tr th:only-of-type {\n",
       "        vertical-align: middle;\n",
       "    }\n",
       "\n",
       "    .dataframe tbody tr th {\n",
       "        vertical-align: top;\n",
       "    }\n",
       "\n",
       "    .dataframe thead th {\n",
       "        text-align: right;\n",
       "    }\n",
       "</style>\n",
       "<table border=\"1\" class=\"dataframe\">\n",
       "  <thead>\n",
       "    <tr style=\"text-align: right;\">\n",
       "      <th></th>\n",
       "      <th>year-month</th>\n",
       "    </tr>\n",
       "    <tr>\n",
       "      <th>year</th>\n",
       "      <th></th>\n",
       "    </tr>\n",
       "  </thead>\n",
       "  <tbody>\n",
       "    <tr>\n",
       "      <th>2012</th>\n",
       "      <td>2</td>\n",
       "    </tr>\n",
       "    <tr>\n",
       "      <th>2013</th>\n",
       "      <td>12</td>\n",
       "    </tr>\n",
       "    <tr>\n",
       "      <th>2014</th>\n",
       "      <td>12</td>\n",
       "    </tr>\n",
       "    <tr>\n",
       "      <th>2015</th>\n",
       "      <td>12</td>\n",
       "    </tr>\n",
       "    <tr>\n",
       "      <th>2016</th>\n",
       "      <td>12</td>\n",
       "    </tr>\n",
       "    <tr>\n",
       "      <th>2017</th>\n",
       "      <td>1</td>\n",
       "    </tr>\n",
       "  </tbody>\n",
       "</table>\n",
       "</div>"
      ],
      "text/plain": [
       "      year-month\n",
       "year            \n",
       "2012           2\n",
       "2013          12\n",
       "2014          12\n",
       "2015          12\n",
       "2016          12\n",
       "2017           1"
      ]
     },
     "execution_count": 17,
     "metadata": {},
     "output_type": "execute_result"
    }
   ],
   "source": [
    "_ = d[[user_col, 'year-month']]\\\n",
    "    .drop_duplicates()\\\n",
    "        .groupby('year-month')\\\n",
    "            .count().reset_index()\n",
    "_.columns = ['year-month', 'users_count']\n",
    "\n",
    "\n",
    "ym_list = _.loc[ _['users_count']>= 10000, 'year-month'].to_list() \n",
    "\n",
    "data_clean.loc[data_clean['year-month'].isin(ym_list),['year', 'year-month']].drop_duplicates().groupby('year').count()\n"
   ]
  },
  {
   "cell_type": "markdown",
   "metadata": {},
   "source": [
    "years 2013 till 2017 are good to use"
   ]
  },
  {
   "cell_type": "markdown",
   "metadata": {},
   "source": [
    "# how many interactions in 2012 Dec"
   ]
  },
  {
   "cell_type": "code",
   "execution_count": 18,
   "metadata": {},
   "outputs": [
    {
     "data": {
      "text/plain": [
       "(                user_id     item_id  rating year-month       date\n",
       " 847109   A14XY6XHL3EXRB  B001CMNGJ2     5.0 2012-12-01 2012-12-01\n",
       " 62334    A1DAKAKS4R02IM  B00136JGZU     5.0 2012-12-01 2012-12-01\n",
       " 280967   A1C7FT12YICN0J  B007MU87KG     5.0 2012-12-01 2012-12-01\n",
       " 803196   A2FXW2MEP7TBUI  B0013G1WQG     5.0 2012-12-01 2012-12-01\n",
       " 1172335   ACV0IFO84L9TJ  B00A9OJWH4     3.0 2012-12-01 2012-12-01\n",
       " ...                 ...         ...     ...        ...        ...\n",
       " 284404   A1HH27E0J7AZGA  B007ZMC3UG     5.0 2013-01-01 2013-01-31\n",
       " 268072   A37HUQ6I3QNZDW  B006CLTGFQ     5.0 2013-01-01 2013-01-31\n",
       " 967430    A4WZ5Q9RLJYL0  B003I3MSY2     5.0 2013-01-01 2013-01-31\n",
       " 1110853  A2AIMXT9PLAM12  B0077GQ6BC     4.0 2013-01-01 2013-01-31\n",
       " 823635   A3H8GFL4IOR5JR  B0018AKBPA     5.0 2013-01-01 2013-01-31\n",
       " \n",
       " [57748 rows x 5 columns],\n",
       " [('2012-12', '%Y-%m'), ('2013-02', '%Y-%m')],\n",
       " '2012-12',\n",
       " '2013-02')"
      ]
     },
     "execution_count": 18,
     "metadata": {},
     "output_type": "execute_result"
    },
    {
     "data": {
      "image/png": "[encoded data removed]",
      "text/plain": [
       "<Figure size 640x480 with 1 Axes>"
      ]
     },
     "metadata": {},
     "output_type": "display_data"
    }
   ],
   "source": [
    "sample_time_period(['2012-12','2013-02'], d, col=item_col)"
   ]
  },
  {
   "cell_type": "markdown",
   "metadata": {},
   "source": [
    "2013 Dec can be month 0 to pre-train the model"
   ]
  },
  {
   "cell_type": "markdown",
   "metadata": {},
   "source": [
    "# how many users have full year activity between 2013 and 2016?"
   ]
  },
  {
   "cell_type": "code",
   "execution_count": 28,
   "metadata": {},
   "outputs": [
    {
     "data": {
      "text/html": [
       "<div>\n",
       "<style scoped>\n",
       "    .dataframe tbody tr th:only-of-type {\n",
       "        vertical-align: middle;\n",
       "    }\n",
       "\n",
       "    .dataframe tbody tr th {\n",
       "        vertical-align: top;\n",
       "    }\n",
       "\n",
       "    .dataframe thead th {\n",
       "        text-align: right;\n",
       "    }\n",
       "</style>\n",
       "<table border=\"1\" class=\"dataframe\">\n",
       "  <thead>\n",
       "    <tr style=\"text-align: right;\">\n",
       "      <th></th>\n",
       "      <th>user_id</th>\n",
       "      <th>year</th>\n",
       "      <th>months_count</th>\n",
       "    </tr>\n",
       "  </thead>\n",
       "  <tbody>\n",
       "    <tr>\n",
       "      <th>0</th>\n",
       "      <td>A00041408PB8URN3FSQ6</td>\n",
       "      <td>2015</td>\n",
       "      <td>1</td>\n",
       "    </tr>\n",
       "    <tr>\n",
       "      <th>1</th>\n",
       "      <td>A0009988MRFQ3TROTQPI</td>\n",
       "      <td>2013</td>\n",
       "      <td>1</td>\n",
       "    </tr>\n",
       "    <tr>\n",
       "      <th>2</th>\n",
       "      <td>A0009988MRFQ3TROTQPI</td>\n",
       "      <td>2014</td>\n",
       "      <td>1</td>\n",
       "    </tr>\n",
       "    <tr>\n",
       "      <th>3</th>\n",
       "      <td>A0015420M7GRKSKTW32Z</td>\n",
       "      <td>2013</td>\n",
       "      <td>1</td>\n",
       "    </tr>\n",
       "    <tr>\n",
       "      <th>4</th>\n",
       "      <td>A0025284EDB2S5Q3G9PD</td>\n",
       "      <td>2015</td>\n",
       "      <td>1</td>\n",
       "    </tr>\n",
       "    <tr>\n",
       "      <th>...</th>\n",
       "      <td>...</td>\n",
       "      <td>...</td>\n",
       "      <td>...</td>\n",
       "    </tr>\n",
       "    <tr>\n",
       "      <th>1008688</th>\n",
       "      <td>AZZYJS5C53MVH</td>\n",
       "      <td>2016</td>\n",
       "      <td>1</td>\n",
       "    </tr>\n",
       "    <tr>\n",
       "      <th>1008689</th>\n",
       "      <td>AZZYJS5C53MVH</td>\n",
       "      <td>2018</td>\n",
       "      <td>1</td>\n",
       "    </tr>\n",
       "    <tr>\n",
       "      <th>1008690</th>\n",
       "      <td>AZZYKX2KZ0Q82</td>\n",
       "      <td>2013</td>\n",
       "      <td>1</td>\n",
       "    </tr>\n",
       "    <tr>\n",
       "      <th>1008691</th>\n",
       "      <td>AZZZ8WQXF8334</td>\n",
       "      <td>2015</td>\n",
       "      <td>1</td>\n",
       "    </tr>\n",
       "    <tr>\n",
       "      <th>1008692</th>\n",
       "      <td>AZZZU2TD7Q3ET</td>\n",
       "      <td>2014</td>\n",
       "      <td>1</td>\n",
       "    </tr>\n",
       "  </tbody>\n",
       "</table>\n",
       "<p>1008693 rows × 3 columns</p>\n",
       "</div>"
      ],
      "text/plain": [
       "                      user_id  year  months_count\n",
       "0        A00041408PB8URN3FSQ6  2015             1\n",
       "1        A0009988MRFQ3TROTQPI  2013             1\n",
       "2        A0009988MRFQ3TROTQPI  2014             1\n",
       "3        A0015420M7GRKSKTW32Z  2013             1\n",
       "4        A0025284EDB2S5Q3G9PD  2015             1\n",
       "...                       ...   ...           ...\n",
       "1008688         AZZYJS5C53MVH  2016             1\n",
       "1008689         AZZYJS5C53MVH  2018             1\n",
       "1008690         AZZYKX2KZ0Q82  2013             1\n",
       "1008691         AZZZ8WQXF8334  2015             1\n",
       "1008692         AZZZU2TD7Q3ET  2014             1\n",
       "\n",
       "[1008693 rows x 3 columns]"
      ]
     },
     "execution_count": 28,
     "metadata": {},
     "output_type": "execute_result"
    }
   ],
   "source": [
    "_ = data_clean[[user_col, 'year-month', 'year']]\\\n",
    "    .drop_duplicates()\\\n",
    "        .groupby([user_col, 'year'])\\\n",
    "            .count().reset_index()\n",
    "_.columns = [user_col, 'year', 'months_count']\n",
    "_"
   ]
  },
  {
   "cell_type": "code",
   "execution_count": 22,
   "metadata": {},
   "outputs": [
    {
     "data": {
      "text/html": [
       "<div>\n",
       "<style scoped>\n",
       "    .dataframe tbody tr th:only-of-type {\n",
       "        vertical-align: middle;\n",
       "    }\n",
       "\n",
       "    .dataframe tbody tr th {\n",
       "        vertical-align: top;\n",
       "    }\n",
       "\n",
       "    .dataframe thead th {\n",
       "        text-align: right;\n",
       "    }\n",
       "</style>\n",
       "<table border=\"1\" class=\"dataframe\">\n",
       "  <thead>\n",
       "    <tr style=\"text-align: right;\">\n",
       "      <th></th>\n",
       "      <th>user_id</th>\n",
       "    </tr>\n",
       "    <tr>\n",
       "      <th>year</th>\n",
       "      <th></th>\n",
       "    </tr>\n",
       "  </thead>\n",
       "  <tbody>\n",
       "    <tr>\n",
       "      <th>2000</th>\n",
       "      <td>4</td>\n",
       "    </tr>\n",
       "    <tr>\n",
       "      <th>2001</th>\n",
       "      <td>4</td>\n",
       "    </tr>\n",
       "    <tr>\n",
       "      <th>2002</th>\n",
       "      <td>4</td>\n",
       "    </tr>\n",
       "    <tr>\n",
       "      <th>2003</th>\n",
       "      <td>3</td>\n",
       "    </tr>\n",
       "    <tr>\n",
       "      <th>2004</th>\n",
       "      <td>7</td>\n",
       "    </tr>\n",
       "    <tr>\n",
       "      <th>2005</th>\n",
       "      <td>13</td>\n",
       "    </tr>\n",
       "    <tr>\n",
       "      <th>2006</th>\n",
       "      <td>17</td>\n",
       "    </tr>\n",
       "    <tr>\n",
       "      <th>2007</th>\n",
       "      <td>24</td>\n",
       "    </tr>\n",
       "    <tr>\n",
       "      <th>2008</th>\n",
       "      <td>27</td>\n",
       "    </tr>\n",
       "    <tr>\n",
       "      <th>2009</th>\n",
       "      <td>31</td>\n",
       "    </tr>\n",
       "    <tr>\n",
       "      <th>2010</th>\n",
       "      <td>40</td>\n",
       "    </tr>\n",
       "    <tr>\n",
       "      <th>2011</th>\n",
       "      <td>50</td>\n",
       "    </tr>\n",
       "    <tr>\n",
       "      <th>2012</th>\n",
       "      <td>87</td>\n",
       "    </tr>\n",
       "    <tr>\n",
       "      <th>2013</th>\n",
       "      <td>95</td>\n",
       "    </tr>\n",
       "    <tr>\n",
       "      <th>2014</th>\n",
       "      <td>113</td>\n",
       "    </tr>\n",
       "    <tr>\n",
       "      <th>2015</th>\n",
       "      <td>114</td>\n",
       "    </tr>\n",
       "    <tr>\n",
       "      <th>2016</th>\n",
       "      <td>111</td>\n",
       "    </tr>\n",
       "    <tr>\n",
       "      <th>2017</th>\n",
       "      <td>89</td>\n",
       "    </tr>\n",
       "    <tr>\n",
       "      <th>2018</th>\n",
       "      <td>64</td>\n",
       "    </tr>\n",
       "  </tbody>\n",
       "</table>\n",
       "</div>"
      ],
      "text/plain": [
       "      user_id\n",
       "year         \n",
       "2000        4\n",
       "2001        4\n",
       "2002        4\n",
       "2003        3\n",
       "2004        7\n",
       "2005       13\n",
       "2006       17\n",
       "2007       24\n",
       "2008       27\n",
       "2009       31\n",
       "2010       40\n",
       "2011       50\n",
       "2012       87\n",
       "2013       95\n",
       "2014      113\n",
       "2015      114\n",
       "2016      111\n",
       "2017       89\n",
       "2018       64"
      ]
     },
     "execution_count": 22,
     "metadata": {},
     "output_type": "execute_result"
    }
   ],
   "source": [
    "# list of users with almost full year activity\n",
    "p = 0.8\n",
    "user_list = _.loc[ _['months_count']>= round(12*p), user_col].to_list() \n",
    "\n",
    "data_clean.loc[data_clean[user_col].isin(user_list),['year', user_col]].drop_duplicates().groupby('year').count()"
   ]
  },
  {
   "cell_type": "code",
   "execution_count": 29,
   "metadata": {},
   "outputs": [
    {
     "data": {
      "image/png": "[encoded data removed]",
      "text/plain": [
       "<Figure size 640x480 with 1 Axes>"
      ]
     },
     "metadata": {},
     "output_type": "display_data"
    }
   ],
   "source": [
    "d_fyu_2014 = data_clean.loc[data_clean[user_col].isin(user_list)]\n",
    "d_fyu_2014, _, _ ,_ = sample_time_period(['2014-01','2017-01'], d_fyu_2014, col=item_col)"
   ]
  },
  {
   "cell_type": "code",
   "execution_count": 36,
   "metadata": {},
   "outputs": [
    {
     "name": "stdout",
     "output_type": "stream",
     "text": [
      "128\n"
     ]
    },
    {
     "data": {
      "text/html": [
       "<div>\n",
       "<style scoped>\n",
       "    .dataframe tbody tr th:only-of-type {\n",
       "        vertical-align: middle;\n",
       "    }\n",
       "\n",
       "    .dataframe tbody tr th {\n",
       "        vertical-align: top;\n",
       "    }\n",
       "\n",
       "    .dataframe thead th {\n",
       "        text-align: right;\n",
       "    }\n",
       "</style>\n",
       "<table border=\"1\" class=\"dataframe\">\n",
       "  <thead>\n",
       "    <tr style=\"text-align: right;\">\n",
       "      <th></th>\n",
       "      <th>user_id</th>\n",
       "      <th>months_count</th>\n",
       "      <th>three_years_percent</th>\n",
       "    </tr>\n",
       "  </thead>\n",
       "  <tbody>\n",
       "    <tr>\n",
       "      <th>0</th>\n",
       "      <td>A119Q9NFGVOEJZ</td>\n",
       "      <td>12</td>\n",
       "      <td>0.333333</td>\n",
       "    </tr>\n",
       "    <tr>\n",
       "      <th>1</th>\n",
       "      <td>A11YRHINAJNUQJ</td>\n",
       "      <td>17</td>\n",
       "      <td>0.472222</td>\n",
       "    </tr>\n",
       "    <tr>\n",
       "      <th>2</th>\n",
       "      <td>A14GK0E64J0WAS</td>\n",
       "      <td>35</td>\n",
       "      <td>0.972222</td>\n",
       "    </tr>\n",
       "    <tr>\n",
       "      <th>3</th>\n",
       "      <td>A14YTPQDH3PAZU</td>\n",
       "      <td>26</td>\n",
       "      <td>0.722222</td>\n",
       "    </tr>\n",
       "    <tr>\n",
       "      <th>4</th>\n",
       "      <td>A15JTJXQXO22JJ</td>\n",
       "      <td>24</td>\n",
       "      <td>0.666667</td>\n",
       "    </tr>\n",
       "    <tr>\n",
       "      <th>...</th>\n",
       "      <td>...</td>\n",
       "      <td>...</td>\n",
       "      <td>...</td>\n",
       "    </tr>\n",
       "    <tr>\n",
       "      <th>123</th>\n",
       "      <td>AVKHYC2D7MD56</td>\n",
       "      <td>21</td>\n",
       "      <td>0.583333</td>\n",
       "    </tr>\n",
       "    <tr>\n",
       "      <th>124</th>\n",
       "      <td>AVV5JGLBZERCM</td>\n",
       "      <td>25</td>\n",
       "      <td>0.694444</td>\n",
       "    </tr>\n",
       "    <tr>\n",
       "      <th>125</th>\n",
       "      <td>AXBCHD4VWC1BS</td>\n",
       "      <td>7</td>\n",
       "      <td>0.194444</td>\n",
       "    </tr>\n",
       "    <tr>\n",
       "      <th>126</th>\n",
       "      <td>AXFNC11IE5NYW</td>\n",
       "      <td>20</td>\n",
       "      <td>0.555556</td>\n",
       "    </tr>\n",
       "    <tr>\n",
       "      <th>127</th>\n",
       "      <td>AXT1UGBASVGYN</td>\n",
       "      <td>8</td>\n",
       "      <td>0.222222</td>\n",
       "    </tr>\n",
       "  </tbody>\n",
       "</table>\n",
       "<p>128 rows × 3 columns</p>\n",
       "</div>"
      ],
      "text/plain": [
       "            user_id  months_count  three_years_percent\n",
       "0    A119Q9NFGVOEJZ            12             0.333333\n",
       "1    A11YRHINAJNUQJ            17             0.472222\n",
       "2    A14GK0E64J0WAS            35             0.972222\n",
       "3    A14YTPQDH3PAZU            26             0.722222\n",
       "4    A15JTJXQXO22JJ            24             0.666667\n",
       "..              ...           ...                  ...\n",
       "123   AVKHYC2D7MD56            21             0.583333\n",
       "124   AVV5JGLBZERCM            25             0.694444\n",
       "125   AXBCHD4VWC1BS             7             0.194444\n",
       "126   AXFNC11IE5NYW            20             0.555556\n",
       "127   AXT1UGBASVGYN             8             0.222222\n",
       "\n",
       "[128 rows x 3 columns]"
      ]
     },
     "execution_count": 36,
     "metadata": {},
     "output_type": "execute_result"
    }
   ],
   "source": [
    "print(d_fyu_2014[user_col].nunique())\n",
    "\n",
    "_ = d_fyu_2014[[user_col, 'year-month']]\\\n",
    "    .drop_duplicates()\\\n",
    "        .groupby([user_col])\\\n",
    "            .count().reset_index()\n",
    "_.columns = [user_col, 'months_count']\n",
    "_['three_years_percent'] = _['months_count']/(12*3)\n",
    "_"
   ]
  },
  {
   "cell_type": "code",
   "execution_count": null,
   "metadata": {},
   "outputs": [],
   "source": []
  },
  {
   "cell_type": "markdown",
   "metadata": {},
   "source": [
    "# how many users have more than k-interactions per month?"
   ]
  },
  {
   "cell_type": "code",
   "execution_count": null,
   "metadata": {},
   "outputs": [],
   "source": [
    "(d[[user_col, 'year-month']]\\\n",
    "        .value_counts() > 5).value_counts()"
   ]
  },
  {
   "cell_type": "markdown",
   "metadata": {},
   "source": [
    "# get k-core/month users"
   ]
  },
  {
   "cell_type": "code",
   "execution_count": null,
   "metadata": {},
   "outputs": [],
   "source": [
    "k = 4\n",
    "user_interactions_per_month = d[[user_col, 'year-month']]\\\n",
    "                                        .value_counts().to_frame('interactions_per_month').reset_index()\n",
    "users_kcore_month_list = user_interactions_per_month.loc[user_interactions_per_month['interactions_per_month']>k, user_col].to_list()\n",
    "users_kcore_month_list[:10]"
   ]
  },
  {
   "cell_type": "markdown",
   "metadata": {},
   "source": [
    "# k-core/month-users' interactions per month"
   ]
  },
  {
   "cell_type": "code",
   "execution_count": null,
   "metadata": {},
   "outputs": [],
   "source": [
    "dc_kcore_filter = data_clean[user_col].isin(users_kcore_month_list)\n",
    "data_clean.loc[dc_kcore_filter,[user_col, 'year-month']]\\\n",
    "                .groupby('year-month')\\\n",
    "                    .count().plot(title='how many *interactions per month* of '+str(k)+'-core/month-users');"
   ]
  },
  {
   "cell_type": "markdown",
   "metadata": {},
   "source": [
    "if we bin it per trimestre, each bucket will have more interactions"
   ]
  },
  {
   "cell_type": "markdown",
   "metadata": {},
   "source": [
    "# how many k-core-users per month?"
   ]
  },
  {
   "cell_type": "code",
   "execution_count": null,
   "metadata": {},
   "outputs": [],
   "source": [
    "data_clean.loc[dc_kcore_filter, [user_col, 'year-month']]\\\n",
    "            .drop_duplicates()\\\n",
    "                .groupby('year-month')\\\n",
    "                    .count().plot(title='how many k-core-users per month?');"
   ]
  },
  {
   "cell_type": "markdown",
   "metadata": {},
   "source": [
    "# how many months in a year have more than 790 k-core/month-users?"
   ]
  },
  {
   "cell_type": "code",
   "execution_count": null,
   "metadata": {},
   "outputs": [],
   "source": [
    "_ = data_clean.loc[dc_kcore_filter, [user_col, 'year-month']]\\\n",
    "            .drop_duplicates()\\\n",
    "                .groupby('year-month')\\\n",
    "                    .count().reset_index()\n",
    "_.columns = ['year-month', 'users_count']\n",
    "\n",
    "\n",
    "ym_list = _.loc[ _['users_count']>= 790, 'year-month'].to_list() \n",
    "\n",
    "data_clean.loc[dc_kcore_filter &\\\n",
    "               data_clean['year-month'].isin(ym_list), ['year', 'year-month']]\\\n",
    "        .drop_duplicates() \\\n",
    "            .groupby('year').count()"
   ]
  },
  {
   "cell_type": "markdown",
   "metadata": {},
   "source": [
    "# filter data with time period and k-core/month users"
   ]
  },
  {
   "cell_type": "code",
   "execution_count": null,
   "metadata": {},
   "outputs": [],
   "source": [
    "time_period = [('2013-01', '%Y-%m'), ('2017-01', '%Y-%m')]\n",
    "data = data_clean[(data_clean['year-month'] >= datetime.strptime(*time_period[0])) & \\\n",
    "                  (data_clean['year-month'] < datetime.strptime(*time_period[1])) &\\\n",
    "                    (data_clean[user_col].isin(users_kcore_month_list))]\n",
    "data"
   ]
  },
  {
   "cell_type": "code",
   "execution_count": null,
   "metadata": {},
   "outputs": [],
   "source": [
    "print('STAGE -> What is the user presence distribution based on month, quarter, and semester?')\n",
    "n_days_sample = (datetime.strptime(*time_period[1]) - datetime.strptime(*time_period[0])).days\n",
    "print('number of days in the time period sampled: ',n_days_sample)\n",
    "\n",
    "if n_days_sample >= 182:\n",
    "    user_presence_df, user_month_interactions,\\\n",
    "        trimestres, user_trimestre_interactions,\\\n",
    "        semestres, user_semestre_interactions = get_interactions_info(data=data, \n",
    "                                                                        user_col=user_col,\n",
    "                                                                        quarter_info=True, \n",
    "                                                                        semester_info=True)\n",
    "elif n_days_sample >= 91:\n",
    "    user_presence_df, user_month_interactions,\\\n",
    "        trimestres, user_trimestre_interactions = get_interactions_info(data=data, \n",
    "                                                                        user_col=user_col,\n",
    "                                                                        quarter_info=True, \n",
    "                                                                        semester_info=False)\n",
    "else:\n",
    "    user_presence_df, user_month_interactions = get_interactions_info(data=data, \n",
    "                                                                        user_col=user_col,\n",
    "                                                                        quarter_info=False, \n",
    "                                                                        semester_info=False)\n",
    "\n",
    "plot_user_presence_distribution(user_presence_df, dataset_name)          \n",
    "\n",
    "# user_presence_df.to_csv('output/amazon_digmusic_dump/sample_'+sample_str+'_user_presence_df.csv', index=False)\n",
    "# user_month_interactions.to_csv('output/amazon_digmusic_dump/sample_'+sample_str+'_user_month_interactions.csv', index=False)\n"
   ]
  },
  {
   "cell_type": "code",
   "execution_count": null,
   "metadata": {},
   "outputs": [],
   "source": [
    "if n_days_sample >= 91:\n",
    "    plot_interactions_per_qns(user_interactions=user_trimestre_interactions, \n",
    "                            date_range=trimestres, \n",
    "                            dataset_name=dataset_name, \n",
    "                            type_of_range='quarter')\n",
    "    # joblib.dump(trimestres, 'output/amazon_digmusic_dump/sample_'+sample_str+'_trimestres.joblib')\n",
    "\n",
    "if n_days_sample >= 182:\n",
    "    plot_interactions_per_qns(user_interactions=user_semestre_interactions, \n",
    "                            date_range=semestres,\n",
    "                            dataset_name=dataset_name,\n",
    "                            type_of_range='semester')\n",
    "    # joblib.dump(semestres, 'output/amazon_digmusic_dump/sample_'+sample_str+'_semestres.joblib')"
   ]
  },
  {
   "cell_type": "code",
   "execution_count": null,
   "metadata": {},
   "outputs": [],
   "source": [
    "user_presence_df.head()"
   ]
  },
  {
   "cell_type": "code",
   "execution_count": null,
   "metadata": {},
   "outputs": [],
   "source": [
    "user_month_interactions.head()"
   ]
  },
  {
   "cell_type": "code",
   "execution_count": null,
   "metadata": {},
   "outputs": [],
   "source": [
    "user_trimestre_interactions.head()"
   ]
  },
  {
   "cell_type": "code",
   "execution_count": null,
   "metadata": {},
   "outputs": [],
   "source": [
    "user_semestre_interactions.head()"
   ]
  },
  {
   "cell_type": "code",
   "execution_count": null,
   "metadata": {},
   "outputs": [],
   "source": [
    "import joblib\n",
    "sample_str = str(time_period[0][0])+'_until_'+str(time_period[1][0])\n",
    "user_presence_df.to_csv('output/amazon_digmusic_dump/sample_'+sample_str+'_user_presence_df.csv', index=False)\n",
    "user_month_interactions.to_csv('output/amazon_digmusic_dump/sample_'+sample_str+'_user_month_interactions.csv', index=False)\n",
    "joblib.dump(trimestres, 'output/amazon_digmusic_dump/sample_'+sample_str+'_trimestres.joblib')\n",
    "joblib.dump(semestres, 'output/amazon_digmusic_dump/sample_'+sample_str+'_semestres.joblib')"
   ]
  },
  {
   "cell_type": "markdown",
   "metadata": {},
   "source": [
    "# get k-core-users/trimestre"
   ]
  },
  {
   "cell_type": "code",
   "execution_count": null,
   "metadata": {},
   "outputs": [],
   "source": [
    "def create_period_column(df, period_col_name, period_timestamps):\n",
    "    df.loc[:, period_col_name] = 0\n",
    "\n",
    "    for i, (t_start, t_end) in enumerate(period_timestamps):\n",
    "        t_filter = (df['year-month'] >= t_start) & \\\n",
    "                    (df['year-month'] < t_end)\n",
    "        df.loc[t_filter, period_col_name] = i\n",
    "    return df\n",
    "\n",
    "def get_k_core_per_period(df, period, period_timestamps=None, k=5, m=1000, user_col='user_id'):\n",
    "    '''\n",
    "        df: pd.DataFrame , must have a user_col, 'year' and 'year-month' columns\n",
    "                        will add period column to frame\n",
    "        period: str , ['month', 'trimestre', 'semestre']\n",
    "        period_timestamps: list , list of timestamp\n",
    "        k: int , minimum number of interactions per period\n",
    "        m: int , minimum number of k-core-users per period\n",
    "        user_col: str = 'user_id'\n",
    "    '''\n",
    "\n",
    "    if period == 'month':\n",
    "        period_col_name = 'year-month'\n",
    "\n",
    "    elif period == 'trimestre':\n",
    "        period_col_name = 'trimestre_n'\n",
    "        df = create_period_column(df, period_col_name, period_timestamps)\n",
    "        \n",
    "    elif period == 'semestre':\n",
    "        period_col_name = 'semestre_n'\n",
    "        df = create_period_column(df, period_col_name, period_timestamps)\n",
    "\n",
    "    # get user interactions per period\n",
    "    interactions_col_name = 'interactions_per_'+period\n",
    "\n",
    "    user_interactions_per_period = data[[user_col, period_col_name]]\\\n",
    "                                            .value_counts().to_frame(interactions_col_name).reset_index()\n",
    "    users_kcore_period_list = user_interactions_per_period.loc[user_interactions_per_period[interactions_col_name]>=k, user_col].to_list()\n",
    "\n",
    "    # filter users\n",
    "    kcore_filter = data[user_col].isin(users_kcore_period_list)\n",
    "    \n",
    "    # plot 'how many *interactions per period* of k-core/period-users'\n",
    "    df.loc[kcore_filter,[user_col, period_col_name]]\\\n",
    "                    .groupby(period_col_name)\\\n",
    "                        .count().plot(title='how many *interactions per '+period+'* of '+str(k)+'-core/'+period+'-users');\n",
    "\n",
    "\n",
    "    # plot 'how many k-core-users per period?'\n",
    "    df.loc[kcore_filter,[user_col, period_col_name]]\\\n",
    "        .drop_duplicates()\\\n",
    "            .groupby(period_col_name)\\\n",
    "                .count().plot(title='how many *'+str(k)+'-core/'+period+'-users* per '+period+'?');\n",
    "\n",
    "\n",
    "    print('Number of periods that have at least '+str(m)+' '+str(k)+'-core/'+period+'-users in each year')\n",
    "    _ = df.loc[kcore_filter,[user_col, period_col_name]]\\\n",
    "            .drop_duplicates()\\\n",
    "                .groupby(period_col_name)\\\n",
    "                    .count().reset_index()\n",
    "    _.columns = [period_col_name, 'users_count']\n",
    "\n",
    "    ym_list = _.loc[ _['users_count']>= m, period_col_name].to_list() \n",
    "\n",
    "    print(df.loc[kcore_filter &\\\n",
    "                 df[period_col_name].isin(ym_list), ['year', period_col_name]]\\\n",
    "            .drop_duplicates() \\\n",
    "                .groupby('year').count())\n",
    "    \n",
    "    return df, kcore_filter\n"
   ]
  },
  {
   "cell_type": "code",
   "execution_count": null,
   "metadata": {},
   "outputs": [],
   "source": [
    "len(trimestres)"
   ]
  },
  {
   "cell_type": "code",
   "execution_count": null,
   "metadata": {},
   "outputs": [],
   "source": [
    "data"
   ]
  },
  {
   "cell_type": "code",
   "execution_count": null,
   "metadata": {},
   "outputs": [],
   "source": [
    "data, users_2kcore_month_filter = get_k_core_per_period(data,\n",
    "                                                        period='month',\n",
    "                                                        period_timestamps=None,\n",
    "                                                        k=2,\n",
    "                                                        m=1000)"
   ]
  },
  {
   "cell_type": "code",
   "execution_count": null,
   "metadata": {},
   "outputs": [],
   "source": [
    "data, users_5kcore_trimestre_filter= get_k_core_per_period(data,\n",
    "                                                            period='trimestre',\n",
    "                                                            period_timestamps=trimestres,\n",
    "                                                            k=5,\n",
    "                                                            m=1000)"
   ]
  },
  {
   "cell_type": "code",
   "execution_count": null,
   "metadata": {},
   "outputs": [],
   "source": [
    "p = 0.5 \n",
    "n_days = (trimestres[0][1] - trimestres[0][0]).days\n",
    "\n",
    "data = get_k_core_per_period(data,\n",
    "                            period='trimestre',\n",
    "                            period_timestamps=trimestres,\n",
    "                            k= round(n_days*p), # min number of interactions = 0.5 of the n_days of time period\n",
    "                            m=1000)"
   ]
  },
  {
   "cell_type": "code",
   "execution_count": null,
   "metadata": {},
   "outputs": [],
   "source": [
    "data = get_k_core_per_period(data,\n",
    "                            period='semestre',\n",
    "                            period_timestamps=semestres,\n",
    "                            k=5,\n",
    "                            m=1000)"
   ]
  },
  {
   "cell_type": "markdown",
   "metadata": {},
   "source": [
    "# users_5kcore_trimestre_filter"
   ]
  },
  {
   "cell_type": "code",
   "execution_count": null,
   "metadata": {},
   "outputs": [],
   "source": [
    "data_5core_trimestre = data[users_5kcore_trimestre_filter]\n",
    "data_5core_trimestre"
   ]
  },
  {
   "cell_type": "code",
   "execution_count": null,
   "metadata": {},
   "outputs": [],
   "source": [
    "user_interactions_per_period = data[[user_col, period_col_name]]\\\n",
    "                                            .value_counts().to_frame(interactions_col_name).reset_index()\n",
    "users_kcore_period_list = user_interactions_per_period.loc[user_interactions_per_period[interactions_col_name]>=k, user_col].to_list()\n",
    "\n",
    "# filter users\n",
    "kcore_filter = data[user_col].isin(users_kcore_period_list)\n",
    "\n",
    "# plot 'how many *interactions per period* of k-core/period-users'\n",
    "df.loc[kcore_filter,[user_col, period_col_name]]\\\n",
    "                .groupby(period_col_name)\\\n",
    "                    .count().plot(title='how many *interactions per '+period+'* of '+str(k)+'-core/'+period+'-users');\n",
    "\n",
    "\n",
    "# plot 'how many k-core-users per period?'\n",
    "df.loc[kcore_filter,[user_col, period_col_name]]\\\n",
    "    .drop_duplicates()\\\n",
    "        .groupby(period_col_name)\\\n",
    "            .count().plot(title='how many *'+str(k)+'-core/'+period+'-users* per '+period+'?');"
   ]
  },
  {
   "cell_type": "code",
   "execution_count": null,
   "metadata": {},
   "outputs": [],
   "source": [
    "data_5core_trimestre[[user_col, item_col, 'trimestre_n']]\\\n",
    "    .drop_duplicates()\\\n",
    "    .groupby(['trimestre_n',user_col] )\\\n",
    "    .count()\\\n",
    "    # .mean()"
   ]
  },
  {
   "cell_type": "code",
   "execution_count": null,
   "metadata": {},
   "outputs": [],
   "source": []
  },
  {
   "cell_type": "code",
   "execution_count": null,
   "metadata": {},
   "outputs": [],
   "source": []
  },
  {
   "cell_type": "markdown",
   "metadata": {},
   "source": [
    "# meta data"
   ]
  },
  {
   "cell_type": "code",
   "execution_count": null,
   "metadata": {},
   "outputs": [],
   "source": [
    "meta_dm = getDF('../datasets/meta_Digital_Music.json.gz')\n",
    "'''\n",
    "where\n",
    "\n",
    "asin - ID of the product, e.g. 0000031852\n",
    "title - name of the product\n",
    "feature - bullet-point format features of the product\n",
    "description - description of the product\n",
    "price - price in US dollars (at time of crawl)\n",
    "imageURL - url of the product image\n",
    "imageURL - url of the high resolution product image\n",
    "related - related products (also bought, also viewed, bought together, buy after viewing)\n",
    "salesRank - sales rank information\n",
    "brand - brand name\n",
    "categories - list of categories the product belongs to\n",
    "tech1 - the first technical detail table of the product\n",
    "tech2 - the second technical detail table of the product\n",
    "similar - similar product table\n",
    "'''\n",
    "\n",
    "meta_dm.head()"
   ]
  },
  {
   "cell_type": "code",
   "execution_count": null,
   "metadata": {},
   "outputs": [],
   "source": [
    "def get_filter_presence_in_column(df, col):\n",
    "    return df.apply(lambda x: x[col]!=[], axis=1)\n",
    "\n",
    "def get_presence_in_column(df, col):\n",
    "    return get_filter_presence_in_column(df, col).value_counts()/df.shape[0]"
   ]
  },
  {
   "cell_type": "code",
   "execution_count": null,
   "metadata": {},
   "outputs": [],
   "source": [
    "print('true -> there is a value\\nfalse -> empty')\n",
    "print('\\n'+'category'+'\\n', get_presence_in_column(meta_dm, 'category'))\n",
    "print('\\n'+'description'+'\\n', get_presence_in_column(meta_dm, 'description'))\n",
    "print('\\n'+'feature'+'\\n', get_presence_in_column(meta_dm, 'feature'))\n",
    "print('\\n'+'rank'+'\\n', get_presence_in_column(meta_dm, 'rank'))\n",
    "print('\\n'+'brand'+'\\n', get_presence_in_column(meta_dm, 'brand'))\n"
   ]
  },
  {
   "cell_type": "markdown",
   "metadata": {},
   "source": [
    "we could use rank and brand"
   ]
  },
  {
   "cell_type": "code",
   "execution_count": null,
   "metadata": {},
   "outputs": [],
   "source": [
    "meta_dm.loc[get_filter_presence_in_column(meta_dm, 'rank'), ['asin','brand', 'rank']]"
   ]
  },
  {
   "cell_type": "code",
   "execution_count": null,
   "metadata": {},
   "outputs": [],
   "source": []
  },
  {
   "cell_type": "code",
   "execution_count": null,
   "metadata": {},
   "outputs": [],
   "source": []
  },
  {
   "cell_type": "code",
   "execution_count": null,
   "metadata": {},
   "outputs": [],
   "source": []
  },
  {
   "cell_type": "code",
   "execution_count": null,
   "metadata": {},
   "outputs": [],
   "source": []
  },
  {
   "cell_type": "code",
   "execution_count": null,
   "metadata": {},
   "outputs": [],
   "source": []
  },
  {
   "cell_type": "code",
   "execution_count": null,
   "metadata": {},
   "outputs": [],
   "source": []
  },
  {
   "cell_type": "code",
   "execution_count": null,
   "metadata": {},
   "outputs": [],
   "source": []
  },
  {
   "cell_type": "code",
   "execution_count": null,
   "metadata": {},
   "outputs": [],
   "source": []
  },
  {
   "cell_type": "code",
   "execution_count": null,
   "metadata": {},
   "outputs": [],
   "source": []
  },
  {
   "cell_type": "code",
   "execution_count": null,
   "metadata": {},
   "outputs": [],
   "source": []
  },
  {
   "cell_type": "code",
   "execution_count": null,
   "metadata": {},
   "outputs": [],
   "source": []
  },
  {
   "cell_type": "code",
   "execution_count": null,
   "metadata": {},
   "outputs": [],
   "source": []
  },
  {
   "cell_type": "code",
   "execution_count": null,
   "metadata": {},
   "outputs": [],
   "source": []
  },
  {
   "cell_type": "code",
   "execution_count": null,
   "metadata": {},
   "outputs": [],
   "source": []
  },
  {
   "cell_type": "code",
   "execution_count": null,
   "metadata": {},
   "outputs": [],
   "source": []
  }
 ],
 "metadata": {
  "kernelspec": {
   "display_name": "m_f_1st",
   "language": "python",
   "name": "python3"
  },
  "language_info": {
   "codemirror_mode": {
    "name": "ipython",
    "version": 3
   },
   "file_extension": ".py",
   "mimetype": "text/x-python",
   "name": "python",
   "nbconvert_exporter": "python",
   "pygments_lexer": "ipython3",
   "version": "3.9.18"
  }
 },
 "nbformat": 4,
 "nbformat_minor": 2
}
