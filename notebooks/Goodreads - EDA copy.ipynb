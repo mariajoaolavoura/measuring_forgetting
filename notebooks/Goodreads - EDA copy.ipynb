{
 "cells": [
  {
   "cell_type": "code",
   "execution_count": 1,
   "metadata": {},
   "outputs": [],
   "source": [
    "import os\n",
    "import sys\n",
    "sys.path.append(os.path.abspath('') + '/..')"
   ]
  },
  {
   "cell_type": "code",
   "execution_count": 2,
   "metadata": {},
   "outputs": [],
   "source": [
    "import pandas as pd \n",
    "import re\n",
    "import numpy as np\n",
    "\n",
    "from data_utils import getDF\n",
    "from dataset_evaluation_utils import * \n",
    "\n",
    "from datetime import datetime, timezone\n",
    "\n",
    "import seaborn as sns\n",
    "import matplotlib.pyplot as plt\n",
    "sns.set_style('whitegrid')\n",
    "\n",
    "# import plotly.offline as py\n",
    "# pd.options.plotting.backend = \"plotly\"\n",
    "# py.init_notebook_mode() # graphs charts inline (IPython).\n",
    "\n",
    "a4_dims = (11.7, 8.27)"
   ]
  },
  {
   "cell_type": "markdown",
   "metadata": {},
   "source": [
    "# paths"
   ]
  },
  {
   "cell_type": "code",
   "execution_count": 3,
   "metadata": {},
   "outputs": [
    {
     "name": "stdout",
     "output_type": "stream",
     "text": [
      "images/goodreads_dump/\n",
      "output/goodreads_dump/\n",
      "images/goodreads_dump/heatmaps/\n",
      "images/goodreads_dump/diversity_eval/\n",
      "output/goodreads_dump/diversity_eval/\n"
     ]
    }
   ],
   "source": [
    "dataset_name = 'Goodreads'\n",
    "dump_foldername ='goodreads_dump/'\n",
    "\n",
    "# rule: what/which_data_set/sample_version/what/\n",
    "images_path, output_path, heatmaps_path, diversity_graphpath, diversity_filepath = get_folderpaths(dump_foldername)"
   ]
  },
  {
   "cell_type": "code",
   "execution_count": 5,
   "metadata": {},
   "outputs": [],
   "source": [
    "orig_df = pd.read_csv('../datasets/goodreads/goodreads_interactions.csv')"
   ]
  },
  {
   "cell_type": "code",
   "execution_count": null,
   "metadata": {},
   "outputs": [],
   "source": [
    "meta_dm = getDF('../datasets/meta_Digital_Music.json.gz')"
   ]
  }
 ],
 "metadata": {
  "kernelspec": {
   "display_name": "m_f_1st",
   "language": "python",
   "name": "python3"
  },
  "language_info": {
   "codemirror_mode": {
    "name": "ipython",
    "version": 3
   },
   "file_extension": ".py",
   "mimetype": "text/x-python",
   "name": "python",
   "nbconvert_exporter": "python",
   "pygments_lexer": "ipython3",
   "version": "3.9.18"
  }
 },
 "nbformat": 4,
 "nbformat_minor": 2
}
