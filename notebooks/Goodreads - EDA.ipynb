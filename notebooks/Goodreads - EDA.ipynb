{
 "cells": [
  {
   "cell_type": "markdown",
   "metadata": {},
   "source": [
    "*Goal*: \n",
    "1. find out if the dataset fits the data requirements\n",
    "2. get interactions dataframe ['user_id', 'item_id', 'date'(%Y-%m), 'timetsamp']\n",
    "2. get item meta dataframe ['item_id', meta_col('genre_id' or 'tag_id', etc...)]\n",
    "\n",
    "*Ideal Data Requirements*:\n",
    "* user activity is >80% of all time intervals\n",
    "* month 1, user has >5 rates\n",
    "* month 0, to pre-train model\n",
    "* items are comparable\n",
    "* timestamp\n",
    "* implicit feedback\n",
    "* ranking problem\n",
    "\n",
    "\n",
    "*Conclusion*:"
   ]
  },
  {
   "cell_type": "code",
   "execution_count": 1,
   "metadata": {},
   "outputs": [],
   "source": [
    "import os\n",
    "import sys\n",
    "sys.path.append(os.path.abspath('') + '/..')"
   ]
  },
  {
   "cell_type": "code",
   "execution_count": 2,
   "metadata": {},
   "outputs": [],
   "source": [
    "import pandas as pd \n",
    "import re\n",
    "import numpy as np\n",
    "\n",
    "from data_utils import getDF, getDF_n_lines, load_data\n",
    "from dataset_evaluation_utils import * \n",
    "\n",
    "from datetime import datetime, timezone\n",
    "import gzip\n",
    "import json\n",
    "\n",
    "import seaborn as sns\n",
    "import matplotlib.pyplot as plt\n",
    "sns.set_style('whitegrid')\n",
    "\n",
    "# import plotly.offline as py\n",
    "# pd.options.plotting.backend = \"plotly\"\n",
    "# py.init_notebook_mode() # graphs charts inline (IPython).\n",
    "\n",
    "a4_dims = (11.7, 8.27)"
   ]
  },
  {
   "cell_type": "markdown",
   "metadata": {},
   "source": [
    "# paths"
   ]
  },
  {
   "cell_type": "code",
   "execution_count": 3,
   "metadata": {},
   "outputs": [
    {
     "name": "stdout",
     "output_type": "stream",
     "text": [
      "images/goodreads_dump/heatmaps/\n",
      "images/goodreads_dump/diversity_eval/\n"
     ]
    }
   ],
   "source": [
    "dataset_folderpath = '../datasets/goodreads/'\n",
    "\n",
    "dataset_name = 'Goodreads'\n",
    "dump_foldername ='goodreads_dump/'\n",
    "\n",
    "# rule: what/which_data_set/sample_version/what/\n",
    "images_path, output_path, heatmaps_path, diversity_graphpath, diversity_filepath = get_folderpaths(dump_foldername)"
   ]
  },
  {
   "cell_type": "markdown",
   "metadata": {},
   "source": [
    "___\n",
    "\n",
    "# Goodreads\n",
    "\n",
    "https://mengtingwan.github.io/data/goodreads#datasets"
   ]
  },
  {
   "cell_type": "markdown",
   "metadata": {},
   "source": [
    "## column names"
   ]
  },
  {
   "cell_type": "code",
   "execution_count": 4,
   "metadata": {},
   "outputs": [],
   "source": [
    "inter_columns = ['user_id', 'item_id', 'date','timestamp']\n",
    "# meta_col = ''\n",
    "# item_meta_columns = ['item_id', meta_col]"
   ]
  },
  {
   "cell_type": "code",
   "execution_count": 8,
   "metadata": {},
   "outputs": [],
   "source": [
    "user_col = 'user_id'\n",
    "item_col = 'book_id'\n",
    "date_col = 'date'\n",
    "inter_dedup_columns = ['user_id','book_id', 'is_read','is_reviewed', 'timestamp', 'date']"
   ]
  },
  {
   "cell_type": "markdown",
   "metadata": {},
   "source": [
    "____\n",
    "# to skip, no need to run these"
   ]
  },
  {
   "cell_type": "code",
   "execution_count": null,
   "metadata": {},
   "outputs": [],
   "source": [
    "# # takes 5min on my pc\n",
    "# orig_df = pd.read_csv(dataset_folderpath+'goodreads_interactions.csv')\n",
    "# orig_df\n"
   ]
  },
  {
   "cell_type": "markdown",
   "metadata": {},
   "source": [
    "# snipet of datasets"
   ]
  },
  {
   "cell_type": "code",
   "execution_count": null,
   "metadata": {},
   "outputs": [],
   "source": [
    "# orig_df"
   ]
  },
  {
   "cell_type": "code",
   "execution_count": null,
   "metadata": {},
   "outputs": [],
   "source": [
    "# load_data(dataset_folderpath+'goodreads_interactions_dedup.json.gz', head=3)"
   ]
  },
  {
   "cell_type": "code",
   "execution_count": null,
   "metadata": {},
   "outputs": [],
   "source": [
    "# load_data(dataset_folderpath+'goodreads_book_authors.json.gz', head=3)"
   ]
  },
  {
   "cell_type": "code",
   "execution_count": null,
   "metadata": {},
   "outputs": [],
   "source": [
    "# load_data(dataset_folderpath+'goodreads_book_genres_initial.json.gz', head=3)"
   ]
  },
  {
   "cell_type": "code",
   "execution_count": null,
   "metadata": {},
   "outputs": [],
   "source": [
    "# load_data(dataset_folderpath+'goodreads_book_series.json.gz', head=3)"
   ]
  },
  {
   "cell_type": "code",
   "execution_count": null,
   "metadata": {},
   "outputs": [],
   "source": [
    "# load_data(dataset_folderpath+'goodreads_book_works.json.gz', head=3)"
   ]
  },
  {
   "cell_type": "code",
   "execution_count": null,
   "metadata": {},
   "outputs": [],
   "source": [
    "# load_data(dataset_folderpath+'goodreads_books.json.gz', head=3)"
   ]
  },
  {
   "cell_type": "code",
   "execution_count": null,
   "metadata": {},
   "outputs": [],
   "source": [
    "# load_data(dataset_folderpath+'goodreads_reviews_spoiler.json.gz', head=3)"
   ]
  },
  {
   "cell_type": "markdown",
   "metadata": {},
   "source": [
    "# get interactions df"
   ]
  },
  {
   "cell_type": "code",
   "execution_count": null,
   "metadata": {},
   "outputs": [],
   "source": [
    "# getDF_n_lines(dataset_folderpath+'goodreads_interactions_dedup.json.gz', head=3)\n",
    "# # inter_dedup = getDF(dataset_folderpath+'goodreads_interactions_dedup.json.gz') # 170min running and didn't finish"
   ]
  },
  {
   "cell_type": "code",
   "execution_count": null,
   "metadata": {},
   "outputs": [],
   "source": [
    "# '''\n",
    "#     Stats of the 1st *head* number of lines of the goodreads_interactions_dedup file\n",
    "#     code inspired https://github.com/MengtingWan/goodreads/blob/master/reviews.ipynb\n",
    "# '''\n",
    "# time_format = '%a %b %d %H:%M:%S %z %Y'\n",
    "# head = 100000 \n",
    "# fn = dataset_folderpath+'goodreads_interactions_dedup.json.gz'\n",
    "# print('counting file:', fn)\n",
    "\n",
    "# n_lines, n_isread, n_pos_rates, n_empty_reviews, n_review_updates_spaced_min_1d, n_readat_dates = 0, 0, 0, 0, 0, 0\n",
    "# book_set, user_set, review_set, user_book_set = set(), set(), set(), set()\n",
    "# # n_lines, n_sentence, n_spoiler_review, n_spoiler_sentence = 0, 0, 0, 0\n",
    "# # book_set, user_set = set(), set()\n",
    "# print('current line: ', end='')\n",
    "# with gzip.open(fn) as fin:\n",
    "#     for l in fin:\n",
    "#         d = json.loads(l)\n",
    "\n",
    "#         if (head is not None) and (n_lines > head):\n",
    "#             break\n",
    "        \n",
    "#         if n_lines % 1000000 == 0:\n",
    "#             print(n_lines, end=',')\n",
    "#         n_lines += 1\n",
    "\n",
    "#         n_isread += 1 if d['is_read'] else 0\n",
    "#         n_pos_rates += 1 if d['rating'] > 4 else 0\n",
    "#         n_empty_reviews +=1 if d['review_text_incomplete']=='' else 0\n",
    "\n",
    "#         delta = datetime.strptime(d['date_updated'], time_format) - datetime.strptime(d['date_added'], time_format)\n",
    "#         n_review_updates_spaced_min_1d += 1 if abs(delta.days) > 1 else 0\n",
    "\n",
    "#         n_readat_dates += 1 if d['read_at'] != '' else 0\n",
    "\n",
    "#         book_set.add(d['book_id'])\n",
    "#         user_set.add(d['user_id'])\n",
    "#         review_set.add(d['review_id'])\n",
    "#         user_book_set.add((d['user_id'], d['book_id']))\n",
    "\n",
    "# print('complete')\n",
    "# print('done!')\n",
    "# print('number of lines ',n_lines)\n",
    "# print('number of books flagged as read ',n_isread, n_isread/n_lines)\n",
    "# print('number of positive rates (5 stars) ',n_pos_rates, n_pos_rates/n_lines)\n",
    "# print('number of empty reviews ',n_empty_reviews, n_empty_reviews/n_lines)\n",
    "# print('number of reviews updated after more than 1 day ',n_review_updates_spaced_min_1d, n_review_updates_spaced_min_1d/n_lines)\n",
    "# print('number of values in read_at column ',n_readat_dates, n_readat_dates/n_lines)\n",
    "# print('number of books ',len(book_set), len(book_set)/n_lines)\n",
    "# print('number of users ',len(user_set), len(user_set)/n_lines)\n",
    "# print('number of reviews ',len(review_set), len(review_set)/n_lines)\n",
    "# print('number of user_alpha-book_A reviews ',len(user_book_set), len(user_book_set)/n_lines)\n",
    "# # print(n_lines, n_isread, n_pos_rates, n_empty_reviews, n_review_updates_spaced_min_1d, n_readat_dates, len(book_set), len(user_set), len(review_set))\n",
    "\n",
    "\n",
    "# # results:\n",
    "# # counting file: ../datasets/goodreads/goodreads_interactions_dedup.json.gz\n",
    "# # current line: 0,complete\n",
    "# # done!\n",
    "# # number of lines  100001\n",
    "# # number of books flagged as read  46876 0.4687553124468755\n",
    "# # number of positive rates (5 stars)  14056 0.14055859441405585\n",
    "# # number of empty reviews  91709 0.9170808291917081\n",
    "# # number of reviews updated after more than 1 day  23348 0.23347766522334776\n",
    "# # number of values in read_at column  20742 0.20741792582074178\n",
    "# # number of books  59158 0.5915740842591574\n",
    "# # number of users  228 0.0022799772002279977\n",
    "# # number of reviews  100001 1.0\n",
    "# # number of user_alpha-book_A reviews  100001 1.0\n"
   ]
  },
  {
   "cell_type": "code",
   "execution_count": null,
   "metadata": {},
   "outputs": [],
   "source": [
    "# inter_columns"
   ]
  },
  {
   "cell_type": "markdown",
   "metadata": {},
   "source": [
    "# load_interactions_to_dict"
   ]
  },
  {
   "cell_type": "code",
   "execution_count": null,
   "metadata": {},
   "outputs": [],
   "source": [
    "# # pos_rates_folderpath = output_path+'pos_rates_only/'\n",
    "# # validate_folderpath(pos_rates_folderpath)\n",
    "\n",
    "# # time_format = '%a %b %d %H:%M:%S %z %Y'\n",
    "# # head = int(100000/0.14)  # 100k has 14% of positive rates, but i want all\n",
    "# # fn = dataset_folderpath+'goodreads_interactions_dedup.json.gz'\n",
    "\n",
    "\n",
    "# def load_interactions_to_dict(head:int, rating:int, save_folder:str, save_filename:str, file_foldername:str):\n",
    "#     '''\n",
    "#         Loads the positive ratings interactions of 'goodreads_interactions_dedup.json.gz' file to a dict\n",
    "#         Prints some stats of the filtered interactions\n",
    "        \n",
    "#         head: int, number of lines to read\n",
    "#         rating: int, positive rates will be those above it\n",
    "#     '''\n",
    "\n",
    "#     validate_folderpath(save_folder)\n",
    "\n",
    "#     print('counting file:', file_foldername)\n",
    "\n",
    "#     time_format='%a %b %d %H:%M:%S %z %Y'\n",
    "    \n",
    "#     n_lines, n_pos_rates = 0, 0\n",
    "#     book_set, user_set = set(), set()\n",
    "\n",
    "#     inter_dedup_dict = {}\n",
    "\n",
    "#     print('current line: ', end='')\n",
    "#     with gzip.open(file_foldername) as fin:\n",
    "#         for l in fin:\n",
    "#             d = json.loads(l)\n",
    "\n",
    "#             if (head is not None) and (n_lines > head):\n",
    "#                 break\n",
    "            \n",
    "#             if n_lines % 100000 == 0:\n",
    "#                 print(n_lines, end=',')\n",
    "#             n_lines += 1\n",
    "\n",
    "#             # only positive ratings, 4 and 5 stars\n",
    "#             if d['rating'] > rating:\n",
    "#                 n_pos_rates += 1\n",
    "                \n",
    "#                 date = datetime.strptime(d['date_added'], time_format)\n",
    "#                 date = datetime.strptime(str(date.year)+'-'+str(date.month), '%Y-%m' )\n",
    "#                 ts = datetime.timestamp(date)\n",
    "\n",
    "#                 is_reviewed = 1 if d['review_text_incomplete']!='' else 0 \n",
    "\n",
    "#                 book_set.add(d['book_id'])\n",
    "#                 user_set.add(d['user_id'])\n",
    "\n",
    "#                 inter_dedup_dict[n_lines] = [d['user_id'], d['book_id'], d['is_read'], is_reviewed, ts, date]\n",
    "\n",
    "\n",
    "#     joblib.dump(inter_dedup_dict, save_folder+save_filename+'_dict.joblib')\n",
    "\n",
    "#     print('complete')\n",
    "#     print('done!')\n",
    "#     print('number of lines ',n_lines)\n",
    "#     print('number of positive rates (>'+str(rating)+' stars) ',n_pos_rates, n_pos_rates/n_lines)\n",
    "#     print('number of books ',len(book_set), len(book_set)/n_lines)\n",
    "#     print('number of users ',len(user_set), len(user_set)/n_lines)\n",
    "\n",
    "#     return inter_dedup_dict"
   ]
  },
  {
   "cell_type": "code",
   "execution_count": null,
   "metadata": {},
   "outputs": [],
   "source": [
    "# # Code before creating the function\n",
    "\n",
    "# # pos_rates_folderpath = output_path+'pos_rates_only/'\n",
    "# # validate_folderpath(pos_rates_folderpath)\n",
    "\n",
    "# # time_format = '%a %b %d %H:%M:%S %z %Y'\n",
    "# # head = int(100000/0.14)  # 100k has 14% of positive rates, but i want all\n",
    "# # stars = 3\n",
    "\n",
    "# # fn = dataset_folderpath+'goodreads_interactions_dedup.json.gz'\n",
    "\n",
    "# # print('counting file:', fn)\n",
    "\n",
    "# # n_lines, n_pos_rates = 0, 0\n",
    "# # book_set, user_set = set(), set()\n",
    "\n",
    "# # inter_dedup_dict = {}\n",
    "\n",
    "# # print('current line: ', end='')\n",
    "# # with gzip.open(fn) as fin:\n",
    "# #     for l in fin:\n",
    "# #         d = json.loads(l)\n",
    "\n",
    "# #         if (head is not None) and (n_lines > head):\n",
    "# #             break\n",
    "        \n",
    "# #         if n_lines % 100000 == 0:\n",
    "# #             print(n_lines, end=',')\n",
    "# #         n_lines += 1\n",
    "\n",
    "# #         # only positive ratings, 4 and 5 stars\n",
    "# #         if d['rating'] > stars:\n",
    "# #             n_pos_rates += 1\n",
    "            \n",
    "# #             date = datetime.strptime(d['date_added'], time_format)\n",
    "# #             date = datetime.strptime(str(date.year)+'-'+str(date.month), '%Y-%m' )\n",
    "# #             ts = datetime.timestamp(date)\n",
    "\n",
    "# #             is_reviewed = 1 if d['review_text_incomplete']!='' else 0 \n",
    "\n",
    "# #             book_set.add(d['book_id'])\n",
    "# #             user_set.add(d['user_id'])\n",
    "\n",
    "# #             inter_dedup_dict[n_lines] = [d['user_id'], d['book_id'], d['is_read'], is_reviewed, ts, date]\n",
    "\n",
    "\n",
    "# # joblib.dump(inter_dedup_dict, pos_rates_folderpath+'inter_dedup_dict_+'+str(stars)+'stars.joblib')\n",
    "\n",
    "# # print('complete')\n",
    "# # print('done!')\n",
    "# # print('number of lines ',n_lines)\n",
    "# # print('number of positive rates (>'+str(stars)+' stars)',n_pos_rates, n_pos_rates/n_lines)\n",
    "# # print('number of books ',len(book_set), len(book_set)/n_lines)\n",
    "# # print('number of users ',len(user_set), len(user_set)/n_lines)\n",
    "\n",
    "# save_folder=output_path+'pos_rates_only/'\n",
    "# save_filename='inter_dedup_+3stars'\n",
    "\n",
    "# inter_dedup_dict  = load_interactions_to_dict(head= int(100000/0.14), # 100k has 14% of positive rates, but i want all... c:\n",
    "#                                                 rating =  3,\n",
    "#                                                 save_folder=save_folder, \n",
    "#                                                 save_filename=save_filename,\n",
    "#                                                 file_foldername=dataset_folderpath+'goodreads_interactions_dedup.json.gz')"
   ]
  },
  {
   "cell_type": "markdown",
   "metadata": {},
   "source": [
    "# positive interactions dataframe"
   ]
  },
  {
   "cell_type": "code",
   "execution_count": null,
   "metadata": {},
   "outputs": [],
   "source": [
    "# pos_inter = pd.DataFrame.from_dict(inter_dedup_dict, orient='index',columns=inter_dedup_columns)\n",
    "# pos_inter.head()"
   ]
  },
  {
   "cell_type": "code",
   "execution_count": null,
   "metadata": {},
   "outputs": [],
   "source": [
    "# pos_inter.to_csv(save_folder+save_filename+'_df.csv')"
   ]
  },
  {
   "cell_type": "code",
   "execution_count": null,
   "metadata": {},
   "outputs": [],
   "source": [
    "# pos_inter.date.max()"
   ]
  },
  {
   "cell_type": "code",
   "execution_count": null,
   "metadata": {},
   "outputs": [],
   "source": [
    "# pos_inter.date.min()"
   ]
  },
  {
   "cell_type": "code",
   "execution_count": null,
   "metadata": {},
   "outputs": [],
   "source": [
    "# dataset_name"
   ]
  },
  {
   "cell_type": "code",
   "execution_count": null,
   "metadata": {},
   "outputs": [],
   "source": [
    "# pos_inter[[user_col, date_col]]\\\n",
    "#         .groupby(date_col)\\\n",
    "#             .count().sort_values(by=['date'], ascending=[True]).plot(title='how many interactions per month');"
   ]
  },
  {
   "cell_type": "code",
   "execution_count": null,
   "metadata": {},
   "outputs": [],
   "source": [
    "# df_1315, _, _, _ = sample_time_period(['2013-01','2015-01'], pos_inter, col=user_col, time_col=date_col)\n",
    "# df_1315.head()"
   ]
  },
  {
   "cell_type": "markdown",
   "metadata": {},
   "source": [
    "not enough interactions per semester (aka >10k/bucket)"
   ]
  },
  {
   "cell_type": "code",
   "execution_count": null,
   "metadata": {},
   "outputs": [],
   "source": [
    "# _dict  = load_interactions_to_dict(head=int(100000/0.14)*4,\n",
    "#                                       rating=3,\n",
    "#                                       save_folder=output_path+'pos_rates_only/', \n",
    "#                                       save_filename='inter_dedup_+3stars_4x714k',\n",
    "#                                       file_foldername=dataset_folderpath+'goodreads_interactions_dedup.json.gz')\n",
    "# _df = pd.DataFrame.from_dict(_dict, orient='index',columns=inter_dedup_columns)"
   ]
  },
  {
   "cell_type": "code",
   "execution_count": null,
   "metadata": {},
   "outputs": [],
   "source": [
    "# _df[[user_col, date_col]]\\\n",
    "#         .groupby(date_col)\\\n",
    "#             .count().sort_values(by=['date'], ascending=[True]).plot(title='how many interactions per month');"
   ]
  },
  {
   "cell_type": "code",
   "execution_count": null,
   "metadata": {},
   "outputs": [],
   "source": [
    "# _, _, _, _ = sample_time_period(['2013-01','2015-01'], _df, col=user_col, time_col=date_col)"
   ]
  },
  {
   "cell_type": "markdown",
   "metadata": {},
   "source": [
    "# end of \"to skip, no need to run these\"\n",
    "_____\n",
    "\n",
    "run all from now on "
   ]
  },
  {
   "cell_type": "markdown",
   "metadata": {},
   "source": [
    "# load_interactions_within_period_to_dict"
   ]
  },
  {
   "cell_type": "code",
   "execution_count": 5,
   "metadata": {},
   "outputs": [],
   "source": [
    "def load_interactions_within_period_to_dict(head, rating, period, save_folder, save_filename, file_foldername, time_format='%a %b %d %H:%M:%S %z %Y'):\n",
    "    '''\n",
    "        Loads the positive ratings interactions, within the given period, of 'goodreads_interactions_dedup.json.gz' file to a dict\n",
    "        Prints some stats of the filtered interactions\n",
    "        \n",
    "        head: int, number of lines to read\n",
    "        rating: int, positive rates will be those above it\n",
    "    '''\n",
    "\n",
    "    validate_folderpath(save_folder)\n",
    "\n",
    "    print('counting file:', file_foldername)\n",
    "\n",
    "    # start_year, end_year = period\n",
    "    time_period = [(period[0], '%Y-%m'), (period[1], '%Y-%m')]\n",
    "    start_ym, end_ym = datetime.strptime(*time_period[0]), datetime.strptime(*time_period[1])\n",
    "\n",
    "    n_lines, n_pos_rates = 0, 0\n",
    "    book_set, user_set = set(), set()\n",
    "\n",
    "    inter_dedup_dict = {}\n",
    "\n",
    "    print('current line: ', end='')\n",
    "    with gzip.open(file_foldername) as fin:\n",
    "        for l in fin:\n",
    "            d = json.loads(l)\n",
    "\n",
    "            if (head is not None) and (n_lines > head):\n",
    "                break\n",
    "            \n",
    "            if n_lines % 100000 == 0:\n",
    "                print(n_lines, end=',')\n",
    "            n_lines += 1\n",
    "            \n",
    "            date = datetime.strptime(d['date_added'], time_format)\n",
    "            year_month = datetime.strptime( str(date.year)+'-'+str(date.month), '%Y-%m' )\n",
    "            # if (date.year >= start_year) & (date.year <= end_year): \n",
    "            if start_ym <= year_month < end_ym:\n",
    "                # only positive ratings, 4 and 5 stars\n",
    "                if d['rating'] > rating:\n",
    "                    n_pos_rates += 1\n",
    "                    \n",
    "                    # date = datetime.strptime(d['date_added'], time_format)\n",
    "                    date = datetime.strptime(str(date.year)+'-'+str(date.month), '%Y-%m' )\n",
    "                    ts = datetime.timestamp(date)\n",
    "\n",
    "                    is_reviewed = 1 if d['review_text_incomplete']!='' else 0 \n",
    "\n",
    "                    book_set.add(d['book_id'])\n",
    "                    user_set.add(d['user_id'])\n",
    "\n",
    "                    inter_dedup_dict[n_lines] = [d['user_id'], d['book_id'], d['is_read'], is_reviewed, ts, date]\n",
    "\n",
    "\n",
    "    joblib.dump(inter_dedup_dict, save_folder+save_filename+'_dict.joblib')\n",
    "\n",
    "    print('complete')\n",
    "    print('done!')\n",
    "    print('number of lines ',n_lines)\n",
    "    print('number of positive rates (>'+str(rating)+' stars) ',n_pos_rates, n_pos_rates/n_lines)\n",
    "    print('number of books ',len(book_set), len(book_set)/n_lines)\n",
    "    print('number of users ',len(user_set), len(user_set)/n_lines)\n",
    "\n",
    "    return inter_dedup_dict"
   ]
  },
  {
   "cell_type": "code",
   "execution_count": 6,
   "metadata": {},
   "outputs": [
    {
     "data": {
      "text/plain": [
       "2857140"
      ]
     },
     "execution_count": 6,
     "metadata": {},
     "output_type": "execute_result"
    }
   ],
   "source": [
    "int(100000/0.14)*4"
   ]
  },
  {
   "cell_type": "code",
   "execution_count": 9,
   "metadata": {},
   "outputs": [
    {
     "data": {
      "text/plain": [
       "['user_id', 'book_id', 'is_read', 'is_reviewed', 'timestamp', 'date']"
      ]
     },
     "execution_count": 9,
     "metadata": {},
     "output_type": "execute_result"
    }
   ],
   "source": [
    "inter_dedup_columns"
   ]
  },
  {
   "cell_type": "markdown",
   "metadata": {},
   "source": [
    "# sample ['2012-07', '2015-01'[ "
   ]
  },
  {
   "cell_type": "code",
   "execution_count": 10,
   "metadata": {},
   "outputs": [
    {
     "name": "stdout",
     "output_type": "stream",
     "text": [
      "counting file: ../datasets/goodreads/goodreads_interactions_dedup.json.gz\n",
      "current line: 0,100000,200000,300000,400000,500000,600000,700000,800000,900000,1000000,1100000,1200000,1300000,1400000,1500000,1600000,1700000,1800000,1900000,2000000,2100000,2200000,2300000,2400000,2500000,2600000,2700000,2800000,complete\n",
      "done!\n",
      "number of lines  2857141\n",
      "number of positive rates (>3 stars)  386800 0.1353800879970572\n",
      "number of books  128545 0.04499077924400651\n",
      "number of users  5176 0.0018116011775407654\n"
     ]
    },
    {
     "data": {
      "image/png": "[encoded data removed]",
      "text/plain": [
       "<Figure size 640x480 with 1 Axes>"
      ]
     },
     "metadata": {},
     "output_type": "display_data"
    }
   ],
   "source": [
    "period=['2012-07', '2015-01'] # ['2012-07', '2015-01'[ \n",
    "sample = 'sample_'+str(period[0])+'_until_'+str(period[1])\n",
    "save_folder = output_path+'pos_rates_only/'+sample+'/'\n",
    "filename = 'inter_dedup_coldstart_3stars_4x714k'\n",
    "\n",
    "interd_2  = load_interactions_within_period_to_dict(head=int(100000/0.14)*4,\n",
    "                                      rating=3,\n",
    "                                      period=period,\n",
    "                                      save_folder=save_folder, \n",
    "                                      save_filename=filename,\n",
    "                                      file_foldername=dataset_folderpath+'goodreads_interactions_dedup.json.gz')\n",
    "pos_inter_2 = pd.DataFrame.from_dict(interd_2, orient='index',columns=inter_dedup_columns)\n",
    "pos_inter_2[[user_col, date_col]]\\\n",
    "        .groupby(date_col)\\\n",
    "            .count().sort_values(by=['date'], ascending=[True]).plot(title='how many interactions per month');"
   ]
  },
  {
   "cell_type": "code",
   "execution_count": 11,
   "metadata": {},
   "outputs": [
    {
     "data": {
      "image/png": "[encoded data removed]",
      "text/plain": [
       "<Figure size 640x480 with 1 Axes>"
      ]
     },
     "metadata": {},
     "output_type": "display_data"
    }
   ],
   "source": [
    "ym = datetime.strptime('2012-12', '%Y-%m' )\n",
    "pos_inter_2.loc[pos_inter_2[date_col]>ym,[user_col, date_col]]\\\n",
    "        .groupby(date_col)\\\n",
    "            .count().sort_values(by=['date'], ascending=[True]).plot(title='how many interactions per month');"
   ]
  },
  {
   "cell_type": "code",
   "execution_count": 12,
   "metadata": {},
   "outputs": [
    {
     "name": "stdout",
     "output_type": "stream",
     "text": [
      "output/goodreads_dump/pos_rates_only/sample_2012-07_until_2015-01/\n",
      "inter_dedup_coldstart_3stars_4x714k\n"
     ]
    }
   ],
   "source": [
    "print(save_folder)\n",
    "print(filename)"
   ]
  },
  {
   "cell_type": "code",
   "execution_count": null,
   "metadata": {},
   "outputs": [],
   "source": [
    "pos_inter_2.to_csv(save_folder+filename+'_df.csv')"
   ]
  },
  {
   "cell_type": "markdown",
   "metadata": {},
   "source": [
    "## stats on the sampled dataframe"
   ]
  },
  {
   "cell_type": "code",
   "execution_count": 13,
   "metadata": {},
   "outputs": [
    {
     "data": {
      "text/html": [
       "<div>\n",
       "<style scoped>\n",
       "    .dataframe tbody tr th:only-of-type {\n",
       "        vertical-align: middle;\n",
       "    }\n",
       "\n",
       "    .dataframe tbody tr th {\n",
       "        vertical-align: top;\n",
       "    }\n",
       "\n",
       "    .dataframe thead th {\n",
       "        text-align: right;\n",
       "    }\n",
       "</style>\n",
       "<table border=\"1\" class=\"dataframe\">\n",
       "  <thead>\n",
       "    <tr style=\"text-align: right;\">\n",
       "      <th></th>\n",
       "      <th>user_id</th>\n",
       "      <th>book_id</th>\n",
       "      <th>is_read</th>\n",
       "      <th>is_reviewed</th>\n",
       "      <th>timestamp</th>\n",
       "      <th>date</th>\n",
       "    </tr>\n",
       "  </thead>\n",
       "  <tbody>\n",
       "    <tr>\n",
       "      <th>216</th>\n",
       "      <td>8842281e1d1347389f2ab93d60773d4d</td>\n",
       "      <td>1969280</td>\n",
       "      <td>True</td>\n",
       "      <td>0</td>\n",
       "      <td>1.414814e+09</td>\n",
       "      <td>2014-11-01</td>\n",
       "    </tr>\n",
       "    <tr>\n",
       "      <th>217</th>\n",
       "      <td>8842281e1d1347389f2ab93d60773d4d</td>\n",
       "      <td>17290220</td>\n",
       "      <td>True</td>\n",
       "      <td>1</td>\n",
       "      <td>1.414814e+09</td>\n",
       "      <td>2014-11-01</td>\n",
       "    </tr>\n",
       "    <tr>\n",
       "      <th>219</th>\n",
       "      <td>8842281e1d1347389f2ab93d60773d4d</td>\n",
       "      <td>6882</td>\n",
       "      <td>True</td>\n",
       "      <td>0</td>\n",
       "      <td>1.412136e+09</td>\n",
       "      <td>2014-10-01</td>\n",
       "    </tr>\n",
       "    <tr>\n",
       "      <th>220</th>\n",
       "      <td>8842281e1d1347389f2ab93d60773d4d</td>\n",
       "      <td>6954929</td>\n",
       "      <td>True</td>\n",
       "      <td>1</td>\n",
       "      <td>1.412136e+09</td>\n",
       "      <td>2014-10-01</td>\n",
       "    </tr>\n",
       "    <tr>\n",
       "      <th>224</th>\n",
       "      <td>8842281e1d1347389f2ab93d60773d4d</td>\n",
       "      <td>18176747</td>\n",
       "      <td>True</td>\n",
       "      <td>1</td>\n",
       "      <td>1.412136e+09</td>\n",
       "      <td>2014-10-01</td>\n",
       "    </tr>\n",
       "  </tbody>\n",
       "</table>\n",
       "</div>"
      ],
      "text/plain": [
       "                              user_id   book_id  is_read  is_reviewed  \\\n",
       "216  8842281e1d1347389f2ab93d60773d4d   1969280     True            0   \n",
       "217  8842281e1d1347389f2ab93d60773d4d  17290220     True            1   \n",
       "219  8842281e1d1347389f2ab93d60773d4d      6882     True            0   \n",
       "220  8842281e1d1347389f2ab93d60773d4d   6954929     True            1   \n",
       "224  8842281e1d1347389f2ab93d60773d4d  18176747     True            1   \n",
       "\n",
       "        timestamp       date  \n",
       "216  1.414814e+09 2014-11-01  \n",
       "217  1.414814e+09 2014-11-01  \n",
       "219  1.412136e+09 2014-10-01  \n",
       "220  1.412136e+09 2014-10-01  \n",
       "224  1.412136e+09 2014-10-01  "
      ]
     },
     "execution_count": 13,
     "metadata": {},
     "output_type": "execute_result"
    }
   ],
   "source": [
    "pos_inter_2.head()"
   ]
  },
  {
   "cell_type": "code",
   "execution_count": 14,
   "metadata": {},
   "outputs": [
    {
     "data": {
      "text/plain": [
       "True    386800\n",
       "Name: is_read, dtype: int64"
      ]
     },
     "execution_count": 14,
     "metadata": {},
     "output_type": "execute_result"
    }
   ],
   "source": [
    "pos_inter_2['is_read'].value_counts() # Great! ^o^"
   ]
  },
  {
   "cell_type": "code",
   "execution_count": 15,
   "metadata": {},
   "outputs": [
    {
     "data": {
      "text/plain": [
       "0    320218\n",
       "1     66582\n",
       "Name: is_reviewed, dtype: int64"
      ]
     },
     "execution_count": 15,
     "metadata": {},
     "output_type": "execute_result"
    }
   ],
   "source": [
    "pos_inter_2['is_reviewed'].value_counts() # in writting"
   ]
  },
  {
   "cell_type": "code",
   "execution_count": null,
   "metadata": {},
   "outputs": [],
   "source": [
    "pos_inter_2.drop(columns=['is_read','is_reviewed']).to_csv(save_folder+filename+'_interactions_df.csv')"
   ]
  },
  {
   "cell_type": "markdown",
   "metadata": {},
   "source": [
    "# get_interactions_info"
   ]
  },
  {
   "cell_type": "code",
   "execution_count": null,
   "metadata": {},
   "outputs": [],
   "source": [
    "period"
   ]
  },
  {
   "cell_type": "code",
   "execution_count": 16,
   "metadata": {},
   "outputs": [
    {
     "name": "stdout",
     "output_type": "stream",
     "text": [
      "0.0 %\n",
      "25.0 %\n",
      "50.0 %\n",
      "75.0 %\n"
     ]
    }
   ],
   "source": [
    "# bc the 1st semester will be for cold start purposes, the time period sample is starting on 2013\n",
    "# (the frequent users are calculated from after 2013 and only those users' interactions will go to holdouts)\n",
    "# the frequent users\n",
    "# posint_1314, _, _, _ = sample_time_period(['2013-01','2015-01'], pos_inter_2, col=user_col, time_col=date_col)\n",
    "\n",
    "user_presence_df, user_month_interactions, \\\n",
    "    trimestres, user_trimestre_interactions, \\\n",
    "        semesters, user_semester_interactions = get_interactions_info(pos_inter_2, user_col, quarter_info=True, semester_info=True)"
   ]
  },
  {
   "cell_type": "code",
   "execution_count": 17,
   "metadata": {},
   "outputs": [
    {
     "data": {
      "text/html": [
       "<div>\n",
       "<style scoped>\n",
       "    .dataframe tbody tr th:only-of-type {\n",
       "        vertical-align: middle;\n",
       "    }\n",
       "\n",
       "    .dataframe tbody tr th {\n",
       "        vertical-align: top;\n",
       "    }\n",
       "\n",
       "    .dataframe thead th {\n",
       "        text-align: right;\n",
       "    }\n",
       "</style>\n",
       "<table border=\"1\" class=\"dataframe\">\n",
       "  <thead>\n",
       "    <tr style=\"text-align: right;\">\n",
       "      <th></th>\n",
       "      <th>UserID</th>\n",
       "      <th>month_%</th>\n",
       "      <th>trimestre_%</th>\n",
       "      <th>semestre_%</th>\n",
       "    </tr>\n",
       "  </thead>\n",
       "  <tbody>\n",
       "    <tr>\n",
       "      <th>0</th>\n",
       "      <td>fcf087290b8c3f96a442f858809bf6ef</td>\n",
       "      <td>1.000000</td>\n",
       "      <td>1.0</td>\n",
       "      <td>1.0</td>\n",
       "    </tr>\n",
       "    <tr>\n",
       "      <th>1</th>\n",
       "      <td>ddc44923909c38b4d149a38431105943</td>\n",
       "      <td>1.000000</td>\n",
       "      <td>1.0</td>\n",
       "      <td>1.0</td>\n",
       "    </tr>\n",
       "    <tr>\n",
       "      <th>2</th>\n",
       "      <td>4067184200f3f78ed31283724f2d989b</td>\n",
       "      <td>1.000000</td>\n",
       "      <td>1.0</td>\n",
       "      <td>1.0</td>\n",
       "    </tr>\n",
       "    <tr>\n",
       "      <th>3</th>\n",
       "      <td>d36a167d9d05249418d8d7d821cdc3ce</td>\n",
       "      <td>1.000000</td>\n",
       "      <td>1.0</td>\n",
       "      <td>1.0</td>\n",
       "    </tr>\n",
       "    <tr>\n",
       "      <th>4</th>\n",
       "      <td>004f6d189c4546a39db2162986c0d9e1</td>\n",
       "      <td>1.000000</td>\n",
       "      <td>1.0</td>\n",
       "      <td>1.0</td>\n",
       "    </tr>\n",
       "    <tr>\n",
       "      <th>...</th>\n",
       "      <td>...</td>\n",
       "      <td>...</td>\n",
       "      <td>...</td>\n",
       "      <td>...</td>\n",
       "    </tr>\n",
       "    <tr>\n",
       "      <th>5171</th>\n",
       "      <td>3de96e48c122b764292b0d33dc0e091a</td>\n",
       "      <td>0.033333</td>\n",
       "      <td>0.1</td>\n",
       "      <td>0.2</td>\n",
       "    </tr>\n",
       "    <tr>\n",
       "      <th>5172</th>\n",
       "      <td>5dc9e143945eb66177b90ffb07a3578b</td>\n",
       "      <td>0.033333</td>\n",
       "      <td>0.1</td>\n",
       "      <td>0.2</td>\n",
       "    </tr>\n",
       "    <tr>\n",
       "      <th>5173</th>\n",
       "      <td>3cb38531c6aab7bcae3c26455b763fe6</td>\n",
       "      <td>0.033333</td>\n",
       "      <td>0.1</td>\n",
       "      <td>0.2</td>\n",
       "    </tr>\n",
       "    <tr>\n",
       "      <th>5174</th>\n",
       "      <td>e615589eff78e18438d412729f5f28c0</td>\n",
       "      <td>0.033333</td>\n",
       "      <td>0.1</td>\n",
       "      <td>0.2</td>\n",
       "    </tr>\n",
       "    <tr>\n",
       "      <th>5175</th>\n",
       "      <td>24b1d7241bb92786f0c2c3f63ac922c5</td>\n",
       "      <td>0.033333</td>\n",
       "      <td>0.1</td>\n",
       "      <td>0.2</td>\n",
       "    </tr>\n",
       "  </tbody>\n",
       "</table>\n",
       "<p>5176 rows × 4 columns</p>\n",
       "</div>"
      ],
      "text/plain": [
       "                                UserID   month_%  trimestre_%  semestre_%\n",
       "0     fcf087290b8c3f96a442f858809bf6ef  1.000000          1.0         1.0\n",
       "1     ddc44923909c38b4d149a38431105943  1.000000          1.0         1.0\n",
       "2     4067184200f3f78ed31283724f2d989b  1.000000          1.0         1.0\n",
       "3     d36a167d9d05249418d8d7d821cdc3ce  1.000000          1.0         1.0\n",
       "4     004f6d189c4546a39db2162986c0d9e1  1.000000          1.0         1.0\n",
       "...                                ...       ...          ...         ...\n",
       "5171  3de96e48c122b764292b0d33dc0e091a  0.033333          0.1         0.2\n",
       "5172  5dc9e143945eb66177b90ffb07a3578b  0.033333          0.1         0.2\n",
       "5173  3cb38531c6aab7bcae3c26455b763fe6  0.033333          0.1         0.2\n",
       "5174  e615589eff78e18438d412729f5f28c0  0.033333          0.1         0.2\n",
       "5175  24b1d7241bb92786f0c2c3f63ac922c5  0.033333          0.1         0.2\n",
       "\n",
       "[5176 rows x 4 columns]"
      ]
     },
     "execution_count": 17,
     "metadata": {},
     "output_type": "execute_result"
    }
   ],
   "source": [
    "user_presence_df"
   ]
  },
  {
   "cell_type": "code",
   "execution_count": 18,
   "metadata": {},
   "outputs": [
    {
     "data": {
      "text/plain": [
       "[(Timestamp('2012-07-01 00:00:00'),\n",
       "  Timestamp('2012-12-31 00:00:00', freq='6M')),\n",
       " (Timestamp('2013-01-01 00:00:00'),\n",
       "  Timestamp('2013-06-30 00:00:00', freq='6M')),\n",
       " (Timestamp('2013-07-01 00:00:00'),\n",
       "  Timestamp('2013-12-31 00:00:00', freq='6M')),\n",
       " (Timestamp('2014-01-01 00:00:00'),\n",
       "  Timestamp('2014-06-30 00:00:00', freq='6M'))]"
      ]
     },
     "execution_count": 18,
     "metadata": {},
     "output_type": "execute_result"
    }
   ],
   "source": [
    "semesters"
   ]
  },
  {
   "cell_type": "code",
   "execution_count": 19,
   "metadata": {},
   "outputs": [
    {
     "name": "stdout",
     "output_type": "stream",
     "text": [
      "output/goodreads_dump/pos_rates_only/sample_2012-07_until_2015-01/\n",
      "sample_2012-07_until_2015-01\n",
      "inter_dedup_coldstart_3stars_4x714k\n"
     ]
    }
   ],
   "source": [
    "print(save_folder)\n",
    "print(sample)\n",
    "print(filename)"
   ]
  },
  {
   "cell_type": "code",
   "execution_count": null,
   "metadata": {},
   "outputs": [],
   "source": [
    "joblib.dump(user_presence_df, save_folder+filename+'_user_presence_df.joblib')\n",
    "joblib.dump(user_month_interactions, save_folder+filename+'_user_month_interactions.joblib')\n",
    "joblib.dump(trimestres, save_folder+filename+'_trimestres.joblib')\n",
    "joblib.dump(user_trimestre_interactions, save_folder+filename+'_user_trimestre_interactions.joblib')\n",
    "joblib.dump(semesters, save_folder+filename+'_semesters.joblib')\n",
    "joblib.dump(user_semester_interactions, save_folder+filename+'_user_semester_interactions.joblib')\n",
    "\n",
    "thr=0.8\n",
    "\n",
    "\n",
    "frequent_users = get_frequent_users(user_presence_df, frequency_threshold=thr)\n",
    "joblib.dump(frequent_users, save_folder+filename+'_frequent_users_'+str(thr)+'.joblib') # has all 3 in one file\n",
    "\n",
    "# frequent_users_month,\\\n",
    "#     frequent_users_trimester,\\\n",
    "#         frequent_users_semester = get_frequent_users(user_presence_df, frequency_threshold=thr)\n",
    "# joblib.dump(frequent_users_month, save_folder+filename+'_frequent_users_month'+str(thr)+'.joblib')\n",
    "# joblib.dump(frequent_users_trimester, save_folder+filename+'_frequent_users_trimester'+str(thr)+'.joblib')\n",
    "# joblib.dump(frequent_users_semester, save_folder+filename+'_frequent_users_semester'+str(thr)+'.joblib')"
   ]
  },
  {
   "cell_type": "code",
   "execution_count": null,
   "metadata": {},
   "outputs": [],
   "source": [
    "len(frequent_users)"
   ]
  },
  {
   "cell_type": "code",
   "execution_count": null,
   "metadata": {},
   "outputs": [],
   "source": [
    "frequent_users"
   ]
  },
  {
   "cell_type": "code",
   "execution_count": null,
   "metadata": {},
   "outputs": [],
   "source": [
    "user_semester_interactions"
   ]
  },
  {
   "cell_type": "markdown",
   "metadata": {},
   "source": [
    "# get users that are frequent on the *train set*"
   ]
  },
  {
   "cell_type": "code",
   "execution_count": 20,
   "metadata": {},
   "outputs": [
    {
     "name": "stdout",
     "output_type": "stream",
     "text": [
      "3323 users of 5176 (64.2001545595054%) are in 75.0% or more semesters in 2013 and 2014 (41433.0 interactions)\n",
      "\n",
      "Number of interactions per semester in 2013 and 2014:\n",
      " 1    10733.0\n",
      "2    10497.0\n",
      "3    10460.0\n",
      "4     9743.0\n",
      "dtype: float64\n"
     ]
    },
    {
     "data": {
      "text/html": [
       "<div>\n",
       "<style scoped>\n",
       "    .dataframe tbody tr th:only-of-type {\n",
       "        vertical-align: middle;\n",
       "    }\n",
       "\n",
       "    .dataframe tbody tr th {\n",
       "        vertical-align: top;\n",
       "    }\n",
       "\n",
       "    .dataframe thead th {\n",
       "        text-align: right;\n",
       "    }\n",
       "</style>\n",
       "<table border=\"1\" class=\"dataframe\">\n",
       "  <thead>\n",
       "    <tr style=\"text-align: right;\">\n",
       "      <th></th>\n",
       "      <th>1</th>\n",
       "      <th>2</th>\n",
       "      <th>3</th>\n",
       "      <th>4</th>\n",
       "    </tr>\n",
       "  </thead>\n",
       "  <tbody>\n",
       "    <tr>\n",
       "      <th>1c827fa2ab834e37e6158992d5323ce4</th>\n",
       "      <td>4.0</td>\n",
       "      <td>2.0</td>\n",
       "      <td>2.0</td>\n",
       "      <td>4.0</td>\n",
       "    </tr>\n",
       "    <tr>\n",
       "      <th>5e1d38f0c4a308364fec6276ef022620</th>\n",
       "      <td>5.0</td>\n",
       "      <td>3.0</td>\n",
       "      <td>5.0</td>\n",
       "      <td>3.0</td>\n",
       "    </tr>\n",
       "    <tr>\n",
       "      <th>0838dda3480fa85f414734cf40d81c25</th>\n",
       "      <td>4.0</td>\n",
       "      <td>3.0</td>\n",
       "      <td>5.0</td>\n",
       "      <td>2.0</td>\n",
       "    </tr>\n",
       "    <tr>\n",
       "      <th>5e3a44146a0889537c5fa777b6ff7bf4</th>\n",
       "      <td>4.0</td>\n",
       "      <td>6.0</td>\n",
       "      <td>3.0</td>\n",
       "      <td>0.0</td>\n",
       "    </tr>\n",
       "    <tr>\n",
       "      <th>b5f937e40b9cb0e2eecb4ba2365e2019</th>\n",
       "      <td>6.0</td>\n",
       "      <td>6.0</td>\n",
       "      <td>6.0</td>\n",
       "      <td>6.0</td>\n",
       "    </tr>\n",
       "    <tr>\n",
       "      <th>...</th>\n",
       "      <td>...</td>\n",
       "      <td>...</td>\n",
       "      <td>...</td>\n",
       "      <td>...</td>\n",
       "    </tr>\n",
       "    <tr>\n",
       "      <th>c2023420f0b0cea5cbf1c1408b148d7d</th>\n",
       "      <td>0.0</td>\n",
       "      <td>1.0</td>\n",
       "      <td>3.0</td>\n",
       "      <td>4.0</td>\n",
       "    </tr>\n",
       "    <tr>\n",
       "      <th>ed76f424843b3da7bebf34e93beb9dfe</th>\n",
       "      <td>0.0</td>\n",
       "      <td>1.0</td>\n",
       "      <td>1.0</td>\n",
       "      <td>1.0</td>\n",
       "    </tr>\n",
       "    <tr>\n",
       "      <th>125a1c7aa92551935661469e5a3868a9</th>\n",
       "      <td>0.0</td>\n",
       "      <td>1.0</td>\n",
       "      <td>5.0</td>\n",
       "      <td>4.0</td>\n",
       "    </tr>\n",
       "    <tr>\n",
       "      <th>ecd6a89229ea8ad5ffda725091ee99e4</th>\n",
       "      <td>0.0</td>\n",
       "      <td>1.0</td>\n",
       "      <td>3.0</td>\n",
       "      <td>5.0</td>\n",
       "    </tr>\n",
       "    <tr>\n",
       "      <th>df9aed0c5ba3bd4c73c388c650357958</th>\n",
       "      <td>0.0</td>\n",
       "      <td>1.0</td>\n",
       "      <td>3.0</td>\n",
       "      <td>6.0</td>\n",
       "    </tr>\n",
       "  </tbody>\n",
       "</table>\n",
       "<p>3323 rows × 4 columns</p>\n",
       "</div>"
      ],
      "text/plain": [
       "                                    1    2    3    4\n",
       "1c827fa2ab834e37e6158992d5323ce4  4.0  2.0  2.0  4.0\n",
       "5e1d38f0c4a308364fec6276ef022620  5.0  3.0  5.0  3.0\n",
       "0838dda3480fa85f414734cf40d81c25  4.0  3.0  5.0  2.0\n",
       "5e3a44146a0889537c5fa777b6ff7bf4  4.0  6.0  3.0  0.0\n",
       "b5f937e40b9cb0e2eecb4ba2365e2019  6.0  6.0  6.0  6.0\n",
       "...                               ...  ...  ...  ...\n",
       "c2023420f0b0cea5cbf1c1408b148d7d  0.0  1.0  3.0  4.0\n",
       "ed76f424843b3da7bebf34e93beb9dfe  0.0  1.0  1.0  1.0\n",
       "125a1c7aa92551935661469e5a3868a9  0.0  1.0  5.0  4.0\n",
       "ecd6a89229ea8ad5ffda725091ee99e4  0.0  1.0  3.0  5.0\n",
       "df9aed0c5ba3bd4c73c388c650357958  0.0  1.0  3.0  6.0\n",
       "\n",
       "[3323 rows x 4 columns]"
      ]
     },
     "execution_count": 20,
     "metadata": {},
     "output_type": "execute_result"
    }
   ],
   "source": [
    "semesters_idx=[1,2,3,4]\n",
    "n_semester_thr=3\n",
    "frequent_users_1314_semester_interactions = get_semester_info_with_user_thresh(print_timeperiod='2013 and 2014',\n",
    "                                                                                  usi=user_semester_interactions,\n",
    "                                                                                  semesters_idx=semesters_idx,\n",
    "                                                                                  n_semester_thr=n_semester_thr)\n",
    "\n",
    "frequent_users_1314_semester_interactions"
   ]
  },
  {
   "cell_type": "markdown",
   "metadata": {},
   "source": [
    "looks good!"
   ]
  },
  {
   "cell_type": "code",
   "execution_count": 21,
   "metadata": {},
   "outputs": [
    {
     "data": {
      "text/plain": [
       "['1c827fa2ab834e37e6158992d5323ce4',\n",
       " '5e1d38f0c4a308364fec6276ef022620',\n",
       " '0838dda3480fa85f414734cf40d81c25',\n",
       " '5e3a44146a0889537c5fa777b6ff7bf4',\n",
       " 'b5f937e40b9cb0e2eecb4ba2365e2019']"
      ]
     },
     "execution_count": 21,
     "metadata": {},
     "output_type": "execute_result"
    }
   ],
   "source": [
    "frequent_users_1314 = frequent_users_1314_semester_interactions.index.to_list()\n",
    "frequent_users_1314[:5]"
   ]
  },
  {
   "cell_type": "code",
   "execution_count": 22,
   "metadata": {},
   "outputs": [
    {
     "data": {
      "text/plain": [
       "1c827fa2ab834e37e6158992d5323ce4    5.0\n",
       "5e1d38f0c4a308364fec6276ef022620    3.0\n",
       "0838dda3480fa85f414734cf40d81c25    2.0\n",
       "5e3a44146a0889537c5fa777b6ff7bf4    6.0\n",
       "b5f937e40b9cb0e2eecb4ba2365e2019    6.0\n",
       "                                   ... \n",
       "c2023420f0b0cea5cbf1c1408b148d7d    0.0\n",
       "ed76f424843b3da7bebf34e93beb9dfe    0.0\n",
       "125a1c7aa92551935661469e5a3868a9    0.0\n",
       "ecd6a89229ea8ad5ffda725091ee99e4    0.0\n",
       "df9aed0c5ba3bd4c73c388c650357958    0.0\n",
       "Name: 0, Length: 3323, dtype: float64"
      ]
     },
     "execution_count": 22,
     "metadata": {},
     "output_type": "execute_result"
    }
   ],
   "source": [
    "# get frequent user interactions from the cold start bucket\n",
    "f = user_semester_interactions.index.isin(frequent_users_1314)\n",
    "cold_start_semester_interactions = user_semester_interactions.loc[f, 0]\n",
    "cold_start_semester_interactions"
   ]
  },
  {
   "cell_type": "code",
   "execution_count": 25,
   "metadata": {},
   "outputs": [
    {
     "data": {
      "text/html": [
       "<div>\n",
       "<style scoped>\n",
       "    .dataframe tbody tr th:only-of-type {\n",
       "        vertical-align: middle;\n",
       "    }\n",
       "\n",
       "    .dataframe tbody tr th {\n",
       "        vertical-align: top;\n",
       "    }\n",
       "\n",
       "    .dataframe thead th {\n",
       "        text-align: right;\n",
       "    }\n",
       "</style>\n",
       "<table border=\"1\" class=\"dataframe\">\n",
       "  <thead>\n",
       "    <tr style=\"text-align: right;\">\n",
       "      <th></th>\n",
       "      <th>0</th>\n",
       "      <th>1</th>\n",
       "      <th>2</th>\n",
       "      <th>3</th>\n",
       "      <th>4</th>\n",
       "    </tr>\n",
       "  </thead>\n",
       "  <tbody>\n",
       "    <tr>\n",
       "      <th>1c827fa2ab834e37e6158992d5323ce4</th>\n",
       "      <td>5.0</td>\n",
       "      <td>4.0</td>\n",
       "      <td>2.0</td>\n",
       "      <td>2.0</td>\n",
       "      <td>4.0</td>\n",
       "    </tr>\n",
       "    <tr>\n",
       "      <th>5e1d38f0c4a308364fec6276ef022620</th>\n",
       "      <td>3.0</td>\n",
       "      <td>5.0</td>\n",
       "      <td>3.0</td>\n",
       "      <td>5.0</td>\n",
       "      <td>3.0</td>\n",
       "    </tr>\n",
       "    <tr>\n",
       "      <th>0838dda3480fa85f414734cf40d81c25</th>\n",
       "      <td>2.0</td>\n",
       "      <td>4.0</td>\n",
       "      <td>3.0</td>\n",
       "      <td>5.0</td>\n",
       "      <td>2.0</td>\n",
       "    </tr>\n",
       "    <tr>\n",
       "      <th>5e3a44146a0889537c5fa777b6ff7bf4</th>\n",
       "      <td>6.0</td>\n",
       "      <td>4.0</td>\n",
       "      <td>6.0</td>\n",
       "      <td>3.0</td>\n",
       "      <td>0.0</td>\n",
       "    </tr>\n",
       "    <tr>\n",
       "      <th>b5f937e40b9cb0e2eecb4ba2365e2019</th>\n",
       "      <td>6.0</td>\n",
       "      <td>6.0</td>\n",
       "      <td>6.0</td>\n",
       "      <td>6.0</td>\n",
       "      <td>6.0</td>\n",
       "    </tr>\n",
       "    <tr>\n",
       "      <th>...</th>\n",
       "      <td>...</td>\n",
       "      <td>...</td>\n",
       "      <td>...</td>\n",
       "      <td>...</td>\n",
       "      <td>...</td>\n",
       "    </tr>\n",
       "    <tr>\n",
       "      <th>c2023420f0b0cea5cbf1c1408b148d7d</th>\n",
       "      <td>0.0</td>\n",
       "      <td>0.0</td>\n",
       "      <td>1.0</td>\n",
       "      <td>3.0</td>\n",
       "      <td>4.0</td>\n",
       "    </tr>\n",
       "    <tr>\n",
       "      <th>ed76f424843b3da7bebf34e93beb9dfe</th>\n",
       "      <td>0.0</td>\n",
       "      <td>0.0</td>\n",
       "      <td>1.0</td>\n",
       "      <td>1.0</td>\n",
       "      <td>1.0</td>\n",
       "    </tr>\n",
       "    <tr>\n",
       "      <th>125a1c7aa92551935661469e5a3868a9</th>\n",
       "      <td>0.0</td>\n",
       "      <td>0.0</td>\n",
       "      <td>1.0</td>\n",
       "      <td>5.0</td>\n",
       "      <td>4.0</td>\n",
       "    </tr>\n",
       "    <tr>\n",
       "      <th>ecd6a89229ea8ad5ffda725091ee99e4</th>\n",
       "      <td>0.0</td>\n",
       "      <td>0.0</td>\n",
       "      <td>1.0</td>\n",
       "      <td>3.0</td>\n",
       "      <td>5.0</td>\n",
       "    </tr>\n",
       "    <tr>\n",
       "      <th>df9aed0c5ba3bd4c73c388c650357958</th>\n",
       "      <td>0.0</td>\n",
       "      <td>0.0</td>\n",
       "      <td>1.0</td>\n",
       "      <td>3.0</td>\n",
       "      <td>6.0</td>\n",
       "    </tr>\n",
       "  </tbody>\n",
       "</table>\n",
       "<p>3323 rows × 5 columns</p>\n",
       "</div>"
      ],
      "text/plain": [
       "                                    0    1    2    3    4\n",
       "1c827fa2ab834e37e6158992d5323ce4  5.0  4.0  2.0  2.0  4.0\n",
       "5e1d38f0c4a308364fec6276ef022620  3.0  5.0  3.0  5.0  3.0\n",
       "0838dda3480fa85f414734cf40d81c25  2.0  4.0  3.0  5.0  2.0\n",
       "5e3a44146a0889537c5fa777b6ff7bf4  6.0  4.0  6.0  3.0  0.0\n",
       "b5f937e40b9cb0e2eecb4ba2365e2019  6.0  6.0  6.0  6.0  6.0\n",
       "...                               ...  ...  ...  ...  ...\n",
       "c2023420f0b0cea5cbf1c1408b148d7d  0.0  0.0  1.0  3.0  4.0\n",
       "ed76f424843b3da7bebf34e93beb9dfe  0.0  0.0  1.0  1.0  1.0\n",
       "125a1c7aa92551935661469e5a3868a9  0.0  0.0  1.0  5.0  4.0\n",
       "ecd6a89229ea8ad5ffda725091ee99e4  0.0  0.0  1.0  3.0  5.0\n",
       "df9aed0c5ba3bd4c73c388c650357958  0.0  0.0  1.0  3.0  6.0\n",
       "\n",
       "[3323 rows x 5 columns]"
      ]
     },
     "execution_count": 25,
     "metadata": {},
     "output_type": "execute_result"
    }
   ],
   "source": [
    "# add frequent user interactions from the cold start bucket to frame\n",
    "frequent_users_1314_semester_interactions.insert(0, 0, cold_start_semester_interactions)\n",
    "frequent_users_1314_semester_interactions"
   ]
  },
  {
   "cell_type": "code",
   "execution_count": null,
   "metadata": {},
   "outputs": [],
   "source": [
    "# fu_1314_semesters = semesters # cold start + sample (it's the same bc the initial sample was already cold start + 2y)\n",
    "# fu_1314_semesters"
   ]
  },
  {
   "cell_type": "code",
   "execution_count": 23,
   "metadata": {},
   "outputs": [],
   "source": [
    "thr = n_semester_thr/len(semesters_idx) # 4 semesters -> 2 years \n",
    "sample_fu_1314 = 'fu_'+str(thr)"
   ]
  },
  {
   "cell_type": "code",
   "execution_count": 28,
   "metadata": {},
   "outputs": [
    {
     "data": {
      "text/plain": [
       "'output/goodreads_dump/pos_rates_only/sample_2012-07_until_2015-01/inter_dedup_coldstart_3stars_4x714k_fu_0.75_user_semestre_interactions.joblib'"
      ]
     },
     "execution_count": 28,
     "metadata": {},
     "output_type": "execute_result"
    }
   ],
   "source": [
    "save_folder+filename+'_'+sample_fu_1314+'_user_semester_interactions.joblib'"
   ]
  },
  {
   "cell_type": "code",
   "execution_count": 31,
   "metadata": {},
   "outputs": [
    {
     "data": {
      "text/plain": [
       "['output/goodreads_dump/pos_rates_only/sample_2012-07_until_2015-01/inter_dedup_coldstart_3stars_4x714k_fu_0.75_user_semester_interactions.joblib']"
      ]
     },
     "execution_count": 31,
     "metadata": {},
     "output_type": "execute_result"
    }
   ],
   "source": [
    "# joblib.dump(frequent_users_1314_semester_interactions, save_folder+filename+'_fu_'+str(n_semester_thr/len(semesters_idx))+'_user_semester_interactions.joblib')\n",
    "\n",
    "# joblib.dump(fu_1314_semesters, output_path+filename+'_'+sample_fu_1314+'_semestres.joblib')\n",
    "joblib.dump([None, None, frequent_users_1314], save_folder+filename+'_frequent_users_'+str(thr)+'.joblib')\n",
    "joblib.dump(frequent_users_1314_semester_interactions, save_folder+filename+'_'+sample_fu_1314+'_user_semester_interactions.joblib')"
   ]
  },
  {
   "cell_type": "markdown",
   "metadata": {},
   "source": [
    "# get all genres"
   ]
  },
  {
   "cell_type": "markdown",
   "metadata": {},
   "source": [
    "___\n",
    "## proof code works"
   ]
  },
  {
   "cell_type": "code",
   "execution_count": null,
   "metadata": {},
   "outputs": [],
   "source": [
    "# _ = pd.json_normalize(load_data(dataset_folderpath+'goodreads_book_genres_initial.json.gz', head=1000))\n",
    "# _"
   ]
  },
  {
   "cell_type": "code",
   "execution_count": null,
   "metadata": {},
   "outputs": [],
   "source": [
    "# _.columns"
   ]
  },
  {
   "cell_type": "code",
   "execution_count": null,
   "metadata": {},
   "outputs": [],
   "source": [
    "# 'genres.history, historical fiction, biography'[len('genres.'):].split(', ')"
   ]
  },
  {
   "cell_type": "code",
   "execution_count": null,
   "metadata": {},
   "outputs": [],
   "source": [
    "# _list = [c[len('genres.'):].split(', ') for c in _.columns[1:]]\n",
    "# import itertools\n",
    "# merged = list(itertools.chain(*_list))\n",
    "# merged"
   ]
  },
  {
   "cell_type": "code",
   "execution_count": null,
   "metadata": {},
   "outputs": [],
   "source": [
    "# [c[len('genres.'):] for c in _.columns[1:]]"
   ]
  },
  {
   "cell_type": "markdown",
   "metadata": {},
   "source": [
    "end of code proof\n",
    "___"
   ]
  },
  {
   "cell_type": "markdown",
   "metadata": {},
   "source": [
    "# book genres"
   ]
  },
  {
   "cell_type": "code",
   "execution_count": null,
   "metadata": {},
   "outputs": [],
   "source": [
    "book_genres = pd.json_normalize(load_data(dataset_folderpath+'goodreads_book_genres_initial.json.gz', head=None))\n",
    "book_genres"
   ]
  },
  {
   "cell_type": "code",
   "execution_count": null,
   "metadata": {},
   "outputs": [],
   "source": [
    "item_meta_list = [c[len('genres.'):] for c in book_genres.columns[1:]]\n",
    "item_meta_list"
   ]
  },
  {
   "cell_type": "code",
   "execution_count": null,
   "metadata": {},
   "outputs": [],
   "source": [
    "print(output_path)\n",
    "print(save_folder)"
   ]
  },
  {
   "cell_type": "code",
   "execution_count": null,
   "metadata": {},
   "outputs": [],
   "source": [
    "len(item_meta_list)"
   ]
  },
  {
   "cell_type": "code",
   "execution_count": null,
   "metadata": {},
   "outputs": [],
   "source": [
    "joblib.dump(item_meta_list, output_path+'item_meta_list.joblib')"
   ]
  },
  {
   "cell_type": "code",
   "execution_count": null,
   "metadata": {},
   "outputs": [],
   "source": [
    "book_genres_clean = book_genres.replace(to_replace=np.NaN, value=0)\n",
    "book_genres_clean"
   ]
  },
  {
   "cell_type": "code",
   "execution_count": null,
   "metadata": {},
   "outputs": [],
   "source": [
    "genre_count = book_genres.drop(columns=['book_id']).count(axis=1)\n",
    "book_genres_clean['genre_count'] = genre_count"
   ]
  },
  {
   "cell_type": "code",
   "execution_count": null,
   "metadata": {},
   "outputs": [],
   "source": [
    "book_genres_clean.columns = ['book_id'] + item_meta_list + ['genre_count']\n",
    "book_genres_clean"
   ]
  },
  {
   "cell_type": "code",
   "execution_count": null,
   "metadata": {},
   "outputs": [],
   "source": [
    "book_genres_clean['book_id'].nunique()"
   ]
  },
  {
   "cell_type": "markdown",
   "metadata": {},
   "source": [
    "## save to csv"
   ]
  },
  {
   "cell_type": "code",
   "execution_count": null,
   "metadata": {},
   "outputs": [],
   "source": [
    "book_genres_clean.to_csv(output_path+'item_meta_df.csv')"
   ]
  },
  {
   "cell_type": "markdown",
   "metadata": {},
   "source": [
    "# one column book genres"
   ]
  },
  {
   "cell_type": "code",
   "execution_count": null,
   "metadata": {},
   "outputs": [],
   "source": [
    "book_genres_onecol = getDF(dataset_folderpath+'goodreads_book_genres_initial.json.gz')\n",
    "book_genres_onecol['genres_list'] = book_genres_onecol['genres'].apply(lambda x: list(x.keys()))\n",
    "book_genres_onecol"
   ]
  },
  {
   "cell_type": "code",
   "execution_count": null,
   "metadata": {},
   "outputs": [],
   "source": [
    "book_genres_onecol_clean = book_genres_onecol[['book_id','genres_list']].explode('genres_list')\n",
    "book_genres_onecol_clean"
   ]
  },
  {
   "cell_type": "code",
   "execution_count": null,
   "metadata": {},
   "outputs": [],
   "source": [
    "book_genres_onecol_clean = pd.merge(book_genres_onecol_clean, book_genres_clean[['book_id', 'genre_count']])\n",
    "book_genres_onecol_clean"
   ]
  },
  {
   "cell_type": "markdown",
   "metadata": {},
   "source": [
    "## save to csv"
   ]
  },
  {
   "cell_type": "code",
   "execution_count": null,
   "metadata": {},
   "outputs": [],
   "source": [
    "book_genres_onecol_clean.to_csv(output_path+'item_meta_onecol_df.csv')"
   ]
  },
  {
   "cell_type": "code",
   "execution_count": null,
   "metadata": {},
   "outputs": [],
   "source": [
    "print('how many books have x amount of genres:\\n', book_genres_clean['genre_count'].value_counts()/book_genres_clean['book_id'].nunique())#.value_counts()"
   ]
  },
  {
   "cell_type": "markdown",
   "metadata": {},
   "source": [
    "17% does not have any genres"
   ]
  },
  {
   "cell_type": "code",
   "execution_count": null,
   "metadata": {},
   "outputs": [],
   "source": [
    "book_genres_clean.loc[book_genres_clean['genre_count']==10,:]"
   ]
  },
  {
   "cell_type": "code",
   "execution_count": null,
   "metadata": {},
   "outputs": [],
   "source": [
    "#incompatible_genres = [('fiction', 'non-fiction')] ? \n",
    "# if someone labeled it as biography, could have also labled it as non-fiction, \n",
    "# but in the same train of thought, if someone labled it historical fiction, then could also have labled it as fiction"
   ]
  },
  {
   "cell_type": "code",
   "execution_count": null,
   "metadata": {},
   "outputs": [],
   "source": [
    "pd.qcut(book_genres_clean['genre_count'], 4, retbins=True, labels=False)"
   ]
  },
  {
   "cell_type": "code",
   "execution_count": null,
   "metadata": {},
   "outputs": [],
   "source": []
  }
 ],
 "metadata": {
  "kernelspec": {
   "display_name": "m_f_1st",
   "language": "python",
   "name": "python3"
  },
  "language_info": {
   "codemirror_mode": {
    "name": "ipython",
    "version": 3
   },
   "file_extension": ".py",
   "mimetype": "text/x-python",
   "name": "python",
   "nbconvert_exporter": "python",
   "pygments_lexer": "ipython3",
   "version": "3.9.18"
  }
 },
 "nbformat": 4,
 "nbformat_minor": 2
}
