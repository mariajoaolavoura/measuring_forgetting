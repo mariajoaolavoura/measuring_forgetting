{
 "cells": [
  {
   "cell_type": "code",
   "execution_count": null,
   "metadata": {},
   "outputs": [],
   "source": [
    "import tarfile \n",
    "  \n",
    "# open file \n",
    "file = tarfile.open('../datasets/millionsongsubset.tar.gz') "
   ]
  },
  {
   "cell_type": "code",
   "execution_count": null,
   "metadata": {},
   "outputs": [],
   "source": [
    "import tarfile\n",
    "import pandas as pd\n",
    "with tarfile.open(\"../datasets/millionsongsubset.tar.gz\", \"r:*\") as tar:\n",
    "    csv_path = tar.getnames()[0]\n",
    "    df = pd.read_csv(tar.extractfile(csv_path), header=0, sep=\" \")"
   ]
  },
  {
   "cell_type": "code",
   "execution_count": null,
   "metadata": {},
   "outputs": [],
   "source": [
    "df = pd.read_csv('../datasets/millionsongsubset.tar.gz')#, compression='gzip', header=0, sep=' ', quotechar='\"', error_bad_lines=False)"
   ]
  }
 ],
 "metadata": {
  "language_info": {
   "name": "python"
  }
 },
 "nbformat": 4,
 "nbformat_minor": 2
}
