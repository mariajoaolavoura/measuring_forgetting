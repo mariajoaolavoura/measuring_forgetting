{
 "cells": [
  {
   "cell_type": "code",
   "execution_count": 1,
   "metadata": {
    "jupyter": {
     "source_hidden": true
    }
   },
   "outputs": [],
   "source": [
    "# # https://github.com/jupyterlab/jupyterlab/issues/6910\n",
    "# # import os\n",
    "# # import sys\n",
    "# # sys.path.append(os.path.abspath('') + '/..')\n",
    "\n",
    "# # from data import ImplicitData\n",
    "\n",
    "# from flurs.data.entity import User, Item, Event\n",
    "# from flurs.recommender import UserKNNRecommender\n",
    "# import pandas as pd\n",
    "# import numpy as np\n",
    "\n",
    "# data = pd.read_csv(\"../datasets/ml1m_gte5.csv\", sep='\\t')\n",
    "# user_col = 'UserID'\n",
    "# item_col = 'ItemID'\n",
    "# data.head()\n",
    "\n",
    "# data2=data.copy()\n",
    "\n",
    "# usermap = pd.Series(pd.unique( data[user_col] )).reset_index().set_index(0).to_dict()['index']\n",
    "# itemmap = pd.Series(pd.unique( data[item_col] )).reset_index().set_index(0).to_dict()['index']\n",
    "# # 3m 24.7s\n",
    "# # def mapfun(x, unique=pd.unique( data[item_col] )):\n",
    "# #     return np.where( unique == x )[0][0]\n",
    "# # remaping user/item names so that they are ordered from 0 to number of users/items\n",
    "# # Flurs need user/item IDs to be increasing order integers\n",
    "# # data2[item_col]=data2[item_col].map(mapfun)\n",
    "# # data2[user_col]=data2[user_col].map( lambda x: mapfun( x, unique=pd.unique( data[user_col] ) ) )\n",
    "\n",
    "# data2[user_col]=data2[user_col].map(usermap)\n",
    "# data2[item_col]=data2[item_col].map(itemmap)\n",
    "\n",
    "# data2 = data2.iloc[:, :2].values\n",
    "\n",
    "# # Initialize model\n",
    "# knn_RS = UserKNNRecommender(k=5)\n",
    "# knn_RS.initialize()\n",
    "\n",
    "# # For each interaction - register user, register item, register event\n",
    "# for u, i in data2[:1000]:\n",
    "#     # print(u,i)\n",
    "#     user = User(u)\n",
    "#     knn_RS.register(user)\n",
    "\n",
    "#     item = Item(i)\n",
    "#     knn_RS.register(item)\n",
    "\n",
    "#     event = Event(user, item)\n",
    "#     knn_RS.update(event)\n",
    "\n",
    "# knn_RS.users[0]['known_items']\n",
    "\n",
    "# for i in knn_RS.users[0]['known_items']:\n",
    "#     print(i)\n",
    "\n",
    "# knn_RS.recommend(User(0), np.unique( data2[:1000, 1] ) ) # np.unique( data2[:, 1] ).reshape(1,-1)\n",
    "# => (sorted candidates, scores)"
   ]
  },
  {
   "cell_type": "code",
   "execution_count": 1,
   "metadata": {},
   "outputs": [],
   "source": [
    "import os\n",
    "import sys\n",
    "sys.path.append(os.path.abspath('') + '/..')\n",
    "from data import ImplicitData, getBucketsHoldouts\n",
    "from plot_utils import lineplot_recallxholdout, recall_heatmap\n",
    "from dataset_evaluation_utils import *\n",
    "# from recommenders_implicit import ISGD, RAISGD, RSISGD  # ISGD framework, BISGD,\n",
    "from flurs.recommender import BPRMFRecommender, SketchRecommender\n",
    "from eval_implicit import EvaluateHoldoutsFlurs# EvaluateHoldouts, EvaluateAndStore,  # EvaluateAndStore para guardar estados do modelo e holdouts, a avaliação prequencial de ratings implicitos é opcional, , EvalHoldout\n",
    "\n",
    "# from flurs.data.entity import User, Item, Event\n",
    "\n",
    "import pandas as pd\n",
    "import numpy as np\n",
    "\n",
    "from datetime import datetime\n",
    "import joblib\n",
    "import seaborn as sns\n",
    "import matplotlib.pyplot as plt\n",
    "sns.set_style('whitegrid')"
   ]
  },
  {
   "cell_type": "code",
   "execution_count": 2,
   "metadata": {},
   "outputs": [],
   "source": [
    "# importa dataset 'books playlists'\n",
    "data = pd.read_csv('output/amazonbooks_dump/3rd_sampled_amazon_books.csv')\n",
    "dataset_name = 'Amazon_Books'\n",
    "user_col = 'user_id'\n",
    "item_col = 'item_id'\n",
    "# data.sort_values(by='timestamp', inplace=True)"
   ]
  },
  {
   "cell_type": "code",
   "execution_count": 3,
   "metadata": {},
   "outputs": [],
   "source": [
    "buckets = joblib.load('output/amazonbooks_dump/3rd_sample_buckets.joblib')\n",
    "holdouts = joblib.load('output/amazonbooks_dump/3rd_sample_holdouts.joblib')"
   ]
  },
  {
   "cell_type": "code",
   "execution_count": null,
   "metadata": {
    "jupyter": {
     "source_hidden": true
    }
   },
   "outputs": [],
   "source": [
    "# # https://flurs.readthedocs.io/en/latest/reference.html#evaluation-utilities\n",
    "# import time\n",
    "\n",
    "# class EvaluateHoldouts_Flurs():\n",
    "#     def __init__(self, model, buckets, holdouts, data, user_col, item_col):\n",
    "#         self.model = model\n",
    "#         self.buckets = buckets\n",
    "#         self.holdouts = holdouts\n",
    "#         self.usermap = pd.Series(pd.unique( data[user_col] )).reset_index().set_index(0).to_dict()['index']\n",
    "#         self.itemmap = pd.Series(pd.unique( data[item_col] )).reset_index().set_index(0).to_dict()['index']\n",
    "#         self.max_users = data[user_col].nunique()\n",
    "#         self.max_items = data[item_col].nunique()\n",
    "#         self.metrics = [\"Recall@N\"]\n",
    "#         self.IncrementalTraining_time_record = {}\n",
    "#         self.EvaluateHoldouts_time_record = {}\n",
    "\n",
    "#     def train_evaluate(self, N_recommendations=20, exclude_known_items:bool=True):\n",
    "#         '''\n",
    "#         Incremental training of recommendation model.\n",
    "#         '''\n",
    "#         # model_checkpoints = []\n",
    "#         self.results_matrix = np.zeros( shape=( len( self.holdouts ), len( self.holdouts ) ) )\n",
    "#         # metric = self.metrics[0]\n",
    "#         self.N_recommendations = N_recommendations\n",
    "#         self.exclude_known_items = exclude_known_items\n",
    "#         # Initialize model\n",
    "#         # model = UserKNNRecommender(k=5) # model\n",
    "#         self.model.initialize()\n",
    "#         print('register users')\n",
    "#         s = time.time()\n",
    "#         for u in range(0, self.max_users):\n",
    "#             if not ((u*100)/self.max_users)%5:\n",
    "#                 print (((u*100)/self.max_users),'%')\n",
    "#             self.model.register(User(u))\n",
    "#         f = time.time()\n",
    "#         print( f-s, 'register users time' )\n",
    "#         print('register items')\n",
    "#         s = time.time()\n",
    "#         for i in range(0, self.max_items):\n",
    "#             if not ((i*100)/self.max_items)%5:\n",
    "#                 print (((i*100)/self.max_items),'%')\n",
    "#             self.model.register(Item(i))\n",
    "#         f = time.time()\n",
    "#         print( f-s, 'register items time' )\n",
    "#         self.max_item_ID = 0\n",
    "#         self.cold_start_buckets = len( self.buckets ) - len( self.holdouts ) \n",
    "#         # for each bucket, perform incremental training, evaluate model state against all holdouts\n",
    "#         for b, bucket in enumerate(self.buckets):\n",
    "#             print(f'Training: bucket {b}')\n",
    "#             incrtrain_time = []\n",
    "#             for i in range(bucket.size):\n",
    "#                 if not ( (i*100)/bucket.size ) % 5:\n",
    "#                     print(( (i*100)/bucket.size ), '%')\n",
    "#                 uid,iid = bucket.GetTuple(i)\n",
    "#                 s = time.time()\n",
    "#                 u_flurs, i_flurs = self.usermap[uid], self.itemmap[iid]\n",
    "#                 self.max_item_ID = max(self.max_item_ID, i_flurs)\n",
    "#                 # For each interaction - register user, register item, register event\n",
    "#                 user = User(u_flurs)\n",
    "#                 item = Item(i_flurs)\n",
    "#                 event = Event(user, item)\n",
    "# #                 self.model.register(user)\n",
    "# #                 self.model.register(item)\n",
    "#                 self.model.update(event)\n",
    "#                 f = time.time()\n",
    "#                 incrtrain_time.append(f-s)        \n",
    "\n",
    "#             self.IncrementalTraining_time_record[f'bucket_{b}'] = {\n",
    "#                 'size':bucket.size,\n",
    "#                 'train time vector':incrtrain_time,\n",
    "#                 'avg train time':np.mean(incrtrain_time),\n",
    "#                 'total train time':np.sum(incrtrain_time)\n",
    "#                 }            \n",
    "\n",
    "#             if b >= self.cold_start_buckets:\n",
    "#                 self._evaluate(n_bucket=b)\n",
    "\n",
    "#     def _evaluate(self, n_bucket):\n",
    "#         # after learning a bucket, evaluate model over every holdout     \n",
    "#         evaluate_time = [] \n",
    "#         time_get_tuple = []\n",
    "#         time_recommend = []\n",
    "#         time_del_user_items = []\n",
    "#         time_eval_point = []  \n",
    "#         for i, hd in enumerate(self.holdouts):\n",
    "#             print(f'Evaluating: model {n_bucket-self.cold_start_buckets} x holdout {i}')\n",
    "#             start_evaluate_time = time.time()\n",
    "#             results = {}\n",
    "#             # for metric in self.metrics:\n",
    "#             metric = self.metrics[0]\n",
    "#             results[metric] = []\n",
    "#             for hd_i in range(hd.size):\n",
    "#                 if not ( (hd_i*100)/hd.size ) % 5:\n",
    "#                     print(( (hd_i*100)/hd.size ), '%')\n",
    "#                 # GetTuple\n",
    "#                 s = time.time()\n",
    "#                 uid, iid = hd.GetTuple(hd_i) # get external IDs\n",
    "#                 u_flurs, i_flurs = self.usermap[uid], self.itemmap[iid]\n",
    "#                 user = User(u_flurs)\n",
    "#                 f = time.time()\n",
    "#                 time_get_tuple.append(f - s)\n",
    "#                 # recommend\n",
    "#                 s = time.time()\n",
    "#                 reclist = self.model.recommend(user, np.arange(self.max_item_ID+1) )[0]\n",
    "#                 f = time.time()\n",
    "#                 time_recommend.append(f - s)\n",
    "#                 # get items seen by user up until bucket 'n_bucket'\n",
    "#                 # delete seen items \n",
    "#                 s = time.time()\n",
    "#                 user_items = self.buckets[n_bucket].GetUserItems(uid, internal=False) \n",
    "#                 for previous_b in range(n_bucket):\n",
    "#                     user_items = np.concatenate((user_items, self.buckets[previous_b].GetUserItems(uid, internal=False)))\n",
    "#                 user_items = [self.itemmap[i] for i in user_items]\n",
    "#                 if self.exclude_known_items:\n",
    "#                     reclist = np.delete(reclist, user_items)\n",
    "#                 f = time.time()\n",
    "#                 time_del_user_items.append(f - s)\n",
    "#                 # get n recommendations\n",
    "#                 n = self.N_recommendations\n",
    "#                 if n == -1:\n",
    "#                     n = len(reclist)\n",
    "#                 reclist = reclist[:n]\n",
    "#                 if len(reclist):\n",
    "#                     s = time.time()\n",
    "#                     results[metric].append(self.__EvalPoint(i_flurs, reclist))\n",
    "#                     f = time.time()\n",
    "#                     time_eval_point.append(f - s)\n",
    "#                 else:\n",
    "#                     print(uid, 'user not seen')\n",
    "#             result = results[metric]\n",
    "#             n_not_seen = hd.size - len(result) # if user was not seen, its not added to recall. May be needed to store difference.\n",
    "#             if n_not_seen:\n",
    "#                 print(f'recommendations not made for users in holdout {i} x bucket {n_bucket}: {n_not_seen}')\n",
    "#             result = sum( result ) / len(result)\n",
    "#             self.results_matrix[n_bucket-self.cold_start_buckets, i] = result\n",
    "#             end_evaluate_time = time.time()\n",
    "#             evaluate_time.append(end_evaluate_time - start_evaluate_time)\n",
    "#             self.EvaluateHoldouts_time_record[f'model {n_bucket-self.cold_start_buckets} x holdout {i}'] = {\n",
    "#                 'size': hd.size,\n",
    "#                 'train time vector':evaluate_time,\n",
    "#                 'avg model eval time':np.mean(evaluate_time),\n",
    "#                 'total train time':np.sum(evaluate_time),\n",
    "#                 'time_get_tuple': time_get_tuple,\n",
    "#                 'time_recommend': time_recommend,\n",
    "#                 'time_del_user_items': time_del_user_items,\n",
    "#                 'time_eval_point': time_eval_point,\n",
    "#             }\n",
    "\n",
    "#     def __EvalPoint(self, item_id, reclist):\n",
    "#         result = 0\n",
    "#         if len(reclist) == 0:\n",
    "#             return 0\n",
    "#         for metric in self.metrics:\n",
    "#             if metric == \"Recall@N\":\n",
    "#                 result = int(item_id in reclist)\n",
    "#         return result"
   ]
  },
  {
   "cell_type": "code",
   "execution_count": 10,
   "metadata": {},
   "outputs": [],
   "source": [
    "data=data[ data['week'] == 1 ]# use sample"
   ]
  },
  {
   "cell_type": "code",
   "execution_count": 11,
   "metadata": {},
   "outputs": [],
   "source": [
    "BPRMF = EvaluateHoldoutsFlurs(BPRMFRecommender(), [buckets[0]], [holdouts[0]], data, user_col, item_col)"
   ]
  },
  {
   "cell_type": "code",
   "execution_count": 12,
   "metadata": {},
   "outputs": [
    {
     "name": "stdout",
     "output_type": "stream",
     "text": [
      "register users\n",
      "0.0 %\n",
      "25.0 %\n",
      "50.0 %\n",
      "75.0 %\n",
      "0.53216552734375 register users time\n",
      "register items\n",
      "0.0 %\n",
      "20.0 %\n",
      "40.0 %\n",
      "60.0 %\n",
      "80.0 %\n",
      "117.84170174598694 register items time\n",
      "Training: bucket 0\n",
      "0.0 %\n",
      "20.0 %\n",
      "40.0 %\n",
      "60.0 %\n",
      "80.0 %\n",
      "Evaluating: model 0 x holdout 0\n",
      "0.0 %\n",
      "20.0 %\n",
      "40.0 %\n",
      "60.0 %\n",
      "80.0 %\n",
      "CPU times: user 40min 40s, sys: 56min 52s, total: 1h 37min 33s\n",
      "Wall time: 17min 32s\n"
     ]
    }
   ],
   "source": [
    "%%time\n",
    "# 26min 52s\n",
    "# bem mais rápido registrar usuários e itens com BPRMF do que com KNN\n",
    "BPRMF.Train_Evaluate(N_recommendations = 20, exclude_known_items = True)"
   ]
  },
  {
   "cell_type": "code",
   "execution_count": 13,
   "metadata": {},
   "outputs": [
    {
     "data": {
      "text/plain": [
       "array([[0.0003104]])"
      ]
     },
     "execution_count": 13,
     "metadata": {},
     "output_type": "execute_result"
    }
   ],
   "source": [
    "BPRMF.results_matrix"
   ]
  },
  {
   "cell_type": "code",
   "execution_count": 12,
   "metadata": {},
   "outputs": [],
   "source": [
    "df = pd.DataFrame(BPRMF.results_matrix)\n",
    "# df.to_csv('output/amazonbooks_dump/3rd_sample_amazon_books month_bucket BPRMF results.csv', index=False)"
   ]
  },
  {
   "cell_type": "code",
   "execution_count": 13,
   "metadata": {},
   "outputs": [
    {
     "data": {
      "image/png": "[encoded data removed]",
      "text/plain": [
       "<Figure size 1080x720 with 2 Axes>"
      ]
     },
     "metadata": {},
     "output_type": "display_data"
    }
   ],
   "source": [
    "recall_heatmap(df,\n",
    "    title='Recall@20 for BPRMF models across Holdouts - Amazon Books'),\n",
    "#     filepath='images/heatmaps/amazonbooks_dump/3rd_sample_amazon_books month_bucket BPRMF heatmap.png') #='images/heatmaps/palco_2010 month_bucket ISGD heatmap.png'"
   ]
  },
  {
   "cell_type": "code",
   "execution_count": 16,
   "metadata": {},
   "outputs": [
    {
     "data": {
      "text/plain": [
       "['output/amazonbooks_dump/3rd_sample_amazon_books month_bucket BPRMF eval time.joblib']"
      ]
     },
     "execution_count": 16,
     "metadata": {},
     "output_type": "execute_result"
    }
   ],
   "source": [
    "# joblib.dump(BPRMF.IncrementalTraining_time_record, 'output/amazonbooks_dump/3rd_sample_amazon_books month_bucket BPRMF training time.joblib')\n",
    "# joblib.dump(BPRMF.EvaluateHoldouts_time_record, 'output/amazonbooks_dump/3rd_sample_amazon_books month_bucket BPRMF eval time.joblib')"
   ]
  }
 ],
 "metadata": {
  "kernelspec": {
   "display_name": "streamrec_venv",
   "language": "python",
   "name": "streamrec_venv"
  },
  "language_info": {
   "codemirror_mode": {
    "name": "ipython",
    "version": 3
   },
   "file_extension": ".py",
   "mimetype": "text/x-python",
   "name": "python",
   "nbconvert_exporter": "python",
   "pygments_lexer": "ipython3",
   "version": "3.8.10"
  },
  "vscode": {
   "interpreter": {
    "hash": "93164e1ba08303257f1d4f69270dc17556e83319233af9462e0c249160adc063"
   }
  }
 },
 "nbformat": 4,
 "nbformat_minor": 4
}
