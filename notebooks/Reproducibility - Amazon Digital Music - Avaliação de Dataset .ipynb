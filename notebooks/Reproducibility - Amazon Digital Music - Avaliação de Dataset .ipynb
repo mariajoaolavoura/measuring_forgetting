{
 "cells": [
  {
   "cell_type": "markdown",
   "metadata": {},
   "source": [
    "Neste notebook:\n",
    "* Avaliação de usuários por bucket  \n",
    "    * em média, e mediana, em quantos buckets os utilizadores estão.  \n",
    "    * quantos usuários novos estão em cada bucket e quantos não ocorrem\n",
    "\n",
    "Objetivo:\n",
    "* explorar caracteristicas dos datasets que permitam\n",
    "    * avaliar se o dataset é util para a análise  \n",
    "    * escolher o número de buckets  "
   ]
  },
  {
   "cell_type": "markdown",
   "metadata": {},
   "source": [
    "Vamos definir o numero de itens em cada bucket como 50k"
   ]
  },
  {
   "cell_type": "code",
   "execution_count": 1,
   "metadata": {},
   "outputs": [],
   "source": [
    "import os\n",
    "import sys\n",
    "sys.path.append(os.path.abspath('') + '/..')"
   ]
  },
  {
   "cell_type": "code",
   "execution_count": 2,
   "metadata": {},
   "outputs": [],
   "source": [
    "from data import ImplicitData\n",
    "from recommenders_implicit import ISGD  # ISGD framework, BISGD,\n",
    "from eval_implicit import EvaluateAndStore # EvaluateAndStore para guardar estados do modelo e holdouts, a avaliação prequencial de ratings implicitos é opcional, , EvalHoldout\n",
    "from dataset_evaluation_utils import * #get_interactions_info, plot_interactions_per_month, plot_user_presence_distribution, plot_n_users_per_bucket, plot_bucket_size\n",
    "\n",
    "from datetime import datetime, timedelta\n",
    "\n",
    "import joblib\n",
    "import pandas as pd \n",
    "import numpy as np \n",
    "import seaborn as sns\n",
    "import matplotlib.pyplot as plt\n",
    "sns.set_style('whitegrid')"
   ]
  },
  {
   "cell_type": "markdown",
   "metadata": {
    "tags": []
   },
   "source": [
    "___\n",
    "# Amazon Digital Music\n",
    "Small subset, ratings only.  \n",
    "https://nijianmo.github.io/amazon/index.html\n"
   ]
  },
  {
   "cell_type": "code",
   "execution_count": 3,
   "metadata": {},
   "outputs": [
    {
     "data": {
      "text/plain": [
       "(1584082, 4)"
      ]
     },
     "execution_count": 3,
     "metadata": {},
     "output_type": "execute_result"
    }
   ],
   "source": [
    "# importa dataset 'amazon digital music'\n",
    "data = pd.read_csv(\"../datasets/Amazon_Digital_Music/Digital_Music.csv\", names=['user_id', 'item_id', 'rating', 'timestamp'])\n",
    "dataset_name = 'Amazon_Digital_Music'\n",
    "user_col = 'user_id'\n",
    "\n",
    "data.shape"
   ]
  },
  {
   "cell_type": "code",
   "execution_count": 4,
   "metadata": {},
   "outputs": [
    {
     "data": {
      "text/html": [
       "<div>\n",
       "<style scoped>\n",
       "    .dataframe tbody tr th:only-of-type {\n",
       "        vertical-align: middle;\n",
       "    }\n",
       "\n",
       "    .dataframe tbody tr th {\n",
       "        vertical-align: top;\n",
       "    }\n",
       "\n",
       "    .dataframe thead th {\n",
       "        text-align: right;\n",
       "    }\n",
       "</style>\n",
       "<table border=\"1\" class=\"dataframe\">\n",
       "  <thead>\n",
       "    <tr style=\"text-align: right;\">\n",
       "      <th></th>\n",
       "      <th>user_id</th>\n",
       "      <th>item_id</th>\n",
       "      <th>rating</th>\n",
       "      <th>timestamp</th>\n",
       "    </tr>\n",
       "  </thead>\n",
       "  <tbody>\n",
       "    <tr>\n",
       "      <th>0</th>\n",
       "      <td>0001388703</td>\n",
       "      <td>A1ZCPG3D3HGRSS</td>\n",
       "      <td>5.0</td>\n",
       "      <td>1387670400</td>\n",
       "    </tr>\n",
       "    <tr>\n",
       "      <th>1</th>\n",
       "      <td>0001388703</td>\n",
       "      <td>AC2PL52NKPL29</td>\n",
       "      <td>5.0</td>\n",
       "      <td>1378857600</td>\n",
       "    </tr>\n",
       "    <tr>\n",
       "      <th>2</th>\n",
       "      <td>0001388703</td>\n",
       "      <td>A1SUZXBDZSDQ3A</td>\n",
       "      <td>5.0</td>\n",
       "      <td>1362182400</td>\n",
       "    </tr>\n",
       "    <tr>\n",
       "      <th>3</th>\n",
       "      <td>0001388703</td>\n",
       "      <td>A3A0W7FZXM0IZW</td>\n",
       "      <td>5.0</td>\n",
       "      <td>1354406400</td>\n",
       "    </tr>\n",
       "    <tr>\n",
       "      <th>4</th>\n",
       "      <td>0001388703</td>\n",
       "      <td>A12R54MKO17TW0</td>\n",
       "      <td>5.0</td>\n",
       "      <td>1325894400</td>\n",
       "    </tr>\n",
       "  </tbody>\n",
       "</table>\n",
       "</div>"
      ],
      "text/plain": [
       "      user_id         item_id  rating   timestamp\n",
       "0  0001388703  A1ZCPG3D3HGRSS     5.0  1387670400\n",
       "1  0001388703   AC2PL52NKPL29     5.0  1378857600\n",
       "2  0001388703  A1SUZXBDZSDQ3A     5.0  1362182400\n",
       "3  0001388703  A3A0W7FZXM0IZW     5.0  1354406400\n",
       "4  0001388703  A12R54MKO17TW0     5.0  1325894400"
      ]
     },
     "execution_count": 4,
     "metadata": {},
     "output_type": "execute_result"
    }
   ],
   "source": [
    "data.head()"
   ]
  },
  {
   "cell_type": "code",
   "execution_count": 5,
   "metadata": {},
   "outputs": [
    {
     "data": {
      "text/plain": [
       "B0135P6PZA     True\n",
       "B00M8JCW3E     True\n",
       "B00CZF8B68     True\n",
       "B00NPZI1ZS     True\n",
       "B00U3WJHCW     True\n",
       "              ...  \n",
       "B0029S2KKY    False\n",
       "B0013R5L6M    False\n",
       "B0070PVCX2    False\n",
       "B01DNCH90K    False\n",
       "B002A6Z4FS    False\n",
       "Name: user_id, Length: 456992, dtype: bool"
      ]
     },
     "execution_count": 5,
     "metadata": {},
     "output_type": "execute_result"
    }
   ],
   "source": [
    "data['user_id'].value_counts() >= 5"
   ]
  },
  {
   "cell_type": "code",
   "execution_count": 6,
   "metadata": {},
   "outputs": [
    {
     "data": {
      "text/plain": [
       "Index(['B0135P6PZA', 'B00M8JCW3E', 'B00CZF8B68', 'B00NPZI1ZS', 'B00U3WJHCW',\n",
       "       'B0092MKTL2', 'B005MVLI8A', 'B00136NUG6', 'B0170K9UTO', 'B0099G7KDQ',\n",
       "       ...\n",
       "       'B00JUF3MWO', 'B000E1E2IG', 'B000QQYEJG', 'B00LY3UOK8', 'B000W1RET2',\n",
       "       'B0028H88VG', 'B00TPPZ60K', 'B000QL9D6A', 'B0096U6T28', 'B016Q4GGAQ'],\n",
       "      dtype='object', length=50110)"
      ]
     },
     "execution_count": 6,
     "metadata": {},
     "output_type": "execute_result"
    }
   ],
   "source": [
    "k_core_users = data['user_id'].value_counts()[ data['user_id'].value_counts() >= 5 ].index\n",
    "k_core_users"
   ]
  },
  {
   "cell_type": "code",
   "execution_count": 7,
   "metadata": {},
   "outputs": [
    {
     "data": {
      "text/plain": [
       "(998936, 4)"
      ]
     },
     "execution_count": 7,
     "metadata": {},
     "output_type": "execute_result"
    }
   ],
   "source": [
    "data = data.set_index('user_id').loc[k_core_users].reset_index()\n",
    "data.shape"
   ]
  },
  {
   "cell_type": "markdown",
   "metadata": {},
   "source": [
    "### Keep only high ratings"
   ]
  },
  {
   "cell_type": "code",
   "execution_count": 8,
   "metadata": {},
   "outputs": [
    {
     "data": {
      "image/png": "[encoded data removed]",
      "text/plain": [
       "<Figure size 640x480 with 1 Axes>"
      ]
     },
     "metadata": {},
     "output_type": "display_data"
    }
   ],
   "source": [
    "data['rating'].plot(kind='hist');"
   ]
  },
  {
   "cell_type": "code",
   "execution_count": 9,
   "metadata": {},
   "outputs": [
    {
     "data": {
      "text/plain": [
       "5.0"
      ]
     },
     "execution_count": 9,
     "metadata": {},
     "output_type": "execute_result"
    }
   ],
   "source": [
    "np.quantile(data['rating'], q=0.8)"
   ]
  },
  {
   "cell_type": "code",
   "execution_count": 10,
   "metadata": {},
   "outputs": [
    {
     "data": {
      "text/plain": [
       "5.0"
      ]
     },
     "execution_count": 10,
     "metadata": {},
     "output_type": "execute_result"
    }
   ],
   "source": [
    "pos_ratings = np.quantile(data['rating'], q=0.8)\n",
    "pos_ratings"
   ]
  },
  {
   "cell_type": "code",
   "execution_count": 11,
   "metadata": {},
   "outputs": [
    {
     "data": {
      "text/html": [
       "<div>\n",
       "<style scoped>\n",
       "    .dataframe tbody tr th:only-of-type {\n",
       "        vertical-align: middle;\n",
       "    }\n",
       "\n",
       "    .dataframe tbody tr th {\n",
       "        vertical-align: top;\n",
       "    }\n",
       "\n",
       "    .dataframe thead th {\n",
       "        text-align: right;\n",
       "    }\n",
       "</style>\n",
       "<table border=\"1\" class=\"dataframe\">\n",
       "  <thead>\n",
       "    <tr style=\"text-align: right;\">\n",
       "      <th></th>\n",
       "      <th>user_id</th>\n",
       "      <th>item_id</th>\n",
       "      <th>timestamp</th>\n",
       "    </tr>\n",
       "  </thead>\n",
       "  <tbody>\n",
       "    <tr>\n",
       "      <th>0</th>\n",
       "      <td>B0135P6PZA</td>\n",
       "      <td>A1N25NY4EQL7I6</td>\n",
       "      <td>1443225600</td>\n",
       "    </tr>\n",
       "    <tr>\n",
       "      <th>1</th>\n",
       "      <td>B0135P6PZA</td>\n",
       "      <td>A14K5YWVJ1SV38</td>\n",
       "      <td>1443225600</td>\n",
       "    </tr>\n",
       "    <tr>\n",
       "      <th>2</th>\n",
       "      <td>B0135P6PZA</td>\n",
       "      <td>A11Y3UKBMR9VTT</td>\n",
       "      <td>1443225600</td>\n",
       "    </tr>\n",
       "    <tr>\n",
       "      <th>3</th>\n",
       "      <td>B0135P6PZA</td>\n",
       "      <td>AM327SL7RBMMW</td>\n",
       "      <td>1443139200</td>\n",
       "    </tr>\n",
       "    <tr>\n",
       "      <th>4</th>\n",
       "      <td>B0135P6PZA</td>\n",
       "      <td>ARTPRZWG3M212</td>\n",
       "      <td>1443139200</td>\n",
       "    </tr>\n",
       "  </tbody>\n",
       "</table>\n",
       "</div>"
      ],
      "text/plain": [
       "      user_id         item_id   timestamp\n",
       "0  B0135P6PZA  A1N25NY4EQL7I6  1443225600\n",
       "1  B0135P6PZA  A14K5YWVJ1SV38  1443225600\n",
       "2  B0135P6PZA  A11Y3UKBMR9VTT  1443225600\n",
       "3  B0135P6PZA   AM327SL7RBMMW  1443139200\n",
       "4  B0135P6PZA   ARTPRZWG3M212  1443139200"
      ]
     },
     "execution_count": 11,
     "metadata": {},
     "output_type": "execute_result"
    }
   ],
   "source": [
    "data = data[ data['rating'] == pos_ratings ].drop(columns='rating')\n",
    "data.head()"
   ]
  },
  {
   "cell_type": "code",
   "execution_count": 12,
   "metadata": {},
   "outputs": [
    {
     "data": {
      "text/plain": [
       "809899"
      ]
     },
     "execution_count": 12,
     "metadata": {},
     "output_type": "execute_result"
    }
   ],
   "source": [
    "# number of remaining cases\n",
    "data.shape[0]"
   ]
  },
  {
   "cell_type": "markdown",
   "metadata": {},
   "source": [
    "### Convert timestamp"
   ]
  },
  {
   "cell_type": "code",
   "execution_count": 13,
   "metadata": {},
   "outputs": [
    {
     "name": "stdout",
     "output_type": "stream",
     "text": [
      "CPU times: total: 672 ms\n",
      "Wall time: 852 ms\n"
     ]
    }
   ],
   "source": [
    "%%time\n",
    "data['date'] = data['timestamp'].apply(lambda x: datetime.fromtimestamp(x) ) # convert unix timestamp to date\n",
    "data = data.sort_values(by='date') # sort by date"
   ]
  },
  {
   "cell_type": "code",
   "execution_count": 14,
   "metadata": {},
   "outputs": [
    {
     "data": {
      "text/html": [
       "<div>\n",
       "<style scoped>\n",
       "    .dataframe tbody tr th:only-of-type {\n",
       "        vertical-align: middle;\n",
       "    }\n",
       "\n",
       "    .dataframe tbody tr th {\n",
       "        vertical-align: top;\n",
       "    }\n",
       "\n",
       "    .dataframe thead th {\n",
       "        text-align: right;\n",
       "    }\n",
       "</style>\n",
       "<table border=\"1\" class=\"dataframe\">\n",
       "  <thead>\n",
       "    <tr style=\"text-align: right;\">\n",
       "      <th></th>\n",
       "      <th>user_id</th>\n",
       "      <th>item_id</th>\n",
       "      <th>timestamp</th>\n",
       "      <th>date</th>\n",
       "    </tr>\n",
       "  </thead>\n",
       "  <tbody>\n",
       "    <tr>\n",
       "      <th>39318</th>\n",
       "      <td>9714721180</td>\n",
       "      <td>A2SY49Z6H96QVR</td>\n",
       "      <td>877305600</td>\n",
       "      <td>1997-10-19 20:00:00</td>\n",
       "    </tr>\n",
       "    <tr>\n",
       "      <th>595856</th>\n",
       "      <td>B0013D89TW</td>\n",
       "      <td>A2XT7XLQ8DD4NZ</td>\n",
       "      <td>880675200</td>\n",
       "      <td>1997-11-27 19:00:00</td>\n",
       "    </tr>\n",
       "    <tr>\n",
       "      <th>595864</th>\n",
       "      <td>B0013D89TW</td>\n",
       "      <td>A2XT7XLQ8DD4NZ</td>\n",
       "      <td>880675200</td>\n",
       "      <td>1997-11-27 19:00:00</td>\n",
       "    </tr>\n",
       "    <tr>\n",
       "      <th>309450</th>\n",
       "      <td>B00122Z4Y2</td>\n",
       "      <td>A3OS0Q4XX0QSA4</td>\n",
       "      <td>893203200</td>\n",
       "      <td>1998-04-21 20:00:00</td>\n",
       "    </tr>\n",
       "    <tr>\n",
       "      <th>309496</th>\n",
       "      <td>B00122Z4Y2</td>\n",
       "      <td>A3OS0Q4XX0QSA4</td>\n",
       "      <td>893203200</td>\n",
       "      <td>1998-04-21 20:00:00</td>\n",
       "    </tr>\n",
       "  </tbody>\n",
       "</table>\n",
       "</div>"
      ],
      "text/plain": [
       "           user_id         item_id  timestamp                date\n",
       "39318   9714721180  A2SY49Z6H96QVR  877305600 1997-10-19 20:00:00\n",
       "595856  B0013D89TW  A2XT7XLQ8DD4NZ  880675200 1997-11-27 19:00:00\n",
       "595864  B0013D89TW  A2XT7XLQ8DD4NZ  880675200 1997-11-27 19:00:00\n",
       "309450  B00122Z4Y2  A3OS0Q4XX0QSA4  893203200 1998-04-21 20:00:00\n",
       "309496  B00122Z4Y2  A3OS0Q4XX0QSA4  893203200 1998-04-21 20:00:00"
      ]
     },
     "execution_count": 14,
     "metadata": {},
     "output_type": "execute_result"
    }
   ],
   "source": [
    "data.head()"
   ]
  },
  {
   "cell_type": "code",
   "execution_count": 15,
   "metadata": {},
   "outputs": [
    {
     "data": {
      "text/html": [
       "<div>\n",
       "<style scoped>\n",
       "    .dataframe tbody tr th:only-of-type {\n",
       "        vertical-align: middle;\n",
       "    }\n",
       "\n",
       "    .dataframe tbody tr th {\n",
       "        vertical-align: top;\n",
       "    }\n",
       "\n",
       "    .dataframe thead th {\n",
       "        text-align: right;\n",
       "    }\n",
       "</style>\n",
       "<table border=\"1\" class=\"dataframe\">\n",
       "  <thead>\n",
       "    <tr style=\"text-align: right;\">\n",
       "      <th></th>\n",
       "      <th>user_id</th>\n",
       "      <th>item_id</th>\n",
       "      <th>timestamp</th>\n",
       "      <th>date</th>\n",
       "    </tr>\n",
       "  </thead>\n",
       "  <tbody>\n",
       "    <tr>\n",
       "      <th>540983</th>\n",
       "      <td>B01H2N2XOI</td>\n",
       "      <td>AGITP40WOIGIM</td>\n",
       "      <td>1538179200</td>\n",
       "      <td>2018-09-28 20:00:00</td>\n",
       "    </tr>\n",
       "    <tr>\n",
       "      <th>877104</th>\n",
       "      <td>B01G7OH4KG</td>\n",
       "      <td>A1UACDAXDOWB2H</td>\n",
       "      <td>1538265600</td>\n",
       "      <td>2018-09-29 20:00:00</td>\n",
       "    </tr>\n",
       "    <tr>\n",
       "      <th>267893</th>\n",
       "      <td>B01GPDFR26</td>\n",
       "      <td>A312L5Z8SW61FR</td>\n",
       "      <td>1538265600</td>\n",
       "      <td>2018-09-29 20:00:00</td>\n",
       "    </tr>\n",
       "    <tr>\n",
       "      <th>262810</th>\n",
       "      <td>B01G4DH4AU</td>\n",
       "      <td>A7O6RHCU9RZ8L</td>\n",
       "      <td>1538352000</td>\n",
       "      <td>2018-09-30 20:00:00</td>\n",
       "    </tr>\n",
       "    <tr>\n",
       "      <th>231454</th>\n",
       "      <td>B01H7XADLS</td>\n",
       "      <td>A1X087SYY8ZFGC</td>\n",
       "      <td>1538438400</td>\n",
       "      <td>2018-10-01 20:00:00</td>\n",
       "    </tr>\n",
       "  </tbody>\n",
       "</table>\n",
       "</div>"
      ],
      "text/plain": [
       "           user_id         item_id   timestamp                date\n",
       "540983  B01H2N2XOI   AGITP40WOIGIM  1538179200 2018-09-28 20:00:00\n",
       "877104  B01G7OH4KG  A1UACDAXDOWB2H  1538265600 2018-09-29 20:00:00\n",
       "267893  B01GPDFR26  A312L5Z8SW61FR  1538265600 2018-09-29 20:00:00\n",
       "262810  B01G4DH4AU   A7O6RHCU9RZ8L  1538352000 2018-09-30 20:00:00\n",
       "231454  B01H7XADLS  A1X087SYY8ZFGC  1538438400 2018-10-01 20:00:00"
      ]
     },
     "execution_count": 15,
     "metadata": {},
     "output_type": "execute_result"
    }
   ],
   "source": [
    "data.tail()"
   ]
  },
  {
   "cell_type": "code",
   "execution_count": 16,
   "metadata": {},
   "outputs": [
    {
     "name": "stdout",
     "output_type": "stream",
     "text": [
      "CPU times: total: 8.42 s\n",
      "Wall time: 11.3 s\n"
     ]
    }
   ],
   "source": [
    "%%time\n",
    "# keep year-month\n",
    "data['date'] = data['date'].apply(lambda x: datetime.strptime( str(x.year)+'-'+str(x.month), '%Y-%m' ))"
   ]
  },
  {
   "cell_type": "code",
   "execution_count": 17,
   "metadata": {},
   "outputs": [
    {
     "data": {
      "text/html": [
       "<div>\n",
       "<style scoped>\n",
       "    .dataframe tbody tr th:only-of-type {\n",
       "        vertical-align: middle;\n",
       "    }\n",
       "\n",
       "    .dataframe tbody tr th {\n",
       "        vertical-align: top;\n",
       "    }\n",
       "\n",
       "    .dataframe thead th {\n",
       "        text-align: right;\n",
       "    }\n",
       "</style>\n",
       "<table border=\"1\" class=\"dataframe\">\n",
       "  <thead>\n",
       "    <tr style=\"text-align: right;\">\n",
       "      <th></th>\n",
       "      <th>user_id</th>\n",
       "      <th>item_id</th>\n",
       "      <th>timestamp</th>\n",
       "      <th>date</th>\n",
       "    </tr>\n",
       "  </thead>\n",
       "  <tbody>\n",
       "    <tr>\n",
       "      <th>39318</th>\n",
       "      <td>9714721180</td>\n",
       "      <td>A2SY49Z6H96QVR</td>\n",
       "      <td>877305600</td>\n",
       "      <td>1997-10-01</td>\n",
       "    </tr>\n",
       "    <tr>\n",
       "      <th>595856</th>\n",
       "      <td>B0013D89TW</td>\n",
       "      <td>A2XT7XLQ8DD4NZ</td>\n",
       "      <td>880675200</td>\n",
       "      <td>1997-11-01</td>\n",
       "    </tr>\n",
       "    <tr>\n",
       "      <th>595864</th>\n",
       "      <td>B0013D89TW</td>\n",
       "      <td>A2XT7XLQ8DD4NZ</td>\n",
       "      <td>880675200</td>\n",
       "      <td>1997-11-01</td>\n",
       "    </tr>\n",
       "    <tr>\n",
       "      <th>309450</th>\n",
       "      <td>B00122Z4Y2</td>\n",
       "      <td>A3OS0Q4XX0QSA4</td>\n",
       "      <td>893203200</td>\n",
       "      <td>1998-04-01</td>\n",
       "    </tr>\n",
       "    <tr>\n",
       "      <th>309496</th>\n",
       "      <td>B00122Z4Y2</td>\n",
       "      <td>A3OS0Q4XX0QSA4</td>\n",
       "      <td>893203200</td>\n",
       "      <td>1998-04-01</td>\n",
       "    </tr>\n",
       "  </tbody>\n",
       "</table>\n",
       "</div>"
      ],
      "text/plain": [
       "           user_id         item_id  timestamp       date\n",
       "39318   9714721180  A2SY49Z6H96QVR  877305600 1997-10-01\n",
       "595856  B0013D89TW  A2XT7XLQ8DD4NZ  880675200 1997-11-01\n",
       "595864  B0013D89TW  A2XT7XLQ8DD4NZ  880675200 1997-11-01\n",
       "309450  B00122Z4Y2  A3OS0Q4XX0QSA4  893203200 1998-04-01\n",
       "309496  B00122Z4Y2  A3OS0Q4XX0QSA4  893203200 1998-04-01"
      ]
     },
     "execution_count": 17,
     "metadata": {},
     "output_type": "execute_result"
    }
   ],
   "source": [
    "data.head()"
   ]
  },
  {
   "cell_type": "markdown",
   "metadata": {},
   "source": [
    "---------------------------------------------------------------------------------------------\n",
    "### Data.head() is showing different results from Klismam's..."
   ]
  },
  {
   "cell_type": "code",
   "execution_count": 18,
   "metadata": {},
   "outputs": [
    {
     "data": {
      "text/html": [
       "<div>\n",
       "<style scoped>\n",
       "    .dataframe tbody tr th:only-of-type {\n",
       "        vertical-align: middle;\n",
       "    }\n",
       "\n",
       "    .dataframe tbody tr th {\n",
       "        vertical-align: top;\n",
       "    }\n",
       "\n",
       "    .dataframe thead th {\n",
       "        text-align: right;\n",
       "    }\n",
       "</style>\n",
       "<table border=\"1\" class=\"dataframe\">\n",
       "  <thead>\n",
       "    <tr style=\"text-align: right;\">\n",
       "      <th></th>\n",
       "      <th>user_id</th>\n",
       "      <th>item_id</th>\n",
       "      <th>timestamp</th>\n",
       "      <th>date</th>\n",
       "    </tr>\n",
       "  </thead>\n",
       "  <tbody>\n",
       "    <tr>\n",
       "      <th>39318</th>\n",
       "      <td>9714721180</td>\n",
       "      <td>A2SY49Z6H96QVR</td>\n",
       "      <td>877305600</td>\n",
       "      <td>1997-10-01</td>\n",
       "    </tr>\n",
       "  </tbody>\n",
       "</table>\n",
       "</div>"
      ],
      "text/plain": [
       "          user_id         item_id  timestamp       date\n",
       "39318  9714721180  A2SY49Z6H96QVR  877305600 1997-10-01"
      ]
     },
     "execution_count": 18,
     "metadata": {},
     "output_type": "execute_result"
    }
   ],
   "source": [
    "data[data.timestamp==877305600]"
   ]
  },
  {
   "cell_type": "markdown",
   "metadata": {},
   "source": [
    "-- example ---------------------------"
   ]
  },
  {
   "cell_type": "code",
   "execution_count": 19,
   "metadata": {},
   "outputs": [],
   "source": [
    "import pytz\n",
    "from datetime import datetime"
   ]
  },
  {
   "cell_type": "code",
   "execution_count": 20,
   "metadata": {},
   "outputs": [
    {
     "data": {
      "text/plain": [
       "{'GMT'}"
      ]
     },
     "execution_count": 20,
     "metadata": {},
     "output_type": "execute_result"
    }
   ],
   "source": [
    "pytz.all_timezones_set.intersection(['GMT'])"
   ]
  },
  {
   "cell_type": "code",
   "execution_count": 21,
   "metadata": {},
   "outputs": [],
   "source": [
    "ts = 877305600"
   ]
  },
  {
   "cell_type": "code",
   "execution_count": 22,
   "metadata": {},
   "outputs": [
    {
     "data": {
      "text/plain": [
       "datetime.datetime(1997, 10, 19, 20, 0)"
      ]
     },
     "execution_count": 22,
     "metadata": {},
     "output_type": "execute_result"
    }
   ],
   "source": [
    "datetime.fromtimestamp(ts)"
   ]
  },
  {
   "cell_type": "code",
   "execution_count": 23,
   "metadata": {},
   "outputs": [
    {
     "data": {
      "text/plain": [
       "datetime.datetime(1997, 10, 20, 0, 0)"
      ]
     },
     "execution_count": 23,
     "metadata": {},
     "output_type": "execute_result"
    }
   ],
   "source": [
    "utc_dt = datetime.utcfromtimestamp(ts)\n",
    "utc_dt"
   ]
  },
  {
   "cell_type": "code",
   "execution_count": 24,
   "metadata": {},
   "outputs": [
    {
     "data": {
      "text/plain": [
       "datetime.datetime(1997, 10, 20, 0, 0, tzinfo=<StaticTzInfo 'GMT'>)"
      ]
     },
     "execution_count": 24,
     "metadata": {},
     "output_type": "execute_result"
    }
   ],
   "source": [
    "aware_utc_dt = utc_dt.replace(tzinfo=pytz.utc)\n",
    "\n",
    "tz = pytz.timezone('GMT')\n",
    "dt = aware_utc_dt.astimezone(tz)\n",
    "dt"
   ]
  },
  {
   "cell_type": "code",
   "execution_count": 25,
   "metadata": {},
   "outputs": [
    {
     "data": {
      "text/plain": [
       "datetime.datetime(1997, 10, 20, 0, 0, tzinfo=<StaticTzInfo 'GMT'>)"
      ]
     },
     "execution_count": 25,
     "metadata": {},
     "output_type": "execute_result"
    }
   ],
   "source": [
    "dt = datetime.fromtimestamp(ts, tz)\n",
    "dt"
   ]
  },
  {
   "cell_type": "markdown",
   "metadata": {},
   "source": [
    "-- end example ---------------------------"
   ]
  },
  {
   "cell_type": "code",
   "execution_count": 26,
   "metadata": {},
   "outputs": [],
   "source": [
    "data['date_utc'] = data['timestamp'].apply(lambda x: datetime.utcfromtimestamp(x) ) # convert unix timestamp to date\n",
    "data = data.sort_values(by='date_utc') # sort by date"
   ]
  },
  {
   "cell_type": "code",
   "execution_count": 27,
   "metadata": {},
   "outputs": [
    {
     "data": {
      "text/html": [
       "<div>\n",
       "<style scoped>\n",
       "    .dataframe tbody tr th:only-of-type {\n",
       "        vertical-align: middle;\n",
       "    }\n",
       "\n",
       "    .dataframe tbody tr th {\n",
       "        vertical-align: top;\n",
       "    }\n",
       "\n",
       "    .dataframe thead th {\n",
       "        text-align: right;\n",
       "    }\n",
       "</style>\n",
       "<table border=\"1\" class=\"dataframe\">\n",
       "  <thead>\n",
       "    <tr style=\"text-align: right;\">\n",
       "      <th></th>\n",
       "      <th>user_id</th>\n",
       "      <th>item_id</th>\n",
       "      <th>timestamp</th>\n",
       "      <th>date</th>\n",
       "      <th>date_utc</th>\n",
       "    </tr>\n",
       "  </thead>\n",
       "  <tbody>\n",
       "    <tr>\n",
       "      <th>39318</th>\n",
       "      <td>9714721180</td>\n",
       "      <td>A2SY49Z6H96QVR</td>\n",
       "      <td>877305600</td>\n",
       "      <td>1997-10-01</td>\n",
       "      <td>1997-10-20</td>\n",
       "    </tr>\n",
       "    <tr>\n",
       "      <th>595856</th>\n",
       "      <td>B0013D89TW</td>\n",
       "      <td>A2XT7XLQ8DD4NZ</td>\n",
       "      <td>880675200</td>\n",
       "      <td>1997-11-01</td>\n",
       "      <td>1997-11-28</td>\n",
       "    </tr>\n",
       "    <tr>\n",
       "      <th>595864</th>\n",
       "      <td>B0013D89TW</td>\n",
       "      <td>A2XT7XLQ8DD4NZ</td>\n",
       "      <td>880675200</td>\n",
       "      <td>1997-11-01</td>\n",
       "      <td>1997-11-28</td>\n",
       "    </tr>\n",
       "    <tr>\n",
       "      <th>309450</th>\n",
       "      <td>B00122Z4Y2</td>\n",
       "      <td>A3OS0Q4XX0QSA4</td>\n",
       "      <td>893203200</td>\n",
       "      <td>1998-04-01</td>\n",
       "      <td>1998-04-22</td>\n",
       "    </tr>\n",
       "    <tr>\n",
       "      <th>309496</th>\n",
       "      <td>B00122Z4Y2</td>\n",
       "      <td>A3OS0Q4XX0QSA4</td>\n",
       "      <td>893203200</td>\n",
       "      <td>1998-04-01</td>\n",
       "      <td>1998-04-22</td>\n",
       "    </tr>\n",
       "  </tbody>\n",
       "</table>\n",
       "</div>"
      ],
      "text/plain": [
       "           user_id         item_id  timestamp       date   date_utc\n",
       "39318   9714721180  A2SY49Z6H96QVR  877305600 1997-10-01 1997-10-20\n",
       "595856  B0013D89TW  A2XT7XLQ8DD4NZ  880675200 1997-11-01 1997-11-28\n",
       "595864  B0013D89TW  A2XT7XLQ8DD4NZ  880675200 1997-11-01 1997-11-28\n",
       "309450  B00122Z4Y2  A3OS0Q4XX0QSA4  893203200 1998-04-01 1998-04-22\n",
       "309496  B00122Z4Y2  A3OS0Q4XX0QSA4  893203200 1998-04-01 1998-04-22"
      ]
     },
     "execution_count": 27,
     "metadata": {},
     "output_type": "execute_result"
    }
   ],
   "source": [
    "data.head()"
   ]
  },
  {
   "cell_type": "code",
   "execution_count": 28,
   "metadata": {},
   "outputs": [
    {
     "data": {
      "text/html": [
       "<div>\n",
       "<style scoped>\n",
       "    .dataframe tbody tr th:only-of-type {\n",
       "        vertical-align: middle;\n",
       "    }\n",
       "\n",
       "    .dataframe tbody tr th {\n",
       "        vertical-align: top;\n",
       "    }\n",
       "\n",
       "    .dataframe thead th {\n",
       "        text-align: right;\n",
       "    }\n",
       "</style>\n",
       "<table border=\"1\" class=\"dataframe\">\n",
       "  <thead>\n",
       "    <tr style=\"text-align: right;\">\n",
       "      <th></th>\n",
       "      <th>user_id</th>\n",
       "      <th>item_id</th>\n",
       "      <th>timestamp</th>\n",
       "      <th>date</th>\n",
       "      <th>date_utc</th>\n",
       "    </tr>\n",
       "  </thead>\n",
       "  <tbody>\n",
       "    <tr>\n",
       "      <th>540983</th>\n",
       "      <td>B01H2N2XOI</td>\n",
       "      <td>AGITP40WOIGIM</td>\n",
       "      <td>1538179200</td>\n",
       "      <td>2018-09-01</td>\n",
       "      <td>2018-09-29</td>\n",
       "    </tr>\n",
       "    <tr>\n",
       "      <th>877104</th>\n",
       "      <td>B01G7OH4KG</td>\n",
       "      <td>A1UACDAXDOWB2H</td>\n",
       "      <td>1538265600</td>\n",
       "      <td>2018-09-01</td>\n",
       "      <td>2018-09-30</td>\n",
       "    </tr>\n",
       "    <tr>\n",
       "      <th>267893</th>\n",
       "      <td>B01GPDFR26</td>\n",
       "      <td>A312L5Z8SW61FR</td>\n",
       "      <td>1538265600</td>\n",
       "      <td>2018-09-01</td>\n",
       "      <td>2018-09-30</td>\n",
       "    </tr>\n",
       "    <tr>\n",
       "      <th>262810</th>\n",
       "      <td>B01G4DH4AU</td>\n",
       "      <td>A7O6RHCU9RZ8L</td>\n",
       "      <td>1538352000</td>\n",
       "      <td>2018-09-01</td>\n",
       "      <td>2018-10-01</td>\n",
       "    </tr>\n",
       "    <tr>\n",
       "      <th>231454</th>\n",
       "      <td>B01H7XADLS</td>\n",
       "      <td>A1X087SYY8ZFGC</td>\n",
       "      <td>1538438400</td>\n",
       "      <td>2018-10-01</td>\n",
       "      <td>2018-10-02</td>\n",
       "    </tr>\n",
       "  </tbody>\n",
       "</table>\n",
       "</div>"
      ],
      "text/plain": [
       "           user_id         item_id   timestamp       date   date_utc\n",
       "540983  B01H2N2XOI   AGITP40WOIGIM  1538179200 2018-09-01 2018-09-29\n",
       "877104  B01G7OH4KG  A1UACDAXDOWB2H  1538265600 2018-09-01 2018-09-30\n",
       "267893  B01GPDFR26  A312L5Z8SW61FR  1538265600 2018-09-01 2018-09-30\n",
       "262810  B01G4DH4AU   A7O6RHCU9RZ8L  1538352000 2018-09-01 2018-10-01\n",
       "231454  B01H7XADLS  A1X087SYY8ZFGC  1538438400 2018-10-01 2018-10-02"
      ]
     },
     "execution_count": 28,
     "metadata": {},
     "output_type": "execute_result"
    }
   ],
   "source": [
    "data.tail()"
   ]
  },
  {
   "cell_type": "markdown",
   "metadata": {},
   "source": [
    "\".fromtimestamp() might fail for past dates if a local timezone had different utc offset. You need a historic timezone database such as provided by pytz module (or your OS). Or just work in UTC and use .utcfromtimestamp()\" - (https://stackoverflow.com/questions/3682748/converting-unix-timestamp-string-to-readable-date)"
   ]
  },
  {
   "cell_type": "code",
   "execution_count": 29,
   "metadata": {},
   "outputs": [
    {
     "data": {
      "text/html": [
       "<div>\n",
       "<style scoped>\n",
       "    .dataframe tbody tr th:only-of-type {\n",
       "        vertical-align: middle;\n",
       "    }\n",
       "\n",
       "    .dataframe tbody tr th {\n",
       "        vertical-align: top;\n",
       "    }\n",
       "\n",
       "    .dataframe thead th {\n",
       "        text-align: right;\n",
       "    }\n",
       "</style>\n",
       "<table border=\"1\" class=\"dataframe\">\n",
       "  <thead>\n",
       "    <tr style=\"text-align: right;\">\n",
       "      <th></th>\n",
       "      <th>user_id</th>\n",
       "      <th>item_id</th>\n",
       "      <th>timestamp</th>\n",
       "      <th>date</th>\n",
       "    </tr>\n",
       "  </thead>\n",
       "  <tbody>\n",
       "    <tr>\n",
       "      <th>39318</th>\n",
       "      <td>9714721180</td>\n",
       "      <td>A2SY49Z6H96QVR</td>\n",
       "      <td>877305600</td>\n",
       "      <td>1997-10-20</td>\n",
       "    </tr>\n",
       "    <tr>\n",
       "      <th>595856</th>\n",
       "      <td>B0013D89TW</td>\n",
       "      <td>A2XT7XLQ8DD4NZ</td>\n",
       "      <td>880675200</td>\n",
       "      <td>1997-11-28</td>\n",
       "    </tr>\n",
       "    <tr>\n",
       "      <th>595864</th>\n",
       "      <td>B0013D89TW</td>\n",
       "      <td>A2XT7XLQ8DD4NZ</td>\n",
       "      <td>880675200</td>\n",
       "      <td>1997-11-28</td>\n",
       "    </tr>\n",
       "    <tr>\n",
       "      <th>309450</th>\n",
       "      <td>B00122Z4Y2</td>\n",
       "      <td>A3OS0Q4XX0QSA4</td>\n",
       "      <td>893203200</td>\n",
       "      <td>1998-04-22</td>\n",
       "    </tr>\n",
       "    <tr>\n",
       "      <th>309496</th>\n",
       "      <td>B00122Z4Y2</td>\n",
       "      <td>A3OS0Q4XX0QSA4</td>\n",
       "      <td>893203200</td>\n",
       "      <td>1998-04-22</td>\n",
       "    </tr>\n",
       "  </tbody>\n",
       "</table>\n",
       "</div>"
      ],
      "text/plain": [
       "           user_id         item_id  timestamp       date\n",
       "39318   9714721180  A2SY49Z6H96QVR  877305600 1997-10-20\n",
       "595856  B0013D89TW  A2XT7XLQ8DD4NZ  880675200 1997-11-28\n",
       "595864  B0013D89TW  A2XT7XLQ8DD4NZ  880675200 1997-11-28\n",
       "309450  B00122Z4Y2  A3OS0Q4XX0QSA4  893203200 1998-04-22\n",
       "309496  B00122Z4Y2  A3OS0Q4XX0QSA4  893203200 1998-04-22"
      ]
     },
     "execution_count": 29,
     "metadata": {},
     "output_type": "execute_result"
    }
   ],
   "source": [
    "data = data.drop(columns=['date', 'date_utc'])\n",
    "data['date'] = data['timestamp'].apply(lambda x: datetime.utcfromtimestamp(x) ) # convert unix timestamp to date\n",
    "data = data.sort_values(by='date') # sort by date\n",
    "data.head()"
   ]
  },
  {
   "cell_type": "code",
   "execution_count": 30,
   "metadata": {},
   "outputs": [
    {
     "name": "stdout",
     "output_type": "stream",
     "text": [
      "CPU times: total: 8.23 s\n",
      "Wall time: 11.9 s\n"
     ]
    }
   ],
   "source": [
    "%%time\n",
    "# keep year-month\n",
    "data['date'] = data['date'].apply(lambda x: datetime.strptime( str(x.year)+'-'+str(x.month), '%Y-%m' ))"
   ]
  },
  {
   "cell_type": "code",
   "execution_count": 31,
   "metadata": {},
   "outputs": [
    {
     "data": {
      "text/html": [
       "<div>\n",
       "<style scoped>\n",
       "    .dataframe tbody tr th:only-of-type {\n",
       "        vertical-align: middle;\n",
       "    }\n",
       "\n",
       "    .dataframe tbody tr th {\n",
       "        vertical-align: top;\n",
       "    }\n",
       "\n",
       "    .dataframe thead th {\n",
       "        text-align: right;\n",
       "    }\n",
       "</style>\n",
       "<table border=\"1\" class=\"dataframe\">\n",
       "  <thead>\n",
       "    <tr style=\"text-align: right;\">\n",
       "      <th></th>\n",
       "      <th>user_id</th>\n",
       "      <th>item_id</th>\n",
       "      <th>timestamp</th>\n",
       "      <th>date</th>\n",
       "    </tr>\n",
       "  </thead>\n",
       "  <tbody>\n",
       "    <tr>\n",
       "      <th>39318</th>\n",
       "      <td>9714721180</td>\n",
       "      <td>A2SY49Z6H96QVR</td>\n",
       "      <td>877305600</td>\n",
       "      <td>1997-10-01</td>\n",
       "    </tr>\n",
       "    <tr>\n",
       "      <th>595856</th>\n",
       "      <td>B0013D89TW</td>\n",
       "      <td>A2XT7XLQ8DD4NZ</td>\n",
       "      <td>880675200</td>\n",
       "      <td>1997-11-01</td>\n",
       "    </tr>\n",
       "    <tr>\n",
       "      <th>595864</th>\n",
       "      <td>B0013D89TW</td>\n",
       "      <td>A2XT7XLQ8DD4NZ</td>\n",
       "      <td>880675200</td>\n",
       "      <td>1997-11-01</td>\n",
       "    </tr>\n",
       "    <tr>\n",
       "      <th>309450</th>\n",
       "      <td>B00122Z4Y2</td>\n",
       "      <td>A3OS0Q4XX0QSA4</td>\n",
       "      <td>893203200</td>\n",
       "      <td>1998-04-01</td>\n",
       "    </tr>\n",
       "    <tr>\n",
       "      <th>309496</th>\n",
       "      <td>B00122Z4Y2</td>\n",
       "      <td>A3OS0Q4XX0QSA4</td>\n",
       "      <td>893203200</td>\n",
       "      <td>1998-04-01</td>\n",
       "    </tr>\n",
       "  </tbody>\n",
       "</table>\n",
       "</div>"
      ],
      "text/plain": [
       "           user_id         item_id  timestamp       date\n",
       "39318   9714721180  A2SY49Z6H96QVR  877305600 1997-10-01\n",
       "595856  B0013D89TW  A2XT7XLQ8DD4NZ  880675200 1997-11-01\n",
       "595864  B0013D89TW  A2XT7XLQ8DD4NZ  880675200 1997-11-01\n",
       "309450  B00122Z4Y2  A3OS0Q4XX0QSA4  893203200 1998-04-01\n",
       "309496  B00122Z4Y2  A3OS0Q4XX0QSA4  893203200 1998-04-01"
      ]
     },
     "execution_count": 31,
     "metadata": {},
     "output_type": "execute_result"
    }
   ],
   "source": [
    "data.head()"
   ]
  },
  {
   "cell_type": "markdown",
   "metadata": {},
   "source": [
    "### now it's SOLVED.\n",
    "because of the drop of date, it seems that the utc problem was not an issue, but now it's certain."
   ]
  },
  {
   "cell_type": "markdown",
   "metadata": {},
   "source": [
    "\n",
    "---------------------------------------------------------------------------------------------"
   ]
  },
  {
   "cell_type": "markdown",
   "metadata": {},
   "source": [
    "## Evaluating Time defined Buckets "
   ]
  },
  {
   "cell_type": "code",
   "execution_count": 32,
   "metadata": {},
   "outputs": [
    {
     "name": "stdout",
     "output_type": "stream",
     "text": [
      "CPU times: total: 109 ms\n",
      "Wall time: 239 ms\n"
     ]
    }
   ],
   "source": [
    "%%time\n",
    "interactions_per_month = data.groupby(by=['date']).count().iloc[:, 0]\n",
    "interactions_per_month.name = 'count'\n",
    "interactions_per_month=interactions_per_month.reset_index()"
   ]
  },
  {
   "cell_type": "code",
   "execution_count": 33,
   "metadata": {},
   "outputs": [
    {
     "data": {
      "image/png": "[encoded data removed]",
      "text/plain": [
       "<Figure size 640x480 with 1 Axes>"
      ]
     },
     "metadata": {},
     "output_type": "display_data"
    }
   ],
   "source": [
    "_ = interactions_per_month.copy()\n",
    "_['date'] = _['date'].dt.year\n",
    "_.groupby('date').sum().plot(kind='bar');"
   ]
  },
  {
   "cell_type": "code",
   "execution_count": 34,
   "metadata": {},
   "outputs": [],
   "source": [
    "y_filter = (data['date'] < datetime.strptime('2014-04', '%Y-%m')) & (datetime.strptime('2014', '%Y') <= data['date']) \n",
    "# y_filter = (data['date'] < datetime.strptime('2015', '%Y')) & (datetime.strptime('2014', '%Y') <= data['date']) "
   ]
  },
  {
   "cell_type": "code",
   "execution_count": 35,
   "metadata": {},
   "outputs": [],
   "source": [
    "data = data[y_filter]"
   ]
  },
  {
   "cell_type": "code",
   "execution_count": 36,
   "metadata": {},
   "outputs": [
    {
     "data": {
      "text/plain": [
       "33630"
      ]
     },
     "execution_count": 36,
     "metadata": {},
     "output_type": "execute_result"
    }
   ],
   "source": [
    "# number of remaining cases\n",
    "data.shape[0]"
   ]
  },
  {
   "cell_type": "markdown",
   "metadata": {},
   "source": [
    "Sampling the dataset - only most frequent users (overall)"
   ]
  },
  {
   "cell_type": "code",
   "execution_count": 37,
   "metadata": {},
   "outputs": [
    {
     "data": {
      "text/plain": [
       "user_id\n",
       "0001377647    2\n",
       "0001388703    1\n",
       "0001526146    1\n",
       "0001527134    2\n",
       "0006882919    1\n",
       "             ..\n",
       "B01E8ZF3D6    3\n",
       "B01E9SVVHE    2\n",
       "B01EE9N52C    1\n",
       "B01FLMZ50G    1\n",
       "B01HC8FQME    2\n",
       "Name: date, Length: 13321, dtype: int64"
      ]
     },
     "execution_count": 37,
     "metadata": {},
     "output_type": "execute_result"
    }
   ],
   "source": [
    "data.groupby(by=['user_id'])['date'].nunique()"
   ]
  },
  {
   "cell_type": "code",
   "execution_count": 38,
   "metadata": {},
   "outputs": [
    {
     "name": "stdout",
     "output_type": "stream",
     "text": [
      "CPU times: total: 15.6 ms\n",
      "Wall time: 24.3 ms\n"
     ]
    }
   ],
   "source": [
    "%%time\n",
    "# ( data[:1000000].groupby(by=['user_id'])['date'].nunique() > 1 ).sum()\n",
    "user_freq_over_months = data.groupby(by=['user_id'])['date'].nunique()"
   ]
  },
  {
   "cell_type": "code",
   "execution_count": 39,
   "metadata": {},
   "outputs": [
    {
     "data": {
      "image/png": "[encoded data removed]",
      "text/plain": [
       "<Figure size 640x480 with 1 Axes>"
      ]
     },
     "metadata": {},
     "output_type": "display_data"
    }
   ],
   "source": [
    "user_freq_over_months.plot(kind='hist',bins=user_freq_over_months.max());"
   ]
  },
  {
   "cell_type": "code",
   "execution_count": 40,
   "metadata": {},
   "outputs": [],
   "source": [
    "_ = data.set_index('user_id').copy()"
   ]
  },
  {
   "cell_type": "code",
   "execution_count": 41,
   "metadata": {},
   "outputs": [
    {
     "data": {
      "image/png": "[encoded data removed]",
      "text/plain": [
       "<Figure size 640x480 with 1 Axes>"
      ]
     },
     "metadata": {},
     "output_type": "display_data"
    }
   ],
   "source": [
    "# frequency of users that occur every month:\n",
    "_.reset_index()['user_id'].value_counts().plot(kind='box');"
   ]
  },
  {
   "cell_type": "code",
   "execution_count": 42,
   "metadata": {},
   "outputs": [
    {
     "data": {
      "text/plain": [
       "B00CZF8B68    916\n",
       "B00GLP4DMO    315\n",
       "B00GG3OYMK    147\n",
       "B0092MKTL2    133\n",
       "B00IKS2BHY    127\n",
       "             ... \n",
       "B003XBBLI8      1\n",
       "B000TDYIZG      1\n",
       "B005EVT8R6      1\n",
       "B000W272EI      1\n",
       "B00HETOR7C      1\n",
       "Name: user_id, Length: 13321, dtype: int64"
      ]
     },
     "execution_count": 42,
     "metadata": {},
     "output_type": "execute_result"
    }
   ],
   "source": [
    "data['user_id'].value_counts()"
   ]
  },
  {
   "cell_type": "code",
   "execution_count": 43,
   "metadata": {},
   "outputs": [
    {
     "data": {
      "text/plain": [
       "['B00CZF8B68', 'B00GLP4DMO', 'B00GG3OYMK', 'B0092MKTL2', 'B00IKS2BHY']"
      ]
     },
     "execution_count": 43,
     "metadata": {},
     "output_type": "execute_result"
    }
   ],
   "source": [
    "data['user_id'].value_counts().reset_index()['index'].to_list()[:5]"
   ]
  },
  {
   "cell_type": "code",
   "execution_count": 44,
   "metadata": {},
   "outputs": [],
   "source": [
    "u = data['user_id'].value_counts().reset_index()['index'].to_list()"
   ]
  },
  {
   "cell_type": "code",
   "execution_count": 45,
   "metadata": {},
   "outputs": [
    {
     "data": {
      "text/plain": [
       "33630"
      ]
     },
     "execution_count": 45,
     "metadata": {},
     "output_type": "execute_result"
    }
   ],
   "source": [
    "data['user_id'].shape[0]"
   ]
  },
  {
   "cell_type": "code",
   "execution_count": 46,
   "metadata": {},
   "outputs": [],
   "source": [
    "# to user, or not to use p ?\n",
    "p = (data['user_id'].value_counts()/data['user_id'].shape[0])"
   ]
  },
  {
   "cell_type": "code",
   "execution_count": 47,
   "metadata": {},
   "outputs": [],
   "source": [
    "prop = 0.75\n",
    "s = round( len( u )*prop )"
   ]
  },
  {
   "cell_type": "code",
   "execution_count": 48,
   "metadata": {},
   "outputs": [],
   "source": [
    "np.random.seed(42)\n",
    "sampled_users = list( np.random.choice(u, size=s, replace=False, p=p) ) # , p=p"
   ]
  },
  {
   "cell_type": "code",
   "execution_count": 49,
   "metadata": {},
   "outputs": [
    {
     "data": {
      "text/plain": [
       "(29781, 3)"
      ]
     },
     "execution_count": 49,
     "metadata": {},
     "output_type": "execute_result"
    }
   ],
   "source": [
    "_.loc[sampled_users].shape"
   ]
  },
  {
   "cell_type": "code",
   "execution_count": 50,
   "metadata": {},
   "outputs": [
    {
     "data": {
      "text/plain": [
       "21663"
      ]
     },
     "execution_count": 50,
     "metadata": {},
     "output_type": "execute_result"
    }
   ],
   "source": [
    "_.loc[sampled_users]['item_id'].nunique()"
   ]
  },
  {
   "cell_type": "code",
   "execution_count": 51,
   "metadata": {},
   "outputs": [
    {
     "data": {
      "image/png": "[encoded data removed]",
      "text/plain": [
       "<Figure size 640x480 with 1 Axes>"
      ]
     },
     "metadata": {},
     "output_type": "display_data"
    }
   ],
   "source": [
    "# frequency of users:\n",
    "_.loc[sampled_users].reset_index()['user_id'].value_counts().plot(kind='box');"
   ]
  },
  {
   "cell_type": "code",
   "execution_count": 52,
   "metadata": {},
   "outputs": [
    {
     "name": "stdout",
     "output_type": "stream",
     "text": [
      "CPU times: total: 62.5 ms\n",
      "Wall time: 127 ms\n"
     ]
    },
    {
     "data": {
      "text/plain": [
       "<Axes: ylabel='Frequency'>"
      ]
     },
     "execution_count": 52,
     "metadata": {},
     "output_type": "execute_result"
    },
    {
     "data": {
      "image/png": "[encoded data removed]",
      "text/plain": [
       "<Figure size 640x480 with 1 Axes>"
      ]
     },
     "metadata": {},
     "output_type": "display_data"
    }
   ],
   "source": [
    "%%time\n",
    "# ( data[:1000000].groupby(by=['user_id'])['date'].nunique() > 1 ).sum()\n",
    "user_freq_over_months_sample = _.loc[sampled_users].reset_index().groupby(by=['user_id'])['date'].nunique()\n",
    "user_freq_over_months_sample.plot(kind='hist',bins=user_freq_over_months_sample.max());"
   ]
  },
  {
   "cell_type": "code",
   "execution_count": 53,
   "metadata": {},
   "outputs": [
    {
     "data": {
      "text/plain": [
       "(13321, 24165)"
      ]
     },
     "execution_count": 53,
     "metadata": {},
     "output_type": "execute_result"
    }
   ],
   "source": [
    "data['user_id'].nunique(), data['item_id'].nunique() # original number of users, original number of items"
   ]
  },
  {
   "cell_type": "code",
   "execution_count": 54,
   "metadata": {},
   "outputs": [
    {
     "data": {
      "text/plain": [
       "(9991, 21663)"
      ]
     },
     "execution_count": 54,
     "metadata": {},
     "output_type": "execute_result"
    }
   ],
   "source": [
    "# _.loc[freq_users].reset_index()['user_id'].nunique(), _.loc[freq_users].reset_index()['item_id'].nunique() # sample number of users, and of items\n",
    "_.loc[sampled_users].reset_index()['user_id'].nunique(), _.loc[sampled_users].reset_index()['item_id'].nunique() # sample number of users, and of items"
   ]
  },
  {
   "cell_type": "code",
   "execution_count": 55,
   "metadata": {},
   "outputs": [
    {
     "data": {
      "image/png": "[encoded data removed]",
      "text/plain": [
       "<Figure size 600x1000 with 1 Axes>"
      ]
     },
     "metadata": {},
     "output_type": "display_data"
    }
   ],
   "source": [
    "# %%time\n",
    "# plot_interactions_per_month(data=_.loc[freq_users].reset_index(), dataset_name=dataset_name)\n",
    "plot_interactions_per_month(data=_.loc[sampled_users].reset_index(), dataset_name=dataset_name)"
   ]
  },
  {
   "cell_type": "code",
   "execution_count": 56,
   "metadata": {},
   "outputs": [
    {
     "name": "stdout",
     "output_type": "stream",
     "text": [
      "29781\n"
     ]
    }
   ],
   "source": [
    "USE_THRESHOLD = True\n",
    "# all users 0.002736\n",
    "# USING prop = 0.75 increased performance by a bit in the first month, 0.004292 (0.002878) ?\n",
    "# USING prop = 0.5 reduced performance in the first month  \t0.001647\n",
    "# USING prop = 0.25 reduced performance in the first month 0.002574\n",
    "\n",
    "if USE_THRESHOLD: \n",
    "    data = _.loc[sampled_users].reset_index()\n",
    "    data = data.sort_values(by=['timestamp', 'user_id', 'item_id'])\n",
    "    print(data.shape[0])\n",
    "else:\n",
    "    print(data.shape[0])\n",
    "# new sample\n",
    "data.to_csv('output/amazon_digmusic_dump/sampled_amazon_digmusic.csv', index=False)"
   ]
  },
  {
   "cell_type": "markdown",
   "metadata": {},
   "source": [
    "How many interactions occur in each month / year?"
   ]
  },
  {
   "cell_type": "code",
   "execution_count": 57,
   "metadata": {},
   "outputs": [],
   "source": [
    "interactions_per_month = data.groupby(by=['date']).count().iloc[:, 0]\n",
    "interactions_per_month.name = 'count'\n",
    "interactions_per_month=interactions_per_month.reset_index()"
   ]
  },
  {
   "cell_type": "code",
   "execution_count": 58,
   "metadata": {},
   "outputs": [
    {
     "name": "stdout",
     "output_type": "stream",
     "text": [
      "CPU times: total: 109 ms\n",
      "Wall time: 159 ms\n"
     ]
    },
    {
     "data": {
      "image/png": "[encoded data removed]",
      "text/plain": [
       "<Figure size 600x1000 with 1 Axes>"
      ]
     },
     "metadata": {},
     "output_type": "display_data"
    }
   ],
   "source": [
    "%%time\n",
    "plot_interactions_per_month(data=data, dataset_name=dataset_name)"
   ]
  },
  {
   "cell_type": "markdown",
   "metadata": {},
   "source": [
    "What is the user presence distribution based on month, quarter, and semester?"
   ]
  },
  {
   "cell_type": "code",
   "execution_count": 60,
   "metadata": {},
   "outputs": [
    {
     "name": "stdout",
     "output_type": "stream",
     "text": [
      "0.0 %\n",
      "CPU times: total: 31.7 s\n",
      "Wall time: 39.9 s\n"
     ]
    }
   ],
   "source": [
    "%%time\n",
    "# 3min 16s\n",
    "user_presence_df, user_month_interactions = get_interactions_info(data=data, user_col=user_col)\n",
    "\n",
    "# new sample\n",
    "user_presence_df.to_csv('output/amazon_digmusic_dump/sample_user_presence_df.csv', index=False)\n",
    "user_month_interactions.to_csv('output/amazon_digmusic_dump/sample_user_month_interactions.csv', index=False)"
   ]
  },
  {
   "cell_type": "code",
   "execution_count": 67,
   "metadata": {},
   "outputs": [
    {
     "data": {
      "text/html": [
       "<div>\n",
       "<style scoped>\n",
       "    .dataframe tbody tr th:only-of-type {\n",
       "        vertical-align: middle;\n",
       "    }\n",
       "\n",
       "    .dataframe tbody tr th {\n",
       "        vertical-align: top;\n",
       "    }\n",
       "\n",
       "    .dataframe thead th {\n",
       "        text-align: right;\n",
       "    }\n",
       "</style>\n",
       "<table border=\"1\" class=\"dataframe\">\n",
       "  <thead>\n",
       "    <tr style=\"text-align: right;\">\n",
       "      <th></th>\n",
       "      <th>UserID</th>\n",
       "      <th>month_%</th>\n",
       "    </tr>\n",
       "  </thead>\n",
       "  <tbody>\n",
       "    <tr>\n",
       "      <th>0</th>\n",
       "      <td>B00EHF64Y0</td>\n",
       "      <td>1.0</td>\n",
       "    </tr>\n",
       "    <tr>\n",
       "      <th>1</th>\n",
       "      <td>B0012288VS</td>\n",
       "      <td>1.0</td>\n",
       "    </tr>\n",
       "    <tr>\n",
       "      <th>2</th>\n",
       "      <td>B000TEL0BK</td>\n",
       "      <td>1.0</td>\n",
       "    </tr>\n",
       "    <tr>\n",
       "      <th>3</th>\n",
       "      <td>B00137QS28</td>\n",
       "      <td>1.0</td>\n",
       "    </tr>\n",
       "    <tr>\n",
       "      <th>4</th>\n",
       "      <td>B00H4IVMDA</td>\n",
       "      <td>1.0</td>\n",
       "    </tr>\n",
       "  </tbody>\n",
       "</table>\n",
       "</div>"
      ],
      "text/plain": [
       "       UserID  month_%\n",
       "0  B00EHF64Y0      1.0\n",
       "1  B0012288VS      1.0\n",
       "2  B000TEL0BK      1.0\n",
       "3  B00137QS28      1.0\n",
       "4  B00H4IVMDA      1.0"
      ]
     },
     "execution_count": 67,
     "metadata": {},
     "output_type": "execute_result"
    }
   ],
   "source": [
    "user_presence_df.head()"
   ]
  },
  {
   "cell_type": "code",
   "execution_count": 68,
   "metadata": {},
   "outputs": [
    {
     "data": {
      "text/html": [
       "<div>\n",
       "<style scoped>\n",
       "    .dataframe tbody tr th:only-of-type {\n",
       "        vertical-align: middle;\n",
       "    }\n",
       "\n",
       "    .dataframe tbody tr th {\n",
       "        vertical-align: top;\n",
       "    }\n",
       "\n",
       "    .dataframe thead th {\n",
       "        text-align: right;\n",
       "    }\n",
       "</style>\n",
       "<table border=\"1\" class=\"dataframe\">\n",
       "  <thead>\n",
       "    <tr style=\"text-align: right;\">\n",
       "      <th></th>\n",
       "      <th>UserID</th>\n",
       "      <th>month_%</th>\n",
       "    </tr>\n",
       "  </thead>\n",
       "  <tbody>\n",
       "    <tr>\n",
       "      <th>690</th>\n",
       "      <td>B00HRN0BZ2</td>\n",
       "      <td>1.0</td>\n",
       "    </tr>\n",
       "  </tbody>\n",
       "</table>\n",
       "</div>"
      ],
      "text/plain": [
       "         UserID  month_%\n",
       "690  B00HRN0BZ2      1.0"
      ]
     },
     "execution_count": 68,
     "metadata": {},
     "output_type": "execute_result"
    }
   ],
   "source": [
    "user_presence_df[user_presence_df.UserID=='B00HRN0BZ2']"
   ]
  },
  {
   "cell_type": "code",
   "execution_count": 63,
   "metadata": {},
   "outputs": [
    {
     "ename": "AttributeError",
     "evalue": "'Axes' object has no attribute 'is_first_col'",
     "output_type": "error",
     "traceback": [
      "\u001b[1;31m---------------------------------------------------------------------------\u001b[0m",
      "\u001b[1;31mAttributeError\u001b[0m                            Traceback (most recent call last)",
      "Cell \u001b[1;32mIn [63], line 2\u001b[0m\n\u001b[0;32m      1\u001b[0m \u001b[38;5;66;03m# plotting user frequency distribution\u001b[39;00m\n\u001b[1;32m----> 2\u001b[0m \u001b[43mplot_user_presence_distribution\u001b[49m\u001b[43m(\u001b[49m\u001b[43muser_presence_df\u001b[49m\u001b[43m,\u001b[49m\u001b[43m \u001b[49m\u001b[43mdataset_name\u001b[49m\u001b[38;5;241;43m=\u001b[39;49m\u001b[43mdataset_name\u001b[49m\u001b[43m)\u001b[49m\n",
      "File \u001b[1;32mc:\\Users\\mjlav\\Desktop\\work\\european_comission\\measuring_forgetting\\notebooks/..\\dataset_evaluation_utils\\dataset_evaluation_utils.py:147\u001b[0m, in \u001b[0;36mplot_user_presence_distribution\u001b[1;34m(user_presence_df, dataset_name)\u001b[0m\n\u001b[0;32m    141\u001b[0m \u001b[38;5;124;03m'''\u001b[39;00m\n\u001b[0;32m    142\u001b[0m \u001b[38;5;124;03mPlots presence distribution for month, quarter, and semester from user_presence_df.\u001b[39;00m\n\u001b[0;32m    143\u001b[0m \u001b[38;5;124;03muser_presence_df is the output of the function 'get_interactions_info'\u001b[39;00m\n\u001b[0;32m    144\u001b[0m \u001b[38;5;124;03mdataset_name: used to store the image in the folder images. path: 'images/user_bucket_analysis/{dataset_name}_user_presence_distribution.png'\u001b[39;00m\n\u001b[0;32m    145\u001b[0m \u001b[38;5;124;03m'''\u001b[39;00m\n\u001b[0;32m    146\u001b[0m fig, ax \u001b[38;5;241m=\u001b[39m plt\u001b[38;5;241m.\u001b[39msubplots(\u001b[38;5;241m1\u001b[39m,\u001b[38;5;241m3\u001b[39m, figsize\u001b[38;5;241m=\u001b[39m(\u001b[38;5;241m17\u001b[39m,\u001b[38;5;241m4\u001b[39m))\n\u001b[1;32m--> 147\u001b[0m \u001b[43muser_presence_df\u001b[49m\u001b[43m[\u001b[49m\u001b[38;5;124;43m'\u001b[39;49m\u001b[38;5;124;43mmonth_\u001b[39;49m\u001b[38;5;124;43m%\u001b[39;49m\u001b[38;5;124;43m'\u001b[39;49m\u001b[43m]\u001b[49m\u001b[38;5;241;43m.\u001b[39;49m\u001b[43mplot\u001b[49m\u001b[43m(\u001b[49m\u001b[43mkind\u001b[49m\u001b[38;5;241;43m=\u001b[39;49m\u001b[38;5;124;43m'\u001b[39;49m\u001b[38;5;124;43mhist\u001b[39;49m\u001b[38;5;124;43m'\u001b[39;49m\u001b[43m,\u001b[49m\u001b[43m \u001b[49m\u001b[43max\u001b[49m\u001b[38;5;241;43m=\u001b[39;49m\u001b[43max\u001b[49m\u001b[43m[\u001b[49m\u001b[38;5;241;43m0\u001b[39;49m\u001b[43m]\u001b[49m\u001b[43m,\u001b[49m\u001b[43m \u001b[49m\u001b[43mtitle\u001b[49m\u001b[38;5;241;43m=\u001b[39;49m\u001b[38;5;124;43m'\u001b[39;49m\u001b[38;5;124;43muser month presence\u001b[39;49m\u001b[38;5;124;43m'\u001b[39;49m\u001b[43m)\u001b[49m\n\u001b[0;32m    148\u001b[0m \u001b[38;5;28;01mif\u001b[39;00m \u001b[38;5;124m'\u001b[39m\u001b[38;5;124mtrimestre_\u001b[39m\u001b[38;5;124m%\u001b[39m\u001b[38;5;124m'\u001b[39m \u001b[38;5;129;01min\u001b[39;00m user_presence_df\u001b[38;5;241m.\u001b[39mcolumns:\n\u001b[0;32m    149\u001b[0m     user_presence_df[\u001b[38;5;124m'\u001b[39m\u001b[38;5;124mtrimestre_\u001b[39m\u001b[38;5;124m%\u001b[39m\u001b[38;5;124m'\u001b[39m]\u001b[38;5;241m.\u001b[39mplot(kind\u001b[38;5;241m=\u001b[39m\u001b[38;5;124m'\u001b[39m\u001b[38;5;124mhist\u001b[39m\u001b[38;5;124m'\u001b[39m, ax\u001b[38;5;241m=\u001b[39max[\u001b[38;5;241m1\u001b[39m], title\u001b[38;5;241m=\u001b[39m\u001b[38;5;124m'\u001b[39m\u001b[38;5;124muser quarter presence\u001b[39m\u001b[38;5;124m'\u001b[39m)    \n",
      "File \u001b[1;32mc:\\Users\\mjlav\\anaconda3\\envs\\m_f_1st\\lib\\site-packages\\pandas\\plotting\\_core.py:949\u001b[0m, in \u001b[0;36mPlotAccessor.__call__\u001b[1;34m(self, *args, **kwargs)\u001b[0m\n\u001b[0;32m    946\u001b[0m             label_name \u001b[38;5;241m=\u001b[39m label_kw \u001b[38;5;129;01mor\u001b[39;00m data\u001b[38;5;241m.\u001b[39mcolumns\n\u001b[0;32m    947\u001b[0m             data\u001b[38;5;241m.\u001b[39mcolumns \u001b[38;5;241m=\u001b[39m label_name\n\u001b[1;32m--> 949\u001b[0m \u001b[38;5;28;01mreturn\u001b[39;00m plot_backend\u001b[38;5;241m.\u001b[39mplot(data, kind\u001b[38;5;241m=\u001b[39mkind, \u001b[38;5;241m*\u001b[39m\u001b[38;5;241m*\u001b[39mkwargs)\n",
      "File \u001b[1;32mc:\\Users\\mjlav\\anaconda3\\envs\\m_f_1st\\lib\\site-packages\\pandas\\plotting\\_matplotlib\\__init__.py:61\u001b[0m, in \u001b[0;36mplot\u001b[1;34m(data, kind, **kwargs)\u001b[0m\n\u001b[0;32m     59\u001b[0m         kwargs[\u001b[38;5;124m\"\u001b[39m\u001b[38;5;124max\u001b[39m\u001b[38;5;124m\"\u001b[39m] \u001b[38;5;241m=\u001b[39m \u001b[38;5;28mgetattr\u001b[39m(ax, \u001b[38;5;124m\"\u001b[39m\u001b[38;5;124mleft_ax\u001b[39m\u001b[38;5;124m\"\u001b[39m, ax)\n\u001b[0;32m     60\u001b[0m plot_obj \u001b[38;5;241m=\u001b[39m PLOT_CLASSES[kind](data, \u001b[38;5;241m*\u001b[39m\u001b[38;5;241m*\u001b[39mkwargs)\n\u001b[1;32m---> 61\u001b[0m \u001b[43mplot_obj\u001b[49m\u001b[38;5;241;43m.\u001b[39;49m\u001b[43mgenerate\u001b[49m\u001b[43m(\u001b[49m\u001b[43m)\u001b[49m\n\u001b[0;32m     62\u001b[0m plot_obj\u001b[38;5;241m.\u001b[39mdraw()\n\u001b[0;32m     63\u001b[0m \u001b[38;5;28;01mreturn\u001b[39;00m plot_obj\u001b[38;5;241m.\u001b[39mresult\n",
      "File \u001b[1;32mc:\\Users\\mjlav\\anaconda3\\envs\\m_f_1st\\lib\\site-packages\\pandas\\plotting\\_matplotlib\\core.py:274\u001b[0m, in \u001b[0;36mMPLPlot.generate\u001b[1;34m(self)\u001b[0m\n\u001b[0;32m    272\u001b[0m \u001b[38;5;28mself\u001b[39m\u001b[38;5;241m.\u001b[39m_add_table()\n\u001b[0;32m    273\u001b[0m \u001b[38;5;28mself\u001b[39m\u001b[38;5;241m.\u001b[39m_make_legend()\n\u001b[1;32m--> 274\u001b[0m \u001b[38;5;28;43mself\u001b[39;49m\u001b[38;5;241;43m.\u001b[39;49m\u001b[43m_adorn_subplots\u001b[49m\u001b[43m(\u001b[49m\u001b[43m)\u001b[49m\n\u001b[0;32m    276\u001b[0m \u001b[38;5;28;01mfor\u001b[39;00m ax \u001b[38;5;129;01min\u001b[39;00m \u001b[38;5;28mself\u001b[39m\u001b[38;5;241m.\u001b[39maxes:\n\u001b[0;32m    277\u001b[0m     \u001b[38;5;28mself\u001b[39m\u001b[38;5;241m.\u001b[39m_post_plot_logic_common(ax, \u001b[38;5;28mself\u001b[39m\u001b[38;5;241m.\u001b[39mdata)\n",
      "File \u001b[1;32mc:\\Users\\mjlav\\anaconda3\\envs\\m_f_1st\\lib\\site-packages\\pandas\\plotting\\_matplotlib\\core.py:468\u001b[0m, in \u001b[0;36mMPLPlot._adorn_subplots\u001b[1;34m(self)\u001b[0m\n\u001b[0;32m    466\u001b[0m     all_axes \u001b[38;5;241m=\u001b[39m \u001b[38;5;28mself\u001b[39m\u001b[38;5;241m.\u001b[39m_get_subplots()\n\u001b[0;32m    467\u001b[0m     nrows, ncols \u001b[38;5;241m=\u001b[39m \u001b[38;5;28mself\u001b[39m\u001b[38;5;241m.\u001b[39m_get_axes_layout()\n\u001b[1;32m--> 468\u001b[0m     \u001b[43m_handle_shared_axes\u001b[49m\u001b[43m(\u001b[49m\n\u001b[0;32m    469\u001b[0m \u001b[43m        \u001b[49m\u001b[43maxarr\u001b[49m\u001b[38;5;241;43m=\u001b[39;49m\u001b[43mall_axes\u001b[49m\u001b[43m,\u001b[49m\n\u001b[0;32m    470\u001b[0m \u001b[43m        \u001b[49m\u001b[43mnplots\u001b[49m\u001b[38;5;241;43m=\u001b[39;49m\u001b[38;5;28;43mlen\u001b[39;49m\u001b[43m(\u001b[49m\u001b[43mall_axes\u001b[49m\u001b[43m)\u001b[49m\u001b[43m,\u001b[49m\n\u001b[0;32m    471\u001b[0m \u001b[43m        \u001b[49m\u001b[43mnaxes\u001b[49m\u001b[38;5;241;43m=\u001b[39;49m\u001b[43mnrows\u001b[49m\u001b[43m \u001b[49m\u001b[38;5;241;43m*\u001b[39;49m\u001b[43m \u001b[49m\u001b[43mncols\u001b[49m\u001b[43m,\u001b[49m\n\u001b[0;32m    472\u001b[0m \u001b[43m        \u001b[49m\u001b[43mnrows\u001b[49m\u001b[38;5;241;43m=\u001b[39;49m\u001b[43mnrows\u001b[49m\u001b[43m,\u001b[49m\n\u001b[0;32m    473\u001b[0m \u001b[43m        \u001b[49m\u001b[43mncols\u001b[49m\u001b[38;5;241;43m=\u001b[39;49m\u001b[43mncols\u001b[49m\u001b[43m,\u001b[49m\n\u001b[0;32m    474\u001b[0m \u001b[43m        \u001b[49m\u001b[43msharex\u001b[49m\u001b[38;5;241;43m=\u001b[39;49m\u001b[38;5;28;43mself\u001b[39;49m\u001b[38;5;241;43m.\u001b[39;49m\u001b[43msharex\u001b[49m\u001b[43m,\u001b[49m\n\u001b[0;32m    475\u001b[0m \u001b[43m        \u001b[49m\u001b[43msharey\u001b[49m\u001b[38;5;241;43m=\u001b[39;49m\u001b[38;5;28;43mself\u001b[39;49m\u001b[38;5;241;43m.\u001b[39;49m\u001b[43msharey\u001b[49m\u001b[43m,\u001b[49m\n\u001b[0;32m    476\u001b[0m \u001b[43m    \u001b[49m\u001b[43m)\u001b[49m\n\u001b[0;32m    478\u001b[0m \u001b[38;5;28;01mfor\u001b[39;00m ax \u001b[38;5;129;01min\u001b[39;00m \u001b[38;5;28mself\u001b[39m\u001b[38;5;241m.\u001b[39maxes:\n\u001b[0;32m    479\u001b[0m     \u001b[38;5;28;01mif\u001b[39;00m \u001b[38;5;28mself\u001b[39m\u001b[38;5;241m.\u001b[39myticks \u001b[38;5;129;01mis\u001b[39;00m \u001b[38;5;129;01mnot\u001b[39;00m \u001b[38;5;28;01mNone\u001b[39;00m:\n",
      "File \u001b[1;32mc:\\Users\\mjlav\\anaconda3\\envs\\m_f_1st\\lib\\site-packages\\pandas\\plotting\\_matplotlib\\tools.py:331\u001b[0m, in \u001b[0;36m_handle_shared_axes\u001b[1;34m(axarr, nplots, naxes, nrows, ncols, sharex, sharey)\u001b[0m\n\u001b[0;32m    326\u001b[0m \u001b[38;5;28;01mif\u001b[39;00m ncols \u001b[38;5;241m>\u001b[39m \u001b[38;5;241m1\u001b[39m:\n\u001b[0;32m    327\u001b[0m     \u001b[38;5;28;01mfor\u001b[39;00m ax \u001b[38;5;129;01min\u001b[39;00m axarr:\n\u001b[0;32m    328\u001b[0m         \u001b[38;5;66;03m# only the first column should get y labels -> set all other to\u001b[39;00m\n\u001b[0;32m    329\u001b[0m         \u001b[38;5;66;03m# off as we only have labels in the first column and we always\u001b[39;00m\n\u001b[0;32m    330\u001b[0m         \u001b[38;5;66;03m# have a subplot there, we can skip the layout test\u001b[39;00m\n\u001b[1;32m--> 331\u001b[0m         \u001b[38;5;28;01mif\u001b[39;00m \u001b[43max\u001b[49m\u001b[38;5;241;43m.\u001b[39;49m\u001b[43mis_first_col\u001b[49m():\n\u001b[0;32m    332\u001b[0m             \u001b[38;5;28;01mcontinue\u001b[39;00m\n\u001b[0;32m    333\u001b[0m         \u001b[38;5;28;01mif\u001b[39;00m sharey \u001b[38;5;129;01mor\u001b[39;00m \u001b[38;5;28mlen\u001b[39m(ax\u001b[38;5;241m.\u001b[39mget_shared_y_axes()\u001b[38;5;241m.\u001b[39mget_siblings(ax)) \u001b[38;5;241m>\u001b[39m \u001b[38;5;241m1\u001b[39m:\n",
      "\u001b[1;31mAttributeError\u001b[0m: 'Axes' object has no attribute 'is_first_col'"
     ]
    },
    {
     "data": {
      "image/png": "[encoded data removed]",
      "text/plain": [
       "<Figure size 1700x400 with 3 Axes>"
      ]
     },
     "metadata": {},
     "output_type": "display_data"
    }
   ],
   "source": [
    "# plotting user frequency distribution\n",
    "plot_user_presence_distribution(user_presence_df, dataset_name=dataset_name)"
   ]
  },
  {
   "cell_type": "markdown",
   "metadata": {},
   "source": [
    "How many examples are there per quarter and semester?"
   ]
  },
  {
   "cell_type": "code",
   "execution_count": null,
   "metadata": {},
   "outputs": [],
   "source": [
    "# plot_interactions_per_qns(user_interactions=user_trimestre_interactions, date_range=trimestres, dataset_name=dataset_name, type_of_range='quarter')"
   ]
  },
  {
   "cell_type": "code",
   "execution_count": null,
   "metadata": {},
   "outputs": [],
   "source": [
    "# plot_interactions_per_qns(user_interactions=user_semestre_interactions, date_range=semestres, dataset_name=dataset_name, type_of_range='semester')"
   ]
  },
  {
   "cell_type": "markdown",
   "metadata": {},
   "source": [
    "How many FREQUENT users (occur in 80% or more intervals) exist?"
   ]
  },
  {
   "cell_type": "code",
   "execution_count": 69,
   "metadata": {},
   "outputs": [],
   "source": [
    "# defining threshold\n",
    "frequency_threshold = 1"
   ]
  },
  {
   "cell_type": "code",
   "execution_count": 70,
   "metadata": {},
   "outputs": [
    {
     "name": "stdout",
     "output_type": "stream",
     "text": [
      "991 users of 9991 (9.919%) occurr in 100% or more months.\n"
     ]
    }
   ],
   "source": [
    "# frequent_users_month, frequent_users_trimestre, frequent_users_semestre = get_frequent_users(user_presence_df, frequency_threshold=frequency_threshold)\n",
    "frequent_users_month = get_frequent_users(user_presence_df, frequency_threshold=frequency_threshold)"
   ]
  },
  {
   "cell_type": "code",
   "execution_count": 71,
   "metadata": {},
   "outputs": [
    {
     "data": {
      "text/plain": [
       "['output/amazon_digmusic_dump/sample_frequent_users_month.joblib']"
      ]
     },
     "execution_count": 71,
     "metadata": {},
     "output_type": "execute_result"
    }
   ],
   "source": [
    "# old huge sample\n",
    "# joblib.dump(frequent_users_month, 'output/amazonbooks_dump/frequent_users_month.joblib')\n",
    "\n",
    "# new sample\n",
    "joblib.dump(frequent_users_month, 'output/amazon_digmusic_dump/sample_frequent_users_month.joblib')"
   ]
  },
  {
   "cell_type": "code",
   "execution_count": null,
   "metadata": {},
   "outputs": [],
   "source": []
  },
  {
   "cell_type": "code",
   "execution_count": null,
   "metadata": {},
   "outputs": [],
   "source": []
  }
 ],
 "metadata": {
  "kernelspec": {
   "display_name": "measuring_forgetting",
   "language": "python",
   "name": "python3"
  },
  "language_info": {
   "codemirror_mode": {
    "name": "ipython",
    "version": 3
   },
   "file_extension": ".py",
   "mimetype": "text/x-python",
   "name": "python",
   "nbconvert_exporter": "python",
   "pygments_lexer": "ipython3",
   "version": "3.9.18"
  }
 },
 "nbformat": 4,
 "nbformat_minor": 4
}
