{
 "cells": [
  {
   "cell_type": "markdown",
   "metadata": {},
   "source": [
    "Neste notebook:\n",
    "* Avaliação de usuários por bucket  \n",
    "    * em média, e mediana, em quantos buckets os utilizadores estão.  \n",
    "    * quantos usuários novos estão em cada bucket e quantos não ocorrem\n",
    "\n",
    "Objetivo:\n",
    "* explorar caracteristicas dos datasets que permitam\n",
    "    * avaliar se o dataset é util para a análise  \n",
    "    * escolher o número de buckets  "
   ]
  },
  {
   "cell_type": "markdown",
   "metadata": {},
   "source": [
    "Vamos definir o numero de itens em cada bucket como 50k"
   ]
  },
  {
   "cell_type": "code",
   "execution_count": 1,
   "metadata": {},
   "outputs": [],
   "source": [
    "import os\n",
    "import sys\n",
    "sys.path.append(os.path.abspath('') + '/..')"
   ]
  },
  {
   "cell_type": "code",
   "execution_count": 2,
   "metadata": {},
   "outputs": [],
   "source": [
    "from data import ImplicitData\n",
    "from recommenders_implicit import ISGD  # ISGD framework, BISGD,\n",
    "from eval_implicit import EvaluateAndStore # EvaluateAndStore para guardar estados do modelo e holdouts, a avaliação prequencial de ratings implicitos é opcional, , EvalHoldout\n",
    "from dataset_evaluation_utils import * #get_interactions_info, plot_interactions_per_month, plot_user_presence_distribution, plot_n_users_per_bucket, plot_bucket_size\n",
    "\n",
    "from datetime import datetime, timedelta\n",
    "\n",
    "import joblib\n",
    "import pandas as pd \n",
    "import numpy as np \n",
    "import seaborn as sns\n",
    "import matplotlib.pyplot as plt\n",
    "sns.set_style('whitegrid')"
   ]
  },
  {
   "cell_type": "markdown",
   "metadata": {
    "tags": []
   },
   "source": [
    "___\n",
    "# Amazon Digital Music\n",
    "Small subset, ratings only.  \n",
    "https://nijianmo.github.io/amazon/index.html\n"
   ]
  },
  {
   "cell_type": "markdown",
   "metadata": {},
   "source": [
    "## import dataset"
   ]
  },
  {
   "cell_type": "code",
   "execution_count": 3,
   "metadata": {},
   "outputs": [
    {
     "data": {
      "text/plain": [
       "(1584082, 4)"
      ]
     },
     "execution_count": 3,
     "metadata": {},
     "output_type": "execute_result"
    }
   ],
   "source": [
    "dig_music = pd.read_csv(\"../datasets/Digital_Music.csv\", names=['user_id', 'item_id', 'rating', 'timestamp'])\n",
    "dataset_name = 'Amazon_Digital_Music'\n",
    "user_col = 'user_id'\n",
    "\n",
    "dig_music.shape"
   ]
  },
  {
   "cell_type": "code",
   "execution_count": 4,
   "metadata": {},
   "outputs": [
    {
     "data": {
      "text/html": [
       "<div>\n",
       "<style scoped>\n",
       "    .dataframe tbody tr th:only-of-type {\n",
       "        vertical-align: middle;\n",
       "    }\n",
       "\n",
       "    .dataframe tbody tr th {\n",
       "        vertical-align: top;\n",
       "    }\n",
       "\n",
       "    .dataframe thead th {\n",
       "        text-align: right;\n",
       "    }\n",
       "</style>\n",
       "<table border=\"1\" class=\"dataframe\">\n",
       "  <thead>\n",
       "    <tr style=\"text-align: right;\">\n",
       "      <th></th>\n",
       "      <th>user_id</th>\n",
       "      <th>item_id</th>\n",
       "      <th>rating</th>\n",
       "      <th>timestamp</th>\n",
       "    </tr>\n",
       "  </thead>\n",
       "  <tbody>\n",
       "    <tr>\n",
       "      <th>0</th>\n",
       "      <td>0001388703</td>\n",
       "      <td>A1ZCPG3D3HGRSS</td>\n",
       "      <td>5.0</td>\n",
       "      <td>1387670400</td>\n",
       "    </tr>\n",
       "    <tr>\n",
       "      <th>1</th>\n",
       "      <td>0001388703</td>\n",
       "      <td>AC2PL52NKPL29</td>\n",
       "      <td>5.0</td>\n",
       "      <td>1378857600</td>\n",
       "    </tr>\n",
       "    <tr>\n",
       "      <th>2</th>\n",
       "      <td>0001388703</td>\n",
       "      <td>A1SUZXBDZSDQ3A</td>\n",
       "      <td>5.0</td>\n",
       "      <td>1362182400</td>\n",
       "    </tr>\n",
       "    <tr>\n",
       "      <th>3</th>\n",
       "      <td>0001388703</td>\n",
       "      <td>A3A0W7FZXM0IZW</td>\n",
       "      <td>5.0</td>\n",
       "      <td>1354406400</td>\n",
       "    </tr>\n",
       "    <tr>\n",
       "      <th>4</th>\n",
       "      <td>0001388703</td>\n",
       "      <td>A12R54MKO17TW0</td>\n",
       "      <td>5.0</td>\n",
       "      <td>1325894400</td>\n",
       "    </tr>\n",
       "  </tbody>\n",
       "</table>\n",
       "</div>"
      ],
      "text/plain": [
       "      user_id         item_id  rating   timestamp\n",
       "0  0001388703  A1ZCPG3D3HGRSS     5.0  1387670400\n",
       "1  0001388703   AC2PL52NKPL29     5.0  1378857600\n",
       "2  0001388703  A1SUZXBDZSDQ3A     5.0  1362182400\n",
       "3  0001388703  A3A0W7FZXM0IZW     5.0  1354406400\n",
       "4  0001388703  A12R54MKO17TW0     5.0  1325894400"
      ]
     },
     "execution_count": 4,
     "metadata": {},
     "output_type": "execute_result"
    }
   ],
   "source": [
    "dig_music.head()"
   ]
  },
  {
   "cell_type": "markdown",
   "metadata": {},
   "source": [
    "## keeping only users that have rated more than 5 times"
   ]
  },
  {
   "cell_type": "code",
   "execution_count": 5,
   "metadata": {},
   "outputs": [
    {
     "data": {
      "text/plain": [
       "B0135P6PZA     True\n",
       "B00M8JCW3E     True\n",
       "B00CZF8B68     True\n",
       "B00NPZI1ZS     True\n",
       "B00U3WJHCW     True\n",
       "              ...  \n",
       "B000QM5VD8    False\n",
       "B00OR27PT6    False\n",
       "B00LM6BIAW    False\n",
       "B000X1R0DQ    False\n",
       "B0054OGH4U    False\n",
       "Name: user_id, Length: 456992, dtype: bool"
      ]
     },
     "execution_count": 5,
     "metadata": {},
     "output_type": "execute_result"
    }
   ],
   "source": [
    "dig_music['user_id'].value_counts() >= 5"
   ]
  },
  {
   "cell_type": "code",
   "execution_count": 6,
   "metadata": {},
   "outputs": [
    {
     "data": {
      "text/plain": [
       "Index(['B0135P6PZA', 'B00M8JCW3E', 'B00CZF8B68', 'B00NPZI1ZS', 'B00U3WJHCW',\n",
       "       'B0092MKTL2', 'B005MVLI8A', 'B00136NUG6', 'B0170K9UTO', 'B0099G7KDQ',\n",
       "       ...\n",
       "       'B004B3DKFO', 'B0013AUQUU', 'B001NU2158', 'B00BTLOPSM', 'B00J49PFS0',\n",
       "       'B003O3PWD0', 'B0001FT52S', 'B001PJ5V04', 'B000XNVT2C', 'B004MFL5QW'],\n",
       "      dtype='object', length=50110)"
      ]
     },
     "execution_count": 6,
     "metadata": {},
     "output_type": "execute_result"
    }
   ],
   "source": [
    "k_core_users = dig_music['user_id'].value_counts()[ dig_music['user_id'].value_counts() >= 5 ].index\n",
    "k_core_users"
   ]
  },
  {
   "cell_type": "code",
   "execution_count": 7,
   "metadata": {},
   "outputs": [
    {
     "data": {
      "text/plain": [
       "(998936, 4)"
      ]
     },
     "execution_count": 7,
     "metadata": {},
     "output_type": "execute_result"
    }
   ],
   "source": [
    "data = dig_music.set_index('user_id').loc[k_core_users].reset_index()\n",
    "data.shape"
   ]
  },
  {
   "cell_type": "markdown",
   "metadata": {},
   "source": [
    "## Keep only high ratings (the quantile 0.8 -> 5.0 ratings)"
   ]
  },
  {
   "cell_type": "code",
   "execution_count": 8,
   "metadata": {},
   "outputs": [
    {
     "data": {
      "image/png": "[encoded data removed]",
      "text/plain": [
       "<Figure size 640x480 with 1 Axes>"
      ]
     },
     "metadata": {},
     "output_type": "display_data"
    }
   ],
   "source": [
    "data['rating'].plot(kind='hist', title='Rates frequency');"
   ]
  },
  {
   "cell_type": "code",
   "execution_count": 9,
   "metadata": {},
   "outputs": [
    {
     "data": {
      "text/plain": [
       "5.0"
      ]
     },
     "execution_count": 9,
     "metadata": {},
     "output_type": "execute_result"
    }
   ],
   "source": [
    "pos_ratings = np.quantile(data['rating'], q=0.8)\n",
    "pos_ratings"
   ]
  },
  {
   "cell_type": "code",
   "execution_count": 10,
   "metadata": {},
   "outputs": [
    {
     "data": {
      "text/html": [
       "<div>\n",
       "<style scoped>\n",
       "    .dataframe tbody tr th:only-of-type {\n",
       "        vertical-align: middle;\n",
       "    }\n",
       "\n",
       "    .dataframe tbody tr th {\n",
       "        vertical-align: top;\n",
       "    }\n",
       "\n",
       "    .dataframe thead th {\n",
       "        text-align: right;\n",
       "    }\n",
       "</style>\n",
       "<table border=\"1\" class=\"dataframe\">\n",
       "  <thead>\n",
       "    <tr style=\"text-align: right;\">\n",
       "      <th></th>\n",
       "      <th>user_id</th>\n",
       "      <th>item_id</th>\n",
       "      <th>timestamp</th>\n",
       "    </tr>\n",
       "  </thead>\n",
       "  <tbody>\n",
       "    <tr>\n",
       "      <th>0</th>\n",
       "      <td>B0135P6PZA</td>\n",
       "      <td>A1N25NY4EQL7I6</td>\n",
       "      <td>1443225600</td>\n",
       "    </tr>\n",
       "    <tr>\n",
       "      <th>1</th>\n",
       "      <td>B0135P6PZA</td>\n",
       "      <td>A14K5YWVJ1SV38</td>\n",
       "      <td>1443225600</td>\n",
       "    </tr>\n",
       "    <tr>\n",
       "      <th>2</th>\n",
       "      <td>B0135P6PZA</td>\n",
       "      <td>A11Y3UKBMR9VTT</td>\n",
       "      <td>1443225600</td>\n",
       "    </tr>\n",
       "    <tr>\n",
       "      <th>3</th>\n",
       "      <td>B0135P6PZA</td>\n",
       "      <td>AM327SL7RBMMW</td>\n",
       "      <td>1443139200</td>\n",
       "    </tr>\n",
       "    <tr>\n",
       "      <th>4</th>\n",
       "      <td>B0135P6PZA</td>\n",
       "      <td>ARTPRZWG3M212</td>\n",
       "      <td>1443139200</td>\n",
       "    </tr>\n",
       "  </tbody>\n",
       "</table>\n",
       "</div>"
      ],
      "text/plain": [
       "      user_id         item_id   timestamp\n",
       "0  B0135P6PZA  A1N25NY4EQL7I6  1443225600\n",
       "1  B0135P6PZA  A14K5YWVJ1SV38  1443225600\n",
       "2  B0135P6PZA  A11Y3UKBMR9VTT  1443225600\n",
       "3  B0135P6PZA   AM327SL7RBMMW  1443139200\n",
       "4  B0135P6PZA   ARTPRZWG3M212  1443139200"
      ]
     },
     "execution_count": 10,
     "metadata": {},
     "output_type": "execute_result"
    }
   ],
   "source": [
    "data = data[ data['rating'] == pos_ratings ].drop(columns='rating')\n",
    "data.head()"
   ]
  },
  {
   "cell_type": "code",
   "execution_count": 11,
   "metadata": {},
   "outputs": [
    {
     "data": {
      "text/plain": [
       "809899"
      ]
     },
     "execution_count": 11,
     "metadata": {},
     "output_type": "execute_result"
    }
   ],
   "source": [
    "# number of remaining cases\n",
    "data.shape[0]"
   ]
  },
  {
   "cell_type": "markdown",
   "metadata": {},
   "source": [
    "## Convert timestamp"
   ]
  },
  {
   "cell_type": "code",
   "execution_count": 12,
   "metadata": {},
   "outputs": [
    {
     "name": "stdout",
     "output_type": "stream",
     "text": [
      "CPU times: total: 391 ms\n",
      "Wall time: 716 ms\n"
     ]
    }
   ],
   "source": [
    "%%time\n",
    "# data['date'] = data['timestamp'].apply(lambda x: datetime.fromtimestamp(x) ) # convert unix timestamp to date\n",
    "# data = data.sort_values(by='date') # sort by date\n",
    "\n",
    "data['date'] = data['timestamp'].apply(lambda x: datetime.utcfromtimestamp(x) ) # convert unix timestamp to date\n",
    "data = data.sort_values(by='date') # sort by date"
   ]
  },
  {
   "cell_type": "code",
   "execution_count": 13,
   "metadata": {},
   "outputs": [
    {
     "data": {
      "text/html": [
       "<div>\n",
       "<style scoped>\n",
       "    .dataframe tbody tr th:only-of-type {\n",
       "        vertical-align: middle;\n",
       "    }\n",
       "\n",
       "    .dataframe tbody tr th {\n",
       "        vertical-align: top;\n",
       "    }\n",
       "\n",
       "    .dataframe thead th {\n",
       "        text-align: right;\n",
       "    }\n",
       "</style>\n",
       "<table border=\"1\" class=\"dataframe\">\n",
       "  <thead>\n",
       "    <tr style=\"text-align: right;\">\n",
       "      <th></th>\n",
       "      <th>user_id</th>\n",
       "      <th>item_id</th>\n",
       "      <th>timestamp</th>\n",
       "      <th>date</th>\n",
       "    </tr>\n",
       "  </thead>\n",
       "  <tbody>\n",
       "    <tr>\n",
       "      <th>39318</th>\n",
       "      <td>9714721180</td>\n",
       "      <td>A2SY49Z6H96QVR</td>\n",
       "      <td>877305600</td>\n",
       "      <td>1997-10-20</td>\n",
       "    </tr>\n",
       "    <tr>\n",
       "      <th>594530</th>\n",
       "      <td>B0013D89TW</td>\n",
       "      <td>A2XT7XLQ8DD4NZ</td>\n",
       "      <td>880675200</td>\n",
       "      <td>1997-11-28</td>\n",
       "    </tr>\n",
       "    <tr>\n",
       "      <th>594538</th>\n",
       "      <td>B0013D89TW</td>\n",
       "      <td>A2XT7XLQ8DD4NZ</td>\n",
       "      <td>880675200</td>\n",
       "      <td>1997-11-28</td>\n",
       "    </tr>\n",
       "    <tr>\n",
       "      <th>309802</th>\n",
       "      <td>B00122Z4Y2</td>\n",
       "      <td>A3OS0Q4XX0QSA4</td>\n",
       "      <td>893203200</td>\n",
       "      <td>1998-04-22</td>\n",
       "    </tr>\n",
       "    <tr>\n",
       "      <th>309756</th>\n",
       "      <td>B00122Z4Y2</td>\n",
       "      <td>A3OS0Q4XX0QSA4</td>\n",
       "      <td>893203200</td>\n",
       "      <td>1998-04-22</td>\n",
       "    </tr>\n",
       "  </tbody>\n",
       "</table>\n",
       "</div>"
      ],
      "text/plain": [
       "           user_id         item_id  timestamp       date\n",
       "39318   9714721180  A2SY49Z6H96QVR  877305600 1997-10-20\n",
       "594530  B0013D89TW  A2XT7XLQ8DD4NZ  880675200 1997-11-28\n",
       "594538  B0013D89TW  A2XT7XLQ8DD4NZ  880675200 1997-11-28\n",
       "309802  B00122Z4Y2  A3OS0Q4XX0QSA4  893203200 1998-04-22\n",
       "309756  B00122Z4Y2  A3OS0Q4XX0QSA4  893203200 1998-04-22"
      ]
     },
     "execution_count": 13,
     "metadata": {},
     "output_type": "execute_result"
    }
   ],
   "source": [
    "data.head()"
   ]
  },
  {
   "cell_type": "code",
   "execution_count": 14,
   "metadata": {},
   "outputs": [
    {
     "data": {
      "text/html": [
       "<div>\n",
       "<style scoped>\n",
       "    .dataframe tbody tr th:only-of-type {\n",
       "        vertical-align: middle;\n",
       "    }\n",
       "\n",
       "    .dataframe tbody tr th {\n",
       "        vertical-align: top;\n",
       "    }\n",
       "\n",
       "    .dataframe thead th {\n",
       "        text-align: right;\n",
       "    }\n",
       "</style>\n",
       "<table border=\"1\" class=\"dataframe\">\n",
       "  <thead>\n",
       "    <tr style=\"text-align: right;\">\n",
       "      <th></th>\n",
       "      <th>user_id</th>\n",
       "      <th>item_id</th>\n",
       "      <th>timestamp</th>\n",
       "      <th>date</th>\n",
       "    </tr>\n",
       "  </thead>\n",
       "  <tbody>\n",
       "    <tr>\n",
       "      <th>696139</th>\n",
       "      <td>B01GK9XH2C</td>\n",
       "      <td>AAP8SBSG2T8NX</td>\n",
       "      <td>1538179200</td>\n",
       "      <td>2018-09-29</td>\n",
       "    </tr>\n",
       "    <tr>\n",
       "      <th>883502</th>\n",
       "      <td>B01G7OH4KG</td>\n",
       "      <td>A1UACDAXDOWB2H</td>\n",
       "      <td>1538265600</td>\n",
       "      <td>2018-09-30</td>\n",
       "    </tr>\n",
       "    <tr>\n",
       "      <th>268022</th>\n",
       "      <td>B01GPDFR26</td>\n",
       "      <td>A312L5Z8SW61FR</td>\n",
       "      <td>1538265600</td>\n",
       "      <td>2018-09-30</td>\n",
       "    </tr>\n",
       "    <tr>\n",
       "      <th>262810</th>\n",
       "      <td>B01G4DH4AU</td>\n",
       "      <td>A7O6RHCU9RZ8L</td>\n",
       "      <td>1538352000</td>\n",
       "      <td>2018-10-01</td>\n",
       "    </tr>\n",
       "    <tr>\n",
       "      <th>230965</th>\n",
       "      <td>B01H7XADLS</td>\n",
       "      <td>A1X087SYY8ZFGC</td>\n",
       "      <td>1538438400</td>\n",
       "      <td>2018-10-02</td>\n",
       "    </tr>\n",
       "  </tbody>\n",
       "</table>\n",
       "</div>"
      ],
      "text/plain": [
       "           user_id         item_id   timestamp       date\n",
       "696139  B01GK9XH2C   AAP8SBSG2T8NX  1538179200 2018-09-29\n",
       "883502  B01G7OH4KG  A1UACDAXDOWB2H  1538265600 2018-09-30\n",
       "268022  B01GPDFR26  A312L5Z8SW61FR  1538265600 2018-09-30\n",
       "262810  B01G4DH4AU   A7O6RHCU9RZ8L  1538352000 2018-10-01\n",
       "230965  B01H7XADLS  A1X087SYY8ZFGC  1538438400 2018-10-02"
      ]
     },
     "execution_count": 14,
     "metadata": {},
     "output_type": "execute_result"
    }
   ],
   "source": [
    "data.tail()"
   ]
  },
  {
   "cell_type": "code",
   "execution_count": 15,
   "metadata": {},
   "outputs": [
    {
     "name": "stdout",
     "output_type": "stream",
     "text": [
      "CPU times: total: 8.86 s\n",
      "Wall time: 11.2 s\n"
     ]
    }
   ],
   "source": [
    "%%time\n",
    "# keep year-month\n",
    "data['date'] = data['date'].apply(lambda x: datetime.strptime( str(x.year)+'-'+str(x.month), '%Y-%m' ))"
   ]
  },
  {
   "cell_type": "code",
   "execution_count": 16,
   "metadata": {},
   "outputs": [
    {
     "data": {
      "text/html": [
       "<div>\n",
       "<style scoped>\n",
       "    .dataframe tbody tr th:only-of-type {\n",
       "        vertical-align: middle;\n",
       "    }\n",
       "\n",
       "    .dataframe tbody tr th {\n",
       "        vertical-align: top;\n",
       "    }\n",
       "\n",
       "    .dataframe thead th {\n",
       "        text-align: right;\n",
       "    }\n",
       "</style>\n",
       "<table border=\"1\" class=\"dataframe\">\n",
       "  <thead>\n",
       "    <tr style=\"text-align: right;\">\n",
       "      <th></th>\n",
       "      <th>user_id</th>\n",
       "      <th>item_id</th>\n",
       "      <th>timestamp</th>\n",
       "      <th>date</th>\n",
       "    </tr>\n",
       "  </thead>\n",
       "  <tbody>\n",
       "    <tr>\n",
       "      <th>39318</th>\n",
       "      <td>9714721180</td>\n",
       "      <td>A2SY49Z6H96QVR</td>\n",
       "      <td>877305600</td>\n",
       "      <td>1997-10-01</td>\n",
       "    </tr>\n",
       "    <tr>\n",
       "      <th>594530</th>\n",
       "      <td>B0013D89TW</td>\n",
       "      <td>A2XT7XLQ8DD4NZ</td>\n",
       "      <td>880675200</td>\n",
       "      <td>1997-11-01</td>\n",
       "    </tr>\n",
       "    <tr>\n",
       "      <th>594538</th>\n",
       "      <td>B0013D89TW</td>\n",
       "      <td>A2XT7XLQ8DD4NZ</td>\n",
       "      <td>880675200</td>\n",
       "      <td>1997-11-01</td>\n",
       "    </tr>\n",
       "    <tr>\n",
       "      <th>309802</th>\n",
       "      <td>B00122Z4Y2</td>\n",
       "      <td>A3OS0Q4XX0QSA4</td>\n",
       "      <td>893203200</td>\n",
       "      <td>1998-04-01</td>\n",
       "    </tr>\n",
       "    <tr>\n",
       "      <th>309756</th>\n",
       "      <td>B00122Z4Y2</td>\n",
       "      <td>A3OS0Q4XX0QSA4</td>\n",
       "      <td>893203200</td>\n",
       "      <td>1998-04-01</td>\n",
       "    </tr>\n",
       "  </tbody>\n",
       "</table>\n",
       "</div>"
      ],
      "text/plain": [
       "           user_id         item_id  timestamp       date\n",
       "39318   9714721180  A2SY49Z6H96QVR  877305600 1997-10-01\n",
       "594530  B0013D89TW  A2XT7XLQ8DD4NZ  880675200 1997-11-01\n",
       "594538  B0013D89TW  A2XT7XLQ8DD4NZ  880675200 1997-11-01\n",
       "309802  B00122Z4Y2  A3OS0Q4XX0QSA4  893203200 1998-04-01\n",
       "309756  B00122Z4Y2  A3OS0Q4XX0QSA4  893203200 1998-04-01"
      ]
     },
     "execution_count": 16,
     "metadata": {},
     "output_type": "execute_result"
    }
   ],
   "source": [
    "data.head()"
   ]
  },
  {
   "cell_type": "markdown",
   "metadata": {},
   "source": [
    "---------------------------------------------------------------------------------------------\n",
    "### Data.head() is showing different results from Klismam's..."
   ]
  },
  {
   "cell_type": "code",
   "execution_count": 17,
   "metadata": {},
   "outputs": [],
   "source": [
    "# data[data.timestamp==877305600]"
   ]
  },
  {
   "cell_type": "markdown",
   "metadata": {},
   "source": [
    "-- example ---------------------------"
   ]
  },
  {
   "cell_type": "code",
   "execution_count": 18,
   "metadata": {},
   "outputs": [],
   "source": [
    "# import pytz\n",
    "# from datetime import datetime"
   ]
  },
  {
   "cell_type": "code",
   "execution_count": 19,
   "metadata": {},
   "outputs": [],
   "source": [
    "# pytz.all_timezones_set.intersection(['GMT'])"
   ]
  },
  {
   "cell_type": "code",
   "execution_count": 20,
   "metadata": {},
   "outputs": [],
   "source": [
    "# ts = 877305600"
   ]
  },
  {
   "cell_type": "code",
   "execution_count": 21,
   "metadata": {},
   "outputs": [],
   "source": [
    "# datetime.fromtimestamp(ts)"
   ]
  },
  {
   "cell_type": "code",
   "execution_count": 22,
   "metadata": {},
   "outputs": [],
   "source": [
    "# utc_dt = datetime.utcfromtimestamp(ts)\n",
    "# utc_dt"
   ]
  },
  {
   "cell_type": "code",
   "execution_count": 23,
   "metadata": {},
   "outputs": [],
   "source": [
    "# aware_utc_dt = utc_dt.replace(tzinfo=pytz.utc)\n",
    "\n",
    "# tz = pytz.timezone('GMT')\n",
    "# dt = aware_utc_dt.astimezone(tz)\n",
    "# dt"
   ]
  },
  {
   "cell_type": "code",
   "execution_count": 24,
   "metadata": {},
   "outputs": [],
   "source": [
    "# dt = datetime.fromtimestamp(ts, tz)\n",
    "# dt"
   ]
  },
  {
   "cell_type": "markdown",
   "metadata": {},
   "source": [
    "-- end example ---------------------------"
   ]
  },
  {
   "cell_type": "code",
   "execution_count": 25,
   "metadata": {},
   "outputs": [],
   "source": [
    "# data['date_utc'] = data['timestamp'].apply(lambda x: datetime.utcfromtimestamp(x) ) # convert unix timestamp to date\n",
    "# data = data.sort_values(by='date_utc') # sort by date"
   ]
  },
  {
   "cell_type": "code",
   "execution_count": 26,
   "metadata": {},
   "outputs": [],
   "source": [
    "# data.head()"
   ]
  },
  {
   "cell_type": "code",
   "execution_count": 27,
   "metadata": {},
   "outputs": [],
   "source": [
    "# data.tail()"
   ]
  },
  {
   "cell_type": "markdown",
   "metadata": {},
   "source": [
    "\".fromtimestamp() might fail for past dates if a local timezone had different utc offset. You need a historic timezone database such as provided by pytz module (or your OS). Or just work in UTC and use .utcfromtimestamp()\" - (https://stackoverflow.com/questions/3682748/converting-unix-timestamp-string-to-readable-date)"
   ]
  },
  {
   "cell_type": "code",
   "execution_count": 28,
   "metadata": {},
   "outputs": [],
   "source": [
    "# data = data.drop(columns=['date', 'date_utc'])\n",
    "# data['date'] = data['timestamp'].apply(lambda x: datetime.utcfromtimestamp(x) ) # convert unix timestamp to date\n",
    "# data = data.sort_values(by='date') # sort by date\n",
    "# data.head()"
   ]
  },
  {
   "cell_type": "code",
   "execution_count": 29,
   "metadata": {},
   "outputs": [],
   "source": [
    "# %%time\n",
    "# # keep year-month\n",
    "# data['date'] = data['date'].apply(lambda x: datetime.strptime( str(x.year)+'-'+str(x.month), '%Y-%m' ))"
   ]
  },
  {
   "cell_type": "code",
   "execution_count": 30,
   "metadata": {},
   "outputs": [],
   "source": [
    "# data.head()"
   ]
  },
  {
   "cell_type": "markdown",
   "metadata": {},
   "source": [
    "now it's SOLVED.\n",
    "because of the drop of date, it seems that the utc problem was not an issue, but now it's certain.\n",
    "___"
   ]
  },
  {
   "cell_type": "markdown",
   "metadata": {},
   "source": [
    "## Evaluating Time defined Buckets "
   ]
  },
  {
   "cell_type": "code",
   "execution_count": 31,
   "metadata": {},
   "outputs": [
    {
     "name": "stdout",
     "output_type": "stream",
     "text": [
      "CPU times: total: 172 ms\n",
      "Wall time: 250 ms\n"
     ]
    }
   ],
   "source": [
    "%%time\n",
    "interactions_per_month = data.groupby(by=['date']).count().iloc[:, 0]\n",
    "interactions_per_month.name = 'count'\n",
    "interactions_per_month=interactions_per_month.reset_index()"
   ]
  },
  {
   "cell_type": "markdown",
   "metadata": {},
   "source": [
    "### plot interactions_per_month"
   ]
  },
  {
   "cell_type": "code",
   "execution_count": 32,
   "metadata": {},
   "outputs": [
    {
     "data": {
      "image/png": "[encoded data removed]",
      "text/plain": [
       "<Figure size 640x480 with 1 Axes>"
      ]
     },
     "metadata": {},
     "output_type": "display_data"
    }
   ],
   "source": [
    "_ = interactions_per_month.copy()\n",
    "_['date'] = _['date'].dt.year\n",
    "_.groupby('date').sum().plot(kind='bar', \n",
    "                             title='interactions_per_month').set_xlabel('year');"
   ]
  },
  {
   "cell_type": "markdown",
   "metadata": {},
   "source": [
    "### sample_year_month"
   ]
  },
  {
   "cell_type": "code",
   "execution_count": 33,
   "metadata": {},
   "outputs": [],
   "source": [
    "sample_year_month = [('2014', '%Y'), ('2014-10', '%Y-%m')]\n",
    "sample_year_month_start = sample_year_month[0][0]\n",
    "sample_year_month_end = sample_year_month[1][0]"
   ]
  },
  {
   "cell_type": "code",
   "execution_count": 34,
   "metadata": {},
   "outputs": [],
   "source": [
    "# sample_year_month[1] <= date < sample_year_month[1]\n",
    "y_filter = (datetime.strptime(*sample_year_month[0]) <= data['date']) & (data['date'] < datetime.strptime(*sample_year_month[1]))\n",
    "\n",
    "# 2014 <= date < 2014-04\n",
    "# y_filter = (data['date'] < datetime.strptime('2014-04', '%Y-%m')) & (datetime.strptime('2014', '%Y') <= data['date']) \n",
    "\n",
    "# 2014 <= date < 2015\n",
    "# y_filter = (data['date'] < datetime.strptime('2015', '%Y')) & (datetime.strptime('2014', '%Y') <= data['date']) "
   ]
  },
  {
   "cell_type": "markdown",
   "metadata": {},
   "source": [
    "### plot sample_year_month "
   ]
  },
  {
   "cell_type": "code",
   "execution_count": 35,
   "metadata": {},
   "outputs": [
    {
     "name": "stdout",
     "output_type": "stream",
     "text": [
      "104028\n"
     ]
    },
    {
     "data": {
      "image/png": "[encoded data removed]",
      "text/plain": [
       "<Figure size 600x1000 with 1 Axes>"
      ]
     },
     "metadata": {},
     "output_type": "display_data"
    }
   ],
   "source": [
    "print(data[y_filter].shape[0])\n",
    "plot_interactions_per_month(data=data[y_filter].reset_index(), dataset_name=dataset_name)"
   ]
  },
  {
   "cell_type": "code",
   "execution_count": 36,
   "metadata": {},
   "outputs": [],
   "source": [
    "df_only_high_ratings = data.copy()\n",
    "data = data[y_filter]"
   ]
  },
  {
   "cell_type": "code",
   "execution_count": 37,
   "metadata": {},
   "outputs": [
    {
     "data": {
      "text/plain": [
       "104028"
      ]
     },
     "execution_count": 37,
     "metadata": {},
     "output_type": "execute_result"
    }
   ],
   "source": [
    "# number of remaining cases\n",
    "data.shape[0]"
   ]
  },
  {
   "cell_type": "markdown",
   "metadata": {},
   "source": [
    "## Sampling the dataset - only most frequent users (overall)"
   ]
  },
  {
   "cell_type": "code",
   "execution_count": 38,
   "metadata": {},
   "outputs": [
    {
     "data": {
      "text/plain": [
       "user_id\n",
       "0001377647    5\n",
       "0001388703    3\n",
       "0001526146    3\n",
       "0001527134    3\n",
       "0006882919    2\n",
       "             ..\n",
       "B01E9SVVHE    3\n",
       "B01EE9N52C    2\n",
       "B01FLMZ50G    1\n",
       "B01FXZSQZC    2\n",
       "B01HC8FQME    6\n",
       "Name: date, Length: 26467, dtype: int64"
      ]
     },
     "execution_count": 38,
     "metadata": {},
     "output_type": "execute_result"
    }
   ],
   "source": [
    "data.groupby(by=['user_id'])['date'].nunique()"
   ]
  },
  {
   "cell_type": "code",
   "execution_count": 39,
   "metadata": {},
   "outputs": [
    {
     "name": "stdout",
     "output_type": "stream",
     "text": [
      "CPU times: total: 62.5 ms\n",
      "Wall time: 106 ms\n"
     ]
    }
   ],
   "source": [
    "%%time\n",
    "user_freq_over_months = data.groupby(by=['user_id'])['date'].nunique()"
   ]
  },
  {
   "cell_type": "markdown",
   "metadata": {},
   "source": [
    "### plot user_freq_over_months"
   ]
  },
  {
   "cell_type": "code",
   "execution_count": 40,
   "metadata": {},
   "outputs": [
    {
     "data": {
      "image/png": "[encoded data removed]",
      "text/plain": [
       "<Figure size 640x480 with 1 Axes>"
      ]
     },
     "metadata": {},
     "output_type": "display_data"
    }
   ],
   "source": [
    "user_freq_over_months.plot(kind='hist',\n",
    "                           bins=user_freq_over_months.max(),\n",
    "                           title='user_freq_over_months').set_xlabel('freq_over_months');"
   ]
  },
  {
   "cell_type": "code",
   "execution_count": 41,
   "metadata": {},
   "outputs": [],
   "source": [
    "_ = data.set_index('user_id').copy()"
   ]
  },
  {
   "cell_type": "code",
   "execution_count": 42,
   "metadata": {},
   "outputs": [
    {
     "data": {
      "image/png": "[encoded data removed]",
      "text/plain": [
       "<Figure size 640x480 with 1 Axes>"
      ]
     },
     "metadata": {},
     "output_type": "display_data"
    }
   ],
   "source": [
    "# frequency of users that occur every month:\n",
    "_.reset_index()['user_id'].value_counts().plot(kind='box',\n",
    "                                               title='frequency of users that occur every month');"
   ]
  },
  {
   "cell_type": "code",
   "execution_count": 43,
   "metadata": {},
   "outputs": [
    {
     "data": {
      "text/plain": [
       "B00CZF8B68    1890\n",
       "B00GLP4DMO     552\n",
       "B00IKS2BHY     289\n",
       "B0092MKTL2     275\n",
       "B00HNIEQNE     263\n",
       "              ... \n",
       "B0007IK0Y6       1\n",
       "B001HE3HM6       1\n",
       "B000YN373A       1\n",
       "B002EOWBZW       1\n",
       "B001OAZ10Y       1\n",
       "Name: user_id, Length: 26467, dtype: int64"
      ]
     },
     "execution_count": 43,
     "metadata": {},
     "output_type": "execute_result"
    }
   ],
   "source": [
    "data['user_id'].value_counts()"
   ]
  },
  {
   "cell_type": "code",
   "execution_count": 44,
   "metadata": {},
   "outputs": [],
   "source": [
    "# list of users\n",
    "u = data['user_id'].value_counts().reset_index()['index'].to_list() "
   ]
  },
  {
   "cell_type": "code",
   "execution_count": 45,
   "metadata": {},
   "outputs": [
    {
     "name": "stdout",
     "output_type": "stream",
     "text": [
      "26467\n",
      "True\n"
     ]
    }
   ],
   "source": [
    "print(data['user_id'].nunique())\n",
    "print(len(u) == data['user_id'].nunique())"
   ]
  },
  {
   "cell_type": "code",
   "execution_count": 46,
   "metadata": {},
   "outputs": [
    {
     "data": {
      "text/plain": [
       "104028"
      ]
     },
     "execution_count": 46,
     "metadata": {},
     "output_type": "execute_result"
    }
   ],
   "source": [
    "data['user_id'].shape[0]"
   ]
  },
  {
   "cell_type": "code",
   "execution_count": 47,
   "metadata": {},
   "outputs": [
    {
     "data": {
      "text/plain": [
       "B00CZF8B68    0.018168\n",
       "B00GLP4DMO    0.005306\n",
       "B00IKS2BHY    0.002778\n",
       "B0092MKTL2    0.002644\n",
       "B00HNIEQNE    0.002528\n",
       "                ...   \n",
       "B0007IK0Y6    0.000010\n",
       "B001HE3HM6    0.000010\n",
       "B000YN373A    0.000010\n",
       "B002EOWBZW    0.000010\n",
       "B001OAZ10Y    0.000010\n",
       "Name: user_id, Length: 26467, dtype: float64"
      ]
     },
     "execution_count": 47,
     "metadata": {},
     "output_type": "execute_result"
    }
   ],
   "source": [
    "p = (data['user_id'].value_counts()/data['user_id'].shape[0])\n",
    "p"
   ]
  },
  {
   "cell_type": "code",
   "execution_count": 48,
   "metadata": {},
   "outputs": [
    {
     "data": {
      "text/plain": [
       "19850"
      ]
     },
     "execution_count": 48,
     "metadata": {},
     "output_type": "execute_result"
    }
   ],
   "source": [
    "# sample size of 75% of the users\n",
    "prop = 0.75\n",
    "s = round( len(u)*prop )\n",
    "s"
   ]
  },
  {
   "cell_type": "markdown",
   "metadata": {},
   "source": [
    "### sampled_users"
   ]
  },
  {
   "cell_type": "code",
   "execution_count": 49,
   "metadata": {},
   "outputs": [
    {
     "data": {
      "text/plain": [
       "['B008DZS61O', 'B001BKRJI4', 'B004LM7IS0', 'B000TEDBA8', 'B00JRE4AP6']"
      ]
     },
     "execution_count": 49,
     "metadata": {},
     "output_type": "execute_result"
    }
   ],
   "source": [
    "np.random.seed(42)\n",
    "sampled_users = list( np.random.choice(u,               # list of users\n",
    "                                       size=s,          # size of the sample, set to 75% of the #users\n",
    "                                       replace=False,   # no repeat\n",
    "                                       p=p) )           # probability of a user\n",
    "sampled_users[:5]"
   ]
  },
  {
   "cell_type": "code",
   "execution_count": 50,
   "metadata": {},
   "outputs": [
    {
     "data": {
      "text/plain": [
       "(95224, 3)"
      ]
     },
     "execution_count": 50,
     "metadata": {},
     "output_type": "execute_result"
    }
   ],
   "source": [
    "_.loc[sampled_users].shape"
   ]
  },
  {
   "cell_type": "code",
   "execution_count": 51,
   "metadata": {},
   "outputs": [
    {
     "data": {
      "text/plain": [
       "63598"
      ]
     },
     "execution_count": 51,
     "metadata": {},
     "output_type": "execute_result"
    }
   ],
   "source": [
    "# unique items in the sample of users\n",
    "_.loc[sampled_users]['item_id'].nunique()"
   ]
  },
  {
   "cell_type": "code",
   "execution_count": 52,
   "metadata": {},
   "outputs": [
    {
     "data": {
      "image/png": "[encoded data removed]",
      "text/plain": [
       "<Figure size 640x480 with 1 Axes>"
      ]
     },
     "metadata": {},
     "output_type": "display_data"
    }
   ],
   "source": [
    "# frequency of users:\n",
    "_.loc[sampled_users].reset_index()['user_id'].value_counts().plot(kind='box',\n",
    "                                                                  title='frequency of *sampled* users');"
   ]
  },
  {
   "cell_type": "code",
   "execution_count": 53,
   "metadata": {},
   "outputs": [
    {
     "name": "stdout",
     "output_type": "stream",
     "text": [
      "CPU times: total: 141 ms\n",
      "Wall time: 211 ms\n"
     ]
    },
    {
     "data": {
      "text/plain": [
       "Text(0.5, 0, 'freq_over_months of *sampled* users')"
      ]
     },
     "execution_count": 53,
     "metadata": {},
     "output_type": "execute_result"
    },
    {
     "data": {
      "image/png": "[encoded data removed]",
      "text/plain": [
       "<Figure size 640x480 with 1 Axes>"
      ]
     },
     "metadata": {},
     "output_type": "display_data"
    }
   ],
   "source": [
    "%%time\n",
    "user_freq_over_months_sample = _.loc[sampled_users].reset_index().groupby(by=['user_id'])['date'].nunique()\n",
    "user_freq_over_months_sample.plot(kind='hist',\n",
    "                                  bins=user_freq_over_months_sample.max(),\n",
    "                                  title='user_freq_over_months_sample').set_xlabel('freq_over_months of *sampled* users');\n"
   ]
  },
  {
   "cell_type": "code",
   "execution_count": 54,
   "metadata": {},
   "outputs": [
    {
     "name": "stdout",
     "output_type": "stream",
     "text": [
      "original - #users 456992\n",
      "original - #items 840372\n"
     ]
    }
   ],
   "source": [
    "print('original - #users', dig_music['user_id'].nunique())\n",
    "print('original - #items', dig_music['item_id'].nunique())"
   ]
  },
  {
   "cell_type": "code",
   "execution_count": 55,
   "metadata": {},
   "outputs": [
    {
     "name": "stdout",
     "output_type": "stream",
     "text": [
      "sampled time until 2014-10 - #users 26467\n",
      "sampled time until 2014-10 - #items 68737\n"
     ]
    }
   ],
   "source": [
    "print('sampled time until '+str(sample_year_month_end)+' - #users', data['user_id'].nunique())\n",
    "print('sampled time until '+str(sample_year_month_end)+' - #items', data['item_id'].nunique())"
   ]
  },
  {
   "cell_type": "code",
   "execution_count": 56,
   "metadata": {},
   "outputs": [
    {
     "name": "stdout",
     "output_type": "stream",
     "text": [
      "sampled users - #users 19850\n",
      "sampled users - #items 63598\n"
     ]
    }
   ],
   "source": [
    "print('sampled users - #users', _.loc[sampled_users].reset_index()['user_id'].nunique())\n",
    "print('sampled users - #items', _.loc[sampled_users].reset_index()['item_id'].nunique())"
   ]
  },
  {
   "cell_type": "code",
   "execution_count": 57,
   "metadata": {},
   "outputs": [
    {
     "data": {
      "image/png": "[encoded data removed]",
      "text/plain": [
       "<Figure size 600x1000 with 1 Axes>"
      ]
     },
     "metadata": {},
     "output_type": "display_data"
    }
   ],
   "source": [
    "# %%time\n",
    "# plot_interactions_per_month(data=_.loc[freq_users].reset_index(), dataset_name=dataset_name)\n",
    "plot_interactions_per_month(data=_.loc[sampled_users].reset_index(), dataset_name=dataset_name)"
   ]
  },
  {
   "cell_type": "code",
   "execution_count": 58,
   "metadata": {},
   "outputs": [],
   "source": [
    "df_sample_time = data.copy()"
   ]
  },
  {
   "cell_type": "code",
   "execution_count": 59,
   "metadata": {},
   "outputs": [
    {
     "name": "stdout",
     "output_type": "stream",
     "text": [
      "95224\n"
     ]
    }
   ],
   "source": [
    "USE_THRESHOLD = True\n",
    "# all users 0.002736\n",
    "# USING prop = 0.75 increased performance by a bit in the first month, 0.004292 (0.002878) ?\n",
    "# USING prop = 0.5 reduced performance in the first month  \t0.001647\n",
    "# USING prop = 0.25 reduced performance in the first month 0.002574\n",
    "\n",
    "if USE_THRESHOLD: \n",
    "    data = _.loc[sampled_users].reset_index()\n",
    "    data = data.sort_values(by=['timestamp', 'user_id', 'item_id'])\n",
    "    print(data.shape[0])\n",
    "else:\n",
    "    print(data.shape[0])\n",
    "\n",
    "\n",
    "# new sample\n",
    "# sample_str = str(sample_year_month_start)+'_until_'+str(sample_year_month_end)\n",
    "# data.to_csv('output/amazon_digmusic_dump/sampled_amazon_digmusic'+sample_str+'.csv', index=False)\n",
    "data.to_csv('output/amazon_digmusic_dump/sampled_amazon_digmusic.csv', index=False)"
   ]
  },
  {
   "cell_type": "markdown",
   "metadata": {},
   "source": [
    "How many interactions occur in each month / year?"
   ]
  },
  {
   "cell_type": "code",
   "execution_count": 60,
   "metadata": {},
   "outputs": [],
   "source": [
    "interactions_per_month = data.groupby(by=['date']).count().iloc[:, 0]\n",
    "interactions_per_month.name = 'count'\n",
    "interactions_per_month=interactions_per_month.reset_index()"
   ]
  },
  {
   "cell_type": "code",
   "execution_count": 61,
   "metadata": {},
   "outputs": [
    {
     "name": "stdout",
     "output_type": "stream",
     "text": [
      "CPU times: total: 93.8 ms\n",
      "Wall time: 367 ms\n"
     ]
    },
    {
     "data": {
      "image/png": "[encoded data removed]",
      "text/plain": [
       "<Figure size 600x1000 with 1 Axes>"
      ]
     },
     "metadata": {},
     "output_type": "display_data"
    }
   ],
   "source": [
    "%%time\n",
    "plot_interactions_per_month(data=data, dataset_name=dataset_name)"
   ]
  },
  {
   "cell_type": "markdown",
   "metadata": {},
   "source": [
    "What is the user presence distribution based on month, quarter, and semester?"
   ]
  },
  {
   "cell_type": "code",
   "execution_count": 62,
   "metadata": {},
   "outputs": [
    {
     "name": "stdout",
     "output_type": "stream",
     "text": [
      "0.0 %\n",
      "10.0 %\n",
      "20.0 %\n",
      "30.0 %\n",
      "40.0 %\n",
      "50.0 %\n",
      "60.0 %\n",
      "70.0 %\n",
      "80.0 %\n",
      "90.0 %\n",
      "CPU times: total: 2min 43s\n",
      "Wall time: 4min 45s\n"
     ]
    }
   ],
   "source": [
    "%%time\n",
    "# 4min 59s\n",
    "user_presence_df, user_month_interactions,\\\n",
    "    trimestres, user_trimestre_interactions,\\\n",
    "    semestres, user_semestre_interactions = get_interactions_info(data=data, \n",
    "                                                                    user_col=user_col,\n",
    "                                                                    quarter_info=True, \n",
    "                                                                    semester_info=True)\n"
   ]
  },
  {
   "cell_type": "code",
   "execution_count": 63,
   "metadata": {},
   "outputs": [
    {
     "data": {
      "text/html": [
       "<div>\n",
       "<style scoped>\n",
       "    .dataframe tbody tr th:only-of-type {\n",
       "        vertical-align: middle;\n",
       "    }\n",
       "\n",
       "    .dataframe tbody tr th {\n",
       "        vertical-align: top;\n",
       "    }\n",
       "\n",
       "    .dataframe thead th {\n",
       "        text-align: right;\n",
       "    }\n",
       "</style>\n",
       "<table border=\"1\" class=\"dataframe\">\n",
       "  <thead>\n",
       "    <tr style=\"text-align: right;\">\n",
       "      <th></th>\n",
       "      <th>UserID</th>\n",
       "      <th>month_%</th>\n",
       "      <th>trimestre_%</th>\n",
       "      <th>semestre_%</th>\n",
       "    </tr>\n",
       "  </thead>\n",
       "  <tbody>\n",
       "    <tr>\n",
       "      <th>0</th>\n",
       "      <td>B00CRMX53S</td>\n",
       "      <td>1.0</td>\n",
       "      <td>1.0</td>\n",
       "      <td>1.0</td>\n",
       "    </tr>\n",
       "    <tr>\n",
       "      <th>1</th>\n",
       "      <td>B007V5XV30</td>\n",
       "      <td>1.0</td>\n",
       "      <td>1.0</td>\n",
       "      <td>1.0</td>\n",
       "    </tr>\n",
       "    <tr>\n",
       "      <th>2</th>\n",
       "      <td>B00GB1OY54</td>\n",
       "      <td>1.0</td>\n",
       "      <td>1.0</td>\n",
       "      <td>1.0</td>\n",
       "    </tr>\n",
       "    <tr>\n",
       "      <th>3</th>\n",
       "      <td>B00DW22TSO</td>\n",
       "      <td>1.0</td>\n",
       "      <td>1.0</td>\n",
       "      <td>1.0</td>\n",
       "    </tr>\n",
       "    <tr>\n",
       "      <th>4</th>\n",
       "      <td>B00EI6E17A</td>\n",
       "      <td>1.0</td>\n",
       "      <td>1.0</td>\n",
       "      <td>1.0</td>\n",
       "    </tr>\n",
       "  </tbody>\n",
       "</table>\n",
       "</div>"
      ],
      "text/plain": [
       "       UserID  month_%  trimestre_%  semestre_%\n",
       "0  B00CRMX53S      1.0          1.0         1.0\n",
       "1  B007V5XV30      1.0          1.0         1.0\n",
       "2  B00GB1OY54      1.0          1.0         1.0\n",
       "3  B00DW22TSO      1.0          1.0         1.0\n",
       "4  B00EI6E17A      1.0          1.0         1.0"
      ]
     },
     "execution_count": 63,
     "metadata": {},
     "output_type": "execute_result"
    }
   ],
   "source": [
    "user_presence_df.head()"
   ]
  },
  {
   "cell_type": "code",
   "execution_count": 64,
   "metadata": {},
   "outputs": [
    {
     "data": {
      "text/html": [
       "<div>\n",
       "<style scoped>\n",
       "    .dataframe tbody tr th:only-of-type {\n",
       "        vertical-align: middle;\n",
       "    }\n",
       "\n",
       "    .dataframe tbody tr th {\n",
       "        vertical-align: top;\n",
       "    }\n",
       "\n",
       "    .dataframe thead th {\n",
       "        text-align: right;\n",
       "    }\n",
       "</style>\n",
       "<table border=\"1\" class=\"dataframe\">\n",
       "  <thead>\n",
       "    <tr style=\"text-align: right;\">\n",
       "      <th></th>\n",
       "      <th>user_id</th>\n",
       "      <th>date</th>\n",
       "      <th>count</th>\n",
       "    </tr>\n",
       "  </thead>\n",
       "  <tbody>\n",
       "    <tr>\n",
       "      <th>0</th>\n",
       "      <td>0001377647</td>\n",
       "      <td>2014-01-01</td>\n",
       "      <td>2</td>\n",
       "    </tr>\n",
       "    <tr>\n",
       "      <th>13755</th>\n",
       "      <td>B0013G1WF2</td>\n",
       "      <td>2014-01-01</td>\n",
       "      <td>1</td>\n",
       "    </tr>\n",
       "    <tr>\n",
       "      <th>13758</th>\n",
       "      <td>B0013G1WTS</td>\n",
       "      <td>2014-01-01</td>\n",
       "      <td>2</td>\n",
       "    </tr>\n",
       "    <tr>\n",
       "      <th>5087</th>\n",
       "      <td>B000W1AO4Y</td>\n",
       "      <td>2014-01-01</td>\n",
       "      <td>2</td>\n",
       "    </tr>\n",
       "    <tr>\n",
       "      <th>33234</th>\n",
       "      <td>B00AYSRFL0</td>\n",
       "      <td>2014-01-01</td>\n",
       "      <td>2</td>\n",
       "    </tr>\n",
       "  </tbody>\n",
       "</table>\n",
       "</div>"
      ],
      "text/plain": [
       "          user_id       date  count\n",
       "0      0001377647 2014-01-01      2\n",
       "13755  B0013G1WF2 2014-01-01      1\n",
       "13758  B0013G1WTS 2014-01-01      2\n",
       "5087   B000W1AO4Y 2014-01-01      2\n",
       "33234  B00AYSRFL0 2014-01-01      2"
      ]
     },
     "execution_count": 64,
     "metadata": {},
     "output_type": "execute_result"
    }
   ],
   "source": [
    "user_month_interactions.head()"
   ]
  },
  {
   "cell_type": "code",
   "execution_count": 65,
   "metadata": {},
   "outputs": [
    {
     "data": {
      "text/plain": [
       "[(Timestamp('2014-01-01 00:00:00'),\n",
       "  Timestamp('2014-03-31 00:00:00', freq='3M')),\n",
       " (Timestamp('2014-04-01 00:00:00'),\n",
       "  Timestamp('2014-06-30 00:00:00', freq='3M'))]"
      ]
     },
     "execution_count": 65,
     "metadata": {},
     "output_type": "execute_result"
    }
   ],
   "source": [
    "trimestres"
   ]
  },
  {
   "cell_type": "code",
   "execution_count": 66,
   "metadata": {},
   "outputs": [
    {
     "data": {
      "text/html": [
       "<div>\n",
       "<style scoped>\n",
       "    .dataframe tbody tr th:only-of-type {\n",
       "        vertical-align: middle;\n",
       "    }\n",
       "\n",
       "    .dataframe tbody tr th {\n",
       "        vertical-align: top;\n",
       "    }\n",
       "\n",
       "    .dataframe thead th {\n",
       "        text-align: right;\n",
       "    }\n",
       "</style>\n",
       "<table border=\"1\" class=\"dataframe\">\n",
       "  <thead>\n",
       "    <tr style=\"text-align: right;\">\n",
       "      <th></th>\n",
       "      <th>0</th>\n",
       "      <th>1</th>\n",
       "      <th>2</th>\n",
       "    </tr>\n",
       "  </thead>\n",
       "  <tbody>\n",
       "    <tr>\n",
       "      <th>0001377647</th>\n",
       "      <td>2.0</td>\n",
       "      <td>1.0</td>\n",
       "      <td>2.0</td>\n",
       "    </tr>\n",
       "    <tr>\n",
       "      <th>B0013G1WF2</th>\n",
       "      <td>1.0</td>\n",
       "      <td>0.0</td>\n",
       "      <td>1.0</td>\n",
       "    </tr>\n",
       "    <tr>\n",
       "      <th>B0013G1WTS</th>\n",
       "      <td>2.0</td>\n",
       "      <td>1.0</td>\n",
       "      <td>1.0</td>\n",
       "    </tr>\n",
       "    <tr>\n",
       "      <th>B000W1AO4Y</th>\n",
       "      <td>1.0</td>\n",
       "      <td>1.0</td>\n",
       "      <td>2.0</td>\n",
       "    </tr>\n",
       "    <tr>\n",
       "      <th>B00AYSRFL0</th>\n",
       "      <td>1.0</td>\n",
       "      <td>1.0</td>\n",
       "      <td>2.0</td>\n",
       "    </tr>\n",
       "  </tbody>\n",
       "</table>\n",
       "</div>"
      ],
      "text/plain": [
       "              0    1    2\n",
       "0001377647  2.0  1.0  2.0\n",
       "B0013G1WF2  1.0  0.0  1.0\n",
       "B0013G1WTS  2.0  1.0  1.0\n",
       "B000W1AO4Y  1.0  1.0  2.0\n",
       "B00AYSRFL0  1.0  1.0  2.0"
      ]
     },
     "execution_count": 66,
     "metadata": {},
     "output_type": "execute_result"
    }
   ],
   "source": [
    "user_trimestre_interactions.head()"
   ]
  },
  {
   "cell_type": "code",
   "execution_count": 67,
   "metadata": {},
   "outputs": [
    {
     "data": {
      "text/plain": [
       "[(Timestamp('2014-01-01 00:00:00'),\n",
       "  Timestamp('2014-06-30 00:00:00', freq='6M'))]"
      ]
     },
     "execution_count": 67,
     "metadata": {},
     "output_type": "execute_result"
    }
   ],
   "source": [
    "semestres"
   ]
  },
  {
   "cell_type": "code",
   "execution_count": 68,
   "metadata": {},
   "outputs": [
    {
     "data": {
      "text/html": [
       "<div>\n",
       "<style scoped>\n",
       "    .dataframe tbody tr th:only-of-type {\n",
       "        vertical-align: middle;\n",
       "    }\n",
       "\n",
       "    .dataframe tbody tr th {\n",
       "        vertical-align: top;\n",
       "    }\n",
       "\n",
       "    .dataframe thead th {\n",
       "        text-align: right;\n",
       "    }\n",
       "</style>\n",
       "<table border=\"1\" class=\"dataframe\">\n",
       "  <thead>\n",
       "    <tr style=\"text-align: right;\">\n",
       "      <th></th>\n",
       "      <th>0</th>\n",
       "      <th>1</th>\n",
       "    </tr>\n",
       "  </thead>\n",
       "  <tbody>\n",
       "    <tr>\n",
       "      <th>0001377647</th>\n",
       "      <td>3.0</td>\n",
       "      <td>2.0</td>\n",
       "    </tr>\n",
       "    <tr>\n",
       "      <th>B0013G1WF2</th>\n",
       "      <td>1.0</td>\n",
       "      <td>1.0</td>\n",
       "    </tr>\n",
       "    <tr>\n",
       "      <th>B0013G1WTS</th>\n",
       "      <td>3.0</td>\n",
       "      <td>1.0</td>\n",
       "    </tr>\n",
       "    <tr>\n",
       "      <th>B000W1AO4Y</th>\n",
       "      <td>2.0</td>\n",
       "      <td>2.0</td>\n",
       "    </tr>\n",
       "    <tr>\n",
       "      <th>B00AYSRFL0</th>\n",
       "      <td>2.0</td>\n",
       "      <td>2.0</td>\n",
       "    </tr>\n",
       "  </tbody>\n",
       "</table>\n",
       "</div>"
      ],
      "text/plain": [
       "              0    1\n",
       "0001377647  3.0  2.0\n",
       "B0013G1WF2  1.0  1.0\n",
       "B0013G1WTS  3.0  1.0\n",
       "B000W1AO4Y  2.0  2.0\n",
       "B00AYSRFL0  2.0  2.0"
      ]
     },
     "execution_count": 68,
     "metadata": {},
     "output_type": "execute_result"
    }
   ],
   "source": [
    "user_semestre_interactions.head()"
   ]
  },
  {
   "cell_type": "code",
   "execution_count": 69,
   "metadata": {},
   "outputs": [
    {
     "data": {
      "image/png": "[encoded data removed]",
      "text/plain": [
       "<Figure size 640x480 with 3 Axes>"
      ]
     },
     "metadata": {},
     "output_type": "display_data"
    }
   ],
   "source": [
    "# plotting user frequency distribution\n",
    "plot_user_presence_distribution(user_presence_df, dataset_name)"
   ]
  },
  {
   "cell_type": "code",
   "execution_count": 70,
   "metadata": {},
   "outputs": [
    {
     "data": {
      "text/plain": [
       "Index(['user_id', 'date', 'count'], dtype='object')"
      ]
     },
     "execution_count": 70,
     "metadata": {},
     "output_type": "execute_result"
    }
   ],
   "source": [
    "user_month_interactions.columns"
   ]
  },
  {
   "cell_type": "code",
   "execution_count": 75,
   "metadata": {},
   "outputs": [
    {
     "data": {
      "text/html": [
       "<div>\n",
       "<style scoped>\n",
       "    .dataframe tbody tr th:only-of-type {\n",
       "        vertical-align: middle;\n",
       "    }\n",
       "\n",
       "    .dataframe tbody tr th {\n",
       "        vertical-align: top;\n",
       "    }\n",
       "\n",
       "    .dataframe thead th {\n",
       "        text-align: right;\n",
       "    }\n",
       "</style>\n",
       "<table border=\"1\" class=\"dataframe\">\n",
       "  <thead>\n",
       "    <tr style=\"text-align: right;\">\n",
       "      <th></th>\n",
       "      <th>index</th>\n",
       "      <th>0</th>\n",
       "      <th>1</th>\n",
       "      <th>2</th>\n",
       "    </tr>\n",
       "  </thead>\n",
       "  <tbody>\n",
       "    <tr>\n",
       "      <th>0</th>\n",
       "      <td>0001377647</td>\n",
       "      <td>2.0</td>\n",
       "      <td>1.0</td>\n",
       "      <td>2.0</td>\n",
       "    </tr>\n",
       "    <tr>\n",
       "      <th>1</th>\n",
       "      <td>B0013G1WF2</td>\n",
       "      <td>1.0</td>\n",
       "      <td>0.0</td>\n",
       "      <td>1.0</td>\n",
       "    </tr>\n",
       "    <tr>\n",
       "      <th>2</th>\n",
       "      <td>B0013G1WTS</td>\n",
       "      <td>2.0</td>\n",
       "      <td>1.0</td>\n",
       "      <td>1.0</td>\n",
       "    </tr>\n",
       "    <tr>\n",
       "      <th>3</th>\n",
       "      <td>B000W1AO4Y</td>\n",
       "      <td>1.0</td>\n",
       "      <td>1.0</td>\n",
       "      <td>2.0</td>\n",
       "    </tr>\n",
       "    <tr>\n",
       "      <th>4</th>\n",
       "      <td>B00AYSRFL0</td>\n",
       "      <td>1.0</td>\n",
       "      <td>1.0</td>\n",
       "      <td>2.0</td>\n",
       "    </tr>\n",
       "    <tr>\n",
       "      <th>...</th>\n",
       "      <td>...</td>\n",
       "      <td>...</td>\n",
       "      <td>...</td>\n",
       "      <td>...</td>\n",
       "    </tr>\n",
       "    <tr>\n",
       "      <th>19845</th>\n",
       "      <td>B007IUFDAC</td>\n",
       "      <td>0.0</td>\n",
       "      <td>0.0</td>\n",
       "      <td>1.0</td>\n",
       "    </tr>\n",
       "    <tr>\n",
       "      <th>19846</th>\n",
       "      <td>B00IJBOTU4</td>\n",
       "      <td>0.0</td>\n",
       "      <td>0.0</td>\n",
       "      <td>1.0</td>\n",
       "    </tr>\n",
       "    <tr>\n",
       "      <th>19847</th>\n",
       "      <td>B001411UDU</td>\n",
       "      <td>0.0</td>\n",
       "      <td>0.0</td>\n",
       "      <td>1.0</td>\n",
       "    </tr>\n",
       "    <tr>\n",
       "      <th>19848</th>\n",
       "      <td>B007JOMCE2</td>\n",
       "      <td>0.0</td>\n",
       "      <td>0.0</td>\n",
       "      <td>1.0</td>\n",
       "    </tr>\n",
       "    <tr>\n",
       "      <th>19849</th>\n",
       "      <td>B001GYSBOQ</td>\n",
       "      <td>0.0</td>\n",
       "      <td>0.0</td>\n",
       "      <td>1.0</td>\n",
       "    </tr>\n",
       "  </tbody>\n",
       "</table>\n",
       "<p>19850 rows × 4 columns</p>\n",
       "</div>"
      ],
      "text/plain": [
       "            index    0    1    2\n",
       "0      0001377647  2.0  1.0  2.0\n",
       "1      B0013G1WF2  1.0  0.0  1.0\n",
       "2      B0013G1WTS  2.0  1.0  1.0\n",
       "3      B000W1AO4Y  1.0  1.0  2.0\n",
       "4      B00AYSRFL0  1.0  1.0  2.0\n",
       "...           ...  ...  ...  ...\n",
       "19845  B007IUFDAC  0.0  0.0  1.0\n",
       "19846  B00IJBOTU4  0.0  0.0  1.0\n",
       "19847  B001411UDU  0.0  0.0  1.0\n",
       "19848  B007JOMCE2  0.0  0.0  1.0\n",
       "19849  B001GYSBOQ  0.0  0.0  1.0\n",
       "\n",
       "[19850 rows x 4 columns]"
      ]
     },
     "execution_count": 75,
     "metadata": {},
     "output_type": "execute_result"
    }
   ],
   "source": [
    "user_trimestre_interactions.reset_index()"
   ]
  },
  {
   "cell_type": "code",
   "execution_count": 77,
   "metadata": {},
   "outputs": [
    {
     "name": "stdout",
     "output_type": "stream",
     "text": [
      "CPU times: total: 375 ms\n",
      "Wall time: 618 ms\n"
     ]
    }
   ],
   "source": [
    "%%time\n",
    "# 5min 2s\n",
    "# user_presence_df, user_month_interactions = get_interactions_info(data=data, user_col=user_col)\n",
    "\n",
    "# new sample\n",
    "user_presence_df.to_csv('output/amazon_digmusic_dump/sample_user_presence_df.csv', index=False)\n",
    "user_month_interactions.to_csv('output/amazon_digmusic_dump/sample_user_month_interactions.csv', index=False)\n"
   ]
  },
  {
   "cell_type": "code",
   "execution_count": 86,
   "metadata": {},
   "outputs": [
    {
     "data": {
      "text/plain": [
       "['output/amazon_digmusic_dump/sample_semestres.joblib']"
      ]
     },
     "execution_count": 86,
     "metadata": {},
     "output_type": "execute_result"
    }
   ],
   "source": [
    "joblib.dump(trimestres, 'output/amazon_digmusic_dump/sample_trimestres.joblib')\n",
    "joblib.dump(semestres, 'output/amazon_digmusic_dump/sample_semestres.joblib')"
   ]
  },
  {
   "cell_type": "code",
   "execution_count": 78,
   "metadata": {},
   "outputs": [
    {
     "data": {
      "image/png": "[encoded data removed]",
      "text/plain": [
       "<Figure size 640x480 with 3 Axes>"
      ]
     },
     "metadata": {},
     "output_type": "display_data"
    }
   ],
   "source": [
    "# plotting user frequency distribution\n",
    "plot_user_presence_distribution(user_presence_df, dataset_name=dataset_name)"
   ]
  },
  {
   "cell_type": "markdown",
   "metadata": {},
   "source": [
    "How many examples are there per quarter and semester?"
   ]
  },
  {
   "cell_type": "code",
   "execution_count": 79,
   "metadata": {},
   "outputs": [
    {
     "data": {
      "image/png": "[encoded data removed]",
      "text/plain": [
       "<Figure size 600x1000 with 1 Axes>"
      ]
     },
     "metadata": {},
     "output_type": "display_data"
    }
   ],
   "source": [
    "plot_interactions_per_qns(user_interactions=user_trimestre_interactions, \n",
    "                          date_range=trimestres, \n",
    "                          dataset_name=dataset_name, \n",
    "                          type_of_range='quarter')"
   ]
  },
  {
   "cell_type": "code",
   "execution_count": 80,
   "metadata": {},
   "outputs": [
    {
     "data": {
      "image/png": "[encoded data removed]",
      "text/plain": [
       "<Figure size 600x1000 with 1 Axes>"
      ]
     },
     "metadata": {},
     "output_type": "display_data"
    }
   ],
   "source": [
    "plot_interactions_per_qns(user_interactions=user_semestre_interactions, \n",
    "                          date_range=semestres,\n",
    "                          dataset_name=dataset_name,\n",
    "                          type_of_range='semester')"
   ]
  },
  {
   "cell_type": "markdown",
   "metadata": {},
   "source": [
    "How many FREQUENT users (occur in 80% or more intervals) exist?"
   ]
  },
  {
   "cell_type": "code",
   "execution_count": 81,
   "metadata": {},
   "outputs": [],
   "source": [
    "# defining threshold\n",
    "frequency_threshold = 1"
   ]
  },
  {
   "cell_type": "code",
   "execution_count": 87,
   "metadata": {},
   "outputs": [
    {
     "name": "stdout",
     "output_type": "stream",
     "text": [
      "249 users of 19850 (1.254%) occurr in 100% or more months.\n",
      "3631 users of 19850 (18.292%) occurr in 100% or more quarters.\n",
      "9049 users of 19850 (45.587%) occurr in 100% or more semesters.\n"
     ]
    }
   ],
   "source": [
    "# frequent_users_month, frequent_users_trimestre, frequent_users_semestre = get_frequent_users(user_presence_df, frequency_threshold=frequency_threshold)\n",
    "frequent_users = get_frequent_users(user_presence_df, frequency_threshold=frequency_threshold)"
   ]
  },
  {
   "cell_type": "code",
   "execution_count": 88,
   "metadata": {},
   "outputs": [
    {
     "data": {
      "text/plain": [
       "(array(['B00CRMX53S', 'B007V5XV30', 'B00GB1OY54', 'B00DW22TSO',\n",
       "        'B00EI6E17A', 'B009XJVKIU', 'B00137KH9S', 'B00F0AIE4E',\n",
       "        'B00C6MPTT2', 'B0011Z77TA', 'B00GX9DUGS', 'B001KUU7X4',\n",
       "        'B00GHS2KAM', 'B00CDX0UKC', 'B009G78L9U', 'B0099G7KDQ',\n",
       "        'B007QNRC3W', 'B009VLX8FS', 'B001VFSNYS', 'B007QNRBRY',\n",
       "        'B0046X7VAO', 'B005F1WJ62', 'B00137IJUM', 'B00DH72Y7U',\n",
       "        'B00AHXDKO8', 'B0011Z310Y', 'B00FWJ99LK', 'B00ELD1RPY',\n",
       "        'B006Z1XZFK', 'B002EX1EHY', 'B00F0AIBJC', 'B006ZDSAY4',\n",
       "        'B00BWGHIHY', 'B00137KRYS', 'B001EJH4SW', 'B000SZBPAQ',\n",
       "        'B0011Z8O2O', 'B0011Z8OFG', 'B00FSZZTXK', 'B00AAAKHZ8',\n",
       "        'B00330UFQS', 'B00A7ZXBE0', 'B006H1ME5A', 'B00GBKIOWY',\n",
       "        'B00H28284O', 'B00330WKMA', 'B00E4AQH68', 'B00A3M6PFY',\n",
       "        'B01929H4VM', 'B00FW660EW', 'B00C0NFPTQ', 'B00DYLVD62',\n",
       "        'B00970FKQ8', 'B00G7IXSNA', 'B000UQYT5Q', 'B00GG3OYMK',\n",
       "        'B00AU1L44K', 'B0038YID1S', 'B00973AF0G', 'B009G8GTFM',\n",
       "        'B004KBTH8G', 'B00C6MPHBC', 'B009LUCNXW', 'B001GFKIBE',\n",
       "        'B002X9RH2K', 'B00136LQQ2', 'B00GBKI2OE', 'B00H4KX4IY',\n",
       "        'B00136LRVG', 'B009KGKF3M', 'B00FHAB46C', 'B009KUAOH0',\n",
       "        'B00AAAKH80', 'B009KUA7AE', 'B00DIM3WD4', 'B002IEW504',\n",
       "        'B00BXGWR56', 'B00CMIUNXM', 'B00CMIUOPE', 'B002BPH1F4',\n",
       "        'B00GR0FY80', 'B00DE0NKRS', 'B00B113C0C', 'B00DDFC0D4',\n",
       "        'B004EI3ON4', 'B002B2U6TU', 'B00E5Z8CI8', 'B0055HVX7W',\n",
       "        'B00GURQ3BW', 'B00CNYZV3M', 'B00EDTHC7S', 'B00G725PDW',\n",
       "        'B003R8FBP6', 'B00HFWYCAK', 'B00HFWYA3E', 'B00BEQZ5J0',\n",
       "        'B00GK8KIOY', 'B00CRMX4CA', 'B00E91QA9Q', 'B0043ZDFEQ',\n",
       "        'B00B6HWOSM', 'B0043X6AMW', 'B00G2IAIVK', 'B004BKN7I2',\n",
       "        'B00GLP4AJK', 'B00DH72QZA', 'B00QNK6PZ0', 'B00GLP4BL2',\n",
       "        'B00GK8KJ0C', 'B00B931GMI', 'B00EE0O6HU', 'B00B113E0U',\n",
       "        'B002R1MRLA', 'B000S51XMQ', 'B00HRN0C7E', 'B003VXHTG6',\n",
       "        'B002NQTG5Y', 'B002HP8EKE', 'B00GUDGB4K', 'B00DHQ208Y',\n",
       "        'B00HNEQS3E', 'B00H9B2REU', 'B00GLP4DMO', 'B00GLP4GC6',\n",
       "        'B00G4M9L1C', 'B000T006RI', 'B00G7HG10I', 'B00B6CDOFO',\n",
       "        'B0048YE6LS', 'B00BEBM9JY', 'B004XNDZQQ', 'B00GLP4JP0',\n",
       "        'B005A1ER0I', 'B000WLTMPQ', 'B00RYGLWQ4', 'B00DE3QDKG',\n",
       "        'B00G3J0CU0', 'B00CYQMD94', 'B001RN98N4', 'B00CZF8B68',\n",
       "        'B003Y3ZTKG', 'B00B9ZI5PC', 'B0063BT8G2', 'B00EB874SI',\n",
       "        'B00HNIEQNE', 'B00D23K3OK', 'B003Y3XTJO', 'B003X73QA8',\n",
       "        'B000T1EJ0W', 'B007ZMC3UG', 'B00BZIOAOS', '9714721180',\n",
       "        'B00GJ8H168', 'B00GDL60JU', 'B001NSP4TK', 'B001CKWT74',\n",
       "        'B0013KYZX4', 'B00CMAI3ZU', 'B002WMP162', 'B001CP3OZA',\n",
       "        'B00FZ11C0G', 'B007JCPEVM', 'B008E5YZ6S', 'B00ERMICY8',\n",
       "        'B0013HYLT0', 'B00940XDF6', 'B00EO9XY06', 'B0093DNVPG',\n",
       "        'B008GVTSL2', 'B00B09BGQW', 'B0093DNX04', 'B000V63C4Y',\n",
       "        'B00CJSHKEA', 'B00C5ZMMVI', 'B00GJ2N10O', 'B009G3T2T2',\n",
       "        'B000W1774O', 'B009ZKNATY', 'B001HEZVDE', 'B00FQ490HO',\n",
       "        'B005MVLI8A', 'B00HZ2PJMU', 'B0083EYC4A', 'B00I37M1QI',\n",
       "        'B00E20KQKI', 'B00136JF8I', 'B0092MKUNY', 'B00124BPBG',\n",
       "        'B0092MKTWQ', 'B009CRGC18', 'B0092MKTL2', 'B00FX8F6VM',\n",
       "        'B008MN9DFA', 'B00AN93Q0O', 'B007LE341K', 'B00136NUG6',\n",
       "        'B00FAEQ65Y', 'B00FAEPGA0', 'B000W239UY', 'B005QUXX3K',\n",
       "        'B00F9NF9O0', 'B00920DU6A', 'B00123F8Y2', 'B00FAEQ22G',\n",
       "        'B008U8I380', 'B00920DUW4', 'B008XCJ0KI', 'B00920DUI8',\n",
       "        'B00136NFOI', 'B008VPW9SM', 'B001CS12DS', 'B00136J7ZE',\n",
       "        'B00F94RZV4', 'B00F8PPB3I', 'B00DRDSNW4', 'B009ZKNA8A',\n",
       "        'B005T18DOK', 'B00FP1NNJY', 'B00FY9PGJ2', 'B009Y6WTBE',\n",
       "        'B00EOKQBHS', 'B00CBXKGO4', 'B00E0FP9MK', 'B004NYNGTQ',\n",
       "        'B009YZU3OU', '7799420340', 'B00EH49FRE', 'B009YUGQJ6',\n",
       "        'B00137MFWK', 'B00137MFXY', 'B006VRGLZY', 'B006Q77W8Y',\n",
       "        'B00CBUNUAO', 'B006VRG3K2', 'B0083EW97W', 'B009Z3PW38',\n",
       "        'B00FQS44O4', 'B00EYYBY3A', 'B0000041EV', 'B00136LEMS',\n",
       "        'B00A9937CU', 'B00EUM5T5K', 'B00138JCDO', 'B00BNXAA12',\n",
       "        'B00BPLGKDY', 'B00CJAGPQC', 'B007JOM5XA', 'B003HB9NPM',\n",
       "        'B00122IPBG'], dtype=object),\n",
       " array(['B00CRMX53S', 'B007V5XV30', 'B00GB1OY54', ..., 'B00H81HJVM',\n",
       "        'B004NA3NZC', 'B009FOAWJQ'], dtype=object),\n",
       " array(['B00CRMX53S', 'B007V5XV30', 'B00GB1OY54', ..., 'B00EOBL2C6',\n",
       "        'B00C5COS18', 'B004UPDK5S'], dtype=object))"
      ]
     },
     "execution_count": 88,
     "metadata": {},
     "output_type": "execute_result"
    }
   ],
   "source": [
    "frequent_users"
   ]
  },
  {
   "cell_type": "code",
   "execution_count": 90,
   "metadata": {},
   "outputs": [
    {
     "data": {
      "text/plain": [
       "['output/amazon_digmusic_dump/sample_frequent_users.joblib']"
      ]
     },
     "execution_count": 90,
     "metadata": {},
     "output_type": "execute_result"
    }
   ],
   "source": [
    "# old huge sample\n",
    "# joblib.dump(frequent_users_month, 'output/amazonbooks_dump/frequent_users_month.joblib')\n",
    "\n",
    "# new sample\n",
    "joblib.dump(frequent_users, 'output/amazon_digmusic_dump/sample_frequent_users.joblib')"
   ]
  },
  {
   "cell_type": "code",
   "execution_count": null,
   "metadata": {},
   "outputs": [],
   "source": []
  },
  {
   "cell_type": "code",
   "execution_count": null,
   "metadata": {},
   "outputs": [],
   "source": []
  }
 ],
 "metadata": {
  "kernelspec": {
   "display_name": "measuring_forgetting",
   "language": "python",
   "name": "python3"
  },
  "language_info": {
   "codemirror_mode": {
    "name": "ipython",
    "version": 3
   },
   "file_extension": ".py",
   "mimetype": "text/x-python",
   "name": "python",
   "nbconvert_exporter": "python",
   "pygments_lexer": "ipython3",
   "version": "3.9.18"
  }
 },
 "nbformat": 4,
 "nbformat_minor": 4
}
