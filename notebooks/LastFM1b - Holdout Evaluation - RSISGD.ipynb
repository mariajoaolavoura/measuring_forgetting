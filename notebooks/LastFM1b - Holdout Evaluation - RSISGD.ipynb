{
 "cells": [
  {
   "cell_type": "code",
   "execution_count": 1,
   "metadata": {},
   "outputs": [],
   "source": [
    "import os\n",
    "import sys\n",
    "sys.path.append(os.path.abspath('') + '/..')"
   ]
  },
  {
   "cell_type": "markdown",
   "metadata": {},
   "source": [
    "# imports"
   ]
  },
  {
   "cell_type": "code",
   "execution_count": 2,
   "metadata": {},
   "outputs": [],
   "source": [
    "import pandas as pd \n",
    "import joblib\n",
    "\n",
    "from data import ImplicitData, getBucketsHoldouts\n",
    "from eval_implicit import EvaluateHoldouts, EvalPrequential \n",
    "from recommenders_implicit import RSISGD\n",
    "\n",
    "from plot_utils import recall_heatmap\n",
    "from data_utils.transfer_learning_scores import *\n",
    "from dataset_evaluation_utils import * \n",
    "\n",
    "\n",
    "import seaborn as sns\n",
    "import matplotlib.pyplot as plt\n",
    "sns.set_style('whitegrid')\n",
    "\n",
    "# import plotly.offline as py\n",
    "# pd.options.plotting.backend = \"plotly\"\n",
    "# py.init_notebook_mode() # graphs charts inline (IPython).\n",
    "\n",
    "a4_dims = (11.7, 8.27)"
   ]
  },
  {
   "cell_type": "markdown",
   "metadata": {},
   "source": [
    "# functions"
   ]
  },
  {
   "cell_type": "code",
   "execution_count": 3,
   "metadata": {},
   "outputs": [],
   "source": [
    "def run_evaluate_RSISGD(data:pd.DataFrame,\n",
    "                        interval_type:str, \n",
    "                        intervals_path:str, \n",
    "                        use_data_unique_users:bool,\n",
    "                        frequent_users_path:str,\n",
    "                        buckets_path:str,\n",
    "                        holdouts_path:str,\n",
    "                        cold_start_buckets:int,\n",
    "                        to_grid_search:bool,\n",
    "                        num_factors:int,\n",
    "                        num_iter:int,\n",
    "                        learn_rate:float,\n",
    "                        regularization:float,\n",
    "                        random_seed:int,\n",
    "                        results_matrix_path:str,\n",
    "                        recall_heatmap_title:str,\n",
    "                        recall_heatmap_path:str,\n",
    "                        incrementalTraining_time_record_path:str,\n",
    "                        evaluateHoldouts_time_record_path:str,\n",
    "                        eval_files_path:str, \n",
    "                        save_eval_files:bool,\n",
    "                        user_col:str = 'user_id',\n",
    "                        item_col:str = 'item_id'):\n",
    "    '''\n",
    "        data: pd.DataFrame, assumes columns ['user_id', 'item_id', 'date', 'timestamp']\n",
    "        interval_type: string | M, Q, S\n",
    "\n",
    "    '''\n",
    "\n",
    "    \n",
    "    frequent_users = joblib.load(frequent_users_path)\n",
    "    frequent_users_idx = None\n",
    "\n",
    "    if interval_type=='Q':\n",
    "        frequent_users_idx = 1\n",
    "        interval_type ='QS'\n",
    "        intervals = joblib.load(intervals_path)\n",
    "\n",
    "        frequent_users[frequent_users_idx] = list(map(int, frequent_users[frequent_users_idx]))\n",
    "\n",
    "        if use_data_unique_users:\n",
    "            frequent_users = (frequent_users[0], data[user_col].unique(), frequent_users[2])\n",
    "\n",
    "    elif interval_type=='S':\n",
    "        frequent_users_idx = 2\n",
    "        interval_type ='QS'\n",
    "        intervals = joblib.load(intervals_path)\n",
    "\n",
    "        frequent_users[frequent_users_idx] = list(map(int, frequent_users[frequent_users_idx]))\n",
    "\n",
    "        if use_data_unique_users:\n",
    "            frequent_users = (frequent_users[0], frequent_users[1], data[user_col].unique())\n",
    "\n",
    "    else:\n",
    "        # assumes monthly interval\n",
    "        interval_type = 'M'\n",
    "        frequent_users_idx = 0 \n",
    "        intervals = None   \n",
    "\n",
    "        frequent_users[frequent_users_idx] = list(map(int, frequent_users[frequent_users_idx]))\n",
    "        \n",
    "        if use_data_unique_users:\n",
    "            frequent_users = (data[user_col].unique(), frequent_users[1], frequent_users[2])\n",
    "        \n",
    "    \n",
    "    \n",
    "\n",
    "    print('\\nSTAGE -> getBucketsHoldouts')\n",
    "    buckets, holdouts = getBucketsHoldouts( data = data,\n",
    "                                            user_col = user_col,\n",
    "                                            item_col = item_col,\n",
    "                                            frequent_users = frequent_users[frequent_users_idx],\n",
    "                                            interval_type = interval_type,\n",
    "                                            intervals = intervals, \n",
    "                                            cold_start_buckets = cold_start_buckets)\n",
    "    \n",
    "\n",
    "    joblib.dump(buckets, buckets_path)\n",
    "    joblib.dump(holdouts, holdouts_path)\n",
    "    \n",
    "    print('\\nBucket size, number of users, number of items\\n', [(b.size, len(b.userset), len(b.itemset)) for b in buckets])\n",
    "    print('Holdouts size, number of users, number of items\\n', [(h.size, len(h.userset), len(h.itemset)) for h in holdouts])\n",
    "\n",
    "\n",
    "    print('\\n\\nSTAGE -> to_grid_search')\n",
    "    if to_grid_search:\n",
    "        prop = 0.05 \n",
    "        hp_sample = data.iloc[:round( data.shape[0]*prop )]\n",
    "        stream = ImplicitData(hp_sample[user_col], hp_sample[item_col]) \n",
    "        grid, results = grid_search(model = RSISGD, \n",
    "                                    stream = stream, \n",
    "                                    random_seed = random_seed, \n",
    "                                    interleaved = 100 )\n",
    "        num_factors, num_iter, learn_rate, regularization, _ = grid[ np.argmax( results ) ]\n",
    "\n",
    "    print('num_factors, num_iter, learn_rate, regularization\\n', (num_factors, num_iter, learn_rate, regularization))\n",
    "\n",
    "    print('\\n\\nSTAGE -> RSISGD model')\n",
    "    empty_stream = ImplicitData([], [])\n",
    "    model = RSISGD(empty_stream, \n",
    "                num_factors, \n",
    "                num_iter, \n",
    "                learn_rate = learn_rate,\n",
    "                u_regularization = regularization,\n",
    "                i_regularization = regularization,\n",
    "                random_seed = random_seed) # default ,ra_length=1\n",
    "    \n",
    "\n",
    "\n",
    "    print('\\n\\nSTAGE -> EvaluateHoldouts')\n",
    "    eval = EvaluateHoldouts(model = model,\n",
    "                            buckets = buckets,\n",
    "                            holdouts = holdouts)\n",
    "    \n",
    "    if save_eval_files:\n",
    "        eval.Train_Evaluate_Save(eval_files_path, N_recommendations=20, exclude_known_items=True, default_user='none')\n",
    "    else:\n",
    "        eval.Train_Evaluate(N_recommendations=20, exclude_known_items=True, default_user='none')\n",
    "\n",
    "    rm = eval.results_matrix\n",
    "    rm_df = pd.DataFrame(rm)\n",
    "    rm_df.to_csv(results_matrix_path, index=False)\n",
    "    print(rm_df)\n",
    "\n",
    "    recall_heatmap( rm_df,\n",
    "                    round_point = 4,\n",
    "                    title = recall_heatmap_title,\n",
    "                    filepath = recall_heatmap_path) \n",
    "    \n",
    "\n",
    "    print('\\n\\nstage -> metrics')    \n",
    "    arecall = avg_recall(rm_df)\n",
    "    BWT_lr, meanBWT_lr = compute_BWT_lopes_ranzato(rm_df)\n",
    "    BWT_r, meanBWT_r = compute_BWT_rodrigues(rm_df)\n",
    "    FWT_r = compute_FWT_rodrigues(rm_df)\n",
    "\n",
    "    print('avg recall', arecall.round(6))\n",
    "    print('BWT (v. Lopez-Paz e Ranzato GEM 2017), meanBWT', (BWT_lr, meanBWT_lr))\n",
    "    print('BWT (v. Díaz-Rodriguez et al. 2018), meanBWT', (BWT_r, meanBWT_r))\n",
    "    print('FWT', FWT_r.round(6))\n",
    "\n",
    "    joblib.dump(eval.IncrementalTraining_time_record, incrementalTraining_time_record_path)\n",
    "    joblib.dump(eval.EvaluateHoldouts_time_record, evaluateHoldouts_time_record_path)\n",
    "\n",
    "\n",
    "    return rm_df, arecall, (BWT_lr, meanBWT_lr), (BWT_r, meanBWT_r), FWT_r\n",
    "\n",
    "\n",
    "def print_heatmap(results_matrix_path, recall_heatmap_title, filepath=False):\n",
    "    rm_df = pd.read_csv(results_matrix_path)\n",
    "    recall_heatmap( rm_df,\n",
    "                    round_point = 4,\n",
    "                    title = recall_heatmap_title,\n",
    "                    filepath = filepath) \n"
   ]
  },
  {
   "cell_type": "markdown",
   "metadata": {},
   "source": [
    "# model name"
   ]
  },
  {
   "cell_type": "code",
   "execution_count": 4,
   "metadata": {},
   "outputs": [],
   "source": [
    "MODEL_NAME = 'RSISGD'"
   ]
  },
  {
   "cell_type": "markdown",
   "metadata": {},
   "source": [
    "# paths"
   ]
  },
  {
   "cell_type": "code",
   "execution_count": 5,
   "metadata": {},
   "outputs": [],
   "source": [
    "dataset_folderpath = '../datasets/lastfm1b/'\n",
    "\n",
    "dataset_name = 'LastFM1b'\n",
    "\n",
    "dump_foldername ='lastfm1b_dump/'\n",
    "_, base_outputpath, _, _, _ = get_folderpaths(dump_foldername)\n",
    "\n",
    "\n",
    "period=['2011-07', '2014-01']\n",
    "sample = 'sample_'+str(period[0])+'_until_'+str(period[1])\n",
    "\n",
    "sample_version_dump_foldername=dump_foldername+sample+'/'\n",
    "filename = 'tracks_inter_merged_coldstart_11M'\n",
    "\n",
    "\n",
    "# rule: what/which_data_set/sample_version/what/\n",
    "images_path, output_path, heatmaps_path, diversity_graphpath, diversity_filepath = get_folderpaths(sample_version_dump_foldername)"
   ]
  },
  {
   "cell_type": "markdown",
   "metadata": {},
   "source": [
    "# load data"
   ]
  },
  {
   "cell_type": "code",
   "execution_count": 6,
   "metadata": {},
   "outputs": [
    {
     "data": {
      "text/html": [
       "<div>\n",
       "<style scoped>\n",
       "    .dataframe tbody tr th:only-of-type {\n",
       "        vertical-align: middle;\n",
       "    }\n",
       "\n",
       "    .dataframe tbody tr th {\n",
       "        vertical-align: top;\n",
       "    }\n",
       "\n",
       "    .dataframe thead th {\n",
       "        text-align: right;\n",
       "    }\n",
       "</style>\n",
       "<table border=\"1\" class=\"dataframe\">\n",
       "  <thead>\n",
       "    <tr style=\"text-align: right;\">\n",
       "      <th></th>\n",
       "      <th>user_id</th>\n",
       "      <th>book_id</th>\n",
       "      <th>timestamp</th>\n",
       "      <th>date</th>\n",
       "    </tr>\n",
       "  </thead>\n",
       "  <tbody>\n",
       "    <tr>\n",
       "      <th>205</th>\n",
       "      <td>8842281e1d1347389f2ab93d60773d4d</td>\n",
       "      <td>25019</td>\n",
       "      <td>1.420088e+09</td>\n",
       "      <td>2015-01-01</td>\n",
       "    </tr>\n",
       "    <tr>\n",
       "      <th>216</th>\n",
       "      <td>8842281e1d1347389f2ab93d60773d4d</td>\n",
       "      <td>1969280</td>\n",
       "      <td>1.414814e+09</td>\n",
       "      <td>2014-11-01</td>\n",
       "    </tr>\n",
       "    <tr>\n",
       "      <th>217</th>\n",
       "      <td>8842281e1d1347389f2ab93d60773d4d</td>\n",
       "      <td>17290220</td>\n",
       "      <td>1.414814e+09</td>\n",
       "      <td>2014-11-01</td>\n",
       "    </tr>\n",
       "    <tr>\n",
       "      <th>219</th>\n",
       "      <td>8842281e1d1347389f2ab93d60773d4d</td>\n",
       "      <td>6882</td>\n",
       "      <td>1.412136e+09</td>\n",
       "      <td>2014-10-01</td>\n",
       "    </tr>\n",
       "    <tr>\n",
       "      <th>220</th>\n",
       "      <td>8842281e1d1347389f2ab93d60773d4d</td>\n",
       "      <td>6954929</td>\n",
       "      <td>1.412136e+09</td>\n",
       "      <td>2014-10-01</td>\n",
       "    </tr>\n",
       "  </tbody>\n",
       "</table>\n",
       "</div>"
      ],
      "text/plain": [
       "                              user_id   book_id     timestamp       date\n",
       "205  8842281e1d1347389f2ab93d60773d4d     25019  1.420088e+09 2015-01-01\n",
       "216  8842281e1d1347389f2ab93d60773d4d   1969280  1.414814e+09 2014-11-01\n",
       "217  8842281e1d1347389f2ab93d60773d4d  17290220  1.414814e+09 2014-11-01\n",
       "219  8842281e1d1347389f2ab93d60773d4d      6882  1.412136e+09 2014-10-01\n",
       "220  8842281e1d1347389f2ab93d60773d4d   6954929  1.412136e+09 2014-10-01"
      ]
     },
     "execution_count": 6,
     "metadata": {},
     "output_type": "execute_result"
    }
   ],
   "source": [
    "interactions_df = pd.read_csv(output_path+filename+'_interactions_df.csv', index_col=0)\n",
    "interactions_df['date'] = interactions_df['date'].apply(lambda x: datetime.strptime(x, '%Y-%m-%d'))\n",
    "interactions_df.head()"
   ]
  },
  {
   "cell_type": "code",
   "execution_count": 7,
   "metadata": {},
   "outputs": [],
   "source": [
    "interactions_df.columns = ['user_id','item_id','timestamp','date']"
   ]
  },
  {
   "cell_type": "code",
   "execution_count": 8,
   "metadata": {},
   "outputs": [],
   "source": [
    "sample_year_month = [(period[0], '%Y-%m'), (period[1], '%Y-%m')]\n",
    "interval_type = 'S'\n",
    "\n",
    "use_data_unique_users = False\n",
    "frequent_users_thr = 0.75\n",
    "cold_start_buckets = 1\n",
    "to_grid_search = False\n",
    "num_factors = 100\n",
    "num_iter = 6\n",
    "learn_rate = 0.1\n",
    "regularization = 0.1\n",
    "random_seed = 10"
   ]
  },
  {
   "cell_type": "code",
   "execution_count": 9,
   "metadata": {},
   "outputs": [
    {
     "data": {
      "text/plain": [
       "'output/goodreads_dump/pos_rates_only/sample_2012-07_until_2015-01/inter_dedup_coldstart_3stars_4x714k'"
      ]
     },
     "execution_count": 9,
     "metadata": {},
     "output_type": "execute_result"
    }
   ],
   "source": [
    "output_path+filename"
   ]
  },
  {
   "cell_type": "code",
   "execution_count": 10,
   "metadata": {},
   "outputs": [
    {
     "data": {
      "text/plain": [
       "'output/goodreads_dump/pos_rates_only/sample_2012-07_until_2015-01/diversity_eval/'"
      ]
     },
     "execution_count": 10,
     "metadata": {},
     "output_type": "execute_result"
    }
   ],
   "source": [
    "diversity_filepath"
   ]
  },
  {
   "cell_type": "code",
   "execution_count": 11,
   "metadata": {},
   "outputs": [
    {
     "data": {
      "text/plain": [
       "'output/goodreads_dump/pos_rates_only/sample_2012-07_until_2015-01/diversity_eval/RSISGD/inter_dedup_coldstart_3stars_4x714k'"
      ]
     },
     "execution_count": 11,
     "metadata": {},
     "output_type": "execute_result"
    }
   ],
   "source": [
    "diversity_filepath+MODEL_NAME+'/'+filename"
   ]
  },
  {
   "cell_type": "markdown",
   "metadata": {},
   "source": [
    "# run evaluate"
   ]
  },
  {
   "cell_type": "code",
   "execution_count": 12,
   "metadata": {},
   "outputs": [
    {
     "name": "stdout",
     "output_type": "stream",
     "text": [
      "\n",
      "STAGE -> getBucketsHoldouts\n",
      "Creating buckets. . .\n",
      "Creating holdouts. . .\n",
      "cold start bucket\n",
      "Cleaning holdouts. . .\n",
      "common interactions between holdout 1 and all buckets: 0\n",
      "common interactions between holdout 2 and all buckets: 0\n",
      "common interactions between holdout 3 and all buckets: 0\n",
      "common interactions between holdout 4 and all buckets: 0\n",
      "common interactions between holdout 5 and all buckets: 0\n",
      "Converting to ImplicitData. . .\n",
      "Done!\n",
      "\n",
      "Bucket size, number of users, number of items\n",
      " [(120592, 4080, 47541), (83141, 3802, 38873), (61664, 3546, 33597), (60119, 3472, 34717), (51815, 3235, 32516), (9713, 1513, 7898)]\n",
      "Holdouts size, number of users, number of items\n",
      " [(2354, 2354, 1940), (2367, 2367, 2014), (2380, 2380, 1999), (2368, 2368, 2010), (1616, 1616, 1408)]\n",
      "\n",
      "\n",
      "STAGE -> to_grid_search\n",
      "num_factors, num_iter, learn_rate, regularization\n",
      " (100, 6, 0.1, 0.1)\n",
      "\n",
      "\n",
      "STAGE -> RSISGD model\n",
      "\n",
      "\n",
      "STAGE -> EvaluateHoldouts\n",
      "----------------------------------------------------------------------------------------------------\n",
      "Train bucket 0\n",
      "----------------------------------------------------------------------------------------------------\n",
      "Train bucket 1\n",
      "Test Holdout 0\n",
      "Test Holdout 1\n",
      "Test Holdout 2\n",
      "Test Holdout 3\n",
      "Test Holdout 4\n",
      "----------------------------------------------------------------------------------------------------\n",
      "Train bucket 2\n",
      "Test Holdout 0\n",
      "Test Holdout 1\n",
      "Test Holdout 2\n",
      "Test Holdout 3\n",
      "Test Holdout 4\n",
      "----------------------------------------------------------------------------------------------------\n",
      "Train bucket 3\n",
      "Test Holdout 0\n",
      "Test Holdout 1\n",
      "Test Holdout 2\n",
      "Test Holdout 3\n",
      "Test Holdout 4\n",
      "----------------------------------------------------------------------------------------------------\n",
      "Train bucket 4\n",
      "Test Holdout 0\n",
      "Test Holdout 1\n",
      "Test Holdout 2\n",
      "Test Holdout 3\n",
      "Test Holdout 4\n",
      "----------------------------------------------------------------------------------------------------\n",
      "Train bucket 5\n",
      "Test Holdout 0\n",
      "Test Holdout 1\n",
      "Test Holdout 2\n",
      "Test Holdout 3\n",
      "Test Holdout 4\n",
      "          0         1         2         3         4\n",
      "0  0.028462  0.016054  0.010084  0.008446  0.005569\n",
      "1  0.016568  0.022391  0.010084  0.005912  0.006188\n",
      "2  0.010195  0.016054  0.018487  0.009291  0.006807\n",
      "3  0.010620  0.011407  0.013025  0.009291  0.006188\n",
      "4  0.011895  0.012252  0.011765  0.010135  0.014233\n",
      "\n",
      "\n",
      "stage -> metrics\n",
      "avg recall 0.018573\n",
      "BWT (v. Lopez-Paz e Ranzato GEM 2017), meanBWT ([-0.011894647408666102, -0.012301957781862547, -0.011429508128588598, -0.008146264017371724], -0.010943094334122242)\n",
      "BWT (v. Díaz-Rodriguez et al. 2018), meanBWT (-0.010337214342764387, [-0.011894647408666102, -0.01826677994902294, -0.0063371356147021544, -0.01784197111299915, -0.010984368398817067, -0.0054621848739495795, -0.016567544604927785, -0.010139416983523447, -0.0067226890756302525, 0.0008445945945945946])\n",
      "FWT 0.008462\n"
     ]
    },
    {
     "data": {
      "text/plain": [
       "(          0         1         2         3         4\n",
       " 0  0.028462  0.016054  0.010084  0.008446  0.005569\n",
       " 1  0.016568  0.022391  0.010084  0.005912  0.006188\n",
       " 2  0.010195  0.016054  0.018487  0.009291  0.006807\n",
       " 3  0.010620  0.011407  0.013025  0.009291  0.006188\n",
       " 4  0.011895  0.012252  0.011765  0.010135  0.014233,\n",
       " 0.01857280265694506,\n",
       " ([-0.011894647408666102,\n",
       "   -0.012301957781862547,\n",
       "   -0.011429508128588598,\n",
       "   -0.008146264017371724],\n",
       "  -0.010943094334122242),\n",
       " (-0.010337214342764387,\n",
       "  [-0.011894647408666102,\n",
       "   -0.01826677994902294,\n",
       "   -0.0063371356147021544,\n",
       "   -0.01784197111299915,\n",
       "   -0.010984368398817067,\n",
       "   -0.0054621848739495795,\n",
       "   -0.016567544604927785,\n",
       "   -0.010139416983523447,\n",
       "   -0.0067226890756302525,\n",
       "   0.0008445945945945946]),\n",
       " 0.008462326801364297)"
      ]
     },
     "execution_count": 12,
     "metadata": {},
     "output_type": "execute_result"
    },
    {
     "data": {
      "image/png": "[encoded data removed]",
      "text/plain": [
       "<Figure size 1500x1000 with 2 Axes>"
      ]
     },
     "metadata": {},
     "output_type": "display_data"
    }
   ],
   "source": [
    "run_evaluate_RSISGD(data = interactions_df,\n",
    "             interval_type = 'S',\n",
    "             intervals_path = output_path+filename+'_semesters.joblib',\n",
    "             use_data_unique_users = False,\n",
    "             frequent_users_path = output_path+filename+'_frequent_users_'+str(frequent_users_thr)+'.joblib',\n",
    "             buckets_path = output_path+filename+'_semesterly_buckets.joblib',\n",
    "             holdouts_path = output_path+filename+'_semesterly_holdouts.joblib',\n",
    "             cold_start_buckets = 1,\n",
    "             to_grid_search = False,\n",
    "             num_factors = num_factors,\n",
    "             num_iter = num_iter,\n",
    "             learn_rate = learn_rate,\n",
    "             regularization = regularization,\n",
    "             random_seed = random_seed,\n",
    "             results_matrix_path = output_path+filename+'_semesterly_bucket_'+MODEL_NAME+'_results.csv',\n",
    "             recall_heatmap_title = 'Recall@20 for '+MODEL_NAME+' checkpoints across Holdouts (2013/2014) - '+dataset_name,\n",
    "             recall_heatmap_path = heatmaps_path+filename+'_semesterly_bucket_'+MODEL_NAME+'_heatmap.png',\n",
    "             incrementalTraining_time_record_path = output_path+filename+'_semesterly_bucket_'+MODEL_NAME+'_training_time.joblib',\n",
    "             evaluateHoldouts_time_record_path = output_path+filename+'_semesterly_bucket_'+MODEL_NAME+'_eval_time.joblib',\n",
    "             eval_files_path = diversity_filepath+MODEL_NAME+'/'+filename+'_',\n",
    "             save_eval_files = True)"
   ]
  },
  {
   "cell_type": "code",
   "execution_count": null,
   "metadata": {},
   "outputs": [],
   "source": []
  }
 ],
 "metadata": {
  "kernelspec": {
   "display_name": "m_f_1st",
   "language": "python",
   "name": "python3"
  },
  "language_info": {
   "codemirror_mode": {
    "name": "ipython",
    "version": 3
   },
   "file_extension": ".py",
   "mimetype": "text/x-python",
   "name": "python",
   "nbconvert_exporter": "python",
   "pygments_lexer": "ipython3",
   "version": "3.9.18"
  }
 },
 "nbformat": 4,
 "nbformat_minor": 2
}
