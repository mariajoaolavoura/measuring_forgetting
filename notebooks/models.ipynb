{
 "cells": [
  {
   "cell_type": "code",
   "execution_count": null,
   "metadata": {},
   "outputs": [],
   "source": [
    "from recommenders_implicit import ISGD, RAISGD, RSISGD, UserKNN \n",
    "from flurs.recommender import BPRMFRecommender, SketchRecommender\n",
    "from eval_implicit import EvaluateHoldoutsFlurs, EvaluateHoldouts"
   ]
  },
  {
   "cell_type": "code",
   "execution_count": null,
   "metadata": {},
   "outputs": [],
   "source": [
    "empty_stream = ImplicitData([], [])\n",
    "model = ISGD(empty_stream, \n",
    "             num_factors,\n",
    "             num_iter, \n",
    "             learn_rate = learn_rate,\n",
    "             u_regularization = regularization,\n",
    "             i_regularization = regularization,\n",
    "             random_seed = random_seed)\n",
    "\n",
    "\n",
    "\n",
    "print('\\n\\nSTAGE -> EvaluateHoldouts')\n",
    "eval = EvaluateHoldouts(model = model,\n",
    "                        buckets = buckets,\n",
    "                        holdouts = holdouts)\n",
    "\n",
    "if save_eval_files:\n",
    "    eval.Train_Evaluate_Save(eval_files_path, N_recommendations=20, exclude_known_items=True, default_user='none')\n",
    "else:\n",
    "    eval.Train_Evaluate(N_recommendations=20, exclude_known_items=True, default_user='none')"
   ]
  },
  {
   "cell_type": "code",
   "execution_count": null,
   "metadata": {},
   "outputs": [],
   "source": [
    "model = BPRMFRecommender(k, l2_reg, learn_rate )\n",
    "# criamos instancia de EvaluateHoldouts para treinar o modelo e avaliar checkpoints\n",
    "eval = EvaluateHoldoutsFlurs(model, buckets, holdouts, data, user_col, item_col)\n",
    "eval.Train_Evaluate(N_recommendations = 20, exclude_known_items = True)"
   ]
  },
  {
   "cell_type": "code",
   "execution_count": null,
   "metadata": {},
   "outputs": [],
   "source": [
    "model = RAISGD(empty_stream, \n",
    "               num_factors, \n",
    "               num_iter, \n",
    "               learn_rate = learn_rate, \n",
    "               u_regularization = regularization, \n",
    "               i_regularization = regularization, \n",
    "               random_seed = 10, \n",
    "               ra_length=ra_length )\n",
    "eval = EvaluateHoldouts(model=model, \n",
    "                        buckets=buckets, \n",
    "                        holdouts=holdouts)\n",
    "eval.Train_Evaluate(N_recommendations=20, exclude_known_items=True, default_user='none')"
   ]
  },
  {
   "cell_type": "code",
   "execution_count": null,
   "metadata": {},
   "outputs": [],
   "source": [
    "model = RSISGD(empty_stream, num_factors, num_iter, learn_rate = learn_rate, u_regularization = regularization, i_regularization = regularization, random_seed = 10, ra_length=ra_length)\n",
    "eval = EvaluateHoldouts(model=model, buckets=buckets, holdouts=holdouts)\n",
    "eval.Train_Evaluate(N_recommendations=20, exclude_known_items=True, default_user='none')"
   ]
  },
  {
   "cell_type": "code",
   "execution_count": null,
   "metadata": {},
   "outputs": [],
   "source": [
    "model = UserKNN(empty_stream, k=10, similarity='cosine')\n",
    "eval = EvaluateHoldouts(model=model, buckets=buckets, holdouts=holdouts)\n",
    "eval.Train_Evaluate(N_recommendations=20, exclude_known_items=True, default_user='none')"
   ]
  }
 ],
 "metadata": {
  "language_info": {
   "name": "python"
  }
 },
 "nbformat": 4,
 "nbformat_minor": 2
}
