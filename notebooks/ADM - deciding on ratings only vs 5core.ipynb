{
 "cells": [
  {
   "cell_type": "markdown",
   "metadata": {},
   "source": [
    "*Goal*: decide between ADM ratings only dataset vs 5-core. Ratings only was the chosen one."
   ]
  },
  {
   "cell_type": "markdown",
   "metadata": {},
   "source": [
    "# update sys.path"
   ]
  },
  {
   "cell_type": "code",
   "execution_count": 1,
   "metadata": {},
   "outputs": [],
   "source": [
    "import os\n",
    "import sys\n",
    "sys.path.append(os.path.abspath('') + '/..')"
   ]
  },
  {
   "cell_type": "markdown",
   "metadata": {},
   "source": [
    "# imports"
   ]
  },
  {
   "cell_type": "code",
   "execution_count": 2,
   "metadata": {},
   "outputs": [],
   "source": [
    "import pandas as pd "
   ]
  },
  {
   "cell_type": "code",
   "execution_count": 3,
   "metadata": {},
   "outputs": [],
   "source": [
    "dataset_name = 'Amazon_Digital_Music'\n",
    "user_col = 'user_id'\n",
    "item_col = 'item_id'\n",
    "rate_col = 'rating'\n",
    "time_col = 'timestamp'"
   ]
  },
  {
   "cell_type": "code",
   "execution_count": 4,
   "metadata": {},
   "outputs": [
    {
     "data": {
      "text/html": [
       "<div>\n",
       "<style scoped>\n",
       "    .dataframe tbody tr th:only-of-type {\n",
       "        vertical-align: middle;\n",
       "    }\n",
       "\n",
       "    .dataframe tbody tr th {\n",
       "        vertical-align: top;\n",
       "    }\n",
       "\n",
       "    .dataframe thead th {\n",
       "        text-align: right;\n",
       "    }\n",
       "</style>\n",
       "<table border=\"1\" class=\"dataframe\">\n",
       "  <thead>\n",
       "    <tr style=\"text-align: right;\">\n",
       "      <th></th>\n",
       "      <th>item_id</th>\n",
       "      <th>user_id</th>\n",
       "      <th>rating</th>\n",
       "      <th>timestamp</th>\n",
       "    </tr>\n",
       "  </thead>\n",
       "  <tbody>\n",
       "    <tr>\n",
       "      <th>0</th>\n",
       "      <td>0001388703</td>\n",
       "      <td>A1ZCPG3D3HGRSS</td>\n",
       "      <td>5.0</td>\n",
       "      <td>1387670400</td>\n",
       "    </tr>\n",
       "    <tr>\n",
       "      <th>1</th>\n",
       "      <td>0001388703</td>\n",
       "      <td>AC2PL52NKPL29</td>\n",
       "      <td>5.0</td>\n",
       "      <td>1378857600</td>\n",
       "    </tr>\n",
       "    <tr>\n",
       "      <th>2</th>\n",
       "      <td>0001388703</td>\n",
       "      <td>A1SUZXBDZSDQ3A</td>\n",
       "      <td>5.0</td>\n",
       "      <td>1362182400</td>\n",
       "    </tr>\n",
       "    <tr>\n",
       "      <th>3</th>\n",
       "      <td>0001388703</td>\n",
       "      <td>A3A0W7FZXM0IZW</td>\n",
       "      <td>5.0</td>\n",
       "      <td>1354406400</td>\n",
       "    </tr>\n",
       "    <tr>\n",
       "      <th>4</th>\n",
       "      <td>0001388703</td>\n",
       "      <td>A12R54MKO17TW0</td>\n",
       "      <td>5.0</td>\n",
       "      <td>1325894400</td>\n",
       "    </tr>\n",
       "  </tbody>\n",
       "</table>\n",
       "</div>"
      ],
      "text/plain": [
       "      item_id         user_id  rating   timestamp\n",
       "0  0001388703  A1ZCPG3D3HGRSS     5.0  1387670400\n",
       "1  0001388703   AC2PL52NKPL29     5.0  1378857600\n",
       "2  0001388703  A1SUZXBDZSDQ3A     5.0  1362182400\n",
       "3  0001388703  A3A0W7FZXM0IZW     5.0  1354406400\n",
       "4  0001388703  A12R54MKO17TW0     5.0  1325894400"
      ]
     },
     "execution_count": 4,
     "metadata": {},
     "output_type": "execute_result"
    }
   ],
   "source": [
    "ratings_dm = pd.read_csv(\"../datasets/Digital_Music.csv\", \n",
    "                        names=[item_col, user_col, rate_col, time_col])\n",
    "\n",
    "'''\n",
    "Ratings only: These datasets include no metadata or reviews, but only (item,user,rating,timestamp) tuples. \n",
    "'''\n",
    "ratings_dm.head()"
   ]
  },
  {
   "cell_type": "code",
   "execution_count": 5,
   "metadata": {},
   "outputs": [
    {
     "data": {
      "text/plain": [
       "5.0    1280147\n",
       "4.0     179929\n",
       "3.0      57347\n",
       "1.0      43108\n",
       "2.0      23551\n",
       "Name: rating, dtype: int64"
      ]
     },
     "execution_count": 5,
     "metadata": {},
     "output_type": "execute_result"
    }
   ],
   "source": [
    "ratings_dm[rate_col].value_counts()"
   ]
  },
  {
   "cell_type": "code",
   "execution_count": 6,
   "metadata": {},
   "outputs": [
    {
     "data": {
      "text/plain": [
       "A3W4D8XOGLWUN5    1326\n",
       "AQ4B80F0JSBNI      682\n",
       "A1Q0BU32CVOLRA     638\n",
       "A2WQY1B8ZS7QRZ     535\n",
       "A2H3JURQZOHVMB     526\n",
       "                  ... \n",
       "A1NH7LRA0SBHPZ       1\n",
       "AEV1QRC8DI54H        1\n",
       "A2H1SXOX3B7LF        1\n",
       "A32LZMTRCSK75W       1\n",
       "A2UJL6E6OIB357       1\n",
       "Name: user_id, Length: 840372, dtype: int64"
      ]
     },
     "execution_count": 6,
     "metadata": {},
     "output_type": "execute_result"
    }
   ],
   "source": [
    "ratings_dm[user_col].value_counts()"
   ]
  },
  {
   "cell_type": "code",
   "execution_count": 16,
   "metadata": {},
   "outputs": [
    {
     "data": {
      "text/plain": [
       "B0135P6PZA    3411\n",
       "B00M8JCW3E    3243\n",
       "B00CZF8B68    2819\n",
       "B00NPZI1ZS    2195\n",
       "B00U3WJHCW    2046\n",
       "              ... \n",
       "B0000289V9       1\n",
       "B005HYZYQO       1\n",
       "B001BTI4HU       1\n",
       "B014I2WSF0       1\n",
       "B001BKM0J2       1\n",
       "Name: item_id, Length: 456992, dtype: int64"
      ]
     },
     "execution_count": 16,
     "metadata": {},
     "output_type": "execute_result"
    }
   ],
   "source": [
    "ratings_dm[item_col].value_counts()"
   ]
  },
  {
   "cell_type": "code",
   "execution_count": 7,
   "metadata": {},
   "outputs": [],
   "source": [
    "import pandas as pd\n",
    "import gzip\n",
    "import json\n",
    "\n",
    "def parse(path):\n",
    "  g = gzip.open(path, 'rb')\n",
    "  for l in g:\n",
    "    yield json.loads(l)\n",
    "\n",
    "def getDF(path):\n",
    "  i = 0\n",
    "  df = {}\n",
    "  for d in parse(path):\n",
    "    df[i] = d\n",
    "    i += 1\n",
    "  return pd.DataFrame.from_dict(df, orient='index')"
   ]
  },
  {
   "cell_type": "code",
   "execution_count": 8,
   "metadata": {},
   "outputs": [
    {
     "data": {
      "text/html": [
       "<div>\n",
       "<style scoped>\n",
       "    .dataframe tbody tr th:only-of-type {\n",
       "        vertical-align: middle;\n",
       "    }\n",
       "\n",
       "    .dataframe tbody tr th {\n",
       "        vertical-align: top;\n",
       "    }\n",
       "\n",
       "    .dataframe thead th {\n",
       "        text-align: right;\n",
       "    }\n",
       "</style>\n",
       "<table border=\"1\" class=\"dataframe\">\n",
       "  <thead>\n",
       "    <tr style=\"text-align: right;\">\n",
       "      <th></th>\n",
       "      <th>category</th>\n",
       "      <th>tech1</th>\n",
       "      <th>description</th>\n",
       "      <th>fit</th>\n",
       "      <th>title</th>\n",
       "      <th>also_buy</th>\n",
       "      <th>tech2</th>\n",
       "      <th>brand</th>\n",
       "      <th>feature</th>\n",
       "      <th>rank</th>\n",
       "      <th>also_view</th>\n",
       "      <th>main_cat</th>\n",
       "      <th>similar_item</th>\n",
       "      <th>date</th>\n",
       "      <th>price</th>\n",
       "      <th>asin</th>\n",
       "      <th>imageURL</th>\n",
       "      <th>imageURLHighRes</th>\n",
       "      <th>details</th>\n",
       "    </tr>\n",
       "  </thead>\n",
       "  <tbody>\n",
       "    <tr>\n",
       "      <th>0</th>\n",
       "      <td>[]</td>\n",
       "      <td></td>\n",
       "      <td>[]</td>\n",
       "      <td></td>\n",
       "      <td>Master Collection Volume One</td>\n",
       "      <td>[B000002UEN, B000008LD5, B01J804JKE, 747403435...</td>\n",
       "      <td></td>\n",
       "      <td>John Michael Talbot</td>\n",
       "      <td>[]</td>\n",
       "      <td>58,291 in CDs &amp; Vinyl (</td>\n",
       "      <td>[B000002UEN, B000008LD5, 7474034352, B000008LD...</td>\n",
       "      <td>&lt;img src=\"https://images-na.ssl-images-amazon....</td>\n",
       "      <td></td>\n",
       "      <td></td>\n",
       "      <td>$18.99</td>\n",
       "      <td>0001377647</td>\n",
       "      <td>[]</td>\n",
       "      <td>[]</td>\n",
       "      <td>NaN</td>\n",
       "    </tr>\n",
       "    <tr>\n",
       "      <th>1</th>\n",
       "      <td>[]</td>\n",
       "      <td></td>\n",
       "      <td>[]</td>\n",
       "      <td></td>\n",
       "      <td>Hymns Collection: Hymns 1 &amp;amp; 2</td>\n",
       "      <td>[5558154950, B00014K5V4]</td>\n",
       "      <td></td>\n",
       "      <td>Second Chapter of Acts</td>\n",
       "      <td>[]</td>\n",
       "      <td>93,164 in CDs &amp; Vinyl (</td>\n",
       "      <td>[B000008KJ3, B000008KJ0, 5558154950, B000UN8KZ...</td>\n",
       "      <td>&lt;img src=\"https://images-na.ssl-images-amazon....</td>\n",
       "      <td></td>\n",
       "      <td></td>\n",
       "      <td></td>\n",
       "      <td>0001529145</td>\n",
       "      <td>[]</td>\n",
       "      <td>[]</td>\n",
       "      <td>NaN</td>\n",
       "    </tr>\n",
       "    <tr>\n",
       "      <th>2</th>\n",
       "      <td>[]</td>\n",
       "      <td></td>\n",
       "      <td>[]</td>\n",
       "      <td></td>\n",
       "      <td>Early Works - Don Francisco</td>\n",
       "      <td>[B00004RC05, B003H8F4NA, B003ZFVHPO, B003JMP1Z...</td>\n",
       "      <td></td>\n",
       "      <td>Don Francisco</td>\n",
       "      <td>[]</td>\n",
       "      <td>875,825 in CDs &amp; Vinyl (</td>\n",
       "      <td>[B003H8F4NA, B003ZFVHPO, B003JMP1ZK, B00004RC0...</td>\n",
       "      <td>&lt;img src=\"https://images-na.ssl-images-amazon....</td>\n",
       "      <td></td>\n",
       "      <td></td>\n",
       "      <td></td>\n",
       "      <td>0001527134</td>\n",
       "      <td>[]</td>\n",
       "      <td>[]</td>\n",
       "      <td>NaN</td>\n",
       "    </tr>\n",
       "    <tr>\n",
       "      <th>3</th>\n",
       "      <td>[]</td>\n",
       "      <td></td>\n",
       "      <td>[]</td>\n",
       "      <td></td>\n",
       "      <td>So You Wanna Go Back to Egypt</td>\n",
       "      <td>[B0000275QQ, 0001393774, 0001388312, B0016CP2G...</td>\n",
       "      <td></td>\n",
       "      <td>Keith Green</td>\n",
       "      <td>[]</td>\n",
       "      <td>203,263 in CDs &amp; Vinyl (</td>\n",
       "      <td>[B00000I7JO, B0016CP2GS, 0001393774, B0000275Q...</td>\n",
       "      <td>&lt;img src=\"https://images-na.ssl-images-amazon....</td>\n",
       "      <td></td>\n",
       "      <td></td>\n",
       "      <td>$13.01</td>\n",
       "      <td>0001388703</td>\n",
       "      <td>[]</td>\n",
       "      <td>[]</td>\n",
       "      <td>NaN</td>\n",
       "    </tr>\n",
       "    <tr>\n",
       "      <th>4</th>\n",
       "      <td>[]</td>\n",
       "      <td></td>\n",
       "      <td>[1. Losing Game 2. I Can't Wait 3. Didn't He S...</td>\n",
       "      <td></td>\n",
       "      <td>Early Works - Dallas Holm</td>\n",
       "      <td>[B0002N4JP2, 0760131694, B00002EQ79, B00150K8J...</td>\n",
       "      <td></td>\n",
       "      <td>Dallas Holm</td>\n",
       "      <td>[]</td>\n",
       "      <td>399,269 in CDs &amp; Vinyl (</td>\n",
       "      <td>[B0002N4JP2, 0760131694, B00150K8JC, B003MTXNV...</td>\n",
       "      <td>&lt;img src=\"https://images-na.ssl-images-amazon....</td>\n",
       "      <td></td>\n",
       "      <td></td>\n",
       "      <td></td>\n",
       "      <td>0001526146</td>\n",
       "      <td>[]</td>\n",
       "      <td>[]</td>\n",
       "      <td>NaN</td>\n",
       "    </tr>\n",
       "  </tbody>\n",
       "</table>\n",
       "</div>"
      ],
      "text/plain": [
       "  category tech1                                        description fit  \\\n",
       "0       []                                                       []       \n",
       "1       []                                                       []       \n",
       "2       []                                                       []       \n",
       "3       []                                                       []       \n",
       "4       []        [1. Losing Game 2. I Can't Wait 3. Didn't He S...       \n",
       "\n",
       "                               title  \\\n",
       "0       Master Collection Volume One   \n",
       "1  Hymns Collection: Hymns 1 &amp; 2   \n",
       "2        Early Works - Don Francisco   \n",
       "3      So You Wanna Go Back to Egypt   \n",
       "4          Early Works - Dallas Holm   \n",
       "\n",
       "                                            also_buy tech2  \\\n",
       "0  [B000002UEN, B000008LD5, B01J804JKE, 747403435...         \n",
       "1                           [5558154950, B00014K5V4]         \n",
       "2  [B00004RC05, B003H8F4NA, B003ZFVHPO, B003JMP1Z...         \n",
       "3  [B0000275QQ, 0001393774, 0001388312, B0016CP2G...         \n",
       "4  [B0002N4JP2, 0760131694, B00002EQ79, B00150K8J...         \n",
       "\n",
       "                    brand feature                      rank  \\\n",
       "0     John Michael Talbot      []   58,291 in CDs & Vinyl (   \n",
       "1  Second Chapter of Acts      []   93,164 in CDs & Vinyl (   \n",
       "2           Don Francisco      []  875,825 in CDs & Vinyl (   \n",
       "3             Keith Green      []  203,263 in CDs & Vinyl (   \n",
       "4             Dallas Holm      []  399,269 in CDs & Vinyl (   \n",
       "\n",
       "                                           also_view  \\\n",
       "0  [B000002UEN, B000008LD5, 7474034352, B000008LD...   \n",
       "1  [B000008KJ3, B000008KJ0, 5558154950, B000UN8KZ...   \n",
       "2  [B003H8F4NA, B003ZFVHPO, B003JMP1ZK, B00004RC0...   \n",
       "3  [B00000I7JO, B0016CP2GS, 0001393774, B0000275Q...   \n",
       "4  [B0002N4JP2, 0760131694, B00150K8JC, B003MTXNV...   \n",
       "\n",
       "                                            main_cat similar_item date  \\\n",
       "0  <img src=\"https://images-na.ssl-images-amazon....                     \n",
       "1  <img src=\"https://images-na.ssl-images-amazon....                     \n",
       "2  <img src=\"https://images-na.ssl-images-amazon....                     \n",
       "3  <img src=\"https://images-na.ssl-images-amazon....                     \n",
       "4  <img src=\"https://images-na.ssl-images-amazon....                     \n",
       "\n",
       "    price        asin imageURL imageURLHighRes details  \n",
       "0  $18.99  0001377647       []              []     NaN  \n",
       "1          0001529145       []              []     NaN  \n",
       "2          0001527134       []              []     NaN  \n",
       "3  $13.01  0001388703       []              []     NaN  \n",
       "4          0001526146       []              []     NaN  "
      ]
     },
     "execution_count": 8,
     "metadata": {},
     "output_type": "execute_result"
    }
   ],
   "source": [
    "meta_dm = getDF('../datasets/meta_Digital_Music.json.gz')\n",
    "'''\n",
    "where\n",
    "\n",
    "asin - ID of the product, e.g. 0000031852\n",
    "title - name of the product\n",
    "feature - bullet-point format features of the product\n",
    "description - description of the product\n",
    "price - price in US dollars (at time of crawl)\n",
    "imageURL - url of the product image\n",
    "imageURL - url of the high resolution product image\n",
    "related - related products (also bought, also viewed, bought together, buy after viewing)\n",
    "salesRank - sales rank information\n",
    "brand - brand name\n",
    "categories - list of categories the product belongs to\n",
    "tech1 - the first technical detail table of the product\n",
    "tech2 - the second technical detail table of the product\n",
    "similar - similar product table\n",
    "'''\n",
    "\n",
    "meta_dm.head()"
   ]
  },
  {
   "cell_type": "code",
   "execution_count": 9,
   "metadata": {},
   "outputs": [
    {
     "data": {
      "text/plain": [
       "False"
      ]
     },
     "execution_count": 9,
     "metadata": {},
     "output_type": "execute_result"
    }
   ],
   "source": [
    "meta_dm['brand'].isna().any()"
   ]
  },
  {
   "cell_type": "code",
   "execution_count": 10,
   "metadata": {},
   "outputs": [
    {
     "data": {
      "text/plain": [
       "                     14471\n",
       "Various Artists       1179\n",
       "Various                724\n",
       "VARIOUS ARTISTS        255\n",
       "various                121\n",
       "                     ...  \n",
       "SpyMusic                 1\n",
       "Command All-Stars        1\n",
       "Water to Wine            1\n",
       "Z Prochek                1\n",
       "Mute Vorwarts            1\n",
       "Name: brand, Length: 36464, dtype: int64"
      ]
     },
     "execution_count": 10,
     "metadata": {},
     "output_type": "execute_result"
    }
   ],
   "source": [
    "meta_dm['brand'].value_counts()"
   ]
  },
  {
   "cell_type": "code",
   "execution_count": 11,
   "metadata": {},
   "outputs": [],
   "source": [
    "meta_dm['rank'] = meta_dm['rank'].astype(str)"
   ]
  },
  {
   "cell_type": "code",
   "execution_count": 12,
   "metadata": {},
   "outputs": [
    {
     "data": {
      "text/plain": [
       "[]                            0.099086\n",
       "2,479,821 in CDs & Vinyl (    0.000067\n",
       "1,846,782 in CDs & Vinyl (    0.000067\n",
       "563,394 in CDs & Vinyl (      0.000067\n",
       "1,683,765 in CDs & Vinyl (    0.000067\n",
       "                                ...   \n",
       "851,976 in CDs & Vinyl (      0.000017\n",
       "1,053,092 in CDs & Vinyl (    0.000017\n",
       "2,263,991 in CDs & Vinyl (    0.000017\n",
       "2,983,761 in CDs & Vinyl (    0.000017\n",
       "855,457 in CDs & Vinyl (      0.000017\n",
       "Name: rank, Length: 59928, dtype: float64"
      ]
     },
     "execution_count": 12,
     "metadata": {},
     "output_type": "execute_result"
    }
   ],
   "source": [
    "meta_dm['rank'].value_counts()/meta_dm['rank'].nunique()"
   ]
  },
  {
   "cell_type": "code",
   "execution_count": 13,
   "metadata": {},
   "outputs": [
    {
     "data": {
      "text/html": [
       "<div>\n",
       "<style scoped>\n",
       "    .dataframe tbody tr th:only-of-type {\n",
       "        vertical-align: middle;\n",
       "    }\n",
       "\n",
       "    .dataframe tbody tr th {\n",
       "        vertical-align: top;\n",
       "    }\n",
       "\n",
       "    .dataframe thead th {\n",
       "        text-align: right;\n",
       "    }\n",
       "</style>\n",
       "<table border=\"1\" class=\"dataframe\">\n",
       "  <thead>\n",
       "    <tr style=\"text-align: right;\">\n",
       "      <th></th>\n",
       "      <th>overall</th>\n",
       "      <th>vote</th>\n",
       "      <th>verified</th>\n",
       "      <th>reviewTime</th>\n",
       "      <th>reviewerID</th>\n",
       "      <th>asin</th>\n",
       "      <th>style</th>\n",
       "      <th>reviewerName</th>\n",
       "      <th>reviewText</th>\n",
       "      <th>summary</th>\n",
       "      <th>unixReviewTime</th>\n",
       "      <th>image</th>\n",
       "    </tr>\n",
       "  </thead>\n",
       "  <tbody>\n",
       "    <tr>\n",
       "      <th>0</th>\n",
       "      <td>5.0</td>\n",
       "      <td>3</td>\n",
       "      <td>True</td>\n",
       "      <td>06 3, 2013</td>\n",
       "      <td>A2TYZ821XXK2YZ</td>\n",
       "      <td>3426958910</td>\n",
       "      <td>{'Format:': ' Audio CD'}</td>\n",
       "      <td>Garrett</td>\n",
       "      <td>This is awesome to listen to, A must-have for ...</td>\n",
       "      <td>Slayer Rules!</td>\n",
       "      <td>1370217600</td>\n",
       "      <td>NaN</td>\n",
       "    </tr>\n",
       "    <tr>\n",
       "      <th>1</th>\n",
       "      <td>5.0</td>\n",
       "      <td>NaN</td>\n",
       "      <td>True</td>\n",
       "      <td>10 11, 2014</td>\n",
       "      <td>A3OFSREZADFUDY</td>\n",
       "      <td>3426958910</td>\n",
       "      <td>{'Format:': ' Audio CD'}</td>\n",
       "      <td>Ad</td>\n",
       "      <td>bien</td>\n",
       "      <td>Five Stars</td>\n",
       "      <td>1412985600</td>\n",
       "      <td>NaN</td>\n",
       "    </tr>\n",
       "    <tr>\n",
       "      <th>2</th>\n",
       "      <td>5.0</td>\n",
       "      <td>NaN</td>\n",
       "      <td>True</td>\n",
       "      <td>02 11, 2014</td>\n",
       "      <td>A2VAMODP8M77NG</td>\n",
       "      <td>3426958910</td>\n",
       "      <td>{'Format:': ' Audio CD'}</td>\n",
       "      <td>JTGabq</td>\n",
       "      <td>It was great to hear the old stuff again and I...</td>\n",
       "      <td>SLAYER!!!!!!!!!!!!!!!!!!!!!</td>\n",
       "      <td>1392076800</td>\n",
       "      <td>NaN</td>\n",
       "    </tr>\n",
       "    <tr>\n",
       "      <th>3</th>\n",
       "      <td>4.0</td>\n",
       "      <td>3</td>\n",
       "      <td>False</td>\n",
       "      <td>12 7, 2013</td>\n",
       "      <td>AAKSLZ9IDTEH0</td>\n",
       "      <td>3426958910</td>\n",
       "      <td>{'Format:': ' Audio CD'}</td>\n",
       "      <td>john F&amp;#039;n doe</td>\n",
       "      <td>well best of's are a bit poison normally but t...</td>\n",
       "      <td>slayer greatest hits! you mean everything righ...</td>\n",
       "      <td>1386374400</td>\n",
       "      <td>NaN</td>\n",
       "    </tr>\n",
       "    <tr>\n",
       "      <th>4</th>\n",
       "      <td>5.0</td>\n",
       "      <td>NaN</td>\n",
       "      <td>True</td>\n",
       "      <td>06 12, 2016</td>\n",
       "      <td>A3OH43OZJLKI09</td>\n",
       "      <td>5557706259</td>\n",
       "      <td>{'Format:': ' Audio CD'}</td>\n",
       "      <td>melinda a goodman</td>\n",
       "      <td>What can I say? This is Casting Crowns!!!This ...</td>\n",
       "      <td>This is a good, blessing filled</td>\n",
       "      <td>1465689600</td>\n",
       "      <td>NaN</td>\n",
       "    </tr>\n",
       "  </tbody>\n",
       "</table>\n",
       "</div>"
      ],
      "text/plain": [
       "   overall vote  verified   reviewTime      reviewerID        asin  \\\n",
       "0      5.0    3      True   06 3, 2013  A2TYZ821XXK2YZ  3426958910   \n",
       "1      5.0  NaN      True  10 11, 2014  A3OFSREZADFUDY  3426958910   \n",
       "2      5.0  NaN      True  02 11, 2014  A2VAMODP8M77NG  3426958910   \n",
       "3      4.0    3     False   12 7, 2013   AAKSLZ9IDTEH0  3426958910   \n",
       "4      5.0  NaN      True  06 12, 2016  A3OH43OZJLKI09  5557706259   \n",
       "\n",
       "                      style       reviewerName  \\\n",
       "0  {'Format:': ' Audio CD'}            Garrett   \n",
       "1  {'Format:': ' Audio CD'}                 Ad   \n",
       "2  {'Format:': ' Audio CD'}             JTGabq   \n",
       "3  {'Format:': ' Audio CD'}  john F&#039;n doe   \n",
       "4  {'Format:': ' Audio CD'}  melinda a goodman   \n",
       "\n",
       "                                          reviewText  \\\n",
       "0  This is awesome to listen to, A must-have for ...   \n",
       "1                                               bien   \n",
       "2  It was great to hear the old stuff again and I...   \n",
       "3  well best of's are a bit poison normally but t...   \n",
       "4  What can I say? This is Casting Crowns!!!This ...   \n",
       "\n",
       "                                             summary  unixReviewTime image  \n",
       "0                                      Slayer Rules!      1370217600   NaN  \n",
       "1                                         Five Stars      1412985600   NaN  \n",
       "2                        SLAYER!!!!!!!!!!!!!!!!!!!!!      1392076800   NaN  \n",
       "3  slayer greatest hits! you mean everything righ...      1386374400   NaN  \n",
       "4                    This is a good, blessing filled      1465689600   NaN  "
      ]
     },
     "execution_count": 13,
     "metadata": {},
     "output_type": "execute_result"
    }
   ],
   "source": [
    "dm_5core = getDF('../datasets/Digital_Music_5.json.gz')\n",
    "'''\n",
    "K-cores (i.e., dense subsets): \n",
    "These data have been reduced to extract the k-core, such that each of the remaining users and items have k reviews each.\n",
    "\n",
    "where\n",
    "\n",
    "reviewerID - ID of the reviewer, e.g. A2SUAM1J3GNN3B\n",
    "asin - ID of the product, e.g. 0000013714\n",
    "reviewerName - name of the reviewer\n",
    "vote - helpful votes of the review\n",
    "style - a disctionary of the product metadata, e.g., \"Format\" is \"Hardcover\"\n",
    "reviewText - text of the review\n",
    "overall - rating of the product\n",
    "summary - summary of the review\n",
    "unixReviewTime - time of the review (unix time)\n",
    "reviewTime - time of the review (raw)\n",
    "image - images that users post after they have received the product\n",
    "'''\n",
    "dm_5core.head()"
   ]
  },
  {
   "cell_type": "code",
   "execution_count": 14,
   "metadata": {},
   "outputs": [
    {
     "data": {
      "text/plain": [
       "5.0    135842\n",
       "4.0     23143\n",
       "3.0      6792\n",
       "1.0      2192\n",
       "2.0      1812\n",
       "Name: overall, dtype: int64"
      ]
     },
     "execution_count": 14,
     "metadata": {},
     "output_type": "execute_result"
    }
   ],
   "source": [
    "dm_5core['overall'].value_counts()"
   ]
  },
  {
   "cell_type": "code",
   "execution_count": 15,
   "metadata": {},
   "outputs": [
    {
     "data": {
      "text/plain": [
       "A3W4D8XOGLWUN5    791\n",
       "A2H3JURQZOHVMB    314\n",
       "A36EDWL4F3AASU    223\n",
       "A165P3MOJV3OVZ    219\n",
       "AVKHYC2D7MD56     214\n",
       "                 ... \n",
       "A518S7KT78N51       2\n",
       "A2M4D98UYXMUZE      2\n",
       "A2VWLNEBMW4ITQ      2\n",
       "A70WPHE33U5B        1\n",
       "A25HR6FTWBQ2NZ      1\n",
       "Name: reviewerID, Length: 16566, dtype: int64"
      ]
     },
     "execution_count": 15,
     "metadata": {},
     "output_type": "execute_result"
    }
   ],
   "source": [
    "dm_5core['reviewerID'].value_counts()"
   ]
  },
  {
   "cell_type": "code",
   "execution_count": 17,
   "metadata": {},
   "outputs": [
    {
     "data": {
      "text/plain": [
       "B00CZF8B68    574\n",
       "B00BWGHIHY    316\n",
       "B00136J7ZE    294\n",
       "B00EH49FRE    283\n",
       "B00136NUG6    262\n",
       "             ... \n",
       "B00123NDXK      1\n",
       "B00122HKXA      1\n",
       "B000W1S2WU      1\n",
       "B0017CRW1K      1\n",
       "B00171ANFI      1\n",
       "Name: asin, Length: 11797, dtype: int64"
      ]
     },
     "execution_count": 17,
     "metadata": {},
     "output_type": "execute_result"
    }
   ],
   "source": [
    "dm_5core['asin'].value_counts()"
   ]
  },
  {
   "cell_type": "code",
   "execution_count": 18,
   "metadata": {},
   "outputs": [
    {
     "data": {
      "text/plain": [
       "reviewerID            asin      \n",
       "A3DG93E8TXMKZF        B001KOWH0G    52\n",
       "A23OB9FM3MUYXT        B00137ILRS    18\n",
       "                      B000VWMT7Y    12\n",
       "                      B00137MMAU    10\n",
       "AWG2O9C42XW5G         9434682614    10\n",
       "                                    ..\n",
       "A3F2TT3VSQS9W8        B005HIPEGK     1\n",
       "                      B00C3NADUE     1\n",
       "A3F3B6HY9RJI04        B0018DS15O     1\n",
       "                      B001NZ71K8     1\n",
       "A0072041HVZ3465DXUOR  B000V9AUC8     1\n",
       "Length: 145292, dtype: int64"
      ]
     },
     "execution_count": 18,
     "metadata": {},
     "output_type": "execute_result"
    }
   ],
   "source": [
    "dm_5core[['reviewerID','asin']].value_counts()"
   ]
  },
  {
   "cell_type": "code",
   "execution_count": 19,
   "metadata": {},
   "outputs": [
    {
     "data": {
      "text/plain": [
       "2      2816\n",
       "3      1306\n",
       "4       762\n",
       "5       528\n",
       "6       335\n",
       "       ... \n",
       "69        1\n",
       "124       1\n",
       "461       1\n",
       "268       1\n",
       "95        1\n",
       "Name: vote, Length: 135, dtype: int64"
      ]
     },
     "execution_count": 19,
     "metadata": {},
     "output_type": "execute_result"
    }
   ],
   "source": [
    "dm_5core['vote'].value_counts()"
   ]
  },
  {
   "cell_type": "code",
   "execution_count": 22,
   "metadata": {},
   "outputs": [
    {
     "data": {
      "text/plain": [
       "(169781, 12)"
      ]
     },
     "execution_count": 22,
     "metadata": {},
     "output_type": "execute_result"
    }
   ],
   "source": [
    "dm_5core.shape"
   ]
  },
  {
   "cell_type": "code",
   "execution_count": 23,
   "metadata": {},
   "outputs": [
    {
     "data": {
      "text/plain": [
       "(1584082, 4)"
      ]
     },
     "execution_count": 23,
     "metadata": {},
     "output_type": "execute_result"
    }
   ],
   "source": [
    "ratings_dm.shape"
   ]
  },
  {
   "cell_type": "code",
   "execution_count": null,
   "metadata": {},
   "outputs": [],
   "source": []
  }
 ],
 "metadata": {
  "kernelspec": {
   "display_name": "measuring_forgetting",
   "language": "python",
   "name": "python3"
  },
  "language_info": {
   "codemirror_mode": {
    "name": "ipython",
    "version": 3
   },
   "file_extension": ".py",
   "mimetype": "text/x-python",
   "name": "python",
   "nbconvert_exporter": "python",
   "pygments_lexer": "ipython3",
   "version": "3.9.18"
  }
 },
 "nbformat": 4,
 "nbformat_minor": 2
}
