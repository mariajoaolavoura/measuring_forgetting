{
 "cells": [
  {
   "cell_type": "markdown",
   "metadata": {},
   "source": [
    "## Avaliação em holdouts - Amazon Books"
   ]
  },
  {
   "cell_type": "markdown",
   "metadata": {},
   "source": [
    "Interactions in the 'Amazon Books' dataset are well distributed.\n",
    "Several users are present during the whole considered period (2014):\n",
    "<!-- * 37067 users of 190248 (19.484%) occurr in 80.0% or more months. -->\n",
    "* 292 users of 325 (89.846%) occurr in 80.0% or more months."
   ]
  },
  {
   "cell_type": "code",
   "execution_count": 1,
   "metadata": {},
   "outputs": [],
   "source": [
    "import os\n",
    "import sys\n",
    "sys.path.append(os.path.abspath('') + '/..')"
   ]
  },
  {
   "cell_type": "code",
   "execution_count": 2,
   "metadata": {},
   "outputs": [],
   "source": [
    "from data import ImplicitData, getBucketsHoldouts\n",
    "from plot_utils import lineplot_recallxholdout, recall_heatmap\n",
    "from dataset_evaluation_utils import *\n",
    "from recommenders_implicit import ISGD, RAISGD, RSISGD  # ISGD framework, BISGD,\n",
    "from eval_implicit import EvaluateHoldouts, EvaluateAndStore # EvaluateAndStore para guardar estados do modelo e holdouts, a avaliação prequencial de ratings implicitos é opcional, , EvalHoldout\n",
    "\n",
    "from datetime import datetime\n",
    "import joblib\n",
    "import pandas as pd \n",
    "import numpy as np \n",
    "import seaborn as sns\n",
    "import matplotlib.pyplot as plt\n",
    "sns.set_style('whitegrid')"
   ]
  },
  {
   "cell_type": "markdown",
   "metadata": {},
   "source": [
    "___\n",
    "## BWT FWT"
   ]
  },
  {
   "cell_type": "markdown",
   "metadata": {},
   "source": [
    "ACC, BWT, e FWT - Lopez-Paz e Ranzato GEM"
   ]
  },
  {
   "cell_type": "code",
   "execution_count": 3,
   "metadata": {},
   "outputs": [],
   "source": [
    "def avg_recall(results_matrix): # Lopez-Paz e Ranzato GEM 2017\n",
    "    return np.mean( np.diag(results_matrix) )\n",
    "\n",
    "def compute_BWT(results_matrix): # Lopez-Paz e Ranzato GEM 2017\n",
    "    BWT = []\n",
    "    n_checkpoints = results_matrix.shape[0]\n",
    "    for T in range(1, n_checkpoints): # 1 means holdout 2, 2 means 3, so on\n",
    "        Rti = results_matrix.iloc[T, 0:T] # get models performances' on previous holdouts\n",
    "        Rii = np.diag(results_matrix)[0:T] # get models performances' on their closest holdouts (diagonal)\n",
    "        E = sum( Rti - Rii ) # future models performances' - performances' of models closest to holdouts (diagonal)\n",
    "        BWT.append( E/T ) # store average BWT for model\n",
    "    return BWT, np.mean( BWT ) # return BWT and average BWT for all models\n",
    "\n",
    "def compute_FWT(results_matrix): # Díaz-Rodriguez et al. 2018\n",
    "    upper_tri = results_matrix.to_numpy()[np.triu_indices(results_matrix.shape[0], k=1)]\n",
    "    return np.mean(upper_tri)"
   ]
  },
  {
   "cell_type": "markdown",
   "metadata": {
    "tags": []
   },
   "source": [
    "___\n",
    "# Amazon Books\n",
    "Small subset, ratings only.  \n",
    "https://nijianmo.github.io/amazon/index.html\n"
   ]
  },
  {
   "cell_type": "markdown",
   "metadata": {},
   "source": [
    "### RSISGD"
   ]
  },
  {
   "cell_type": "code",
   "execution_count": 4,
   "metadata": {},
   "outputs": [],
   "source": [
    "buckets = joblib.load('output/amazonbooks_dump/3rd_sample_buckets.joblib')\n",
    "holdouts = joblib.load('output/amazonbooks_dump/3rd_sample_holdouts.joblib')"
   ]
  },
  {
   "cell_type": "markdown",
   "metadata": {},
   "source": [
    "Hyperparameters"
   ]
  },
  {
   "cell_type": "code",
   "execution_count": 5,
   "metadata": {},
   "outputs": [],
   "source": [
    "num_factors, num_iter, learn_rate, regularization, num_nodes = (100, 8, 0.5, 0.3, 4)\n",
    "\n",
    "# # define hyperparameters (SAME AS LASTFM)\n",
    "# num_factors = 160\n",
    "# num_iter = 4\n",
    "# learn_rate = 0.5\n",
    "# regularization = 0.4\n",
    "# num_nodes = 8"
   ]
  },
  {
   "cell_type": "code",
   "execution_count": 6,
   "metadata": {},
   "outputs": [],
   "source": [
    "# transforma interações em objeto que contem mappings usuário-itens e item-usuários, contém também métodos de suporte. recebe listas\n",
    "# stream = ImplicitData(data[user_col], data[item_col])\n",
    "# O modelo deve ser iniciado com uma lista vazia\n",
    "empty_stream = ImplicitData([], [])\n",
    "# Se o stream for passado, ao excluir itens conhecidos o recall é sempre 0. Ao permitir a recomendação de itens já vistos, o recall não é 0.\n",
    "model = RSISGD(empty_stream, num_factors, num_iter, learn_rate = learn_rate, u_regularization = regularization, i_regularization = regularization, random_seed = 10)"
   ]
  },
  {
   "cell_type": "code",
   "execution_count": 7,
   "metadata": {},
   "outputs": [
    {
     "name": "stdout",
     "output_type": "stream",
     "text": [
      "bucket 0\n",
      "bucket 1\n",
      "bucket 2\n",
      "CPU times: user 1h 46min 21s, sys: 6.04 s, total: 1h 46min 27s\n",
      "Wall time: 1h 54min 20s\n"
     ]
    }
   ],
   "source": [
    "%%time\n",
    "# 1d 3h 54min 32s\n",
    "# criamos instancia de EvaluateHoldouts para treinar o modelo e criar checkpoints\n",
    "eval = EvaluateHoldouts(model=model, buckets=buckets, holdouts=holdouts)"
   ]
  },
  {
   "cell_type": "code",
   "execution_count": 8,
   "metadata": {},
   "outputs": [
    {
     "name": "stdout",
     "output_type": "stream",
     "text": [
      "Holdout 0\n",
      "Model 0\n",
      "Model 1\n",
      "Model 2\n",
      "Holdout 1\n",
      "Model 0\n",
      "Holdout 2\n",
      "Model 0\n",
      "Model 1\n",
      "Model 2\n",
      "CPU times: user 28min 35s, sys: 41min 23s, total: 1h 9min 59s\n",
      "Wall time: 13min 11s\n"
     ]
    }
   ],
   "source": [
    "%%time\n",
    "# 13min 11s\n",
    "eval.Train_Evaluate(N_recommendations=20, exclude_known_items=True, default_user='none')"
   ]
  },
  {
   "cell_type": "code",
   "execution_count": 9,
   "metadata": {},
   "outputs": [],
   "source": [
    "# joblib.dump(eval, 'output/amazonbooks_dump/2nd_sample_amazon_books RSISGD eval.joblib')"
   ]
  },
  {
   "cell_type": "code",
   "execution_count": 10,
   "metadata": {},
   "outputs": [],
   "source": [
    "rm = eval.results_matrix\n",
    "df = pd.DataFrame(rm)\n",
    "df.to_csv('output/amazonbooks_dump/3rd_sample_amazon_books month_bucket RSISGD results.csv', index=False)"
   ]
  },
  {
   "cell_type": "code",
   "execution_count": 11,
   "metadata": {},
   "outputs": [
    {
     "data": {
      "image/png": "[encoded data removed]",
      "text/plain": [
       "<Figure size 1080x720 with 2 Axes>"
      ]
     },
     "metadata": {},
     "output_type": "display_data"
    }
   ],
   "source": [
    "recall_heatmap(df,\n",
    "    title='Recall@20 for RSISGD models across Holdouts - Amazon Books',\n",
    "    filepath='images/heatmaps/amazonbooks_dump/3rd_sample_amazon_books month_bucket RSISGD heatmap.png') #='images/heatmaps/palco_2010 month_bucket ISGD heatmap.png'"
   ]
  },
  {
   "cell_type": "code",
   "execution_count": 12,
   "metadata": {},
   "outputs": [
    {
     "data": {
      "text/plain": [
       "0.011277308843273723"
      ]
     },
     "execution_count": 12,
     "metadata": {},
     "output_type": "execute_result"
    }
   ],
   "source": [
    "arecall = avg_recall(df)\n",
    "arecall"
   ]
  },
  {
   "cell_type": "code",
   "execution_count": 13,
   "metadata": {},
   "outputs": [
    {
     "data": {
      "text/plain": [
       "([-0.010273972602739725, -0.011848395697343018], -0.011061184150041372)"
      ]
     },
     "execution_count": 13,
     "metadata": {},
     "output_type": "execute_result"
    }
   ],
   "source": [
    "BWT, meanBWT = compute_BWT(df)\n",
    "BWT, meanBWT"
   ]
  },
  {
   "cell_type": "code",
   "execution_count": 14,
   "metadata": {},
   "outputs": [
    {
     "data": {
      "text/plain": [
       "0.0"
      ]
     },
     "execution_count": 14,
     "metadata": {},
     "output_type": "execute_result"
    }
   ],
   "source": [
    "FWT = compute_FWT(df)\n",
    "FWT\n",
    "# que itens que usuario utilizou no passado e deixou de consumir o sistema ainda pode recomendar"
   ]
  },
  {
   "cell_type": "code",
   "execution_count": 15,
   "metadata": {},
   "outputs": [
    {
     "data": {
      "text/plain": [
       "([-0.010273972602739725, -0.011848395697343018], -0.011061184150041372)"
      ]
     },
     "execution_count": 15,
     "metadata": {},
     "output_type": "execute_result"
    }
   ],
   "source": [
    "BWT, meanBWT = compute_BWT(df)\n",
    "BWT, meanBWT"
   ]
  },
  {
   "cell_type": "code",
   "execution_count": 16,
   "metadata": {},
   "outputs": [
    {
     "data": {
      "text/plain": [
       "['output/amazonbooks_dump/3rd_sample_amazon_books month_bucket RSISGD eval time.joblib']"
      ]
     },
     "execution_count": 16,
     "metadata": {},
     "output_type": "execute_result"
    }
   ],
   "source": [
    "joblib.dump(eval.IncrementalTraining_time_record, 'output/amazonbooks_dump/3rd_sample_amazon_books month_bucket RSISGD training time.joblib')\n",
    "joblib.dump(eval.EvaluateHoldouts_time_record, 'output/amazonbooks_dump/3rd_sample_amazon_books month_bucket RSISGD eval time.joblib')"
   ]
  }
 ],
 "metadata": {
  "interpreter": {
   "hash": "93164e1ba08303257f1d4f69270dc17556e83319233af9462e0c249160adc063"
  },
  "kernelspec": {
   "display_name": "streamrec_venv",
   "language": "python",
   "name": "streamrec_venv"
  },
  "language_info": {
   "codemirror_mode": {
    "name": "ipython",
    "version": 3
   },
   "file_extension": ".py",
   "mimetype": "text/x-python",
   "name": "python",
   "nbconvert_exporter": "python",
   "pygments_lexer": "ipython3",
   "version": "3.8.10"
  }
 },
 "nbformat": 4,
 "nbformat_minor": 4
}
