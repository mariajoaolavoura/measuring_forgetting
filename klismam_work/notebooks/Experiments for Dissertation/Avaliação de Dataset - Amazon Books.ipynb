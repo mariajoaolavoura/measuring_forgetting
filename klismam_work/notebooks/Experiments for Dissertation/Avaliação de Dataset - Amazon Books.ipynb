{
 "cells": [
  {
   "cell_type": "markdown",
   "metadata": {},
   "source": [
    "Neste notebook:\n",
    "* Avaliação de usuários por bucket  \n",
    "    * em média, e mediana, em quantos buckets os utilizadores estão.  \n",
    "    * quantos usuários novos estão em cada bucket e quantos não ocorrem\n",
    "\n",
    "Objetivo:\n",
    "* explorar caracteristicas dos datasets que permitam\n",
    "    * avaliar se o dataset é util para a análise  \n",
    "    * escolher o número de buckets  "
   ]
  },
  {
   "cell_type": "markdown",
   "metadata": {},
   "source": [
    "Vamos definir o numero de itens em cada bucket como 50k"
   ]
  },
  {
   "cell_type": "code",
   "execution_count": 1,
   "metadata": {},
   "outputs": [],
   "source": [
    "import os\n",
    "import sys\n",
    "sys.path.append(os.path.abspath('') + '/..')"
   ]
  },
  {
   "cell_type": "code",
   "execution_count": 2,
   "metadata": {},
   "outputs": [],
   "source": [
    "from data import ImplicitData\n",
    "from recommenders_implicit import ISGD  # ISGD framework, BISGD,\n",
    "from eval_implicit import EvaluateAndStore # EvaluateAndStore para guardar estados do modelo e holdouts, a avaliação prequencial de ratings implicitos é opcional, , EvalHoldout\n",
    "from dataset_evaluation_utils import * #get_interactions_info, plot_interactions_per_month, plot_user_presence_distribution, plot_n_users_per_bucket, plot_bucket_size\n",
    "\n",
    "from datetime import datetime, timedelta\n",
    "\n",
    "import joblib\n",
    "import pandas as pd \n",
    "import numpy as np \n",
    "import seaborn as sns\n",
    "import matplotlib.pyplot as plt\n",
    "sns.set_style('whitegrid')"
   ]
  },
  {
   "cell_type": "markdown",
   "metadata": {
    "tags": []
   },
   "source": [
    "___\n",
    "# Amazon Books\n",
    "Small subset, ratings only.  \n",
    "https://nijianmo.github.io/amazon/index.html\n"
   ]
  },
  {
   "cell_type": "code",
   "execution_count": 3,
   "metadata": {},
   "outputs": [],
   "source": [
    "dataset_name = 'Amazon_Books'\n",
    "user_col = 'user_id'"
   ]
  },
  {
   "cell_type": "code",
   "execution_count": 4,
   "metadata": {},
   "outputs": [],
   "source": [
    "# data = pd.read_csv('output/amazonbooks_dump/sampled_amazon_books.csv')"
   ]
  },
  {
   "cell_type": "code",
   "execution_count": 5,
   "metadata": {},
   "outputs": [],
   "source": [
    "# importa dataset 'amazon books'\n",
    "data = pd.read_csv(\"../datasets/Books.csv\", names=['user_id', 'item_id', 'rating', 'timestamp'])"
   ]
  },
  {
   "cell_type": "code",
   "execution_count": 6,
   "metadata": {},
   "outputs": [
    {
     "data": {
      "text/plain": [
       "(51311621, 4)"
      ]
     },
     "execution_count": 6,
     "metadata": {},
     "output_type": "execute_result"
    }
   ],
   "source": [
    "data.shape"
   ]
  },
  {
   "cell_type": "code",
   "execution_count": 7,
   "metadata": {},
   "outputs": [
    {
     "data": {
      "text/html": [
       "<div>\n",
       "<style scoped>\n",
       "    .dataframe tbody tr th:only-of-type {\n",
       "        vertical-align: middle;\n",
       "    }\n",
       "\n",
       "    .dataframe tbody tr th {\n",
       "        vertical-align: top;\n",
       "    }\n",
       "\n",
       "    .dataframe thead th {\n",
       "        text-align: right;\n",
       "    }\n",
       "</style>\n",
       "<table border=\"1\" class=\"dataframe\">\n",
       "  <thead>\n",
       "    <tr style=\"text-align: right;\">\n",
       "      <th></th>\n",
       "      <th>user_id</th>\n",
       "      <th>item_id</th>\n",
       "      <th>rating</th>\n",
       "      <th>timestamp</th>\n",
       "    </tr>\n",
       "  </thead>\n",
       "  <tbody>\n",
       "    <tr>\n",
       "      <th>0</th>\n",
       "      <td>0001713353</td>\n",
       "      <td>A1C6M8LCIX4M6M</td>\n",
       "      <td>5.0</td>\n",
       "      <td>1123804800</td>\n",
       "    </tr>\n",
       "    <tr>\n",
       "      <th>1</th>\n",
       "      <td>0001713353</td>\n",
       "      <td>A1REUF3A1YCPHM</td>\n",
       "      <td>5.0</td>\n",
       "      <td>1112140800</td>\n",
       "    </tr>\n",
       "    <tr>\n",
       "      <th>2</th>\n",
       "      <td>0001713353</td>\n",
       "      <td>A1YRBRK2XM5D5</td>\n",
       "      <td>5.0</td>\n",
       "      <td>1081036800</td>\n",
       "    </tr>\n",
       "    <tr>\n",
       "      <th>3</th>\n",
       "      <td>0001713353</td>\n",
       "      <td>A1V8ZR5P78P4ZU</td>\n",
       "      <td>5.0</td>\n",
       "      <td>1077321600</td>\n",
       "    </tr>\n",
       "    <tr>\n",
       "      <th>4</th>\n",
       "      <td>0001713353</td>\n",
       "      <td>A2ZB06582NXCIV</td>\n",
       "      <td>5.0</td>\n",
       "      <td>1475452800</td>\n",
       "    </tr>\n",
       "  </tbody>\n",
       "</table>\n",
       "</div>"
      ],
      "text/plain": [
       "      user_id         item_id  rating   timestamp\n",
       "0  0001713353  A1C6M8LCIX4M6M     5.0  1123804800\n",
       "1  0001713353  A1REUF3A1YCPHM     5.0  1112140800\n",
       "2  0001713353   A1YRBRK2XM5D5     5.0  1081036800\n",
       "3  0001713353  A1V8ZR5P78P4ZU     5.0  1077321600\n",
       "4  0001713353  A2ZB06582NXCIV     5.0  1475452800"
      ]
     },
     "execution_count": 7,
     "metadata": {},
     "output_type": "execute_result"
    }
   ],
   "source": [
    "data.head()"
   ]
  },
  {
   "cell_type": "code",
   "execution_count": 8,
   "metadata": {},
   "outputs": [],
   "source": [
    "# data['item_id'].nunique() # 15362619"
   ]
  },
  {
   "cell_type": "markdown",
   "metadata": {},
   "source": [
    "### Keep only high ratings"
   ]
  },
  {
   "cell_type": "code",
   "execution_count": 9,
   "metadata": {},
   "outputs": [
    {
     "data": {
      "text/plain": [
       "<AxesSubplot:ylabel='Frequency'>"
      ]
     },
     "execution_count": 9,
     "metadata": {},
     "output_type": "execute_result"
    },
    {
     "data": {
      "image/png": "[encoded data removed]",
      "text/plain": [
       "<Figure size 432x288 with 1 Axes>"
      ]
     },
     "metadata": {},
     "output_type": "display_data"
    }
   ],
   "source": [
    "data['rating'].plot(kind='hist')"
   ]
  },
  {
   "cell_type": "code",
   "execution_count": 10,
   "metadata": {},
   "outputs": [],
   "source": [
    "pos_ratings = np.quantile(data['rating'], q=0.8)"
   ]
  },
  {
   "cell_type": "code",
   "execution_count": 11,
   "metadata": {},
   "outputs": [
    {
     "data": {
      "text/plain": [
       "5.0"
      ]
     },
     "execution_count": 11,
     "metadata": {},
     "output_type": "execute_result"
    }
   ],
   "source": [
    "pos_ratings"
   ]
  },
  {
   "cell_type": "code",
   "execution_count": 12,
   "metadata": {},
   "outputs": [],
   "source": [
    "data = data[ data['rating'] == pos_ratings ].drop(columns='rating')"
   ]
  },
  {
   "cell_type": "code",
   "execution_count": 13,
   "metadata": {},
   "outputs": [
    {
     "data": {
      "text/plain": [
       "33979736"
      ]
     },
     "execution_count": 13,
     "metadata": {},
     "output_type": "execute_result"
    }
   ],
   "source": [
    "# number of remaining cases\n",
    "data.shape[0]"
   ]
  },
  {
   "cell_type": "markdown",
   "metadata": {},
   "source": [
    "### Convert timestamp"
   ]
  },
  {
   "cell_type": "code",
   "execution_count": 40,
   "metadata": {},
   "outputs": [
    {
     "name": "stdout",
     "output_type": "stream",
     "text": [
      "CPU times: user 253 ms, sys: 15.6 ms, total: 269 ms\n",
      "Wall time: 794 ms\n"
     ]
    }
   ],
   "source": [
    "%%time\n",
    "# 56.6 s\n",
    "data['date'] = data['timestamp'].apply(lambda x: datetime.fromtimestamp(x) ) # convert unix timestamp to date\n",
    "data = data.sort_values(by='date') # sort by date"
   ]
  },
  {
   "cell_type": "markdown",
   "metadata": {},
   "source": [
    "sampling, only 1st month of 2014"
   ]
  },
  {
   "cell_type": "code",
   "execution_count": 15,
   "metadata": {},
   "outputs": [],
   "source": [
    "# y_filter = (data['date'] < datetime.strptime('2018', '%Y')) & (datetime.strptime('2014', '%Y') <= data['date']) \n",
    "# y_filter = (data['date'] < datetime.strptime('2015-01', '%Y-%m')) & (datetime.strptime('2014-01', '%Y-%m') <= data['date']) \n",
    "y_filter = (data['date'] < datetime.strptime('2014-02', '%Y-%m')) & (datetime.strptime('2014-01', '%Y-%m') <= data['date']) "
   ]
  },
  {
   "cell_type": "code",
   "execution_count": 16,
   "metadata": {},
   "outputs": [
    {
     "data": {
      "text/plain": [
       "453122"
      ]
     },
     "execution_count": 16,
     "metadata": {},
     "output_type": "execute_result"
    }
   ],
   "source": [
    "y_filter.sum()"
   ]
  },
  {
   "cell_type": "code",
   "execution_count": 17,
   "metadata": {},
   "outputs": [],
   "source": [
    "data = data[y_filter.tolist()]"
   ]
  },
  {
   "cell_type": "code",
   "execution_count": 18,
   "metadata": {},
   "outputs": [
    {
     "data": {
      "text/plain": [
       "453122"
      ]
     },
     "execution_count": 18,
     "metadata": {},
     "output_type": "execute_result"
    }
   ],
   "source": [
    "# number of remaining cases\n",
    "data.shape[0]"
   ]
  },
  {
   "cell_type": "code",
   "execution_count": 19,
   "metadata": {},
   "outputs": [
    {
     "data": {
      "text/html": [
       "<div>\n",
       "<style scoped>\n",
       "    .dataframe tbody tr th:only-of-type {\n",
       "        vertical-align: middle;\n",
       "    }\n",
       "\n",
       "    .dataframe tbody tr th {\n",
       "        vertical-align: top;\n",
       "    }\n",
       "\n",
       "    .dataframe thead th {\n",
       "        text-align: right;\n",
       "    }\n",
       "</style>\n",
       "<table border=\"1\" class=\"dataframe\">\n",
       "  <thead>\n",
       "    <tr style=\"text-align: right;\">\n",
       "      <th></th>\n",
       "      <th>user_id</th>\n",
       "      <th>item_id</th>\n",
       "      <th>timestamp</th>\n",
       "      <th>date</th>\n",
       "    </tr>\n",
       "  </thead>\n",
       "  <tbody>\n",
       "    <tr>\n",
       "      <th>27025546</th>\n",
       "      <td>1493515292</td>\n",
       "      <td>A37V075RLK14A0</td>\n",
       "      <td>1388534400</td>\n",
       "      <td>2014-01-01</td>\n",
       "    </tr>\n",
       "    <tr>\n",
       "      <th>6506240</th>\n",
       "      <td>0312352565</td>\n",
       "      <td>A13Q5H80RKIS1B</td>\n",
       "      <td>1388534400</td>\n",
       "      <td>2014-01-01</td>\n",
       "    </tr>\n",
       "    <tr>\n",
       "      <th>5871219</th>\n",
       "      <td>0307914208</td>\n",
       "      <td>A15LTMXCREMY4M</td>\n",
       "      <td>1388534400</td>\n",
       "      <td>2014-01-01</td>\n",
       "    </tr>\n",
       "    <tr>\n",
       "      <th>25402713</th>\n",
       "      <td>1477817158</td>\n",
       "      <td>A2BZBUV6T8MA6X</td>\n",
       "      <td>1388534400</td>\n",
       "      <td>2014-01-01</td>\n",
       "    </tr>\n",
       "    <tr>\n",
       "      <th>33900742</th>\n",
       "      <td>1893910466</td>\n",
       "      <td>A2LNTWNRU7NP06</td>\n",
       "      <td>1388534400</td>\n",
       "      <td>2014-01-01</td>\n",
       "    </tr>\n",
       "  </tbody>\n",
       "</table>\n",
       "</div>"
      ],
      "text/plain": [
       "             user_id         item_id   timestamp       date\n",
       "27025546  1493515292  A37V075RLK14A0  1388534400 2014-01-01\n",
       "6506240   0312352565  A13Q5H80RKIS1B  1388534400 2014-01-01\n",
       "5871219   0307914208  A15LTMXCREMY4M  1388534400 2014-01-01\n",
       "25402713  1477817158  A2BZBUV6T8MA6X  1388534400 2014-01-01\n",
       "33900742  1893910466  A2LNTWNRU7NP06  1388534400 2014-01-01"
      ]
     },
     "execution_count": 19,
     "metadata": {},
     "output_type": "execute_result"
    }
   ],
   "source": [
    "data.head()"
   ]
  },
  {
   "cell_type": "code",
   "execution_count": 20,
   "metadata": {},
   "outputs": [
    {
     "data": {
      "text/html": [
       "<div>\n",
       "<style scoped>\n",
       "    .dataframe tbody tr th:only-of-type {\n",
       "        vertical-align: middle;\n",
       "    }\n",
       "\n",
       "    .dataframe tbody tr th {\n",
       "        vertical-align: top;\n",
       "    }\n",
       "\n",
       "    .dataframe thead th {\n",
       "        text-align: right;\n",
       "    }\n",
       "</style>\n",
       "<table border=\"1\" class=\"dataframe\">\n",
       "  <thead>\n",
       "    <tr style=\"text-align: right;\">\n",
       "      <th></th>\n",
       "      <th>user_id</th>\n",
       "      <th>item_id</th>\n",
       "      <th>timestamp</th>\n",
       "      <th>date</th>\n",
       "    </tr>\n",
       "  </thead>\n",
       "  <tbody>\n",
       "    <tr>\n",
       "      <th>12289942</th>\n",
       "      <td>0515142166</td>\n",
       "      <td>A302AHMZFK7GLH</td>\n",
       "      <td>1391126400</td>\n",
       "      <td>2014-01-31</td>\n",
       "    </tr>\n",
       "    <tr>\n",
       "      <th>20074523</th>\n",
       "      <td>0988263408</td>\n",
       "      <td>AH59FJI17P6OF</td>\n",
       "      <td>1391126400</td>\n",
       "      <td>2014-01-31</td>\n",
       "    </tr>\n",
       "    <tr>\n",
       "      <th>2742922</th>\n",
       "      <td>0071422889</td>\n",
       "      <td>A2UIY4CXY7SCXG</td>\n",
       "      <td>1391126400</td>\n",
       "      <td>2014-01-31</td>\n",
       "    </tr>\n",
       "    <tr>\n",
       "      <th>592087</th>\n",
       "      <td>0007518021</td>\n",
       "      <td>ADU6NGG29QD03</td>\n",
       "      <td>1391126400</td>\n",
       "      <td>2014-01-31</td>\n",
       "    </tr>\n",
       "    <tr>\n",
       "      <th>7087019</th>\n",
       "      <td>0316069515</td>\n",
       "      <td>AGQFAJJVT2UDQ</td>\n",
       "      <td>1391126400</td>\n",
       "      <td>2014-01-31</td>\n",
       "    </tr>\n",
       "  </tbody>\n",
       "</table>\n",
       "</div>"
      ],
      "text/plain": [
       "             user_id         item_id   timestamp       date\n",
       "12289942  0515142166  A302AHMZFK7GLH  1391126400 2014-01-31\n",
       "20074523  0988263408   AH59FJI17P6OF  1391126400 2014-01-31\n",
       "2742922   0071422889  A2UIY4CXY7SCXG  1391126400 2014-01-31\n",
       "592087    0007518021   ADU6NGG29QD03  1391126400 2014-01-31\n",
       "7087019   0316069515   AGQFAJJVT2UDQ  1391126400 2014-01-31"
      ]
     },
     "execution_count": 20,
     "metadata": {},
     "output_type": "execute_result"
    }
   ],
   "source": [
    "data.tail()"
   ]
  },
  {
   "cell_type": "code",
   "execution_count": 21,
   "metadata": {},
   "outputs": [
    {
     "name": "stdout",
     "output_type": "stream",
     "text": [
      "CPU times: user 80.2 ms, sys: 0 ns, total: 80.2 ms\n",
      "Wall time: 284 ms\n"
     ]
    }
   ],
   "source": [
    "%%time\n",
    "# 102 ms\n",
    "# keep year-month\n",
    "data['week'] = data['date'].dt.week#.apply(lambda x: datetime.strptime( str(x.year)+'-'+str(x.month), '%Y-%m' ))"
   ]
  },
  {
   "cell_type": "markdown",
   "metadata": {},
   "source": [
    "## Evaluating Time defined Buckets "
   ]
  },
  {
   "cell_type": "markdown",
   "metadata": {},
   "source": [
    "Sampling the dataset"
   ]
  },
  {
   "cell_type": "code",
   "execution_count": 22,
   "metadata": {},
   "outputs": [
    {
     "name": "stdout",
     "output_type": "stream",
     "text": [
      "CPU times: user 428 ms, sys: 2.99 ms, total: 431 ms\n",
      "Wall time: 1.47 s\n"
     ]
    },
    {
     "data": {
      "text/plain": [
       "<AxesSubplot:xlabel='week'>"
      ]
     },
     "execution_count": 22,
     "metadata": {},
     "output_type": "execute_result"
    },
    {
     "data": {
      "image/png": "[encoded data removed]",
      "text/plain": [
       "<Figure size 432x288 with 1 Axes>"
      ]
     },
     "metadata": {},
     "output_type": "display_data"
    }
   ],
   "source": [
    "%%time\n",
    "# interactions_per_month = data.groupby(by=['date']).count().iloc[:, 0]\n",
    "# interactions_per_month.name = 'count'\n",
    "# interactions_per_month=interactions_per_month.reset_index()\n",
    "\n",
    "interactions_per_week = data.groupby(by=['week']).count().iloc[:, 0]\n",
    "interactions_per_week.name = 'count'\n",
    "interactions_per_week=interactions_per_week.reset_index()\n",
    "\n",
    "# _ = interactions_per_month.copy()\n",
    "# _['date'] = _['date'].dt.year\n",
    "# _.groupby('date').sum().plot(kind='bar')\n",
    "_ = interactions_per_week.copy()\n",
    "# _['date'] = _['date'].dt.year\n",
    "_.groupby('week').sum().plot(kind='bar')"
   ]
  },
  {
   "cell_type": "markdown",
   "metadata": {},
   "source": [
    "Filter only first 3 weeks"
   ]
  },
  {
   "cell_type": "code",
   "execution_count": 23,
   "metadata": {},
   "outputs": [],
   "source": [
    "data = data[ data['week'] <= 2 ]"
   ]
  },
  {
   "cell_type": "code",
   "execution_count": 24,
   "metadata": {},
   "outputs": [
    {
     "data": {
      "text/plain": [
       "((186466, 5), 88715, 139325)"
      ]
     },
     "execution_count": 24,
     "metadata": {},
     "output_type": "execute_result"
    }
   ],
   "source": [
    "data.shape, data.user_id.nunique(), data.item_id.nunique()"
   ]
  },
  {
   "cell_type": "markdown",
   "metadata": {},
   "source": [
    "**Sampling the dataset - only most frequent users**"
   ]
  },
  {
   "cell_type": "code",
   "execution_count": 25,
   "metadata": {},
   "outputs": [
    {
     "name": "stdout",
     "output_type": "stream",
     "text": [
      "CPU times: user 426 ms, sys: 6 µs, total: 426 ms\n",
      "Wall time: 1.27 s\n"
     ]
    }
   ],
   "source": [
    "%%time\n",
    "# ( data[:1000000].groupby(by=['user_id'])['date'].nunique() > 1 ).sum()\n",
    "# user_freq_over_months = data.groupby(by=['user_id'])['date'].nunique()\n",
    "user_freq_over_week = data.groupby(by=['user_id'])['week'].nunique()"
   ]
  },
  {
   "cell_type": "code",
   "execution_count": 26,
   "metadata": {},
   "outputs": [
    {
     "data": {
      "text/plain": [
       "<AxesSubplot:ylabel='Frequency'>"
      ]
     },
     "execution_count": 26,
     "metadata": {},
     "output_type": "execute_result"
    },
    {
     "data": {
      "image/png": "[encoded data removed]",
      "text/plain": [
       "<Figure size 432x288 with 1 Axes>"
      ]
     },
     "metadata": {},
     "output_type": "display_data"
    }
   ],
   "source": [
    "# user_freq_over_months.plot(kind='hist',bins=user_freq_over_months.max())\n",
    "user_freq_over_week.plot(kind='hist',bins=user_freq_over_week.max())"
   ]
  },
  {
   "cell_type": "code",
   "execution_count": 27,
   "metadata": {},
   "outputs": [],
   "source": [
    "# sample the dataset to contain only interactions from frequent users (that occur every month).\n",
    "# there is still a huge number of interactions - 1694351\n",
    "# _ = data.set_index('user_id').loc[freq_users]\n",
    "# _.shape\n",
    "_ = data.set_index('user_id').copy()"
   ]
  },
  {
   "cell_type": "code",
   "execution_count": 28,
   "metadata": {},
   "outputs": [
    {
     "data": {
      "text/plain": [
       "<AxesSubplot:>"
      ]
     },
     "execution_count": 28,
     "metadata": {},
     "output_type": "execute_result"
    },
    {
     "data": {
      "image/png": "[encoded data removed]",
      "text/plain": [
       "<Figure size 432x288 with 1 Axes>"
      ]
     },
     "metadata": {},
     "output_type": "display_data"
    }
   ],
   "source": [
    "# frequency of users:\n",
    "_.reset_index()['user_id'].value_counts().plot(kind='box')"
   ]
  },
  {
   "cell_type": "code",
   "execution_count": 29,
   "metadata": {},
   "outputs": [],
   "source": [
    "u = data['user_id'].value_counts().reset_index()['index'].to_list()"
   ]
  },
  {
   "cell_type": "code",
   "execution_count": 30,
   "metadata": {},
   "outputs": [],
   "source": [
    "# to use, or not to use p ?\n",
    "p = (data['user_id'].value_counts()/data['user_id'].shape[0])"
   ]
  },
  {
   "cell_type": "code",
   "execution_count": 56,
   "metadata": {},
   "outputs": [],
   "source": [
    "prop = 0.5 # careful\n",
    "s = round( len( u )*prop )"
   ]
  },
  {
   "cell_type": "code",
   "execution_count": 57,
   "metadata": {},
   "outputs": [],
   "source": [
    "np.random.seed(42)\n",
    "sampled_users = list( np.random.choice(u, size=s, replace=False, p=p) ) # , p=p"
   ]
  },
  {
   "cell_type": "code",
   "execution_count": 58,
   "metadata": {},
   "outputs": [
    {
     "data": {
      "text/html": [
       "<div>\n",
       "<style scoped>\n",
       "    .dataframe tbody tr th:only-of-type {\n",
       "        vertical-align: middle;\n",
       "    }\n",
       "\n",
       "    .dataframe tbody tr th {\n",
       "        vertical-align: top;\n",
       "    }\n",
       "\n",
       "    .dataframe thead th {\n",
       "        text-align: right;\n",
       "    }\n",
       "</style>\n",
       "<table border=\"1\" class=\"dataframe\">\n",
       "  <thead>\n",
       "    <tr style=\"text-align: right;\">\n",
       "      <th></th>\n",
       "      <th>item_id</th>\n",
       "      <th>timestamp</th>\n",
       "      <th>date</th>\n",
       "      <th>week</th>\n",
       "    </tr>\n",
       "    <tr>\n",
       "      <th>user_id</th>\n",
       "      <th></th>\n",
       "      <th></th>\n",
       "      <th></th>\n",
       "      <th></th>\n",
       "    </tr>\n",
       "  </thead>\n",
       "  <tbody>\n",
       "    <tr>\n",
       "      <th>1940313031</th>\n",
       "      <td>AKB0V569DB8YN</td>\n",
       "      <td>1388793600</td>\n",
       "      <td>2014-01-04</td>\n",
       "      <td>1</td>\n",
       "    </tr>\n",
       "    <tr>\n",
       "      <th>1940313031</th>\n",
       "      <td>A2RVJP9KJED0NO</td>\n",
       "      <td>1388793600</td>\n",
       "      <td>2014-01-04</td>\n",
       "      <td>1</td>\n",
       "    </tr>\n",
       "    <tr>\n",
       "      <th>1940313031</th>\n",
       "      <td>A36N3P8U3MGGJG</td>\n",
       "      <td>1388966400</td>\n",
       "      <td>2014-01-06</td>\n",
       "      <td>2</td>\n",
       "    </tr>\n",
       "    <tr>\n",
       "      <th>1940313031</th>\n",
       "      <td>AUDJUWVYZ2YMJ</td>\n",
       "      <td>1389052800</td>\n",
       "      <td>2014-01-07</td>\n",
       "      <td>2</td>\n",
       "    </tr>\n",
       "    <tr>\n",
       "      <th>1940313031</th>\n",
       "      <td>A342XW827RTAEQ</td>\n",
       "      <td>1389312000</td>\n",
       "      <td>2014-01-10</td>\n",
       "      <td>2</td>\n",
       "    </tr>\n",
       "    <tr>\n",
       "      <th>...</th>\n",
       "      <td>...</td>\n",
       "      <td>...</td>\n",
       "      <td>...</td>\n",
       "      <td>...</td>\n",
       "    </tr>\n",
       "    <tr>\n",
       "      <th>1613777825</th>\n",
       "      <td>A13NIXUFURC8JM</td>\n",
       "      <td>1388707200</td>\n",
       "      <td>2014-01-03</td>\n",
       "      <td>1</td>\n",
       "    </tr>\n",
       "    <tr>\n",
       "      <th>1613777825</th>\n",
       "      <td>A640NS907V7ZF</td>\n",
       "      <td>1388880000</td>\n",
       "      <td>2014-01-05</td>\n",
       "      <td>1</td>\n",
       "    </tr>\n",
       "    <tr>\n",
       "      <th>1613777825</th>\n",
       "      <td>AO5EH0ODQ71OM</td>\n",
       "      <td>1388966400</td>\n",
       "      <td>2014-01-06</td>\n",
       "      <td>2</td>\n",
       "    </tr>\n",
       "    <tr>\n",
       "      <th>1613777825</th>\n",
       "      <td>A1JB24N0RZZT9J</td>\n",
       "      <td>1389312000</td>\n",
       "      <td>2014-01-10</td>\n",
       "      <td>2</td>\n",
       "    </tr>\n",
       "    <tr>\n",
       "      <th>0190218177</th>\n",
       "      <td>A2LG8XQLBG3KXI</td>\n",
       "      <td>1388793600</td>\n",
       "      <td>2014-01-04</td>\n",
       "      <td>1</td>\n",
       "    </tr>\n",
       "  </tbody>\n",
       "</table>\n",
       "<p>134260 rows × 4 columns</p>\n",
       "</div>"
      ],
      "text/plain": [
       "                   item_id   timestamp       date  week\n",
       "user_id                                                \n",
       "1940313031   AKB0V569DB8YN  1388793600 2014-01-04     1\n",
       "1940313031  A2RVJP9KJED0NO  1388793600 2014-01-04     1\n",
       "1940313031  A36N3P8U3MGGJG  1388966400 2014-01-06     2\n",
       "1940313031   AUDJUWVYZ2YMJ  1389052800 2014-01-07     2\n",
       "1940313031  A342XW827RTAEQ  1389312000 2014-01-10     2\n",
       "...                    ...         ...        ...   ...\n",
       "1613777825  A13NIXUFURC8JM  1388707200 2014-01-03     1\n",
       "1613777825   A640NS907V7ZF  1388880000 2014-01-05     1\n",
       "1613777825   AO5EH0ODQ71OM  1388966400 2014-01-06     2\n",
       "1613777825  A1JB24N0RZZT9J  1389312000 2014-01-10     2\n",
       "0190218177  A2LG8XQLBG3KXI  1388793600 2014-01-04     1\n",
       "\n",
       "[134260 rows x 4 columns]"
      ]
     },
     "execution_count": 58,
     "metadata": {},
     "output_type": "execute_result"
    }
   ],
   "source": [
    "_.loc[sampled_users]"
   ]
  },
  {
   "cell_type": "code",
   "execution_count": 59,
   "metadata": {},
   "outputs": [
    {
     "data": {
      "text/plain": [
       "105980"
      ]
     },
     "execution_count": 59,
     "metadata": {},
     "output_type": "execute_result"
    }
   ],
   "source": [
    "_.loc[sampled_users]['item_id'].nunique()"
   ]
  },
  {
   "cell_type": "code",
   "execution_count": 60,
   "metadata": {},
   "outputs": [
    {
     "data": {
      "text/plain": [
       "<AxesSubplot:>"
      ]
     },
     "execution_count": 60,
     "metadata": {},
     "output_type": "execute_result"
    },
    {
     "data": {
      "image/png": "[encoded data removed]",
      "text/plain": [
       "<Figure size 432x288 with 1 Axes>"
      ]
     },
     "metadata": {},
     "output_type": "display_data"
    }
   ],
   "source": [
    "# frequency of users:\n",
    "_.loc[sampled_users].reset_index()['user_id'].value_counts().plot(kind='box')"
   ]
  },
  {
   "cell_type": "code",
   "execution_count": 61,
   "metadata": {},
   "outputs": [
    {
     "name": "stdout",
     "output_type": "stream",
     "text": [
      "CPU times: user 1.01 s, sys: 4.16 ms, total: 1.02 s\n",
      "Wall time: 3.32 s\n"
     ]
    },
    {
     "data": {
      "text/plain": [
       "<AxesSubplot:ylabel='Frequency'>"
      ]
     },
     "execution_count": 61,
     "metadata": {},
     "output_type": "execute_result"
    },
    {
     "data": {
      "image/png": "[encoded data removed]",
      "text/plain": [
       "<Figure size 432x288 with 1 Axes>"
      ]
     },
     "metadata": {},
     "output_type": "display_data"
    }
   ],
   "source": [
    "%%time\n",
    "# ( data[:1000000].groupby(by=['user_id'])['date'].nunique() > 1 ).sum()\n",
    "# user_freq_over_months_sample = _.loc[sampled_users].reset_index().groupby(by=['user_id'])['date'].nunique()\n",
    "# user_freq_over_months_sample.plot(kind='hist',bins=user_freq_over_months_sample.max())\n",
    "\n",
    "user_freq_over_weeks_sample = _.loc[sampled_users].reset_index().groupby(by=['user_id'])['week'].nunique()\n",
    "user_freq_over_weeks_sample.plot(kind='hist',bins=user_freq_over_weeks_sample.max())"
   ]
  },
  {
   "cell_type": "code",
   "execution_count": 62,
   "metadata": {},
   "outputs": [
    {
     "data": {
      "text/plain": [
       "(88715, 139325)"
      ]
     },
     "execution_count": 62,
     "metadata": {},
     "output_type": "execute_result"
    }
   ],
   "source": [
    "# RERUN THIS\n",
    "data['user_id'].nunique(), data['item_id'].nunique() # original number of users, original number of items"
   ]
  },
  {
   "cell_type": "code",
   "execution_count": 63,
   "metadata": {},
   "outputs": [
    {
     "data": {
      "text/plain": [
       "(44358, 105980)"
      ]
     },
     "execution_count": 63,
     "metadata": {},
     "output_type": "execute_result"
    }
   ],
   "source": [
    "# _.loc[freq_users].reset_index()['user_id'].nunique(), _.loc[freq_users].reset_index()['item_id'].nunique() # sample number of users, and of items\n",
    "_.loc[sampled_users].reset_index()['user_id'].nunique(), _.loc[sampled_users].reset_index()['item_id'].nunique() # sample number of users, and of items"
   ]
  },
  {
   "cell_type": "code",
   "execution_count": 64,
   "metadata": {},
   "outputs": [
    {
     "name": "stdout",
     "output_type": "stream",
     "text": [
      "CPU times: user 664 ms, sys: 0 ns, total: 664 ms\n",
      "Wall time: 2.36 s\n"
     ]
    },
    {
     "data": {
      "text/plain": [
       "<AxesSubplot:xlabel='week'>"
      ]
     },
     "execution_count": 64,
     "metadata": {},
     "output_type": "execute_result"
    },
    {
     "data": {
      "image/png": "[encoded data removed]",
      "text/plain": [
       "<Figure size 432x288 with 1 Axes>"
      ]
     },
     "metadata": {},
     "output_type": "display_data"
    }
   ],
   "source": [
    "%%time\n",
    "# interactions_per_month = data.groupby(by=['date']).count().iloc[:, 0]\n",
    "# interactions_per_month.name = 'count'\n",
    "# interactions_per_month=interactions_per_month.reset_index()\n",
    "d = _.loc[sampled_users].reset_index()\n",
    "interactions_per_week = d.groupby(by=['week']).count().iloc[:, 0]\n",
    "interactions_per_week.name = 'count'\n",
    "interactions_per_week=interactions_per_week.reset_index()\n",
    "\n",
    "# _ = interactions_per_month.copy()\n",
    "# _['date'] = _['date'].dt.year\n",
    "# _.groupby('date').sum().plot(kind='bar')\n",
    "d = interactions_per_week.copy()\n",
    "# _['date'] = _['date'].dt.year\n",
    "d.groupby('week').sum().plot(kind='bar')"
   ]
  },
  {
   "cell_type": "code",
   "execution_count": 65,
   "metadata": {},
   "outputs": [],
   "source": [
    "# %%time\n",
    "# plot_interactions_per_month(data=_.loc[freq_users].reset_index(), dataset_name=dataset_name)\n",
    "# plot_interactions_per_month(data=_.loc[sampled_users].reset_index(), dataset_name=dataset_name)"
   ]
  },
  {
   "cell_type": "code",
   "execution_count": 66,
   "metadata": {},
   "outputs": [
    {
     "name": "stdout",
     "output_type": "stream",
     "text": [
      "134260\n"
     ]
    }
   ],
   "source": [
    "USE_THRESHOLD = True\n",
    "# all users 0.009364\n",
    "# USING prop 0.75 0.003883\n",
    "# USING prop 0.5 0.003254\n",
    "\n",
    "if USE_THRESHOLD: \n",
    "    data = _.loc[sampled_users].reset_index()\n",
    "    data = data.sort_values(by=['timestamp', 'user_id', 'item_id'])\n",
    "    print(data.shape[0])\n",
    "else:\n",
    "    print(data.shape[0])\n",
    "# new sample\n",
    "data.to_csv('output/amazonbooks_dump/3rd_sampled_amazon_books.csv', index=False)"
   ]
  },
  {
   "cell_type": "markdown",
   "metadata": {},
   "source": [
    "What is the user presence distribution based on month, quarter, and semester?"
   ]
  },
  {
   "cell_type": "code",
   "execution_count": 67,
   "metadata": {},
   "outputs": [
    {
     "name": "stdout",
     "output_type": "stream",
     "text": [
      "0.0 %\n",
      "50.0 %\n",
      "CPU times: user 35min 4s, sys: 1.04 s, total: 35min 5s\n",
      "Wall time: 2h 2min 52s\n"
     ]
    }
   ],
   "source": [
    "%%time\n",
    "user_week_interactions = data.groupby(by=[user_col, 'week']).count().iloc[:, 0]\n",
    "user_week_interactions.name = 'count'\n",
    "user_week_interactions = user_week_interactions.reset_index()\n",
    "user_week_interactions.sort_values(by=['week'], ascending=[True], inplace=True)\n",
    "\n",
    "c = 0\n",
    "user_presence_percentage = []\n",
    "for u in user_week_interactions[user_col].unique():\n",
    "        progress = round( 100*( c/user_week_interactions[user_col].nunique() ), 4 )\n",
    "        if progress%5==0:\n",
    "            print( progress, '%' )\n",
    "        c+=1\n",
    "        uidx = user_week_interactions[user_col] == u\n",
    "        week_presence = user_week_interactions.loc[uidx, 'week'].nunique() / user_week_interactions['week'].nunique()\n",
    "        user_presence_percentage.append([u, week_presence])"
   ]
  },
  {
   "cell_type": "code",
   "execution_count": 68,
   "metadata": {},
   "outputs": [],
   "source": [
    "user_presence_df = pd.DataFrame(\n",
    "    user_presence_percentage,\n",
    "    columns= ['UserID', 'week_%']\n",
    "    ).sort_values(by='week_%', ascending=False)"
   ]
  },
  {
   "cell_type": "code",
   "execution_count": 69,
   "metadata": {},
   "outputs": [],
   "source": [
    "user_presence_df.to_csv('output/amazonbooks_dump/3rd_sample_user_presence_df.csv', index=False)\n",
    "user_week_interactions.to_csv('output/amazonbooks_dump/3rd_sample_user_week_interactions.csv', index=False)"
   ]
  },
  {
   "cell_type": "code",
   "execution_count": 70,
   "metadata": {},
   "outputs": [
    {
     "data": {
      "image/png": "[encoded data removed]",
      "text/plain": [
       "<Figure size 432x288 with 1 Axes>"
      ]
     },
     "metadata": {},
     "output_type": "display_data"
    }
   ],
   "source": [
    "# fig, ax = plt.subplots(1,3, figsize=(17,4))\n",
    "user_presence_df['week_%'].plot(kind='hist', title='user week presence')\n",
    "plt.savefig(f'images/user_bucket_analysis/{dataset_name}_user_presence_distribution.png');"
   ]
  },
  {
   "cell_type": "markdown",
   "metadata": {},
   "source": [
    "How many FREQUENT users (occur in 80% or more intervals) exist?"
   ]
  },
  {
   "cell_type": "code",
   "execution_count": 71,
   "metadata": {},
   "outputs": [],
   "source": [
    "# defining threshold\n",
    "frequency_threshold = 1"
   ]
  },
  {
   "cell_type": "code",
   "execution_count": 72,
   "metadata": {},
   "outputs": [
    {
     "name": "stdout",
     "output_type": "stream",
     "text": [
      "12465 users of 44358 (28.101%) occurr in 100% or more weeks.\n"
     ]
    }
   ],
   "source": [
    "frequent_users_week = user_presence_df[user_presence_df['week_%']>=frequency_threshold ]['UserID'].values\n",
    "# percentage of users that are *frequent in months\n",
    "print(\n",
    "f'''{len(frequent_users_week)} users \\\n",
    "of {user_presence_df['UserID'].nunique()} \\\n",
    "({round( 100*len(frequent_users_week) / user_presence_df.shape[0], 3)}%) occurr in {frequency_threshold*100}% or more weeks.''' #  (of {user_month_interactions[\"date\"].nunique()})\n",
    ")"
   ]
  },
  {
   "cell_type": "code",
   "execution_count": 73,
   "metadata": {},
   "outputs": [
    {
     "data": {
      "text/plain": [
       "['output/amazonbooks_dump/3rd_sample_frequent_users_week.joblib']"
      ]
     },
     "execution_count": 73,
     "metadata": {},
     "output_type": "execute_result"
    }
   ],
   "source": [
    "# # new sample\n",
    "joblib.dump(frequent_users_week, 'output/amazonbooks_dump/3rd_sample_frequent_users_week.joblib')"
   ]
  },
  {
   "cell_type": "code",
   "execution_count": 74,
   "metadata": {},
   "outputs": [
    {
     "data": {
      "text/plain": [
       "((134260, 5), 44358, 105980)"
      ]
     },
     "execution_count": 74,
     "metadata": {},
     "output_type": "execute_result"
    }
   ],
   "source": [
    "data.shape, data.user_id.nunique(), data.item_id.nunique()"
   ]
  },
  {
   "cell_type": "code",
   "execution_count": 75,
   "metadata": {},
   "outputs": [
    {
     "data": {
      "text/plain": [
       "594"
      ]
     },
     "execution_count": 75,
     "metadata": {},
     "output_type": "execute_result"
    }
   ],
   "source": [
    "data[['user_id', 'item_id']].duplicated().sum()"
   ]
  }
 ],
 "metadata": {
  "interpreter": {
   "hash": "93164e1ba08303257f1d4f69270dc17556e83319233af9462e0c249160adc063"
  },
  "kernelspec": {
   "display_name": "streamrec_venv",
   "language": "python",
   "name": "streamrec_venv"
  },
  "language_info": {
   "codemirror_mode": {
    "name": "ipython",
    "version": 3
   },
   "file_extension": ".py",
   "mimetype": "text/x-python",
   "name": "python",
   "nbconvert_exporter": "python",
   "pygments_lexer": "ipython3",
   "version": "3.8.10"
  }
 },
 "nbformat": 4,
 "nbformat_minor": 4
}
