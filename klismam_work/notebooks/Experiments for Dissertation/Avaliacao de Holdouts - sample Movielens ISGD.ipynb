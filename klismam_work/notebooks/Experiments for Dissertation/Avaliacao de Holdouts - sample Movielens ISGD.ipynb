{
 "cells": [
  {
   "cell_type": "markdown",
   "metadata": {},
   "source": [
    "## Avaliação em holdouts - Movielens"
   ]
  },
  {
   "cell_type": "code",
   "execution_count": 1,
   "metadata": {},
   "outputs": [],
   "source": [
    "import os\n",
    "import sys\n",
    "sys.path.append(os.path.abspath('') + '/../..')"
   ]
  },
  {
   "cell_type": "code",
   "execution_count": 2,
   "metadata": {},
   "outputs": [],
   "source": [
    "from data import ImplicitData, getBucketsHoldouts\n",
    "from plot_utils import lineplot_recallxholdout, recall_heatmap\n",
    "from dataset_evaluation_utils import *\n",
    "from recommenders_implicit import ISGD, RAISGD, RSISGD  # ISGD framework, BISGD,\n",
    "from eval_implicit import EvaluateHoldouts, EvaluateAndStore, EvalPrequential # EvaluateAndStore para guardar estados do modelo e holdouts, a avaliação prequencial de ratings implicitos é opcional, , EvalHoldout\n",
    "\n",
    "from datetime import datetime\n",
    "import joblib\n",
    "import pandas as pd \n",
    "import numpy as np \n",
    "import seaborn as sns\n",
    "import matplotlib.pyplot as plt\n",
    "sns.set_style('whitegrid')"
   ]
  },
  {
   "cell_type": "markdown",
   "metadata": {},
   "source": [
    "___\n",
    "## BWT FWT"
   ]
  },
  {
   "cell_type": "markdown",
   "metadata": {},
   "source": [
    "ACC, BWT, e FWT - Lopez-Paz e Ranzato GEM"
   ]
  },
  {
   "cell_type": "code",
   "execution_count": 3,
   "metadata": {},
   "outputs": [],
   "source": [
    "def avg_recall(results_matrix): # Lopez-Paz e Ranzato GEM 2017\n",
    "    return np.mean( np.diag(results_matrix) )\n",
    "\n",
    "def compute_BWT(results_matrix): # Lopez-Paz e Ranzato GEM 2017\n",
    "    BWT = []\n",
    "    n_checkpoints = results_matrix.shape[0]\n",
    "    for T in range(1, n_checkpoints): # 1 means holdout 2, 2 means 3, so on\n",
    "        Rti = results_matrix.iloc[T, 0:T] # get models performances' on previous holdouts\n",
    "        Rii = np.diag(results_matrix)[0:T] # get models performances' on their closest holdouts (diagonal)\n",
    "        E = sum( Rti - Rii ) # future models performances' - performances' of models closest to holdouts (diagonal)\n",
    "        BWT.append( E/T ) # store average BWT for model\n",
    "    return BWT, np.mean( BWT ) # return BWT and average BWT for all models\n",
    "\n",
    "def compute_FWT(results_matrix): # Díaz-Rodriguez et al. 2018\n",
    "    upper_tri = results_matrix.to_numpy()[np.triu_indices(results_matrix.shape[0], k=1)]\n",
    "    return np.mean(upper_tri)"
   ]
  },
  {
   "cell_type": "markdown",
   "metadata": {},
   "source": [
    "___\n",
    "## Read Data"
   ]
  },
  {
   "cell_type": "code",
   "execution_count": 4,
   "metadata": {},
   "outputs": [],
   "source": [
    "# importa dataset 'palco playlists'\n",
    "data = pd.read_csv('../output/movielens_dump/sampled_movielens.csv')"
   ]
  },
  {
   "cell_type": "code",
   "execution_count": 5,
   "metadata": {},
   "outputs": [],
   "source": [
    "user_col = 'UserID'\n",
    "item_col = 'ItemID'"
   ]
  },
  {
   "cell_type": "code",
   "execution_count": 6,
   "metadata": {},
   "outputs": [
    {
     "data": {
      "text/plain": [
       "((50742, 7), 1427, 2492)"
      ]
     },
     "execution_count": 6,
     "metadata": {},
     "output_type": "execute_result"
    }
   ],
   "source": [
    "data.shape, data[user_col].nunique(), data[item_col].nunique()"
   ]
  },
  {
   "cell_type": "code",
   "execution_count": 7,
   "metadata": {},
   "outputs": [
    {
     "data": {
      "text/plain": [
       "0"
      ]
     },
     "execution_count": 7,
     "metadata": {},
     "output_type": "execute_result"
    }
   ],
   "source": [
    "data[[user_col, item_col]].duplicated().sum()"
   ]
  },
  {
   "cell_type": "code",
   "execution_count": 8,
   "metadata": {},
   "outputs": [
    {
     "data": {
      "text/plain": [
       "(50742, 7)"
      ]
     },
     "execution_count": 8,
     "metadata": {},
     "output_type": "execute_result"
    }
   ],
   "source": [
    "data.shape"
   ]
  },
  {
   "cell_type": "code",
   "execution_count": 9,
   "metadata": {},
   "outputs": [
    {
     "data": {
      "text/html": [
       "<div>\n",
       "<style scoped>\n",
       "    .dataframe tbody tr th:only-of-type {\n",
       "        vertical-align: middle;\n",
       "    }\n",
       "\n",
       "    .dataframe tbody tr th {\n",
       "        vertical-align: top;\n",
       "    }\n",
       "\n",
       "    .dataframe thead th {\n",
       "        text-align: right;\n",
       "    }\n",
       "</style>\n",
       "<table border=\"1\" class=\"dataframe\">\n",
       "  <thead>\n",
       "    <tr style=\"text-align: right;\">\n",
       "      <th></th>\n",
       "      <th>UserID</th>\n",
       "      <th>ItemID</th>\n",
       "      <th>Timestamp</th>\n",
       "      <th>date2</th>\n",
       "      <th>year</th>\n",
       "      <th>month</th>\n",
       "      <th>date</th>\n",
       "    </tr>\n",
       "  </thead>\n",
       "  <tbody>\n",
       "    <tr>\n",
       "      <th>0</th>\n",
       "      <td>4448</td>\n",
       "      <td>902</td>\n",
       "      <td>965087178</td>\n",
       "      <td>2000-07-31 23:46:18</td>\n",
       "      <td>2000</td>\n",
       "      <td>7</td>\n",
       "      <td>2000-07-01 00:00:00</td>\n",
       "    </tr>\n",
       "    <tr>\n",
       "      <th>1</th>\n",
       "      <td>4448</td>\n",
       "      <td>3793</td>\n",
       "      <td>965087267</td>\n",
       "      <td>2000-07-31 23:47:47</td>\n",
       "      <td>2000</td>\n",
       "      <td>7</td>\n",
       "      <td>2000-07-01 00:00:00</td>\n",
       "    </tr>\n",
       "    <tr>\n",
       "      <th>2</th>\n",
       "      <td>4448</td>\n",
       "      <td>3751</td>\n",
       "      <td>965087267</td>\n",
       "      <td>2000-07-31 23:47:47</td>\n",
       "      <td>2000</td>\n",
       "      <td>7</td>\n",
       "      <td>2000-07-01 00:00:00</td>\n",
       "    </tr>\n",
       "    <tr>\n",
       "      <th>3</th>\n",
       "      <td>4448</td>\n",
       "      <td>3578</td>\n",
       "      <td>965087349</td>\n",
       "      <td>2000-07-31 23:49:09</td>\n",
       "      <td>2000</td>\n",
       "      <td>7</td>\n",
       "      <td>2000-07-01 00:00:00</td>\n",
       "    </tr>\n",
       "    <tr>\n",
       "      <th>4</th>\n",
       "      <td>4448</td>\n",
       "      <td>3481</td>\n",
       "      <td>965087470</td>\n",
       "      <td>2000-07-31 23:51:10</td>\n",
       "      <td>2000</td>\n",
       "      <td>7</td>\n",
       "      <td>2000-07-01 00:00:00</td>\n",
       "    </tr>\n",
       "  </tbody>\n",
       "</table>\n",
       "</div>"
      ],
      "text/plain": [
       "   UserID  ItemID  Timestamp                date2  year  month  \\\n",
       "0    4448     902  965087178  2000-07-31 23:46:18  2000      7   \n",
       "1    4448    3793  965087267  2000-07-31 23:47:47  2000      7   \n",
       "2    4448    3751  965087267  2000-07-31 23:47:47  2000      7   \n",
       "3    4448    3578  965087349  2000-07-31 23:49:09  2000      7   \n",
       "4    4448    3481  965087470  2000-07-31 23:51:10  2000      7   \n",
       "\n",
       "                  date  \n",
       "0  2000-07-01 00:00:00  \n",
       "1  2000-07-01 00:00:00  \n",
       "2  2000-07-01 00:00:00  \n",
       "3  2000-07-01 00:00:00  \n",
       "4  2000-07-01 00:00:00  "
      ]
     },
     "execution_count": 9,
     "metadata": {},
     "output_type": "execute_result"
    }
   ],
   "source": [
    "data.head()"
   ]
  },
  {
   "cell_type": "code",
   "execution_count": 10,
   "metadata": {},
   "outputs": [
    {
     "name": "stdout",
     "output_type": "stream",
     "text": [
      "<class 'pandas.core.frame.DataFrame'>\n",
      "RangeIndex: 50742 entries, 0 to 50741\n",
      "Data columns (total 7 columns):\n",
      " #   Column     Non-Null Count  Dtype \n",
      "---  ------     --------------  ----- \n",
      " 0   UserID     50742 non-null  int64 \n",
      " 1   ItemID     50742 non-null  int64 \n",
      " 2   Timestamp  50742 non-null  int64 \n",
      " 3   date2      50742 non-null  object\n",
      " 4   year       50742 non-null  int64 \n",
      " 5   month      50742 non-null  int64 \n",
      " 6   date       50742 non-null  object\n",
      "dtypes: int64(5), object(2)\n",
      "memory usage: 2.7+ MB\n"
     ]
    }
   ],
   "source": [
    "data.info()"
   ]
  },
  {
   "cell_type": "markdown",
   "metadata": {},
   "source": [
    "### Convert timestamp"
   ]
  },
  {
   "cell_type": "code",
   "execution_count": 11,
   "metadata": {},
   "outputs": [
    {
     "data": {
      "text/html": [
       "<div>\n",
       "<style scoped>\n",
       "    .dataframe tbody tr th:only-of-type {\n",
       "        vertical-align: middle;\n",
       "    }\n",
       "\n",
       "    .dataframe tbody tr th {\n",
       "        vertical-align: top;\n",
       "    }\n",
       "\n",
       "    .dataframe thead th {\n",
       "        text-align: right;\n",
       "    }\n",
       "</style>\n",
       "<table border=\"1\" class=\"dataframe\">\n",
       "  <thead>\n",
       "    <tr style=\"text-align: right;\">\n",
       "      <th></th>\n",
       "      <th>UserID</th>\n",
       "      <th>ItemID</th>\n",
       "      <th>Timestamp</th>\n",
       "      <th>date2</th>\n",
       "      <th>year</th>\n",
       "      <th>month</th>\n",
       "      <th>date</th>\n",
       "    </tr>\n",
       "  </thead>\n",
       "  <tbody>\n",
       "    <tr>\n",
       "      <th>0</th>\n",
       "      <td>4448</td>\n",
       "      <td>902</td>\n",
       "      <td>965087178</td>\n",
       "      <td>2000-07-31 23:46:18</td>\n",
       "      <td>2000</td>\n",
       "      <td>7</td>\n",
       "      <td>2000-07-01 00:00:00</td>\n",
       "    </tr>\n",
       "    <tr>\n",
       "      <th>1</th>\n",
       "      <td>4448</td>\n",
       "      <td>3793</td>\n",
       "      <td>965087267</td>\n",
       "      <td>2000-07-31 23:47:47</td>\n",
       "      <td>2000</td>\n",
       "      <td>7</td>\n",
       "      <td>2000-07-01 00:00:00</td>\n",
       "    </tr>\n",
       "    <tr>\n",
       "      <th>2</th>\n",
       "      <td>4448</td>\n",
       "      <td>3751</td>\n",
       "      <td>965087267</td>\n",
       "      <td>2000-07-31 23:47:47</td>\n",
       "      <td>2000</td>\n",
       "      <td>7</td>\n",
       "      <td>2000-07-01 00:00:00</td>\n",
       "    </tr>\n",
       "    <tr>\n",
       "      <th>3</th>\n",
       "      <td>4448</td>\n",
       "      <td>3578</td>\n",
       "      <td>965087349</td>\n",
       "      <td>2000-07-31 23:49:09</td>\n",
       "      <td>2000</td>\n",
       "      <td>7</td>\n",
       "      <td>2000-07-01 00:00:00</td>\n",
       "    </tr>\n",
       "    <tr>\n",
       "      <th>4</th>\n",
       "      <td>4448</td>\n",
       "      <td>3481</td>\n",
       "      <td>965087470</td>\n",
       "      <td>2000-07-31 23:51:10</td>\n",
       "      <td>2000</td>\n",
       "      <td>7</td>\n",
       "      <td>2000-07-01 00:00:00</td>\n",
       "    </tr>\n",
       "    <tr>\n",
       "      <th>...</th>\n",
       "      <td>...</td>\n",
       "      <td>...</td>\n",
       "      <td>...</td>\n",
       "      <td>...</td>\n",
       "      <td>...</td>\n",
       "      <td>...</td>\n",
       "      <td>...</td>\n",
       "    </tr>\n",
       "    <tr>\n",
       "      <th>50737</th>\n",
       "      <td>5612</td>\n",
       "      <td>2581</td>\n",
       "      <td>959174063</td>\n",
       "      <td>2000-05-24 13:14:23</td>\n",
       "      <td>2000</td>\n",
       "      <td>5</td>\n",
       "      <td>2000-05-01 00:00:00</td>\n",
       "    </tr>\n",
       "    <tr>\n",
       "      <th>50738</th>\n",
       "      <td>5612</td>\n",
       "      <td>2961</td>\n",
       "      <td>959174130</td>\n",
       "      <td>2000-05-24 13:15:30</td>\n",
       "      <td>2000</td>\n",
       "      <td>5</td>\n",
       "      <td>2000-05-01 00:00:00</td>\n",
       "    </tr>\n",
       "    <tr>\n",
       "      <th>50739</th>\n",
       "      <td>5612</td>\n",
       "      <td>858</td>\n",
       "      <td>959174918</td>\n",
       "      <td>2000-05-24 13:28:38</td>\n",
       "      <td>2000</td>\n",
       "      <td>5</td>\n",
       "      <td>2000-05-01 00:00:00</td>\n",
       "    </tr>\n",
       "    <tr>\n",
       "      <th>50740</th>\n",
       "      <td>5612</td>\n",
       "      <td>3362</td>\n",
       "      <td>959174939</td>\n",
       "      <td>2000-05-24 13:28:59</td>\n",
       "      <td>2000</td>\n",
       "      <td>5</td>\n",
       "      <td>2000-05-01 00:00:00</td>\n",
       "    </tr>\n",
       "    <tr>\n",
       "      <th>50741</th>\n",
       "      <td>5612</td>\n",
       "      <td>1954</td>\n",
       "      <td>959174955</td>\n",
       "      <td>2000-05-24 13:29:15</td>\n",
       "      <td>2000</td>\n",
       "      <td>5</td>\n",
       "      <td>2000-05-01 00:00:00</td>\n",
       "    </tr>\n",
       "  </tbody>\n",
       "</table>\n",
       "<p>50742 rows × 7 columns</p>\n",
       "</div>"
      ],
      "text/plain": [
       "       UserID  ItemID  Timestamp                date2  year  month  \\\n",
       "0        4448     902  965087178  2000-07-31 23:46:18  2000      7   \n",
       "1        4448    3793  965087267  2000-07-31 23:47:47  2000      7   \n",
       "2        4448    3751  965087267  2000-07-31 23:47:47  2000      7   \n",
       "3        4448    3578  965087349  2000-07-31 23:49:09  2000      7   \n",
       "4        4448    3481  965087470  2000-07-31 23:51:10  2000      7   \n",
       "...       ...     ...        ...                  ...   ...    ...   \n",
       "50737    5612    2581  959174063  2000-05-24 13:14:23  2000      5   \n",
       "50738    5612    2961  959174130  2000-05-24 13:15:30  2000      5   \n",
       "50739    5612     858  959174918  2000-05-24 13:28:38  2000      5   \n",
       "50740    5612    3362  959174939  2000-05-24 13:28:59  2000      5   \n",
       "50741    5612    1954  959174955  2000-05-24 13:29:15  2000      5   \n",
       "\n",
       "                      date  \n",
       "0      2000-07-01 00:00:00  \n",
       "1      2000-07-01 00:00:00  \n",
       "2      2000-07-01 00:00:00  \n",
       "3      2000-07-01 00:00:00  \n",
       "4      2000-07-01 00:00:00  \n",
       "...                    ...  \n",
       "50737  2000-05-01 00:00:00  \n",
       "50738  2000-05-01 00:00:00  \n",
       "50739  2000-05-01 00:00:00  \n",
       "50740  2000-05-01 00:00:00  \n",
       "50741  2000-05-01 00:00:00  \n",
       "\n",
       "[50742 rows x 7 columns]"
      ]
     },
     "execution_count": 11,
     "metadata": {},
     "output_type": "execute_result"
    }
   ],
   "source": [
    "data"
   ]
  },
  {
   "cell_type": "code",
   "execution_count": 12,
   "metadata": {},
   "outputs": [
    {
     "name": "stdout",
     "output_type": "stream",
     "text": [
      "CPU times: user 360 ms, sys: 0 ns, total: 360 ms\n",
      "Wall time: 360 ms\n"
     ]
    }
   ],
   "source": [
    "%%time \n",
    "# 2.42s\n",
    "data['date'] = data['date'].apply(lambda x: datetime.strptime(x, '%Y-%m-%d %X'))\n",
    "# data.sort_values(by='timestamp', inplace=True)"
   ]
  },
  {
   "cell_type": "code",
   "execution_count": 13,
   "metadata": {},
   "outputs": [
    {
     "name": "stdout",
     "output_type": "stream",
     "text": [
      "CPU times: user 48.9 ms, sys: 9.09 ms, total: 58 ms\n",
      "Wall time: 42.3 ms\n"
     ]
    },
    {
     "data": {
      "text/plain": [
       "Text(0.5, 1.0, 'interactions per month')"
      ]
     },
     "execution_count": 13,
     "metadata": {},
     "output_type": "execute_result"
    },
    {
     "data": {
      "image/png": "[encoded data removed]",
      "text/plain": [
       "<Figure size 640x480 with 1 Axes>"
      ]
     },
     "metadata": {},
     "output_type": "display_data"
    }
   ],
   "source": [
    "%%time\n",
    "# 198ms\n",
    "interactions_per_month = data.groupby(by=['date']).count().iloc[:, 0]\n",
    "interactions_per_month.name = 'count'\n",
    "interactions_per_month=interactions_per_month.reset_index()\n",
    "_ = interactions_per_month.copy()\n",
    "_['date'] = _['date'].dt.date\n",
    "_.groupby('date').sum().plot(kind='bar')\n",
    "plt.title('interactions per month')"
   ]
  },
  {
   "cell_type": "markdown",
   "metadata": {},
   "source": [
    "___\n",
    "## Get intervals and Frequent users (threshold = 0.75)"
   ]
  },
  {
   "cell_type": "markdown",
   "metadata": {},
   "source": [
    "time intervals"
   ]
  },
  {
   "cell_type": "code",
   "execution_count": 14,
   "metadata": {},
   "outputs": [],
   "source": [
    "# user_presence_df = pd.read_csv('output/amazon_digmusic_dump/sample_user_presence_df.csv')\n",
    "# user_month_interactions = pd.read_csv('output/amazon_digmusic_dump/sample_user_month_interactions.csv')\n",
    "# frequent_users_month = joblib.load('output/amazon_digmusic_dump/sample_frequent_users_month.joblib')"
   ]
  },
  {
   "cell_type": "markdown",
   "metadata": {},
   "source": [
    "___\n",
    "## Experiments using months"
   ]
  },
  {
   "cell_type": "code",
   "execution_count": 15,
   "metadata": {},
   "outputs": [
    {
     "data": {
      "text/plain": [
       "(50742, 7)"
      ]
     },
     "execution_count": 15,
     "metadata": {},
     "output_type": "execute_result"
    }
   ],
   "source": [
    "data.shape"
   ]
  },
  {
   "cell_type": "code",
   "execution_count": 16,
   "metadata": {},
   "outputs": [],
   "source": [
    "data['timestamp'] = data['Timestamp']"
   ]
  },
  {
   "cell_type": "code",
   "execution_count": 17,
   "metadata": {},
   "outputs": [
    {
     "name": "stdout",
     "output_type": "stream",
     "text": [
      "Creating buckets. . .\n",
      "Creating holdouts. . .\n",
      "Cleaning holdouts. . .\n",
      "common interactions between holdout 1 and all buckets: 0\n",
      "common interactions between holdout 2 and all buckets: 0\n",
      "common interactions between holdout 3 and all buckets: 0\n",
      "Converting to ImplicitData. . .\n",
      "Done!\n",
      "CPU times: user 1.6 s, sys: 37.4 ms, total: 1.64 s\n",
      "Wall time: 1.63 s\n"
     ]
    }
   ],
   "source": [
    "%%time\n",
    "# 1min 29s\n",
    "buckets, holdouts = getBucketsHoldouts(\n",
    "    data=data,# data[ data['date'].dt.month==1 ],# \n",
    "    user_col=user_col,\n",
    "    item_col=item_col,\n",
    "    frequent_users=data[user_col].unique(),# frequent_users_month, # for every user in holdout: data['user_id'].unique()\n",
    "    interval_type='M',\n",
    "    intervals=None, \n",
    "    cold_start_buckets=0)"
   ]
  },
  {
   "cell_type": "code",
   "execution_count": 18,
   "metadata": {},
   "outputs": [
    {
     "data": {
      "text/plain": [
       "50742"
      ]
     },
     "execution_count": 18,
     "metadata": {},
     "output_type": "execute_result"
    }
   ],
   "source": [
    "sum( [b.size for b in buckets] ) + sum( [h.size for h in holdouts] )"
   ]
  },
  {
   "cell_type": "code",
   "execution_count": 19,
   "metadata": {},
   "outputs": [
    {
     "data": {
      "text/plain": [
       "['../output/movielens_dump/sample_holdouts.joblib']"
      ]
     },
     "execution_count": 19,
     "metadata": {},
     "output_type": "execute_result"
    }
   ],
   "source": [
    "joblib.dump(buckets, '../output/movielens_dump/sample_buckets.joblib')\n",
    "joblib.dump(holdouts, '../output/movielens_dump/sample_holdouts.joblib')"
   ]
  },
  {
   "cell_type": "code",
   "execution_count": 20,
   "metadata": {},
   "outputs": [],
   "source": [
    "buckets = joblib.load('../output/movielens_dump/sample_buckets.joblib')\n",
    "holdouts = joblib.load('../output/movielens_dump/sample_holdouts.joblib')"
   ]
  },
  {
   "cell_type": "code",
   "execution_count": 21,
   "metadata": {},
   "outputs": [
    {
     "data": {
      "text/plain": [
       "[(16163, 457, 1896), (12696, 444, 1747), (20285, 669, 2024)]"
      ]
     },
     "execution_count": 21,
     "metadata": {},
     "output_type": "execute_result"
    }
   ],
   "source": [
    "[(b.size, len(b.userset), len(b.itemset)) for b in buckets]"
   ]
  },
  {
   "cell_type": "code",
   "execution_count": null,
   "metadata": {},
   "outputs": [
    {
     "data": {
      "text/plain": [
       "[(454, 454, 339), (452, 452, 337), (692, 692, 466)]"
      ]
     },
     "execution_count": 23,
     "metadata": {},
     "output_type": "execute_result"
    }
   ],
   "source": [
    "[(b.size, len(b.userset), len(b.itemset)) for b in holdouts]"
   ]
  },
  {
   "cell_type": "markdown",
   "metadata": {},
   "source": [
    "### ISGD"
   ]
  },
  {
   "cell_type": "code",
   "execution_count": 40,
   "metadata": {
    "collapsed": true,
    "jupyter": {
     "outputs_hidden": true
    }
   },
   "outputs": [
    {
     "name": "stdout",
     "output_type": "stream",
     "text": [
      "0.0 %\n",
      "0.25 %\n",
      "0.5 %\n",
      "0.75 %\n",
      "1.0 %\n",
      "1.25 %\n",
      "1.5 %\n",
      "1.75 %\n",
      "2.0 %\n",
      "2.25 %\n",
      "2.5 %\n",
      "2.75 %\n",
      "3.0 %\n",
      "3.25 %\n",
      "3.5 %\n",
      "3.75 %\n",
      "4.0 %\n",
      "4.25 %\n",
      "4.5 %\n",
      "4.75 %\n",
      "5.0 %\n",
      "5.25 %\n",
      "5.5 %\n",
      "5.75 %\n",
      "6.0 %\n",
      "6.25 %\n",
      "6.5 %\n",
      "6.75 %\n",
      "7.0 %\n",
      "7.25 %\n",
      "7.5 %\n",
      "7.75 %\n",
      "8.0 %\n",
      "8.25 %\n",
      "8.5 %\n",
      "8.75 %\n",
      "9.0 %\n",
      "9.25 %\n",
      "9.5 %\n",
      "9.75 %\n",
      "10.0 %\n",
      "10.25 %\n",
      "10.5 %\n",
      "10.75 %\n",
      "11.0 %\n",
      "11.25 %\n",
      "11.5 %\n",
      "11.75 %\n",
      "12.0 %\n",
      "12.25 %\n",
      "12.5 %\n",
      "12.75 %\n",
      "13.0 %\n",
      "13.25 %\n",
      "13.5 %\n",
      "13.75 %\n",
      "14.0 %\n",
      "14.25 %\n",
      "14.5 %\n",
      "14.75 %\n",
      "15.0 %\n",
      "15.25 %\n",
      "15.5 %\n",
      "15.75 %\n",
      "16.0 %\n",
      "16.25 %\n",
      "16.5 %\n",
      "16.75 %\n",
      "17.0 %\n",
      "17.25 %\n",
      "17.5 %\n",
      "17.75 %\n",
      "18.0 %\n",
      "18.25 %\n",
      "18.5 %\n",
      "18.75 %\n",
      "19.0 %\n",
      "19.25 %\n",
      "19.5 %\n",
      "19.75 %\n",
      "20.0 %\n",
      "20.25 %\n",
      "20.5 %\n",
      "20.75 %\n",
      "21.0 %\n",
      "21.25 %\n",
      "21.5 %\n",
      "21.75 %\n",
      "22.0 %\n",
      "22.25 %\n",
      "22.5 %\n",
      "22.75 %\n",
      "23.0 %\n",
      "23.25 %\n",
      "23.5 %\n",
      "23.75 %\n",
      "24.0 %\n",
      "24.25 %\n",
      "24.5 %\n",
      "24.75 %\n",
      "25.0 %\n",
      "25.25 %\n",
      "25.5 %\n",
      "25.75 %\n",
      "26.0 %\n",
      "26.25 %\n",
      "26.5 %\n",
      "26.75 %\n",
      "27.0 %\n",
      "27.25 %\n",
      "27.5 %\n",
      "27.75 %\n",
      "28.0 %\n",
      "28.25 %\n",
      "28.5 %\n",
      "28.75 %\n",
      "29.0 %\n",
      "29.25 %\n",
      "29.5 %\n",
      "29.75 %\n",
      "30.0 %\n",
      "30.25 %\n",
      "30.5 %\n",
      "30.75 %\n",
      "31.0 %\n",
      "31.25 %\n",
      "31.5 %\n",
      "31.75 %\n",
      "32.0 %\n",
      "32.25 %\n",
      "32.5 %\n",
      "32.75 %\n",
      "33.0 %\n",
      "33.25 %\n",
      "33.5 %\n",
      "33.75 %\n",
      "34.0 %\n",
      "34.25 %\n",
      "34.5 %\n",
      "34.75 %\n",
      "35.0 %\n",
      "35.25 %\n",
      "35.5 %\n",
      "35.75 %\n",
      "36.0 %\n",
      "36.25 %\n",
      "36.5 %\n",
      "36.75 %\n",
      "37.0 %\n",
      "37.25 %\n",
      "37.5 %\n",
      "37.75 %\n",
      "38.0 %\n",
      "38.25 %\n",
      "38.5 %\n",
      "38.75 %\n",
      "39.0 %\n",
      "39.25 %\n",
      "39.5 %\n",
      "39.75 %\n",
      "40.0 %\n",
      "40.25 %\n",
      "40.5 %\n",
      "40.75 %\n",
      "41.0 %\n",
      "41.25 %\n",
      "41.5 %\n",
      "41.75 %\n",
      "42.0 %\n",
      "42.25 %\n",
      "42.5 %\n",
      "42.75 %\n",
      "43.0 %\n",
      "43.25 %\n",
      "43.5 %\n",
      "43.75 %\n",
      "44.0 %\n",
      "44.25 %\n",
      "44.5 %\n",
      "44.75 %\n",
      "45.0 %\n",
      "45.25 %\n",
      "45.5 %\n",
      "45.75 %\n",
      "46.0 %\n",
      "46.25 %\n",
      "46.5 %\n",
      "46.75 %\n",
      "47.0 %\n",
      "47.25 %\n",
      "47.5 %\n",
      "47.75 %\n",
      "48.0 %\n",
      "48.25 %\n",
      "48.5 %\n",
      "48.75 %\n",
      "49.0 %\n",
      "49.25 %\n",
      "49.5 %\n",
      "49.75 %\n",
      "50.0 %\n",
      "50.25 %\n",
      "50.5 %\n",
      "50.75 %\n",
      "51.0 %\n",
      "51.25 %\n",
      "51.5 %\n",
      "51.75 %\n",
      "52.0 %\n",
      "52.25 %\n",
      "52.5 %\n",
      "52.75 %\n",
      "53.0 %\n",
      "53.25 %\n",
      "53.5 %\n",
      "53.75 %\n",
      "54.0 %\n",
      "54.25 %\n",
      "54.5 %\n",
      "54.75 %\n",
      "55.0 %\n",
      "55.25 %\n",
      "55.5 %\n",
      "55.75 %\n",
      "56.0 %\n",
      "56.25 %\n",
      "56.5 %\n",
      "56.75 %\n",
      "57.0 %\n",
      "57.25 %\n",
      "57.5 %\n",
      "57.75 %\n",
      "58.0 %\n",
      "58.25 %\n",
      "58.5 %\n",
      "58.75 %\n",
      "59.0 %\n",
      "59.25 %\n",
      "59.5 %\n",
      "59.75 %\n",
      "60.0 %\n",
      "60.25 %\n",
      "60.5 %\n",
      "60.75 %\n",
      "61.0 %\n",
      "61.25 %\n",
      "61.5 %\n",
      "61.75 %\n",
      "62.0 %\n",
      "62.25 %\n",
      "62.5 %\n",
      "62.75 %\n",
      "63.0 %\n",
      "63.25 %\n",
      "63.5 %\n",
      "63.75 %\n",
      "64.0 %\n",
      "64.25 %\n",
      "64.5 %\n",
      "64.75 %\n",
      "65.0 %\n",
      "65.25 %\n",
      "65.5 %\n",
      "65.75 %\n",
      "66.0 %\n",
      "66.25 %\n",
      "66.5 %\n",
      "66.75 %\n",
      "67.0 %\n",
      "67.25 %\n",
      "67.5 %\n",
      "67.75 %\n",
      "68.0 %\n",
      "68.25 %\n",
      "68.5 %\n",
      "68.75 %\n",
      "69.0 %\n",
      "69.25 %\n",
      "69.5 %\n",
      "69.75 %\n",
      "70.0 %\n",
      "70.25 %\n",
      "70.5 %\n",
      "70.75 %\n",
      "71.0 %\n",
      "71.25 %\n",
      "71.5 %\n",
      "71.75 %\n",
      "72.0 %\n",
      "72.25 %\n",
      "72.5 %\n",
      "72.75 %\n",
      "73.0 %\n",
      "73.25 %\n",
      "73.5 %\n",
      "73.75 %\n",
      "74.0 %\n",
      "74.25 %\n",
      "74.5 %\n",
      "74.75 %\n",
      "75.0 %\n",
      "75.25 %\n",
      "75.5 %\n",
      "75.75 %\n",
      "76.0 %\n",
      "76.25 %\n",
      "76.5 %\n",
      "76.75 %\n",
      "77.0 %\n",
      "77.25 %\n",
      "77.5 %\n",
      "77.75 %\n",
      "78.0 %\n",
      "78.25 %\n",
      "78.5 %\n",
      "78.75 %\n",
      "79.0 %\n",
      "79.25 %\n",
      "79.5 %\n",
      "79.75 %\n",
      "80.0 %\n",
      "80.25 %\n",
      "80.5 %\n",
      "80.75 %\n",
      "81.0 %\n",
      "81.25 %\n",
      "81.5 %\n",
      "81.75 %\n",
      "82.0 %\n",
      "82.25 %\n",
      "82.5 %\n",
      "82.75 %\n",
      "83.0 %\n",
      "83.25 %\n",
      "83.5 %\n",
      "83.75 %\n",
      "84.0 %\n",
      "84.25 %\n",
      "84.5 %\n",
      "84.75 %\n",
      "85.0 %\n",
      "85.25 %\n",
      "85.5 %\n",
      "85.75 %\n",
      "86.0 %\n",
      "86.25 %\n",
      "86.5 %\n",
      "86.75 %\n",
      "87.0 %\n",
      "87.25 %\n",
      "87.5 %\n",
      "87.75 %\n",
      "88.0 %\n",
      "88.25 %\n",
      "88.5 %\n",
      "88.75 %\n",
      "89.0 %\n",
      "89.25 %\n",
      "89.5 %\n",
      "89.75 %\n",
      "90.0 %\n",
      "90.25 %\n",
      "90.5 %\n",
      "90.75 %\n",
      "91.0 %\n",
      "91.25 %\n",
      "91.5 %\n",
      "91.75 %\n",
      "92.0 %\n",
      "92.25 %\n",
      "92.5 %\n",
      "92.75 %\n",
      "93.0 %\n",
      "93.25 %\n",
      "93.5 %\n",
      "93.75 %\n",
      "94.0 %\n",
      "94.25 %\n",
      "94.5 %\n",
      "94.75 %\n",
      "95.0 %\n",
      "95.25 %\n",
      "95.5 %\n",
      "95.75 %\n",
      "96.0 %\n",
      "96.25 %\n",
      "96.5 %\n",
      "96.75 %\n",
      "97.0 %\n",
      "97.25 %\n",
      "97.5 %\n",
      "97.75 %\n",
      "98.0 %\n",
      "98.25 %\n",
      "98.5 %\n",
      "98.75 %\n",
      "99.0 %\n",
      "99.25 %\n",
      "99.5 %\n",
      "99.75 %\n",
      "CPU times: user 4h 46min 38s, sys: 9h 6min 11s, total: 13h 52min 50s\n",
      "Wall time: 55min 46s\n"
     ]
    },
    {
     "data": {
      "text/plain": [
       "(400, 400, 0.09270058314900463)"
      ]
     },
     "execution_count": 40,
     "metadata": {},
     "output_type": "execute_result"
    }
   ],
   "source": [
    "%%time\n",
    "import itertools\n",
    "def grid_search(model, stream, random_seed = 10, interleaved=10):    \n",
    "    num_factors = [50, 100, 150, 200]\n",
    "    num_iter = [1, 2, 5, 8]\n",
    "    learn_rate = [0.01, 0.05, 0.1, 0.25, 0.5]\n",
    "    regularization = [0.01, 0.05, 0.1, 0.25, 0.5]\n",
    "#     num_nodes = [1, 2, 4, 8, 16]\n",
    "    grid = [num_factors, num_iter, learn_rate, regularization] # , num_nodes\n",
    "    grid = list(itertools.product(*grid))\n",
    "    results = []\n",
    "    for i, hp in enumerate(grid):\n",
    "        print(((i*100)/len(grid)), '%')\n",
    "        empty_stream = ImplicitData([], [])\n",
    "        nf, ni, lr, reg = hp # , nn\n",
    "        m = model(empty_stream, nf, ni, lr, reg, reg, random_seed)\n",
    "        e = EvalPrequential(m, stream, metrics = [\"Recall@N\"])\n",
    "        result = e.Evaluate(start_eval=0, count=stream.size, interleaved=interleaved)\n",
    "        results.append( np.mean(result['Recall@N']) )\n",
    "    return grid, results    \n",
    "\n",
    "# OPTIONAL FOR NOW\n",
    "prop = 0.1 # 0.05\n",
    "hp_sample = data.iloc[:round( data.shape[0]*prop )]\n",
    "stream = ImplicitData(hp_sample[user_col], hp_sample[item_col]) #(data['playlist_id'],data['track_id'])    \n",
    "grid, results = grid_search(model=ISGD, stream=stream, random_seed=10, interleaved=1 )\n",
    "len(grid), len(results), max(results) # (243, 243, 0.0026656511805026656)"
   ]
  },
  {
   "cell_type": "code",
   "execution_count": 25,
   "metadata": {},
   "outputs": [],
   "source": [
    "# print( grid[ np.argmax( results ) ] ) # from 6 months (150, 2, 0.5, 0.5) # from 3 months (150, 8, 0.25, 0.25)\n",
    "num_factors, num_iter, learn_rate, regularization = (150, 2, 0.5, 0.5) #grid[ np.argmax( results ) ]"
   ]
  },
  {
   "cell_type": "code",
   "execution_count": 26,
   "metadata": {},
   "outputs": [],
   "source": [
    "# # define hyperparameters\n",
    "# num_factors = 160\n",
    "# num_iter = 8\n",
    "# learn_rate = 0.1\n",
    "# regularization = 0.4\n",
    "# num_nodes = 8"
   ]
  },
  {
   "cell_type": "code",
   "execution_count": 27,
   "metadata": {},
   "outputs": [],
   "source": [
    "# transforma interações em objeto que contem mappings usuário-itens e item-usuários, contém também métodos de suporte. recebe listas\n",
    "# stream = ImplicitData(data[user_col], data[item_col])\n",
    "# O modelo deve ser iniciado com uma lista vazia\n",
    "empty_stream = ImplicitData([], [])\n",
    "# Se o stream for passado, ao excluir itens conhecidos o recall é sempre 0. Ao permitir a recomendação de itens já vistos, o recall não é 0.\n",
    "model = ISGD(empty_stream, num_factors, num_iter, learn_rate = learn_rate, u_regularization = regularization, i_regularization = regularization, random_seed = 10)"
   ]
  },
  {
   "cell_type": "code",
   "execution_count": 61,
   "metadata": {},
   "outputs": [],
   "source": [
    "# criamos instancia de EvaluateHoldouts para treinar o modelo e criar checkpoints\n",
    "eval = EvaluateHoldouts(model=model, buckets=buckets, holdouts=holdouts)"
   ]
  },
  {
   "cell_type": "code",
   "execution_count": 62,
   "metadata": {},
   "outputs": [
    {
     "name": "stdout",
     "output_type": "stream",
     "text": [
      "----------------------------------------------------------------------------------------------------\n",
      "Train bucket 0\n",
      "Test Holdout 0\n",
      "Test Holdout 1\n",
      "recommendations not made for users in holdout 1 x checkpoint 0: 353\n",
      "Test Holdout 2\n",
      "recommendations not made for users in holdout 2 x checkpoint 0: 420\n",
      "----------------------------------------------------------------------------------------------------\n",
      "Train bucket 1\n",
      "Test Holdout 0\n",
      "Test Holdout 1\n",
      "Test Holdout 2\n",
      "recommendations not made for users in holdout 2 x checkpoint 1: 359\n",
      "----------------------------------------------------------------------------------------------------\n",
      "Train bucket 2\n",
      "Test Holdout 0\n",
      "Test Holdout 1\n",
      "Test Holdout 2\n",
      "CPU times: user 1min 4s, sys: 1min 14s, total: 2min 19s\n",
      "Wall time: 32.3 s\n"
     ]
    }
   ],
   "source": [
    "%%time\n",
    "# 28min 20s\n",
    "eval.Train_Evaluate(N_recommendations=20, exclude_known_items=True, default_user='none')"
   ]
  },
  {
   "cell_type": "code",
   "execution_count": 64,
   "metadata": {},
   "outputs": [],
   "source": [
    "rm = eval.results_matrix\n",
    "df = pd.DataFrame(rm)\n",
    "df.to_csv('output/movielens_dump/sample_movielens month_bucket ISGD results.csv', index=False)"
   ]
  },
  {
   "cell_type": "code",
   "execution_count": 66,
   "metadata": {},
   "outputs": [
    {
     "data": {
      "image/png": "[encoded data removed]",
      "text/plain": [
       "<Figure size 1080x720 with 2 Axes>"
      ]
     },
     "metadata": {},
     "output_type": "display_data"
    }
   ],
   "source": [
    "recall_heatmap(df,\n",
    "    round_point=3,\n",
    "    title='Recall@20 for ISGD checkpoints across Holdouts - Movielens',\n",
    "    filepath='images/heatmaps/movielens_dump/sample_movielens month_bucket ISGD heatmap.png') #='images/heatmaps/palco_2010 month_bucket ISGD heatmap.png'"
   ]
  },
  {
   "cell_type": "code",
   "execution_count": 67,
   "metadata": {},
   "outputs": [
    {
     "data": {
      "text/plain": [
       "0.022966565510534668"
      ]
     },
     "execution_count": 67,
     "metadata": {},
     "output_type": "execute_result"
    }
   ],
   "source": [
    "arecall = avg_recall(df)\n",
    "arecall"
   ]
  },
  {
   "cell_type": "code",
   "execution_count": 68,
   "metadata": {},
   "outputs": [
    {
     "data": {
      "text/plain": [
       "([0.00150602409638554, -0.010552390557705935], -0.004523183230660198)"
      ]
     },
     "execution_count": 68,
     "metadata": {},
     "output_type": "execute_result"
    }
   ],
   "source": [
    "BWT, meanBWT = compute_BWT(df)\n",
    "BWT, meanBWT"
   ]
  },
  {
   "cell_type": "code",
   "execution_count": 69,
   "metadata": {},
   "outputs": [
    {
     "data": {
      "text/plain": [
       "0.007146678896277611"
      ]
     },
     "execution_count": 69,
     "metadata": {},
     "output_type": "execute_result"
    }
   ],
   "source": [
    "FWT = compute_FWT(df)\n",
    "FWT\n",
    "# que itens que usuario utilizou no passado e deixou de consumir o sistema ainda pode recomendar"
   ]
  },
  {
   "cell_type": "code",
   "execution_count": 70,
   "metadata": {},
   "outputs": [
    {
     "data": {
      "text/plain": [
       "['output/movielens_dump/sample_movielens month_bucket ISGD eval time.joblib']"
      ]
     },
     "execution_count": 70,
     "metadata": {},
     "output_type": "execute_result"
    }
   ],
   "source": [
    "joblib.dump(eval.IncrementalTraining_time_record, 'output/movielens_dump/sample_movielens month_bucket ISGD training time.joblib')\n",
    "joblib.dump(eval.EvaluateHoldouts_time_record, 'output/movielens_dump/sample_movielens month_bucket ISGD eval time.joblib')"
   ]
  },
  {
   "cell_type": "code",
   "execution_count": 1,
   "metadata": {},
   "outputs": [],
   "source": [
    "import pandas as pd\n",
    "import numpy as np\n",
    "\n",
    "def avg_recall(results_matrix):\n",
    "    return np.mean( np.diag(results_matrix) )\n",
    "\n",
    "def compute_BWT(results_matrix): # Díaz-Rodriguez et al. 2018\n",
    "    diff = []\n",
    "    n_checkpoints = results_matrix.shape[0]\n",
    "    for i in range(1, n_checkpoints): # 1 means holdout 2, 2 means 3, so on\n",
    "        for j in range(i):\n",
    "            Rij = results_matrix.iloc[i,j] # get models performances' on previous holdouts\n",
    "            Rjj = results_matrix.iloc[j,j] # get models performances' on their closest holdouts (diagonal)\n",
    "            # print(Rij, Rjj)\n",
    "            diff.append( Rij - Rjj ) # future models performances' - performances' of models closest to holdouts (diagonal)\n",
    "            # print(diff)\n",
    "    BWT = sum(diff) / ( n_checkpoints*(n_checkpoints-1) / 2 ) # store average BWT for model\n",
    "    return BWT, diff # return BWT and average BWT for all models\n",
    "\n",
    "def compute_FWT(results_matrix): # Díaz-Rodriguez et al. 2018\n",
    "    upper_tri = results_matrix.to_numpy()[np.triu_indices(results_matrix.shape[0], k=1)]\n",
    "    return np.mean(upper_tri)"
   ]
  },
  {
   "cell_type": "code",
   "execution_count": 2,
   "metadata": {},
   "outputs": [],
   "source": [
    "df = pd.read_csv('output/movielens_dump/sample_movielens month_bucket ISGD results.csv')"
   ]
  },
  {
   "cell_type": "code",
   "execution_count": 8,
   "metadata": {},
   "outputs": [
    {
     "data": {
      "text/plain": [
       "0.023"
      ]
     },
     "execution_count": 8,
     "metadata": {},
     "output_type": "execute_result"
    }
   ],
   "source": [
    "avg_recall(df).round(4)"
   ]
  },
  {
   "cell_type": "code",
   "execution_count": 9,
   "metadata": {},
   "outputs": [
    {
     "data": {
      "text/plain": [
       "-0.00653"
      ]
     },
     "execution_count": 9,
     "metadata": {},
     "output_type": "execute_result"
    }
   ],
   "source": [
    "BWT, diff = compute_BWT(df)\n",
    "BWT.round(5)"
   ]
  },
  {
   "cell_type": "code",
   "execution_count": 10,
   "metadata": {},
   "outputs": [
    {
     "data": {
      "text/plain": [
       "0.00715"
      ]
     },
     "execution_count": 10,
     "metadata": {},
     "output_type": "execute_result"
    }
   ],
   "source": [
    "compute_FWT(df).round(5)"
   ]
  }
 ],
 "metadata": {
  "kernelspec": {
   "display_name": "dissertacao",
   "language": "python",
   "name": "python3"
  },
  "language_info": {
   "codemirror_mode": {
    "name": "ipython",
    "version": 3
   },
   "file_extension": ".py",
   "mimetype": "text/x-python",
   "name": "python",
   "nbconvert_exporter": "python",
   "pygments_lexer": "ipython3",
   "version": "3.8.10"
  },
  "vscode": {
   "interpreter": {
    "hash": "1587999827224b982432b08a1f15989203be23b6972d137605ee3addee06d4dd"
   }
  }
 },
 "nbformat": 4,
 "nbformat_minor": 4
}
