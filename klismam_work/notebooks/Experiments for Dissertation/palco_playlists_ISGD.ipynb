{
 "cells": [
  {
   "cell_type": "code",
   "execution_count": 1,
   "metadata": {},
   "outputs": [],
   "source": [
    "import os\n",
    "import sys\n",
    "sys.path.append(os.path.abspath('') + '/..')"
   ]
  },
  {
   "cell_type": "code",
   "execution_count": 2,
   "metadata": {},
   "outputs": [],
   "source": [
    "from data import ImplicitData\n",
    "from pprint import pprint # Pretty-print a Python object to a stream [default is sys.stdout].\n",
    "import pandas as pd \n",
    "from operator import itemgetter # não usado\n",
    "import numpy as np \n",
    "from recommenders_implicit import BISGD,ISGD  # ISGD framework\n",
    "from eval_implicit import EvalPrequential # Import EvalPrequential framework para avaliação prequencial de ratings implicitos\n",
    "from datetime import datetime"
   ]
  },
  {
   "cell_type": "code",
   "execution_count": 3,
   "metadata": {},
   "outputs": [],
   "source": [
    "# importa dataset 'palco playlists'\n",
    "data = pd.read_csv(\"../../datasets/playlisted_tracks.tsv\",\"\\t\") # \"datasets/playlisted_tracks.tsv\"\n",
    "\n",
    "# transforma interações em objeto que contem mappings usuário-itens e item-usuários, contém também métodos de suporte.\n",
    "# recebe listas\n",
    "stream = ImplicitData(data['playlist_id'].to_list(), data['track_id'].to_list()) #(data['playlist_id'],data['track_id'])"
   ]
  },
  {
   "cell_type": "code",
   "execution_count": 4,
   "metadata": {},
   "outputs": [],
   "source": [
    "num_factors = 90\n",
    "num_iter = 8\n",
    "learn_rate = 0.3\n",
    "regularization = 0.4\n",
    "num_nodes = 8"
   ]
  },
  {
   "cell_type": "code",
   "execution_count": 5,
   "metadata": {},
   "outputs": [],
   "source": [
    "# model = ISGD(ImplicitData([],[]), num_factors, num_iter, learn_rate = learn_rate, u_regularization = regularization, i_regularization = regularization, random_seed = 10)"
   ]
  },
  {
   "cell_type": "code",
   "execution_count": 6,
   "metadata": {},
   "outputs": [],
   "source": [
    "# eval = EvalPrequential(model,stream, metrics = [\"Recall@20\"])"
   ]
  },
  {
   "cell_type": "code",
   "execution_count": 7,
   "metadata": {},
   "outputs": [],
   "source": [
    "# start_recommend = datetime.now()\n",
    "# print('start time', start_recommend)\n",
    "\n",
    "# results=eval.EvaluateTime(start_eval=0, count=stream.size, interleaved=100)\n",
    "\n",
    "# print('npmean(resuls[Recall@20])', np.mean(results['Recall@20']))\n"
   ]
  },
  {
   "cell_type": "code",
   "execution_count": 8,
   "metadata": {},
   "outputs": [],
   "source": [
    "# end_recommend = datetime.now()\n",
    "# print('end time', end_recommend)\n",
    "\n",
    "# tempo = end_recommend - start_recommend\n",
    "\n",
    "# print('run time', tempo)\n",
    "# print('')\n",
    "# print('get tuple',np.mean(results['time_get_tuple']))\n",
    "# print('recommend',np.mean(results['time_recommend']))\n",
    "# print('eval_point',np.mean(results['time_eval_point']))\n",
    "# print('update',np.mean(results['time_update']))"
   ]
  },
  {
   "cell_type": "markdown",
   "metadata": {},
   "source": [
    "TREINO COM PALCO PLAYLISTS"
   ]
  },
  {
   "cell_type": "code",
   "execution_count": 9,
   "metadata": {},
   "outputs": [],
   "source": [
    "model = ISGD(stream, num_factors, num_iter, learn_rate = learn_rate, u_regularization = regularization, i_regularization = regularization, random_seed = 10)"
   ]
  },
  {
   "cell_type": "code",
   "execution_count": 10,
   "metadata": {},
   "outputs": [],
   "source": [
    "eval = EvalPrequential(model,stream, metrics = [\"Recall@20\"])"
   ]
  },
  {
   "cell_type": "code",
   "execution_count": 12,
   "metadata": {},
   "outputs": [
    {
     "data": {
      "text/plain": [
       "5597.1"
      ]
     },
     "execution_count": 12,
     "metadata": {},
     "output_type": "execute_result"
    }
   ],
   "source": [
    "stream.size / 20"
   ]
  },
  {
   "cell_type": "code",
   "execution_count": 11,
   "metadata": {},
   "outputs": [
    {
     "name": "stdout",
     "output_type": "stream",
     "text": [
      "start time 2022-04-05 18:36:21.621541\n",
      "npmean(resuls[Recall@20]) nan\n"
     ]
    },
    {
     "name": "stderr",
     "output_type": "stream",
     "text": [
      "/home/klismam/.virtualenvs/dissertacao/lib/python3.6/site-packages/numpy/core/fromnumeric.py:3373: RuntimeWarning: Mean of empty slice.\n",
      "  out=out, **kwargs)\n",
      "/home/klismam/.virtualenvs/dissertacao/lib/python3.6/site-packages/numpy/core/_methods.py:170: RuntimeWarning: invalid value encountered in double_scalars\n",
      "  ret = ret.dtype.type(ret / rcount)\n"
     ]
    }
   ],
   "source": [
    "start_recommend = datetime.now()\n",
    "print('start time', start_recommend)\n",
    "\n",
    "results=eval.EvaluateTime(start_eval=0, count=stream.size, interleaved=100)\n",
    "\n",
    "print('npmean(resuls[Recall@20])', np.mean(results['Recall@20']))"
   ]
  },
  {
   "cell_type": "code",
   "execution_count": 12,
   "metadata": {},
   "outputs": [
    {
     "name": "stdout",
     "output_type": "stream",
     "text": [
      "meanRecall@20 nan\n",
      "meantime_get_tuple 1.2595065996199657e-06\n",
      "meantime_recommend nan\n",
      "meantime_eval_point nan\n",
      "meantime_update 0.00026937783711148815\n"
     ]
    },
    {
     "name": "stderr",
     "output_type": "stream",
     "text": [
      "/home/klismam/.virtualenvs/dissertacao/lib/python3.6/site-packages/numpy/core/fromnumeric.py:3373: RuntimeWarning: Mean of empty slice.\n",
      "  out=out, **kwargs)\n",
      "/home/klismam/.virtualenvs/dissertacao/lib/python3.6/site-packages/numpy/core/_methods.py:170: RuntimeWarning: invalid value encountered in double_scalars\n",
      "  ret = ret.dtype.type(ret / rcount)\n"
     ]
    }
   ],
   "source": [
    "for k in results.keys():\n",
    "    print('mean'+k, np.mean(results[k]))"
   ]
  },
  {
   "cell_type": "code",
   "execution_count": 13,
   "metadata": {},
   "outputs": [
    {
     "name": "stdout",
     "output_type": "stream",
     "text": [
      "end time 2022-04-05 18:42:59.963218\n",
      "run time 0:06:38.341677\n",
      "\n",
      "get tuple 1.2595065996199657e-06\n",
      "recommend nan\n",
      "eval_point nan\n",
      "update 0.00026937783711148815\n"
     ]
    }
   ],
   "source": [
    "end_recommend = datetime.now()\n",
    "print('end time', end_recommend)\n",
    "\n",
    "tempo = end_recommend - start_recommend\n",
    "\n",
    "print('run time', tempo)\n",
    "print('')\n",
    "print('get tuple',np.mean(results['time_get_tuple']))\n",
    "print('recommend',np.mean(results['time_recommend']))\n",
    "print('eval_point',np.mean(results['time_eval_point']))\n",
    "print('update',np.mean(results['time_update']))"
   ]
  }
 ],
 "metadata": {
  "interpreter": {
   "hash": "93164e1ba08303257f1d4f69270dc17556e83319233af9462e0c249160adc063"
  },
  "kernelspec": {
   "display_name": "Python 3",
   "language": "python",
   "name": "python3"
  },
  "language_info": {
   "codemirror_mode": {
    "name": "ipython",
    "version": 3
   },
   "file_extension": ".py",
   "mimetype": "text/x-python",
   "name": "python",
   "nbconvert_exporter": "python",
   "pygments_lexer": "ipython3",
   "version": "3.7.6"
  }
 },
 "nbformat": 4,
 "nbformat_minor": 4
}
