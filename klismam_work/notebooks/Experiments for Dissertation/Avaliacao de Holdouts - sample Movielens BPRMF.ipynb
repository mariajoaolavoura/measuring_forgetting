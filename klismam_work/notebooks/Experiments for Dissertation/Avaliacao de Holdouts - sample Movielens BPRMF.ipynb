{
 "cells": [
  {
   "cell_type": "markdown",
   "metadata": {},
   "source": [
    "## Avaliação em holdouts - Movielens"
   ]
  },
  {
   "cell_type": "code",
   "execution_count": 1,
   "metadata": {},
   "outputs": [],
   "source": [
    "import os\n",
    "import sys\n",
    "sys.path.append(os.path.abspath('') + '/..')"
   ]
  },
  {
   "cell_type": "code",
   "execution_count": 2,
   "metadata": {},
   "outputs": [],
   "source": [
    "from data import ImplicitData, getBucketsHoldouts\n",
    "from plot_utils import lineplot_recallxholdout, recall_heatmap\n",
    "from dataset_evaluation_utils import *\n",
    "from flurs.recommender import BPRMFRecommender, SketchRecommender\n",
    "from eval_implicit import EvaluateHoldoutsFlurs\n",
    "\n",
    "import pandas as pd\n",
    "import numpy as np\n",
    "\n",
    "from datetime import datetime\n",
    "import joblib\n",
    "import seaborn as sns\n",
    "import matplotlib.pyplot as plt\n",
    "sns.set_style('whitegrid')"
   ]
  },
  {
   "cell_type": "markdown",
   "metadata": {},
   "source": [
    "___\n",
    "## BWT FWT"
   ]
  },
  {
   "cell_type": "markdown",
   "metadata": {},
   "source": [
    "ACC, BWT, e FWT - Lopez-Paz e Ranzato GEM"
   ]
  },
  {
   "cell_type": "code",
   "execution_count": 3,
   "metadata": {},
   "outputs": [],
   "source": [
    "def avg_recall(results_matrix): # Lopez-Paz e Ranzato GEM 2017\n",
    "    return np.mean( np.diag(results_matrix) )\n",
    "\n",
    "def compute_BWT(results_matrix): # Lopez-Paz e Ranzato GEM 2017\n",
    "    BWT = []\n",
    "    n_checkpoints = results_matrix.shape[0]\n",
    "    for T in range(1, n_checkpoints): # 1 means holdout 2, 2 means 3, so on\n",
    "        Rti = results_matrix.iloc[T, 0:T] # get models performances' on previous holdouts\n",
    "        Rii = np.diag(results_matrix)[0:T] # get models performances' on their closest holdouts (diagonal)\n",
    "        E = sum( Rti - Rii ) # future models performances' - performances' of models closest to holdouts (diagonal)\n",
    "        BWT.append( E/T ) # store average BWT for model\n",
    "    return BWT, np.mean( BWT ) # return BWT and average BWT for all models\n",
    "\n",
    "def compute_FWT(results_matrix): # Díaz-Rodriguez et al. 2018\n",
    "    upper_tri = results_matrix.to_numpy()[np.triu_indices(results_matrix.shape[0], k=1)]\n",
    "    return np.mean(upper_tri)"
   ]
  },
  {
   "cell_type": "markdown",
   "metadata": {},
   "source": [
    "### BPRMF"
   ]
  },
  {
   "cell_type": "code",
   "execution_count": 4,
   "metadata": {},
   "outputs": [],
   "source": [
    "data = pd.read_csv('output/movielens_dump/sampled_movielens.csv')\n",
    "user_col = 'UserID'\n",
    "item_col = 'ItemID'"
   ]
  },
  {
   "cell_type": "code",
   "execution_count": 5,
   "metadata": {},
   "outputs": [],
   "source": [
    "buckets = joblib.load('output/movielens_dump/sample_buckets.joblib')\n",
    "holdouts = joblib.load('output/movielens_dump/sample_holdouts.joblib')"
   ]
  },
  {
   "cell_type": "code",
   "execution_count": 6,
   "metadata": {},
   "outputs": [
    {
     "name": "stdout",
     "output_type": "stream",
     "text": [
      "0.0 %\n",
      "1.0 %\n",
      "2.0 %\n",
      "3.0 %\n",
      "4.0 %\n",
      "5.0 %\n",
      "6.0 %\n",
      "7.0 %\n",
      "8.0 %\n",
      "9.0 %\n",
      "10.0 %\n",
      "11.0 %\n",
      "12.0 %\n",
      "13.0 %\n",
      "14.0 %\n",
      "15.0 %\n",
      "16.0 %\n",
      "17.0 %\n",
      "18.0 %\n",
      "19.0 %\n",
      "20.0 %\n",
      "21.0 %\n",
      "22.0 %\n",
      "23.0 %\n",
      "24.0 %\n",
      "25.0 %\n",
      "26.0 %\n",
      "27.0 %\n",
      "28.0 %\n",
      "29.0 %\n",
      "30.0 %\n",
      "31.0 %\n",
      "32.0 %\n",
      "33.0 %\n",
      "34.0 %\n",
      "35.0 %\n",
      "36.0 %\n",
      "37.0 %\n",
      "38.0 %\n",
      "39.0 %\n",
      "40.0 %\n",
      "41.0 %\n",
      "42.0 %\n",
      "43.0 %\n",
      "44.0 %\n",
      "45.0 %\n",
      "46.0 %\n",
      "47.0 %\n",
      "48.0 %\n",
      "49.0 %\n",
      "50.0 %\n",
      "51.0 %\n",
      "52.0 %\n",
      "53.0 %\n",
      "54.0 %\n",
      "55.0 %\n",
      "56.0 %\n",
      "57.0 %\n",
      "58.0 %\n",
      "59.0 %\n",
      "60.0 %\n",
      "61.0 %\n",
      "62.0 %\n",
      "63.0 %\n",
      "64.0 %\n",
      "65.0 %\n",
      "66.0 %\n",
      "67.0 %\n",
      "68.0 %\n",
      "69.0 %\n",
      "70.0 %\n",
      "71.0 %\n",
      "72.0 %\n",
      "73.0 %\n",
      "74.0 %\n",
      "75.0 %\n",
      "76.0 %\n",
      "77.0 %\n",
      "78.0 %\n",
      "79.0 %\n",
      "80.0 %\n",
      "81.0 %\n",
      "82.0 %\n",
      "83.0 %\n",
      "84.0 %\n",
      "85.0 %\n",
      "86.0 %\n",
      "87.0 %\n",
      "88.0 %\n",
      "89.0 %\n",
      "90.0 %\n",
      "91.0 %\n",
      "92.0 %\n",
      "93.0 %\n",
      "94.0 %\n",
      "95.0 %\n",
      "96.0 %\n",
      "97.0 %\n",
      "98.0 %\n",
      "99.0 %\n",
      "CPU times: user 22min 37s, sys: 43min 16s, total: 1h 5min 54s\n",
      "Wall time: 4min 43s\n"
     ]
    },
    {
     "data": {
      "text/plain": [
       "(100, 100, 0.05754828537642885)"
      ]
     },
     "execution_count": 6,
     "metadata": {},
     "output_type": "execute_result"
    }
   ],
   "source": [
    "%%time\n",
    "import itertools\n",
    "from flurs.data.entity import User, Item, Event\n",
    "def grid_search(model, data, user_col, item_col, exclude_known_items, N_recommendations=-1):    \n",
    "#     try:\n",
    "        usermap = pd.Series(pd.unique( data[user_col] )).reset_index().set_index(0).to_dict()['index']\n",
    "        itemmap = pd.Series(pd.unique( data[item_col] )).reset_index().set_index(0).to_dict()['index']\n",
    "        num_factors = [50, 100, 150, 200]\n",
    "        regularization = [0.01, 0.05, 0.1, 0.25, 0.5]\n",
    "        learn_rate = [0.01, 0.05, 0.1, 0.25, 0.5]\n",
    "        grid = [num_factors, regularization, learn_rate]\n",
    "        grid = list(itertools.product(*grid))\n",
    "        results = []\n",
    "        for i, hp in enumerate(grid):\n",
    "            print(((i*100)/len(grid)), '%')\n",
    "            nf, reg, lr = hp\n",
    "            m = model(k=nf, l2_reg=reg, learn_rate=lr)     \n",
    "            m.initialize()\n",
    "            max_item_ID = 0\n",
    "            empty_stream = ImplicitData([], []) # used to track items seen by users\n",
    "            iteration_results = []\n",
    "            for u, i in data[[user_col, item_col]].values:\n",
    "                u_flurs, i_flurs = usermap[u], itemmap[i]\n",
    "                max_item_ID = max(max_item_ID, i_flurs)\n",
    "                user = User(u_flurs)\n",
    "                item = Item(i_flurs)\n",
    "                event = Event(user, item)\n",
    "                m.register(user)\n",
    "                m.register(item)\n",
    "                # Prequential:\n",
    "                # recommend\n",
    "                reclist, scores = m.recommend(user, np.arange(max_item_ID+1) )                \n",
    "#                 print(u_flurs, i_flurs, reclist[:10], scores[:10]) # \n",
    "                if exclude_known_items:\n",
    "                    user_items = empty_stream.GetUserItems(u_flurs)\n",
    "                    reclist = np.delete(reclist, user_items)\n",
    "                # get n recommendations\n",
    "                n = N_recommendations\n",
    "                if n == -1:\n",
    "                    n = len(reclist)\n",
    "                reclist = reclist[:n]\n",
    "                # evaluate\n",
    "                result = 0\n",
    "                if len(reclist) == 0:\n",
    "                    iteration_results.append( 0 )\n",
    "                else:\n",
    "                    iteration_results.append( int(i_flurs in reclist) )\n",
    "                # update\n",
    "                empty_stream.AddFeedback(u_flurs, i_flurs) #\n",
    "                m.update(event)\n",
    "\n",
    "            results.append( np.mean( iteration_results ) )\n",
    "#             print ( np.mean( iteration_results ), len( iteration_results ))\n",
    "            \n",
    "        return grid, results    \n",
    "    \n",
    "#     except:\n",
    "#         print(u, i, u_flurs, i_flurs, max_item_ID, user, item, user_items)\n",
    "\n",
    "prop = 0.05\n",
    "hp_sample = data.iloc[:round( data.shape[0]*prop )]\n",
    "# 4h 17min 22s\n",
    "grid, results = grid_search(model=BPRMFRecommender, data=hp_sample, user_col=user_col, item_col=item_col, exclude_known_items=True, N_recommendations=20)\n",
    "len(grid), len(results), max(results)\n",
    "\n",
    "# CPU times: user 18h 7min 43s, sys: 1d 10h 58min 57s, total: 2d 5h 6min 40s\n",
    "# Wall time: 3h 37min 13s\n",
    "\n",
    "# (100, 100, 0.07970249299848492)"
   ]
  },
  {
   "cell_type": "code",
   "execution_count": 7,
   "metadata": {},
   "outputs": [
    {
     "name": "stdout",
     "output_type": "stream",
     "text": [
      "(50, 0.25, 0.01)\n"
     ]
    }
   ],
   "source": [
    "print( grid[ np.argmax( results ) ] ) # (50, 0.25, 0.01)\n",
    "k, l2_reg, learn_rate = grid[ np.argmax( results ) ]"
   ]
  },
  {
   "cell_type": "code",
   "execution_count": 8,
   "metadata": {},
   "outputs": [],
   "source": [
    "# Se o stream for passado, ao excluir itens conhecidos o recall é sempre 0. Ao permitir a recomendação de itens já vistos, o recall não é 0.\n",
    "# model = BPRMFRecommender(k=num_factors, l2_reg=regularization, learn_rate=learn_rate)\n",
    "model = BPRMFRecommender(k, l2_reg, learn_rate )"
   ]
  },
  {
   "cell_type": "code",
   "execution_count": 9,
   "metadata": {},
   "outputs": [],
   "source": [
    "# criamos instancia de EvaluateHoldouts para treinar o modelo e avaliar checkpoints\n",
    "eval = EvaluateHoldoutsFlurs(model, buckets, holdouts, data, user_col, item_col)"
   ]
  },
  {
   "cell_type": "code",
   "execution_count": 10,
   "metadata": {},
   "outputs": [
    {
     "name": "stdout",
     "output_type": "stream",
     "text": [
      "register users\n",
      "0.0 %\n",
      "0.018552064895629883 register users time\n",
      "register items\n",
      "0.0 %\n",
      "25.0 %\n",
      "50.0 %\n",
      "75.0 %\n",
      "0.11967802047729492 register items time\n",
      "----------------------------------------------------------------------------------------------------\n",
      "Training: bucket 0\n",
      "Evaluating: model 0 x holdout 0\n",
      "Evaluating: model 0 x holdout 1\n",
      "Evaluating: model 0 x holdout 2\n",
      "----------------------------------------------------------------------------------------------------\n",
      "Training: bucket 1\n",
      "Evaluating: model 1 x holdout 0\n",
      "Evaluating: model 1 x holdout 1\n",
      "Evaluating: model 1 x holdout 2\n",
      "----------------------------------------------------------------------------------------------------\n",
      "Training: bucket 2\n",
      "Evaluating: model 2 x holdout 0\n",
      "Evaluating: model 2 x holdout 1\n",
      "Evaluating: model 2 x holdout 2\n",
      "CPU times: user 33 s, sys: 26.3 s, total: 59.3 s\n",
      "Wall time: 21 s\n"
     ]
    }
   ],
   "source": [
    "%%time\n",
    "# 1h 12min 53s\n",
    "eval.Train_Evaluate(N_recommendations = 20, exclude_known_items = True)"
   ]
  },
  {
   "cell_type": "code",
   "execution_count": 11,
   "metadata": {},
   "outputs": [],
   "source": [
    "rm = eval.results_matrix\n",
    "df = pd.DataFrame(rm)\n",
    "df.to_csv('output/movielens_dump/sample_movielens month_bucket BPRMF results.csv', index=False)"
   ]
  },
  {
   "cell_type": "code",
   "execution_count": 12,
   "metadata": {},
   "outputs": [
    {
     "data": {
      "image/png": "[encoded data removed]",
      "text/plain": [
       "<Figure size 1080x720 with 2 Axes>"
      ]
     },
     "metadata": {},
     "output_type": "display_data"
    }
   ],
   "source": [
    "recall_heatmap(df,\n",
    "    round_point=3,\n",
    "    title='Recall@20 for BPRMF checkpoints across Holdouts - Movielens',\n",
    "    filepath='images/heatmaps/movielens_dump/sample_movielens month_bucket BPRMF heatmap.png') #='images/heatmaps/palco_2010 month_bucket ISGD heatmap.png'"
   ]
  },
  {
   "cell_type": "code",
   "execution_count": 13,
   "metadata": {},
   "outputs": [
    {
     "data": {
      "text/plain": [
       "0.016589044972626924"
      ]
     },
     "execution_count": 13,
     "metadata": {},
     "output_type": "execute_result"
    }
   ],
   "source": [
    "arecall = avg_recall(df)\n",
    "arecall"
   ]
  },
  {
   "cell_type": "code",
   "execution_count": 14,
   "metadata": {},
   "outputs": [
    {
     "data": {
      "text/plain": [
       "([0.0015060240963855418, 0.004524886877828054], 0.003015455487106798)"
      ]
     },
     "execution_count": 14,
     "metadata": {},
     "output_type": "execute_result"
    }
   ],
   "source": [
    "BWT, meanBWT = compute_BWT(df)\n",
    "BWT, meanBWT"
   ]
  },
  {
   "cell_type": "code",
   "execution_count": 15,
   "metadata": {},
   "outputs": [
    {
     "data": {
      "text/plain": [
       "0.016269460148981323"
      ]
     },
     "execution_count": 15,
     "metadata": {},
     "output_type": "execute_result"
    }
   ],
   "source": [
    "FWT = compute_FWT(df)\n",
    "FWT\n",
    "# que itens que usuario utilizou no passado e deixou de consumir o sistema ainda pode recomendar"
   ]
  },
  {
   "cell_type": "code",
   "execution_count": 16,
   "metadata": {},
   "outputs": [
    {
     "data": {
      "text/plain": [
       "['output/movielens_dump/sample_movielens month_bucket BPRMF eval time.joblib']"
      ]
     },
     "execution_count": 16,
     "metadata": {},
     "output_type": "execute_result"
    }
   ],
   "source": [
    "joblib.dump(eval.IncrementalTraining_time_record, 'output/movielens_dump/sample_movielens month_bucket BPRMF training time.joblib')\n",
    "joblib.dump(eval.EvaluateHoldouts_time_record, 'output/movielens_dump/sample_movielens month_bucket BPRMF eval time.joblib')"
   ]
  },
  {
   "cell_type": "code",
   "execution_count": 1,
   "metadata": {},
   "outputs": [],
   "source": [
    "import pandas as pd\n",
    "import numpy as np\n",
    "\n",
    "def avg_recall(results_matrix):\n",
    "    return np.mean( np.diag(results_matrix) )\n",
    "\n",
    "def compute_BWT(results_matrix): # Díaz-Rodriguez et al. 2018\n",
    "    diff = []\n",
    "    n_checkpoints = results_matrix.shape[0]\n",
    "    for i in range(1, n_checkpoints): # 1 means holdout 2, 2 means 3, so on\n",
    "        for j in range(i):\n",
    "            Rij = results_matrix.iloc[i,j] # get models performances' on previous holdouts\n",
    "            Rjj = results_matrix.iloc[j,j] # get models performances' on their closest holdouts (diagonal)\n",
    "            # print(Rij, Rjj)\n",
    "            diff.append( Rij - Rjj ) # future models performances' - performances' of models closest to holdouts (diagonal)\n",
    "            # print(diff)\n",
    "    BWT = sum(diff) / ( n_checkpoints*(n_checkpoints-1) / 2 ) # store average BWT for model\n",
    "    return BWT, diff # return BWT and average BWT for all models\n",
    "\n",
    "def compute_FWT(results_matrix): # Díaz-Rodriguez et al. 2018\n",
    "    upper_tri = results_matrix.to_numpy()[np.triu_indices(results_matrix.shape[0], k=1)]\n",
    "    return np.mean(upper_tri)"
   ]
  },
  {
   "cell_type": "code",
   "execution_count": 2,
   "metadata": {},
   "outputs": [],
   "source": [
    "df = pd.read_csv('output/movielens_dump/sample_movielens month_bucket BPRMF results.csv')"
   ]
  },
  {
   "cell_type": "code",
   "execution_count": 8,
   "metadata": {},
   "outputs": [
    {
     "data": {
      "text/plain": [
       "0.0166"
      ]
     },
     "execution_count": 8,
     "metadata": {},
     "output_type": "execute_result"
    }
   ],
   "source": [
    "avg_recall(df).round(4)"
   ]
  },
  {
   "cell_type": "code",
   "execution_count": 9,
   "metadata": {},
   "outputs": [
    {
     "data": {
      "text/plain": [
       "0.00352"
      ]
     },
     "execution_count": 9,
     "metadata": {},
     "output_type": "execute_result"
    }
   ],
   "source": [
    "BWT, diff = compute_BWT(df)\n",
    "BWT.round(5)"
   ]
  },
  {
   "cell_type": "code",
   "execution_count": 10,
   "metadata": {},
   "outputs": [
    {
     "data": {
      "text/plain": [
       "0.0163"
      ]
     },
     "execution_count": 10,
     "metadata": {},
     "output_type": "execute_result"
    }
   ],
   "source": [
    "compute_FWT(df).round(4)"
   ]
  }
 ],
 "metadata": {
  "kernelspec": {
   "display_name": "Python 3.6.9 ('dissertacao')",
   "language": "python",
   "name": "python3"
  },
  "language_info": {
   "codemirror_mode": {
    "name": "ipython",
    "version": 3
   },
   "file_extension": ".py",
   "mimetype": "text/x-python",
   "name": "python",
   "nbconvert_exporter": "python",
   "pygments_lexer": "ipython3",
   "version": "3.6.9"
  },
  "vscode": {
   "interpreter": {
    "hash": "93164e1ba08303257f1d4f69270dc17556e83319233af9462e0c249160adc063"
   }
  }
 },
 "nbformat": 4,
 "nbformat_minor": 4
}
