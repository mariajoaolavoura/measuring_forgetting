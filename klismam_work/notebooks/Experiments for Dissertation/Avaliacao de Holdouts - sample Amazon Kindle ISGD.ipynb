{
 "cells": [
  {
   "cell_type": "markdown",
   "metadata": {},
   "source": [
    "## Avaliação em holdouts - Amazon Kindle"
   ]
  },
  {
   "cell_type": "code",
   "execution_count": 1,
   "metadata": {},
   "outputs": [],
   "source": [
    "import os\n",
    "import sys\n",
    "sys.path.append(os.path.abspath('') + '/../..')"
   ]
  },
  {
   "cell_type": "code",
   "execution_count": 2,
   "metadata": {},
   "outputs": [],
   "source": [
    "from data import ImplicitData, getBucketsHoldouts\n",
    "from plot_utils import lineplot_recallxholdout, recall_heatmap\n",
    "from dataset_evaluation_utils import *\n",
    "from recommenders_implicit import ISGD, RAISGD, RSISGD  # ISGD framework, BISGD,\n",
    "from eval_implicit import EvaluateHoldouts, EvaluateAndStore, EvalPrequential # EvaluateAndStore para guardar estados do modelo e holdouts, a avaliação prequencial de ratings implicitos é opcional, , EvalHoldout\n",
    "\n",
    "from datetime import datetime\n",
    "import joblib\n",
    "import pandas as pd \n",
    "import numpy as np \n",
    "import seaborn as sns\n",
    "import matplotlib.pyplot as plt\n",
    "sns.set_style('whitegrid')"
   ]
  },
  {
   "cell_type": "markdown",
   "metadata": {},
   "source": [
    "___\n",
    "## BWT FWT"
   ]
  },
  {
   "cell_type": "markdown",
   "metadata": {},
   "source": [
    "ACC, BWT, e FWT - Lopez-Paz e Ranzato GEM"
   ]
  },
  {
   "cell_type": "code",
   "execution_count": 3,
   "metadata": {},
   "outputs": [],
   "source": [
    "def avg_recall(results_matrix): # Lopez-Paz e Ranzato GEM 2017\n",
    "    return np.mean( np.diag(results_matrix) )\n",
    "\n",
    "def compute_BWT(results_matrix): # Lopez-Paz e Ranzato GEM 2017\n",
    "    BWT = []\n",
    "    n_checkpoints = results_matrix.shape[0]\n",
    "    for T in range(1, n_checkpoints): # 1 means holdout 2, 2 means 3, so on\n",
    "        Rti = results_matrix.iloc[T, 0:T] # get models performances' on previous holdouts\n",
    "        Rii = np.diag(results_matrix)[0:T] # get models performances' on their closest holdouts (diagonal)\n",
    "        E = sum( Rti - Rii ) # future models performances' - performances' of models closest to holdouts (diagonal)\n",
    "        BWT.append( E/T ) # store average BWT for model\n",
    "    return BWT, np.mean( BWT ) # return BWT and average BWT for all models\n",
    "\n",
    "def compute_FWT(results_matrix): # Díaz-Rodriguez et al. 2018\n",
    "    upper_tri = results_matrix.to_numpy()[np.triu_indices(results_matrix.shape[0], k=1)]\n",
    "    return np.mean(upper_tri)"
   ]
  },
  {
   "cell_type": "markdown",
   "metadata": {
    "tags": []
   },
   "source": [
    "___\n",
    "# Amazon Kindle\n",
    "Small subset, ratings only.  \n",
    "https://nijianmo.github.io/amazon/index.html\n"
   ]
  },
  {
   "cell_type": "code",
   "execution_count": 4,
   "metadata": {},
   "outputs": [],
   "source": [
    "# importa dataset 'amazon kindle'\n",
    "data = pd.read_csv('../output/amazonkindle_dump/2nd_sampled_amazon_kindle.csv')\n",
    "dataset_name = 'Amazon_Kindle'\n",
    "user_col = 'user_id'\n",
    "item_col = 'item_id'"
   ]
  },
  {
   "cell_type": "code",
   "execution_count": 5,
   "metadata": {},
   "outputs": [
    {
     "data": {
      "text/plain": [
       "((77145, 4), 13902, 59197)"
      ]
     },
     "execution_count": 5,
     "metadata": {},
     "output_type": "execute_result"
    }
   ],
   "source": [
    "data.shape, data.user_id.nunique(), data.item_id.nunique()"
   ]
  },
  {
   "cell_type": "code",
   "execution_count": 6,
   "metadata": {},
   "outputs": [
    {
     "data": {
      "text/plain": [
       "363"
      ]
     },
     "execution_count": 6,
     "metadata": {},
     "output_type": "execute_result"
    }
   ],
   "source": [
    "data[['user_id', 'item_id']].duplicated().sum()"
   ]
  },
  {
   "cell_type": "code",
   "execution_count": 7,
   "metadata": {},
   "outputs": [
    {
     "data": {
      "text/html": [
       "<div>\n",
       "<style scoped>\n",
       "    .dataframe tbody tr th:only-of-type {\n",
       "        vertical-align: middle;\n",
       "    }\n",
       "\n",
       "    .dataframe tbody tr th {\n",
       "        vertical-align: top;\n",
       "    }\n",
       "\n",
       "    .dataframe thead th {\n",
       "        text-align: right;\n",
       "    }\n",
       "</style>\n",
       "<table border=\"1\" class=\"dataframe\">\n",
       "  <thead>\n",
       "    <tr style=\"text-align: right;\">\n",
       "      <th></th>\n",
       "      <th>user_id</th>\n",
       "      <th>item_id</th>\n",
       "      <th>timestamp</th>\n",
       "      <th>date</th>\n",
       "    </tr>\n",
       "  </thead>\n",
       "  <tbody>\n",
       "    <tr>\n",
       "      <th>0</th>\n",
       "      <td>B000FA5PV4</td>\n",
       "      <td>A23NR7891PY2P1</td>\n",
       "      <td>1388534400</td>\n",
       "      <td>2014-01-01</td>\n",
       "    </tr>\n",
       "    <tr>\n",
       "      <th>1</th>\n",
       "      <td>B000FC1LLA</td>\n",
       "      <td>A1CBHVD1PG6UUV</td>\n",
       "      <td>1388534400</td>\n",
       "      <td>2014-01-01</td>\n",
       "    </tr>\n",
       "    <tr>\n",
       "      <th>2</th>\n",
       "      <td>B000GFK7L6</td>\n",
       "      <td>ARISSM47DJHQ8</td>\n",
       "      <td>1388534400</td>\n",
       "      <td>2014-01-01</td>\n",
       "    </tr>\n",
       "    <tr>\n",
       "      <th>3</th>\n",
       "      <td>B000QCS8YM</td>\n",
       "      <td>A1SBCP7BB2QK9T</td>\n",
       "      <td>1388534400</td>\n",
       "      <td>2014-01-01</td>\n",
       "    </tr>\n",
       "    <tr>\n",
       "      <th>4</th>\n",
       "      <td>B000VDUWMC</td>\n",
       "      <td>ABSBO832VAJ36</td>\n",
       "      <td>1388534400</td>\n",
       "      <td>2014-01-01</td>\n",
       "    </tr>\n",
       "  </tbody>\n",
       "</table>\n",
       "</div>"
      ],
      "text/plain": [
       "      user_id         item_id   timestamp        date\n",
       "0  B000FA5PV4  A23NR7891PY2P1  1388534400  2014-01-01\n",
       "1  B000FC1LLA  A1CBHVD1PG6UUV  1388534400  2014-01-01\n",
       "2  B000GFK7L6   ARISSM47DJHQ8  1388534400  2014-01-01\n",
       "3  B000QCS8YM  A1SBCP7BB2QK9T  1388534400  2014-01-01\n",
       "4  B000VDUWMC   ABSBO832VAJ36  1388534400  2014-01-01"
      ]
     },
     "execution_count": 7,
     "metadata": {},
     "output_type": "execute_result"
    }
   ],
   "source": [
    "data.head()"
   ]
  },
  {
   "cell_type": "code",
   "execution_count": 8,
   "metadata": {},
   "outputs": [
    {
     "name": "stdout",
     "output_type": "stream",
     "text": [
      "<class 'pandas.core.frame.DataFrame'>\n",
      "RangeIndex: 77145 entries, 0 to 77144\n",
      "Data columns (total 4 columns):\n",
      " #   Column     Non-Null Count  Dtype \n",
      "---  ------     --------------  ----- \n",
      " 0   user_id    77145 non-null  object\n",
      " 1   item_id    77145 non-null  object\n",
      " 2   timestamp  77145 non-null  int64 \n",
      " 3   date       77145 non-null  object\n",
      "dtypes: int64(1), object(3)\n",
      "memory usage: 2.4+ MB\n"
     ]
    }
   ],
   "source": [
    "data.info()"
   ]
  },
  {
   "cell_type": "markdown",
   "metadata": {},
   "source": [
    "### Convert timestamp"
   ]
  },
  {
   "cell_type": "code",
   "execution_count": 9,
   "metadata": {},
   "outputs": [
    {
     "name": "stdout",
     "output_type": "stream",
     "text": [
      "CPU times: user 501 ms, sys: 12 ms, total: 513 ms\n",
      "Wall time: 512 ms\n"
     ]
    }
   ],
   "source": [
    "%%time \n",
    "# 2.42s\n",
    "data['date'] = data['date'].apply(lambda x: datetime.strptime(x, '%Y-%m-%d'))\n",
    "# data.sort_values(by='timestamp', inplace=True)"
   ]
  },
  {
   "cell_type": "code",
   "execution_count": 10,
   "metadata": {},
   "outputs": [
    {
     "data": {
      "text/html": [
       "<div>\n",
       "<style scoped>\n",
       "    .dataframe tbody tr th:only-of-type {\n",
       "        vertical-align: middle;\n",
       "    }\n",
       "\n",
       "    .dataframe tbody tr th {\n",
       "        vertical-align: top;\n",
       "    }\n",
       "\n",
       "    .dataframe thead th {\n",
       "        text-align: right;\n",
       "    }\n",
       "</style>\n",
       "<table border=\"1\" class=\"dataframe\">\n",
       "  <thead>\n",
       "    <tr style=\"text-align: right;\">\n",
       "      <th></th>\n",
       "      <th>user_id</th>\n",
       "      <th>item_id</th>\n",
       "      <th>timestamp</th>\n",
       "      <th>date</th>\n",
       "    </tr>\n",
       "  </thead>\n",
       "  <tbody>\n",
       "    <tr>\n",
       "      <th>0</th>\n",
       "      <td>B000FA5PV4</td>\n",
       "      <td>A23NR7891PY2P1</td>\n",
       "      <td>1388534400</td>\n",
       "      <td>2014-01-01</td>\n",
       "    </tr>\n",
       "    <tr>\n",
       "      <th>1</th>\n",
       "      <td>B000FC1LLA</td>\n",
       "      <td>A1CBHVD1PG6UUV</td>\n",
       "      <td>1388534400</td>\n",
       "      <td>2014-01-01</td>\n",
       "    </tr>\n",
       "    <tr>\n",
       "      <th>2</th>\n",
       "      <td>B000GFK7L6</td>\n",
       "      <td>ARISSM47DJHQ8</td>\n",
       "      <td>1388534400</td>\n",
       "      <td>2014-01-01</td>\n",
       "    </tr>\n",
       "    <tr>\n",
       "      <th>3</th>\n",
       "      <td>B000QCS8YM</td>\n",
       "      <td>A1SBCP7BB2QK9T</td>\n",
       "      <td>1388534400</td>\n",
       "      <td>2014-01-01</td>\n",
       "    </tr>\n",
       "    <tr>\n",
       "      <th>4</th>\n",
       "      <td>B000VDUWMC</td>\n",
       "      <td>ABSBO832VAJ36</td>\n",
       "      <td>1388534400</td>\n",
       "      <td>2014-01-01</td>\n",
       "    </tr>\n",
       "  </tbody>\n",
       "</table>\n",
       "</div>"
      ],
      "text/plain": [
       "      user_id         item_id   timestamp       date\n",
       "0  B000FA5PV4  A23NR7891PY2P1  1388534400 2014-01-01\n",
       "1  B000FC1LLA  A1CBHVD1PG6UUV  1388534400 2014-01-01\n",
       "2  B000GFK7L6   ARISSM47DJHQ8  1388534400 2014-01-01\n",
       "3  B000QCS8YM  A1SBCP7BB2QK9T  1388534400 2014-01-01\n",
       "4  B000VDUWMC   ABSBO832VAJ36  1388534400 2014-01-01"
      ]
     },
     "execution_count": 10,
     "metadata": {},
     "output_type": "execute_result"
    }
   ],
   "source": [
    "data.head()"
   ]
  },
  {
   "cell_type": "code",
   "execution_count": 11,
   "metadata": {},
   "outputs": [
    {
     "data": {
      "text/html": [
       "<div>\n",
       "<style scoped>\n",
       "    .dataframe tbody tr th:only-of-type {\n",
       "        vertical-align: middle;\n",
       "    }\n",
       "\n",
       "    .dataframe tbody tr th {\n",
       "        vertical-align: top;\n",
       "    }\n",
       "\n",
       "    .dataframe thead th {\n",
       "        text-align: right;\n",
       "    }\n",
       "</style>\n",
       "<table border=\"1\" class=\"dataframe\">\n",
       "  <thead>\n",
       "    <tr style=\"text-align: right;\">\n",
       "      <th></th>\n",
       "      <th>user_id</th>\n",
       "      <th>item_id</th>\n",
       "      <th>timestamp</th>\n",
       "      <th>date</th>\n",
       "    </tr>\n",
       "  </thead>\n",
       "  <tbody>\n",
       "    <tr>\n",
       "      <th>77140</th>\n",
       "      <td>B017R65QS0</td>\n",
       "      <td>A324LH5GJ25AGN</td>\n",
       "      <td>1393545600</td>\n",
       "      <td>2014-02-01</td>\n",
       "    </tr>\n",
       "    <tr>\n",
       "      <th>77141</th>\n",
       "      <td>B017R65QS0</td>\n",
       "      <td>A3SYMLOGJ05LLN</td>\n",
       "      <td>1393545600</td>\n",
       "      <td>2014-02-01</td>\n",
       "    </tr>\n",
       "    <tr>\n",
       "      <th>77142</th>\n",
       "      <td>B0183G04SU</td>\n",
       "      <td>A2UOPNVOWI5KTE</td>\n",
       "      <td>1393545600</td>\n",
       "      <td>2014-02-01</td>\n",
       "    </tr>\n",
       "    <tr>\n",
       "      <th>77143</th>\n",
       "      <td>B01BA56KLQ</td>\n",
       "      <td>A1HTKMB00WLD6H</td>\n",
       "      <td>1393545600</td>\n",
       "      <td>2014-02-01</td>\n",
       "    </tr>\n",
       "    <tr>\n",
       "      <th>77144</th>\n",
       "      <td>B01BA56KLQ</td>\n",
       "      <td>A1NO8K23DF6FYM</td>\n",
       "      <td>1393545600</td>\n",
       "      <td>2014-02-01</td>\n",
       "    </tr>\n",
       "  </tbody>\n",
       "</table>\n",
       "</div>"
      ],
      "text/plain": [
       "          user_id         item_id   timestamp       date\n",
       "77140  B017R65QS0  A324LH5GJ25AGN  1393545600 2014-02-01\n",
       "77141  B017R65QS0  A3SYMLOGJ05LLN  1393545600 2014-02-01\n",
       "77142  B0183G04SU  A2UOPNVOWI5KTE  1393545600 2014-02-01\n",
       "77143  B01BA56KLQ  A1HTKMB00WLD6H  1393545600 2014-02-01\n",
       "77144  B01BA56KLQ  A1NO8K23DF6FYM  1393545600 2014-02-01"
      ]
     },
     "execution_count": 11,
     "metadata": {},
     "output_type": "execute_result"
    }
   ],
   "source": [
    "data.tail()"
   ]
  },
  {
   "cell_type": "code",
   "execution_count": 12,
   "metadata": {},
   "outputs": [
    {
     "name": "stdout",
     "output_type": "stream",
     "text": [
      "CPU times: user 68.8 ms, sys: 44.2 ms, total: 113 ms\n",
      "Wall time: 106 ms\n"
     ]
    },
    {
     "data": {
      "text/plain": [
       "Text(0.5, 1.0, 'interactions per month')"
      ]
     },
     "execution_count": 12,
     "metadata": {},
     "output_type": "execute_result"
    },
    {
     "data": {
      "image/png": "[encoded data removed]",
      "text/plain": [
       "<Figure size 640x480 with 1 Axes>"
      ]
     },
     "metadata": {},
     "output_type": "display_data"
    }
   ],
   "source": [
    "%%time\n",
    "# 198ms\n",
    "interactions_per_month = data.groupby(by=['date']).count().iloc[:, 0]\n",
    "interactions_per_month.name = 'count'\n",
    "interactions_per_month=interactions_per_month.reset_index()\n",
    "_ = interactions_per_month.copy()\n",
    "_['date'] = _['date'].dt.date\n",
    "_.groupby('date').sum().plot(kind='bar')\n",
    "plt.title('interactions per month')"
   ]
  },
  {
   "cell_type": "markdown",
   "metadata": {},
   "source": [
    "___\n",
    "## Get intervals and Frequent users (threshold = 0.75)"
   ]
  },
  {
   "cell_type": "markdown",
   "metadata": {},
   "source": [
    "time intervals"
   ]
  },
  {
   "cell_type": "code",
   "execution_count": 13,
   "metadata": {},
   "outputs": [
    {
     "ename": "FileNotFoundError",
     "evalue": "[Errno 2] No such file or directory: 'output/amazonkindle_dump/2nd_sample_user_presence_df.csv'",
     "output_type": "error",
     "traceback": [
      "\u001b[0;31m---------------------------------------------------------------------------\u001b[0m",
      "\u001b[0;31mFileNotFoundError\u001b[0m                         Traceback (most recent call last)",
      "Cell \u001b[0;32mIn[13], line 1\u001b[0m\n\u001b[0;32m----> 1\u001b[0m user_presence_df \u001b[39m=\u001b[39m pd\u001b[39m.\u001b[39;49mread_csv(\u001b[39m'\u001b[39;49m\u001b[39moutput/amazonkindle_dump/2nd_sample_user_presence_df.csv\u001b[39;49m\u001b[39m'\u001b[39;49m)\n\u001b[1;32m      2\u001b[0m user_month_interactions \u001b[39m=\u001b[39m pd\u001b[39m.\u001b[39mread_csv(\u001b[39m'\u001b[39m\u001b[39moutput/amazonkindle_dump/2nd_sample_user_month_interactions.csv\u001b[39m\u001b[39m'\u001b[39m)\n\u001b[1;32m      3\u001b[0m frequent_users_month \u001b[39m=\u001b[39m joblib\u001b[39m.\u001b[39mload(\u001b[39m'\u001b[39m\u001b[39moutput/amazonkindle_dump/2nd_sample_frequent_users_month.joblib\u001b[39m\u001b[39m'\u001b[39m)\n",
      "File \u001b[0;32m~/.virtualenvs/dissertacao/lib/python3.8/site-packages/pandas/io/parsers.py:688\u001b[0m, in \u001b[0;36mread_csv\u001b[0;34m(filepath_or_buffer, sep, delimiter, header, names, index_col, usecols, squeeze, prefix, mangle_dupe_cols, dtype, engine, converters, true_values, false_values, skipinitialspace, skiprows, skipfooter, nrows, na_values, keep_default_na, na_filter, verbose, skip_blank_lines, parse_dates, infer_datetime_format, keep_date_col, date_parser, dayfirst, cache_dates, iterator, chunksize, compression, thousands, decimal, lineterminator, quotechar, quoting, doublequote, escapechar, comment, encoding, dialect, error_bad_lines, warn_bad_lines, delim_whitespace, low_memory, memory_map, float_precision)\u001b[0m\n\u001b[1;32m    635\u001b[0m     engine_specified \u001b[39m=\u001b[39m \u001b[39mFalse\u001b[39;00m\n\u001b[1;32m    637\u001b[0m kwds\u001b[39m.\u001b[39mupdate(\n\u001b[1;32m    638\u001b[0m     delimiter\u001b[39m=\u001b[39mdelimiter,\n\u001b[1;32m    639\u001b[0m     engine\u001b[39m=\u001b[39mengine,\n\u001b[0;32m   (...)\u001b[0m\n\u001b[1;32m    685\u001b[0m     skip_blank_lines\u001b[39m=\u001b[39mskip_blank_lines,\n\u001b[1;32m    686\u001b[0m )\n\u001b[0;32m--> 688\u001b[0m \u001b[39mreturn\u001b[39;00m _read(filepath_or_buffer, kwds)\n",
      "File \u001b[0;32m~/.virtualenvs/dissertacao/lib/python3.8/site-packages/pandas/io/parsers.py:454\u001b[0m, in \u001b[0;36m_read\u001b[0;34m(filepath_or_buffer, kwds)\u001b[0m\n\u001b[1;32m    451\u001b[0m _validate_names(kwds\u001b[39m.\u001b[39mget(\u001b[39m\"\u001b[39m\u001b[39mnames\u001b[39m\u001b[39m\"\u001b[39m, \u001b[39mNone\u001b[39;00m))\n\u001b[1;32m    453\u001b[0m \u001b[39m# Create the parser.\u001b[39;00m\n\u001b[0;32m--> 454\u001b[0m parser \u001b[39m=\u001b[39m TextFileReader(fp_or_buf, \u001b[39m*\u001b[39;49m\u001b[39m*\u001b[39;49mkwds)\n\u001b[1;32m    456\u001b[0m \u001b[39mif\u001b[39;00m chunksize \u001b[39mor\u001b[39;00m iterator:\n\u001b[1;32m    457\u001b[0m     \u001b[39mreturn\u001b[39;00m parser\n",
      "File \u001b[0;32m~/.virtualenvs/dissertacao/lib/python3.8/site-packages/pandas/io/parsers.py:948\u001b[0m, in \u001b[0;36mTextFileReader.__init__\u001b[0;34m(self, f, engine, **kwds)\u001b[0m\n\u001b[1;32m    945\u001b[0m \u001b[39mif\u001b[39;00m \u001b[39m\"\u001b[39m\u001b[39mhas_index_names\u001b[39m\u001b[39m\"\u001b[39m \u001b[39min\u001b[39;00m kwds:\n\u001b[1;32m    946\u001b[0m     \u001b[39mself\u001b[39m\u001b[39m.\u001b[39moptions[\u001b[39m\"\u001b[39m\u001b[39mhas_index_names\u001b[39m\u001b[39m\"\u001b[39m] \u001b[39m=\u001b[39m kwds[\u001b[39m\"\u001b[39m\u001b[39mhas_index_names\u001b[39m\u001b[39m\"\u001b[39m]\n\u001b[0;32m--> 948\u001b[0m \u001b[39mself\u001b[39;49m\u001b[39m.\u001b[39;49m_make_engine(\u001b[39mself\u001b[39;49m\u001b[39m.\u001b[39;49mengine)\n",
      "File \u001b[0;32m~/.virtualenvs/dissertacao/lib/python3.8/site-packages/pandas/io/parsers.py:1180\u001b[0m, in \u001b[0;36mTextFileReader._make_engine\u001b[0;34m(self, engine)\u001b[0m\n\u001b[1;32m   1178\u001b[0m \u001b[39mdef\u001b[39;00m \u001b[39m_make_engine\u001b[39m(\u001b[39mself\u001b[39m, engine\u001b[39m=\u001b[39m\u001b[39m\"\u001b[39m\u001b[39mc\u001b[39m\u001b[39m\"\u001b[39m):\n\u001b[1;32m   1179\u001b[0m     \u001b[39mif\u001b[39;00m engine \u001b[39m==\u001b[39m \u001b[39m\"\u001b[39m\u001b[39mc\u001b[39m\u001b[39m\"\u001b[39m:\n\u001b[0;32m-> 1180\u001b[0m         \u001b[39mself\u001b[39m\u001b[39m.\u001b[39m_engine \u001b[39m=\u001b[39m CParserWrapper(\u001b[39mself\u001b[39;49m\u001b[39m.\u001b[39;49mf, \u001b[39m*\u001b[39;49m\u001b[39m*\u001b[39;49m\u001b[39mself\u001b[39;49m\u001b[39m.\u001b[39;49moptions)\n\u001b[1;32m   1181\u001b[0m     \u001b[39melse\u001b[39;00m:\n\u001b[1;32m   1182\u001b[0m         \u001b[39mif\u001b[39;00m engine \u001b[39m==\u001b[39m \u001b[39m\"\u001b[39m\u001b[39mpython\u001b[39m\u001b[39m\"\u001b[39m:\n",
      "File \u001b[0;32m~/.virtualenvs/dissertacao/lib/python3.8/site-packages/pandas/io/parsers.py:2010\u001b[0m, in \u001b[0;36mCParserWrapper.__init__\u001b[0;34m(self, src, **kwds)\u001b[0m\n\u001b[1;32m   2007\u001b[0m \u001b[39mself\u001b[39m\u001b[39m.\u001b[39musecols, \u001b[39mself\u001b[39m\u001b[39m.\u001b[39musecols_dtype \u001b[39m=\u001b[39m _validate_usecols_arg(kwds[\u001b[39m\"\u001b[39m\u001b[39musecols\u001b[39m\u001b[39m\"\u001b[39m])\n\u001b[1;32m   2008\u001b[0m kwds[\u001b[39m\"\u001b[39m\u001b[39musecols\u001b[39m\u001b[39m\"\u001b[39m] \u001b[39m=\u001b[39m \u001b[39mself\u001b[39m\u001b[39m.\u001b[39musecols\n\u001b[0;32m-> 2010\u001b[0m \u001b[39mself\u001b[39m\u001b[39m.\u001b[39m_reader \u001b[39m=\u001b[39m parsers\u001b[39m.\u001b[39;49mTextReader(src, \u001b[39m*\u001b[39;49m\u001b[39m*\u001b[39;49mkwds)\n\u001b[1;32m   2011\u001b[0m \u001b[39mself\u001b[39m\u001b[39m.\u001b[39munnamed_cols \u001b[39m=\u001b[39m \u001b[39mself\u001b[39m\u001b[39m.\u001b[39m_reader\u001b[39m.\u001b[39munnamed_cols\n\u001b[1;32m   2013\u001b[0m passed_names \u001b[39m=\u001b[39m \u001b[39mself\u001b[39m\u001b[39m.\u001b[39mnames \u001b[39mis\u001b[39;00m \u001b[39mNone\u001b[39;00m\n",
      "File \u001b[0;32mpandas/_libs/parsers.pyx:382\u001b[0m, in \u001b[0;36mpandas._libs.parsers.TextReader.__cinit__\u001b[0;34m()\u001b[0m\n",
      "File \u001b[0;32mpandas/_libs/parsers.pyx:674\u001b[0m, in \u001b[0;36mpandas._libs.parsers.TextReader._setup_parser_source\u001b[0;34m()\u001b[0m\n",
      "\u001b[0;31mFileNotFoundError\u001b[0m: [Errno 2] No such file or directory: 'output/amazonkindle_dump/2nd_sample_user_presence_df.csv'"
     ]
    }
   ],
   "source": [
    "user_presence_df = pd.read_csv('output/amazonkindle_dump/2nd_sample_user_presence_df.csv')\n",
    "user_month_interactions = pd.read_csv('output/amazonkindle_dump/2nd_sample_user_month_interactions.csv')\n",
    "frequent_users_month = joblib.load('output/amazonkindle_dump/2nd_sample_frequent_users_month.joblib')"
   ]
  },
  {
   "cell_type": "markdown",
   "metadata": {},
   "source": [
    "___\n",
    "## Experiments using months"
   ]
  },
  {
   "cell_type": "code",
   "execution_count": 14,
   "metadata": {},
   "outputs": [
    {
     "data": {
      "text/plain": [
       "(77145, 4)"
      ]
     },
     "execution_count": 14,
     "metadata": {},
     "output_type": "execute_result"
    }
   ],
   "source": [
    "data.shape"
   ]
  },
  {
   "cell_type": "code",
   "execution_count": 15,
   "metadata": {},
   "outputs": [
    {
     "name": "stdout",
     "output_type": "stream",
     "text": [
      "Creating buckets. . .\n",
      "2014-01-01T00:00:00.000000000\n",
      "2014-02-01T00:00:00.000000000\n",
      "Creating holdouts. . .\n"
     ]
    },
    {
     "ename": "KeyboardInterrupt",
     "evalue": "",
     "output_type": "error",
     "traceback": [
      "\u001b[0;31m---------------------------------------------------------------------------\u001b[0m",
      "\u001b[0;31mKeyboardInterrupt\u001b[0m                         Traceback (most recent call last)",
      "File \u001b[0;32m<timed exec>:2\u001b[0m\n",
      "File \u001b[0;32m~/streamRec-forgetting/notebooks/Experiments for Dissertation/../../data/get_buckets_and_holdouts.py:62\u001b[0m, in \u001b[0;36mgetBucketsHoldouts\u001b[0;34m(data, user_col, item_col, frequent_users, interval_type, intervals, cold_start_buckets)\u001b[0m\n\u001b[1;32m     60\u001b[0m \u001b[39mfor\u001b[39;00m u \u001b[39min\u001b[39;00m frequent_users:\n\u001b[1;32m     61\u001b[0m     idx \u001b[39m=\u001b[39m b[user_col] \u001b[39m==\u001b[39m u\n\u001b[0;32m---> 62\u001b[0m     \u001b[39mif\u001b[39;00m (idx\u001b[39m.\u001b[39;49msum() \u001b[39m==\u001b[39m \u001b[39m1\u001b[39m) \u001b[39mand\u001b[39;00m (u \u001b[39mnot\u001b[39;00m \u001b[39min\u001b[39;00m frequent_users_seen): \u001b[39m# first condition to see if user appears once, second to see if user was not seen before - then it wont go to holdout, and it will be marked as seen\u001b[39;00m\n\u001b[1;32m     63\u001b[0m         frequent_users_seen\u001b[39m.\u001b[39mappend(u)\n\u001b[1;32m     64\u001b[0m         \u001b[39mcontinue\u001b[39;00m\n",
      "File \u001b[0;32m~/.virtualenvs/dissertacao/lib/python3.8/site-packages/pandas/core/generic.py:11428\u001b[0m, in \u001b[0;36m_make_min_count_stat_function.<locals>.stat_func\u001b[0;34m(self, axis, skipna, level, numeric_only, min_count, **kwargs)\u001b[0m\n\u001b[1;32m  11424\u001b[0m \u001b[39mif\u001b[39;00m level \u001b[39mis\u001b[39;00m \u001b[39mnot\u001b[39;00m \u001b[39mNone\u001b[39;00m:\n\u001b[1;32m  11425\u001b[0m     \u001b[39mreturn\u001b[39;00m \u001b[39mself\u001b[39m\u001b[39m.\u001b[39m_agg_by_level(\n\u001b[1;32m  11426\u001b[0m         name, axis\u001b[39m=\u001b[39maxis, level\u001b[39m=\u001b[39mlevel, skipna\u001b[39m=\u001b[39mskipna, min_count\u001b[39m=\u001b[39mmin_count\n\u001b[1;32m  11427\u001b[0m     )\n\u001b[0;32m> 11428\u001b[0m \u001b[39mreturn\u001b[39;00m \u001b[39mself\u001b[39;49m\u001b[39m.\u001b[39;49m_reduce(\n\u001b[1;32m  11429\u001b[0m     func,\n\u001b[1;32m  11430\u001b[0m     name\u001b[39m=\u001b[39;49mname,\n\u001b[1;32m  11431\u001b[0m     axis\u001b[39m=\u001b[39;49maxis,\n\u001b[1;32m  11432\u001b[0m     skipna\u001b[39m=\u001b[39;49mskipna,\n\u001b[1;32m  11433\u001b[0m     numeric_only\u001b[39m=\u001b[39;49mnumeric_only,\n\u001b[1;32m  11434\u001b[0m     min_count\u001b[39m=\u001b[39;49mmin_count,\n\u001b[1;32m  11435\u001b[0m )\n",
      "File \u001b[0;32m~/.virtualenvs/dissertacao/lib/python3.8/site-packages/pandas/core/series.py:4249\u001b[0m, in \u001b[0;36mSeries._reduce\u001b[0;34m(self, op, name, axis, skipna, numeric_only, filter_type, **kwds)\u001b[0m\n\u001b[1;32m   4245\u001b[0m     \u001b[39mraise\u001b[39;00m \u001b[39mNotImplementedError\u001b[39;00m(\n\u001b[1;32m   4246\u001b[0m         \u001b[39mf\u001b[39m\u001b[39m\"\u001b[39m\u001b[39mSeries.\u001b[39m\u001b[39m{\u001b[39;00mname\u001b[39m}\u001b[39;00m\u001b[39m does not implement numeric_only.\u001b[39m\u001b[39m\"\u001b[39m\n\u001b[1;32m   4247\u001b[0m     )\n\u001b[1;32m   4248\u001b[0m \u001b[39mwith\u001b[39;00m np\u001b[39m.\u001b[39merrstate(\u001b[39mall\u001b[39m\u001b[39m=\u001b[39m\u001b[39m\"\u001b[39m\u001b[39mignore\u001b[39m\u001b[39m\"\u001b[39m):\n\u001b[0;32m-> 4249\u001b[0m     \u001b[39mreturn\u001b[39;00m op(delegate, skipna\u001b[39m=\u001b[39;49mskipna, \u001b[39m*\u001b[39;49m\u001b[39m*\u001b[39;49mkwds)\n",
      "File \u001b[0;32m~/.virtualenvs/dissertacao/lib/python3.8/site-packages/pandas/core/nanops.py:71\u001b[0m, in \u001b[0;36mdisallow.__call__.<locals>._f\u001b[0;34m(*args, **kwargs)\u001b[0m\n\u001b[1;32m     69\u001b[0m \u001b[39mtry\u001b[39;00m:\n\u001b[1;32m     70\u001b[0m     \u001b[39mwith\u001b[39;00m np\u001b[39m.\u001b[39merrstate(invalid\u001b[39m=\u001b[39m\u001b[39m\"\u001b[39m\u001b[39mignore\u001b[39m\u001b[39m\"\u001b[39m):\n\u001b[0;32m---> 71\u001b[0m         \u001b[39mreturn\u001b[39;00m f(\u001b[39m*\u001b[39;49margs, \u001b[39m*\u001b[39;49m\u001b[39m*\u001b[39;49mkwargs)\n\u001b[1;32m     72\u001b[0m \u001b[39mexcept\u001b[39;00m \u001b[39mValueError\u001b[39;00m \u001b[39mas\u001b[39;00m e:\n\u001b[1;32m     73\u001b[0m     \u001b[39m# we want to transform an object array\u001b[39;00m\n\u001b[1;32m     74\u001b[0m     \u001b[39m# ValueError message to the more typical TypeError\u001b[39;00m\n\u001b[1;32m     75\u001b[0m     \u001b[39m# e.g. this is normally a disallowed function on\u001b[39;00m\n\u001b[1;32m     76\u001b[0m     \u001b[39m# object arrays that contain strings\u001b[39;00m\n\u001b[1;32m     77\u001b[0m     \u001b[39mif\u001b[39;00m is_object_dtype(args[\u001b[39m0\u001b[39m]):\n",
      "File \u001b[0;32m~/.virtualenvs/dissertacao/lib/python3.8/site-packages/pandas/core/nanops.py:509\u001b[0m, in \u001b[0;36mnansum\u001b[0;34m(values, axis, skipna, min_count, mask)\u001b[0m\n\u001b[1;32m    507\u001b[0m \u001b[39melif\u001b[39;00m is_timedelta64_dtype(dtype):\n\u001b[1;32m    508\u001b[0m     dtype_sum \u001b[39m=\u001b[39m np\u001b[39m.\u001b[39mfloat64\n\u001b[0;32m--> 509\u001b[0m the_sum \u001b[39m=\u001b[39m values\u001b[39m.\u001b[39;49msum(axis, dtype\u001b[39m=\u001b[39;49mdtype_sum)\n\u001b[1;32m    510\u001b[0m the_sum \u001b[39m=\u001b[39m _maybe_null_out(the_sum, axis, mask, values\u001b[39m.\u001b[39mshape, min_count\u001b[39m=\u001b[39mmin_count)\n\u001b[1;32m    512\u001b[0m \u001b[39mreturn\u001b[39;00m _wrap_results(the_sum, dtype)\n",
      "File \u001b[0;32m~/.virtualenvs/dissertacao/lib/python3.8/site-packages/numpy/core/_methods.py:38\u001b[0m, in \u001b[0;36m_sum\u001b[0;34m(a, axis, dtype, out, keepdims, initial, where)\u001b[0m\n\u001b[1;32m     36\u001b[0m \u001b[39mdef\u001b[39;00m \u001b[39m_sum\u001b[39m(a, axis\u001b[39m=\u001b[39m\u001b[39mNone\u001b[39;00m, dtype\u001b[39m=\u001b[39m\u001b[39mNone\u001b[39;00m, out\u001b[39m=\u001b[39m\u001b[39mNone\u001b[39;00m, keepdims\u001b[39m=\u001b[39m\u001b[39mFalse\u001b[39;00m,\n\u001b[1;32m     37\u001b[0m          initial\u001b[39m=\u001b[39m_NoValue, where\u001b[39m=\u001b[39m\u001b[39mTrue\u001b[39;00m):\n\u001b[0;32m---> 38\u001b[0m     \u001b[39mreturn\u001b[39;00m umr_sum(a, axis, dtype, out, keepdims, initial, where)\n",
      "\u001b[0;31mKeyboardInterrupt\u001b[0m: "
     ]
    }
   ],
   "source": [
    "%%time\n",
    "# 8min 30s\n",
    "buckets, holdouts = getBucketsHoldouts(\n",
    "    data=data, # data[ data['date'].dt.month == 1 ],#\n",
    "    user_col=user_col,\n",
    "    item_col=item_col,\n",
    "    frequent_users=data['user_id'].unique(), #frequent_users_month, # for every user in holdout: data['user_id'].unique()\n",
    "    interval_type='M',\n",
    "    intervals=None, \n",
    "    cold_start_buckets=0)"
   ]
  },
  {
   "cell_type": "code",
   "execution_count": null,
   "metadata": {},
   "outputs": [
    {
     "data": {
      "text/plain": [
       "77145"
      ]
     },
     "execution_count": 16,
     "metadata": {},
     "output_type": "execute_result"
    }
   ],
   "source": [
    "sum( [b.size for b in buckets] ) + sum( [h.size for h in holdouts] )"
   ]
  },
  {
   "cell_type": "code",
   "execution_count": null,
   "metadata": {},
   "outputs": [
    {
     "data": {
      "text/plain": [
       "['output/amazonkindle_dump/2nd_sample_holdouts.joblib']"
      ]
     },
     "execution_count": 17,
     "metadata": {},
     "output_type": "execute_result"
    }
   ],
   "source": [
    "joblib.dump(buckets, 'output/amazonkindle_dump/2nd_sample_buckets.joblib')\n",
    "joblib.dump(holdouts, 'output/amazonkindle_dump/2nd_sample_holdouts.joblib')"
   ]
  },
  {
   "cell_type": "markdown",
   "metadata": {},
   "source": [
    "### ISGD"
   ]
  },
  {
   "cell_type": "code",
   "execution_count": 14,
   "metadata": {},
   "outputs": [],
   "source": [
    "buckets = joblib.load('../output/amazonkindle_dump/2nd_sample_buckets.joblib')\n",
    "holdouts = joblib.load('../output/amazonkindle_dump/2nd_sample_holdouts.joblib')"
   ]
  },
  {
   "cell_type": "code",
   "execution_count": 15,
   "metadata": {},
   "outputs": [
    {
     "data": {
      "text/plain": [
       "[(35763, 10295, 29769), (27265, 7296, 22764)]"
      ]
     },
     "execution_count": 15,
     "metadata": {},
     "output_type": "execute_result"
    }
   ],
   "source": [
    "[(b.size, len(b.userset), len(b.itemset)) for b in buckets]"
   ]
  },
  {
   "cell_type": "code",
   "execution_count": 16,
   "metadata": {},
   "outputs": [
    {
     "data": {
      "text/plain": [
       "[(6231, 6231, 5638), (7886, 7886, 7043)]"
      ]
     },
     "execution_count": 16,
     "metadata": {},
     "output_type": "execute_result"
    }
   ],
   "source": [
    "[(b.size, len(b.userset), len(b.itemset)) for b in holdouts]"
   ]
  },
  {
   "cell_type": "markdown",
   "metadata": {},
   "source": [
    "Hyperparameters"
   ]
  },
  {
   "cell_type": "code",
   "execution_count": 22,
   "metadata": {
    "collapsed": true,
    "jupyter": {
     "outputs_hidden": true
    }
   },
   "outputs": [
    {
     "name": "stdout",
     "output_type": "stream",
     "text": [
      "0 1\n",
      "1.1574074074074074 %\n",
      "1 2\n",
      "2.0833333333333335 %\n",
      "2 3\n",
      "3.009259259259259 %\n",
      "3 4\n",
      "4.166666666666667 %\n",
      "4 5\n",
      "5.092592592592593 %\n",
      "5 6\n",
      "6.018518518518518 %\n",
      "6 7\n",
      "7.175925925925926 %\n",
      "7 8\n",
      "8.101851851851851 %\n",
      "8 9\n",
      "9.027777777777779 %\n",
      "9 10\n",
      "10.185185185185185 %\n",
      "10 11\n",
      "11.11111111111111 %\n",
      "11 12\n",
      "12.037037037037036 %\n",
      "12 13\n",
      "13.194444444444445 %\n",
      "13 14\n",
      "14.12037037037037 %\n",
      "14 15\n",
      "15.046296296296296 %\n",
      "15 16\n",
      "16.203703703703702 %\n",
      "16 17\n",
      "17.12962962962963 %\n",
      "17 18\n",
      "18.055555555555557 %\n",
      "18 19\n",
      "19.212962962962962 %\n"
     ]
    },
    {
     "name": "stderr",
     "output_type": "stream",
     "text": [
      "/home/klismam/streamRec-forgetting/notebooks/Experiments for Dissertation/../../recommenders_implicit/ISGD.py:119: RuntimeWarning: overflow encountered in multiply\n",
      "  delta = self.learn_rate * (err * p_u - self.item_regularization * q_i)\n",
      "/home/klismam/streamRec-forgetting/notebooks/Experiments for Dissertation/../../recommenders_implicit/ISGD.py:119: RuntimeWarning: invalid value encountered in subtract\n",
      "  delta = self.learn_rate * (err * p_u - self.item_regularization * q_i)\n",
      "/home/klismam/streamRec-forgetting/notebooks/Experiments for Dissertation/../../recommenders_implicit/ISGD.py:112: RuntimeWarning: overflow encountered in multiply\n",
      "  delta = self.learn_rate * (err * q_i - self.user_regularization * p_u)\n",
      "/home/klismam/streamRec-forgetting/notebooks/Experiments for Dissertation/../../recommenders_implicit/ISGD.py:113: RuntimeWarning: invalid value encountered in add\n",
      "  p_u += delta\n"
     ]
    },
    {
     "name": "stdout",
     "output_type": "stream",
     "text": [
      "19 20\n",
      "20.13888888888889 %\n",
      "20 21\n",
      "21.064814814814813 %\n",
      "21 22\n",
      "22.22222222222222 %\n",
      "22 23\n",
      "23.14814814814815 %\n",
      "23 24\n",
      "24.074074074074073 %\n",
      "24 25\n",
      "25.0 %\n",
      "25 26\n",
      "26.15740740740741 %\n",
      "26 27\n",
      "27.083333333333332 %\n",
      "27 28\n",
      "28.00925925925926 %\n",
      "28 29\n",
      "29.166666666666668 %\n",
      "29 30\n",
      "30.09259259259259 %\n",
      "30 31\n",
      "31.01851851851852 %\n",
      "31 32\n",
      "32.175925925925924 %\n",
      "32 33\n",
      "33.101851851851855 %\n",
      "33 34\n",
      "34.02777777777778 %\n",
      "34 35\n",
      "35.18518518518518 %\n",
      "35 36\n",
      "36.111111111111114 %\n",
      "36 37\n",
      "37.03703703703704 %\n",
      "37 38\n",
      "38.19444444444444 %\n",
      "38 39\n",
      "39.120370370370374 %\n",
      "39 40\n",
      "40.0462962962963 %\n",
      "40 41\n",
      "41.2037037037037 %\n",
      "41 42\n",
      "42.129629629629626 %\n",
      "42 43\n",
      "43.05555555555556 %\n",
      "43 44\n",
      "44.21296296296296 %\n",
      "44 45\n",
      "45.138888888888886 %\n",
      "45 46\n",
      "46.06481481481482 %\n",
      "46 47\n",
      "47.22222222222222 %\n",
      "47 48\n",
      "48.148148148148145 %\n",
      "48 49\n",
      "49.074074074074076 %\n",
      "49 50\n",
      "50.0 %\n",
      "50 51\n",
      "51.157407407407405 %\n",
      "51 52\n",
      "52.083333333333336 %\n",
      "52 53\n",
      "53.00925925925926 %\n",
      "53 54\n",
      "54.166666666666664 %\n",
      "54 55\n",
      "55.092592592592595 %\n",
      "55 56\n",
      "56.01851851851852 %\n",
      "56 57\n",
      "57.175925925925924 %\n",
      "57 58\n",
      "58.101851851851855 %\n",
      "58 59\n",
      "59.02777777777778 %\n",
      "59 60\n",
      "60.18518518518518 %\n",
      "60 61\n",
      "61.111111111111114 %\n",
      "61 62\n",
      "62.03703703703704 %\n",
      "62 63\n",
      "63.19444444444444 %\n",
      "63 64\n",
      "64.12037037037037 %\n",
      "64 65\n",
      "65.04629629629629 %\n",
      "65 66\n",
      "66.20370370370371 %\n",
      "66 67\n",
      "67.12962962962963 %\n",
      "67 68\n",
      "68.05555555555556 %\n",
      "68 69\n",
      "69.21296296296296 %\n",
      "69 70\n",
      "70.13888888888889 %\n",
      "70 71\n",
      "71.06481481481481 %\n",
      "71 72\n",
      "72.22222222222223 %\n",
      "72 73\n",
      "73.14814814814815 %\n",
      "73 74\n",
      "74.07407407407408 %\n",
      "74 75\n",
      "75.0 %\n",
      "75 76\n",
      "76.1574074074074 %\n",
      "76 77\n",
      "77.08333333333333 %\n",
      "77 78\n",
      "78.00925925925925 %\n",
      "78 79\n",
      "79.16666666666667 %\n",
      "79 80\n",
      "80.0925925925926 %\n",
      "80 81\n",
      "81.01851851851852 %\n",
      "81 82\n",
      "82.17592592592592 %\n",
      "82 83\n",
      "83.10185185185185 %\n",
      "83 84\n",
      "84.02777777777777 %\n",
      "84 85\n",
      "85.18518518518519 %\n",
      "85 86\n",
      "86.11111111111111 %\n",
      "86 87\n",
      "87.03703703703704 %\n",
      "87 88\n",
      "88.19444444444444 %\n",
      "88 89\n",
      "89.12037037037037 %\n",
      "89 90\n",
      "90.04629629629629 %\n",
      "90 91\n",
      "91.20370370370371 %\n",
      "91 92\n",
      "92.12962962962963 %\n",
      "92 93\n",
      "93.05555555555556 %\n",
      "93 94\n",
      "94.21296296296296 %\n",
      "94 95\n",
      "95.13888888888889 %\n",
      "95 96\n",
      "96.06481481481481 %\n",
      "96 97\n",
      "97.22222222222223 %\n",
      "97 98\n",
      "98.14814814814815 %\n",
      "98 99\n",
      "99.07407407407408 %\n",
      "432 432 0.003461128860489883\n",
      "(200, 1, 0.5, 0.1, 1)\n",
      "CPU times: user 8h 33min 11s, sys: 1d 2h 47s, total: 1d 10h 33min 59s\n",
      "Wall time: 2h 15min 40s\n"
     ]
    }
   ],
   "source": [
    "%%time\n",
    "import itertools\n",
    "def grid_search(model, stream, random_seed = 10, interleaved=10):    \n",
    "    num_factors = [50, 100, 200]\n",
    "    num_iter = [1, 5, 8]\n",
    "    learn_rate = [0.01, 0.05, 0.1, 0.5]\n",
    "    regularization = [0.01, 0.05, 0.1, 0.5]\n",
    "    num_nodes = [1, 4, 16]\n",
    "    grid = [num_factors, num_iter, learn_rate, regularization, num_nodes]\n",
    "    grid = list(itertools.product(*grid))\n",
    "    results = []\n",
    "    th = 0\n",
    "    for i, hp in enumerate(grid):        \n",
    "        if int( (i*100)/len(grid) ) > th:\n",
    "            print(th, '%')\n",
    "            th += 1\n",
    "        empty_stream = ImplicitData([], [])\n",
    "        nf, ni, lr, reg, nn = hp\n",
    "        m = model(empty_stream, nf, ni, lr, reg, reg, random_seed)\n",
    "        e = EvalPrequential(m, stream, metrics = [\"Recall@N\"])\n",
    "        result = e.Evaluate(start_eval=0, count=stream.size, interleaved=interleaved)\n",
    "        results.append( np.mean(result['Recall@N']) )\n",
    "    return grid, results    \n",
    "\n",
    "# OPTIONAL FOR NOW\n",
    "prop = 0.05\n",
    "hp_sample = data.iloc[:round( data.shape[0]*prop )]\n",
    "stream = ImplicitData(hp_sample[user_col], hp_sample[item_col]) #(data['playlist_id'],data['track_id'])    \n",
    "grid, results = grid_search(model=ISGD, stream=stream, random_seed=10, interleaved=1 )\n",
    "print( len(grid), len(results), max(results) ) # (243, 243, 0.0026656511805026656)\n",
    "\n",
    "print( grid[ np.argmax( results ) ] )"
   ]
  },
  {
   "cell_type": "code",
   "execution_count": 33,
   "metadata": {},
   "outputs": [
    {
     "name": "stdout",
     "output_type": "stream",
     "text": [
      "(200, 1, 0.5, 0.1, 1)\n"
     ]
    }
   ],
   "source": [
    "print( grid[ np.argmax( results ) ] )\n",
    "num_factors, num_iter, learn_rate, regularization, num_nodes = 100, 8, 0.5, 0.3, 4\n",
    "# previous (100, 8, 0.5, 0.3, 4)\n",
    "\n",
    "#  OLD\n",
    "# define hyperparameters (SAME AS LASTFM) ????\n",
    "# num_factors = 160\n",
    "# num_iter = 4\n",
    "# learn_rate = 0.5\n",
    "# regularization = 0.4\n",
    "# num_nodes = 8"
   ]
  },
  {
   "cell_type": "code",
   "execution_count": 34,
   "metadata": {},
   "outputs": [],
   "source": [
    "# transforma interações em objeto que contem mappings usuário-itens e item-usuários, contém também métodos de suporte. recebe listas\n",
    "# stream = ImplicitData(data[user_col], data[item_col])\n",
    "# O modelo deve ser iniciado com uma lista vazia\n",
    "empty_stream = ImplicitData([], [])\n",
    "# Se o stream for passado, ao excluir itens conhecidos o recall é sempre 0. Ao permitir a recomendação de itens já vistos, o recall não é 0.\n",
    "model = ISGD(empty_stream, num_factors, num_iter, learn_rate = learn_rate, u_regularization = regularization, i_regularization = regularization, random_seed = 10)"
   ]
  },
  {
   "cell_type": "code",
   "execution_count": 35,
   "metadata": {},
   "outputs": [],
   "source": [
    "# criamos instancia de EvaluateHoldouts para treinar o modelo e criar checkpoints\n",
    "eval = EvaluateHoldouts(model=model, buckets=buckets, holdouts=holdouts)"
   ]
  },
  {
   "cell_type": "code",
   "execution_count": 36,
   "metadata": {},
   "outputs": [
    {
     "name": "stdout",
     "output_type": "stream",
     "text": [
      "----------------------------------------------------------------------------------------------------\n",
      "Train bucket 0\n",
      "Test Holdout 0\n",
      "Test Holdout 1\n",
      "recommendations not made for users in holdout 1 x checkpoint 0: 1767\n",
      "----------------------------------------------------------------------------------------------------\n",
      "Train bucket 1\n",
      "Test Holdout 0\n",
      "Test Holdout 1\n",
      "CPU times: user 2h 38min 8s, sys: 6h 20min 1s, total: 8h 58min 9s\n",
      "Wall time: 1h 10min 31s\n"
     ]
    }
   ],
   "source": [
    "%%time\n",
    "# 8h 31min 2s\n",
    "eval.Train_Evaluate(N_recommendations=20, exclude_known_items=True, default_user='none')"
   ]
  },
  {
   "cell_type": "code",
   "execution_count": 37,
   "metadata": {},
   "outputs": [
    {
     "data": {
      "image/png": "[encoded data removed]",
      "text/plain": [
       "<Figure size 1080x720 with 2 Axes>"
      ]
     },
     "metadata": {},
     "output_type": "display_data"
    }
   ],
   "source": [
    "#0.0 freq T\n",
    "rm = eval.results_matrix\n",
    "df = pd.DataFrame(rm)\n",
    "df.to_csv('../output/amazonkindle_dump/2nd_sample_amazon_kindle month_bucket ISGD results V2.csv', index=False)\n",
    "\n",
    "recall_heatmap(df,\n",
    "               round_point=3,\n",
    "               title='Recall@20 for ISGD models across Holdouts - Amazon Kindle',\n",
    "               filepath='../images/heatmaps/amazonkindle_dump/2nd_sample_amazon_kindle month_bucket ISGD heatmap V2.png') #='images/heatmaps/palco_2010 month_bucket ISGD heatmap.png'"
   ]
  },
  {
   "cell_type": "code",
   "execution_count": 38,
   "metadata": {},
   "outputs": [
    {
     "data": {
      "text/plain": [
       "0.016909808048269935"
      ]
     },
     "execution_count": 38,
     "metadata": {},
     "output_type": "execute_result"
    }
   ],
   "source": [
    "arecall = avg_recall(df)\n",
    "arecall"
   ]
  },
  {
   "cell_type": "code",
   "execution_count": 39,
   "metadata": {},
   "outputs": [
    {
     "data": {
      "text/plain": [
       "([-0.0019258545979778524], -0.0019258545979778524)"
      ]
     },
     "execution_count": 39,
     "metadata": {},
     "output_type": "execute_result"
    }
   ],
   "source": [
    "BWT, meanBWT = compute_BWT(df)\n",
    "BWT, meanBWT"
   ]
  },
  {
   "cell_type": "code",
   "execution_count": 40,
   "metadata": {},
   "outputs": [
    {
     "data": {
      "text/plain": [
       "0.003431933322438307"
      ]
     },
     "execution_count": 40,
     "metadata": {},
     "output_type": "execute_result"
    }
   ],
   "source": [
    "FWT = compute_FWT(df)\n",
    "FWT\n",
    "# que itens que usuario utilizou no passado e deixou de consumir o sistema ainda pode recomendar"
   ]
  },
  {
   "cell_type": "code",
   "execution_count": 32,
   "metadata": {},
   "outputs": [
    {
     "ename": "FileNotFoundError",
     "evalue": "[Errno 2] No such file or directory: 'output/amazonkindle_dump/2nd_sample_amazon_kindle month_bucket ISGD training time V2.joblib'",
     "output_type": "error",
     "traceback": [
      "\u001b[0;31m---------------------------------------------------------------------------\u001b[0m",
      "\u001b[0;31mFileNotFoundError\u001b[0m                         Traceback (most recent call last)",
      "\u001b[0;32m<ipython-input-32-7d471ffb8cbc>\u001b[0m in \u001b[0;36m<module>\u001b[0;34m\u001b[0m\n\u001b[0;32m----> 1\u001b[0;31m \u001b[0mjoblib\u001b[0m\u001b[0;34m.\u001b[0m\u001b[0mdump\u001b[0m\u001b[0;34m(\u001b[0m\u001b[0meval\u001b[0m\u001b[0;34m.\u001b[0m\u001b[0mIncrementalTraining_time_record\u001b[0m\u001b[0;34m,\u001b[0m \u001b[0;34m'output/amazonkindle_dump/2nd_sample_amazon_kindle month_bucket ISGD training time V2.joblib'\u001b[0m\u001b[0;34m)\u001b[0m\u001b[0;34m\u001b[0m\u001b[0;34m\u001b[0m\u001b[0m\n\u001b[0m\u001b[1;32m      2\u001b[0m \u001b[0mjoblib\u001b[0m\u001b[0;34m.\u001b[0m\u001b[0mdump\u001b[0m\u001b[0;34m(\u001b[0m\u001b[0meval\u001b[0m\u001b[0;34m.\u001b[0m\u001b[0mEvaluateHoldouts_time_record\u001b[0m\u001b[0;34m,\u001b[0m \u001b[0;34m'output/amazonkindle_dump/2nd_sample_amazon_kindle month_bucket ISGD eval time V2.joblib'\u001b[0m\u001b[0;34m)\u001b[0m\u001b[0;34m\u001b[0m\u001b[0;34m\u001b[0m\u001b[0m\n",
      "\u001b[0;32m~/.virtualenvs/dissertacao/lib/python3.6/site-packages/joblib/numpy_pickle.py\u001b[0m in \u001b[0;36mdump\u001b[0;34m(value, filename, compress, protocol, cache_size)\u001b[0m\n\u001b[1;32m    479\u001b[0m             \u001b[0mNumpyPickler\u001b[0m\u001b[0;34m(\u001b[0m\u001b[0mf\u001b[0m\u001b[0;34m,\u001b[0m \u001b[0mprotocol\u001b[0m\u001b[0;34m=\u001b[0m\u001b[0mprotocol\u001b[0m\u001b[0;34m)\u001b[0m\u001b[0;34m.\u001b[0m\u001b[0mdump\u001b[0m\u001b[0;34m(\u001b[0m\u001b[0mvalue\u001b[0m\u001b[0;34m)\u001b[0m\u001b[0;34m\u001b[0m\u001b[0;34m\u001b[0m\u001b[0m\n\u001b[1;32m    480\u001b[0m     \u001b[0;32melif\u001b[0m \u001b[0mis_filename\u001b[0m\u001b[0;34m:\u001b[0m\u001b[0;34m\u001b[0m\u001b[0;34m\u001b[0m\u001b[0m\n\u001b[0;32m--> 481\u001b[0;31m         \u001b[0;32mwith\u001b[0m \u001b[0mopen\u001b[0m\u001b[0;34m(\u001b[0m\u001b[0mfilename\u001b[0m\u001b[0;34m,\u001b[0m \u001b[0;34m'wb'\u001b[0m\u001b[0;34m)\u001b[0m \u001b[0;32mas\u001b[0m \u001b[0mf\u001b[0m\u001b[0;34m:\u001b[0m\u001b[0;34m\u001b[0m\u001b[0;34m\u001b[0m\u001b[0m\n\u001b[0m\u001b[1;32m    482\u001b[0m             \u001b[0mNumpyPickler\u001b[0m\u001b[0;34m(\u001b[0m\u001b[0mf\u001b[0m\u001b[0;34m,\u001b[0m \u001b[0mprotocol\u001b[0m\u001b[0;34m=\u001b[0m\u001b[0mprotocol\u001b[0m\u001b[0;34m)\u001b[0m\u001b[0;34m.\u001b[0m\u001b[0mdump\u001b[0m\u001b[0;34m(\u001b[0m\u001b[0mvalue\u001b[0m\u001b[0;34m)\u001b[0m\u001b[0;34m\u001b[0m\u001b[0;34m\u001b[0m\u001b[0m\n\u001b[1;32m    483\u001b[0m     \u001b[0;32melse\u001b[0m\u001b[0;34m:\u001b[0m\u001b[0;34m\u001b[0m\u001b[0;34m\u001b[0m\u001b[0m\n",
      "\u001b[0;31mFileNotFoundError\u001b[0m: [Errno 2] No such file or directory: 'output/amazonkindle_dump/2nd_sample_amazon_kindle month_bucket ISGD training time V2.joblib'"
     ]
    }
   ],
   "source": [
    "joblib.dump(eval.IncrementalTraining_time_record, 'output/amazonkindle_dump/2nd_sample_amazon_kindle month_bucket ISGD training time V2.joblib')\n",
    "joblib.dump(eval.EvaluateHoldouts_time_record, 'output/amazonkindle_dump/2nd_sample_amazon_kindle month_bucket ISGD eval time V2.joblib')"
   ]
  },
  {
   "cell_type": "code",
   "execution_count": null,
   "metadata": {},
   "outputs": [],
   "source": [
    "import pandas as pd\n",
    "import numpy as np\n",
    "\n",
    "def avg_recall(results_matrix):\n",
    "    return np.mean( np.diag(results_matrix) )\n",
    "\n",
    "def compute_BWT(results_matrix): # Díaz-Rodriguez et al. 2018\n",
    "    diff = []\n",
    "    n_checkpoints = results_matrix.shape[0]\n",
    "    for i in range(1, n_checkpoints): # 1 means holdout 2, 2 means 3, so on\n",
    "        for j in range(i):\n",
    "            Rij = results_matrix.iloc[i,j] # get models performances' on previous holdouts\n",
    "            Rjj = results_matrix.iloc[j,j] # get models performances' on their closest holdouts (diagonal)\n",
    "            # print(Rij, Rjj)\n",
    "            diff.append( Rij - Rjj ) # future models performances' - performances' of models closest to holdouts (diagonal)\n",
    "            # print(diff)\n",
    "    BWT = sum(diff) / ( n_checkpoints*(n_checkpoints-1) / 2 ) # store average BWT for model\n",
    "    return BWT, diff # return BWT and average BWT for all models\n",
    "\n",
    "def compute_FWT(results_matrix): # Díaz-Rodriguez et al. 2018\n",
    "    upper_tri = results_matrix.to_numpy()[np.triu_indices(results_matrix.shape[0], k=1)]\n",
    "    return np.mean(upper_tri)"
   ]
  },
  {
   "cell_type": "code",
   "execution_count": null,
   "metadata": {},
   "outputs": [],
   "source": [
    "df = pd.read_csv('../output/amazonkindle_dump/2nd_sample_amazon_kindle month_bucket ISGD results V2.csv')"
   ]
  },
  {
   "cell_type": "code",
   "execution_count": null,
   "metadata": {},
   "outputs": [
    {
     "data": {
      "text/plain": [
       "0.0169"
      ]
     },
     "execution_count": 3,
     "metadata": {},
     "output_type": "execute_result"
    }
   ],
   "source": [
    "avg_recall(df).round(4)"
   ]
  },
  {
   "cell_type": "code",
   "execution_count": null,
   "metadata": {},
   "outputs": [
    {
     "data": {
      "text/plain": [
       "-0.00193"
      ]
     },
     "execution_count": 4,
     "metadata": {},
     "output_type": "execute_result"
    }
   ],
   "source": [
    "BWT, diff = compute_BWT(df)\n",
    "BWT.round(5)"
   ]
  },
  {
   "cell_type": "code",
   "execution_count": null,
   "metadata": {},
   "outputs": [
    {
     "data": {
      "text/plain": [
       "0.00343"
      ]
     },
     "execution_count": 6,
     "metadata": {},
     "output_type": "execute_result"
    }
   ],
   "source": [
    "compute_FWT(df).round(5)"
   ]
  }
 ],
 "metadata": {
  "kernelspec": {
   "display_name": "dissertacao",
   "language": "python",
   "name": "python3"
  },
  "language_info": {
   "codemirror_mode": {
    "name": "ipython",
    "version": 3
   },
   "file_extension": ".py",
   "mimetype": "text/x-python",
   "name": "python",
   "nbconvert_exporter": "python",
   "pygments_lexer": "ipython3",
   "version": "3.8.10"
  },
  "vscode": {
   "interpreter": {
    "hash": "1587999827224b982432b08a1f15989203be23b6972d137605ee3addee06d4dd"
   }
  }
 },
 "nbformat": 4,
 "nbformat_minor": 4
}
